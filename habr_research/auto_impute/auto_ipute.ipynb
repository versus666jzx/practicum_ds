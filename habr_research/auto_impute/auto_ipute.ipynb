{
 "cells": [
  {
   "cell_type": "markdown",
   "source": [
    "# Сравнение ручного и автоматического заполнения пропусков с помощью моделей\n",
    "\n",
    "![](https://loginom.ru/sites/default/files/social_images/missing-data_1200x630.jpg)\n",
    "\n",
    "В этой статье мы разберем, оценим и сравним методы заполнения пропусков в данных.\n",
    "\n",
    "## Допущения\n",
    "\n",
    "Будем использовать датасет\n",
    "\n",
    " - https://www.kaggle.com/datasets/mirichoi0218/insurance\n",
    "\n",
    "Описание данных:\n",
    "\n",
    " - age: age of primary beneficiary\n",
    " - sex: insurance contractor gender, female, male\n",
    " - bmi: Body mass index, providing an understanding of body, weights that are relatively high or low relative to height,\n",
    " - objective index of body weight (kg / m ^ 2) using the ratio of height to weight, ideally 18.5 to 24.9\n",
    " - children: Number of children covered by health insurance / Number of dependents\n",
    " - smoker: Smoking\n",
    " - region: the beneficiary's residential area in the US, northeast, southeast, southwest, northwest.\n",
    " - charges: Individual medical costs billed by health insurance\n",
    "\n",
    "Сразу отмечу, что восстанавливать целевой признак таким способом - не лучшая идея. Записи с пропуском целевого признака лучше удалить из выборки. Но если все таки рискнуть восстановить, то есть шанс улучшить модель или провести более точный анализ данных :)\n",
    "Предположим, что удалять данные из выборки никак нельзя в силу каких-либо причин. Единственный выход - восстанавливать.\n",
    "\n",
    "## Методика оценки и сравнения\n",
    "\n",
    "На старте исследования мы имеем датасет без пропусков. Датасет имеет как целые, так и вещественные признаки.\n",
    "Удаляем 20% рандомных данных - это и будет наш тест.\n",
    "Оценивать будем с помощью conflusion_matrix и f1 для целых чисел и r2 для вещественных.\n",
    "\n",
    "Ручное заполнение пропусков будет производится с помощью следующих методов:\n",
    " - заполнение данных средним\n",
    " - заполнение данных медианой\n",
    " - заполнение данных самым частотным значением класса\n",
    " - заполнение данных новым классом _unknown_\n",
    " - заполнение данных предыдущим значением (годится например, для временных рядов)\n",
    "\n",
    "Для заполнения данных с помощью моделей будет использовать следующие модели:\n",
    " - линейную регрессию (Ridge)\n",
    " - модель градиентного бустинга (Catboost)\n",
    " - случайный лес (sklearn RandomForest)\n",
    " - модель ближайших соседей (Knei)\n",
    "\n",
    "Смоделируем ситуацию, что пропуски у нас не случайны, удалим данные определенным образом. Посмотрим как с этим справится модель."
   ],
   "metadata": {
    "collapsed": false,
    "pycharm": {
     "name": "#%% md\n"
    }
   }
  },
  {
   "cell_type": "code",
   "execution_count": 331,
   "outputs": [],
   "source": [
    "import pandas as pd\n",
    "import numpy as np\n",
    "\n",
    "from sklearn.experimental import enable_iterative_imputer\n",
    "from sklearn.impute import IterativeImputer, KNNImputer\n",
    "\n",
    "from sklearn.model_selection import StratifiedKFold\n",
    "from sklearn.linear_model import Ridge, RidgeClassifier\n",
    "from sklearn.ensemble import RandomForestRegressor, RandomForestClassifier\n",
    "from sklearn.neighbors import KNeighborsRegressor, KNeighborsClassifier\n",
    "from catboost import CatBoostRegressor, CatBoostClassifier\n",
    "\n",
    "from sklearn.metrics import f1_score, confusion_matrix, r2_score\n",
    "\n",
    "import plotly.express as px\n",
    "import plotly.graph_objects as go"
   ],
   "metadata": {
    "collapsed": false,
    "pycharm": {
     "name": "#%%\n"
    }
   }
  },
  {
   "cell_type": "code",
   "execution_count": 332,
   "outputs": [
    {
     "data": {
      "text/plain": "   age     bmi  children      charges  sex_male  smoker_yes  region_northwest  \\\n0   19  27.900         0  16884.92400         0           1                 0   \n1   18  33.770         1   1725.55230         1           0                 0   \n2   28  33.000         3   4449.46200         1           0                 0   \n3   33  22.705         0  21984.47061         1           0                 1   \n4   32  28.880         0   3866.85520         1           0                 1   \n\n   region_southeast  region_southwest  \n0                 0                 1  \n1                 1                 0  \n2                 1                 0  \n3                 0                 0  \n4                 0                 0  ",
      "text/html": "<div>\n<style scoped>\n    .dataframe tbody tr th:only-of-type {\n        vertical-align: middle;\n    }\n\n    .dataframe tbody tr th {\n        vertical-align: top;\n    }\n\n    .dataframe thead th {\n        text-align: right;\n    }\n</style>\n<table border=\"1\" class=\"dataframe\">\n  <thead>\n    <tr style=\"text-align: right;\">\n      <th></th>\n      <th>age</th>\n      <th>bmi</th>\n      <th>children</th>\n      <th>charges</th>\n      <th>sex_male</th>\n      <th>smoker_yes</th>\n      <th>region_northwest</th>\n      <th>region_southeast</th>\n      <th>region_southwest</th>\n    </tr>\n  </thead>\n  <tbody>\n    <tr>\n      <th>0</th>\n      <td>19</td>\n      <td>27.900</td>\n      <td>0</td>\n      <td>16884.92400</td>\n      <td>0</td>\n      <td>1</td>\n      <td>0</td>\n      <td>0</td>\n      <td>1</td>\n    </tr>\n    <tr>\n      <th>1</th>\n      <td>18</td>\n      <td>33.770</td>\n      <td>1</td>\n      <td>1725.55230</td>\n      <td>1</td>\n      <td>0</td>\n      <td>0</td>\n      <td>1</td>\n      <td>0</td>\n    </tr>\n    <tr>\n      <th>2</th>\n      <td>28</td>\n      <td>33.000</td>\n      <td>3</td>\n      <td>4449.46200</td>\n      <td>1</td>\n      <td>0</td>\n      <td>0</td>\n      <td>1</td>\n      <td>0</td>\n    </tr>\n    <tr>\n      <th>3</th>\n      <td>33</td>\n      <td>22.705</td>\n      <td>0</td>\n      <td>21984.47061</td>\n      <td>1</td>\n      <td>0</td>\n      <td>1</td>\n      <td>0</td>\n      <td>0</td>\n    </tr>\n    <tr>\n      <th>4</th>\n      <td>32</td>\n      <td>28.880</td>\n      <td>0</td>\n      <td>3866.85520</td>\n      <td>1</td>\n      <td>0</td>\n      <td>1</td>\n      <td>0</td>\n      <td>0</td>\n    </tr>\n  </tbody>\n</table>\n</div>"
     },
     "execution_count": 332,
     "metadata": {},
     "output_type": "execute_result"
    }
   ],
   "source": [
    "data = pd.read_csv('insurance.csv')\n",
    "data_dummies = pd.get_dummies(data[['sex', 'smoker', 'region', ]], drop_first=True)\n",
    "data = pd.concat([data, data_dummies], axis=1).drop(['sex', 'smoker', 'region', ], axis=1)\n",
    "data.head()"
   ],
   "metadata": {
    "collapsed": false,
    "pycharm": {
     "name": "#%%\n"
    }
   }
  },
  {
   "cell_type": "code",
   "execution_count": 333,
   "outputs": [
    {
     "data": {
      "text/plain": "(1338, 9)"
     },
     "execution_count": 333,
     "metadata": {},
     "output_type": "execute_result"
    }
   ],
   "source": [
    "data.shape"
   ],
   "metadata": {
    "collapsed": false,
    "pycharm": {
     "name": "#%%\n"
    }
   }
  },
  {
   "cell_type": "markdown",
   "source": [
    "## Для начала решим задачу восстановления пропусков целых чисел"
   ],
   "metadata": {
    "collapsed": false,
    "pycharm": {
     "name": "#%% md\n"
    }
   }
  },
  {
   "cell_type": "code",
   "execution_count": 334,
   "outputs": [],
   "source": [
    "drop_indexes = data.sample(frac=.2).index\n",
    "test = data.iloc[drop_indexes, 0]"
   ],
   "metadata": {
    "collapsed": false,
    "pycharm": {
     "name": "#%%\n"
    }
   }
  },
  {
   "cell_type": "code",
   "execution_count": 335,
   "outputs": [
    {
     "data": {
      "text/plain": "0.014925373134328358"
     },
     "execution_count": 335,
     "metadata": {},
     "output_type": "execute_result"
    }
   ],
   "source": [
    "data.iloc[drop_indexes, 0] = np.NaN\n",
    "data['age'] = data['age'].fillna(data.groupby(by=['sex_male', 'children'])['age'].transform('mean').astype('int'))\n",
    "pred = data.iloc[drop_indexes, 0]\n",
    "f1_score(test, pred, average='micro')"
   ],
   "metadata": {
    "collapsed": false,
    "pycharm": {
     "name": "#%%\n"
    }
   }
  },
  {
   "cell_type": "code",
   "execution_count": 336,
   "outputs": [
    {
     "data": {
      "text/plain": "0.02238805970149254"
     },
     "execution_count": 336,
     "metadata": {},
     "output_type": "execute_result"
    }
   ],
   "source": [
    "data.iloc[drop_indexes, 0] = np.NaN\n",
    "data['age'] = data['age'].fillna(data.groupby(by=['sex_male', 'children'])['age'].transform('median').astype('int'))\n",
    "pred = data.iloc[drop_indexes, 0]\n",
    "f1_score(test, pred, average='micro')"
   ],
   "metadata": {
    "collapsed": false,
    "pycharm": {
     "name": "#%%\n"
    }
   }
  },
  {
   "cell_type": "code",
   "execution_count": 337,
   "outputs": [
    {
     "data": {
      "text/plain": "0.05223880597014925"
     },
     "execution_count": 337,
     "metadata": {},
     "output_type": "execute_result"
    }
   ],
   "source": [
    "data.iloc[drop_indexes, 0] = np.NaN\n",
    "data['age'] = data['age'].fillna(data['age'].mode()[0])\n",
    "pred = data.iloc[drop_indexes, 0]\n",
    "f1_score(test, pred, average='micro')"
   ],
   "metadata": {
    "collapsed": false,
    "pycharm": {
     "name": "#%%\n"
    }
   }
  },
  {
   "cell_type": "code",
   "execution_count": 338,
   "outputs": [
    {
     "data": {
      "text/plain": "0.014925373134328358"
     },
     "execution_count": 338,
     "metadata": {},
     "output_type": "execute_result"
    }
   ],
   "source": [
    "data.iloc[drop_indexes, 0] = np.NaN\n",
    "data['age'] = data['age'].bfill()\n",
    "pred = data.iloc[drop_indexes, 0]\n",
    "f1_score(test, pred, average='micro')"
   ],
   "metadata": {
    "collapsed": false,
    "pycharm": {
     "name": "#%%\n"
    }
   }
  },
  {
   "cell_type": "code",
   "execution_count": 340,
   "outputs": [
    {
     "name": "stderr",
     "output_type": "stream",
     "text": [
      "C:\\Users\\123\\AppData\\Local\\Programs\\Python\\Python310\\lib\\site-packages\\sklearn\\impute\\_iterative.py:699: ConvergenceWarning: [IterativeImputer] Early stopping criterion not reached.\n",
      "  warnings.warn(\n"
     ]
    },
    {
     "data": {
      "text/plain": "0.08582089552238806"
     },
     "execution_count": 340,
     "metadata": {},
     "output_type": "execute_result"
    }
   ],
   "source": [
    "data.iloc[drop_indexes, 0] = np.NaN\n",
    "imputer = IterativeImputer(RandomForestClassifier(n_estimators=400, max_depth=5))\n",
    "imputer.fit(data.drop(['bmi', 'charges'], axis=1))\n",
    "data['age'] = imputer.transform(data.drop(['bmi', 'charges'], axis=1)).astype('int')\n",
    "pred = data.iloc[drop_indexes, 0]\n",
    "f1_score(test, pred, average='micro')"
   ],
   "metadata": {
    "collapsed": false,
    "pycharm": {
     "name": "#%%\n"
    }
   }
  },
  {
   "cell_type": "code",
   "execution_count": 353,
   "outputs": [
    {
     "data": {
      "text/plain": "(21.589625756332772, 46)"
     },
     "execution_count": 353,
     "metadata": {},
     "output_type": "execute_result"
    }
   ],
   "source": [
    "from sklearn.metrics import mean_squared_error, max_error\n",
    "\n",
    "np.sqrt(mean_squared_error(test, pred)), max_error(test, pred)"
   ],
   "metadata": {
    "collapsed": false,
    "pycharm": {
     "name": "#%%\n"
    }
   }
  },
  {
   "cell_type": "code",
   "execution_count": 341,
   "outputs": [
    {
     "data": {
      "text/plain": "     age  age\n95    28   46\n481   49   18\n940   18   18\n842   23   52\n173   35   47\n..   ...  ...\n56    58   45\n14    27   19\n507   21   29\n791   19   19\n760   22   45\n\n[268 rows x 2 columns]",
      "text/html": "<div>\n<style scoped>\n    .dataframe tbody tr th:only-of-type {\n        vertical-align: middle;\n    }\n\n    .dataframe tbody tr th {\n        vertical-align: top;\n    }\n\n    .dataframe thead th {\n        text-align: right;\n    }\n</style>\n<table border=\"1\" class=\"dataframe\">\n  <thead>\n    <tr style=\"text-align: right;\">\n      <th></th>\n      <th>age</th>\n      <th>age</th>\n    </tr>\n  </thead>\n  <tbody>\n    <tr>\n      <th>95</th>\n      <td>28</td>\n      <td>46</td>\n    </tr>\n    <tr>\n      <th>481</th>\n      <td>49</td>\n      <td>18</td>\n    </tr>\n    <tr>\n      <th>940</th>\n      <td>18</td>\n      <td>18</td>\n    </tr>\n    <tr>\n      <th>842</th>\n      <td>23</td>\n      <td>52</td>\n    </tr>\n    <tr>\n      <th>173</th>\n      <td>35</td>\n      <td>47</td>\n    </tr>\n    <tr>\n      <th>...</th>\n      <td>...</td>\n      <td>...</td>\n    </tr>\n    <tr>\n      <th>56</th>\n      <td>58</td>\n      <td>45</td>\n    </tr>\n    <tr>\n      <th>14</th>\n      <td>27</td>\n      <td>19</td>\n    </tr>\n    <tr>\n      <th>507</th>\n      <td>21</td>\n      <td>29</td>\n    </tr>\n    <tr>\n      <th>791</th>\n      <td>19</td>\n      <td>19</td>\n    </tr>\n    <tr>\n      <th>760</th>\n      <td>22</td>\n      <td>45</td>\n    </tr>\n  </tbody>\n</table>\n<p>268 rows × 2 columns</p>\n</div>"
     },
     "execution_count": 341,
     "metadata": {},
     "output_type": "execute_result"
    }
   ],
   "source": [
    "pd.concat([test, pred], axis=1)"
   ],
   "metadata": {
    "collapsed": false,
    "pycharm": {
     "name": "#%%\n"
    }
   }
  }
 ],
 "metadata": {
  "kernelspec": {
   "display_name": "Python 3",
   "language": "python",
   "name": "python3"
  },
  "language_info": {
   "codemirror_mode": {
    "name": "ipython",
    "version": 2
   },
   "file_extension": ".py",
   "mimetype": "text/x-python",
   "name": "python",
   "nbconvert_exporter": "python",
   "pygments_lexer": "ipython2",
   "version": "2.7.6"
  }
 },
 "nbformat": 4,
 "nbformat_minor": 0
}