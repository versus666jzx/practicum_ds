{
 "cells": [
  {
   "cell_type": "markdown",
   "source": [
    "# Сравнение ручного и автоматического заполнения пропусков с помощью моделей\n",
    "\n",
    "![](https://loginom.ru/sites/default/files/social_images/missing-data_1200x630.jpg)\n",
    "\n",
    "В этой статье мы разберем, оценим и сравним методы заполнения пропусков в данных.\n",
    "\n",
    "## Допущения\n",
    "\n",
    "Будем использовать датасет\n",
    "\n",
    " - https://www.kaggle.com/datasets/mirichoi0218/insurance\n",
    "\n",
    "Описание данных:\n",
    "\n",
    " - age: age of primary beneficiary\n",
    " - sex: insurance contractor gender, female, male\n",
    " - bmi: Body mass index, providing an understanding of body, weights that are relatively high or low relative to height,\n",
    " - objective index of body weight (kg / m ^ 2) using the ratio of height to weight, ideally 18.5 to 24.9\n",
    " - children: Number of children covered by health insurance / Number of dependents\n",
    " - smoker: Smoking\n",
    " - region: the beneficiary's residential area in the US, northeast, southeast, southwest, northwest.\n",
    " - charges: Individual medical costs billed by health insurance\n",
    "\n",
    "Сразу отмечу, что восстанавливать целевой признак таким способом - не лучшая идея. Записи с пропуском целевого признака лучше удалить из выборки. Но если все таки рискнуть восстановить, то есть шанс улучшить модель или провести более точный анализ данных :)\n",
    "Предположим, что удалять данные из выборки никак нельзя в силу каких-либо причин. Единственный выход - восстанавливать.\n",
    "\n",
    "## Методика оценки и сравнения\n",
    "\n",
    "На старте исследования мы имеем датасет без пропусков. Датасет имеет как целые, так и вещественные признаки.\n",
    "Удаляем 20% рандомных данных - это и будет наш тест.\n",
    "Оценивать будем с помощью conflusion_matrix и f1 для целых чисел и r2 для вещественных.\n",
    "\n",
    "Ручное заполнение пропусков будет производится с помощью следующих методов:\n",
    " - заполнение данных средним\n",
    " - заполнение данных медианой\n",
    " - заполнение данных самым частотным значением класса\n",
    " - заполнение данных новым классом _unknown_\n",
    " - заполнение данных предыдущим значением (годится например, для временных рядов)\n",
    "\n",
    "Для заполнения данных с помощью моделей будет использовать следующие модели:\n",
    " - линейную регрессию (Ridge)\n",
    " - модель градиентного бустинга (Catboost)\n",
    " - случайный лес (sklearn RandomForest)\n",
    " - модель ближайших соседей (Knei)\n",
    "\n",
    "Смоделируем ситуацию, что пропуски у нас не случайны, удалим данные определенным образом. Посмотрим как с этим справится модель."
   ],
   "metadata": {
    "collapsed": false,
    "pycharm": {
     "name": "#%% md\n"
    }
   }
  },
  {
   "cell_type": "code",
   "execution_count": 1,
   "outputs": [],
   "source": [
    "import pandas as pd\n",
    "import numpy as np\n",
    "\n",
    "from sklearn.experimental import enable_iterative_imputer\n",
    "from sklearn.impute import IterativeImputer, KNNImputer\n",
    "\n",
    "from sklearn.model_selection import StratifiedKFold\n",
    "from sklearn.linear_model import Ridge, RidgeClassifier\n",
    "from sklearn.ensemble import RandomForestRegressor, RandomForestClassifier\n",
    "from sklearn.neighbors import KNeighborsRegressor, KNeighborsClassifier\n",
    "from catboost import CatBoostRegressor, CatBoostClassifier\n",
    "\n",
    "from sklearn.metrics import f1_score, confusion_matrix, r2_score\n",
    "\n",
    "import plotly.express as px\n",
    "import plotly.graph_objects as go"
   ],
   "metadata": {
    "collapsed": false,
    "pycharm": {
     "name": "#%%\n"
    }
   }
  },
  {
   "cell_type": "code",
   "execution_count": 32,
   "outputs": [
    {
     "data": {
      "text/plain": "True"
     },
     "execution_count": 32,
     "metadata": {},
     "output_type": "execute_result"
    }
   ],
   "source": [
    "'y'.isalpha()"
   ],
   "metadata": {
    "collapsed": false,
    "pycharm": {
     "name": "#%%\n"
    }
   }
  },
  {
   "cell_type": "code",
   "execution_count": 93,
   "outputs": [
    {
     "data": {
      "text/plain": "   age     bmi  children      charges  sex_male  smoker_yes  region_northwest  \\\n0   19  27.900         0  16884.92400         0           1                 0   \n1   18  33.770         1   1725.55230         1           0                 0   \n2   28  33.000         3   4449.46200         1           0                 0   \n3   33  22.705         0  21984.47061         1           0                 1   \n4   32  28.880         0   3866.85520         1           0                 1   \n\n   region_southeast  region_southwest  \n0                 0                 1  \n1                 1                 0  \n2                 1                 0  \n3                 0                 0  \n4                 0                 0  ",
      "text/html": "<div>\n<style scoped>\n    .dataframe tbody tr th:only-of-type {\n        vertical-align: middle;\n    }\n\n    .dataframe tbody tr th {\n        vertical-align: top;\n    }\n\n    .dataframe thead th {\n        text-align: right;\n    }\n</style>\n<table border=\"1\" class=\"dataframe\">\n  <thead>\n    <tr style=\"text-align: right;\">\n      <th></th>\n      <th>age</th>\n      <th>bmi</th>\n      <th>children</th>\n      <th>charges</th>\n      <th>sex_male</th>\n      <th>smoker_yes</th>\n      <th>region_northwest</th>\n      <th>region_southeast</th>\n      <th>region_southwest</th>\n    </tr>\n  </thead>\n  <tbody>\n    <tr>\n      <th>0</th>\n      <td>19</td>\n      <td>27.900</td>\n      <td>0</td>\n      <td>16884.92400</td>\n      <td>0</td>\n      <td>1</td>\n      <td>0</td>\n      <td>0</td>\n      <td>1</td>\n    </tr>\n    <tr>\n      <th>1</th>\n      <td>18</td>\n      <td>33.770</td>\n      <td>1</td>\n      <td>1725.55230</td>\n      <td>1</td>\n      <td>0</td>\n      <td>0</td>\n      <td>1</td>\n      <td>0</td>\n    </tr>\n    <tr>\n      <th>2</th>\n      <td>28</td>\n      <td>33.000</td>\n      <td>3</td>\n      <td>4449.46200</td>\n      <td>1</td>\n      <td>0</td>\n      <td>0</td>\n      <td>1</td>\n      <td>0</td>\n    </tr>\n    <tr>\n      <th>3</th>\n      <td>33</td>\n      <td>22.705</td>\n      <td>0</td>\n      <td>21984.47061</td>\n      <td>1</td>\n      <td>0</td>\n      <td>1</td>\n      <td>0</td>\n      <td>0</td>\n    </tr>\n    <tr>\n      <th>4</th>\n      <td>32</td>\n      <td>28.880</td>\n      <td>0</td>\n      <td>3866.85520</td>\n      <td>1</td>\n      <td>0</td>\n      <td>1</td>\n      <td>0</td>\n      <td>0</td>\n    </tr>\n  </tbody>\n</table>\n</div>"
     },
     "execution_count": 93,
     "metadata": {},
     "output_type": "execute_result"
    }
   ],
   "source": [
    "data = pd.read_csv('insurance.csv')\n",
    "data_dummies = pd.get_dummies(data[['sex', 'smoker', 'region', ]], drop_first=True)\n",
    "data = pd.concat([data, data_dummies], axis=1).drop(['sex', 'smoker', 'region', ], axis=1)\n",
    "data.head()"
   ],
   "metadata": {
    "collapsed": false,
    "pycharm": {
     "name": "#%%\n"
    }
   }
  },
  {
   "cell_type": "code",
   "execution_count": 94,
   "outputs": [
    {
     "data": {
      "text/plain": "(1338, 9)"
     },
     "execution_count": 94,
     "metadata": {},
     "output_type": "execute_result"
    }
   ],
   "source": [
    "data.shape"
   ],
   "metadata": {
    "collapsed": false,
    "pycharm": {
     "name": "#%%\n"
    }
   }
  },
  {
   "cell_type": "markdown",
   "source": [
    "## Для начала решим задачу восстановления пропусков целых чисел"
   ],
   "metadata": {
    "collapsed": false,
    "pycharm": {
     "name": "#%% md\n"
    }
   }
  },
  {
   "cell_type": "code",
   "execution_count": 95,
   "outputs": [],
   "source": [
    "drop_indexes = data.sample(frac=.2).index\n",
    "test = data.iloc[drop_indexes, 0]"
   ],
   "metadata": {
    "collapsed": false,
    "pycharm": {
     "name": "#%%\n"
    }
   }
  },
  {
   "cell_type": "code",
   "execution_count": 96,
   "outputs": [
    {
     "data": {
      "text/plain": "0.02238805970149254"
     },
     "execution_count": 96,
     "metadata": {},
     "output_type": "execute_result"
    }
   ],
   "source": [
    "data.iloc[drop_indexes, 0] = np.NaN\n",
    "data['age'] = data['age'].fillna(data.groupby(by=['sex_male', 'children'])['age'].transform('mean').astype('int'))\n",
    "pred = data.iloc[drop_indexes, 0]\n",
    "f1_score(test, pred, average='micro')"
   ],
   "metadata": {
    "collapsed": false,
    "pycharm": {
     "name": "#%%\n"
    }
   }
  },
  {
   "cell_type": "code",
   "execution_count": 97,
   "outputs": [
    {
     "data": {
      "text/plain": "0.033582089552238806"
     },
     "execution_count": 97,
     "metadata": {},
     "output_type": "execute_result"
    }
   ],
   "source": [
    "data.iloc[drop_indexes, 0] = np.NaN\n",
    "data['age'] = data['age'].fillna(data.groupby(by=['sex_male', 'children'])['age'].transform('median').astype('int'))\n",
    "pred = data.iloc[drop_indexes, 0]\n",
    "f1_score(test, pred, average='micro')"
   ],
   "metadata": {
    "collapsed": false,
    "pycharm": {
     "name": "#%%\n"
    }
   }
  },
  {
   "cell_type": "code",
   "execution_count": 98,
   "outputs": [
    {
     "data": {
      "text/plain": "0.03731343283582089"
     },
     "execution_count": 98,
     "metadata": {},
     "output_type": "execute_result"
    }
   ],
   "source": [
    "data.iloc[drop_indexes, 0] = np.NaN\n",
    "data['age'] = data['age'].fillna(data['age'].mode()[0])\n",
    "pred = data.iloc[drop_indexes, 0]\n",
    "f1_score(test, pred, average='micro')"
   ],
   "metadata": {
    "collapsed": false,
    "pycharm": {
     "name": "#%%\n"
    }
   }
  },
  {
   "cell_type": "code",
   "execution_count": 99,
   "outputs": [
    {
     "data": {
      "text/plain": "0.018656716417910446"
     },
     "execution_count": 99,
     "metadata": {},
     "output_type": "execute_result"
    }
   ],
   "source": [
    "data.iloc[drop_indexes, 0] = np.NaN\n",
    "data['age'] = data['age'].bfill()\n",
    "pred = data.iloc[drop_indexes, 0]\n",
    "f1_score(test, pred, average='micro')"
   ],
   "metadata": {
    "collapsed": false,
    "pycharm": {
     "name": "#%%\n"
    }
   }
  },
  {
   "cell_type": "code",
   "execution_count": 142,
   "outputs": [
    {
     "data": {
      "text/plain": "0.029850746268656716"
     },
     "execution_count": 142,
     "metadata": {},
     "output_type": "execute_result"
    }
   ],
   "source": [
    "data.iloc[drop_indexes, 0] = np.NaN\n",
    "\n",
    "imputer = IterativeImputer()\n",
    "data['age'] = imputer.fit_transform(data.drop(['bmi', 'charges'], axis=1)).astype('int')\n",
    "pred = data.iloc[drop_indexes, 0]\n",
    "pred = pred.rename('age_pred')\n",
    "f1_score(test, pred, average='micro')"
   ],
   "metadata": {
    "collapsed": false,
    "pycharm": {
     "name": "#%%\n"
    }
   }
  },
  {
   "cell_type": "code",
   "execution_count": 143,
   "outputs": [
    {
     "data": {
      "text/plain": "(14.489960497664601, 26)"
     },
     "execution_count": 143,
     "metadata": {},
     "output_type": "execute_result"
    }
   ],
   "source": [
    "from sklearn.metrics import mean_squared_error, max_error\n",
    "\n",
    "np.sqrt(mean_squared_error(test, pred)), max_error(test, pred)"
   ],
   "metadata": {
    "collapsed": false,
    "pycharm": {
     "name": "#%%\n"
    }
   }
  },
  {
   "cell_type": "code",
   "execution_count": 144,
   "outputs": [
    {
     "data": {
      "application/vnd.plotly.v1+json": {
       "data": [
        {
         "mode": "markers",
         "name": "Test",
         "x": [
          882,
          680,
          887,
          573,
          183,
          420,
          233,
          133,
          1259,
          811,
          244,
          223,
          1332,
          764,
          620,
          1190,
          199,
          205,
          228,
          955,
          1241,
          756,
          1115,
          1002,
          1316,
          1095,
          1157,
          830,
          704,
          745,
          99,
          1278,
          379,
          945,
          163,
          792,
          1172,
          1207,
          266,
          984,
          312,
          330,
          531,
          787,
          128,
          316,
          139,
          908,
          898,
          26,
          892,
          839,
          1333,
          944,
          513,
          885,
          171,
          278,
          1122,
          1245,
          643,
          596,
          542,
          1206,
          877,
          1328,
          65,
          1074,
          296,
          1061,
          479,
          93,
          62,
          40,
          692,
          604,
          34,
          63,
          1171,
          1053,
          18,
          161,
          796,
          110,
          947,
          782,
          127,
          645,
          710,
          1331,
          335,
          969,
          977,
          1323,
          88,
          1,
          761,
          419,
          417,
          159,
          1210,
          528,
          1077,
          1167,
          1243,
          474,
          1166,
          50,
          523,
          1284,
          86,
          1275,
          931,
          783,
          965,
          251,
          1320,
          543,
          1112,
          132,
          553,
          954,
          1091,
          284,
          117,
          1222,
          669,
          952,
          1308,
          819,
          1066,
          393,
          658,
          269,
          899,
          1287,
          1093,
          1047,
          1162,
          910,
          226,
          642,
          514,
          209,
          95,
          551,
          1256,
          1045,
          988,
          1293,
          1132,
          359,
          147,
          870,
          535,
          497,
          920,
          890,
          784,
          921,
          328,
          114,
          97,
          993,
          707,
          823,
          889,
          270,
          176,
          1191,
          351,
          548,
          731,
          194,
          333,
          286,
          219,
          772,
          544,
          217,
          1085,
          1160,
          580,
          873,
          103,
          874,
          778,
          432,
          235,
          331,
          207,
          1067,
          728,
          569,
          936,
          1075,
          1003,
          599,
          1159,
          1033,
          192,
          454,
          259,
          352,
          834,
          1174,
          1253,
          121,
          564,
          6,
          517,
          507,
          458,
          685,
          822,
          879,
          675,
          935,
          960,
          1079,
          588,
          673,
          230,
          1192,
          759,
          589,
          683,
          1240,
          435,
          1266,
          983,
          262,
          647,
          743,
          407,
          157,
          691,
          105,
          67,
          866,
          1021,
          368,
          595,
          221,
          671,
          459,
          489,
          1069,
          1181,
          74,
          440,
          806,
          760,
          167,
          70,
          593,
          583,
          315,
          1182,
          1150,
          456,
          1073,
          1296,
          1125,
          218,
          291,
          660,
          934
         ],
         "y": [
          21,
          21,
          36,
          62,
          44,
          64,
          59,
          19,
          52,
          33,
          63,
          19,
          52,
          45,
          30,
          31,
          64,
          28,
          41,
          31,
          64,
          39,
          55,
          24,
          19,
          18,
          23,
          63,
          47,
          50,
          38,
          39,
          62,
          56,
          32,
          22,
          56,
          36,
          40,
          20,
          43,
          61,
          62,
          21,
          32,
          50,
          22,
          63,
          18,
          63,
          54,
          59,
          50,
          62,
          19,
          32,
          49,
          59,
          53,
          28,
          23,
          42,
          63,
          59,
          33,
          23,
          19,
          60,
          19,
          57,
          23,
          35,
          64,
          24,
          20,
          19,
          28,
          28,
          43,
          47,
          56,
          18,
          30,
          54,
          37,
          51,
          52,
          48,
          18,
          23,
          64,
          39,
          26,
          42,
          46,
          18,
          23,
          63,
          36,
          50,
          36,
          46,
          21,
          29,
          28,
          54,
          57,
          18,
          38,
          61,
          57,
          57,
          39,
          50,
          35,
          63,
          31,
          54,
          48,
          53,
          52,
          34,
          55,
          52,
          29,
          50,
          40,
          30,
          25,
          33,
          48,
          49,
          48,
          49,
          19,
          36,
          22,
          22,
          30,
          22,
          28,
          61,
          39,
          40,
          28,
          32,
          51,
          43,
          34,
          46,
          57,
          18,
          51,
          50,
          38,
          45,
          62,
          64,
          31,
          62,
          64,
          52,
          55,
          38,
          49,
          44,
          57,
          18,
          38,
          41,
          50,
          25,
          53,
          18,
          56,
          46,
          24,
          44,
          54,
          27,
          39,
          43,
          59,
          43,
          61,
          44,
          35,
          42,
          40,
          52,
          35,
          39,
          18,
          48,
          44,
          32,
          48,
          52,
          32,
          18,
          25,
          32,
          19,
          30,
          36,
          29,
          40,
          18,
          18,
          46,
          45,
          21,
          56,
          53,
          18,
          37,
          45,
          59,
          19,
          63,
          61,
          41,
          42,
          58,
          18,
          38,
          53,
          52,
          60,
          55,
          27,
          52,
          40,
          31,
          47,
          18,
          47,
          20,
          40,
          18,
          22,
          44,
          46,
          53,
          29,
          40,
          53,
          54,
          24,
          44,
          31,
          40,
          22,
          32,
          27,
          21,
          32,
          52,
          25,
          18,
          55,
          54,
          18,
          63,
          26,
          29,
          37,
          32
         ],
         "type": "scatter"
        },
        {
         "mode": "markers",
         "name": "Pred",
         "x": [
          882,
          680,
          887,
          573,
          183,
          420,
          233,
          133,
          1259,
          811,
          244,
          223,
          1332,
          764,
          620,
          1190,
          199,
          205,
          228,
          955,
          1241,
          756,
          1115,
          1002,
          1316,
          1095,
          1157,
          830,
          704,
          745,
          99,
          1278,
          379,
          945,
          163,
          792,
          1172,
          1207,
          266,
          984,
          312,
          330,
          531,
          787,
          128,
          316,
          139,
          908,
          898,
          26,
          892,
          839,
          1333,
          944,
          513,
          885,
          171,
          278,
          1122,
          1245,
          643,
          596,
          542,
          1206,
          877,
          1328,
          65,
          1074,
          296,
          1061,
          479,
          93,
          62,
          40,
          692,
          604,
          34,
          63,
          1171,
          1053,
          18,
          161,
          796,
          110,
          947,
          782,
          127,
          645,
          710,
          1331,
          335,
          969,
          977,
          1323,
          88,
          1,
          761,
          419,
          417,
          159,
          1210,
          528,
          1077,
          1167,
          1243,
          474,
          1166,
          50,
          523,
          1284,
          86,
          1275,
          931,
          783,
          965,
          251,
          1320,
          543,
          1112,
          132,
          553,
          954,
          1091,
          284,
          117,
          1222,
          669,
          952,
          1308,
          819,
          1066,
          393,
          658,
          269,
          899,
          1287,
          1093,
          1047,
          1162,
          910,
          226,
          642,
          514,
          209,
          95,
          551,
          1256,
          1045,
          988,
          1293,
          1132,
          359,
          147,
          870,
          535,
          497,
          920,
          890,
          784,
          921,
          328,
          114,
          97,
          993,
          707,
          823,
          889,
          270,
          176,
          1191,
          351,
          548,
          731,
          194,
          333,
          286,
          219,
          772,
          544,
          217,
          1085,
          1160,
          580,
          873,
          103,
          874,
          778,
          432,
          235,
          331,
          207,
          1067,
          728,
          569,
          936,
          1075,
          1003,
          599,
          1159,
          1033,
          192,
          454,
          259,
          352,
          834,
          1174,
          1253,
          121,
          564,
          6,
          517,
          507,
          458,
          685,
          822,
          879,
          675,
          935,
          960,
          1079,
          588,
          673,
          230,
          1192,
          759,
          589,
          683,
          1240,
          435,
          1266,
          983,
          262,
          647,
          743,
          407,
          157,
          691,
          105,
          67,
          866,
          1021,
          368,
          595,
          221,
          671,
          459,
          489,
          1069,
          1181,
          74,
          440,
          806,
          760,
          167,
          70,
          593,
          583,
          315,
          1182,
          1150,
          456,
          1073,
          1296,
          1125,
          218,
          291,
          660,
          934
         ],
         "y": [
          38,
          38,
          38,
          38,
          38,
          38,
          38,
          38,
          38,
          39,
          38,
          38,
          39,
          39,
          38,
          39,
          38,
          38,
          38,
          38,
          39,
          39,
          38,
          38,
          38,
          39,
          39,
          38,
          38,
          38,
          38,
          38,
          38,
          38,
          39,
          38,
          38,
          39,
          38,
          39,
          39,
          38,
          38,
          38,
          39,
          38,
          38,
          39,
          38,
          38,
          38,
          38,
          39,
          38,
          38,
          38,
          38,
          39,
          39,
          39,
          39,
          39,
          38,
          39,
          39,
          39,
          38,
          38,
          38,
          38,
          38,
          39,
          38,
          38,
          38,
          38,
          38,
          38,
          39,
          39,
          38,
          38,
          39,
          38,
          38,
          38,
          38,
          39,
          38,
          38,
          38,
          39,
          38,
          39,
          38,
          38,
          38,
          38,
          39,
          39,
          38,
          38,
          38,
          39,
          38,
          39,
          38,
          38,
          38,
          38,
          38,
          38,
          38,
          38,
          38,
          39,
          39,
          38,
          39,
          39,
          39,
          38,
          38,
          38,
          38,
          38,
          38,
          38,
          38,
          38,
          39,
          38,
          38,
          38,
          38,
          38,
          38,
          38,
          38,
          38,
          38,
          38,
          38,
          38,
          38,
          38,
          39,
          39,
          38,
          39,
          38,
          38,
          38,
          38,
          38,
          39,
          38,
          38,
          38,
          38,
          38,
          39,
          38,
          38,
          39,
          39,
          38,
          38,
          39,
          38,
          38,
          38,
          38,
          38,
          38,
          39,
          38,
          38,
          38,
          38,
          39,
          38,
          38,
          38,
          39,
          39,
          39,
          38,
          39,
          38,
          39,
          38,
          38,
          39,
          39,
          38,
          38,
          39,
          38,
          38,
          38,
          39,
          38,
          38,
          38,
          39,
          39,
          38,
          39,
          38,
          39,
          39,
          38,
          39,
          38,
          39,
          38,
          38,
          38,
          39,
          38,
          38,
          38,
          38,
          38,
          38,
          38,
          39,
          39,
          38,
          38,
          39,
          39,
          38,
          38,
          38,
          38,
          38,
          38,
          38,
          39,
          39,
          38,
          38,
          38,
          39,
          38,
          38,
          38,
          39,
          38,
          38,
          39,
          39,
          38,
          38,
          38,
          38,
          38,
          38,
          39,
          39,
          38,
          38,
          38,
          38,
          39,
          39
         ],
         "type": "scatter"
        }
       ],
       "layout": {
        "template": {
         "data": {
          "histogram2dcontour": [
           {
            "type": "histogram2dcontour",
            "colorbar": {
             "outlinewidth": 0,
             "ticks": ""
            },
            "colorscale": [
             [
              0.0,
              "#0d0887"
             ],
             [
              0.1111111111111111,
              "#46039f"
             ],
             [
              0.2222222222222222,
              "#7201a8"
             ],
             [
              0.3333333333333333,
              "#9c179e"
             ],
             [
              0.4444444444444444,
              "#bd3786"
             ],
             [
              0.5555555555555556,
              "#d8576b"
             ],
             [
              0.6666666666666666,
              "#ed7953"
             ],
             [
              0.7777777777777778,
              "#fb9f3a"
             ],
             [
              0.8888888888888888,
              "#fdca26"
             ],
             [
              1.0,
              "#f0f921"
             ]
            ]
           }
          ],
          "choropleth": [
           {
            "type": "choropleth",
            "colorbar": {
             "outlinewidth": 0,
             "ticks": ""
            }
           }
          ],
          "histogram2d": [
           {
            "type": "histogram2d",
            "colorbar": {
             "outlinewidth": 0,
             "ticks": ""
            },
            "colorscale": [
             [
              0.0,
              "#0d0887"
             ],
             [
              0.1111111111111111,
              "#46039f"
             ],
             [
              0.2222222222222222,
              "#7201a8"
             ],
             [
              0.3333333333333333,
              "#9c179e"
             ],
             [
              0.4444444444444444,
              "#bd3786"
             ],
             [
              0.5555555555555556,
              "#d8576b"
             ],
             [
              0.6666666666666666,
              "#ed7953"
             ],
             [
              0.7777777777777778,
              "#fb9f3a"
             ],
             [
              0.8888888888888888,
              "#fdca26"
             ],
             [
              1.0,
              "#f0f921"
             ]
            ]
           }
          ],
          "heatmap": [
           {
            "type": "heatmap",
            "colorbar": {
             "outlinewidth": 0,
             "ticks": ""
            },
            "colorscale": [
             [
              0.0,
              "#0d0887"
             ],
             [
              0.1111111111111111,
              "#46039f"
             ],
             [
              0.2222222222222222,
              "#7201a8"
             ],
             [
              0.3333333333333333,
              "#9c179e"
             ],
             [
              0.4444444444444444,
              "#bd3786"
             ],
             [
              0.5555555555555556,
              "#d8576b"
             ],
             [
              0.6666666666666666,
              "#ed7953"
             ],
             [
              0.7777777777777778,
              "#fb9f3a"
             ],
             [
              0.8888888888888888,
              "#fdca26"
             ],
             [
              1.0,
              "#f0f921"
             ]
            ]
           }
          ],
          "heatmapgl": [
           {
            "type": "heatmapgl",
            "colorbar": {
             "outlinewidth": 0,
             "ticks": ""
            },
            "colorscale": [
             [
              0.0,
              "#0d0887"
             ],
             [
              0.1111111111111111,
              "#46039f"
             ],
             [
              0.2222222222222222,
              "#7201a8"
             ],
             [
              0.3333333333333333,
              "#9c179e"
             ],
             [
              0.4444444444444444,
              "#bd3786"
             ],
             [
              0.5555555555555556,
              "#d8576b"
             ],
             [
              0.6666666666666666,
              "#ed7953"
             ],
             [
              0.7777777777777778,
              "#fb9f3a"
             ],
             [
              0.8888888888888888,
              "#fdca26"
             ],
             [
              1.0,
              "#f0f921"
             ]
            ]
           }
          ],
          "contourcarpet": [
           {
            "type": "contourcarpet",
            "colorbar": {
             "outlinewidth": 0,
             "ticks": ""
            }
           }
          ],
          "contour": [
           {
            "type": "contour",
            "colorbar": {
             "outlinewidth": 0,
             "ticks": ""
            },
            "colorscale": [
             [
              0.0,
              "#0d0887"
             ],
             [
              0.1111111111111111,
              "#46039f"
             ],
             [
              0.2222222222222222,
              "#7201a8"
             ],
             [
              0.3333333333333333,
              "#9c179e"
             ],
             [
              0.4444444444444444,
              "#bd3786"
             ],
             [
              0.5555555555555556,
              "#d8576b"
             ],
             [
              0.6666666666666666,
              "#ed7953"
             ],
             [
              0.7777777777777778,
              "#fb9f3a"
             ],
             [
              0.8888888888888888,
              "#fdca26"
             ],
             [
              1.0,
              "#f0f921"
             ]
            ]
           }
          ],
          "surface": [
           {
            "type": "surface",
            "colorbar": {
             "outlinewidth": 0,
             "ticks": ""
            },
            "colorscale": [
             [
              0.0,
              "#0d0887"
             ],
             [
              0.1111111111111111,
              "#46039f"
             ],
             [
              0.2222222222222222,
              "#7201a8"
             ],
             [
              0.3333333333333333,
              "#9c179e"
             ],
             [
              0.4444444444444444,
              "#bd3786"
             ],
             [
              0.5555555555555556,
              "#d8576b"
             ],
             [
              0.6666666666666666,
              "#ed7953"
             ],
             [
              0.7777777777777778,
              "#fb9f3a"
             ],
             [
              0.8888888888888888,
              "#fdca26"
             ],
             [
              1.0,
              "#f0f921"
             ]
            ]
           }
          ],
          "mesh3d": [
           {
            "type": "mesh3d",
            "colorbar": {
             "outlinewidth": 0,
             "ticks": ""
            }
           }
          ],
          "scatter": [
           {
            "marker": {
             "line": {
              "color": "#283442"
             }
            },
            "type": "scatter"
           }
          ],
          "parcoords": [
           {
            "type": "parcoords",
            "line": {
             "colorbar": {
              "outlinewidth": 0,
              "ticks": ""
             }
            }
           }
          ],
          "scatterpolargl": [
           {
            "type": "scatterpolargl",
            "marker": {
             "colorbar": {
              "outlinewidth": 0,
              "ticks": ""
             }
            }
           }
          ],
          "bar": [
           {
            "error_x": {
             "color": "#f2f5fa"
            },
            "error_y": {
             "color": "#f2f5fa"
            },
            "marker": {
             "line": {
              "color": "rgb(17,17,17)",
              "width": 0.5
             },
             "pattern": {
              "fillmode": "overlay",
              "size": 10,
              "solidity": 0.2
             }
            },
            "type": "bar"
           }
          ],
          "scattergeo": [
           {
            "type": "scattergeo",
            "marker": {
             "colorbar": {
              "outlinewidth": 0,
              "ticks": ""
             }
            }
           }
          ],
          "scatterpolar": [
           {
            "type": "scatterpolar",
            "marker": {
             "colorbar": {
              "outlinewidth": 0,
              "ticks": ""
             }
            }
           }
          ],
          "histogram": [
           {
            "marker": {
             "pattern": {
              "fillmode": "overlay",
              "size": 10,
              "solidity": 0.2
             }
            },
            "type": "histogram"
           }
          ],
          "scattergl": [
           {
            "marker": {
             "line": {
              "color": "#283442"
             }
            },
            "type": "scattergl"
           }
          ],
          "scatter3d": [
           {
            "type": "scatter3d",
            "line": {
             "colorbar": {
              "outlinewidth": 0,
              "ticks": ""
             }
            },
            "marker": {
             "colorbar": {
              "outlinewidth": 0,
              "ticks": ""
             }
            }
           }
          ],
          "scattermapbox": [
           {
            "type": "scattermapbox",
            "marker": {
             "colorbar": {
              "outlinewidth": 0,
              "ticks": ""
             }
            }
           }
          ],
          "scatterternary": [
           {
            "type": "scatterternary",
            "marker": {
             "colorbar": {
              "outlinewidth": 0,
              "ticks": ""
             }
            }
           }
          ],
          "scattercarpet": [
           {
            "type": "scattercarpet",
            "marker": {
             "colorbar": {
              "outlinewidth": 0,
              "ticks": ""
             }
            }
           }
          ],
          "carpet": [
           {
            "aaxis": {
             "endlinecolor": "#A2B1C6",
             "gridcolor": "#506784",
             "linecolor": "#506784",
             "minorgridcolor": "#506784",
             "startlinecolor": "#A2B1C6"
            },
            "baxis": {
             "endlinecolor": "#A2B1C6",
             "gridcolor": "#506784",
             "linecolor": "#506784",
             "minorgridcolor": "#506784",
             "startlinecolor": "#A2B1C6"
            },
            "type": "carpet"
           }
          ],
          "table": [
           {
            "cells": {
             "fill": {
              "color": "#506784"
             },
             "line": {
              "color": "rgb(17,17,17)"
             }
            },
            "header": {
             "fill": {
              "color": "#2a3f5f"
             },
             "line": {
              "color": "rgb(17,17,17)"
             }
            },
            "type": "table"
           }
          ],
          "barpolar": [
           {
            "marker": {
             "line": {
              "color": "rgb(17,17,17)",
              "width": 0.5
             },
             "pattern": {
              "fillmode": "overlay",
              "size": 10,
              "solidity": 0.2
             }
            },
            "type": "barpolar"
           }
          ],
          "pie": [
           {
            "automargin": true,
            "type": "pie"
           }
          ]
         },
         "layout": {
          "autotypenumbers": "strict",
          "colorway": [
           "#636efa",
           "#EF553B",
           "#00cc96",
           "#ab63fa",
           "#FFA15A",
           "#19d3f3",
           "#FF6692",
           "#B6E880",
           "#FF97FF",
           "#FECB52"
          ],
          "font": {
           "color": "#f2f5fa"
          },
          "hovermode": "closest",
          "hoverlabel": {
           "align": "left"
          },
          "paper_bgcolor": "rgb(17,17,17)",
          "plot_bgcolor": "rgb(17,17,17)",
          "polar": {
           "bgcolor": "rgb(17,17,17)",
           "angularaxis": {
            "gridcolor": "#506784",
            "linecolor": "#506784",
            "ticks": ""
           },
           "radialaxis": {
            "gridcolor": "#506784",
            "linecolor": "#506784",
            "ticks": ""
           }
          },
          "ternary": {
           "bgcolor": "rgb(17,17,17)",
           "aaxis": {
            "gridcolor": "#506784",
            "linecolor": "#506784",
            "ticks": ""
           },
           "baxis": {
            "gridcolor": "#506784",
            "linecolor": "#506784",
            "ticks": ""
           },
           "caxis": {
            "gridcolor": "#506784",
            "linecolor": "#506784",
            "ticks": ""
           }
          },
          "coloraxis": {
           "colorbar": {
            "outlinewidth": 0,
            "ticks": ""
           }
          },
          "colorscale": {
           "sequential": [
            [
             0.0,
             "#0d0887"
            ],
            [
             0.1111111111111111,
             "#46039f"
            ],
            [
             0.2222222222222222,
             "#7201a8"
            ],
            [
             0.3333333333333333,
             "#9c179e"
            ],
            [
             0.4444444444444444,
             "#bd3786"
            ],
            [
             0.5555555555555556,
             "#d8576b"
            ],
            [
             0.6666666666666666,
             "#ed7953"
            ],
            [
             0.7777777777777778,
             "#fb9f3a"
            ],
            [
             0.8888888888888888,
             "#fdca26"
            ],
            [
             1.0,
             "#f0f921"
            ]
           ],
           "sequentialminus": [
            [
             0.0,
             "#0d0887"
            ],
            [
             0.1111111111111111,
             "#46039f"
            ],
            [
             0.2222222222222222,
             "#7201a8"
            ],
            [
             0.3333333333333333,
             "#9c179e"
            ],
            [
             0.4444444444444444,
             "#bd3786"
            ],
            [
             0.5555555555555556,
             "#d8576b"
            ],
            [
             0.6666666666666666,
             "#ed7953"
            ],
            [
             0.7777777777777778,
             "#fb9f3a"
            ],
            [
             0.8888888888888888,
             "#fdca26"
            ],
            [
             1.0,
             "#f0f921"
            ]
           ],
           "diverging": [
            [
             0,
             "#8e0152"
            ],
            [
             0.1,
             "#c51b7d"
            ],
            [
             0.2,
             "#de77ae"
            ],
            [
             0.3,
             "#f1b6da"
            ],
            [
             0.4,
             "#fde0ef"
            ],
            [
             0.5,
             "#f7f7f7"
            ],
            [
             0.6,
             "#e6f5d0"
            ],
            [
             0.7,
             "#b8e186"
            ],
            [
             0.8,
             "#7fbc41"
            ],
            [
             0.9,
             "#4d9221"
            ],
            [
             1,
             "#276419"
            ]
           ]
          },
          "xaxis": {
           "gridcolor": "#283442",
           "linecolor": "#506784",
           "ticks": "",
           "title": {
            "standoff": 15
           },
           "zerolinecolor": "#283442",
           "automargin": true,
           "zerolinewidth": 2
          },
          "yaxis": {
           "gridcolor": "#283442",
           "linecolor": "#506784",
           "ticks": "",
           "title": {
            "standoff": 15
           },
           "zerolinecolor": "#283442",
           "automargin": true,
           "zerolinewidth": 2
          },
          "scene": {
           "xaxis": {
            "backgroundcolor": "rgb(17,17,17)",
            "gridcolor": "#506784",
            "linecolor": "#506784",
            "showbackground": true,
            "ticks": "",
            "zerolinecolor": "#C8D4E3",
            "gridwidth": 2
           },
           "yaxis": {
            "backgroundcolor": "rgb(17,17,17)",
            "gridcolor": "#506784",
            "linecolor": "#506784",
            "showbackground": true,
            "ticks": "",
            "zerolinecolor": "#C8D4E3",
            "gridwidth": 2
           },
           "zaxis": {
            "backgroundcolor": "rgb(17,17,17)",
            "gridcolor": "#506784",
            "linecolor": "#506784",
            "showbackground": true,
            "ticks": "",
            "zerolinecolor": "#C8D4E3",
            "gridwidth": 2
           }
          },
          "shapedefaults": {
           "line": {
            "color": "#f2f5fa"
           }
          },
          "annotationdefaults": {
           "arrowcolor": "#f2f5fa",
           "arrowhead": 0,
           "arrowwidth": 1
          },
          "geo": {
           "bgcolor": "rgb(17,17,17)",
           "landcolor": "rgb(17,17,17)",
           "subunitcolor": "#506784",
           "showland": true,
           "showlakes": true,
           "lakecolor": "rgb(17,17,17)"
          },
          "title": {
           "x": 0.05
          },
          "updatemenudefaults": {
           "bgcolor": "#506784",
           "borderwidth": 0
          },
          "sliderdefaults": {
           "bgcolor": "#C8D4E3",
           "borderwidth": 1,
           "bordercolor": "rgb(17,17,17)",
           "tickwidth": 0
          },
          "mapbox": {
           "style": "dark"
          }
         }
        }
       },
       "config": {
        "plotlyServerURL": "https://plot.ly"
       }
      },
      "text/html": "<div>                            <div id=\"df3b050d-fd13-4790-bd09-021c4e0d7b5b\" class=\"plotly-graph-div\" style=\"height:525px; width:100%;\"></div>            <script type=\"text/javascript\">                require([\"plotly\"], function(Plotly) {                    window.PLOTLYENV=window.PLOTLYENV || {};                                    if (document.getElementById(\"df3b050d-fd13-4790-bd09-021c4e0d7b5b\")) {                    Plotly.newPlot(                        \"df3b050d-fd13-4790-bd09-021c4e0d7b5b\",                        [{\"mode\":\"markers\",\"name\":\"Test\",\"x\":[882,680,887,573,183,420,233,133,1259,811,244,223,1332,764,620,1190,199,205,228,955,1241,756,1115,1002,1316,1095,1157,830,704,745,99,1278,379,945,163,792,1172,1207,266,984,312,330,531,787,128,316,139,908,898,26,892,839,1333,944,513,885,171,278,1122,1245,643,596,542,1206,877,1328,65,1074,296,1061,479,93,62,40,692,604,34,63,1171,1053,18,161,796,110,947,782,127,645,710,1331,335,969,977,1323,88,1,761,419,417,159,1210,528,1077,1167,1243,474,1166,50,523,1284,86,1275,931,783,965,251,1320,543,1112,132,553,954,1091,284,117,1222,669,952,1308,819,1066,393,658,269,899,1287,1093,1047,1162,910,226,642,514,209,95,551,1256,1045,988,1293,1132,359,147,870,535,497,920,890,784,921,328,114,97,993,707,823,889,270,176,1191,351,548,731,194,333,286,219,772,544,217,1085,1160,580,873,103,874,778,432,235,331,207,1067,728,569,936,1075,1003,599,1159,1033,192,454,259,352,834,1174,1253,121,564,6,517,507,458,685,822,879,675,935,960,1079,588,673,230,1192,759,589,683,1240,435,1266,983,262,647,743,407,157,691,105,67,866,1021,368,595,221,671,459,489,1069,1181,74,440,806,760,167,70,593,583,315,1182,1150,456,1073,1296,1125,218,291,660,934],\"y\":[21,21,36,62,44,64,59,19,52,33,63,19,52,45,30,31,64,28,41,31,64,39,55,24,19,18,23,63,47,50,38,39,62,56,32,22,56,36,40,20,43,61,62,21,32,50,22,63,18,63,54,59,50,62,19,32,49,59,53,28,23,42,63,59,33,23,19,60,19,57,23,35,64,24,20,19,28,28,43,47,56,18,30,54,37,51,52,48,18,23,64,39,26,42,46,18,23,63,36,50,36,46,21,29,28,54,57,18,38,61,57,57,39,50,35,63,31,54,48,53,52,34,55,52,29,50,40,30,25,33,48,49,48,49,19,36,22,22,30,22,28,61,39,40,28,32,51,43,34,46,57,18,51,50,38,45,62,64,31,62,64,52,55,38,49,44,57,18,38,41,50,25,53,18,56,46,24,44,54,27,39,43,59,43,61,44,35,42,40,52,35,39,18,48,44,32,48,52,32,18,25,32,19,30,36,29,40,18,18,46,45,21,56,53,18,37,45,59,19,63,61,41,42,58,18,38,53,52,60,55,27,52,40,31,47,18,47,20,40,18,22,44,46,53,29,40,53,54,24,44,31,40,22,32,27,21,32,52,25,18,55,54,18,63,26,29,37,32],\"type\":\"scatter\"},{\"mode\":\"markers\",\"name\":\"Pred\",\"x\":[882,680,887,573,183,420,233,133,1259,811,244,223,1332,764,620,1190,199,205,228,955,1241,756,1115,1002,1316,1095,1157,830,704,745,99,1278,379,945,163,792,1172,1207,266,984,312,330,531,787,128,316,139,908,898,26,892,839,1333,944,513,885,171,278,1122,1245,643,596,542,1206,877,1328,65,1074,296,1061,479,93,62,40,692,604,34,63,1171,1053,18,161,796,110,947,782,127,645,710,1331,335,969,977,1323,88,1,761,419,417,159,1210,528,1077,1167,1243,474,1166,50,523,1284,86,1275,931,783,965,251,1320,543,1112,132,553,954,1091,284,117,1222,669,952,1308,819,1066,393,658,269,899,1287,1093,1047,1162,910,226,642,514,209,95,551,1256,1045,988,1293,1132,359,147,870,535,497,920,890,784,921,328,114,97,993,707,823,889,270,176,1191,351,548,731,194,333,286,219,772,544,217,1085,1160,580,873,103,874,778,432,235,331,207,1067,728,569,936,1075,1003,599,1159,1033,192,454,259,352,834,1174,1253,121,564,6,517,507,458,685,822,879,675,935,960,1079,588,673,230,1192,759,589,683,1240,435,1266,983,262,647,743,407,157,691,105,67,866,1021,368,595,221,671,459,489,1069,1181,74,440,806,760,167,70,593,583,315,1182,1150,456,1073,1296,1125,218,291,660,934],\"y\":[38,38,38,38,38,38,38,38,38,39,38,38,39,39,38,39,38,38,38,38,39,39,38,38,38,39,39,38,38,38,38,38,38,38,39,38,38,39,38,39,39,38,38,38,39,38,38,39,38,38,38,38,39,38,38,38,38,39,39,39,39,39,38,39,39,39,38,38,38,38,38,39,38,38,38,38,38,38,39,39,38,38,39,38,38,38,38,39,38,38,38,39,38,39,38,38,38,38,39,39,38,38,38,39,38,39,38,38,38,38,38,38,38,38,38,39,39,38,39,39,39,38,38,38,38,38,38,38,38,38,39,38,38,38,38,38,38,38,38,38,38,38,38,38,38,38,39,39,38,39,38,38,38,38,38,39,38,38,38,38,38,39,38,38,39,39,38,38,39,38,38,38,38,38,38,39,38,38,38,38,39,38,38,38,39,39,39,38,39,38,39,38,38,39,39,38,38,39,38,38,38,39,38,38,38,39,39,38,39,38,39,39,38,39,38,39,38,38,38,39,38,38,38,38,38,38,38,39,39,38,38,39,39,38,38,38,38,38,38,38,39,39,38,38,38,39,38,38,38,39,38,38,39,39,38,38,38,38,38,38,39,39,38,38,38,38,39,39],\"type\":\"scatter\"}],                        {\"template\":{\"data\":{\"histogram2dcontour\":[{\"type\":\"histogram2dcontour\",\"colorbar\":{\"outlinewidth\":0,\"ticks\":\"\"},\"colorscale\":[[0.0,\"#0d0887\"],[0.1111111111111111,\"#46039f\"],[0.2222222222222222,\"#7201a8\"],[0.3333333333333333,\"#9c179e\"],[0.4444444444444444,\"#bd3786\"],[0.5555555555555556,\"#d8576b\"],[0.6666666666666666,\"#ed7953\"],[0.7777777777777778,\"#fb9f3a\"],[0.8888888888888888,\"#fdca26\"],[1.0,\"#f0f921\"]]}],\"choropleth\":[{\"type\":\"choropleth\",\"colorbar\":{\"outlinewidth\":0,\"ticks\":\"\"}}],\"histogram2d\":[{\"type\":\"histogram2d\",\"colorbar\":{\"outlinewidth\":0,\"ticks\":\"\"},\"colorscale\":[[0.0,\"#0d0887\"],[0.1111111111111111,\"#46039f\"],[0.2222222222222222,\"#7201a8\"],[0.3333333333333333,\"#9c179e\"],[0.4444444444444444,\"#bd3786\"],[0.5555555555555556,\"#d8576b\"],[0.6666666666666666,\"#ed7953\"],[0.7777777777777778,\"#fb9f3a\"],[0.8888888888888888,\"#fdca26\"],[1.0,\"#f0f921\"]]}],\"heatmap\":[{\"type\":\"heatmap\",\"colorbar\":{\"outlinewidth\":0,\"ticks\":\"\"},\"colorscale\":[[0.0,\"#0d0887\"],[0.1111111111111111,\"#46039f\"],[0.2222222222222222,\"#7201a8\"],[0.3333333333333333,\"#9c179e\"],[0.4444444444444444,\"#bd3786\"],[0.5555555555555556,\"#d8576b\"],[0.6666666666666666,\"#ed7953\"],[0.7777777777777778,\"#fb9f3a\"],[0.8888888888888888,\"#fdca26\"],[1.0,\"#f0f921\"]]}],\"heatmapgl\":[{\"type\":\"heatmapgl\",\"colorbar\":{\"outlinewidth\":0,\"ticks\":\"\"},\"colorscale\":[[0.0,\"#0d0887\"],[0.1111111111111111,\"#46039f\"],[0.2222222222222222,\"#7201a8\"],[0.3333333333333333,\"#9c179e\"],[0.4444444444444444,\"#bd3786\"],[0.5555555555555556,\"#d8576b\"],[0.6666666666666666,\"#ed7953\"],[0.7777777777777778,\"#fb9f3a\"],[0.8888888888888888,\"#fdca26\"],[1.0,\"#f0f921\"]]}],\"contourcarpet\":[{\"type\":\"contourcarpet\",\"colorbar\":{\"outlinewidth\":0,\"ticks\":\"\"}}],\"contour\":[{\"type\":\"contour\",\"colorbar\":{\"outlinewidth\":0,\"ticks\":\"\"},\"colorscale\":[[0.0,\"#0d0887\"],[0.1111111111111111,\"#46039f\"],[0.2222222222222222,\"#7201a8\"],[0.3333333333333333,\"#9c179e\"],[0.4444444444444444,\"#bd3786\"],[0.5555555555555556,\"#d8576b\"],[0.6666666666666666,\"#ed7953\"],[0.7777777777777778,\"#fb9f3a\"],[0.8888888888888888,\"#fdca26\"],[1.0,\"#f0f921\"]]}],\"surface\":[{\"type\":\"surface\",\"colorbar\":{\"outlinewidth\":0,\"ticks\":\"\"},\"colorscale\":[[0.0,\"#0d0887\"],[0.1111111111111111,\"#46039f\"],[0.2222222222222222,\"#7201a8\"],[0.3333333333333333,\"#9c179e\"],[0.4444444444444444,\"#bd3786\"],[0.5555555555555556,\"#d8576b\"],[0.6666666666666666,\"#ed7953\"],[0.7777777777777778,\"#fb9f3a\"],[0.8888888888888888,\"#fdca26\"],[1.0,\"#f0f921\"]]}],\"mesh3d\":[{\"type\":\"mesh3d\",\"colorbar\":{\"outlinewidth\":0,\"ticks\":\"\"}}],\"scatter\":[{\"marker\":{\"line\":{\"color\":\"#283442\"}},\"type\":\"scatter\"}],\"parcoords\":[{\"type\":\"parcoords\",\"line\":{\"colorbar\":{\"outlinewidth\":0,\"ticks\":\"\"}}}],\"scatterpolargl\":[{\"type\":\"scatterpolargl\",\"marker\":{\"colorbar\":{\"outlinewidth\":0,\"ticks\":\"\"}}}],\"bar\":[{\"error_x\":{\"color\":\"#f2f5fa\"},\"error_y\":{\"color\":\"#f2f5fa\"},\"marker\":{\"line\":{\"color\":\"rgb(17,17,17)\",\"width\":0.5},\"pattern\":{\"fillmode\":\"overlay\",\"size\":10,\"solidity\":0.2}},\"type\":\"bar\"}],\"scattergeo\":[{\"type\":\"scattergeo\",\"marker\":{\"colorbar\":{\"outlinewidth\":0,\"ticks\":\"\"}}}],\"scatterpolar\":[{\"type\":\"scatterpolar\",\"marker\":{\"colorbar\":{\"outlinewidth\":0,\"ticks\":\"\"}}}],\"histogram\":[{\"marker\":{\"pattern\":{\"fillmode\":\"overlay\",\"size\":10,\"solidity\":0.2}},\"type\":\"histogram\"}],\"scattergl\":[{\"marker\":{\"line\":{\"color\":\"#283442\"}},\"type\":\"scattergl\"}],\"scatter3d\":[{\"type\":\"scatter3d\",\"line\":{\"colorbar\":{\"outlinewidth\":0,\"ticks\":\"\"}},\"marker\":{\"colorbar\":{\"outlinewidth\":0,\"ticks\":\"\"}}}],\"scattermapbox\":[{\"type\":\"scattermapbox\",\"marker\":{\"colorbar\":{\"outlinewidth\":0,\"ticks\":\"\"}}}],\"scatterternary\":[{\"type\":\"scatterternary\",\"marker\":{\"colorbar\":{\"outlinewidth\":0,\"ticks\":\"\"}}}],\"scattercarpet\":[{\"type\":\"scattercarpet\",\"marker\":{\"colorbar\":{\"outlinewidth\":0,\"ticks\":\"\"}}}],\"carpet\":[{\"aaxis\":{\"endlinecolor\":\"#A2B1C6\",\"gridcolor\":\"#506784\",\"linecolor\":\"#506784\",\"minorgridcolor\":\"#506784\",\"startlinecolor\":\"#A2B1C6\"},\"baxis\":{\"endlinecolor\":\"#A2B1C6\",\"gridcolor\":\"#506784\",\"linecolor\":\"#506784\",\"minorgridcolor\":\"#506784\",\"startlinecolor\":\"#A2B1C6\"},\"type\":\"carpet\"}],\"table\":[{\"cells\":{\"fill\":{\"color\":\"#506784\"},\"line\":{\"color\":\"rgb(17,17,17)\"}},\"header\":{\"fill\":{\"color\":\"#2a3f5f\"},\"line\":{\"color\":\"rgb(17,17,17)\"}},\"type\":\"table\"}],\"barpolar\":[{\"marker\":{\"line\":{\"color\":\"rgb(17,17,17)\",\"width\":0.5},\"pattern\":{\"fillmode\":\"overlay\",\"size\":10,\"solidity\":0.2}},\"type\":\"barpolar\"}],\"pie\":[{\"automargin\":true,\"type\":\"pie\"}]},\"layout\":{\"autotypenumbers\":\"strict\",\"colorway\":[\"#636efa\",\"#EF553B\",\"#00cc96\",\"#ab63fa\",\"#FFA15A\",\"#19d3f3\",\"#FF6692\",\"#B6E880\",\"#FF97FF\",\"#FECB52\"],\"font\":{\"color\":\"#f2f5fa\"},\"hovermode\":\"closest\",\"hoverlabel\":{\"align\":\"left\"},\"paper_bgcolor\":\"rgb(17,17,17)\",\"plot_bgcolor\":\"rgb(17,17,17)\",\"polar\":{\"bgcolor\":\"rgb(17,17,17)\",\"angularaxis\":{\"gridcolor\":\"#506784\",\"linecolor\":\"#506784\",\"ticks\":\"\"},\"radialaxis\":{\"gridcolor\":\"#506784\",\"linecolor\":\"#506784\",\"ticks\":\"\"}},\"ternary\":{\"bgcolor\":\"rgb(17,17,17)\",\"aaxis\":{\"gridcolor\":\"#506784\",\"linecolor\":\"#506784\",\"ticks\":\"\"},\"baxis\":{\"gridcolor\":\"#506784\",\"linecolor\":\"#506784\",\"ticks\":\"\"},\"caxis\":{\"gridcolor\":\"#506784\",\"linecolor\":\"#506784\",\"ticks\":\"\"}},\"coloraxis\":{\"colorbar\":{\"outlinewidth\":0,\"ticks\":\"\"}},\"colorscale\":{\"sequential\":[[0.0,\"#0d0887\"],[0.1111111111111111,\"#46039f\"],[0.2222222222222222,\"#7201a8\"],[0.3333333333333333,\"#9c179e\"],[0.4444444444444444,\"#bd3786\"],[0.5555555555555556,\"#d8576b\"],[0.6666666666666666,\"#ed7953\"],[0.7777777777777778,\"#fb9f3a\"],[0.8888888888888888,\"#fdca26\"],[1.0,\"#f0f921\"]],\"sequentialminus\":[[0.0,\"#0d0887\"],[0.1111111111111111,\"#46039f\"],[0.2222222222222222,\"#7201a8\"],[0.3333333333333333,\"#9c179e\"],[0.4444444444444444,\"#bd3786\"],[0.5555555555555556,\"#d8576b\"],[0.6666666666666666,\"#ed7953\"],[0.7777777777777778,\"#fb9f3a\"],[0.8888888888888888,\"#fdca26\"],[1.0,\"#f0f921\"]],\"diverging\":[[0,\"#8e0152\"],[0.1,\"#c51b7d\"],[0.2,\"#de77ae\"],[0.3,\"#f1b6da\"],[0.4,\"#fde0ef\"],[0.5,\"#f7f7f7\"],[0.6,\"#e6f5d0\"],[0.7,\"#b8e186\"],[0.8,\"#7fbc41\"],[0.9,\"#4d9221\"],[1,\"#276419\"]]},\"xaxis\":{\"gridcolor\":\"#283442\",\"linecolor\":\"#506784\",\"ticks\":\"\",\"title\":{\"standoff\":15},\"zerolinecolor\":\"#283442\",\"automargin\":true,\"zerolinewidth\":2},\"yaxis\":{\"gridcolor\":\"#283442\",\"linecolor\":\"#506784\",\"ticks\":\"\",\"title\":{\"standoff\":15},\"zerolinecolor\":\"#283442\",\"automargin\":true,\"zerolinewidth\":2},\"scene\":{\"xaxis\":{\"backgroundcolor\":\"rgb(17,17,17)\",\"gridcolor\":\"#506784\",\"linecolor\":\"#506784\",\"showbackground\":true,\"ticks\":\"\",\"zerolinecolor\":\"#C8D4E3\",\"gridwidth\":2},\"yaxis\":{\"backgroundcolor\":\"rgb(17,17,17)\",\"gridcolor\":\"#506784\",\"linecolor\":\"#506784\",\"showbackground\":true,\"ticks\":\"\",\"zerolinecolor\":\"#C8D4E3\",\"gridwidth\":2},\"zaxis\":{\"backgroundcolor\":\"rgb(17,17,17)\",\"gridcolor\":\"#506784\",\"linecolor\":\"#506784\",\"showbackground\":true,\"ticks\":\"\",\"zerolinecolor\":\"#C8D4E3\",\"gridwidth\":2}},\"shapedefaults\":{\"line\":{\"color\":\"#f2f5fa\"}},\"annotationdefaults\":{\"arrowcolor\":\"#f2f5fa\",\"arrowhead\":0,\"arrowwidth\":1},\"geo\":{\"bgcolor\":\"rgb(17,17,17)\",\"landcolor\":\"rgb(17,17,17)\",\"subunitcolor\":\"#506784\",\"showland\":true,\"showlakes\":true,\"lakecolor\":\"rgb(17,17,17)\"},\"title\":{\"x\":0.05},\"updatemenudefaults\":{\"bgcolor\":\"#506784\",\"borderwidth\":0},\"sliderdefaults\":{\"bgcolor\":\"#C8D4E3\",\"borderwidth\":1,\"bordercolor\":\"rgb(17,17,17)\",\"tickwidth\":0},\"mapbox\":{\"style\":\"dark\"}}}},                        {\"responsive\": true}                    ).then(function(){\n                            \nvar gd = document.getElementById('df3b050d-fd13-4790-bd09-021c4e0d7b5b');\nvar x = new MutationObserver(function (mutations, observer) {{\n        var display = window.getComputedStyle(gd).display;\n        if (!display || display === 'none') {{\n            console.log([gd, 'removed!']);\n            Plotly.purge(gd);\n            observer.disconnect();\n        }}\n}});\n\n// Listen for the removal of the full notebook cells\nvar notebookContainer = gd.closest('#notebook-container');\nif (notebookContainer) {{\n    x.observe(notebookContainer, {childList: true});\n}}\n\n// Listen for the clearing of the current output cell\nvar outputEl = gd.closest('.output');\nif (outputEl) {{\n    x.observe(outputEl, {childList: true});\n}}\n\n                        })                };                });            </script>        </div>"
     },
     "metadata": {},
     "output_type": "display_data"
    }
   ],
   "source": [
    "fig = go.Figure()\n",
    "\n",
    "fig.add_trace(go.Scatter(x=test.index, y=test,  mode='markers', name='Test'))\n",
    "\n",
    "fig.add_trace(go.Scatter(x=pred.index, y=pred, mode='markers', name='Pred'))\n",
    "\n",
    "fig.show()"
   ],
   "metadata": {
    "collapsed": false,
    "pycharm": {
     "name": "#%%\n"
    }
   }
  }
 ],
 "metadata": {
  "kernelspec": {
   "display_name": "Python 3",
   "language": "python",
   "name": "python3"
  },
  "language_info": {
   "codemirror_mode": {
    "name": "ipython",
    "version": 2
   },
   "file_extension": ".py",
   "mimetype": "text/x-python",
   "name": "python",
   "nbconvert_exporter": "python",
   "pygments_lexer": "ipython2",
   "version": "2.7.6"
  }
 },
 "nbformat": 4,
 "nbformat_minor": 0
}