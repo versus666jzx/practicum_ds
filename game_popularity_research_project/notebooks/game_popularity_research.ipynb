{
 "cells": [
  {
   "cell_type": "markdown",
   "source": [
    "## Описание проекта\n",
    "\n",
    "Из открытых источников доступны исторические данные о продажах игр интернет-магазина «Стримчик», который продаёт по всему миру компьютерные игры,\n",
    "оценки пользователей и экспертов, жанры и платформы (например, Xbox или PlayStation).\n",
    "Нужно выявить определяющие успешность игры закономерности. Это позволит сделать ставку на потенциально популярный продукт и спланировать рекламные кампании.\n",
    "\n",
    "Перед вами данные до 2016 года. Представим, что сейчас декабрь 2016 г., и вы планируете кампанию на 2017-й. Нужно отработать принцип работы с данными.\n",
    "Неважно, прогнозируете ли вы продажи на 2017 год по данным 2016-го или же 2027-й — по данным 2026 года.\n",
    "В наборе данных попадается аббревиатура ESRB (Entertainment Software Rating Board) — это ассоциация, определяющая возрастной рейтинг компьютерных игр.\n",
    "ESRB оценивает игровой контент и присваивает ему подходящую возрастную категорию, например, «Для взрослых», «Для детей младшего возраста» или «Для подростков».\n",
    "\n",
    "\n",
    "## Цель проекта\n",
    "\n",
    "Выявить определяющие успешность игры закономерности, с целью сделать ставку на потенциально популярный продукт и спланировать рекламные кампании.\n",
    "\n",
    "### Описание данных\n",
    "\n",
    "•\tName — название игры\n",
    "•\tPlatform — платформа\n",
    "•\tYear_of_Release — год выпуска\n",
    "•\tGenre — жанр игры\n",
    "•\tNA_sales — продажи в Северной Америке (миллионы проданных копий)\n",
    "•\tEU_sales — продажи в Европе (миллионы проданных копий)\n",
    "•\tJP_sales — продажи в Японии (миллионы проданных копий)\n",
    "•\tOther_sales — продажи в других странах (миллионы проданных копий)\n",
    "•\tCritic_Score — оценка критиков (максимум 100)\n",
    "•\tUser_Score — оценка пользователей (максимум 10)\n",
    "•\tRating — рейтинг от организации ESRB (англ. Entertainment Software Rating Board). Эта ассоциация определяет рейтинг компьютерных игр и присваивает им подходящую возрастную категорию.\n"
   ],
   "metadata": {
    "collapsed": false
   }
  },
  {
   "cell_type": "code",
   "execution_count": 23,
   "metadata": {
    "collapsed": true
   },
   "outputs": [
    {
     "name": "stderr",
     "output_type": "stream",
     "text": [
      "UsageError: Line magic function `%` not found.\n"
     ]
    }
   ],
   "source": [
    "import pandas as pd\n",
    "import numpy as np\n",
    "import plotly\n",
    "import plotly.graph_objs as go\n",
    "import plotly.express as px\n",
    "from scipy import stats as st\n",
    "\n",
    "% matplotlib inline"
   ]
  },
  {
   "cell_type": "code",
   "execution_count": 50,
   "outputs": [
    {
     "data": {
      "text/plain": "                       name platform  year_of_release         genre  na_sales  \\\n0                Wii Sports      Wii           2006.0        Sports     41.36   \n1         Super Mario Bros.      NES           1985.0      Platform     29.08   \n2            Mario Kart Wii      Wii           2008.0        Racing     15.68   \n3         Wii Sports Resort      Wii           2009.0        Sports     15.61   \n4  Pokemon Red/Pokemon Blue       GB           1996.0  Role-Playing     11.27   \n\n   eu_sales  jp_sales  other_sales  critic_score user_score rating  \n0     28.96      3.77         8.45          76.0          8      E  \n1      3.58      6.81         0.77           NaN        NaN    NaN  \n2     12.76      3.79         3.29          82.0        8.3      E  \n3     10.93      3.28         2.95          80.0          8      E  \n4      8.89     10.22         1.00           NaN        NaN    NaN  ",
      "text/html": "<div>\n<style scoped>\n    .dataframe tbody tr th:only-of-type {\n        vertical-align: middle;\n    }\n\n    .dataframe tbody tr th {\n        vertical-align: top;\n    }\n\n    .dataframe thead th {\n        text-align: right;\n    }\n</style>\n<table border=\"1\" class=\"dataframe\">\n  <thead>\n    <tr style=\"text-align: right;\">\n      <th></th>\n      <th>name</th>\n      <th>platform</th>\n      <th>year_of_release</th>\n      <th>genre</th>\n      <th>na_sales</th>\n      <th>eu_sales</th>\n      <th>jp_sales</th>\n      <th>other_sales</th>\n      <th>critic_score</th>\n      <th>user_score</th>\n      <th>rating</th>\n    </tr>\n  </thead>\n  <tbody>\n    <tr>\n      <th>0</th>\n      <td>Wii Sports</td>\n      <td>Wii</td>\n      <td>2006.0</td>\n      <td>Sports</td>\n      <td>41.36</td>\n      <td>28.96</td>\n      <td>3.77</td>\n      <td>8.45</td>\n      <td>76.0</td>\n      <td>8</td>\n      <td>E</td>\n    </tr>\n    <tr>\n      <th>1</th>\n      <td>Super Mario Bros.</td>\n      <td>NES</td>\n      <td>1985.0</td>\n      <td>Platform</td>\n      <td>29.08</td>\n      <td>3.58</td>\n      <td>6.81</td>\n      <td>0.77</td>\n      <td>NaN</td>\n      <td>NaN</td>\n      <td>NaN</td>\n    </tr>\n    <tr>\n      <th>2</th>\n      <td>Mario Kart Wii</td>\n      <td>Wii</td>\n      <td>2008.0</td>\n      <td>Racing</td>\n      <td>15.68</td>\n      <td>12.76</td>\n      <td>3.79</td>\n      <td>3.29</td>\n      <td>82.0</td>\n      <td>8.3</td>\n      <td>E</td>\n    </tr>\n    <tr>\n      <th>3</th>\n      <td>Wii Sports Resort</td>\n      <td>Wii</td>\n      <td>2009.0</td>\n      <td>Sports</td>\n      <td>15.61</td>\n      <td>10.93</td>\n      <td>3.28</td>\n      <td>2.95</td>\n      <td>80.0</td>\n      <td>8</td>\n      <td>E</td>\n    </tr>\n    <tr>\n      <th>4</th>\n      <td>Pokemon Red/Pokemon Blue</td>\n      <td>GB</td>\n      <td>1996.0</td>\n      <td>Role-Playing</td>\n      <td>11.27</td>\n      <td>8.89</td>\n      <td>10.22</td>\n      <td>1.00</td>\n      <td>NaN</td>\n      <td>NaN</td>\n      <td>NaN</td>\n    </tr>\n  </tbody>\n</table>\n</div>"
     },
     "execution_count": 50,
     "metadata": {},
     "output_type": "execute_result"
    }
   ],
   "source": [
    "# загрузим данные\n",
    "data = pd.read_csv('../data/games.csv')\n",
    "# дадим датафрейму имя для дальнейшего удобства использования\n",
    "data.name = 'games'\n",
    "# преобразуем названия колонок в нижний регистр\n",
    "data.columns = [x.lower() for x in data.columns.to_list()]\n",
    "# выведем датафрейм на экран\n",
    "data.head()"
   ],
   "metadata": {
    "collapsed": false,
    "pycharm": {
     "name": "#%%\n"
    }
   }
  },
  {
   "cell_type": "markdown",
   "source": [
    "Посмотрим на пропуски в данных"
   ],
   "metadata": {
    "collapsed": false
   }
  },
  {
   "cell_type": "code",
   "execution_count": 20,
   "outputs": [
    {
     "data": {
      "text/plain": "'============================================================'"
     },
     "metadata": {},
     "output_type": "display_data"
    },
    {
     "data": {
      "text/plain": "'Количество записей в датафрейме games: 16715'"
     },
     "metadata": {},
     "output_type": "display_data"
    },
    {
     "data": {
      "text/plain": "'В датафрейме games имеются следующие пропуски:'"
     },
     "metadata": {},
     "output_type": "display_data"
    },
    {
     "data": {
      "text/plain": "'  - в колонке name: 2 пропусков, это 0.01% об общего объема данных'"
     },
     "metadata": {},
     "output_type": "display_data"
    },
    {
     "data": {
      "text/plain": "'  - в колонке year_of_release: 269 пропусков, это 1.61% об общего объема данных'"
     },
     "metadata": {},
     "output_type": "display_data"
    },
    {
     "data": {
      "text/plain": "'  - в колонке genre: 2 пропусков, это 0.01% об общего объема данных'"
     },
     "metadata": {},
     "output_type": "display_data"
    },
    {
     "data": {
      "text/plain": "'  - в колонке critic_score: 8578 пропусков, это 51.32% об общего объема данных'"
     },
     "metadata": {},
     "output_type": "display_data"
    },
    {
     "data": {
      "text/plain": "'  - в колонке user_score: 6701 пропусков, это 40.09% об общего объема данных'"
     },
     "metadata": {},
     "output_type": "display_data"
    },
    {
     "data": {
      "text/plain": "'  - в колонке rating: 6766 пропусков, это 40.48% об общего объема данных'"
     },
     "metadata": {},
     "output_type": "display_data"
    }
   ],
   "source": [
    "def get_missing_values(data: pd.DataFrame) -> None:\n",
    "    \"\"\"\n",
    "    Выводит данные о пропусках в колонках по датафрейму.\n",
    "    Не изменяет данные внутри датафрейма.\n",
    "\n",
    "    :param data: pd.DataFrame\n",
    "    :return: None\n",
    "    \"\"\"\n",
    "    # получаем имена колонок датафрейма\n",
    "    columns = data.columns.to_list()\n",
    "    data_len = len(data)\n",
    "    # объявляем счетчик\n",
    "    counter = -1\n",
    "    display('='*60)\n",
    "    # если есть пропуски в данных - выводим информацию о пропусках по колонкам\n",
    "    if sum(data.isnull().sum()) > 0:\n",
    "        display(f'Количество записей в датафрейме {data.name}: {data_len}')\n",
    "        display(f'В датафрейме {data.name} имеются следующие пропуски:')\n",
    "        for i in data.isnull().sum():\n",
    "            counter += 1\n",
    "            if i > 0:\n",
    "                display(f'  - в колонке {columns[counter]}: {i} пропусков, это {i/data_len:0.2%} об общего объема данных')\n",
    "    else:\n",
    "        display(f'Отлично, в датафрейме {data.name} отсутствуют пропуски.')\n",
    "\n",
    "# посмотрим на пропуски в данных\n",
    "get_missing_values(data)"
   ],
   "metadata": {
    "collapsed": false,
    "pycharm": {
     "name": "#%%\n"
    }
   }
  },
  {
   "cell_type": "markdown",
   "source": [
    "Преобразуем типы данных"
   ],
   "metadata": {
    "collapsed": false
   }
  },
  {
   "cell_type": "code",
   "execution_count": 51,
   "outputs": [
    {
     "data": {
      "text/plain": "'============================== Работаем с датафреймом games =============================='"
     },
     "metadata": {},
     "output_type": "display_data"
    },
    {
     "data": {
      "text/plain": "'Приводим строковые данные в колонке name к нижнему регистру'"
     },
     "metadata": {},
     "output_type": "display_data"
    },
    {
     "data": {
      "text/plain": "'Приводим строковые данные в колонке platform к нижнему регистру'"
     },
     "metadata": {},
     "output_type": "display_data"
    },
    {
     "data": {
      "text/plain": "'Изменяем тип колонки year_of_release датафрейма games с float64 на float16'"
     },
     "metadata": {},
     "output_type": "display_data"
    },
    {
     "data": {
      "text/plain": "'Приводим строковые данные в колонке genre к нижнему регистру'"
     },
     "metadata": {},
     "output_type": "display_data"
    },
    {
     "data": {
      "text/plain": "'Изменяем тип колонки na_sales датафрейма games с float64 на float16'"
     },
     "metadata": {},
     "output_type": "display_data"
    },
    {
     "data": {
      "text/plain": "'Изменяем тип колонки eu_sales датафрейма games с float64 на float16'"
     },
     "metadata": {},
     "output_type": "display_data"
    },
    {
     "data": {
      "text/plain": "'Изменяем тип колонки jp_sales датафрейма games с float64 на float16'"
     },
     "metadata": {},
     "output_type": "display_data"
    },
    {
     "data": {
      "text/plain": "'Изменяем тип колонки other_sales датафрейма games с float64 на float16'"
     },
     "metadata": {},
     "output_type": "display_data"
    },
    {
     "data": {
      "text/plain": "'Изменяем тип колонки critic_score датафрейма games с float64 на float16'"
     },
     "metadata": {},
     "output_type": "display_data"
    },
    {
     "data": {
      "text/plain": "'Приводим строковые данные в колонке user_score к нижнему регистру'"
     },
     "metadata": {},
     "output_type": "display_data"
    },
    {
     "data": {
      "text/plain": "'Приводим строковые данные в колонке rating к нижнему регистру'"
     },
     "metadata": {},
     "output_type": "display_data"
    },
    {
     "data": {
      "text/plain": "'Использование памяти датафрейма до сжатия: 0.70 мб.'"
     },
     "metadata": {},
     "output_type": "display_data"
    },
    {
     "data": {
      "text/plain": "'Использование памяти датафрейма после сжатия: 0.62 мб.'"
     },
     "metadata": {},
     "output_type": "display_data"
    },
    {
     "data": {
      "text/plain": "'Сжато: 0.07 мб.'"
     },
     "metadata": {},
     "output_type": "display_data"
    }
   ],
   "source": [
    "def auto_change_dtypes(data: pd.DataFrame) -> None:\n",
    "    \"\"\"\n",
    "    Автоматически определяет тип столбца, и изменяет его в соответствии с хранимыми значениями.\n",
    "    Функция не возвращает новый датафрейм, а изменяет переданный в качестве аргумента.\n",
    "    Функция заточена под данные конкретного проекта.\n",
    "    Функция поддерживает автоматическое преобразование следующих типов и форматов данных:\n",
    "     - int64\n",
    "     - float64\n",
    "     - str: если в названии колонки есть date и формат даты %Y-%m-%d,\n",
    "            то переводит в формат pandas datetime, иначе - переводит строковые данные в нижний регистр\n",
    "\n",
    "    Пример преобразования:\n",
    "    data[column] является int64 и содержит значения в диапазоне от 0 до 100 - будет преобразован в int8\n",
    "    data[date_column] является object и содержит в имени колонки date - будет преобразован в datetime\n",
    "\n",
    "    :param data: pd.DataFrame\n",
    "    :return: None\n",
    "    \"\"\"\n",
    "    # получаем количество используемой датафреймом памяти\n",
    "    memory_usage_before_change_dtypes = data.memory_usage(index=False, deep=True).sum()\n",
    "    # получаем описание датафрейма\n",
    "    describe = data.describe()\n",
    "    # получаем названия колонок\n",
    "    columns = data.columns.to_list()\n",
    "    # получаем типы данных\n",
    "    dtypes = data.dtypes\n",
    "    # количество типов данных\n",
    "    indexes = len(dtypes)\n",
    "    # создаем 2 словаря для int и float, содержащие в качестве ключей типы данных, а значений - список из min и max значений этих типов данных\n",
    "    correct_int_dtypes = {'int8': [-2**7, 2**7-1], 'int16': [-2**15, 2**15-1], 'int32': [-2**31, 2**31-1]}\n",
    "    correct_float_dtypes = {'float16': [-2.0**16, 2.0**16-1], 'float32': [-2.0**31, 2.0**31-1]}\n",
    "\n",
    "    display(f'{\"=\"*30} Работаем с датафреймом {data.name} {\"=\"*30}')\n",
    "    # пробегаем по индексам колонок датафрейма и типам данных колонок\n",
    "    for index, dtype in zip(range(0, indexes), dtypes):\n",
    "\n",
    "        # если тип int64, меняем на тип, соответствующий значениям колонок\n",
    "        if dtype == np.int64:\n",
    "            for key, value in zip(correct_int_dtypes.keys(), correct_int_dtypes.values()):\n",
    "                if not describe[columns[index]]['min'] <= value[0] and not describe[columns[index]]['max'] >= value[1]:\n",
    "                    display(f'Изменяем тип колонки {columns[index]} датафрейма {data.name} с {dtype} на {key}')\n",
    "                    data[columns[index]] = data[columns[index]].astype(key)\n",
    "                    break\n",
    "\n",
    "        # если тип float64, меняем на тип, соответствующий значениям колонок\n",
    "        elif dtype == np.float64:\n",
    "            for key, value in zip(correct_float_dtypes.keys(), correct_float_dtypes.values()):\n",
    "                if not describe[columns[index]]['min'] <= value[0] and not describe[columns[index]]['max'] >= value[1]:\n",
    "                    display(f'Изменяем тип колонки {columns[index]} датафрейма {data.name} с {dtype} на {key}')\n",
    "                    data[columns[index]] = data[columns[index]].astype(key)\n",
    "                    break\n",
    "\n",
    "        # если тип object и колонка содержит в названии 'date' - меняем на datetime\n",
    "        elif dtype == object:\n",
    "            if 'date' in columns[index]:\n",
    "                display(f'Изменяем тип колонки {columns[index]} датафрейма {data.name} с {dtype} на datetime')\n",
    "                data[columns[index]] = pd.to_datetime(data[columns[index]], format='%Y-%m-%d')\n",
    "            # иначе приводим данные к нижнему регистру, пропуская значения nan (float) в колонке\n",
    "            else:\n",
    "                display(f'Приводим строковые данные в колонке {columns[index]} к нижнему регистру')\n",
    "                data[columns[index]] = data[columns[index]].apply(lambda s: s if type(s) == float else s.lower())\n",
    "\n",
    "    # количество памяти, используемое датафреймом оптимизации типов данных\n",
    "    memory_usage_after_change_dtypes = data.memory_usage(index=False, deep=True).sum()\n",
    "    bytes_in_mb = 2**23\n",
    "    display(f'Использование памяти датафрейма до сжатия: {(memory_usage_before_change_dtypes / bytes_in_mb):.2f} мб.')\n",
    "    display(f'Использование памяти датафрейма после сжатия: {(memory_usage_after_change_dtypes / bytes_in_mb):.2f} мб.')\n",
    "    display(f'Сжато: {((memory_usage_before_change_dtypes - memory_usage_after_change_dtypes) / bytes_in_mb):.2f} мб.')\n",
    "\n",
    "auto_change_dtypes(data)"
   ],
   "metadata": {
    "collapsed": false,
    "pycharm": {
     "name": "#%%\n"
    }
   }
  },
  {
   "cell_type": "code",
   "execution_count": 54,
   "outputs": [
    {
     "data": {
      "text/plain": "          name  year_of_release  genre  na_sales  eu_sales  jp_sales  \\\nplatform                                                               \nps2       2161             2127   2161      2161      2161      2161   \nds        2151             2121   2151      2151      2151      2151   \nps3       1331             1306   1331      1331      1331      1331   \nwii       1320             1286   1320      1320      1320      1320   \nx360      1262             1232   1262      1262      1262      1262   \npsp       1209             1193   1209      1209      1209      1209   \nps        1197             1190   1197      1197      1197      1197   \npc         974              957    974       974       974       974   \nxb         824              803    824       824       824       824   \ngba        822              811    822       822       822       822   \ngc         556              542    556       556       556       556   \n3ds        520              512    520       520       520       520   \npsv        430              429    430       430       430       430   \nps4        392              392    392       392       392       392   \nn64        319              316    319       319       319       319   \nxone       247              247    247       247       247       247   \nsnes       239              239    239       239       239       239   \nsat        173              173    173       173       173       173   \nwiiu       147              147    147       147       147       147   \n2600       133              116    133       133       133       133   \nnes         98               98     98        98        98        98   \ngb          98               97     98        98        98        98   \ndc          52               52     52        52        52        52   \ngen         27               29     27        29        29        29   \nng          12               12     12        12        12        12   \nscd          6                6      6         6         6         6   \nws           6                6      6         6         6         6   \n3do          3                3      3         3         3         3   \ntg16         2                2      2         2         2         2   \npcfx         1                1      1         1         1         1   \ngg           1                1      1         1         1         1   \n\n          other_sales  critic_score  user_score  rating  \nplatform                                                 \nps2              2161          1298        1481    1481  \nds               2151           717        1272    1273  \nps3              1331           820         964     952  \nwii              1320           585        1000    1002  \nx360             1262           916        1050    1052  \npsp              1209           462         544     544  \nps               1197           200         207     208  \npc                974           715         819     774  \nxb                824           725         736     733  \ngba               822           438         517     522  \ngc                556           448         469     469  \n3ds               520           168         230     228  \npsv               430           120         150     151  \nps4               392           252         263     255  \nn64               319             0           0       0  \nxone              247           169         193     186  \nsnes              239             0           0       0  \nsat               173             0           0       0  \nwiiu              147            90         105     105  \n2600              133             0           0       0  \nnes                98             0           0       0  \ngb                 98             0           0       0  \ndc                 52            14          14      14  \ngen                29             0           0       0  \nng                 12             0           0       0  \nscd                 6             0           0       0  \nws                  6             0           0       0  \n3do                 3             0           0       0  \ntg16                2             0           0       0  \npcfx                1             0           0       0  \ngg                  1             0           0       0  ",
      "text/html": "<div>\n<style scoped>\n    .dataframe tbody tr th:only-of-type {\n        vertical-align: middle;\n    }\n\n    .dataframe tbody tr th {\n        vertical-align: top;\n    }\n\n    .dataframe thead th {\n        text-align: right;\n    }\n</style>\n<table border=\"1\" class=\"dataframe\">\n  <thead>\n    <tr style=\"text-align: right;\">\n      <th></th>\n      <th>name</th>\n      <th>year_of_release</th>\n      <th>genre</th>\n      <th>na_sales</th>\n      <th>eu_sales</th>\n      <th>jp_sales</th>\n      <th>other_sales</th>\n      <th>critic_score</th>\n      <th>user_score</th>\n      <th>rating</th>\n    </tr>\n    <tr>\n      <th>platform</th>\n      <th></th>\n      <th></th>\n      <th></th>\n      <th></th>\n      <th></th>\n      <th></th>\n      <th></th>\n      <th></th>\n      <th></th>\n      <th></th>\n    </tr>\n  </thead>\n  <tbody>\n    <tr>\n      <th>ps2</th>\n      <td>2161</td>\n      <td>2127</td>\n      <td>2161</td>\n      <td>2161</td>\n      <td>2161</td>\n      <td>2161</td>\n      <td>2161</td>\n      <td>1298</td>\n      <td>1481</td>\n      <td>1481</td>\n    </tr>\n    <tr>\n      <th>ds</th>\n      <td>2151</td>\n      <td>2121</td>\n      <td>2151</td>\n      <td>2151</td>\n      <td>2151</td>\n      <td>2151</td>\n      <td>2151</td>\n      <td>717</td>\n      <td>1272</td>\n      <td>1273</td>\n    </tr>\n    <tr>\n      <th>ps3</th>\n      <td>1331</td>\n      <td>1306</td>\n      <td>1331</td>\n      <td>1331</td>\n      <td>1331</td>\n      <td>1331</td>\n      <td>1331</td>\n      <td>820</td>\n      <td>964</td>\n      <td>952</td>\n    </tr>\n    <tr>\n      <th>wii</th>\n      <td>1320</td>\n      <td>1286</td>\n      <td>1320</td>\n      <td>1320</td>\n      <td>1320</td>\n      <td>1320</td>\n      <td>1320</td>\n      <td>585</td>\n      <td>1000</td>\n      <td>1002</td>\n    </tr>\n    <tr>\n      <th>x360</th>\n      <td>1262</td>\n      <td>1232</td>\n      <td>1262</td>\n      <td>1262</td>\n      <td>1262</td>\n      <td>1262</td>\n      <td>1262</td>\n      <td>916</td>\n      <td>1050</td>\n      <td>1052</td>\n    </tr>\n    <tr>\n      <th>psp</th>\n      <td>1209</td>\n      <td>1193</td>\n      <td>1209</td>\n      <td>1209</td>\n      <td>1209</td>\n      <td>1209</td>\n      <td>1209</td>\n      <td>462</td>\n      <td>544</td>\n      <td>544</td>\n    </tr>\n    <tr>\n      <th>ps</th>\n      <td>1197</td>\n      <td>1190</td>\n      <td>1197</td>\n      <td>1197</td>\n      <td>1197</td>\n      <td>1197</td>\n      <td>1197</td>\n      <td>200</td>\n      <td>207</td>\n      <td>208</td>\n    </tr>\n    <tr>\n      <th>pc</th>\n      <td>974</td>\n      <td>957</td>\n      <td>974</td>\n      <td>974</td>\n      <td>974</td>\n      <td>974</td>\n      <td>974</td>\n      <td>715</td>\n      <td>819</td>\n      <td>774</td>\n    </tr>\n    <tr>\n      <th>xb</th>\n      <td>824</td>\n      <td>803</td>\n      <td>824</td>\n      <td>824</td>\n      <td>824</td>\n      <td>824</td>\n      <td>824</td>\n      <td>725</td>\n      <td>736</td>\n      <td>733</td>\n    </tr>\n    <tr>\n      <th>gba</th>\n      <td>822</td>\n      <td>811</td>\n      <td>822</td>\n      <td>822</td>\n      <td>822</td>\n      <td>822</td>\n      <td>822</td>\n      <td>438</td>\n      <td>517</td>\n      <td>522</td>\n    </tr>\n    <tr>\n      <th>gc</th>\n      <td>556</td>\n      <td>542</td>\n      <td>556</td>\n      <td>556</td>\n      <td>556</td>\n      <td>556</td>\n      <td>556</td>\n      <td>448</td>\n      <td>469</td>\n      <td>469</td>\n    </tr>\n    <tr>\n      <th>3ds</th>\n      <td>520</td>\n      <td>512</td>\n      <td>520</td>\n      <td>520</td>\n      <td>520</td>\n      <td>520</td>\n      <td>520</td>\n      <td>168</td>\n      <td>230</td>\n      <td>228</td>\n    </tr>\n    <tr>\n      <th>psv</th>\n      <td>430</td>\n      <td>429</td>\n      <td>430</td>\n      <td>430</td>\n      <td>430</td>\n      <td>430</td>\n      <td>430</td>\n      <td>120</td>\n      <td>150</td>\n      <td>151</td>\n    </tr>\n    <tr>\n      <th>ps4</th>\n      <td>392</td>\n      <td>392</td>\n      <td>392</td>\n      <td>392</td>\n      <td>392</td>\n      <td>392</td>\n      <td>392</td>\n      <td>252</td>\n      <td>263</td>\n      <td>255</td>\n    </tr>\n    <tr>\n      <th>n64</th>\n      <td>319</td>\n      <td>316</td>\n      <td>319</td>\n      <td>319</td>\n      <td>319</td>\n      <td>319</td>\n      <td>319</td>\n      <td>0</td>\n      <td>0</td>\n      <td>0</td>\n    </tr>\n    <tr>\n      <th>xone</th>\n      <td>247</td>\n      <td>247</td>\n      <td>247</td>\n      <td>247</td>\n      <td>247</td>\n      <td>247</td>\n      <td>247</td>\n      <td>169</td>\n      <td>193</td>\n      <td>186</td>\n    </tr>\n    <tr>\n      <th>snes</th>\n      <td>239</td>\n      <td>239</td>\n      <td>239</td>\n      <td>239</td>\n      <td>239</td>\n      <td>239</td>\n      <td>239</td>\n      <td>0</td>\n      <td>0</td>\n      <td>0</td>\n    </tr>\n    <tr>\n      <th>sat</th>\n      <td>173</td>\n      <td>173</td>\n      <td>173</td>\n      <td>173</td>\n      <td>173</td>\n      <td>173</td>\n      <td>173</td>\n      <td>0</td>\n      <td>0</td>\n      <td>0</td>\n    </tr>\n    <tr>\n      <th>wiiu</th>\n      <td>147</td>\n      <td>147</td>\n      <td>147</td>\n      <td>147</td>\n      <td>147</td>\n      <td>147</td>\n      <td>147</td>\n      <td>90</td>\n      <td>105</td>\n      <td>105</td>\n    </tr>\n    <tr>\n      <th>2600</th>\n      <td>133</td>\n      <td>116</td>\n      <td>133</td>\n      <td>133</td>\n      <td>133</td>\n      <td>133</td>\n      <td>133</td>\n      <td>0</td>\n      <td>0</td>\n      <td>0</td>\n    </tr>\n    <tr>\n      <th>nes</th>\n      <td>98</td>\n      <td>98</td>\n      <td>98</td>\n      <td>98</td>\n      <td>98</td>\n      <td>98</td>\n      <td>98</td>\n      <td>0</td>\n      <td>0</td>\n      <td>0</td>\n    </tr>\n    <tr>\n      <th>gb</th>\n      <td>98</td>\n      <td>97</td>\n      <td>98</td>\n      <td>98</td>\n      <td>98</td>\n      <td>98</td>\n      <td>98</td>\n      <td>0</td>\n      <td>0</td>\n      <td>0</td>\n    </tr>\n    <tr>\n      <th>dc</th>\n      <td>52</td>\n      <td>52</td>\n      <td>52</td>\n      <td>52</td>\n      <td>52</td>\n      <td>52</td>\n      <td>52</td>\n      <td>14</td>\n      <td>14</td>\n      <td>14</td>\n    </tr>\n    <tr>\n      <th>gen</th>\n      <td>27</td>\n      <td>29</td>\n      <td>27</td>\n      <td>29</td>\n      <td>29</td>\n      <td>29</td>\n      <td>29</td>\n      <td>0</td>\n      <td>0</td>\n      <td>0</td>\n    </tr>\n    <tr>\n      <th>ng</th>\n      <td>12</td>\n      <td>12</td>\n      <td>12</td>\n      <td>12</td>\n      <td>12</td>\n      <td>12</td>\n      <td>12</td>\n      <td>0</td>\n      <td>0</td>\n      <td>0</td>\n    </tr>\n    <tr>\n      <th>scd</th>\n      <td>6</td>\n      <td>6</td>\n      <td>6</td>\n      <td>6</td>\n      <td>6</td>\n      <td>6</td>\n      <td>6</td>\n      <td>0</td>\n      <td>0</td>\n      <td>0</td>\n    </tr>\n    <tr>\n      <th>ws</th>\n      <td>6</td>\n      <td>6</td>\n      <td>6</td>\n      <td>6</td>\n      <td>6</td>\n      <td>6</td>\n      <td>6</td>\n      <td>0</td>\n      <td>0</td>\n      <td>0</td>\n    </tr>\n    <tr>\n      <th>3do</th>\n      <td>3</td>\n      <td>3</td>\n      <td>3</td>\n      <td>3</td>\n      <td>3</td>\n      <td>3</td>\n      <td>3</td>\n      <td>0</td>\n      <td>0</td>\n      <td>0</td>\n    </tr>\n    <tr>\n      <th>tg16</th>\n      <td>2</td>\n      <td>2</td>\n      <td>2</td>\n      <td>2</td>\n      <td>2</td>\n      <td>2</td>\n      <td>2</td>\n      <td>0</td>\n      <td>0</td>\n      <td>0</td>\n    </tr>\n    <tr>\n      <th>pcfx</th>\n      <td>1</td>\n      <td>1</td>\n      <td>1</td>\n      <td>1</td>\n      <td>1</td>\n      <td>1</td>\n      <td>1</td>\n      <td>0</td>\n      <td>0</td>\n      <td>0</td>\n    </tr>\n    <tr>\n      <th>gg</th>\n      <td>1</td>\n      <td>1</td>\n      <td>1</td>\n      <td>1</td>\n      <td>1</td>\n      <td>1</td>\n      <td>1</td>\n      <td>0</td>\n      <td>0</td>\n      <td>0</td>\n    </tr>\n  </tbody>\n</table>\n</div>"
     },
     "execution_count": 54,
     "metadata": {},
     "output_type": "execute_result"
    }
   ],
   "source": [
    "data.groupby('platform').count().sort_values(by='name', ascending=False)"
   ],
   "metadata": {
    "collapsed": false,
    "pycharm": {
     "name": "#%%\n"
    }
   }
  }
 ],
 "metadata": {
  "kernelspec": {
   "display_name": "Python 3",
   "language": "python",
   "name": "python3"
  },
  "language_info": {
   "codemirror_mode": {
    "name": "ipython",
    "version": 2
   },
   "file_extension": ".py",
   "mimetype": "text/x-python",
   "name": "python",
   "nbconvert_exporter": "python",
   "pygments_lexer": "ipython2",
   "version": "2.7.6"
  }
 },
 "nbformat": 4,
 "nbformat_minor": 0
}