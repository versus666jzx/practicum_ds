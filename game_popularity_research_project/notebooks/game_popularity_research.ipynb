{
 "cells": [
  {
   "cell_type": "markdown",
   "source": [
    "## Описание проекта\n",
    "\n",
    "Из открытых источников доступны исторические данные о продажах игр интернет-магазина «Стримчик», который продаёт по всему миру компьютерные игры,\n",
    "оценки пользователей и экспертов, жанры и платформы (например, Xbox или PlayStation).\n",
    "Нужно выявить определяющие успешность игры закономерности. Это позволит сделать ставку на потенциально популярный продукт и спланировать рекламные кампании.\n",
    "\n",
    "Перед вами данные до 2016 года. Представим, что сейчас декабрь 2016 г., и вы планируете кампанию на 2017-й. Нужно отработать принцип работы с данными.\n",
    "Неважно, прогнозируете ли вы продажи на 2017 год по данным 2016-го или же 2027-й — по данным 2026 года.\n",
    "В наборе данных попадается аббревиатура ESRB (Entertainment Software Rating Board) — это ассоциация, определяющая возрастной рейтинг компьютерных игр.\n",
    "ESRB оценивает игровой контент и присваивает ему подходящую возрастную категорию, например, «Для взрослых», «Для детей младшего возраста» или «Для подростков».\n",
    "\n",
    "\n",
    "## Цель проекта\n",
    "\n",
    "Выявить определяющие успешность игры закономерности, с целью сделать ставку на потенциально популярный продукт и спланировать рекламные кампании.\n",
    "\n",
    "### Описание данных\n",
    "\n",
    "•\tName — название игры\n",
    "•\tPlatform — платформа\n",
    "•\tYear_of_Release — год выпуска\n",
    "•\tGenre — жанр игры\n",
    "•\tNA_sales — продажи в Северной Америке (миллионы проданных копий)\n",
    "•\tEU_sales — продажи в Европе (миллионы проданных копий)\n",
    "•\tJP_sales — продажи в Японии (миллионы проданных копий)\n",
    "•\tOther_sales — продажи в других странах (миллионы проданных копий)\n",
    "•\tCritic_Score — оценка критиков (максимум 100)\n",
    "•\tUser_Score — оценка пользователей (максимум 10)\n",
    "•\tRating — рейтинг от организации ESRB (англ. Entertainment Software Rating Board). Эта ассоциация определяет рейтинг компьютерных игр и присваивает им подходящую возрастную категорию.\n"
   ],
   "metadata": {
    "collapsed": false
   }
  },
  {
   "cell_type": "code",
   "execution_count": 23,
   "metadata": {
    "collapsed": true
   },
   "outputs": [
    {
     "name": "stderr",
     "output_type": "stream",
     "text": [
      "UsageError: Line magic function `%` not found.\n"
     ]
    }
   ],
   "source": [
    "import pandas as pd\n",
    "import numpy as np\n",
    "import plotly\n",
    "import plotly.graph_objs as go\n",
    "import plotly.express as px\n",
    "from scipy import stats as st\n",
    "\n",
    "% matplotlib inline"
   ]
  },
  {
   "cell_type": "code",
   "execution_count": 21,
   "outputs": [
    {
     "data": {
      "text/plain": "                       name platform  year_of_release         genre  na_sales  \\\n0                Wii Sports      Wii           2006.0        Sports     41.36   \n1         Super Mario Bros.      NES           1985.0      Platform     29.08   \n2            Mario Kart Wii      Wii           2008.0        Racing     15.68   \n3         Wii Sports Resort      Wii           2009.0        Sports     15.61   \n4  Pokemon Red/Pokemon Blue       GB           1996.0  Role-Playing     11.27   \n\n   eu_sales  jp_sales  other_sales  critic_score user_score rating  \n0     28.96      3.77         8.45          76.0          8      E  \n1      3.58      6.81         0.77           NaN        NaN    NaN  \n2     12.76      3.79         3.29          82.0        8.3      E  \n3     10.93      3.28         2.95          80.0          8      E  \n4      8.89     10.22         1.00           NaN        NaN    NaN  ",
      "text/html": "<div>\n<style scoped>\n    .dataframe tbody tr th:only-of-type {\n        vertical-align: middle;\n    }\n\n    .dataframe tbody tr th {\n        vertical-align: top;\n    }\n\n    .dataframe thead th {\n        text-align: right;\n    }\n</style>\n<table border=\"1\" class=\"dataframe\">\n  <thead>\n    <tr style=\"text-align: right;\">\n      <th></th>\n      <th>name</th>\n      <th>platform</th>\n      <th>year_of_release</th>\n      <th>genre</th>\n      <th>na_sales</th>\n      <th>eu_sales</th>\n      <th>jp_sales</th>\n      <th>other_sales</th>\n      <th>critic_score</th>\n      <th>user_score</th>\n      <th>rating</th>\n    </tr>\n  </thead>\n  <tbody>\n    <tr>\n      <th>0</th>\n      <td>Wii Sports</td>\n      <td>Wii</td>\n      <td>2006.0</td>\n      <td>Sports</td>\n      <td>41.36</td>\n      <td>28.96</td>\n      <td>3.77</td>\n      <td>8.45</td>\n      <td>76.0</td>\n      <td>8</td>\n      <td>E</td>\n    </tr>\n    <tr>\n      <th>1</th>\n      <td>Super Mario Bros.</td>\n      <td>NES</td>\n      <td>1985.0</td>\n      <td>Platform</td>\n      <td>29.08</td>\n      <td>3.58</td>\n      <td>6.81</td>\n      <td>0.77</td>\n      <td>NaN</td>\n      <td>NaN</td>\n      <td>NaN</td>\n    </tr>\n    <tr>\n      <th>2</th>\n      <td>Mario Kart Wii</td>\n      <td>Wii</td>\n      <td>2008.0</td>\n      <td>Racing</td>\n      <td>15.68</td>\n      <td>12.76</td>\n      <td>3.79</td>\n      <td>3.29</td>\n      <td>82.0</td>\n      <td>8.3</td>\n      <td>E</td>\n    </tr>\n    <tr>\n      <th>3</th>\n      <td>Wii Sports Resort</td>\n      <td>Wii</td>\n      <td>2009.0</td>\n      <td>Sports</td>\n      <td>15.61</td>\n      <td>10.93</td>\n      <td>3.28</td>\n      <td>2.95</td>\n      <td>80.0</td>\n      <td>8</td>\n      <td>E</td>\n    </tr>\n    <tr>\n      <th>4</th>\n      <td>Pokemon Red/Pokemon Blue</td>\n      <td>GB</td>\n      <td>1996.0</td>\n      <td>Role-Playing</td>\n      <td>11.27</td>\n      <td>8.89</td>\n      <td>10.22</td>\n      <td>1.00</td>\n      <td>NaN</td>\n      <td>NaN</td>\n      <td>NaN</td>\n    </tr>\n  </tbody>\n</table>\n</div>"
     },
     "execution_count": 21,
     "metadata": {},
     "output_type": "execute_result"
    }
   ],
   "source": [
    "# загрузим данные\n",
    "data = pd.read_csv('../data/games.csv')\n",
    "# дадим датафрейму имя для дальнейшего удобства использования\n",
    "data.name = 'games'\n",
    "# преобразуем названия колонок в нижний регистр\n",
    "data.columns = [x.lower() for x in data.columns.to_list()]\n",
    "# выведем датафрейм на экран\n",
    "data.head()"
   ],
   "metadata": {
    "collapsed": false,
    "pycharm": {
     "name": "#%%\n"
    }
   }
  },
  {
   "cell_type": "markdown",
   "source": [
    "Посмотрим на пропуски в данных"
   ],
   "metadata": {
    "collapsed": false
   }
  },
  {
   "cell_type": "code",
   "execution_count": 20,
   "outputs": [
    {
     "data": {
      "text/plain": "'============================================================'"
     },
     "metadata": {},
     "output_type": "display_data"
    },
    {
     "data": {
      "text/plain": "'Количество записей в датафрейме games: 16715'"
     },
     "metadata": {},
     "output_type": "display_data"
    },
    {
     "data": {
      "text/plain": "'В датафрейме games имеются следующие пропуски:'"
     },
     "metadata": {},
     "output_type": "display_data"
    },
    {
     "data": {
      "text/plain": "'  - в колонке name: 2 пропусков, это 0.01% об общего объема данных'"
     },
     "metadata": {},
     "output_type": "display_data"
    },
    {
     "data": {
      "text/plain": "'  - в колонке year_of_release: 269 пропусков, это 1.61% об общего объема данных'"
     },
     "metadata": {},
     "output_type": "display_data"
    },
    {
     "data": {
      "text/plain": "'  - в колонке genre: 2 пропусков, это 0.01% об общего объема данных'"
     },
     "metadata": {},
     "output_type": "display_data"
    },
    {
     "data": {
      "text/plain": "'  - в колонке critic_score: 8578 пропусков, это 51.32% об общего объема данных'"
     },
     "metadata": {},
     "output_type": "display_data"
    },
    {
     "data": {
      "text/plain": "'  - в колонке user_score: 6701 пропусков, это 40.09% об общего объема данных'"
     },
     "metadata": {},
     "output_type": "display_data"
    },
    {
     "data": {
      "text/plain": "'  - в колонке rating: 6766 пропусков, это 40.48% об общего объема данных'"
     },
     "metadata": {},
     "output_type": "display_data"
    }
   ],
   "source": [
    "def get_missing_values(data: pd.DataFrame) -> None:\n",
    "    \"\"\"\n",
    "    Выводит данные о пропусках в колонках по датафрейму.\n",
    "    Не изменяет данные внутри датафрейма.\n",
    "\n",
    "    :param data: pd.DataFrame\n",
    "    :return: None\n",
    "    \"\"\"\n",
    "    # получаем имена колонок датафрейма\n",
    "    columns = data.columns.to_list()\n",
    "    data_len = len(data)\n",
    "    # объявляем счетчик\n",
    "    counter = -1\n",
    "    display('='*60)\n",
    "    # если есть пропуски в данных - выводим информацию о пропусках по колонкам\n",
    "    if sum(data.isnull().sum()) > 0:\n",
    "        display(f'Количество записей в датафрейме {data.name}: {data_len}')\n",
    "        display(f'В датафрейме {data.name} имеются следующие пропуски:')\n",
    "        for i in data.isnull().sum():\n",
    "            counter += 1\n",
    "            if i > 0:\n",
    "                display(f'  - в колонке {columns[counter]}: {i} пропусков, это {i/data_len:0.2%} об общего объема данных')\n",
    "    else:\n",
    "        display(f'Отлично, в датафрейме {data.name} отсутствуют пропуски.')\n",
    "\n",
    "# посмотрим на пропуски в данных\n",
    "get_missing_values(data)"
   ],
   "metadata": {
    "collapsed": false,
    "pycharm": {
     "name": "#%%\n"
    }
   }
  },
  {
   "cell_type": "markdown",
   "source": [
    "Преобразуем типы данных"
   ],
   "metadata": {
    "collapsed": false
   }
  },
  {
   "cell_type": "code",
   "execution_count": 46,
   "outputs": [
    {
     "data": {
      "text/plain": "'============================== Работаем с датафреймом games =============================='"
     },
     "metadata": {},
     "output_type": "display_data"
    },
    {
     "data": {
      "text/plain": "'Использование памяти датафрейма до сжатия: 0.62 мб.'"
     },
     "metadata": {},
     "output_type": "display_data"
    },
    {
     "data": {
      "text/plain": "'Использование памяти датафрейма после сжатия: 0.62 мб.'"
     },
     "metadata": {},
     "output_type": "display_data"
    },
    {
     "data": {
      "text/plain": "'Сжато: 0.00 мб.'"
     },
     "metadata": {},
     "output_type": "display_data"
    }
   ],
   "source": [
    "def auto_change_dtypes(data: pd.DataFrame) -> None:\n",
    "    \"\"\"\n",
    "    Автоматически определяет тип столбца, и изменяет его в соответствии с хранимыми значениями.\n",
    "    Функция не возвращает новый датафрейм, а изменяет переданный в качестве аргумента.\n",
    "    Функция заточена под данные конкретного проекта.\n",
    "    Функция поддерживает автоматическое преобразование следующих типов и форматов данных:\n",
    "     - int64\n",
    "     - float64\n",
    "     - str: если в названии колонки есть date и формат даты %Y-%m-%d,\n",
    "            то переводит в формат pandas datetime, иначе - переводит строковые данные в нижний регистр\n",
    "\n",
    "    Пример преобразования:\n",
    "    data[column] является int64 и содержит значения в диапазоне от 0 до 100 - будет преобразован в int8\n",
    "    data[date_column] является object и содержит в имени колонки date - будет преобразован в datetime\n",
    "\n",
    "    :param data: pd.DataFrame\n",
    "    :return: None\n",
    "    \"\"\"\n",
    "    # получаем количество используемой датафреймом памяти\n",
    "    memory_usage_before_change_dtypes = data.memory_usage(index=False, deep=True).sum()\n",
    "    # получаем описание датафрейма\n",
    "    describe = data.describe()\n",
    "    # получаем названия колонок\n",
    "    columns = data.columns.to_list()\n",
    "    # получаем типы данных\n",
    "    dtypes = data.dtypes\n",
    "    # количество типов данных\n",
    "    indexes = len(dtypes)\n",
    "    # создаем 2 словаря для int и float, содержащие в качестве ключей типы данных, а значений - список из min и max значений этих типов данных\n",
    "    correct_int_dtypes = {'int8': [-2**7, 2**7-1], 'int16': [-2**15, 2**15-1], 'int32': [-2**31, 2**31-1]}\n",
    "    correct_float_dtypes = {'float16': [-2.0**16, 2.0**16-1], 'float32': [-2.0**31, 2.0**31-1]}\n",
    "\n",
    "    display(f'{\"=\"*30} Работаем с датафреймом {data.name} {\"=\"*30}')\n",
    "    # пробегаем по индексам колонок датафрейма и типам данных колонок\n",
    "    for index, dtype in zip(range(0, indexes), dtypes):\n",
    "\n",
    "        # если тип int64, меняем на тип, соответствующий значениям колонок\n",
    "        if dtype == np.int64:\n",
    "            for key, value in zip(correct_int_dtypes.keys(), correct_int_dtypes.values()):\n",
    "                if not describe[columns[index]]['min'] <= value[0] and not describe[columns[index]]['max'] >= value[1]:\n",
    "                    display(f'Изменяем тип колонки {columns[index]} датафрейма {data.name} с {dtype} на {key}')\n",
    "                    data[columns[index]] = data[columns[index]].astype(key)\n",
    "                    break\n",
    "\n",
    "        # если тип float64, меняем на тип, соответствующий значениям колонок\n",
    "        elif dtype == np.float64:\n",
    "            for key, value in zip(correct_float_dtypes.keys(), correct_float_dtypes.values()):\n",
    "                if not describe[columns[index]]['min'] <= value[0] and not describe[columns[index]]['max'] >= value[1]:\n",
    "                    display(f'Изменяем тип колонки {columns[index]} датафрейма {data.name} с {dtype} на {key}')\n",
    "                    data[columns[index]] = data[columns[index]].astype(key)\n",
    "                    break\n",
    "\n",
    "        # если тип object и колонка содержит в названии 'date' - меняем на datetime\n",
    "        elif dtype == object:\n",
    "            if 'date' in columns[index]:\n",
    "                display(f'Изменяем тип колонки {columns[index]} датафрейма {data.name} с {dtype} на datetime')\n",
    "                data[columns[index]] = pd.to_datetime(data[columns[index]], format='%Y-%m-%d')\n",
    "            # иначе приводим данные к нижнему регистру, пропуская значения nan (float) в колонке\n",
    "            else:\n",
    "                data[columns[index]] = data[columns[index]].apply(lambda s: s if type(s) == float else s.lower())\n",
    "\n",
    "    # количество памяти, используемое датафреймом оптимизации типов данных\n",
    "    memory_usage_after_change_dtypes = data.memory_usage(index=False, deep=True).sum()\n",
    "    bytes_in_mb = 2**23\n",
    "    display(f'Использование памяти датафрейма до сжатия: {(memory_usage_before_change_dtypes / bytes_in_mb):.2f} мб.')\n",
    "    display(f'Использование памяти датафрейма после сжатия: {(memory_usage_after_change_dtypes / bytes_in_mb):.2f} мб.')\n",
    "    display(f'Сжато: {((memory_usage_before_change_dtypes - memory_usage_after_change_dtypes) / bytes_in_mb):.2f} мб.')\n",
    "\n",
    "auto_change_dtypes(data)"
   ],
   "metadata": {
    "collapsed": false,
    "pycharm": {
     "name": "#%%\n"
    }
   }
  },
  {
   "cell_type": "code",
   "execution_count": 47,
   "outputs": [
    {
     "data": {
      "text/plain": "                                            name platform  year_of_release  \\\n0                                     wii sports      wii           2006.0   \n1                              super mario bros.      nes           1985.0   \n2                                 mario kart wii      wii           2008.0   \n3                              wii sports resort      wii           2009.0   \n4                       pokemon red/pokemon blue       gb           1996.0   \n5                                         tetris       gb           1989.0   \n6                          new super mario bros.       ds           2006.0   \n7                                       wii play      wii           2006.0   \n8                      new super mario bros. wii      wii           2009.0   \n9                                      duck hunt      nes           1984.0   \n10                                    nintendogs       ds           2005.0   \n11                                 mario kart ds       ds           2005.0   \n12                   pokemon gold/pokemon silver       gb           1999.0   \n13                                       wii fit      wii           2007.0   \n14                            kinect adventures!     x360           2010.0   \n15                                  wii fit plus      wii           2009.0   \n16                            grand theft auto v      ps3           2013.0   \n17                 grand theft auto: san andreas      ps2           2004.0   \n18                             super mario world     snes           1990.0   \n19  brain age: train your brain in minutes a day       ds           2005.0   \n20                 pokemon diamond/pokemon pearl       ds           2006.0   \n21                              super mario land       gb           1989.0   \n22                           super mario bros. 3      nes           1988.0   \n23                            grand theft auto v     x360           2013.0   \n24                   grand theft auto: vice city      ps2           2002.0   \n25                 pokemon ruby/pokemon sapphire      gba           2002.0   \n26   brain age 2: more training in minutes a day       ds           2005.0   \n27                   pokemon black/pokemon white       ds           2010.0   \n28                        gran turismo 3: a-spec      ps2           2001.0   \n29                call of duty: modern warfare 3     x360           2011.0   \n30       pokémon yellow: special pikachu edition       gb           1998.0   \n31                     call of duty: black ops 3      ps4           2015.0   \n32                       call of duty: black ops     x360           2010.0   \n33                           pokemon x/pokemon y      3ds           2013.0   \n34                    call of duty: black ops ii      ps3           2012.0   \n35                    call of duty: black ops ii     x360           2012.0   \n36                call of duty: modern warfare 2     x360           2009.0   \n37                call of duty: modern warfare 3      ps3           2011.0   \n38                          grand theft auto iii      ps2           2001.0   \n39                       super smash bros. brawl      wii           2008.0   \n\n           genre   na_sales   eu_sales   jp_sales  other_sales  critic_score  \\\n0         sports  41.375000  28.953125   3.769531     8.453125          76.0   \n1       platform  29.078125   3.580078   6.808594     0.770020           NaN   \n2         racing  15.679688  12.757812   3.789062     3.289062          82.0   \n3         sports  15.609375  10.929688   3.279297     2.949219          80.0   \n4   role-playing  11.273438   8.890625  10.218750     1.000000           NaN   \n5         puzzle  23.203125   2.259766   4.218750     0.580078           NaN   \n6       platform  11.281250   9.140625   6.500000     2.880859          89.0   \n7           misc  13.960938   9.179688   2.929688     2.839844          58.0   \n8       platform  14.437500   6.941406   4.699219     2.240234          87.0   \n9        shooter  26.937500   0.629883   0.280029     0.469971           NaN   \n10    simulation   9.046875  10.953125   1.929688     2.740234           NaN   \n11        racing   9.710938   7.468750   4.128906     1.900391          91.0   \n12  role-playing   9.000000   6.179688   7.199219     0.709961           NaN   \n13        sports   8.921875   8.031250   3.599609     2.150391          80.0   \n14          misc  15.000000   4.890625   0.239990     1.690430          61.0   \n15        sports   9.007812   8.492188   2.529297     1.769531          80.0   \n16        action   7.019531   9.093750   0.979980     3.960938          97.0   \n17        action   9.429688   0.399902   0.409912    10.570312          95.0   \n18      platform  12.781250   3.750000   3.539062     0.549805           NaN   \n19          misc   4.738281   9.203125   4.160156     2.039062          77.0   \n20  role-playing   6.378906   4.460938   6.039062     1.360352           NaN   \n21      platform  10.828125   2.710938   4.179688     0.419922           NaN   \n22      platform   9.539062   3.439453   3.839844     0.459961           NaN   \n23        action   9.656250   5.140625   0.059998     1.410156          97.0   \n24        action   8.406250   5.488281   0.469971     1.780273          95.0   \n25  role-playing   6.058594   3.900391   5.378906     0.500000           NaN   \n26        puzzle   3.429688   5.351562   5.320312     1.179688          77.0   \n27  role-playing   5.511719   3.169922   5.648438     0.799805           NaN   \n28        racing   6.851562   5.089844   1.870117     1.160156          95.0   \n29       shooter   9.039062   4.238281   0.130005     1.320312          88.0   \n30  role-playing   5.890625   5.039062   3.119141     0.589844           NaN   \n31       shooter   6.031250   5.859375   0.360107     2.380859           NaN   \n32       shooter   9.703125   3.679688   0.109985     1.129883          87.0   \n33  role-playing   5.281250   4.191406   4.351562     0.779785           NaN   \n34       shooter   4.988281   5.730469   0.649902     2.419922          83.0   \n35       shooter   8.250000   4.238281   0.070007     1.120117          83.0   \n36       shooter   8.523438   3.589844   0.080017     1.280273          94.0   \n37       shooter   5.539062   5.730469   0.489990     1.570312          88.0   \n38        action   6.988281   4.511719   0.300049     1.299805          97.0   \n39      fighting   6.621094   2.550781   2.660156     1.009766          93.0   \n\n   user_score rating  \n0           8      e  \n1         NaN    NaN  \n2         8.3      e  \n3           8      e  \n4         NaN    NaN  \n5         NaN    NaN  \n6         8.5      e  \n7         6.6      e  \n8         8.4      e  \n9         NaN    NaN  \n10        NaN    NaN  \n11        8.6      e  \n12        NaN    NaN  \n13        7.7      e  \n14        6.3      e  \n15        7.4      e  \n16        8.2      m  \n17          9      m  \n18        NaN    NaN  \n19        7.9      e  \n20        NaN    NaN  \n21        NaN    NaN  \n22        NaN    NaN  \n23        8.1      m  \n24        8.7      m  \n25        NaN    NaN  \n26        7.1      e  \n27        NaN    NaN  \n28        8.4      e  \n29        3.4      m  \n30        NaN    NaN  \n31        NaN    NaN  \n32        6.3      m  \n33        NaN    NaN  \n34        5.3      m  \n35        4.8      m  \n36        6.3      m  \n37        3.2      m  \n38        8.5      m  \n39        8.9      t  ",
      "text/html": "<div>\n<style scoped>\n    .dataframe tbody tr th:only-of-type {\n        vertical-align: middle;\n    }\n\n    .dataframe tbody tr th {\n        vertical-align: top;\n    }\n\n    .dataframe thead th {\n        text-align: right;\n    }\n</style>\n<table border=\"1\" class=\"dataframe\">\n  <thead>\n    <tr style=\"text-align: right;\">\n      <th></th>\n      <th>name</th>\n      <th>platform</th>\n      <th>year_of_release</th>\n      <th>genre</th>\n      <th>na_sales</th>\n      <th>eu_sales</th>\n      <th>jp_sales</th>\n      <th>other_sales</th>\n      <th>critic_score</th>\n      <th>user_score</th>\n      <th>rating</th>\n    </tr>\n  </thead>\n  <tbody>\n    <tr>\n      <th>0</th>\n      <td>wii sports</td>\n      <td>wii</td>\n      <td>2006.0</td>\n      <td>sports</td>\n      <td>41.375000</td>\n      <td>28.953125</td>\n      <td>3.769531</td>\n      <td>8.453125</td>\n      <td>76.0</td>\n      <td>8</td>\n      <td>e</td>\n    </tr>\n    <tr>\n      <th>1</th>\n      <td>super mario bros.</td>\n      <td>nes</td>\n      <td>1985.0</td>\n      <td>platform</td>\n      <td>29.078125</td>\n      <td>3.580078</td>\n      <td>6.808594</td>\n      <td>0.770020</td>\n      <td>NaN</td>\n      <td>NaN</td>\n      <td>NaN</td>\n    </tr>\n    <tr>\n      <th>2</th>\n      <td>mario kart wii</td>\n      <td>wii</td>\n      <td>2008.0</td>\n      <td>racing</td>\n      <td>15.679688</td>\n      <td>12.757812</td>\n      <td>3.789062</td>\n      <td>3.289062</td>\n      <td>82.0</td>\n      <td>8.3</td>\n      <td>e</td>\n    </tr>\n    <tr>\n      <th>3</th>\n      <td>wii sports resort</td>\n      <td>wii</td>\n      <td>2009.0</td>\n      <td>sports</td>\n      <td>15.609375</td>\n      <td>10.929688</td>\n      <td>3.279297</td>\n      <td>2.949219</td>\n      <td>80.0</td>\n      <td>8</td>\n      <td>e</td>\n    </tr>\n    <tr>\n      <th>4</th>\n      <td>pokemon red/pokemon blue</td>\n      <td>gb</td>\n      <td>1996.0</td>\n      <td>role-playing</td>\n      <td>11.273438</td>\n      <td>8.890625</td>\n      <td>10.218750</td>\n      <td>1.000000</td>\n      <td>NaN</td>\n      <td>NaN</td>\n      <td>NaN</td>\n    </tr>\n    <tr>\n      <th>5</th>\n      <td>tetris</td>\n      <td>gb</td>\n      <td>1989.0</td>\n      <td>puzzle</td>\n      <td>23.203125</td>\n      <td>2.259766</td>\n      <td>4.218750</td>\n      <td>0.580078</td>\n      <td>NaN</td>\n      <td>NaN</td>\n      <td>NaN</td>\n    </tr>\n    <tr>\n      <th>6</th>\n      <td>new super mario bros.</td>\n      <td>ds</td>\n      <td>2006.0</td>\n      <td>platform</td>\n      <td>11.281250</td>\n      <td>9.140625</td>\n      <td>6.500000</td>\n      <td>2.880859</td>\n      <td>89.0</td>\n      <td>8.5</td>\n      <td>e</td>\n    </tr>\n    <tr>\n      <th>7</th>\n      <td>wii play</td>\n      <td>wii</td>\n      <td>2006.0</td>\n      <td>misc</td>\n      <td>13.960938</td>\n      <td>9.179688</td>\n      <td>2.929688</td>\n      <td>2.839844</td>\n      <td>58.0</td>\n      <td>6.6</td>\n      <td>e</td>\n    </tr>\n    <tr>\n      <th>8</th>\n      <td>new super mario bros. wii</td>\n      <td>wii</td>\n      <td>2009.0</td>\n      <td>platform</td>\n      <td>14.437500</td>\n      <td>6.941406</td>\n      <td>4.699219</td>\n      <td>2.240234</td>\n      <td>87.0</td>\n      <td>8.4</td>\n      <td>e</td>\n    </tr>\n    <tr>\n      <th>9</th>\n      <td>duck hunt</td>\n      <td>nes</td>\n      <td>1984.0</td>\n      <td>shooter</td>\n      <td>26.937500</td>\n      <td>0.629883</td>\n      <td>0.280029</td>\n      <td>0.469971</td>\n      <td>NaN</td>\n      <td>NaN</td>\n      <td>NaN</td>\n    </tr>\n    <tr>\n      <th>10</th>\n      <td>nintendogs</td>\n      <td>ds</td>\n      <td>2005.0</td>\n      <td>simulation</td>\n      <td>9.046875</td>\n      <td>10.953125</td>\n      <td>1.929688</td>\n      <td>2.740234</td>\n      <td>NaN</td>\n      <td>NaN</td>\n      <td>NaN</td>\n    </tr>\n    <tr>\n      <th>11</th>\n      <td>mario kart ds</td>\n      <td>ds</td>\n      <td>2005.0</td>\n      <td>racing</td>\n      <td>9.710938</td>\n      <td>7.468750</td>\n      <td>4.128906</td>\n      <td>1.900391</td>\n      <td>91.0</td>\n      <td>8.6</td>\n      <td>e</td>\n    </tr>\n    <tr>\n      <th>12</th>\n      <td>pokemon gold/pokemon silver</td>\n      <td>gb</td>\n      <td>1999.0</td>\n      <td>role-playing</td>\n      <td>9.000000</td>\n      <td>6.179688</td>\n      <td>7.199219</td>\n      <td>0.709961</td>\n      <td>NaN</td>\n      <td>NaN</td>\n      <td>NaN</td>\n    </tr>\n    <tr>\n      <th>13</th>\n      <td>wii fit</td>\n      <td>wii</td>\n      <td>2007.0</td>\n      <td>sports</td>\n      <td>8.921875</td>\n      <td>8.031250</td>\n      <td>3.599609</td>\n      <td>2.150391</td>\n      <td>80.0</td>\n      <td>7.7</td>\n      <td>e</td>\n    </tr>\n    <tr>\n      <th>14</th>\n      <td>kinect adventures!</td>\n      <td>x360</td>\n      <td>2010.0</td>\n      <td>misc</td>\n      <td>15.000000</td>\n      <td>4.890625</td>\n      <td>0.239990</td>\n      <td>1.690430</td>\n      <td>61.0</td>\n      <td>6.3</td>\n      <td>e</td>\n    </tr>\n    <tr>\n      <th>15</th>\n      <td>wii fit plus</td>\n      <td>wii</td>\n      <td>2009.0</td>\n      <td>sports</td>\n      <td>9.007812</td>\n      <td>8.492188</td>\n      <td>2.529297</td>\n      <td>1.769531</td>\n      <td>80.0</td>\n      <td>7.4</td>\n      <td>e</td>\n    </tr>\n    <tr>\n      <th>16</th>\n      <td>grand theft auto v</td>\n      <td>ps3</td>\n      <td>2013.0</td>\n      <td>action</td>\n      <td>7.019531</td>\n      <td>9.093750</td>\n      <td>0.979980</td>\n      <td>3.960938</td>\n      <td>97.0</td>\n      <td>8.2</td>\n      <td>m</td>\n    </tr>\n    <tr>\n      <th>17</th>\n      <td>grand theft auto: san andreas</td>\n      <td>ps2</td>\n      <td>2004.0</td>\n      <td>action</td>\n      <td>9.429688</td>\n      <td>0.399902</td>\n      <td>0.409912</td>\n      <td>10.570312</td>\n      <td>95.0</td>\n      <td>9</td>\n      <td>m</td>\n    </tr>\n    <tr>\n      <th>18</th>\n      <td>super mario world</td>\n      <td>snes</td>\n      <td>1990.0</td>\n      <td>platform</td>\n      <td>12.781250</td>\n      <td>3.750000</td>\n      <td>3.539062</td>\n      <td>0.549805</td>\n      <td>NaN</td>\n      <td>NaN</td>\n      <td>NaN</td>\n    </tr>\n    <tr>\n      <th>19</th>\n      <td>brain age: train your brain in minutes a day</td>\n      <td>ds</td>\n      <td>2005.0</td>\n      <td>misc</td>\n      <td>4.738281</td>\n      <td>9.203125</td>\n      <td>4.160156</td>\n      <td>2.039062</td>\n      <td>77.0</td>\n      <td>7.9</td>\n      <td>e</td>\n    </tr>\n    <tr>\n      <th>20</th>\n      <td>pokemon diamond/pokemon pearl</td>\n      <td>ds</td>\n      <td>2006.0</td>\n      <td>role-playing</td>\n      <td>6.378906</td>\n      <td>4.460938</td>\n      <td>6.039062</td>\n      <td>1.360352</td>\n      <td>NaN</td>\n      <td>NaN</td>\n      <td>NaN</td>\n    </tr>\n    <tr>\n      <th>21</th>\n      <td>super mario land</td>\n      <td>gb</td>\n      <td>1989.0</td>\n      <td>platform</td>\n      <td>10.828125</td>\n      <td>2.710938</td>\n      <td>4.179688</td>\n      <td>0.419922</td>\n      <td>NaN</td>\n      <td>NaN</td>\n      <td>NaN</td>\n    </tr>\n    <tr>\n      <th>22</th>\n      <td>super mario bros. 3</td>\n      <td>nes</td>\n      <td>1988.0</td>\n      <td>platform</td>\n      <td>9.539062</td>\n      <td>3.439453</td>\n      <td>3.839844</td>\n      <td>0.459961</td>\n      <td>NaN</td>\n      <td>NaN</td>\n      <td>NaN</td>\n    </tr>\n    <tr>\n      <th>23</th>\n      <td>grand theft auto v</td>\n      <td>x360</td>\n      <td>2013.0</td>\n      <td>action</td>\n      <td>9.656250</td>\n      <td>5.140625</td>\n      <td>0.059998</td>\n      <td>1.410156</td>\n      <td>97.0</td>\n      <td>8.1</td>\n      <td>m</td>\n    </tr>\n    <tr>\n      <th>24</th>\n      <td>grand theft auto: vice city</td>\n      <td>ps2</td>\n      <td>2002.0</td>\n      <td>action</td>\n      <td>8.406250</td>\n      <td>5.488281</td>\n      <td>0.469971</td>\n      <td>1.780273</td>\n      <td>95.0</td>\n      <td>8.7</td>\n      <td>m</td>\n    </tr>\n    <tr>\n      <th>25</th>\n      <td>pokemon ruby/pokemon sapphire</td>\n      <td>gba</td>\n      <td>2002.0</td>\n      <td>role-playing</td>\n      <td>6.058594</td>\n      <td>3.900391</td>\n      <td>5.378906</td>\n      <td>0.500000</td>\n      <td>NaN</td>\n      <td>NaN</td>\n      <td>NaN</td>\n    </tr>\n    <tr>\n      <th>26</th>\n      <td>brain age 2: more training in minutes a day</td>\n      <td>ds</td>\n      <td>2005.0</td>\n      <td>puzzle</td>\n      <td>3.429688</td>\n      <td>5.351562</td>\n      <td>5.320312</td>\n      <td>1.179688</td>\n      <td>77.0</td>\n      <td>7.1</td>\n      <td>e</td>\n    </tr>\n    <tr>\n      <th>27</th>\n      <td>pokemon black/pokemon white</td>\n      <td>ds</td>\n      <td>2010.0</td>\n      <td>role-playing</td>\n      <td>5.511719</td>\n      <td>3.169922</td>\n      <td>5.648438</td>\n      <td>0.799805</td>\n      <td>NaN</td>\n      <td>NaN</td>\n      <td>NaN</td>\n    </tr>\n    <tr>\n      <th>28</th>\n      <td>gran turismo 3: a-spec</td>\n      <td>ps2</td>\n      <td>2001.0</td>\n      <td>racing</td>\n      <td>6.851562</td>\n      <td>5.089844</td>\n      <td>1.870117</td>\n      <td>1.160156</td>\n      <td>95.0</td>\n      <td>8.4</td>\n      <td>e</td>\n    </tr>\n    <tr>\n      <th>29</th>\n      <td>call of duty: modern warfare 3</td>\n      <td>x360</td>\n      <td>2011.0</td>\n      <td>shooter</td>\n      <td>9.039062</td>\n      <td>4.238281</td>\n      <td>0.130005</td>\n      <td>1.320312</td>\n      <td>88.0</td>\n      <td>3.4</td>\n      <td>m</td>\n    </tr>\n    <tr>\n      <th>30</th>\n      <td>pokémon yellow: special pikachu edition</td>\n      <td>gb</td>\n      <td>1998.0</td>\n      <td>role-playing</td>\n      <td>5.890625</td>\n      <td>5.039062</td>\n      <td>3.119141</td>\n      <td>0.589844</td>\n      <td>NaN</td>\n      <td>NaN</td>\n      <td>NaN</td>\n    </tr>\n    <tr>\n      <th>31</th>\n      <td>call of duty: black ops 3</td>\n      <td>ps4</td>\n      <td>2015.0</td>\n      <td>shooter</td>\n      <td>6.031250</td>\n      <td>5.859375</td>\n      <td>0.360107</td>\n      <td>2.380859</td>\n      <td>NaN</td>\n      <td>NaN</td>\n      <td>NaN</td>\n    </tr>\n    <tr>\n      <th>32</th>\n      <td>call of duty: black ops</td>\n      <td>x360</td>\n      <td>2010.0</td>\n      <td>shooter</td>\n      <td>9.703125</td>\n      <td>3.679688</td>\n      <td>0.109985</td>\n      <td>1.129883</td>\n      <td>87.0</td>\n      <td>6.3</td>\n      <td>m</td>\n    </tr>\n    <tr>\n      <th>33</th>\n      <td>pokemon x/pokemon y</td>\n      <td>3ds</td>\n      <td>2013.0</td>\n      <td>role-playing</td>\n      <td>5.281250</td>\n      <td>4.191406</td>\n      <td>4.351562</td>\n      <td>0.779785</td>\n      <td>NaN</td>\n      <td>NaN</td>\n      <td>NaN</td>\n    </tr>\n    <tr>\n      <th>34</th>\n      <td>call of duty: black ops ii</td>\n      <td>ps3</td>\n      <td>2012.0</td>\n      <td>shooter</td>\n      <td>4.988281</td>\n      <td>5.730469</td>\n      <td>0.649902</td>\n      <td>2.419922</td>\n      <td>83.0</td>\n      <td>5.3</td>\n      <td>m</td>\n    </tr>\n    <tr>\n      <th>35</th>\n      <td>call of duty: black ops ii</td>\n      <td>x360</td>\n      <td>2012.0</td>\n      <td>shooter</td>\n      <td>8.250000</td>\n      <td>4.238281</td>\n      <td>0.070007</td>\n      <td>1.120117</td>\n      <td>83.0</td>\n      <td>4.8</td>\n      <td>m</td>\n    </tr>\n    <tr>\n      <th>36</th>\n      <td>call of duty: modern warfare 2</td>\n      <td>x360</td>\n      <td>2009.0</td>\n      <td>shooter</td>\n      <td>8.523438</td>\n      <td>3.589844</td>\n      <td>0.080017</td>\n      <td>1.280273</td>\n      <td>94.0</td>\n      <td>6.3</td>\n      <td>m</td>\n    </tr>\n    <tr>\n      <th>37</th>\n      <td>call of duty: modern warfare 3</td>\n      <td>ps3</td>\n      <td>2011.0</td>\n      <td>shooter</td>\n      <td>5.539062</td>\n      <td>5.730469</td>\n      <td>0.489990</td>\n      <td>1.570312</td>\n      <td>88.0</td>\n      <td>3.2</td>\n      <td>m</td>\n    </tr>\n    <tr>\n      <th>38</th>\n      <td>grand theft auto iii</td>\n      <td>ps2</td>\n      <td>2001.0</td>\n      <td>action</td>\n      <td>6.988281</td>\n      <td>4.511719</td>\n      <td>0.300049</td>\n      <td>1.299805</td>\n      <td>97.0</td>\n      <td>8.5</td>\n      <td>m</td>\n    </tr>\n    <tr>\n      <th>39</th>\n      <td>super smash bros. brawl</td>\n      <td>wii</td>\n      <td>2008.0</td>\n      <td>fighting</td>\n      <td>6.621094</td>\n      <td>2.550781</td>\n      <td>2.660156</td>\n      <td>1.009766</td>\n      <td>93.0</td>\n      <td>8.9</td>\n      <td>t</td>\n    </tr>\n  </tbody>\n</table>\n</div>"
     },
     "execution_count": 47,
     "metadata": {},
     "output_type": "execute_result"
    }
   ],
   "source": [
    "data.head(40)"
   ],
   "metadata": {
    "collapsed": false,
    "pycharm": {
     "name": "#%%\n"
    }
   }
  }
 ],
 "metadata": {
  "kernelspec": {
   "display_name": "Python 3",
   "language": "python",
   "name": "python3"
  },
  "language_info": {
   "codemirror_mode": {
    "name": "ipython",
    "version": 2
   },
   "file_extension": ".py",
   "mimetype": "text/x-python",
   "name": "python",
   "nbconvert_exporter": "python",
   "pygments_lexer": "ipython2",
   "version": "2.7.6"
  }
 },
 "nbformat": 4,
 "nbformat_minor": 0
}