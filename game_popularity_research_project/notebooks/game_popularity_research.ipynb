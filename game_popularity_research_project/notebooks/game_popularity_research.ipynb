{
 "cells": [
  {
   "cell_type": "markdown",
   "source": [
    "## Описание проекта\n",
    "\n",
    "Из открытых источников доступны исторические данные о продажах игр интернет-магазина «Стримчик», который продаёт по всему миру компьютерные игры,\n",
    "оценки пользователей и экспертов, жанры и платформы (например, Xbox или PlayStation).\n",
    "Нужно выявить определяющие успешность игры закономерности. Это позволит сделать ставку на потенциально популярный продукт и спланировать рекламные кампании.\n",
    "\n",
    "Перед вами данные до 2016 года. Представим, что сейчас декабрь 2016 г., и вы планируете кампанию на 2017-й. Нужно отработать принцип работы с данными.\n",
    "Неважно, прогнозируете ли вы продажи на 2017 год по данным 2016-го или же 2027-й — по данным 2026 года.\n",
    "В наборе данных попадается аббревиатура ESRB (Entertainment Software Rating Board) — это ассоциация, определяющая возрастной рейтинг компьютерных игр.\n",
    "ESRB оценивает игровой контент и присваивает ему подходящую возрастную категорию, например, «Для взрослых», «Для детей младшего возраста» или «Для подростков».\n",
    "\n",
    "\n",
    "## Цель проекта\n",
    "\n",
    "Выявить определяющие успешность игры закономерности, с целью сделать ставку на потенциально популярный продукт и спланировать рекламные кампании.\n",
    "\n",
    "### Описание данных\n",
    "\n",
    "•\tName — название игры\n",
    "•\tPlatform — платформа\n",
    "•\tYear_of_Release — год выпуска\n",
    "•\tGenre — жанр игры\n",
    "•\tNA_sales — продажи в Северной Америке (миллионы проданных копий)\n",
    "•\tEU_sales — продажи в Европе (миллионы проданных копий)\n",
    "•\tJP_sales — продажи в Японии (миллионы проданных копий)\n",
    "•\tOther_sales — продажи в других странах (миллионы проданных копий)\n",
    "•\tCritic_Score — оценка критиков (максимум 100)\n",
    "•\tUser_Score — оценка пользователей (максимум 10)\n",
    "•\tRating — рейтинг от организации ESRB (англ. Entertainment Software Rating Board). Эта ассоциация определяет рейтинг компьютерных игр и присваивает им подходящую возрастную категорию.\n"
   ],
   "metadata": {
    "collapsed": false
   }
  },
  {
   "cell_type": "markdown",
   "source": [
    "## Шаг 1. Загрузим данные"
   ],
   "metadata": {
    "collapsed": false
   }
  },
  {
   "cell_type": "code",
   "execution_count": 31,
   "metadata": {
    "collapsed": true
   },
   "outputs": [
    {
     "name": "stderr",
     "output_type": "stream",
     "text": [
      "UsageError: Line magic function `%` not found.\n"
     ]
    }
   ],
   "source": [
    "import pandas as pd\n",
    "import numpy as np\n",
    "import plotly\n",
    "import plotly.graph_objs as go\n",
    "import plotly.express as px\n",
    "from scipy import stats as st\n",
    "\n",
    "% matplotlib inline"
   ]
  },
  {
   "cell_type": "code",
   "execution_count": 79,
   "outputs": [
    {
     "name": "stdout",
     "output_type": "stream",
     "text": [
      "<class 'pandas.core.frame.DataFrame'>\n",
      "RangeIndex: 16715 entries, 0 to 16714\n",
      "Data columns (total 11 columns):\n",
      " #   Column           Non-Null Count  Dtype  \n",
      "---  ------           --------------  -----  \n",
      " 0   name             16713 non-null  object \n",
      " 1   platform         16715 non-null  object \n",
      " 2   year_of_release  16446 non-null  float64\n",
      " 3   genre            16713 non-null  object \n",
      " 4   na_sales         16715 non-null  float64\n",
      " 5   eu_sales         16715 non-null  float64\n",
      " 6   jp_sales         16715 non-null  float64\n",
      " 7   other_sales      16715 non-null  float64\n",
      " 8   critic_score     8137 non-null   float64\n",
      " 9   user_score       10014 non-null  object \n",
      " 10  rating           9949 non-null   object \n",
      "dtypes: float64(6), object(5)\n",
      "memory usage: 1.4+ MB\n"
     ]
    },
    {
     "data": {
      "text/plain": "                       name platform  year_of_release         genre  na_sales  \\\n0                Wii Sports      Wii           2006.0        Sports     41.36   \n1         Super Mario Bros.      NES           1985.0      Platform     29.08   \n2            Mario Kart Wii      Wii           2008.0        Racing     15.68   \n3         Wii Sports Resort      Wii           2009.0        Sports     15.61   \n4  Pokemon Red/Pokemon Blue       GB           1996.0  Role-Playing     11.27   \n\n   eu_sales  jp_sales  other_sales  critic_score user_score rating  \n0     28.96      3.77         8.45          76.0          8      E  \n1      3.58      6.81         0.77           NaN        NaN    NaN  \n2     12.76      3.79         3.29          82.0        8.3      E  \n3     10.93      3.28         2.95          80.0          8      E  \n4      8.89     10.22         1.00           NaN        NaN    NaN  ",
      "text/html": "<div>\n<style scoped>\n    .dataframe tbody tr th:only-of-type {\n        vertical-align: middle;\n    }\n\n    .dataframe tbody tr th {\n        vertical-align: top;\n    }\n\n    .dataframe thead th {\n        text-align: right;\n    }\n</style>\n<table border=\"1\" class=\"dataframe\">\n  <thead>\n    <tr style=\"text-align: right;\">\n      <th></th>\n      <th>name</th>\n      <th>platform</th>\n      <th>year_of_release</th>\n      <th>genre</th>\n      <th>na_sales</th>\n      <th>eu_sales</th>\n      <th>jp_sales</th>\n      <th>other_sales</th>\n      <th>critic_score</th>\n      <th>user_score</th>\n      <th>rating</th>\n    </tr>\n  </thead>\n  <tbody>\n    <tr>\n      <th>0</th>\n      <td>Wii Sports</td>\n      <td>Wii</td>\n      <td>2006.0</td>\n      <td>Sports</td>\n      <td>41.36</td>\n      <td>28.96</td>\n      <td>3.77</td>\n      <td>8.45</td>\n      <td>76.0</td>\n      <td>8</td>\n      <td>E</td>\n    </tr>\n    <tr>\n      <th>1</th>\n      <td>Super Mario Bros.</td>\n      <td>NES</td>\n      <td>1985.0</td>\n      <td>Platform</td>\n      <td>29.08</td>\n      <td>3.58</td>\n      <td>6.81</td>\n      <td>0.77</td>\n      <td>NaN</td>\n      <td>NaN</td>\n      <td>NaN</td>\n    </tr>\n    <tr>\n      <th>2</th>\n      <td>Mario Kart Wii</td>\n      <td>Wii</td>\n      <td>2008.0</td>\n      <td>Racing</td>\n      <td>15.68</td>\n      <td>12.76</td>\n      <td>3.79</td>\n      <td>3.29</td>\n      <td>82.0</td>\n      <td>8.3</td>\n      <td>E</td>\n    </tr>\n    <tr>\n      <th>3</th>\n      <td>Wii Sports Resort</td>\n      <td>Wii</td>\n      <td>2009.0</td>\n      <td>Sports</td>\n      <td>15.61</td>\n      <td>10.93</td>\n      <td>3.28</td>\n      <td>2.95</td>\n      <td>80.0</td>\n      <td>8</td>\n      <td>E</td>\n    </tr>\n    <tr>\n      <th>4</th>\n      <td>Pokemon Red/Pokemon Blue</td>\n      <td>GB</td>\n      <td>1996.0</td>\n      <td>Role-Playing</td>\n      <td>11.27</td>\n      <td>8.89</td>\n      <td>10.22</td>\n      <td>1.00</td>\n      <td>NaN</td>\n      <td>NaN</td>\n      <td>NaN</td>\n    </tr>\n  </tbody>\n</table>\n</div>"
     },
     "metadata": {},
     "output_type": "display_data"
    },
    {
     "data": {
      "text/plain": "       year_of_release      na_sales      eu_sales      jp_sales  \\\ncount     16446.000000  16715.000000  16715.000000  16715.000000   \nmean       2006.484616      0.263377      0.145060      0.077617   \nstd           5.877050      0.813604      0.503339      0.308853   \nmin        1980.000000      0.000000      0.000000      0.000000   \n25%        2003.000000      0.000000      0.000000      0.000000   \n50%        2007.000000      0.080000      0.020000      0.000000   \n75%        2010.000000      0.240000      0.110000      0.040000   \nmax        2016.000000     41.360000     28.960000     10.220000   \n\n        other_sales  critic_score  \ncount  16715.000000   8137.000000  \nmean       0.047342     68.967679  \nstd        0.186731     13.938165  \nmin        0.000000     13.000000  \n25%        0.000000     60.000000  \n50%        0.010000     71.000000  \n75%        0.030000     79.000000  \nmax       10.570000     98.000000  ",
      "text/html": "<div>\n<style scoped>\n    .dataframe tbody tr th:only-of-type {\n        vertical-align: middle;\n    }\n\n    .dataframe tbody tr th {\n        vertical-align: top;\n    }\n\n    .dataframe thead th {\n        text-align: right;\n    }\n</style>\n<table border=\"1\" class=\"dataframe\">\n  <thead>\n    <tr style=\"text-align: right;\">\n      <th></th>\n      <th>year_of_release</th>\n      <th>na_sales</th>\n      <th>eu_sales</th>\n      <th>jp_sales</th>\n      <th>other_sales</th>\n      <th>critic_score</th>\n    </tr>\n  </thead>\n  <tbody>\n    <tr>\n      <th>count</th>\n      <td>16446.000000</td>\n      <td>16715.000000</td>\n      <td>16715.000000</td>\n      <td>16715.000000</td>\n      <td>16715.000000</td>\n      <td>8137.000000</td>\n    </tr>\n    <tr>\n      <th>mean</th>\n      <td>2006.484616</td>\n      <td>0.263377</td>\n      <td>0.145060</td>\n      <td>0.077617</td>\n      <td>0.047342</td>\n      <td>68.967679</td>\n    </tr>\n    <tr>\n      <th>std</th>\n      <td>5.877050</td>\n      <td>0.813604</td>\n      <td>0.503339</td>\n      <td>0.308853</td>\n      <td>0.186731</td>\n      <td>13.938165</td>\n    </tr>\n    <tr>\n      <th>min</th>\n      <td>1980.000000</td>\n      <td>0.000000</td>\n      <td>0.000000</td>\n      <td>0.000000</td>\n      <td>0.000000</td>\n      <td>13.000000</td>\n    </tr>\n    <tr>\n      <th>25%</th>\n      <td>2003.000000</td>\n      <td>0.000000</td>\n      <td>0.000000</td>\n      <td>0.000000</td>\n      <td>0.000000</td>\n      <td>60.000000</td>\n    </tr>\n    <tr>\n      <th>50%</th>\n      <td>2007.000000</td>\n      <td>0.080000</td>\n      <td>0.020000</td>\n      <td>0.000000</td>\n      <td>0.010000</td>\n      <td>71.000000</td>\n    </tr>\n    <tr>\n      <th>75%</th>\n      <td>2010.000000</td>\n      <td>0.240000</td>\n      <td>0.110000</td>\n      <td>0.040000</td>\n      <td>0.030000</td>\n      <td>79.000000</td>\n    </tr>\n    <tr>\n      <th>max</th>\n      <td>2016.000000</td>\n      <td>41.360000</td>\n      <td>28.960000</td>\n      <td>10.220000</td>\n      <td>10.570000</td>\n      <td>98.000000</td>\n    </tr>\n  </tbody>\n</table>\n</div>"
     },
     "metadata": {},
     "output_type": "display_data"
    },
    {
     "data": {
      "text/plain": "None"
     },
     "metadata": {},
     "output_type": "display_data"
    }
   ],
   "source": [
    "# загрузим данные\n",
    "data = pd.read_csv('../data/games.csv')\n",
    "# дадим датафрейму имя для дальнейшего удобства использования\n",
    "data.name = 'games'\n",
    "# преобразуем названия колонок в нижний регистр\n",
    "data.columns = [x.lower() for x in data.columns.to_list()]\n",
    "# выведем датафрейм и информацию по нему на экран\n",
    "display(\n",
    "    data.head(),\n",
    "    data.describe(),\n",
    "    data.info()\n",
    ")"
   ],
   "metadata": {
    "collapsed": false,
    "pycharm": {
     "name": "#%%\n"
    }
   }
  },
  {
   "cell_type": "markdown",
   "source": [
    "Датафрейм состоит из 16715 строк и 11 колонок, 6 из которых типа float и 5 типа Object.\n",
    "В данных содержится информация по играм, выпущенным с 1980 по 2016 год, с оценками критиков от 13 до 98.\n",
    "Посмотрим на пропуски в данных"
   ],
   "metadata": {
    "collapsed": false
   }
  },
  {
   "cell_type": "code",
   "execution_count": 47,
   "outputs": [
    {
     "data": {
      "text/plain": "'============================================================'"
     },
     "metadata": {},
     "output_type": "display_data"
    },
    {
     "data": {
      "text/plain": "'Количество записей в датафрейме games: 16715'"
     },
     "metadata": {},
     "output_type": "display_data"
    },
    {
     "data": {
      "text/plain": "'В датафрейме games имеются следующие пропуски:'"
     },
     "metadata": {},
     "output_type": "display_data"
    },
    {
     "data": {
      "text/plain": "'  - в колонке name: 2 пропусков, это 0.01% об общего объема данных'"
     },
     "metadata": {},
     "output_type": "display_data"
    },
    {
     "data": {
      "text/plain": "'  - в колонке year_of_release: 269 пропусков, это 1.61% об общего объема данных'"
     },
     "metadata": {},
     "output_type": "display_data"
    },
    {
     "data": {
      "text/plain": "'  - в колонке genre: 2 пропусков, это 0.01% об общего объема данных'"
     },
     "metadata": {},
     "output_type": "display_data"
    },
    {
     "data": {
      "text/plain": "'  - в колонке critic_score: 8578 пропусков, это 51.32% об общего объема данных'"
     },
     "metadata": {},
     "output_type": "display_data"
    },
    {
     "data": {
      "text/plain": "'  - в колонке user_score: 6701 пропусков, это 40.09% об общего объема данных'"
     },
     "metadata": {},
     "output_type": "display_data"
    },
    {
     "data": {
      "text/plain": "'  - в колонке rating: 6766 пропусков, это 40.48% об общего объема данных'"
     },
     "metadata": {},
     "output_type": "display_data"
    }
   ],
   "source": [
    "def get_missing_values(data: pd.DataFrame) -> None:\n",
    "    \"\"\"\n",
    "    Выводит данные о пропусках в колонках по датафрейму.\n",
    "    Не изменяет данные внутри датафрейма.\n",
    "\n",
    "    :param data: pd.DataFrame\n",
    "    :return: None\n",
    "    \"\"\"\n",
    "    # получаем имена колонок датафрейма\n",
    "    columns = data.columns.to_list()\n",
    "    data_len = len(data)\n",
    "    # объявляем счетчик\n",
    "    counter = -1\n",
    "    display('='*60)\n",
    "    # если есть пропуски в данных - выводим информацию о пропусках по колонкам\n",
    "    if sum(data.isnull().sum()) > 0:\n",
    "        display(f'Количество записей в датафрейме {data.name}: {data_len}')\n",
    "        display(f'В датафрейме {data.name} имеются следующие пропуски:')\n",
    "        for i in data.isnull().sum():\n",
    "            counter += 1\n",
    "            if i > 0:\n",
    "                display(f'  - в колонке {columns[counter]}: {i} пропусков, это {i/data_len:0.2%} об общего объема данных')\n",
    "    else:\n",
    "        display(f'Отлично, в датафрейме {data.name} отсутствуют пропуски.')\n",
    "\n",
    "# посмотрим на пропуски в данных\n",
    "get_missing_values(data)"
   ],
   "metadata": {
    "collapsed": false,
    "pycharm": {
     "name": "#%%\n"
    }
   }
  },
  {
   "cell_type": "markdown",
   "source": [
    "У нас есть 2 пропуска в колонке name и genre. Скорее всего они в одних и тех же строках, убедимся в этом."
   ],
   "metadata": {
    "collapsed": false
   }
  },
  {
   "cell_type": "code",
   "execution_count": 48,
   "outputs": [
    {
     "data": {
      "text/plain": "      name platform  year_of_release genre  na_sales  eu_sales  jp_sales  \\\n659    NaN      GEN           1993.0   NaN      1.78      0.53      0.00   \n14244  NaN      GEN           1993.0   NaN      0.00      0.00      0.03   \n\n       other_sales  critic_score user_score rating  \n659           0.08           NaN        NaN    NaN  \n14244         0.00           NaN        NaN    NaN  ",
      "text/html": "<div>\n<style scoped>\n    .dataframe tbody tr th:only-of-type {\n        vertical-align: middle;\n    }\n\n    .dataframe tbody tr th {\n        vertical-align: top;\n    }\n\n    .dataframe thead th {\n        text-align: right;\n    }\n</style>\n<table border=\"1\" class=\"dataframe\">\n  <thead>\n    <tr style=\"text-align: right;\">\n      <th></th>\n      <th>name</th>\n      <th>platform</th>\n      <th>year_of_release</th>\n      <th>genre</th>\n      <th>na_sales</th>\n      <th>eu_sales</th>\n      <th>jp_sales</th>\n      <th>other_sales</th>\n      <th>critic_score</th>\n      <th>user_score</th>\n      <th>rating</th>\n    </tr>\n  </thead>\n  <tbody>\n    <tr>\n      <th>659</th>\n      <td>NaN</td>\n      <td>GEN</td>\n      <td>1993.0</td>\n      <td>NaN</td>\n      <td>1.78</td>\n      <td>0.53</td>\n      <td>0.00</td>\n      <td>0.08</td>\n      <td>NaN</td>\n      <td>NaN</td>\n      <td>NaN</td>\n    </tr>\n    <tr>\n      <th>14244</th>\n      <td>NaN</td>\n      <td>GEN</td>\n      <td>1993.0</td>\n      <td>NaN</td>\n      <td>0.00</td>\n      <td>0.00</td>\n      <td>0.03</td>\n      <td>0.00</td>\n      <td>NaN</td>\n      <td>NaN</td>\n      <td>NaN</td>\n    </tr>\n  </tbody>\n</table>\n</div>"
     },
     "execution_count": 48,
     "metadata": {},
     "output_type": "execute_result"
    }
   ],
   "source": [
    "data[data['name'].isna()]"
   ],
   "metadata": {
    "collapsed": false,
    "pycharm": {
     "name": "#%%\n"
    }
   }
  },
  {
   "cell_type": "markdown",
   "source": [
    "Да, оба пропуска находятся в одинаковых строках. Удалим их."
   ],
   "metadata": {
    "collapsed": false
   }
  },
  {
   "cell_type": "code",
   "execution_count": 80,
   "outputs": [
    {
     "data": {
      "text/plain": "Empty DataFrame\nColumns: [name, platform, year_of_release, genre, na_sales, eu_sales, jp_sales, other_sales, critic_score, user_score, rating]\nIndex: []",
      "text/html": "<div>\n<style scoped>\n    .dataframe tbody tr th:only-of-type {\n        vertical-align: middle;\n    }\n\n    .dataframe tbody tr th {\n        vertical-align: top;\n    }\n\n    .dataframe thead th {\n        text-align: right;\n    }\n</style>\n<table border=\"1\" class=\"dataframe\">\n  <thead>\n    <tr style=\"text-align: right;\">\n      <th></th>\n      <th>name</th>\n      <th>platform</th>\n      <th>year_of_release</th>\n      <th>genre</th>\n      <th>na_sales</th>\n      <th>eu_sales</th>\n      <th>jp_sales</th>\n      <th>other_sales</th>\n      <th>critic_score</th>\n      <th>user_score</th>\n      <th>rating</th>\n    </tr>\n  </thead>\n  <tbody>\n  </tbody>\n</table>\n</div>"
     },
     "execution_count": 80,
     "metadata": {},
     "output_type": "execute_result"
    }
   ],
   "source": [
    "data.drop(index=[659, 14244], inplace=True)\n",
    "# убедимся, что строки удалены\n",
    "data[data['name'].isna()]"
   ],
   "metadata": {
    "collapsed": false,
    "pycharm": {
     "name": "#%%\n"
    }
   }
  },
  {
   "cell_type": "code",
   "execution_count": 75,
   "outputs": [
    {
     "data": {
      "text/plain": "                                name platform  year_of_release         genre  \\\n0                         wii sports      wii           2006.0        sports   \n1                  super mario bros.      nes           1985.0      platform   \n2                     mario kart wii      wii           2008.0        racing   \n3                  wii sports resort      wii           2009.0        sports   \n4           pokemon red/pokemon blue       gb           1996.0  role-playing   \n...                              ...      ...              ...           ...   \n16710  samurai warriors: sanada maru      ps3           2016.0        action   \n16711               lma manager 2007     x360           2006.0        sports   \n16712        haitaka no psychedelica      psv           2016.0     adventure   \n16713               spirits & spells      gba           2003.0      platform   \n16714            winning post 8 2016      psv           2016.0    simulation   \n\n        na_sales   eu_sales   jp_sales  other_sales  critic_score user_score  \\\n0      41.375000  28.953125   3.769531     8.453125          76.0          8   \n1      29.078125   3.580078   6.808594     0.770020           NaN        NaN   \n2      15.679688  12.757812   3.789062     3.289062          82.0        8.3   \n3      15.609375  10.929688   3.279297     2.949219          80.0          8   \n4      11.273438   8.890625  10.218750     1.000000           NaN        NaN   \n...          ...        ...        ...          ...           ...        ...   \n16710   0.000000   0.000000   0.010002     0.000000           NaN        NaN   \n16711   0.000000   0.010002   0.000000     0.000000           NaN        NaN   \n16712   0.000000   0.000000   0.010002     0.000000           NaN        NaN   \n16713   0.010002   0.000000   0.000000     0.000000           NaN        NaN   \n16714   0.000000   0.000000   0.010002     0.000000           NaN        NaN   \n\n      rating  \n0          e  \n1        NaN  \n2          e  \n3          e  \n4        NaN  \n...      ...  \n16710    NaN  \n16711    NaN  \n16712    NaN  \n16713    NaN  \n16714    NaN  \n\n[16713 rows x 11 columns]",
      "text/html": "<div>\n<style scoped>\n    .dataframe tbody tr th:only-of-type {\n        vertical-align: middle;\n    }\n\n    .dataframe tbody tr th {\n        vertical-align: top;\n    }\n\n    .dataframe thead th {\n        text-align: right;\n    }\n</style>\n<table border=\"1\" class=\"dataframe\">\n  <thead>\n    <tr style=\"text-align: right;\">\n      <th></th>\n      <th>name</th>\n      <th>platform</th>\n      <th>year_of_release</th>\n      <th>genre</th>\n      <th>na_sales</th>\n      <th>eu_sales</th>\n      <th>jp_sales</th>\n      <th>other_sales</th>\n      <th>critic_score</th>\n      <th>user_score</th>\n      <th>rating</th>\n    </tr>\n  </thead>\n  <tbody>\n    <tr>\n      <th>0</th>\n      <td>wii sports</td>\n      <td>wii</td>\n      <td>2006.0</td>\n      <td>sports</td>\n      <td>41.375000</td>\n      <td>28.953125</td>\n      <td>3.769531</td>\n      <td>8.453125</td>\n      <td>76.0</td>\n      <td>8</td>\n      <td>e</td>\n    </tr>\n    <tr>\n      <th>1</th>\n      <td>super mario bros.</td>\n      <td>nes</td>\n      <td>1985.0</td>\n      <td>platform</td>\n      <td>29.078125</td>\n      <td>3.580078</td>\n      <td>6.808594</td>\n      <td>0.770020</td>\n      <td>NaN</td>\n      <td>NaN</td>\n      <td>NaN</td>\n    </tr>\n    <tr>\n      <th>2</th>\n      <td>mario kart wii</td>\n      <td>wii</td>\n      <td>2008.0</td>\n      <td>racing</td>\n      <td>15.679688</td>\n      <td>12.757812</td>\n      <td>3.789062</td>\n      <td>3.289062</td>\n      <td>82.0</td>\n      <td>8.3</td>\n      <td>e</td>\n    </tr>\n    <tr>\n      <th>3</th>\n      <td>wii sports resort</td>\n      <td>wii</td>\n      <td>2009.0</td>\n      <td>sports</td>\n      <td>15.609375</td>\n      <td>10.929688</td>\n      <td>3.279297</td>\n      <td>2.949219</td>\n      <td>80.0</td>\n      <td>8</td>\n      <td>e</td>\n    </tr>\n    <tr>\n      <th>4</th>\n      <td>pokemon red/pokemon blue</td>\n      <td>gb</td>\n      <td>1996.0</td>\n      <td>role-playing</td>\n      <td>11.273438</td>\n      <td>8.890625</td>\n      <td>10.218750</td>\n      <td>1.000000</td>\n      <td>NaN</td>\n      <td>NaN</td>\n      <td>NaN</td>\n    </tr>\n    <tr>\n      <th>...</th>\n      <td>...</td>\n      <td>...</td>\n      <td>...</td>\n      <td>...</td>\n      <td>...</td>\n      <td>...</td>\n      <td>...</td>\n      <td>...</td>\n      <td>...</td>\n      <td>...</td>\n      <td>...</td>\n    </tr>\n    <tr>\n      <th>16710</th>\n      <td>samurai warriors: sanada maru</td>\n      <td>ps3</td>\n      <td>2016.0</td>\n      <td>action</td>\n      <td>0.000000</td>\n      <td>0.000000</td>\n      <td>0.010002</td>\n      <td>0.000000</td>\n      <td>NaN</td>\n      <td>NaN</td>\n      <td>NaN</td>\n    </tr>\n    <tr>\n      <th>16711</th>\n      <td>lma manager 2007</td>\n      <td>x360</td>\n      <td>2006.0</td>\n      <td>sports</td>\n      <td>0.000000</td>\n      <td>0.010002</td>\n      <td>0.000000</td>\n      <td>0.000000</td>\n      <td>NaN</td>\n      <td>NaN</td>\n      <td>NaN</td>\n    </tr>\n    <tr>\n      <th>16712</th>\n      <td>haitaka no psychedelica</td>\n      <td>psv</td>\n      <td>2016.0</td>\n      <td>adventure</td>\n      <td>0.000000</td>\n      <td>0.000000</td>\n      <td>0.010002</td>\n      <td>0.000000</td>\n      <td>NaN</td>\n      <td>NaN</td>\n      <td>NaN</td>\n    </tr>\n    <tr>\n      <th>16713</th>\n      <td>spirits &amp; spells</td>\n      <td>gba</td>\n      <td>2003.0</td>\n      <td>platform</td>\n      <td>0.010002</td>\n      <td>0.000000</td>\n      <td>0.000000</td>\n      <td>0.000000</td>\n      <td>NaN</td>\n      <td>NaN</td>\n      <td>NaN</td>\n    </tr>\n    <tr>\n      <th>16714</th>\n      <td>winning post 8 2016</td>\n      <td>psv</td>\n      <td>2016.0</td>\n      <td>simulation</td>\n      <td>0.000000</td>\n      <td>0.000000</td>\n      <td>0.010002</td>\n      <td>0.000000</td>\n      <td>NaN</td>\n      <td>NaN</td>\n      <td>NaN</td>\n    </tr>\n  </tbody>\n</table>\n<p>16713 rows × 11 columns</p>\n</div>"
     },
     "execution_count": 75,
     "metadata": {},
     "output_type": "execute_result"
    }
   ],
   "source": [
    "data"
   ],
   "metadata": {
    "collapsed": false,
    "pycharm": {
     "name": "#%%\n"
    }
   }
  },
  {
   "cell_type": "code",
   "execution_count": 81,
   "outputs": [
    {
     "data": {
      "text/plain": "                                name platform  year_of_release         genre  \\\n0                         Wii Sports      Wii           2006.0        Sports   \n1                  Super Mario Bros.      NES           1985.0      Platform   \n2                     Mario Kart Wii      Wii           2008.0        Racing   \n3                  Wii Sports Resort      Wii           2009.0        Sports   \n4           Pokemon Red/Pokemon Blue       GB           1996.0  Role-Playing   \n...                              ...      ...              ...           ...   \n16710  Samurai Warriors: Sanada Maru      PS3           2016.0        Action   \n16711               LMA Manager 2007     X360           2006.0        Sports   \n16712        Haitaka no Psychedelica      PSV           2016.0     Adventure   \n16713               Spirits & Spells      GBA           2003.0      Platform   \n16714            Winning Post 8 2016      PSV           2016.0    Simulation   \n\n       na_sales  eu_sales  jp_sales  other_sales  critic_score user_score  \\\n0         41.36     28.96      3.77         8.45          76.0          8   \n1         29.08      3.58      6.81         0.77           NaN        NaN   \n2         15.68     12.76      3.79         3.29          82.0        8.3   \n3         15.61     10.93      3.28         2.95          80.0          8   \n4         11.27      8.89     10.22         1.00           NaN        NaN   \n...         ...       ...       ...          ...           ...        ...   \n16710      0.00      0.00      0.01         0.00           NaN        NaN   \n16711      0.00      0.01      0.00         0.00           NaN        NaN   \n16712      0.00      0.00      0.01         0.00           NaN        NaN   \n16713      0.01      0.00      0.00         0.00           NaN        NaN   \n16714      0.00      0.00      0.01         0.00           NaN        NaN   \n\n      rating  \n0          E  \n1        NaN  \n2          E  \n3          E  \n4        NaN  \n...      ...  \n16710    NaN  \n16711    NaN  \n16712    NaN  \n16713    NaN  \n16714    NaN  \n\n[16713 rows x 11 columns]",
      "text/html": "<div>\n<style scoped>\n    .dataframe tbody tr th:only-of-type {\n        vertical-align: middle;\n    }\n\n    .dataframe tbody tr th {\n        vertical-align: top;\n    }\n\n    .dataframe thead th {\n        text-align: right;\n    }\n</style>\n<table border=\"1\" class=\"dataframe\">\n  <thead>\n    <tr style=\"text-align: right;\">\n      <th></th>\n      <th>name</th>\n      <th>platform</th>\n      <th>year_of_release</th>\n      <th>genre</th>\n      <th>na_sales</th>\n      <th>eu_sales</th>\n      <th>jp_sales</th>\n      <th>other_sales</th>\n      <th>critic_score</th>\n      <th>user_score</th>\n      <th>rating</th>\n    </tr>\n  </thead>\n  <tbody>\n    <tr>\n      <th>0</th>\n      <td>Wii Sports</td>\n      <td>Wii</td>\n      <td>2006.0</td>\n      <td>Sports</td>\n      <td>41.36</td>\n      <td>28.96</td>\n      <td>3.77</td>\n      <td>8.45</td>\n      <td>76.0</td>\n      <td>8</td>\n      <td>E</td>\n    </tr>\n    <tr>\n      <th>1</th>\n      <td>Super Mario Bros.</td>\n      <td>NES</td>\n      <td>1985.0</td>\n      <td>Platform</td>\n      <td>29.08</td>\n      <td>3.58</td>\n      <td>6.81</td>\n      <td>0.77</td>\n      <td>NaN</td>\n      <td>NaN</td>\n      <td>NaN</td>\n    </tr>\n    <tr>\n      <th>2</th>\n      <td>Mario Kart Wii</td>\n      <td>Wii</td>\n      <td>2008.0</td>\n      <td>Racing</td>\n      <td>15.68</td>\n      <td>12.76</td>\n      <td>3.79</td>\n      <td>3.29</td>\n      <td>82.0</td>\n      <td>8.3</td>\n      <td>E</td>\n    </tr>\n    <tr>\n      <th>3</th>\n      <td>Wii Sports Resort</td>\n      <td>Wii</td>\n      <td>2009.0</td>\n      <td>Sports</td>\n      <td>15.61</td>\n      <td>10.93</td>\n      <td>3.28</td>\n      <td>2.95</td>\n      <td>80.0</td>\n      <td>8</td>\n      <td>E</td>\n    </tr>\n    <tr>\n      <th>4</th>\n      <td>Pokemon Red/Pokemon Blue</td>\n      <td>GB</td>\n      <td>1996.0</td>\n      <td>Role-Playing</td>\n      <td>11.27</td>\n      <td>8.89</td>\n      <td>10.22</td>\n      <td>1.00</td>\n      <td>NaN</td>\n      <td>NaN</td>\n      <td>NaN</td>\n    </tr>\n    <tr>\n      <th>...</th>\n      <td>...</td>\n      <td>...</td>\n      <td>...</td>\n      <td>...</td>\n      <td>...</td>\n      <td>...</td>\n      <td>...</td>\n      <td>...</td>\n      <td>...</td>\n      <td>...</td>\n      <td>...</td>\n    </tr>\n    <tr>\n      <th>16710</th>\n      <td>Samurai Warriors: Sanada Maru</td>\n      <td>PS3</td>\n      <td>2016.0</td>\n      <td>Action</td>\n      <td>0.00</td>\n      <td>0.00</td>\n      <td>0.01</td>\n      <td>0.00</td>\n      <td>NaN</td>\n      <td>NaN</td>\n      <td>NaN</td>\n    </tr>\n    <tr>\n      <th>16711</th>\n      <td>LMA Manager 2007</td>\n      <td>X360</td>\n      <td>2006.0</td>\n      <td>Sports</td>\n      <td>0.00</td>\n      <td>0.01</td>\n      <td>0.00</td>\n      <td>0.00</td>\n      <td>NaN</td>\n      <td>NaN</td>\n      <td>NaN</td>\n    </tr>\n    <tr>\n      <th>16712</th>\n      <td>Haitaka no Psychedelica</td>\n      <td>PSV</td>\n      <td>2016.0</td>\n      <td>Adventure</td>\n      <td>0.00</td>\n      <td>0.00</td>\n      <td>0.01</td>\n      <td>0.00</td>\n      <td>NaN</td>\n      <td>NaN</td>\n      <td>NaN</td>\n    </tr>\n    <tr>\n      <th>16713</th>\n      <td>Spirits &amp; Spells</td>\n      <td>GBA</td>\n      <td>2003.0</td>\n      <td>Platform</td>\n      <td>0.01</td>\n      <td>0.00</td>\n      <td>0.00</td>\n      <td>0.00</td>\n      <td>NaN</td>\n      <td>NaN</td>\n      <td>NaN</td>\n    </tr>\n    <tr>\n      <th>16714</th>\n      <td>Winning Post 8 2016</td>\n      <td>PSV</td>\n      <td>2016.0</td>\n      <td>Simulation</td>\n      <td>0.00</td>\n      <td>0.00</td>\n      <td>0.01</td>\n      <td>0.00</td>\n      <td>NaN</td>\n      <td>NaN</td>\n      <td>NaN</td>\n    </tr>\n  </tbody>\n</table>\n<p>16713 rows × 11 columns</p>\n</div>"
     },
     "execution_count": 81,
     "metadata": {},
     "output_type": "execute_result"
    }
   ],
   "source": [
    "import re\n",
    "\n",
    "def search(x: pd.Series) -> int:\n",
    "    \"\"\"\n",
    "    Функция для поиска даты релиза игры в названии\n",
    "\n",
    "    :param x: Series вида ['name', 'year_of_release']\n",
    "    :type x: pd.Series\n",
    "    :return: Год релиза игры\n",
    "    :rtype: int\n",
    "    \"\"\"\n",
    "    name = x['name']\n",
    "    year = x['year_of_release']\n",
    "\n",
    "    if np.isnan(year):\n",
    "        try:\n",
    "            match = int(re.search(r'[1-2][0-9][0-9][0-9]', name).group())\n",
    "            if match:\n",
    "                return match\n",
    "        except AttributeError:\n",
    "            return year\n",
    "    else:\n",
    "        return year\n",
    "\n",
    "data['year_of_release'] = data[['name','year_of_release']].apply(search, axis=1)\n",
    "data"
   ],
   "metadata": {
    "collapsed": false,
    "pycharm": {
     "name": "#%%\n"
    }
   }
  },
  {
   "cell_type": "markdown",
   "source": [
    "Преобразуем типы данных"
   ],
   "metadata": {
    "collapsed": false
   }
  },
  {
   "cell_type": "code",
   "execution_count": 63,
   "outputs": [
    {
     "data": {
      "text/plain": "'============================== Работаем с датафреймом games =============================='"
     },
     "metadata": {},
     "output_type": "display_data"
    },
    {
     "data": {
      "text/plain": "'Приводим строковые данные в колонке name к нижнему регистру'"
     },
     "metadata": {},
     "output_type": "display_data"
    },
    {
     "data": {
      "text/plain": "'Приводим строковые данные в колонке platform к нижнему регистру'"
     },
     "metadata": {},
     "output_type": "display_data"
    },
    {
     "data": {
      "text/plain": "'Изменяем тип колонки year_of_release датафрейма games с float64 на float16'"
     },
     "metadata": {},
     "output_type": "display_data"
    },
    {
     "data": {
      "text/plain": "'Приводим строковые данные в колонке genre к нижнему регистру'"
     },
     "metadata": {},
     "output_type": "display_data"
    },
    {
     "data": {
      "text/plain": "'Изменяем тип колонки na_sales датафрейма games с float64 на float16'"
     },
     "metadata": {},
     "output_type": "display_data"
    },
    {
     "data": {
      "text/plain": "'Изменяем тип колонки eu_sales датафрейма games с float64 на float16'"
     },
     "metadata": {},
     "output_type": "display_data"
    },
    {
     "data": {
      "text/plain": "'Изменяем тип колонки jp_sales датафрейма games с float64 на float16'"
     },
     "metadata": {},
     "output_type": "display_data"
    },
    {
     "data": {
      "text/plain": "'Изменяем тип колонки other_sales датафрейма games с float64 на float16'"
     },
     "metadata": {},
     "output_type": "display_data"
    },
    {
     "data": {
      "text/plain": "'Изменяем тип колонки critic_score датафрейма games с float64 на float16'"
     },
     "metadata": {},
     "output_type": "display_data"
    },
    {
     "data": {
      "text/plain": "'Приводим строковые данные в колонке user_score к нижнему регистру'"
     },
     "metadata": {},
     "output_type": "display_data"
    },
    {
     "data": {
      "text/plain": "'Приводим строковые данные в колонке rating к нижнему регистру'"
     },
     "metadata": {},
     "output_type": "display_data"
    },
    {
     "data": {
      "text/plain": "'Использование памяти датафрейма до сжатия: 0.70 мб.'"
     },
     "metadata": {},
     "output_type": "display_data"
    },
    {
     "data": {
      "text/plain": "'Использование памяти датафрейма после сжатия: 0.62 мб.'"
     },
     "metadata": {},
     "output_type": "display_data"
    },
    {
     "data": {
      "text/plain": "'Сжато: 0.07 мб.'"
     },
     "metadata": {},
     "output_type": "display_data"
    }
   ],
   "source": [
    "def auto_change_dtypes(data: pd.DataFrame) -> None:\n",
    "    \"\"\"\n",
    "    Автоматически определяет тип столбца, и изменяет его в соответствии с хранимыми значениями.\n",
    "    Функция не возвращает новый датафрейм, а изменяет переданный в качестве аргумента.\n",
    "    Функция заточена под данные конкретного проекта.\n",
    "    Функция поддерживает автоматическое преобразование следующих типов и форматов данных:\n",
    "     - int64\n",
    "     - float64\n",
    "     - str: если в названии колонки есть date и формат даты %Y-%m-%d,\n",
    "            то переводит в формат pandas datetime, иначе - переводит строковые данные в нижний регистр\n",
    "\n",
    "    Пример преобразования:\n",
    "    data[column] является int64 и содержит значения в диапазоне от 0 до 100 - будет преобразован в int8\n",
    "    data[date_column] является object и содержит в имени колонки date - будет преобразован в datetime\n",
    "\n",
    "    :param data: pd.DataFrame\n",
    "    :return: None\n",
    "    \"\"\"\n",
    "    # получаем количество используемой датафреймом памяти\n",
    "    memory_usage_before_change_dtypes = data.memory_usage(index=False, deep=True).sum()\n",
    "    # получаем описание датафрейма\n",
    "    describe = data.describe()\n",
    "    # получаем названия колонок\n",
    "    columns = data.columns.to_list()\n",
    "    # получаем типы данных\n",
    "    dtypes = data.dtypes\n",
    "    # количество типов данных\n",
    "    indexes = len(dtypes)\n",
    "    # создаем 2 словаря для int и float, содержащие в качестве ключей типы данных, а значений - список из min и max значений этих типов данных\n",
    "    correct_int_dtypes = {'int8': [-2**7, 2**7-1], 'int16': [-2**15, 2**15-1], 'int32': [-2**31, 2**31-1]}\n",
    "    correct_float_dtypes = {'float16': [-2.0**16, 2.0**16-1], 'float32': [-2.0**31, 2.0**31-1]}\n",
    "\n",
    "    display(f'{\"=\"*30} Работаем с датафреймом {data.name} {\"=\"*30}')\n",
    "    # пробегаем по индексам колонок датафрейма и типам данных колонок\n",
    "    for index, dtype in zip(range(0, indexes), dtypes):\n",
    "\n",
    "        # если тип int64, меняем на тип, соответствующий значениям колонок\n",
    "        if dtype == np.int64:\n",
    "            for key, value in zip(correct_int_dtypes.keys(), correct_int_dtypes.values()):\n",
    "                if not describe[columns[index]]['min'] <= value[0] and not describe[columns[index]]['max'] >= value[1]:\n",
    "                    display(f'Изменяем тип колонки {columns[index]} датафрейма {data.name} с {dtype} на {key}')\n",
    "                    data[columns[index]] = data[columns[index]].astype(key)\n",
    "                    break\n",
    "\n",
    "        # если тип float64, меняем на тип, соответствующий значениям колонок\n",
    "        elif dtype == np.float64:\n",
    "            for key, value in zip(correct_float_dtypes.keys(), correct_float_dtypes.values()):\n",
    "                if not describe[columns[index]]['min'] <= value[0] and not describe[columns[index]]['max'] >= value[1]:\n",
    "                    display(f'Изменяем тип колонки {columns[index]} датафрейма {data.name} с {dtype} на {key}')\n",
    "                    data[columns[index]] = data[columns[index]].astype(key)\n",
    "                    break\n",
    "\n",
    "        # если тип object и колонка содержит в названии 'date' - меняем на datetime\n",
    "        elif dtype == object:\n",
    "            if 'date' in columns[index]:\n",
    "                display(f'Изменяем тип колонки {columns[index]} датафрейма {data.name} с {dtype} на datetime')\n",
    "                data[columns[index]] = pd.to_datetime(data[columns[index]], format='%Y-%m-%d')\n",
    "            # иначе приводим данные к нижнему регистру, пропуская значения nan (float) в колонке\n",
    "            else:\n",
    "                display(f'Приводим строковые данные в колонке {columns[index]} к нижнему регистру')\n",
    "                data[columns[index]] = data[columns[index]].apply(lambda s: s if type(s) == float else s.lower())\n",
    "\n",
    "    # количество памяти, используемое датафреймом оптимизации типов данных\n",
    "    memory_usage_after_change_dtypes = data.memory_usage(index=False, deep=True).sum()\n",
    "    bytes_in_mb = 2**23\n",
    "    display(f'Использование памяти датафрейма до сжатия: {(memory_usage_before_change_dtypes / bytes_in_mb):.2f} мб.')\n",
    "    display(f'Использование памяти датафрейма после сжатия: {(memory_usage_after_change_dtypes / bytes_in_mb):.2f} мб.')\n",
    "    display(f'Сжато: {((memory_usage_before_change_dtypes - memory_usage_after_change_dtypes) / bytes_in_mb):.2f} мб.')\n",
    "\n",
    "auto_change_dtypes(data)"
   ],
   "metadata": {
    "collapsed": false,
    "pycharm": {
     "name": "#%%\n"
    }
   }
  },
  {
   "cell_type": "code",
   "execution_count": 8,
   "outputs": [
    {
     "data": {
      "text/plain": "                                name platform year_of_release         genre  \\\n0                         wii sports      wii      2006-01-01        sports   \n1                  super mario bros.      nes      1985-01-01      platform   \n2                     mario kart wii      wii      2008-01-01        racing   \n3                  wii sports resort      wii      2009-01-01        sports   \n4           pokemon red/pokemon blue       gb      1996-01-01  role-playing   \n...                              ...      ...             ...           ...   \n16710  samurai warriors: sanada maru      ps3      2016-01-01        action   \n16711               lma manager 2007     x360      2006-01-01        sports   \n16712        haitaka no psychedelica      psv      2016-01-01     adventure   \n16713               spirits & spells      gba      2003-01-01      platform   \n16714            winning post 8 2016      psv      2016-01-01    simulation   \n\n        na_sales   eu_sales   jp_sales  other_sales  critic_score user_score  \\\n0      41.375000  28.953125   3.769531     8.453125          76.0          8   \n1      29.078125   3.580078   6.808594     0.770020           NaN        NaN   \n2      15.679688  12.757812   3.789062     3.289062          82.0        8.3   \n3      15.609375  10.929688   3.279297     2.949219          80.0          8   \n4      11.273438   8.890625  10.218750     1.000000           NaN        NaN   \n...          ...        ...        ...          ...           ...        ...   \n16710   0.000000   0.000000   0.010002     0.000000           NaN        NaN   \n16711   0.000000   0.010002   0.000000     0.000000           NaN        NaN   \n16712   0.000000   0.000000   0.010002     0.000000           NaN        NaN   \n16713   0.010002   0.000000   0.000000     0.000000           NaN        NaN   \n16714   0.000000   0.000000   0.010002     0.000000           NaN        NaN   \n\n      rating  \n0          e  \n1        NaN  \n2          e  \n3          e  \n4        NaN  \n...      ...  \n16710    NaN  \n16711    NaN  \n16712    NaN  \n16713    NaN  \n16714    NaN  \n\n[16715 rows x 11 columns]",
      "text/html": "<div>\n<style scoped>\n    .dataframe tbody tr th:only-of-type {\n        vertical-align: middle;\n    }\n\n    .dataframe tbody tr th {\n        vertical-align: top;\n    }\n\n    .dataframe thead th {\n        text-align: right;\n    }\n</style>\n<table border=\"1\" class=\"dataframe\">\n  <thead>\n    <tr style=\"text-align: right;\">\n      <th></th>\n      <th>name</th>\n      <th>platform</th>\n      <th>year_of_release</th>\n      <th>genre</th>\n      <th>na_sales</th>\n      <th>eu_sales</th>\n      <th>jp_sales</th>\n      <th>other_sales</th>\n      <th>critic_score</th>\n      <th>user_score</th>\n      <th>rating</th>\n    </tr>\n  </thead>\n  <tbody>\n    <tr>\n      <th>0</th>\n      <td>wii sports</td>\n      <td>wii</td>\n      <td>2006-01-01</td>\n      <td>sports</td>\n      <td>41.375000</td>\n      <td>28.953125</td>\n      <td>3.769531</td>\n      <td>8.453125</td>\n      <td>76.0</td>\n      <td>8</td>\n      <td>e</td>\n    </tr>\n    <tr>\n      <th>1</th>\n      <td>super mario bros.</td>\n      <td>nes</td>\n      <td>1985-01-01</td>\n      <td>platform</td>\n      <td>29.078125</td>\n      <td>3.580078</td>\n      <td>6.808594</td>\n      <td>0.770020</td>\n      <td>NaN</td>\n      <td>NaN</td>\n      <td>NaN</td>\n    </tr>\n    <tr>\n      <th>2</th>\n      <td>mario kart wii</td>\n      <td>wii</td>\n      <td>2008-01-01</td>\n      <td>racing</td>\n      <td>15.679688</td>\n      <td>12.757812</td>\n      <td>3.789062</td>\n      <td>3.289062</td>\n      <td>82.0</td>\n      <td>8.3</td>\n      <td>e</td>\n    </tr>\n    <tr>\n      <th>3</th>\n      <td>wii sports resort</td>\n      <td>wii</td>\n      <td>2009-01-01</td>\n      <td>sports</td>\n      <td>15.609375</td>\n      <td>10.929688</td>\n      <td>3.279297</td>\n      <td>2.949219</td>\n      <td>80.0</td>\n      <td>8</td>\n      <td>e</td>\n    </tr>\n    <tr>\n      <th>4</th>\n      <td>pokemon red/pokemon blue</td>\n      <td>gb</td>\n      <td>1996-01-01</td>\n      <td>role-playing</td>\n      <td>11.273438</td>\n      <td>8.890625</td>\n      <td>10.218750</td>\n      <td>1.000000</td>\n      <td>NaN</td>\n      <td>NaN</td>\n      <td>NaN</td>\n    </tr>\n    <tr>\n      <th>...</th>\n      <td>...</td>\n      <td>...</td>\n      <td>...</td>\n      <td>...</td>\n      <td>...</td>\n      <td>...</td>\n      <td>...</td>\n      <td>...</td>\n      <td>...</td>\n      <td>...</td>\n      <td>...</td>\n    </tr>\n    <tr>\n      <th>16710</th>\n      <td>samurai warriors: sanada maru</td>\n      <td>ps3</td>\n      <td>2016-01-01</td>\n      <td>action</td>\n      <td>0.000000</td>\n      <td>0.000000</td>\n      <td>0.010002</td>\n      <td>0.000000</td>\n      <td>NaN</td>\n      <td>NaN</td>\n      <td>NaN</td>\n    </tr>\n    <tr>\n      <th>16711</th>\n      <td>lma manager 2007</td>\n      <td>x360</td>\n      <td>2006-01-01</td>\n      <td>sports</td>\n      <td>0.000000</td>\n      <td>0.010002</td>\n      <td>0.000000</td>\n      <td>0.000000</td>\n      <td>NaN</td>\n      <td>NaN</td>\n      <td>NaN</td>\n    </tr>\n    <tr>\n      <th>16712</th>\n      <td>haitaka no psychedelica</td>\n      <td>psv</td>\n      <td>2016-01-01</td>\n      <td>adventure</td>\n      <td>0.000000</td>\n      <td>0.000000</td>\n      <td>0.010002</td>\n      <td>0.000000</td>\n      <td>NaN</td>\n      <td>NaN</td>\n      <td>NaN</td>\n    </tr>\n    <tr>\n      <th>16713</th>\n      <td>spirits &amp; spells</td>\n      <td>gba</td>\n      <td>2003-01-01</td>\n      <td>platform</td>\n      <td>0.010002</td>\n      <td>0.000000</td>\n      <td>0.000000</td>\n      <td>0.000000</td>\n      <td>NaN</td>\n      <td>NaN</td>\n      <td>NaN</td>\n    </tr>\n    <tr>\n      <th>16714</th>\n      <td>winning post 8 2016</td>\n      <td>psv</td>\n      <td>2016-01-01</td>\n      <td>simulation</td>\n      <td>0.000000</td>\n      <td>0.000000</td>\n      <td>0.010002</td>\n      <td>0.000000</td>\n      <td>NaN</td>\n      <td>NaN</td>\n      <td>NaN</td>\n    </tr>\n  </tbody>\n</table>\n<p>16715 rows × 11 columns</p>\n</div>"
     },
     "execution_count": 8,
     "metadata": {},
     "output_type": "execute_result"
    }
   ],
   "source": [
    "data['year_of_release'] = pd.to_datetime(data['year_of_release'], format='%Y')\n",
    "data"
   ],
   "metadata": {
    "collapsed": false,
    "pycharm": {
     "name": "#%%\n"
    }
   }
  }
 ],
 "metadata": {
  "kernelspec": {
   "display_name": "Python 3",
   "language": "python",
   "name": "python3"
  },
  "language_info": {
   "codemirror_mode": {
    "name": "ipython",
    "version": 2
   },
   "file_extension": ".py",
   "mimetype": "text/x-python",
   "name": "python",
   "nbconvert_exporter": "python",
   "pygments_lexer": "ipython2",
   "version": "2.7.6"
  }
 },
 "nbformat": 4,
 "nbformat_minor": 0
}