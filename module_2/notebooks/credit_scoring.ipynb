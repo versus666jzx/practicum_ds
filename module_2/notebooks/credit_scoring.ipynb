{
 "cells": [
  {
   "cell_type": "markdown",
   "metadata": {},
   "source": [
    "# Исследование надёжности заёмщиков\n",
    "\n",
    "Заказчик — кредитный отдел банка. Нужно разобраться, влияет ли семейное положение и количество детей клиента на факт погашения кредита в срок. Входные данные от банка — статистика о платёжеспособности клиентов.\n",
    "\n",
    "Результаты исследования будут учтены при построении модели **кредитного скоринга** — специальной системы, которая оценивает способность потенциального заёмщика вернуть кредит банку.\n",
    "\n",
    "\n",
    "### Цели исследования\n",
    "1. Есть ли зависимость между наличием детей и возвратом кредита в срок?\n",
    "2. Есть ли зависимость между семейным положением и возвратом кредита в срок?\n",
    "3. Есть ли зависимость между уровнем дохода и возвратом кредита в срок?\n",
    "4. Как разные цели кредита влияют на его возврат в срок?\n",
    "\n",
    "### Описание данных\n",
    "\n",
    "\n",
    "| Название столбца       | Значение                                   |\n",
    "|------------------------|--------------------------------------------|\n",
    "| ***children***         | количество детей в семье                   |\n",
    "| ***days_employed***    | общий трудовой стаж в днях                 |\n",
    "| ***dob_years***        | возраст клиента в годах                    |\n",
    "| ***education***        | уровень образования клиента                |\n",
    "| ***education_id***     | идентификатор уровня образования           |\n",
    "| ***family_status***    | семейное положение                         |\n",
    "| ***family_status_id*** | идентификатор семейного положения          |\n",
    "| ***gender***           | пол клиента                                |\n",
    "| ***income_type***      | тип занятости                              |\n",
    "| ***debt***             | имел ли задолженность по возврату кредитов |\n",
    "| ***total_income***     | ежемесячный доход                          |\n",
    "| ***purpose***          | цель кредита                               |"
   ]
  },
  {
   "cell_type": "markdown",
   "metadata": {},
   "source": [
    "## Шаг 1. Изучаем информацию о датасете"
   ]
  },
  {
   "cell_type": "code",
   "execution_count": 402,
   "metadata": {},
   "outputs": [],
   "source": [
    "# импортируем нужные библиотеки\n",
    "import numpy as np\n",
    "import pandas as pd\n",
    "import matplotlib.pyplot as plt\n",
    "import seaborn as sns\n",
    "from collections import Counter\n",
    "from nltk.stem import SnowballStemmer\n",
    "snowball_stemmer = SnowballStemmer('russian').stem  # создаем объект SnowballStemmer\n",
    "from pymystem3 import Mystem\n",
    "mystem = Mystem().lemmatize # создаем объект Mystem"
   ]
  },
  {
   "cell_type": "code",
   "execution_count": 403,
   "outputs": [
    {
     "name": "stdout",
     "output_type": "stream",
     "text": [
      "<class 'pandas.core.frame.DataFrame'>\n",
      "RangeIndex: 21525 entries, 0 to 21524\n",
      "Data columns (total 12 columns):\n",
      " #   Column            Non-Null Count  Dtype  \n",
      "---  ------            --------------  -----  \n",
      " 0   children          21525 non-null  int64  \n",
      " 1   days_employed     19351 non-null  float64\n",
      " 2   dob_years         21525 non-null  int64  \n",
      " 3   education         21525 non-null  object \n",
      " 4   education_id      21525 non-null  int64  \n",
      " 5   family_status     21525 non-null  object \n",
      " 6   family_status_id  21525 non-null  int64  \n",
      " 7   gender            21525 non-null  object \n",
      " 8   income_type       21525 non-null  object \n",
      " 9   debt              21525 non-null  int64  \n",
      " 10  total_income      19351 non-null  float64\n",
      " 11  purpose           21525 non-null  object \n",
      "dtypes: float64(2), int64(5), object(5)\n",
      "memory usage: 2.0+ MB\n"
     ]
    }
   ],
   "source": [
    "# прочитаем предоставленный датасет\n",
    "data = pd.read_csv('../data/data.csv')\n",
    "\n",
    "# посмотрим информацию о содержании колонок\n",
    "data.info()"
   ],
   "metadata": {
    "collapsed": false,
    "pycharm": {
     "name": "#%%\n"
    }
   }
  },
  {
   "cell_type": "markdown",
   "source": [
    "*После просмотра информации о колонках можно сделать следующие выводы:*\n",
    "- Датасет содержит 21525 сэмплов и 12 столбцов, из них 2 столбца с данными типа float64, 5 с int64 и 5 с данными типа object.\n",
    "- В столбцах days_employed и total_income присутствуют пропуски данных, причем в обоих столбцах содержится одинаковое количество строк с пропусками - 2174, что дает нам возможность предположить что между пропусками в этих столбцах есть зависимость.\n",
    "- Использование int64 в столбцах children, debt и dob_years выглядит избыточным.\n",
    "\n",
    "Давайте посмотрим на содержание датасета и описательную статистику столбцов."
   ],
   "metadata": {
    "collapsed": false
   }
  },
  {
   "cell_type": "code",
   "execution_count": 404,
   "outputs": [
    {
     "data": {
      "text/plain": "    children  days_employed  dob_years            education  education_id  \\\n0          1   -8437.673028         42               высшее             0   \n1          1   -4024.803754         36              среднее             1   \n2          0   -5623.422610         33              Среднее             1   \n3          3   -4124.747207         32              среднее             1   \n4          0  340266.072047         53              среднее             1   \n5          0    -926.185831         27               высшее             0   \n6          0   -2879.202052         43               высшее             0   \n7          0    -152.779569         50              СРЕДНЕЕ             1   \n8          2   -6929.865299         35               ВЫСШЕЕ             0   \n9          0   -2188.756445         41              среднее             1   \n10         2   -4171.483647         36               высшее             0   \n11         0    -792.701887         40              среднее             1   \n12         0            NaN         65              среднее             1   \n13         0   -1846.641941         54  неоконченное высшее             2   \n14         0   -1844.956182         56               высшее             0   \n15         1    -972.364419         26              среднее             1   \n16         0   -1719.934226         35              среднее             1   \n17         0   -2369.999720         33               высшее             0   \n18         0  400281.136913         53              среднее             1   \n19         0  -10038.818549         48              СРЕДНЕЕ             1   \n20         1   -1311.604166         36              среднее             1   \n21         1    -253.685166         33              среднее             1   \n22         1   -1766.644138         24              среднее             1   \n23         0    -272.981385         21               высшее             0   \n24         1  338551.952911         57              среднее             1   \n25         0  363548.489348         67              среднее             1   \n26         0            NaN         41              среднее             1   \n27         0    -529.191635         28               высшее             0   \n28         1    -717.274324         26               высшее             0   \n29         0            NaN         63              среднее             1   \n\n            family_status  family_status_id gender  income_type  debt  \\\n0         женат / замужем                 0      F    сотрудник     0   \n1         женат / замужем                 0      F    сотрудник     0   \n2         женат / замужем                 0      M    сотрудник     0   \n3         женат / замужем                 0      M    сотрудник     0   \n4        гражданский брак                 1      F    пенсионер     0   \n5        гражданский брак                 1      M    компаньон     0   \n6         женат / замужем                 0      F    компаньон     0   \n7         женат / замужем                 0      M    сотрудник     0   \n8        гражданский брак                 1      F    сотрудник     0   \n9         женат / замужем                 0      M    сотрудник     0   \n10        женат / замужем                 0      M    компаньон     0   \n11        женат / замужем                 0      F    сотрудник     0   \n12       гражданский брак                 1      M    пенсионер     0   \n13        женат / замужем                 0      F    сотрудник     0   \n14       гражданский брак                 1      F    компаньон     1   \n15        женат / замужем                 0      F    сотрудник     0   \n16        женат / замужем                 0      F    сотрудник     0   \n17       гражданский брак                 1      M    сотрудник     0   \n18         вдовец / вдова                 2      F    пенсионер     0   \n19              в разводе                 3      F    сотрудник     0   \n20        женат / замужем                 0      M    сотрудник     0   \n21       гражданский брак                 1      F    сотрудник     0   \n22       гражданский брак                 1      F    сотрудник     0   \n23       гражданский брак                 1      M    сотрудник     0   \n24  Не женат / не замужем                 4      F    пенсионер     0   \n25        женат / замужем                 0      M    пенсионер     0   \n26        женат / замужем                 0      M  госслужащий     0   \n27        женат / замужем                 0      M    сотрудник     0   \n28        женат / замужем                 0      F    сотрудник     0   \n29  Не женат / не замужем                 4      F    пенсионер     0   \n\n     total_income                                 purpose  \n0   253875.639453                           покупка жилья  \n1   112080.014102                 приобретение автомобиля  \n2   145885.952297                           покупка жилья  \n3   267628.550329              дополнительное образование  \n4   158616.077870                         сыграть свадьбу  \n5   255763.565419                           покупка жилья  \n6   240525.971920                       операции с жильем  \n7   135823.934197                             образование  \n8    95856.832424                   на проведение свадьбы  \n9   144425.938277                 покупка жилья для семьи  \n10  113943.491460                    покупка недвижимости  \n11   77069.234271       покупка коммерческой недвижимости  \n12            NaN                         сыграть свадьбу  \n13  130458.228857                 приобретение автомобиля  \n14  165127.911772              покупка жилой недвижимости  \n15  116820.904450  строительство собственной недвижимости  \n16  289202.704229                            недвижимость  \n17   90410.586745              строительство недвижимости  \n18   56823.777243      на покупку подержанного автомобиля  \n19  242831.107982            на покупку своего автомобиля  \n20  209552.644578                            недвижимость  \n21  131812.203909                 приобретение автомобиля  \n22  149681.140731      на покупку подержанного автомобиля  \n23  128265.720871                         сыграть свадьбу  \n24  290547.235997   операции с коммерческой недвижимостью  \n25   55112.757732                    покупка недвижимости  \n26            NaN                             образование  \n27  308848.983691  строительство собственной недвижимости  \n28  187863.237306  строительство собственной недвижимости  \n29            NaN        строительство жилой недвижимости  ",
      "text/html": "<div>\n<style scoped>\n    .dataframe tbody tr th:only-of-type {\n        vertical-align: middle;\n    }\n\n    .dataframe tbody tr th {\n        vertical-align: top;\n    }\n\n    .dataframe thead th {\n        text-align: right;\n    }\n</style>\n<table border=\"1\" class=\"dataframe\">\n  <thead>\n    <tr style=\"text-align: right;\">\n      <th></th>\n      <th>children</th>\n      <th>days_employed</th>\n      <th>dob_years</th>\n      <th>education</th>\n      <th>education_id</th>\n      <th>family_status</th>\n      <th>family_status_id</th>\n      <th>gender</th>\n      <th>income_type</th>\n      <th>debt</th>\n      <th>total_income</th>\n      <th>purpose</th>\n    </tr>\n  </thead>\n  <tbody>\n    <tr>\n      <th>0</th>\n      <td>1</td>\n      <td>-8437.673028</td>\n      <td>42</td>\n      <td>высшее</td>\n      <td>0</td>\n      <td>женат / замужем</td>\n      <td>0</td>\n      <td>F</td>\n      <td>сотрудник</td>\n      <td>0</td>\n      <td>253875.639453</td>\n      <td>покупка жилья</td>\n    </tr>\n    <tr>\n      <th>1</th>\n      <td>1</td>\n      <td>-4024.803754</td>\n      <td>36</td>\n      <td>среднее</td>\n      <td>1</td>\n      <td>женат / замужем</td>\n      <td>0</td>\n      <td>F</td>\n      <td>сотрудник</td>\n      <td>0</td>\n      <td>112080.014102</td>\n      <td>приобретение автомобиля</td>\n    </tr>\n    <tr>\n      <th>2</th>\n      <td>0</td>\n      <td>-5623.422610</td>\n      <td>33</td>\n      <td>Среднее</td>\n      <td>1</td>\n      <td>женат / замужем</td>\n      <td>0</td>\n      <td>M</td>\n      <td>сотрудник</td>\n      <td>0</td>\n      <td>145885.952297</td>\n      <td>покупка жилья</td>\n    </tr>\n    <tr>\n      <th>3</th>\n      <td>3</td>\n      <td>-4124.747207</td>\n      <td>32</td>\n      <td>среднее</td>\n      <td>1</td>\n      <td>женат / замужем</td>\n      <td>0</td>\n      <td>M</td>\n      <td>сотрудник</td>\n      <td>0</td>\n      <td>267628.550329</td>\n      <td>дополнительное образование</td>\n    </tr>\n    <tr>\n      <th>4</th>\n      <td>0</td>\n      <td>340266.072047</td>\n      <td>53</td>\n      <td>среднее</td>\n      <td>1</td>\n      <td>гражданский брак</td>\n      <td>1</td>\n      <td>F</td>\n      <td>пенсионер</td>\n      <td>0</td>\n      <td>158616.077870</td>\n      <td>сыграть свадьбу</td>\n    </tr>\n    <tr>\n      <th>5</th>\n      <td>0</td>\n      <td>-926.185831</td>\n      <td>27</td>\n      <td>высшее</td>\n      <td>0</td>\n      <td>гражданский брак</td>\n      <td>1</td>\n      <td>M</td>\n      <td>компаньон</td>\n      <td>0</td>\n      <td>255763.565419</td>\n      <td>покупка жилья</td>\n    </tr>\n    <tr>\n      <th>6</th>\n      <td>0</td>\n      <td>-2879.202052</td>\n      <td>43</td>\n      <td>высшее</td>\n      <td>0</td>\n      <td>женат / замужем</td>\n      <td>0</td>\n      <td>F</td>\n      <td>компаньон</td>\n      <td>0</td>\n      <td>240525.971920</td>\n      <td>операции с жильем</td>\n    </tr>\n    <tr>\n      <th>7</th>\n      <td>0</td>\n      <td>-152.779569</td>\n      <td>50</td>\n      <td>СРЕДНЕЕ</td>\n      <td>1</td>\n      <td>женат / замужем</td>\n      <td>0</td>\n      <td>M</td>\n      <td>сотрудник</td>\n      <td>0</td>\n      <td>135823.934197</td>\n      <td>образование</td>\n    </tr>\n    <tr>\n      <th>8</th>\n      <td>2</td>\n      <td>-6929.865299</td>\n      <td>35</td>\n      <td>ВЫСШЕЕ</td>\n      <td>0</td>\n      <td>гражданский брак</td>\n      <td>1</td>\n      <td>F</td>\n      <td>сотрудник</td>\n      <td>0</td>\n      <td>95856.832424</td>\n      <td>на проведение свадьбы</td>\n    </tr>\n    <tr>\n      <th>9</th>\n      <td>0</td>\n      <td>-2188.756445</td>\n      <td>41</td>\n      <td>среднее</td>\n      <td>1</td>\n      <td>женат / замужем</td>\n      <td>0</td>\n      <td>M</td>\n      <td>сотрудник</td>\n      <td>0</td>\n      <td>144425.938277</td>\n      <td>покупка жилья для семьи</td>\n    </tr>\n    <tr>\n      <th>10</th>\n      <td>2</td>\n      <td>-4171.483647</td>\n      <td>36</td>\n      <td>высшее</td>\n      <td>0</td>\n      <td>женат / замужем</td>\n      <td>0</td>\n      <td>M</td>\n      <td>компаньон</td>\n      <td>0</td>\n      <td>113943.491460</td>\n      <td>покупка недвижимости</td>\n    </tr>\n    <tr>\n      <th>11</th>\n      <td>0</td>\n      <td>-792.701887</td>\n      <td>40</td>\n      <td>среднее</td>\n      <td>1</td>\n      <td>женат / замужем</td>\n      <td>0</td>\n      <td>F</td>\n      <td>сотрудник</td>\n      <td>0</td>\n      <td>77069.234271</td>\n      <td>покупка коммерческой недвижимости</td>\n    </tr>\n    <tr>\n      <th>12</th>\n      <td>0</td>\n      <td>NaN</td>\n      <td>65</td>\n      <td>среднее</td>\n      <td>1</td>\n      <td>гражданский брак</td>\n      <td>1</td>\n      <td>M</td>\n      <td>пенсионер</td>\n      <td>0</td>\n      <td>NaN</td>\n      <td>сыграть свадьбу</td>\n    </tr>\n    <tr>\n      <th>13</th>\n      <td>0</td>\n      <td>-1846.641941</td>\n      <td>54</td>\n      <td>неоконченное высшее</td>\n      <td>2</td>\n      <td>женат / замужем</td>\n      <td>0</td>\n      <td>F</td>\n      <td>сотрудник</td>\n      <td>0</td>\n      <td>130458.228857</td>\n      <td>приобретение автомобиля</td>\n    </tr>\n    <tr>\n      <th>14</th>\n      <td>0</td>\n      <td>-1844.956182</td>\n      <td>56</td>\n      <td>высшее</td>\n      <td>0</td>\n      <td>гражданский брак</td>\n      <td>1</td>\n      <td>F</td>\n      <td>компаньон</td>\n      <td>1</td>\n      <td>165127.911772</td>\n      <td>покупка жилой недвижимости</td>\n    </tr>\n    <tr>\n      <th>15</th>\n      <td>1</td>\n      <td>-972.364419</td>\n      <td>26</td>\n      <td>среднее</td>\n      <td>1</td>\n      <td>женат / замужем</td>\n      <td>0</td>\n      <td>F</td>\n      <td>сотрудник</td>\n      <td>0</td>\n      <td>116820.904450</td>\n      <td>строительство собственной недвижимости</td>\n    </tr>\n    <tr>\n      <th>16</th>\n      <td>0</td>\n      <td>-1719.934226</td>\n      <td>35</td>\n      <td>среднее</td>\n      <td>1</td>\n      <td>женат / замужем</td>\n      <td>0</td>\n      <td>F</td>\n      <td>сотрудник</td>\n      <td>0</td>\n      <td>289202.704229</td>\n      <td>недвижимость</td>\n    </tr>\n    <tr>\n      <th>17</th>\n      <td>0</td>\n      <td>-2369.999720</td>\n      <td>33</td>\n      <td>высшее</td>\n      <td>0</td>\n      <td>гражданский брак</td>\n      <td>1</td>\n      <td>M</td>\n      <td>сотрудник</td>\n      <td>0</td>\n      <td>90410.586745</td>\n      <td>строительство недвижимости</td>\n    </tr>\n    <tr>\n      <th>18</th>\n      <td>0</td>\n      <td>400281.136913</td>\n      <td>53</td>\n      <td>среднее</td>\n      <td>1</td>\n      <td>вдовец / вдова</td>\n      <td>2</td>\n      <td>F</td>\n      <td>пенсионер</td>\n      <td>0</td>\n      <td>56823.777243</td>\n      <td>на покупку подержанного автомобиля</td>\n    </tr>\n    <tr>\n      <th>19</th>\n      <td>0</td>\n      <td>-10038.818549</td>\n      <td>48</td>\n      <td>СРЕДНЕЕ</td>\n      <td>1</td>\n      <td>в разводе</td>\n      <td>3</td>\n      <td>F</td>\n      <td>сотрудник</td>\n      <td>0</td>\n      <td>242831.107982</td>\n      <td>на покупку своего автомобиля</td>\n    </tr>\n    <tr>\n      <th>20</th>\n      <td>1</td>\n      <td>-1311.604166</td>\n      <td>36</td>\n      <td>среднее</td>\n      <td>1</td>\n      <td>женат / замужем</td>\n      <td>0</td>\n      <td>M</td>\n      <td>сотрудник</td>\n      <td>0</td>\n      <td>209552.644578</td>\n      <td>недвижимость</td>\n    </tr>\n    <tr>\n      <th>21</th>\n      <td>1</td>\n      <td>-253.685166</td>\n      <td>33</td>\n      <td>среднее</td>\n      <td>1</td>\n      <td>гражданский брак</td>\n      <td>1</td>\n      <td>F</td>\n      <td>сотрудник</td>\n      <td>0</td>\n      <td>131812.203909</td>\n      <td>приобретение автомобиля</td>\n    </tr>\n    <tr>\n      <th>22</th>\n      <td>1</td>\n      <td>-1766.644138</td>\n      <td>24</td>\n      <td>среднее</td>\n      <td>1</td>\n      <td>гражданский брак</td>\n      <td>1</td>\n      <td>F</td>\n      <td>сотрудник</td>\n      <td>0</td>\n      <td>149681.140731</td>\n      <td>на покупку подержанного автомобиля</td>\n    </tr>\n    <tr>\n      <th>23</th>\n      <td>0</td>\n      <td>-272.981385</td>\n      <td>21</td>\n      <td>высшее</td>\n      <td>0</td>\n      <td>гражданский брак</td>\n      <td>1</td>\n      <td>M</td>\n      <td>сотрудник</td>\n      <td>0</td>\n      <td>128265.720871</td>\n      <td>сыграть свадьбу</td>\n    </tr>\n    <tr>\n      <th>24</th>\n      <td>1</td>\n      <td>338551.952911</td>\n      <td>57</td>\n      <td>среднее</td>\n      <td>1</td>\n      <td>Не женат / не замужем</td>\n      <td>4</td>\n      <td>F</td>\n      <td>пенсионер</td>\n      <td>0</td>\n      <td>290547.235997</td>\n      <td>операции с коммерческой недвижимостью</td>\n    </tr>\n    <tr>\n      <th>25</th>\n      <td>0</td>\n      <td>363548.489348</td>\n      <td>67</td>\n      <td>среднее</td>\n      <td>1</td>\n      <td>женат / замужем</td>\n      <td>0</td>\n      <td>M</td>\n      <td>пенсионер</td>\n      <td>0</td>\n      <td>55112.757732</td>\n      <td>покупка недвижимости</td>\n    </tr>\n    <tr>\n      <th>26</th>\n      <td>0</td>\n      <td>NaN</td>\n      <td>41</td>\n      <td>среднее</td>\n      <td>1</td>\n      <td>женат / замужем</td>\n      <td>0</td>\n      <td>M</td>\n      <td>госслужащий</td>\n      <td>0</td>\n      <td>NaN</td>\n      <td>образование</td>\n    </tr>\n    <tr>\n      <th>27</th>\n      <td>0</td>\n      <td>-529.191635</td>\n      <td>28</td>\n      <td>высшее</td>\n      <td>0</td>\n      <td>женат / замужем</td>\n      <td>0</td>\n      <td>M</td>\n      <td>сотрудник</td>\n      <td>0</td>\n      <td>308848.983691</td>\n      <td>строительство собственной недвижимости</td>\n    </tr>\n    <tr>\n      <th>28</th>\n      <td>1</td>\n      <td>-717.274324</td>\n      <td>26</td>\n      <td>высшее</td>\n      <td>0</td>\n      <td>женат / замужем</td>\n      <td>0</td>\n      <td>F</td>\n      <td>сотрудник</td>\n      <td>0</td>\n      <td>187863.237306</td>\n      <td>строительство собственной недвижимости</td>\n    </tr>\n    <tr>\n      <th>29</th>\n      <td>0</td>\n      <td>NaN</td>\n      <td>63</td>\n      <td>среднее</td>\n      <td>1</td>\n      <td>Не женат / не замужем</td>\n      <td>4</td>\n      <td>F</td>\n      <td>пенсионер</td>\n      <td>0</td>\n      <td>NaN</td>\n      <td>строительство жилой недвижимости</td>\n    </tr>\n  </tbody>\n</table>\n</div>"
     },
     "execution_count": 404,
     "metadata": {},
     "output_type": "execute_result"
    }
   ],
   "source": [
    "data.head(30)"
   ],
   "metadata": {
    "collapsed": false,
    "pycharm": {
     "name": "#%%\n"
    }
   }
  },
  {
   "cell_type": "code",
   "execution_count": 405,
   "outputs": [
    {
     "data": {
      "text/plain": "           children  days_employed     dob_years  education_id  \\\ncount  21525.000000   19351.000000  21525.000000  21525.000000   \nmean       0.538908   63046.497661     43.293380      0.817236   \nstd        1.381587  140827.311974     12.574584      0.548138   \nmin       -1.000000  -18388.949901      0.000000      0.000000   \n25%        0.000000   -2747.423625     33.000000      1.000000   \n50%        0.000000   -1203.369529     42.000000      1.000000   \n75%        1.000000    -291.095954     53.000000      1.000000   \nmax       20.000000  401755.400475     75.000000      4.000000   \n\n       family_status_id          debt  total_income  \ncount      21525.000000  21525.000000  1.935100e+04  \nmean           0.972544      0.080883  1.674223e+05  \nstd            1.420324      0.272661  1.029716e+05  \nmin            0.000000      0.000000  2.066726e+04  \n25%            0.000000      0.000000  1.030532e+05  \n50%            0.000000      0.000000  1.450179e+05  \n75%            1.000000      0.000000  2.034351e+05  \nmax            4.000000      1.000000  2.265604e+06  ",
      "text/html": "<div>\n<style scoped>\n    .dataframe tbody tr th:only-of-type {\n        vertical-align: middle;\n    }\n\n    .dataframe tbody tr th {\n        vertical-align: top;\n    }\n\n    .dataframe thead th {\n        text-align: right;\n    }\n</style>\n<table border=\"1\" class=\"dataframe\">\n  <thead>\n    <tr style=\"text-align: right;\">\n      <th></th>\n      <th>children</th>\n      <th>days_employed</th>\n      <th>dob_years</th>\n      <th>education_id</th>\n      <th>family_status_id</th>\n      <th>debt</th>\n      <th>total_income</th>\n    </tr>\n  </thead>\n  <tbody>\n    <tr>\n      <th>count</th>\n      <td>21525.000000</td>\n      <td>19351.000000</td>\n      <td>21525.000000</td>\n      <td>21525.000000</td>\n      <td>21525.000000</td>\n      <td>21525.000000</td>\n      <td>1.935100e+04</td>\n    </tr>\n    <tr>\n      <th>mean</th>\n      <td>0.538908</td>\n      <td>63046.497661</td>\n      <td>43.293380</td>\n      <td>0.817236</td>\n      <td>0.972544</td>\n      <td>0.080883</td>\n      <td>1.674223e+05</td>\n    </tr>\n    <tr>\n      <th>std</th>\n      <td>1.381587</td>\n      <td>140827.311974</td>\n      <td>12.574584</td>\n      <td>0.548138</td>\n      <td>1.420324</td>\n      <td>0.272661</td>\n      <td>1.029716e+05</td>\n    </tr>\n    <tr>\n      <th>min</th>\n      <td>-1.000000</td>\n      <td>-18388.949901</td>\n      <td>0.000000</td>\n      <td>0.000000</td>\n      <td>0.000000</td>\n      <td>0.000000</td>\n      <td>2.066726e+04</td>\n    </tr>\n    <tr>\n      <th>25%</th>\n      <td>0.000000</td>\n      <td>-2747.423625</td>\n      <td>33.000000</td>\n      <td>1.000000</td>\n      <td>0.000000</td>\n      <td>0.000000</td>\n      <td>1.030532e+05</td>\n    </tr>\n    <tr>\n      <th>50%</th>\n      <td>0.000000</td>\n      <td>-1203.369529</td>\n      <td>42.000000</td>\n      <td>1.000000</td>\n      <td>0.000000</td>\n      <td>0.000000</td>\n      <td>1.450179e+05</td>\n    </tr>\n    <tr>\n      <th>75%</th>\n      <td>1.000000</td>\n      <td>-291.095954</td>\n      <td>53.000000</td>\n      <td>1.000000</td>\n      <td>1.000000</td>\n      <td>0.000000</td>\n      <td>2.034351e+05</td>\n    </tr>\n    <tr>\n      <th>max</th>\n      <td>20.000000</td>\n      <td>401755.400475</td>\n      <td>75.000000</td>\n      <td>4.000000</td>\n      <td>4.000000</td>\n      <td>1.000000</td>\n      <td>2.265604e+06</td>\n    </tr>\n  </tbody>\n</table>\n</div>"
     },
     "execution_count": 405,
     "metadata": {},
     "output_type": "execute_result"
    }
   ],
   "source": [
    "data.describe()"
   ],
   "metadata": {
    "collapsed": false,
    "pycharm": {
     "name": "#%%\n"
    }
   }
  },
  {
   "cell_type": "markdown",
   "source": [
    "**Из полученных данных можно сделать следующие выводы:**\n",
    "\n",
    "1. У столбцов children, dob_years, education_id, family_status_id, debt максимальные значения никогда не превысят int64, так что можем смело конвертировать их в int8 сэкономив память.\n",
    "2. В столбце children минимальное значение равно -1, что явно говорит о наличии недостоверных/ошибочных данных в данном столбце.\n",
    "3. Столбец days_employed выглядит довольно странно, очень много отрицательных и слишком больших значений.\n",
    "4. В столбце education необходимо привести данные к нижнему регистру для дальнейшего удобства работы с ними\n",
    "\n",
    "## Шаг2: Предобработка данных\n",
    "\n",
    "### Преобразование типов данных\n",
    "\n",
    "Для начала преобразуем типы данных для экономии памяти.\n",
    "Для наглядности создадим датафрейм, содержащий информацию об исходном датасете и датасете с преобразованными типами данных."
   ],
   "metadata": {
    "collapsed": false
   }
  },
  {
   "cell_type": "code",
   "execution_count": 406,
   "outputs": [
    {
     "data": {
      "text/plain": "                     Index  children  days_employed  dob_years  education  \\\nbefore_optimization  128.0  172200.0       172200.0   172200.0   172200.0   \nafter_optimization   128.0   21525.0        86100.0    21525.0   172200.0   \ncompressed_bytes       0.0  150675.0        86100.0   150675.0        0.0   \n%_compress             0.0      87.5           50.0       87.5        0.0   \n\n                     education_id  family_status  family_status_id    gender  \\\nbefore_optimization      172200.0       172200.0          172200.0  172200.0   \nafter_optimization        21525.0       172200.0           21525.0  172200.0   \ncompressed_bytes         150675.0            0.0          150675.0       0.0   \n%_compress                   87.5            0.0              87.5       0.0   \n\n                     income_type      debt  total_income   purpose  \nbefore_optimization     172200.0  172200.0      172200.0  172200.0  \nafter_optimization      172200.0   21525.0       86100.0  172200.0  \ncompressed_bytes             0.0  150675.0       86100.0       0.0  \n%_compress                   0.0      87.5          50.0       0.0  ",
      "text/html": "<div>\n<style scoped>\n    .dataframe tbody tr th:only-of-type {\n        vertical-align: middle;\n    }\n\n    .dataframe tbody tr th {\n        vertical-align: top;\n    }\n\n    .dataframe thead th {\n        text-align: right;\n    }\n</style>\n<table border=\"1\" class=\"dataframe\">\n  <thead>\n    <tr style=\"text-align: right;\">\n      <th></th>\n      <th>Index</th>\n      <th>children</th>\n      <th>days_employed</th>\n      <th>dob_years</th>\n      <th>education</th>\n      <th>education_id</th>\n      <th>family_status</th>\n      <th>family_status_id</th>\n      <th>gender</th>\n      <th>income_type</th>\n      <th>debt</th>\n      <th>total_income</th>\n      <th>purpose</th>\n    </tr>\n  </thead>\n  <tbody>\n    <tr>\n      <th>before_optimization</th>\n      <td>128.0</td>\n      <td>172200.0</td>\n      <td>172200.0</td>\n      <td>172200.0</td>\n      <td>172200.0</td>\n      <td>172200.0</td>\n      <td>172200.0</td>\n      <td>172200.0</td>\n      <td>172200.0</td>\n      <td>172200.0</td>\n      <td>172200.0</td>\n      <td>172200.0</td>\n      <td>172200.0</td>\n    </tr>\n    <tr>\n      <th>after_optimization</th>\n      <td>128.0</td>\n      <td>21525.0</td>\n      <td>86100.0</td>\n      <td>21525.0</td>\n      <td>172200.0</td>\n      <td>21525.0</td>\n      <td>172200.0</td>\n      <td>21525.0</td>\n      <td>172200.0</td>\n      <td>172200.0</td>\n      <td>21525.0</td>\n      <td>86100.0</td>\n      <td>172200.0</td>\n    </tr>\n    <tr>\n      <th>compressed_bytes</th>\n      <td>0.0</td>\n      <td>150675.0</td>\n      <td>86100.0</td>\n      <td>150675.0</td>\n      <td>0.0</td>\n      <td>150675.0</td>\n      <td>0.0</td>\n      <td>150675.0</td>\n      <td>0.0</td>\n      <td>0.0</td>\n      <td>150675.0</td>\n      <td>86100.0</td>\n      <td>0.0</td>\n    </tr>\n    <tr>\n      <th>%_compress</th>\n      <td>0.0</td>\n      <td>87.5</td>\n      <td>50.0</td>\n      <td>87.5</td>\n      <td>0.0</td>\n      <td>87.5</td>\n      <td>0.0</td>\n      <td>87.5</td>\n      <td>0.0</td>\n      <td>0.0</td>\n      <td>87.5</td>\n      <td>50.0</td>\n      <td>0.0</td>\n    </tr>\n  </tbody>\n</table>\n</div>"
     },
     "execution_count": 406,
     "metadata": {},
     "output_type": "execute_result"
    }
   ],
   "source": [
    "data_compressed = data.astype({'children': 'int8', 'days_employed': 'float32', 'dob_years': 'int8', 'education_id': 'int8', 'family_status_id': 'int8', 'debt': 'int8', 'total_income': 'float32'})\n",
    "pd.DataFrame(data=[\n",
    "    data.memory_usage(),\n",
    "    data_compressed.memory_usage(),\n",
    "    data.memory_usage() - data_compressed.memory_usage(),\n",
    "    100 / (data.memory_usage() / (data.memory_usage() - data_compressed.memory_usage()))\n",
    "    ]\n",
    ").rename({0: 'before_optimization', 1: 'after_optimization', 2: 'compressed_bytes', 3: '%_compress'})"
   ],
   "metadata": {
    "collapsed": false,
    "pycharm": {
     "name": "#%%\n"
    }
   }
  },
  {
   "cell_type": "markdown",
   "source": [
    "Простым преобразованием типов данных удалось уменьшить потребление памяти от 50% до 87.5%."
   ],
   "metadata": {
    "collapsed": false
   }
  },
  {
   "cell_type": "code",
   "execution_count": 407,
   "outputs": [
    {
     "name": "stdout",
     "output_type": "stream",
     "text": [
      "<class 'pandas.core.frame.DataFrame'>\n",
      "RangeIndex: 21525 entries, 0 to 21524\n",
      "Data columns (total 12 columns):\n",
      " #   Column            Non-Null Count  Dtype  \n",
      "---  ------            --------------  -----  \n",
      " 0   children          21525 non-null  int8   \n",
      " 1   days_employed     19351 non-null  float32\n",
      " 2   dob_years         21525 non-null  int8   \n",
      " 3   education         21525 non-null  object \n",
      " 4   education_id      21525 non-null  int8   \n",
      " 5   family_status     21525 non-null  object \n",
      " 6   family_status_id  21525 non-null  int8   \n",
      " 7   gender            21525 non-null  object \n",
      " 8   income_type       21525 non-null  object \n",
      " 9   debt              21525 non-null  int8   \n",
      " 10  total_income      19351 non-null  float32\n",
      " 11  purpose           21525 non-null  object \n",
      "dtypes: float32(2), int8(5), object(5)\n",
      "memory usage: 1.1+ MB\n"
     ]
    }
   ],
   "source": [
    "data_compressed.info()"
   ],
   "metadata": {
    "collapsed": false,
    "pycharm": {
     "name": "#%%\n"
    }
   }
  },
  {
   "cell_type": "markdown",
   "source": [
    "Теперь датасет использует 1.1+ MB памяти вместо 2+ MB.\n",
    "Далее будем использовать \"сжатый\" датасет."
   ],
   "metadata": {
    "collapsed": false
   }
  },
  {
   "cell_type": "code",
   "execution_count": 408,
   "outputs": [],
   "source": [
    "data = data_compressed"
   ],
   "metadata": {
    "collapsed": false,
    "pycharm": {
     "name": "#%%\n"
    }
   }
  },
  {
   "cell_type": "markdown",
   "source": [
    "### Приведение строковых данных к нижнему регистру\n",
    "\n",
    "Приведем данные в столбцах education и family_status к нижнему регистру для дальнейшего удоства работы с ними."
   ],
   "metadata": {
    "collapsed": false
   }
  },
  {
   "cell_type": "markdown",
   "source": [],
   "metadata": {
    "collapsed": false
   }
  },
  {
   "cell_type": "code",
   "execution_count": 409,
   "outputs": [
    {
     "data": {
      "text/plain": "education            family_status        \nсреднее              женат / замужем          8848\nвысшее               женат / замужем          3046\nсреднее              гражданский брак         2999\n                     не женат / не замужем    1779\nвысшее               гражданский брак          956\nсреднее              в разводе                 827\nвысшее               не женат / не замужем     806\nсреднее              вдовец / вдова            780\nнеоконченное высшее  женат / замужем           341\nвысшее               в разводе                 316\nнеоконченное высшее  не женат / не замужем     193\n                     гражданский брак          166\nначальное            женат / замужем           141\nвысшее               вдовец / вдова            136\nначальное            гражданский брак           56\n                     не женат / не замужем      34\nнеоконченное высшее  в разводе                  31\nначальное            вдовец / вдова             31\n                     в разводе                  20\nнеоконченное высшее  вдовец / вдова             13\nученая степень       женат / замужем             4\n                     в разводе                   1\n                     не женат / не замужем       1\ndtype: int64"
     },
     "execution_count": 409,
     "metadata": {},
     "output_type": "execute_result"
    }
   ],
   "source": [
    "data['education'] = data['education'].apply(lambda x: x.lower())\n",
    "data['family_status'] = data['family_status'].apply(lambda x: x.lower())\n",
    "# проверяем что код отработал корректно\n",
    "data[['education', 'family_status']].value_counts()"
   ],
   "metadata": {
    "collapsed": false,
    "pycharm": {
     "name": "#%%\n"
    }
   }
  },
  {
   "cell_type": "markdown",
   "source": [
    "### Лемматизация/стемминг\n",
    "\n",
    "Лемматизируем/применим стемминг для данных из колонки purpose для дальнейшего удобства работы с ними."
   ],
   "metadata": {
    "collapsed": false
   }
  },
  {
   "cell_type": "code",
   "execution_count": 410,
   "outputs": [
    {
     "data": {
      "text/plain": "0                 покупка жил\n1      приобретение автомобил\n2                 покупка жил\n3    дополнительное образован\n4              сыграть свадьб\n5                 покупка жил\n6              операции с жил\n7                   образован\n8        на проведение свадьб\n9       покупка жилья для сем\nName: purpose, dtype: object"
     },
     "execution_count": 410,
     "metadata": {},
     "output_type": "execute_result"
    }
   ],
   "source": [
    "# т.к. функция лемматизации на моем компьютере почему-то будет выполняться около 1.5 дней (5.5 сек на итерацию),\n",
    "# а на моей VPS mystem вообще не работает из-за aarch64 архитектуры, и проект я случайно уже загрузил на практикуме\n",
    "# и поэтому у меня больше недоступен ноутбук практикума я буду использовать стемминг, т.к. он выполняется за ~1.5 секунды\n",
    "\n",
    "# data['purpose'].head().apply(lambda x: mystem(x))\n",
    "data['purpose'] = data['purpose'].apply(lambda x: snowball_stemmer(x))\n",
    "# проверим что функция отработала корректно\n",
    "data['purpose'].head(10)"
   ],
   "metadata": {
    "collapsed": false,
    "pycharm": {
     "name": "#%%\n"
    }
   }
  },
  {
   "cell_type": "markdown",
   "source": [
    "### Определение типа ошибки\n",
    "\n",
    "Ранее мы обнаружили пропуски в столбцах days_employed и total_income, давайте рассмотрим их поподробнее.\n",
    "Учитывая что количество пропусков в столбцах одинаково, можно предположить что между ними есть зависимость и в строке,\n",
    "где пропущено значение столбца days_employed, также пропущено значение столбца total_income.\n",
    "Чтобы в этом убедиться выберем все строки, где пропущенны значения в обоих столбцах. Количество строк должно быть равно 2174.\n",
    "Если будет больше, значит значения пропущены в разных строчках.\n",
    "Давайте проверим это.\n"
   ],
   "metadata": {
    "collapsed": false
   }
  },
  {
   "cell_type": "code",
   "execution_count": 411,
   "outputs": [
    {
     "data": {
      "text/plain": "2174"
     },
     "execution_count": 411,
     "metadata": {},
     "output_type": "execute_result"
    }
   ],
   "source": [
    "\n",
    "data.query('days_employed.isna() and total_income.isna()').children.count()\n"
   ],
   "metadata": {
    "collapsed": false,
    "pycharm": {
     "name": "#%%\n"
    }
   }
  },
  {
   "cell_type": "markdown",
   "source": [
    "Действительно между пропусками в столбцах days_employed и total_income есть прямая зависимость.\n",
    "Теперь необходимо узнать, к какому типу пропусков относятся наши данные.\n",
    "Для этого выберем все строки с пропущенными значениями в одном или двух столбцах и проверим встречаются ли пропуске в каком-то одном классе, или нет.\n",
    "Для наглядности создадим для этого датафрейм и выведем его на экран."
   ],
   "metadata": {
    "collapsed": false
   }
  },
  {
   "cell_type": "code",
   "execution_count": 412,
   "outputs": [
    {
     "data": {
      "text/plain": "'======================================== Column: family_status ========================================'"
     },
     "metadata": {},
     "output_type": "display_data"
    },
    {
     "data": {
      "text/plain": "                                 женат / замужем  гражданский брак  \\\nКоличество пропущенных значений             1237               442   \n\n                                 не женат / не замужем  в разводе  \\\nКоличество пропущенных значений                    288        112   \n\n                                 вдовец / вдова  \nКоличество пропущенных значений              95  ",
      "text/html": "<div>\n<style scoped>\n    .dataframe tbody tr th:only-of-type {\n        vertical-align: middle;\n    }\n\n    .dataframe tbody tr th {\n        vertical-align: top;\n    }\n\n    .dataframe thead th {\n        text-align: right;\n    }\n</style>\n<table border=\"1\" class=\"dataframe\">\n  <thead>\n    <tr style=\"text-align: right;\">\n      <th></th>\n      <th>женат / замужем</th>\n      <th>гражданский брак</th>\n      <th>не женат / не замужем</th>\n      <th>в разводе</th>\n      <th>вдовец / вдова</th>\n    </tr>\n  </thead>\n  <tbody>\n    <tr>\n      <th>Количество пропущенных значений</th>\n      <td>1237</td>\n      <td>442</td>\n      <td>288</td>\n      <td>112</td>\n      <td>95</td>\n    </tr>\n  </tbody>\n</table>\n</div>"
     },
     "metadata": {},
     "output_type": "display_data"
    },
    {
     "data": {
      "text/plain": "'======================================== Column: debt ========================================'"
     },
     "metadata": {},
     "output_type": "display_data"
    },
    {
     "data": {
      "text/plain": "                                    0    1\nКоличество пропущенных значений  2004  170",
      "text/html": "<div>\n<style scoped>\n    .dataframe tbody tr th:only-of-type {\n        vertical-align: middle;\n    }\n\n    .dataframe tbody tr th {\n        vertical-align: top;\n    }\n\n    .dataframe thead th {\n        text-align: right;\n    }\n</style>\n<table border=\"1\" class=\"dataframe\">\n  <thead>\n    <tr style=\"text-align: right;\">\n      <th></th>\n      <th>0</th>\n      <th>1</th>\n    </tr>\n  </thead>\n  <tbody>\n    <tr>\n      <th>Количество пропущенных значений</th>\n      <td>2004</td>\n      <td>170</td>\n    </tr>\n  </tbody>\n</table>\n</div>"
     },
     "metadata": {},
     "output_type": "display_data"
    },
    {
     "data": {
      "text/plain": "'======================================== Column: income_type ========================================'"
     },
     "metadata": {},
     "output_type": "display_data"
    },
    {
     "data": {
      "text/plain": "                                 сотрудник  компаньон  пенсионер  госслужащий  \\\nКоличество пропущенных значений       1105        508        413          147   \n\n                                 предприниматель  \nКоличество пропущенных значений                1  ",
      "text/html": "<div>\n<style scoped>\n    .dataframe tbody tr th:only-of-type {\n        vertical-align: middle;\n    }\n\n    .dataframe tbody tr th {\n        vertical-align: top;\n    }\n\n    .dataframe thead th {\n        text-align: right;\n    }\n</style>\n<table border=\"1\" class=\"dataframe\">\n  <thead>\n    <tr style=\"text-align: right;\">\n      <th></th>\n      <th>сотрудник</th>\n      <th>компаньон</th>\n      <th>пенсионер</th>\n      <th>госслужащий</th>\n      <th>предприниматель</th>\n    </tr>\n  </thead>\n  <tbody>\n    <tr>\n      <th>Количество пропущенных значений</th>\n      <td>1105</td>\n      <td>508</td>\n      <td>413</td>\n      <td>147</td>\n      <td>1</td>\n    </tr>\n  </tbody>\n</table>\n</div>"
     },
     "metadata": {},
     "output_type": "display_data"
    },
    {
     "data": {
      "text/plain": "'======================================== Column: gender ========================================'"
     },
     "metadata": {},
     "output_type": "display_data"
    },
    {
     "data": {
      "text/plain": "                                    F    M\nКоличество пропущенных значений  1484  690",
      "text/html": "<div>\n<style scoped>\n    .dataframe tbody tr th:only-of-type {\n        vertical-align: middle;\n    }\n\n    .dataframe tbody tr th {\n        vertical-align: top;\n    }\n\n    .dataframe thead th {\n        text-align: right;\n    }\n</style>\n<table border=\"1\" class=\"dataframe\">\n  <thead>\n    <tr style=\"text-align: right;\">\n      <th></th>\n      <th>F</th>\n      <th>M</th>\n    </tr>\n  </thead>\n  <tbody>\n    <tr>\n      <th>Количество пропущенных значений</th>\n      <td>1484</td>\n      <td>690</td>\n    </tr>\n  </tbody>\n</table>\n</div>"
     },
     "metadata": {},
     "output_type": "display_data"
    },
    {
     "data": {
      "text/plain": "'======================================== Column: education ========================================'"
     },
     "metadata": {},
     "output_type": "display_data"
    },
    {
     "data": {
      "text/plain": "                                 среднее  высшее  неоконченное высшее  \\\nКоличество пропущенных значений     1540     544                   69   \n\n                                 начальное  \nКоличество пропущенных значений         21  ",
      "text/html": "<div>\n<style scoped>\n    .dataframe tbody tr th:only-of-type {\n        vertical-align: middle;\n    }\n\n    .dataframe tbody tr th {\n        vertical-align: top;\n    }\n\n    .dataframe thead th {\n        text-align: right;\n    }\n</style>\n<table border=\"1\" class=\"dataframe\">\n  <thead>\n    <tr style=\"text-align: right;\">\n      <th></th>\n      <th>среднее</th>\n      <th>высшее</th>\n      <th>неоконченное высшее</th>\n      <th>начальное</th>\n    </tr>\n  </thead>\n  <tbody>\n    <tr>\n      <th>Количество пропущенных значений</th>\n      <td>1540</td>\n      <td>544</td>\n      <td>69</td>\n      <td>21</td>\n    </tr>\n  </tbody>\n</table>\n</div>"
     },
     "metadata": {},
     "output_type": "display_data"
    },
    {
     "data": {
      "text/plain": "'======================================== Column: dob_years ========================================'"
     },
     "metadata": {},
     "output_type": "display_data"
    },
    {
     "data": {
      "text/plain": "                                 34  40  42  31  35  36  47  41  30  28  ...  \\\nКоличество пропущенных значений  69  66  65  65  64  63  59  59  58  57  ...   \n\n                                 67  0   68  71  69  20  70  72  19  73  \nКоличество пропущенных значений  16  10   9   5   5   5   3   2   1   1  \n\n[1 rows x 56 columns]",
      "text/html": "<div>\n<style scoped>\n    .dataframe tbody tr th:only-of-type {\n        vertical-align: middle;\n    }\n\n    .dataframe tbody tr th {\n        vertical-align: top;\n    }\n\n    .dataframe thead th {\n        text-align: right;\n    }\n</style>\n<table border=\"1\" class=\"dataframe\">\n  <thead>\n    <tr style=\"text-align: right;\">\n      <th></th>\n      <th>34</th>\n      <th>40</th>\n      <th>42</th>\n      <th>31</th>\n      <th>35</th>\n      <th>36</th>\n      <th>47</th>\n      <th>41</th>\n      <th>30</th>\n      <th>28</th>\n      <th>...</th>\n      <th>67</th>\n      <th>0</th>\n      <th>68</th>\n      <th>71</th>\n      <th>69</th>\n      <th>20</th>\n      <th>70</th>\n      <th>72</th>\n      <th>19</th>\n      <th>73</th>\n    </tr>\n  </thead>\n  <tbody>\n    <tr>\n      <th>Количество пропущенных значений</th>\n      <td>69</td>\n      <td>66</td>\n      <td>65</td>\n      <td>65</td>\n      <td>64</td>\n      <td>63</td>\n      <td>59</td>\n      <td>59</td>\n      <td>58</td>\n      <td>57</td>\n      <td>...</td>\n      <td>16</td>\n      <td>10</td>\n      <td>9</td>\n      <td>5</td>\n      <td>5</td>\n      <td>5</td>\n      <td>3</td>\n      <td>2</td>\n      <td>1</td>\n      <td>1</td>\n    </tr>\n  </tbody>\n</table>\n<p>1 rows × 56 columns</p>\n</div>"
     },
     "metadata": {},
     "output_type": "display_data"
    }
   ],
   "source": [
    "# список колонок по которым будем проводить анализ\n",
    "columns = ['family_status', 'debt', 'income_type', 'gender', 'education', 'dob_years']\n",
    "# создаем датафрейм, состоящий из строк с пропущенными значениями в колонках\n",
    "empty_data = data.query('days_employed.isna() and total_income.isna()')\n",
    "\n",
    "# считаем количество пропущенных значений для каждой анализируемой колонки\n",
    "for column in columns:\n",
    "    display(f\"{'='*40} Column: {column} {'='*40}\")\n",
    "    display(\n",
    "        pd.DataFrame(\n",
    "            data=[\n",
    "                empty_data[column].value_counts()\n",
    "            ]\n",
    "        ).rename({column: 'Количество пропущенных значений'}))"
   ],
   "metadata": {
    "collapsed": false,
    "pycharm": {
     "name": "#%%\n"
    }
   }
  },
  {
   "cell_type": "markdown",
   "source": [
    "*Из полученных данных мы можем сделать следующий вывод:*\n",
    "Мы имеем дело со случайной ошибкой т.к. есть зависимость между пропусками в колонках days_employed и total_income, но нет зависимости от значений собственного столбца.\n",
    "\n",
    "## Заполнение пропусков\n",
    "\n",
    "Для начала займемся пропусками столбца total_income.\n",
    "Наиболее точно можно заполнить пропуски медианной зарплатой для датафрейма (не берем среднюю дабы исключить слишком высокие и низкие значения), сгруппированного по типу занятости, гендеру и образованию.\n",
    "В случае, если ежемесячный доход не зависит от гендера, его можно будет исключить из группировки и посчитать медиану только по типу занятости и образованию."
   ],
   "metadata": {
    "collapsed": false
   }
  },
  {
   "cell_type": "code",
   "execution_count": 413,
   "outputs": [
    {
     "data": {
      "text/plain": "income_type      gender  education          \nбезработный      F       высшее                 202722.515625\n                 M       среднее                 59956.992188\nв декрете        F       среднее                 53829.128906\nгосслужащий      F       высшее                 157841.437500\n                         начальное               89618.968750\n                         неоконченное высшее    136599.125000\n                         среднее                125831.812500\n                         ученая степень         111392.234375\n                 M       высшее                 214706.640625\n                         начальное              190966.656250\n                         неоконченное высшее    177320.625000\n                         среднее                169651.953125\nкомпаньон        F       высшее                 189893.468750\n                         начальное              134012.000000\n                         неоконченное высшее    170471.625000\n                         среднее                144881.781250\n                 M       высшее                 233064.875000\n                         начальное              150100.968750\n                         неоконченное высшее    191291.937500\n                         среднее                181889.031250\n                 XNA     неоконченное высшее    203905.156250\nпенсионер        F       высшее                 142404.281250\n                         начальное              101180.562500\n                         неоконченное высшее    116592.976562\n                         среднее                112790.968750\n                         ученая степень         255425.203125\n                 M       высшее                 157457.328125\n                         начальное              113124.203125\n                         неоконченное высшее    124667.468750\n                         среднее                126097.195312\n                         ученая степень          98752.492188\nпредприниматель  F       высшее                 499163.156250\n                 M       высшее                           NaN\nсотрудник        F       высшее                 153691.843750\n                         начальное              118516.718750\n                         неоконченное высшее    134925.187500\n                         среднее                124127.093750\n                 M       высшее                 192247.296875\n                         начальное              141637.953125\n                         неоконченное высшее    189075.921875\n                         среднее                156286.406250\n                         ученая степень         198570.750000\nстудент          M       высшее                  98201.625000\nName: total_income, dtype: float32"
     },
     "execution_count": 413,
     "metadata": {},
     "output_type": "execute_result"
    }
   ],
   "source": [
    "data.groupby(['income_type', 'gender', 'education'])['total_income'].median()"
   ],
   "metadata": {
    "collapsed": false,
    "pycharm": {
     "name": "#%%\n"
    }
   }
  },
  {
   "cell_type": "markdown",
   "source": [
    "Как можем убедиться во всех группах, кроме пенсионеров, ежемесячный доход порой значительно зависит от гендера.\n",
    "Так что оставляем группировку по гендеру и заполняем пропущенные значения медианным значением.\n",
    "Но у нас есть один мужчина предприниматель с высшим образованием, медиану ежемесечного дохода которого нельзя посчитать из-за нехватки данных.\n",
    "Предположим что в предпринимательстве нет зависимости ежемесячного дохода от гендера, так что возьмем для него медианную ежемесячнаую зарплату\n",
    "девушек предпринимателей с таким же образованием."
   ],
   "metadata": {
    "collapsed": false
   }
  },
  {
   "cell_type": "code",
   "execution_count": 414,
   "outputs": [
    {
     "data": {
      "text/plain": "children            0\ndays_employed       0\ndob_years           0\neducation           0\neducation_id        0\nfamily_status       0\nfamily_status_id    0\ngender              0\nincome_type         0\ndebt                0\ntotal_income        0\npurpose             0\ndtype: int64"
     },
     "execution_count": 414,
     "metadata": {},
     "output_type": "execute_result"
    }
   ],
   "source": [
    "# присваиваем медианную зарплату вместо пропущенных значений\n",
    "data['total_income'] = data['total_income'].fillna(data.groupby(['income_type', 'gender', 'education'])['total_income'].transform('median'))\n",
    "# присваиваем медианную зарплату оставшемуся предпринимателю\n",
    "data.loc[data['total_income'].isna(), 'total_income'] = 499163.156250\n",
    "# убедимся что пропущенных значений в столбце total_income больше нет\n",
    "data.query('total_income.isna()').count()"
   ],
   "metadata": {
    "collapsed": false,
    "pycharm": {
     "name": "#%%\n"
    }
   }
  },
  {
   "cell_type": "markdown",
   "source": [
    "Теперь разберемся с данными в столбце days_employed.\n",
    "В данном столбце содержится информация об общем трудовом стаже в днях."
   ],
   "metadata": {
    "collapsed": false
   }
  },
  {
   "cell_type": "code",
   "execution_count": 415,
   "outputs": [
    {
     "data": {
      "text/plain": "count     19351.000000\nmean      63046.500000\nstd      140827.312500\nmin      -18388.949219\n25%       -2747.423584\n50%       -1203.369507\n75%        -291.095947\nmax      401755.406250\nName: days_employed, dtype: float64"
     },
     "execution_count": 415,
     "metadata": {},
     "output_type": "execute_result"
    }
   ],
   "source": [
    "data['days_employed'].describe()"
   ],
   "metadata": {
    "collapsed": false,
    "pycharm": {
     "name": "#%%\n"
    }
   }
  },
  {
   "cell_type": "markdown",
   "source": [
    "С данными явно что-то не так. Большинство данных имеют отрицательные значения и явно выражены не в днях.\n",
    "Предположим, что данные из этого столбца надо взять по модулю и выражены они не в днях, а в часах, т.о. нужно поделить значения на количество часов в сутках, т.е. 24 и привести к типу int."
   ],
   "metadata": {
    "collapsed": false
   }
  },
  {
   "cell_type": "code",
   "source": [
    "data['days_employed'] = data['days_employed'].abs() / 24\n",
    "data['days_employed'].describe()"
   ],
   "metadata": {
    "collapsed": false,
    "pycharm": {
     "name": "#%%\n"
    }
   },
   "execution_count": 416,
   "outputs": [
    {
     "data": {
      "text/plain": "count    19351.000000\nmean      2788.113770\nstd       5792.953125\nmin          1.005901\n25%         38.625389\n50%         91.425850\n75%        230.745117\nmax      16739.808594\nName: days_employed, dtype: float64"
     },
     "execution_count": 416,
     "metadata": {},
     "output_type": "execute_result"
    }
   ]
  },
  {
   "cell_type": "markdown",
   "source": [
    "Так-то лучше. В среднем трудовой стаж составляет почти 16 лет.\n",
    "Попробуем сгруппировать данные таким же способом, как и для ежемесячного дохода и посчитаем среднее значение и медиану."
   ],
   "metadata": {
    "collapsed": false
   }
  },
  {
   "cell_type": "code",
   "execution_count": 417,
   "outputs": [
    {
     "data": {
      "text/plain": "                                                    mean        median\nincome_type     education           gender                            \nбезработный     высшее              F       16470.951172  16470.951172\n                среднее             M       14063.519531  14063.519531\nв декрете       среднее             F         137.365005    137.365005\nгосслужащий     высшее              F         130.401321    103.482384\n                                    M         138.705338    118.150208\n                начальное           F         116.156967    116.156967\n                                    M         159.660980    103.221245\n                неоконченное высшее F          84.497902     66.277603\n                                    M         102.606949     91.148842\n                среднее             F         159.308655    121.987930\n                                    M         123.563889    110.303459\n                ученая степень      F         248.669815    248.669815\nкомпаньон       высшее              F          87.514641     64.066505\n                                    M          77.895767     55.325890\n                начальное           F          68.617905     47.984768\n                                    M          96.747955     44.804893\n                неоконченное высшее F          58.816292     39.749382\n                                    M          58.561928     43.355705\n                                    XNA        98.275024     98.275024\n                среднее             F          95.963615     71.088799\n                                    M          88.601364     66.923569\nпенсионер       высшее              F       15226.232422  15287.700195\n                                    M       15183.691406  15205.101562\n                начальное           F       15180.256836  15114.474609\n                                    M       14764.654297  14588.167969\n                неоконченное высшее F       15434.403320  15542.330078\n                                    M       15250.538086  14974.473633\n                среднее             F       15222.865234  15247.142578\n                                    M       15140.629883  15072.836914\n                ученая степень      F       15678.175781  15678.175781\n                                    M       14066.034180  14066.034180\nпредприниматель высшее              F          21.702003     21.702003\n                                    M                NaN           NaN\nсотрудник       высшее              F         100.535187     68.166092\n                                    M          82.662292     55.489563\n                начальное           F          94.826157     60.529099\n                                    M          63.229855     43.201439\n                неоконченное высшее F          65.866608     47.443508\n                                    M          66.872139     51.735100\n                среднее             F         108.452682     73.761307\n                                    M          85.713867     57.634796\n                ученая степень      M         112.675972     97.976326\nстудент         высшее              M          24.114647     24.114647",
      "text/html": "<div>\n<style scoped>\n    .dataframe tbody tr th:only-of-type {\n        vertical-align: middle;\n    }\n\n    .dataframe tbody tr th {\n        vertical-align: top;\n    }\n\n    .dataframe thead th {\n        text-align: right;\n    }\n</style>\n<table border=\"1\" class=\"dataframe\">\n  <thead>\n    <tr style=\"text-align: right;\">\n      <th></th>\n      <th></th>\n      <th></th>\n      <th>mean</th>\n      <th>median</th>\n    </tr>\n    <tr>\n      <th>income_type</th>\n      <th>education</th>\n      <th>gender</th>\n      <th></th>\n      <th></th>\n    </tr>\n  </thead>\n  <tbody>\n    <tr>\n      <th rowspan=\"2\" valign=\"top\">безработный</th>\n      <th>высшее</th>\n      <th>F</th>\n      <td>16470.951172</td>\n      <td>16470.951172</td>\n    </tr>\n    <tr>\n      <th>среднее</th>\n      <th>M</th>\n      <td>14063.519531</td>\n      <td>14063.519531</td>\n    </tr>\n    <tr>\n      <th>в декрете</th>\n      <th>среднее</th>\n      <th>F</th>\n      <td>137.365005</td>\n      <td>137.365005</td>\n    </tr>\n    <tr>\n      <th rowspan=\"9\" valign=\"top\">госслужащий</th>\n      <th rowspan=\"2\" valign=\"top\">высшее</th>\n      <th>F</th>\n      <td>130.401321</td>\n      <td>103.482384</td>\n    </tr>\n    <tr>\n      <th>M</th>\n      <td>138.705338</td>\n      <td>118.150208</td>\n    </tr>\n    <tr>\n      <th rowspan=\"2\" valign=\"top\">начальное</th>\n      <th>F</th>\n      <td>116.156967</td>\n      <td>116.156967</td>\n    </tr>\n    <tr>\n      <th>M</th>\n      <td>159.660980</td>\n      <td>103.221245</td>\n    </tr>\n    <tr>\n      <th rowspan=\"2\" valign=\"top\">неоконченное высшее</th>\n      <th>F</th>\n      <td>84.497902</td>\n      <td>66.277603</td>\n    </tr>\n    <tr>\n      <th>M</th>\n      <td>102.606949</td>\n      <td>91.148842</td>\n    </tr>\n    <tr>\n      <th rowspan=\"2\" valign=\"top\">среднее</th>\n      <th>F</th>\n      <td>159.308655</td>\n      <td>121.987930</td>\n    </tr>\n    <tr>\n      <th>M</th>\n      <td>123.563889</td>\n      <td>110.303459</td>\n    </tr>\n    <tr>\n      <th>ученая степень</th>\n      <th>F</th>\n      <td>248.669815</td>\n      <td>248.669815</td>\n    </tr>\n    <tr>\n      <th rowspan=\"9\" valign=\"top\">компаньон</th>\n      <th rowspan=\"2\" valign=\"top\">высшее</th>\n      <th>F</th>\n      <td>87.514641</td>\n      <td>64.066505</td>\n    </tr>\n    <tr>\n      <th>M</th>\n      <td>77.895767</td>\n      <td>55.325890</td>\n    </tr>\n    <tr>\n      <th rowspan=\"2\" valign=\"top\">начальное</th>\n      <th>F</th>\n      <td>68.617905</td>\n      <td>47.984768</td>\n    </tr>\n    <tr>\n      <th>M</th>\n      <td>96.747955</td>\n      <td>44.804893</td>\n    </tr>\n    <tr>\n      <th rowspan=\"3\" valign=\"top\">неоконченное высшее</th>\n      <th>F</th>\n      <td>58.816292</td>\n      <td>39.749382</td>\n    </tr>\n    <tr>\n      <th>M</th>\n      <td>58.561928</td>\n      <td>43.355705</td>\n    </tr>\n    <tr>\n      <th>XNA</th>\n      <td>98.275024</td>\n      <td>98.275024</td>\n    </tr>\n    <tr>\n      <th rowspan=\"2\" valign=\"top\">среднее</th>\n      <th>F</th>\n      <td>95.963615</td>\n      <td>71.088799</td>\n    </tr>\n    <tr>\n      <th>M</th>\n      <td>88.601364</td>\n      <td>66.923569</td>\n    </tr>\n    <tr>\n      <th rowspan=\"10\" valign=\"top\">пенсионер</th>\n      <th rowspan=\"2\" valign=\"top\">высшее</th>\n      <th>F</th>\n      <td>15226.232422</td>\n      <td>15287.700195</td>\n    </tr>\n    <tr>\n      <th>M</th>\n      <td>15183.691406</td>\n      <td>15205.101562</td>\n    </tr>\n    <tr>\n      <th rowspan=\"2\" valign=\"top\">начальное</th>\n      <th>F</th>\n      <td>15180.256836</td>\n      <td>15114.474609</td>\n    </tr>\n    <tr>\n      <th>M</th>\n      <td>14764.654297</td>\n      <td>14588.167969</td>\n    </tr>\n    <tr>\n      <th rowspan=\"2\" valign=\"top\">неоконченное высшее</th>\n      <th>F</th>\n      <td>15434.403320</td>\n      <td>15542.330078</td>\n    </tr>\n    <tr>\n      <th>M</th>\n      <td>15250.538086</td>\n      <td>14974.473633</td>\n    </tr>\n    <tr>\n      <th rowspan=\"2\" valign=\"top\">среднее</th>\n      <th>F</th>\n      <td>15222.865234</td>\n      <td>15247.142578</td>\n    </tr>\n    <tr>\n      <th>M</th>\n      <td>15140.629883</td>\n      <td>15072.836914</td>\n    </tr>\n    <tr>\n      <th rowspan=\"2\" valign=\"top\">ученая степень</th>\n      <th>F</th>\n      <td>15678.175781</td>\n      <td>15678.175781</td>\n    </tr>\n    <tr>\n      <th>M</th>\n      <td>14066.034180</td>\n      <td>14066.034180</td>\n    </tr>\n    <tr>\n      <th rowspan=\"2\" valign=\"top\">предприниматель</th>\n      <th rowspan=\"2\" valign=\"top\">высшее</th>\n      <th>F</th>\n      <td>21.702003</td>\n      <td>21.702003</td>\n    </tr>\n    <tr>\n      <th>M</th>\n      <td>NaN</td>\n      <td>NaN</td>\n    </tr>\n    <tr>\n      <th rowspan=\"9\" valign=\"top\">сотрудник</th>\n      <th rowspan=\"2\" valign=\"top\">высшее</th>\n      <th>F</th>\n      <td>100.535187</td>\n      <td>68.166092</td>\n    </tr>\n    <tr>\n      <th>M</th>\n      <td>82.662292</td>\n      <td>55.489563</td>\n    </tr>\n    <tr>\n      <th rowspan=\"2\" valign=\"top\">начальное</th>\n      <th>F</th>\n      <td>94.826157</td>\n      <td>60.529099</td>\n    </tr>\n    <tr>\n      <th>M</th>\n      <td>63.229855</td>\n      <td>43.201439</td>\n    </tr>\n    <tr>\n      <th rowspan=\"2\" valign=\"top\">неоконченное высшее</th>\n      <th>F</th>\n      <td>65.866608</td>\n      <td>47.443508</td>\n    </tr>\n    <tr>\n      <th>M</th>\n      <td>66.872139</td>\n      <td>51.735100</td>\n    </tr>\n    <tr>\n      <th rowspan=\"2\" valign=\"top\">среднее</th>\n      <th>F</th>\n      <td>108.452682</td>\n      <td>73.761307</td>\n    </tr>\n    <tr>\n      <th>M</th>\n      <td>85.713867</td>\n      <td>57.634796</td>\n    </tr>\n    <tr>\n      <th>ученая степень</th>\n      <th>M</th>\n      <td>112.675972</td>\n      <td>97.976326</td>\n    </tr>\n    <tr>\n      <th>студент</th>\n      <th>высшее</th>\n      <th>M</th>\n      <td>24.114647</td>\n      <td>24.114647</td>\n    </tr>\n  </tbody>\n</table>\n</div>"
     },
     "metadata": {},
     "output_type": "display_data"
    }
   ],
   "source": [
    "display(data.groupby(['income_type', 'education', 'gender'])['days_employed'].agg(['mean', 'median']))"
   ],
   "metadata": {
    "collapsed": false,
    "pycharm": {
     "name": "#%%\n"
    }
   }
  },
  {
   "cell_type": "markdown",
   "source": [
    "Видим, что тип занятости, образование и гендер также влияют трудовой стаж, но на пенсионеров меньше всего.\n",
    "Между средним и медианными есть разница, но пропорционально разница значений не сильно отличается.\n",
    "Чтобы выбрать, какими данными заполнить пропущенные значения с минимальной ошибкой, посмотрим на среднеквадратичное отклонение по каждой из функций."
   ],
   "metadata": {
    "collapsed": false
   }
  },
  {
   "cell_type": "code",
   "execution_count": 418,
   "outputs": [
    {
     "data": {
      "text/plain": "'СКО среднего значения группировки: 6885.7490234375'"
     },
     "metadata": {},
     "output_type": "display_data"
    },
    {
     "data": {
      "text/plain": "'СКО медианного значения группировки: 6881.36767578125'"
     },
     "metadata": {},
     "output_type": "display_data"
    }
   ],
   "source": [
    "display(f\"СКО среднего значения группировки: {data.groupby(['income_type', 'education', 'gender'])['days_employed'].agg(['mean', 'median'])['mean'].describe()['std']}\")\n",
    "display(f\"СКО медианного значения группировки: {data.groupby(['income_type', 'education', 'gender'])['days_employed'].agg(['mean', 'median'])['median'].describe()['std']}\")\n"
   ],
   "metadata": {
    "collapsed": false,
    "pycharm": {
     "name": "#%%\n"
    }
   }
  },
  {
   "cell_type": "markdown",
   "source": [
    "СКО среднего и медианного значений незначительно отличается, но у медианы чуть меньше отклонение, так что заполним значения медианой."
   ],
   "metadata": {
    "collapsed": false
   }
  },
  {
   "cell_type": "code",
   "execution_count": 419,
   "outputs": [
    {
     "data": {
      "text/plain": "children            0\ndays_employed       0\ndob_years           0\neducation           0\neducation_id        0\nfamily_status       0\nfamily_status_id    0\ngender              0\nincome_type         0\ndebt                0\ntotal_income        0\npurpose             0\ndtype: int64"
     },
     "execution_count": 419,
     "metadata": {},
     "output_type": "execute_result"
    }
   ],
   "source": [
    "data['days_employed'] = data.groupby(['income_type', 'education', 'gender'])['days_employed'].transform('median')\n",
    "# для мужчины предпринимателя возьмем данные женщин предпринимателей с тем же образованием\n",
    "data.loc[data['days_employed'].isna(), 'days_employed'] = 21.702003\n",
    "# убедимся что все пропуски заполнены\n",
    "data.query('days_employed.isna()').count()"
   ],
   "metadata": {
    "collapsed": false,
    "pycharm": {
     "name": "#%%\n"
    }
   }
  },
  {
   "cell_type": "markdown",
   "source": [
    "Ранее мы обнаружили отрицательные значение в столбце children. Давайте посмотрим количество таких записей."
   ],
   "metadata": {
    "collapsed": false
   }
  },
  {
   "cell_type": "code",
   "execution_count": 420,
   "outputs": [
    {
     "data": {
      "text/plain": "'Количество записей с отрицательным значением в столбце children: 47'"
     },
     "metadata": {},
     "output_type": "display_data"
    }
   ],
   "source": [
    "display(f\"Количество записей с отрицательным значением в столбце children: {len(data[data['children'] < 0])}\")"
   ],
   "metadata": {
    "collapsed": false,
    "pycharm": {
     "name": "#%%\n"
    }
   }
  },
  {
   "cell_type": "markdown",
   "source": [
    "47 записей с отрицательным значением. Похоже на баг. Удостоверимся, что он имеет случайный характер. Если нет, то будет что передать разработчикам."
   ],
   "metadata": {
    "collapsed": false
   }
  },
  {
   "cell_type": "code",
   "execution_count": 421,
   "outputs": [
    {
     "data": {
      "text/plain": "'======================================== Column: family_status ========================================'"
     },
     "metadata": {},
     "output_type": "display_data"
    },
    {
     "data": {
      "text/plain": "                                 женат / замужем  гражданский брак  \\\nКоличество пропущенных значений               29                 5   \n\n                                 не женат / не замужем  в разводе  \\\nКоличество пропущенных значений                      5          4   \n\n                                 вдовец / вдова  \nКоличество пропущенных значений               4  ",
      "text/html": "<div>\n<style scoped>\n    .dataframe tbody tr th:only-of-type {\n        vertical-align: middle;\n    }\n\n    .dataframe tbody tr th {\n        vertical-align: top;\n    }\n\n    .dataframe thead th {\n        text-align: right;\n    }\n</style>\n<table border=\"1\" class=\"dataframe\">\n  <thead>\n    <tr style=\"text-align: right;\">\n      <th></th>\n      <th>женат / замужем</th>\n      <th>гражданский брак</th>\n      <th>не женат / не замужем</th>\n      <th>в разводе</th>\n      <th>вдовец / вдова</th>\n    </tr>\n  </thead>\n  <tbody>\n    <tr>\n      <th>Количество пропущенных значений</th>\n      <td>29</td>\n      <td>5</td>\n      <td>5</td>\n      <td>4</td>\n      <td>4</td>\n    </tr>\n  </tbody>\n</table>\n</div>"
     },
     "metadata": {},
     "output_type": "display_data"
    },
    {
     "data": {
      "text/plain": "'======================================== Column: debt ========================================'"
     },
     "metadata": {},
     "output_type": "display_data"
    },
    {
     "data": {
      "text/plain": "                                  0  1\nКоличество пропущенных значений  46  1",
      "text/html": "<div>\n<style scoped>\n    .dataframe tbody tr th:only-of-type {\n        vertical-align: middle;\n    }\n\n    .dataframe tbody tr th {\n        vertical-align: top;\n    }\n\n    .dataframe thead th {\n        text-align: right;\n    }\n</style>\n<table border=\"1\" class=\"dataframe\">\n  <thead>\n    <tr style=\"text-align: right;\">\n      <th></th>\n      <th>0</th>\n      <th>1</th>\n    </tr>\n  </thead>\n  <tbody>\n    <tr>\n      <th>Количество пропущенных значений</th>\n      <td>46</td>\n      <td>1</td>\n    </tr>\n  </tbody>\n</table>\n</div>"
     },
     "metadata": {},
     "output_type": "display_data"
    },
    {
     "data": {
      "text/plain": "'======================================== Column: income_type ========================================'"
     },
     "metadata": {},
     "output_type": "display_data"
    },
    {
     "data": {
      "text/plain": "                                 сотрудник  компаньон  пенсионер  госслужащий\nКоличество пропущенных значений         26          9          8            4",
      "text/html": "<div>\n<style scoped>\n    .dataframe tbody tr th:only-of-type {\n        vertical-align: middle;\n    }\n\n    .dataframe tbody tr th {\n        vertical-align: top;\n    }\n\n    .dataframe thead th {\n        text-align: right;\n    }\n</style>\n<table border=\"1\" class=\"dataframe\">\n  <thead>\n    <tr style=\"text-align: right;\">\n      <th></th>\n      <th>сотрудник</th>\n      <th>компаньон</th>\n      <th>пенсионер</th>\n      <th>госслужащий</th>\n    </tr>\n  </thead>\n  <tbody>\n    <tr>\n      <th>Количество пропущенных значений</th>\n      <td>26</td>\n      <td>9</td>\n      <td>8</td>\n      <td>4</td>\n    </tr>\n  </tbody>\n</table>\n</div>"
     },
     "metadata": {},
     "output_type": "display_data"
    },
    {
     "data": {
      "text/plain": "'======================================== Column: gender ========================================'"
     },
     "metadata": {},
     "output_type": "display_data"
    },
    {
     "data": {
      "text/plain": "                                  F   M\nКоличество пропущенных значений  35  12",
      "text/html": "<div>\n<style scoped>\n    .dataframe tbody tr th:only-of-type {\n        vertical-align: middle;\n    }\n\n    .dataframe tbody tr th {\n        vertical-align: top;\n    }\n\n    .dataframe thead th {\n        text-align: right;\n    }\n</style>\n<table border=\"1\" class=\"dataframe\">\n  <thead>\n    <tr style=\"text-align: right;\">\n      <th></th>\n      <th>F</th>\n      <th>M</th>\n    </tr>\n  </thead>\n  <tbody>\n    <tr>\n      <th>Количество пропущенных значений</th>\n      <td>35</td>\n      <td>12</td>\n    </tr>\n  </tbody>\n</table>\n</div>"
     },
     "metadata": {},
     "output_type": "display_data"
    },
    {
     "data": {
      "text/plain": "'======================================== Column: education ========================================'"
     },
     "metadata": {},
     "output_type": "display_data"
    },
    {
     "data": {
      "text/plain": "                                 среднее  высшее  неоконченное высшее\nКоличество пропущенных значений       37       9                    1",
      "text/html": "<div>\n<style scoped>\n    .dataframe tbody tr th:only-of-type {\n        vertical-align: middle;\n    }\n\n    .dataframe tbody tr th {\n        vertical-align: top;\n    }\n\n    .dataframe thead th {\n        text-align: right;\n    }\n</style>\n<table border=\"1\" class=\"dataframe\">\n  <thead>\n    <tr style=\"text-align: right;\">\n      <th></th>\n      <th>среднее</th>\n      <th>высшее</th>\n      <th>неоконченное высшее</th>\n    </tr>\n  </thead>\n  <tbody>\n    <tr>\n      <th>Количество пропущенных значений</th>\n      <td>37</td>\n      <td>9</td>\n      <td>1</td>\n    </tr>\n  </tbody>\n</table>\n</div>"
     },
     "metadata": {},
     "output_type": "display_data"
    },
    {
     "data": {
      "text/plain": "'======================================== Column: dob_years ========================================'"
     },
     "metadata": {},
     "output_type": "display_data"
    },
    {
     "data": {
      "text/plain": "                                 46  34  40  37  28  31  50  44  32  41  ...  \\\nКоличество пропущенных значений   3   3   2   2   2   2   2   2   2   2  ...   \n\n                                 53  59  63  35  51  48  64  26  55  69  \nКоличество пропущенных значений   1   1   1   1   1   1   1   1   1   1  \n\n[1 rows x 30 columns]",
      "text/html": "<div>\n<style scoped>\n    .dataframe tbody tr th:only-of-type {\n        vertical-align: middle;\n    }\n\n    .dataframe tbody tr th {\n        vertical-align: top;\n    }\n\n    .dataframe thead th {\n        text-align: right;\n    }\n</style>\n<table border=\"1\" class=\"dataframe\">\n  <thead>\n    <tr style=\"text-align: right;\">\n      <th></th>\n      <th>46</th>\n      <th>34</th>\n      <th>40</th>\n      <th>37</th>\n      <th>28</th>\n      <th>31</th>\n      <th>50</th>\n      <th>44</th>\n      <th>32</th>\n      <th>41</th>\n      <th>...</th>\n      <th>53</th>\n      <th>59</th>\n      <th>63</th>\n      <th>35</th>\n      <th>51</th>\n      <th>48</th>\n      <th>64</th>\n      <th>26</th>\n      <th>55</th>\n      <th>69</th>\n    </tr>\n  </thead>\n  <tbody>\n    <tr>\n      <th>Количество пропущенных значений</th>\n      <td>3</td>\n      <td>3</td>\n      <td>2</td>\n      <td>2</td>\n      <td>2</td>\n      <td>2</td>\n      <td>2</td>\n      <td>2</td>\n      <td>2</td>\n      <td>2</td>\n      <td>...</td>\n      <td>1</td>\n      <td>1</td>\n      <td>1</td>\n      <td>1</td>\n      <td>1</td>\n      <td>1</td>\n      <td>1</td>\n      <td>1</td>\n      <td>1</td>\n      <td>1</td>\n    </tr>\n  </tbody>\n</table>\n<p>1 rows × 30 columns</p>\n</div>"
     },
     "metadata": {},
     "output_type": "display_data"
    }
   ],
   "source": [
    "# список колонок по которым будем проводить анализ\n",
    "columns = ['family_status', 'debt', 'income_type', 'gender', 'education', 'dob_years']\n",
    "# создаем датафрейм, состоящий из строк с пропущенными значениями в колонках\n",
    "empty_data = data[data['children'] < 0]\n",
    "\n",
    "# считаем количество пропущенных значений для каждой анализируемой колонки\n",
    "for column in columns:\n",
    "    display(f\"{'='*40} Column: {column} {'='*40}\")\n",
    "    display(\n",
    "        pd.DataFrame(\n",
    "            data=[\n",
    "                empty_data[column].value_counts()\n",
    "            ]\n",
    "        ).rename({column: 'Количество пропущенных значений'}))"
   ],
   "metadata": {
    "collapsed": false,
    "pycharm": {
     "name": "#%%\n"
    }
   }
  },
  {
   "cell_type": "markdown",
   "source": [
    "Ошибка имеет случайный характер и не зависит от собственных значений столбца.\n",
    "Предположим что -1 означает наличие одного ребенка. Исправим это."
   ],
   "metadata": {
    "collapsed": false
   }
  },
  {
   "cell_type": "code",
   "execution_count": 422,
   "outputs": [
    {
     "data": {
      "text/plain": "count    21525.000000\nmean         0.543275\nstd          1.379876\nmin          0.000000\n25%          0.000000\n50%          0.000000\n75%          1.000000\nmax         20.000000\nName: children, dtype: float64"
     },
     "execution_count": 422,
     "metadata": {},
     "output_type": "execute_result"
    }
   ],
   "source": [
    "data['children'] = data['children'].abs()\n",
    "# удостоверимся что ошибка исправлена\n",
    "data['children'].describe()"
   ],
   "metadata": {
    "collapsed": false,
    "pycharm": {
     "name": "#%%\n"
    }
   }
  },
  {
   "cell_type": "markdown",
   "source": [
    "### Поиск и удаление дубликатов\n",
    "\n",
    "Узнаем количество явных дублей в датасете"
   ],
   "metadata": {
    "collapsed": false
   }
  },
  {
   "cell_type": "code",
   "execution_count": 423,
   "outputs": [
    {
     "data": {
      "text/plain": "71"
     },
     "execution_count": 423,
     "metadata": {},
     "output_type": "execute_result"
    }
   ],
   "source": [
    "len(data[data.duplicated()])"
   ],
   "metadata": {
    "collapsed": false,
    "pycharm": {
     "name": "#%%\n"
    }
   }
  },
  {
   "cell_type": "markdown",
   "source": [
    "В датасете 71 явный дубль. Удалим их."
   ],
   "metadata": {
    "collapsed": false
   }
  },
  {
   "cell_type": "code",
   "execution_count": 424,
   "outputs": [],
   "source": [
    "data = data.drop_duplicates()"
   ],
   "metadata": {
    "collapsed": false,
    "pycharm": {
     "name": "#%%\n"
    }
   }
  },
  {
   "cell_type": "markdown",
   "source": [
    "### Категоризация данных\n",
    "\n",
    "Создадим категории по возрасту, на основании категоризации ВОЗ:\n",
    "1. Несовершеннолетние - до 18 лет\n",
    "2. Молодые люди - от 18 до 44 лет\n",
    "3. Люди среднего возраста - 45-59 лет\n",
    "4. Люди пожилого возраста - 60-74 лет\n",
    "5. Старые люди - 75-90 лет\n",
    "6. Долгожители – старше 90 лет\n",
    "\n",
    "Также категоризуем по уровню дохода:\n",
    "1. Низкий доход - до 50 000р\n",
    "2. Средний доход - до 100 000р\n",
    "3. Высокий доход - до 150 000р\n",
    "4. Очень высокий доход - более 150 000р\n",
    "\n",
    "И наконец категоризуем по целям кредита. Категории будем брать из лемм/стеммов.\n",
    "\n",
    "Перед этим проверим какие данные у нас содержатся в данном столбце."
   ],
   "metadata": {
    "collapsed": false
   }
  },
  {
   "cell_type": "code",
   "execution_count": 425,
   "outputs": [
    {
     "data": {
      "text/plain": "count    21454.000000\nmean        43.271231\nstd         12.570822\nmin          0.000000\n25%         33.000000\n50%         42.000000\n75%         53.000000\nmax         75.000000\nName: dob_years, dtype: float64"
     },
     "execution_count": 425,
     "metadata": {},
     "output_type": "execute_result"
    }
   ],
   "source": [
    "data['dob_years'].describe()"
   ],
   "metadata": {
    "collapsed": false,
    "pycharm": {
     "name": "#%%\n"
    }
   }
  },
  {
   "cell_type": "markdown",
   "source": [
    "Средний возраст аудитории 43 года. Но у нас минимальное значение равно 0. Посмотрим сколько таких записей есть в датасете."
   ],
   "metadata": {
    "collapsed": false
   }
  },
  {
   "cell_type": "code",
   "execution_count": 426,
   "outputs": [
    {
     "data": {
      "text/plain": "'Количество записей с 0 возрастом: 101'"
     },
     "metadata": {},
     "output_type": "display_data"
    },
    {
     "data": {
      "text/plain": "       children  days_employed  dob_years education  education_id  \\\n99            0   15247.142578          0   среднее             1   \n149           0      73.761307          0   среднее             1   \n270           3      73.761307          0   среднее             1   \n578           0   15247.142578          0   среднее             1   \n1040          0      64.066505          0    высшее             0   \n...         ...            ...        ...       ...           ...   \n19829         0      73.761307          0   среднее             1   \n20462         0   15247.142578          0   среднее             1   \n20577         0   15247.142578          0   среднее             1   \n21179         2      55.325890          0    высшее             0   \n21313         0      57.634796          0   среднее             1   \n\n               family_status  family_status_id gender income_type  debt  \\\n99           женат / замужем                 0      F   пенсионер     0   \n149                в разводе                 3      F   сотрудник     0   \n270          женат / замужем                 0      F   сотрудник     0   \n578          женат / замужем                 0      F   пенсионер     0   \n1040               в разводе                 3      F   компаньон     0   \n...                      ...               ...    ...         ...   ...   \n19829        женат / замужем                 0      F   сотрудник     0   \n20462        женат / замужем                 0      F   пенсионер     0   \n20577  не женат / не замужем                 4      F   пенсионер     0   \n21179        женат / замужем                 0      M   компаньон     0   \n21313  не женат / не замужем                 4      M   сотрудник     0   \n\n        total_income                             purpose  \n99      71291.523438                           автомобил  \n149     70176.437500                      операции с жил  \n270    102166.460938                          ремонт жил  \n578     97620.687500  строительство собственной недвижим  \n1040   303994.125000                      свой автомобил  \n...              ...                                 ...  \n19829  124127.093750                                 жил  \n20462  259193.921875                  покупка своего жил  \n20577  129788.765625                            недвижим  \n21179  240702.000000        строительство жилой недвижим  \n21313  152419.187500                      операции с жил  \n\n[101 rows x 12 columns]",
      "text/html": "<div>\n<style scoped>\n    .dataframe tbody tr th:only-of-type {\n        vertical-align: middle;\n    }\n\n    .dataframe tbody tr th {\n        vertical-align: top;\n    }\n\n    .dataframe thead th {\n        text-align: right;\n    }\n</style>\n<table border=\"1\" class=\"dataframe\">\n  <thead>\n    <tr style=\"text-align: right;\">\n      <th></th>\n      <th>children</th>\n      <th>days_employed</th>\n      <th>dob_years</th>\n      <th>education</th>\n      <th>education_id</th>\n      <th>family_status</th>\n      <th>family_status_id</th>\n      <th>gender</th>\n      <th>income_type</th>\n      <th>debt</th>\n      <th>total_income</th>\n      <th>purpose</th>\n    </tr>\n  </thead>\n  <tbody>\n    <tr>\n      <th>99</th>\n      <td>0</td>\n      <td>15247.142578</td>\n      <td>0</td>\n      <td>среднее</td>\n      <td>1</td>\n      <td>женат / замужем</td>\n      <td>0</td>\n      <td>F</td>\n      <td>пенсионер</td>\n      <td>0</td>\n      <td>71291.523438</td>\n      <td>автомобил</td>\n    </tr>\n    <tr>\n      <th>149</th>\n      <td>0</td>\n      <td>73.761307</td>\n      <td>0</td>\n      <td>среднее</td>\n      <td>1</td>\n      <td>в разводе</td>\n      <td>3</td>\n      <td>F</td>\n      <td>сотрудник</td>\n      <td>0</td>\n      <td>70176.437500</td>\n      <td>операции с жил</td>\n    </tr>\n    <tr>\n      <th>270</th>\n      <td>3</td>\n      <td>73.761307</td>\n      <td>0</td>\n      <td>среднее</td>\n      <td>1</td>\n      <td>женат / замужем</td>\n      <td>0</td>\n      <td>F</td>\n      <td>сотрудник</td>\n      <td>0</td>\n      <td>102166.460938</td>\n      <td>ремонт жил</td>\n    </tr>\n    <tr>\n      <th>578</th>\n      <td>0</td>\n      <td>15247.142578</td>\n      <td>0</td>\n      <td>среднее</td>\n      <td>1</td>\n      <td>женат / замужем</td>\n      <td>0</td>\n      <td>F</td>\n      <td>пенсионер</td>\n      <td>0</td>\n      <td>97620.687500</td>\n      <td>строительство собственной недвижим</td>\n    </tr>\n    <tr>\n      <th>1040</th>\n      <td>0</td>\n      <td>64.066505</td>\n      <td>0</td>\n      <td>высшее</td>\n      <td>0</td>\n      <td>в разводе</td>\n      <td>3</td>\n      <td>F</td>\n      <td>компаньон</td>\n      <td>0</td>\n      <td>303994.125000</td>\n      <td>свой автомобил</td>\n    </tr>\n    <tr>\n      <th>...</th>\n      <td>...</td>\n      <td>...</td>\n      <td>...</td>\n      <td>...</td>\n      <td>...</td>\n      <td>...</td>\n      <td>...</td>\n      <td>...</td>\n      <td>...</td>\n      <td>...</td>\n      <td>...</td>\n      <td>...</td>\n    </tr>\n    <tr>\n      <th>19829</th>\n      <td>0</td>\n      <td>73.761307</td>\n      <td>0</td>\n      <td>среднее</td>\n      <td>1</td>\n      <td>женат / замужем</td>\n      <td>0</td>\n      <td>F</td>\n      <td>сотрудник</td>\n      <td>0</td>\n      <td>124127.093750</td>\n      <td>жил</td>\n    </tr>\n    <tr>\n      <th>20462</th>\n      <td>0</td>\n      <td>15247.142578</td>\n      <td>0</td>\n      <td>среднее</td>\n      <td>1</td>\n      <td>женат / замужем</td>\n      <td>0</td>\n      <td>F</td>\n      <td>пенсионер</td>\n      <td>0</td>\n      <td>259193.921875</td>\n      <td>покупка своего жил</td>\n    </tr>\n    <tr>\n      <th>20577</th>\n      <td>0</td>\n      <td>15247.142578</td>\n      <td>0</td>\n      <td>среднее</td>\n      <td>1</td>\n      <td>не женат / не замужем</td>\n      <td>4</td>\n      <td>F</td>\n      <td>пенсионер</td>\n      <td>0</td>\n      <td>129788.765625</td>\n      <td>недвижим</td>\n    </tr>\n    <tr>\n      <th>21179</th>\n      <td>2</td>\n      <td>55.325890</td>\n      <td>0</td>\n      <td>высшее</td>\n      <td>0</td>\n      <td>женат / замужем</td>\n      <td>0</td>\n      <td>M</td>\n      <td>компаньон</td>\n      <td>0</td>\n      <td>240702.000000</td>\n      <td>строительство жилой недвижим</td>\n    </tr>\n    <tr>\n      <th>21313</th>\n      <td>0</td>\n      <td>57.634796</td>\n      <td>0</td>\n      <td>среднее</td>\n      <td>1</td>\n      <td>не женат / не замужем</td>\n      <td>4</td>\n      <td>M</td>\n      <td>сотрудник</td>\n      <td>0</td>\n      <td>152419.187500</td>\n      <td>операции с жил</td>\n    </tr>\n  </tbody>\n</table>\n<p>101 rows × 12 columns</p>\n</div>"
     },
     "metadata": {},
     "output_type": "display_data"
    }
   ],
   "source": [
    "display(f\"Количество записей с 0 возрастом: {len(data[data['dob_years'] == 0])}\")\n",
    "display(data[data['dob_years'] == 0])"
   ],
   "metadata": {
    "collapsed": false,
    "pycharm": {
     "name": "#%%\n"
    }
   }
  },
  {
   "cell_type": "markdown",
   "source": [
    "Мы нашли 101 запись с 0 возрастом в датасете. Похоже на какой-то баг. Рассмотрим есть ли в этом какая-то закономерность, чтобы можно было сообщить кому следует и они поправили багу."
   ],
   "metadata": {
    "collapsed": false
   }
  },
  {
   "cell_type": "code",
   "execution_count": 427,
   "outputs": [
    {
     "data": {
      "text/plain": "'======================================== Column: family_status ========================================'"
     },
     "metadata": {},
     "output_type": "display_data"
    },
    {
     "data": {
      "text/plain": "                                 женат / замужем  гражданский брак  \\\nКоличество пропущенных значений               49                21   \n\n                                 не женат / не замужем  в разводе  \\\nКоличество пропущенных значений                     16         10   \n\n                                 вдовец / вдова  \nКоличество пропущенных значений               5  ",
      "text/html": "<div>\n<style scoped>\n    .dataframe tbody tr th:only-of-type {\n        vertical-align: middle;\n    }\n\n    .dataframe tbody tr th {\n        vertical-align: top;\n    }\n\n    .dataframe thead th {\n        text-align: right;\n    }\n</style>\n<table border=\"1\" class=\"dataframe\">\n  <thead>\n    <tr style=\"text-align: right;\">\n      <th></th>\n      <th>женат / замужем</th>\n      <th>гражданский брак</th>\n      <th>не женат / не замужем</th>\n      <th>в разводе</th>\n      <th>вдовец / вдова</th>\n    </tr>\n  </thead>\n  <tbody>\n    <tr>\n      <th>Количество пропущенных значений</th>\n      <td>49</td>\n      <td>21</td>\n      <td>16</td>\n      <td>10</td>\n      <td>5</td>\n    </tr>\n  </tbody>\n</table>\n</div>"
     },
     "metadata": {},
     "output_type": "display_data"
    },
    {
     "data": {
      "text/plain": "'======================================== Column: debt ========================================'"
     },
     "metadata": {},
     "output_type": "display_data"
    },
    {
     "data": {
      "text/plain": "                                  0  1\nКоличество пропущенных значений  93  8",
      "text/html": "<div>\n<style scoped>\n    .dataframe tbody tr th:only-of-type {\n        vertical-align: middle;\n    }\n\n    .dataframe tbody tr th {\n        vertical-align: top;\n    }\n\n    .dataframe thead th {\n        text-align: right;\n    }\n</style>\n<table border=\"1\" class=\"dataframe\">\n  <thead>\n    <tr style=\"text-align: right;\">\n      <th></th>\n      <th>0</th>\n      <th>1</th>\n    </tr>\n  </thead>\n  <tbody>\n    <tr>\n      <th>Количество пропущенных значений</th>\n      <td>93</td>\n      <td>8</td>\n    </tr>\n  </tbody>\n</table>\n</div>"
     },
     "metadata": {},
     "output_type": "display_data"
    },
    {
     "data": {
      "text/plain": "'======================================== Column: income_type ========================================'"
     },
     "metadata": {},
     "output_type": "display_data"
    },
    {
     "data": {
      "text/plain": "                                 сотрудник  пенсионер  компаньон  госслужащий\nКоличество пропущенных значений         55         20         20            6",
      "text/html": "<div>\n<style scoped>\n    .dataframe tbody tr th:only-of-type {\n        vertical-align: middle;\n    }\n\n    .dataframe tbody tr th {\n        vertical-align: top;\n    }\n\n    .dataframe thead th {\n        text-align: right;\n    }\n</style>\n<table border=\"1\" class=\"dataframe\">\n  <thead>\n    <tr style=\"text-align: right;\">\n      <th></th>\n      <th>сотрудник</th>\n      <th>пенсионер</th>\n      <th>компаньон</th>\n      <th>госслужащий</th>\n    </tr>\n  </thead>\n  <tbody>\n    <tr>\n      <th>Количество пропущенных значений</th>\n      <td>55</td>\n      <td>20</td>\n      <td>20</td>\n      <td>6</td>\n    </tr>\n  </tbody>\n</table>\n</div>"
     },
     "metadata": {},
     "output_type": "display_data"
    },
    {
     "data": {
      "text/plain": "'======================================== Column: gender ========================================'"
     },
     "metadata": {},
     "output_type": "display_data"
    },
    {
     "data": {
      "text/plain": "                                  F   M\nКоличество пропущенных значений  72  29",
      "text/html": "<div>\n<style scoped>\n    .dataframe tbody tr th:only-of-type {\n        vertical-align: middle;\n    }\n\n    .dataframe tbody tr th {\n        vertical-align: top;\n    }\n\n    .dataframe thead th {\n        text-align: right;\n    }\n</style>\n<table border=\"1\" class=\"dataframe\">\n  <thead>\n    <tr style=\"text-align: right;\">\n      <th></th>\n      <th>F</th>\n      <th>M</th>\n    </tr>\n  </thead>\n  <tbody>\n    <tr>\n      <th>Количество пропущенных значений</th>\n      <td>72</td>\n      <td>29</td>\n    </tr>\n  </tbody>\n</table>\n</div>"
     },
     "metadata": {},
     "output_type": "display_data"
    },
    {
     "data": {
      "text/plain": "'======================================== Column: education ========================================'"
     },
     "metadata": {},
     "output_type": "display_data"
    },
    {
     "data": {
      "text/plain": "                                 среднее  высшее  неоконченное высшее\nКоличество пропущенных значений       64      35                    2",
      "text/html": "<div>\n<style scoped>\n    .dataframe tbody tr th:only-of-type {\n        vertical-align: middle;\n    }\n\n    .dataframe tbody tr th {\n        vertical-align: top;\n    }\n\n    .dataframe thead th {\n        text-align: right;\n    }\n</style>\n<table border=\"1\" class=\"dataframe\">\n  <thead>\n    <tr style=\"text-align: right;\">\n      <th></th>\n      <th>среднее</th>\n      <th>высшее</th>\n      <th>неоконченное высшее</th>\n    </tr>\n  </thead>\n  <tbody>\n    <tr>\n      <th>Количество пропущенных значений</th>\n      <td>64</td>\n      <td>35</td>\n      <td>2</td>\n    </tr>\n  </tbody>\n</table>\n</div>"
     },
     "metadata": {},
     "output_type": "display_data"
    }
   ],
   "source": [
    "# список колонок по которым будем проводить анализ\n",
    "columns = ['family_status', 'debt', 'income_type', 'gender', 'education']\n",
    "# создаем датафрейм, состоящий из строк с нулевыми значениями в колонке с возрастом\n",
    "empty_data = data[data['dob_years'] == 0]\n",
    "\n",
    "# считаем количество нулевых значений для каждой анализируемой колонки\n",
    "for column in columns:\n",
    "    display(f\"{'='*40} Column: {column} {'='*40}\")\n",
    "    display(\n",
    "        pd.DataFrame(\n",
    "            data=[\n",
    "                empty_data[column].value_counts()\n",
    "            ]\n",
    "        ).rename({column: 'Количество пропущенных значений'}))"
   ],
   "metadata": {
    "collapsed": false,
    "pycharm": {
     "name": "#%%\n"
    }
   }
  },
  {
   "cell_type": "markdown",
   "source": [
    "Закономерности выявить не удалось, во всех исследуемых колонках присутствуют нулевые значения возраста.\n",
    "Учтем наличие таких данных в дальнейшей работе."
   ],
   "metadata": {
    "collapsed": false
   }
  },
  {
   "cell_type": "code",
   "execution_count": 428,
   "outputs": [
    {
     "name": "stderr",
     "output_type": "stream",
     "text": [
      "C:\\Users\\Chuck\\AppData\\Local\\Temp/ipykernel_17896/1580160567.py:43: SettingWithCopyWarning: \n",
      "A value is trying to be set on a copy of a slice from a DataFrame.\n",
      "Try using .loc[row_indexer,col_indexer] = value instead\n",
      "\n",
      "See the caveats in the documentation: https://pandas.pydata.org/pandas-docs/stable/user_guide/indexing.html#returning-a-view-versus-a-copy\n",
      "  data['yong_status'] = data.apply(yong_categorise, axis=1)\n",
      "C:\\Users\\Chuck\\AppData\\Local\\Temp/ipykernel_17896/1580160567.py:46: SettingWithCopyWarning: \n",
      "A value is trying to be set on a copy of a slice from a DataFrame.\n",
      "Try using .loc[row_indexer,col_indexer] = value instead\n",
      "\n",
      "See the caveats in the documentation: https://pandas.pydata.org/pandas-docs/stable/user_guide/indexing.html#returning-a-view-versus-a-copy\n",
      "  data['income_status'] = data.apply(income_categorise, axis=1)\n"
     ]
    },
    {
     "data": {
      "text/plain": "   children  days_employed  dob_years education  education_id  \\\n0         1      68.166092         42    высшее             0   \n1         1      73.761307         36   среднее             1   \n2         0      57.634796         33   среднее             1   \n3         3      57.634796         32   среднее             1   \n4         0   15247.142578         53   среднее             1   \n5         0      55.325890         27    высшее             0   \n6         0      64.066505         43    высшее             0   \n7         0      57.634796         50   среднее             1   \n8         2      68.166092         35    высшее             0   \n9         0      57.634796         41   среднее             1   \n\n      family_status  family_status_id gender income_type  debt   total_income  \\\n0   женат / замужем                 0      F   сотрудник     0  253875.640625   \n1   женат / замужем                 0      F   сотрудник     0  112080.015625   \n2   женат / замужем                 0      M   сотрудник     0  145885.953125   \n3   женат / замужем                 0      M   сотрудник     0  267628.562500   \n4  гражданский брак                 1      F   пенсионер     0  158616.078125   \n5  гражданский брак                 1      M   компаньон     0  255763.562500   \n6   женат / замужем                 0      F   компаньон     0  240525.968750   \n7   женат / замужем                 0      M   сотрудник     0  135823.937500   \n8  гражданский брак                 1      F   сотрудник     0   95856.835938   \n9   женат / замужем                 0      M   сотрудник     0  144425.937500   \n\n                    purpose      yong_status        income_status  \n0               покупка жил     молодые_люди  очень_высокий_доход  \n1    приобретение автомобил     молодые_люди        высокий_доход  \n2               покупка жил     молодые_люди        высокий_доход  \n3  дополнительное образован     молодые_люди  очень_высокий_доход  \n4            сыграть свадьб  средний_возраст  очень_высокий_доход  \n5               покупка жил     молодые_люди  очень_высокий_доход  \n6            операции с жил     молодые_люди  очень_высокий_доход  \n7                 образован  средний_возраст        высокий_доход  \n8      на проведение свадьб     молодые_люди        средний_доход  \n9     покупка жилья для сем     молодые_люди        высокий_доход  ",
      "text/html": "<div>\n<style scoped>\n    .dataframe tbody tr th:only-of-type {\n        vertical-align: middle;\n    }\n\n    .dataframe tbody tr th {\n        vertical-align: top;\n    }\n\n    .dataframe thead th {\n        text-align: right;\n    }\n</style>\n<table border=\"1\" class=\"dataframe\">\n  <thead>\n    <tr style=\"text-align: right;\">\n      <th></th>\n      <th>children</th>\n      <th>days_employed</th>\n      <th>dob_years</th>\n      <th>education</th>\n      <th>education_id</th>\n      <th>family_status</th>\n      <th>family_status_id</th>\n      <th>gender</th>\n      <th>income_type</th>\n      <th>debt</th>\n      <th>total_income</th>\n      <th>purpose</th>\n      <th>yong_status</th>\n      <th>income_status</th>\n    </tr>\n  </thead>\n  <tbody>\n    <tr>\n      <th>0</th>\n      <td>1</td>\n      <td>68.166092</td>\n      <td>42</td>\n      <td>высшее</td>\n      <td>0</td>\n      <td>женат / замужем</td>\n      <td>0</td>\n      <td>F</td>\n      <td>сотрудник</td>\n      <td>0</td>\n      <td>253875.640625</td>\n      <td>покупка жил</td>\n      <td>молодые_люди</td>\n      <td>очень_высокий_доход</td>\n    </tr>\n    <tr>\n      <th>1</th>\n      <td>1</td>\n      <td>73.761307</td>\n      <td>36</td>\n      <td>среднее</td>\n      <td>1</td>\n      <td>женат / замужем</td>\n      <td>0</td>\n      <td>F</td>\n      <td>сотрудник</td>\n      <td>0</td>\n      <td>112080.015625</td>\n      <td>приобретение автомобил</td>\n      <td>молодые_люди</td>\n      <td>высокий_доход</td>\n    </tr>\n    <tr>\n      <th>2</th>\n      <td>0</td>\n      <td>57.634796</td>\n      <td>33</td>\n      <td>среднее</td>\n      <td>1</td>\n      <td>женат / замужем</td>\n      <td>0</td>\n      <td>M</td>\n      <td>сотрудник</td>\n      <td>0</td>\n      <td>145885.953125</td>\n      <td>покупка жил</td>\n      <td>молодые_люди</td>\n      <td>высокий_доход</td>\n    </tr>\n    <tr>\n      <th>3</th>\n      <td>3</td>\n      <td>57.634796</td>\n      <td>32</td>\n      <td>среднее</td>\n      <td>1</td>\n      <td>женат / замужем</td>\n      <td>0</td>\n      <td>M</td>\n      <td>сотрудник</td>\n      <td>0</td>\n      <td>267628.562500</td>\n      <td>дополнительное образован</td>\n      <td>молодые_люди</td>\n      <td>очень_высокий_доход</td>\n    </tr>\n    <tr>\n      <th>4</th>\n      <td>0</td>\n      <td>15247.142578</td>\n      <td>53</td>\n      <td>среднее</td>\n      <td>1</td>\n      <td>гражданский брак</td>\n      <td>1</td>\n      <td>F</td>\n      <td>пенсионер</td>\n      <td>0</td>\n      <td>158616.078125</td>\n      <td>сыграть свадьб</td>\n      <td>средний_возраст</td>\n      <td>очень_высокий_доход</td>\n    </tr>\n    <tr>\n      <th>5</th>\n      <td>0</td>\n      <td>55.325890</td>\n      <td>27</td>\n      <td>высшее</td>\n      <td>0</td>\n      <td>гражданский брак</td>\n      <td>1</td>\n      <td>M</td>\n      <td>компаньон</td>\n      <td>0</td>\n      <td>255763.562500</td>\n      <td>покупка жил</td>\n      <td>молодые_люди</td>\n      <td>очень_высокий_доход</td>\n    </tr>\n    <tr>\n      <th>6</th>\n      <td>0</td>\n      <td>64.066505</td>\n      <td>43</td>\n      <td>высшее</td>\n      <td>0</td>\n      <td>женат / замужем</td>\n      <td>0</td>\n      <td>F</td>\n      <td>компаньон</td>\n      <td>0</td>\n      <td>240525.968750</td>\n      <td>операции с жил</td>\n      <td>молодые_люди</td>\n      <td>очень_высокий_доход</td>\n    </tr>\n    <tr>\n      <th>7</th>\n      <td>0</td>\n      <td>57.634796</td>\n      <td>50</td>\n      <td>среднее</td>\n      <td>1</td>\n      <td>женат / замужем</td>\n      <td>0</td>\n      <td>M</td>\n      <td>сотрудник</td>\n      <td>0</td>\n      <td>135823.937500</td>\n      <td>образован</td>\n      <td>средний_возраст</td>\n      <td>высокий_доход</td>\n    </tr>\n    <tr>\n      <th>8</th>\n      <td>2</td>\n      <td>68.166092</td>\n      <td>35</td>\n      <td>высшее</td>\n      <td>0</td>\n      <td>гражданский брак</td>\n      <td>1</td>\n      <td>F</td>\n      <td>сотрудник</td>\n      <td>0</td>\n      <td>95856.835938</td>\n      <td>на проведение свадьб</td>\n      <td>молодые_люди</td>\n      <td>средний_доход</td>\n    </tr>\n    <tr>\n      <th>9</th>\n      <td>0</td>\n      <td>57.634796</td>\n      <td>41</td>\n      <td>среднее</td>\n      <td>1</td>\n      <td>женат / замужем</td>\n      <td>0</td>\n      <td>M</td>\n      <td>сотрудник</td>\n      <td>0</td>\n      <td>144425.937500</td>\n      <td>покупка жилья для сем</td>\n      <td>молодые_люди</td>\n      <td>высокий_доход</td>\n    </tr>\n  </tbody>\n</table>\n</div>"
     },
     "execution_count": 428,
     "metadata": {},
     "output_type": "execute_result"
    }
   ],
   "source": [
    "# функция категоризации по возрасту\n",
    "def yong_categorise(row):\n",
    "    years = row['dob_years']\n",
    "\n",
    "    if 1 <= years <= 17:\n",
    "        return 'несовершеннолетние'\n",
    "\n",
    "    elif 18 <= years <= 44:\n",
    "        return 'молодые_люди'\n",
    "\n",
    "    elif 45 <= years <= 59:\n",
    "        return 'средний_возраст'\n",
    "\n",
    "    elif 60 <= years <= 74:\n",
    "        return 'пожилой_возраст'\n",
    "\n",
    "    elif 75 <= years <= 90:\n",
    "        return 'старые_люди'\n",
    "\n",
    "    elif years > 90:\n",
    "        return 'долгожители'\n",
    "\n",
    "    else:\n",
    "        return 'нет_данных'\n",
    "\n",
    "\n",
    "def income_categorise(row):\n",
    "    income = row['total_income']\n",
    "\n",
    "    if income <= 50000:\n",
    "        return 'низкий_доход'\n",
    "\n",
    "    elif 50001 <= income <= 100000:\n",
    "        return 'средний_доход'\n",
    "\n",
    "    elif 100001 <= income <= 150000:\n",
    "        return 'высокий_доход'\n",
    "\n",
    "    elif income >= 150001:\n",
    "        return 'очень_высокий_доход'\n",
    "\n",
    "# категоризируем людей по возрасту\n",
    "data['yong_status'] = data.apply(yong_categorise, axis=1)\n",
    "\n",
    "# категоризируем людей по доходу\n",
    "data['income_status'] = data.apply(income_categorise, axis=1)\n",
    "\n",
    "# убедимся что код отработал корректно\n",
    "data.head(10)"
   ],
   "metadata": {
    "collapsed": false,
    "pycharm": {
     "name": "#%%\n"
    }
   }
  },
  {
   "cell_type": "markdown",
   "source": [
    "Для категоризации по целям кредита сначала посмотрим на какие цели клиенты берут кредиты."
   ],
   "metadata": {
    "collapsed": false
   }
  },
  {
   "cell_type": "code",
   "execution_count": 429,
   "outputs": [
    {
     "data": {
      "text/plain": "свадьб                                 791\nна проведение свадьб                   768\nсыграть свадьб                         765\nоперации с недвижим                    675\nпокупка коммерческой недвижим          661\nоперации с жил                         652\nпокупка жилья для сдач                 651\nоперации с коммерческой недвижим       650\nпокупка жил                            646\nжил                                    646\nпокупка жилья для сем                  638\nстроительство собственной недвижим     635\nнедвижим                               633\nоперации со своей недвижим             627\nстроительство жилой недвижим           624\nпокупка недвижим                       621\nпокупка своего жил                     620\nстроительство недвижим                 619\nремонт жил                             607\nпокупка жилой недвижим                 606\nна покупку своего автомобил            505\nзаняться высшим образован              496\nавтомобил                              494\nсделка с подержанным автомобил         486\nсвой автомобил                         478\nна покупку подержанного автомобил      478\nавтомоб                                478\nна покупку автомобил                   471\nприобретение автомобил                 461\nдополнительное образован               460\nсделка с автомобил                     455\nвысшее образован                       452\nобразован                              447\nполучение дополнительного образован    446\nполучение образован                    442\nпрофильное образован                   436\nполучение высшего образован            426\nзаняться образован                     408\nName: purpose, dtype: int64"
     },
     "execution_count": 429,
     "metadata": {},
     "output_type": "execute_result"
    }
   ],
   "source": [
    "data['purpose'].value_counts()"
   ],
   "metadata": {
    "collapsed": false,
    "pycharm": {
     "name": "#%%\n"
    }
   }
  },
  {
   "cell_type": "markdown",
   "source": [
    "Из полученных данных мы можем выделить следующие категории:\n",
    "1. Свадьба\n",
    "2. Покупка/строительство собственного жилья/недвижимости\n",
    "3. Покупка коммерческой недвижимости\n",
    "4. Ремонт жилья\n",
    "5. На образование\n",
    "6. Покупка автомобиля\n",
    "\n",
    "Напишем соответствующую функцию категоризации."
   ],
   "metadata": {
    "collapsed": false
   }
  },
  {
   "cell_type": "code",
   "execution_count": 430,
   "outputs": [
    {
     "name": "stderr",
     "output_type": "stream",
     "text": [
      "C:\\Users\\Chuck\\AppData\\Local\\Temp/ipykernel_17896/663336271.py:25: SettingWithCopyWarning: \n",
      "A value is trying to be set on a copy of a slice from a DataFrame.\n",
      "Try using .loc[row_indexer,col_indexer] = value instead\n",
      "\n",
      "See the caveats in the documentation: https://pandas.pydata.org/pandas-docs/stable/user_guide/indexing.html#returning-a-view-versus-a-copy\n",
      "  data['purpose_status'] = data.apply(purpose_categorise, axis=1)\n"
     ]
    },
    {
     "data": {
      "text/plain": "   children  days_employed  dob_years education  education_id  \\\n0         1      68.166092         42    высшее             0   \n1         1      73.761307         36   среднее             1   \n2         0      57.634796         33   среднее             1   \n3         3      57.634796         32   среднее             1   \n4         0   15247.142578         53   среднее             1   \n5         0      55.325890         27    высшее             0   \n6         0      64.066505         43    высшее             0   \n7         0      57.634796         50   среднее             1   \n8         2      68.166092         35    высшее             0   \n9         0      57.634796         41   среднее             1   \n\n      family_status  family_status_id gender income_type  debt   total_income  \\\n0   женат / замужем                 0      F   сотрудник     0  253875.640625   \n1   женат / замужем                 0      F   сотрудник     0  112080.015625   \n2   женат / замужем                 0      M   сотрудник     0  145885.953125   \n3   женат / замужем                 0      M   сотрудник     0  267628.562500   \n4  гражданский брак                 1      F   пенсионер     0  158616.078125   \n5  гражданский брак                 1      M   компаньон     0  255763.562500   \n6   женат / замужем                 0      F   компаньон     0  240525.968750   \n7   женат / замужем                 0      M   сотрудник     0  135823.937500   \n8  гражданский брак                 1      F   сотрудник     0   95856.835938   \n9   женат / замужем                 0      M   сотрудник     0  144425.937500   \n\n                    purpose      yong_status        income_status  \\\n0               покупка жил     молодые_люди  очень_высокий_доход   \n1    приобретение автомобил     молодые_люди        высокий_доход   \n2               покупка жил     молодые_люди        высокий_доход   \n3  дополнительное образован     молодые_люди  очень_высокий_доход   \n4            сыграть свадьб  средний_возраст  очень_высокий_доход   \n5               покупка жил     молодые_люди  очень_высокий_доход   \n6            операции с жил     молодые_люди  очень_высокий_доход   \n7                 образован  средний_возраст        высокий_доход   \n8      на проведение свадьб     молодые_люди        средний_доход   \n9     покупка жилья для сем     молодые_люди        высокий_доход   \n\n  purpose_status  \n0          жилье  \n1           авто  \n2          жилье  \n3    образование  \n4        свадьба  \n5          жилье  \n6          жилье  \n7    образование  \n8        свадьба  \n9          жилье  ",
      "text/html": "<div>\n<style scoped>\n    .dataframe tbody tr th:only-of-type {\n        vertical-align: middle;\n    }\n\n    .dataframe tbody tr th {\n        vertical-align: top;\n    }\n\n    .dataframe thead th {\n        text-align: right;\n    }\n</style>\n<table border=\"1\" class=\"dataframe\">\n  <thead>\n    <tr style=\"text-align: right;\">\n      <th></th>\n      <th>children</th>\n      <th>days_employed</th>\n      <th>dob_years</th>\n      <th>education</th>\n      <th>education_id</th>\n      <th>family_status</th>\n      <th>family_status_id</th>\n      <th>gender</th>\n      <th>income_type</th>\n      <th>debt</th>\n      <th>total_income</th>\n      <th>purpose</th>\n      <th>yong_status</th>\n      <th>income_status</th>\n      <th>purpose_status</th>\n    </tr>\n  </thead>\n  <tbody>\n    <tr>\n      <th>0</th>\n      <td>1</td>\n      <td>68.166092</td>\n      <td>42</td>\n      <td>высшее</td>\n      <td>0</td>\n      <td>женат / замужем</td>\n      <td>0</td>\n      <td>F</td>\n      <td>сотрудник</td>\n      <td>0</td>\n      <td>253875.640625</td>\n      <td>покупка жил</td>\n      <td>молодые_люди</td>\n      <td>очень_высокий_доход</td>\n      <td>жилье</td>\n    </tr>\n    <tr>\n      <th>1</th>\n      <td>1</td>\n      <td>73.761307</td>\n      <td>36</td>\n      <td>среднее</td>\n      <td>1</td>\n      <td>женат / замужем</td>\n      <td>0</td>\n      <td>F</td>\n      <td>сотрудник</td>\n      <td>0</td>\n      <td>112080.015625</td>\n      <td>приобретение автомобил</td>\n      <td>молодые_люди</td>\n      <td>высокий_доход</td>\n      <td>авто</td>\n    </tr>\n    <tr>\n      <th>2</th>\n      <td>0</td>\n      <td>57.634796</td>\n      <td>33</td>\n      <td>среднее</td>\n      <td>1</td>\n      <td>женат / замужем</td>\n      <td>0</td>\n      <td>M</td>\n      <td>сотрудник</td>\n      <td>0</td>\n      <td>145885.953125</td>\n      <td>покупка жил</td>\n      <td>молодые_люди</td>\n      <td>высокий_доход</td>\n      <td>жилье</td>\n    </tr>\n    <tr>\n      <th>3</th>\n      <td>3</td>\n      <td>57.634796</td>\n      <td>32</td>\n      <td>среднее</td>\n      <td>1</td>\n      <td>женат / замужем</td>\n      <td>0</td>\n      <td>M</td>\n      <td>сотрудник</td>\n      <td>0</td>\n      <td>267628.562500</td>\n      <td>дополнительное образован</td>\n      <td>молодые_люди</td>\n      <td>очень_высокий_доход</td>\n      <td>образование</td>\n    </tr>\n    <tr>\n      <th>4</th>\n      <td>0</td>\n      <td>15247.142578</td>\n      <td>53</td>\n      <td>среднее</td>\n      <td>1</td>\n      <td>гражданский брак</td>\n      <td>1</td>\n      <td>F</td>\n      <td>пенсионер</td>\n      <td>0</td>\n      <td>158616.078125</td>\n      <td>сыграть свадьб</td>\n      <td>средний_возраст</td>\n      <td>очень_высокий_доход</td>\n      <td>свадьба</td>\n    </tr>\n    <tr>\n      <th>5</th>\n      <td>0</td>\n      <td>55.325890</td>\n      <td>27</td>\n      <td>высшее</td>\n      <td>0</td>\n      <td>гражданский брак</td>\n      <td>1</td>\n      <td>M</td>\n      <td>компаньон</td>\n      <td>0</td>\n      <td>255763.562500</td>\n      <td>покупка жил</td>\n      <td>молодые_люди</td>\n      <td>очень_высокий_доход</td>\n      <td>жилье</td>\n    </tr>\n    <tr>\n      <th>6</th>\n      <td>0</td>\n      <td>64.066505</td>\n      <td>43</td>\n      <td>высшее</td>\n      <td>0</td>\n      <td>женат / замужем</td>\n      <td>0</td>\n      <td>F</td>\n      <td>компаньон</td>\n      <td>0</td>\n      <td>240525.968750</td>\n      <td>операции с жил</td>\n      <td>молодые_люди</td>\n      <td>очень_высокий_доход</td>\n      <td>жилье</td>\n    </tr>\n    <tr>\n      <th>7</th>\n      <td>0</td>\n      <td>57.634796</td>\n      <td>50</td>\n      <td>среднее</td>\n      <td>1</td>\n      <td>женат / замужем</td>\n      <td>0</td>\n      <td>M</td>\n      <td>сотрудник</td>\n      <td>0</td>\n      <td>135823.937500</td>\n      <td>образован</td>\n      <td>средний_возраст</td>\n      <td>высокий_доход</td>\n      <td>образование</td>\n    </tr>\n    <tr>\n      <th>8</th>\n      <td>2</td>\n      <td>68.166092</td>\n      <td>35</td>\n      <td>высшее</td>\n      <td>0</td>\n      <td>гражданский брак</td>\n      <td>1</td>\n      <td>F</td>\n      <td>сотрудник</td>\n      <td>0</td>\n      <td>95856.835938</td>\n      <td>на проведение свадьб</td>\n      <td>молодые_люди</td>\n      <td>средний_доход</td>\n      <td>свадьба</td>\n    </tr>\n    <tr>\n      <th>9</th>\n      <td>0</td>\n      <td>57.634796</td>\n      <td>41</td>\n      <td>среднее</td>\n      <td>1</td>\n      <td>женат / замужем</td>\n      <td>0</td>\n      <td>M</td>\n      <td>сотрудник</td>\n      <td>0</td>\n      <td>144425.937500</td>\n      <td>покупка жилья для сем</td>\n      <td>молодые_люди</td>\n      <td>высокий_доход</td>\n      <td>жилье</td>\n    </tr>\n  </tbody>\n</table>\n</div>"
     },
     "execution_count": 430,
     "metadata": {},
     "output_type": "execute_result"
    }
   ],
   "source": [
    "# функция категоризации по цели кредита\n",
    "def purpose_categorise(row):\n",
    "    purpouse = row['purpose']\n",
    "\n",
    "    if 'свадьб' in purpouse:\n",
    "        return 'свадьба'\n",
    "\n",
    "    elif 'жил' in purpouse or 'недвижим' in purpouse:\n",
    "        if 'коммерческой' in purpouse:\n",
    "            return 'коммерция'\n",
    "        return 'жилье'\n",
    "\n",
    "    elif 'ремонт' in purpouse:\n",
    "        return 'ремонт'\n",
    "\n",
    "    elif 'образован' in purpouse:\n",
    "        return 'образование'\n",
    "\n",
    "    elif 'автомоб' in purpouse:\n",
    "        return 'авто'\n",
    "\n",
    "    else: return 'не_определено'\n",
    "\n",
    "# категоризируем клиентов по цели кредита\n",
    "data['purpose_status'] = data.apply(purpose_categorise, axis=1)\n",
    "\n",
    "# проверим что код отработал корректно\n",
    "data.head(10)\n"
   ],
   "metadata": {
    "collapsed": false,
    "pycharm": {
     "name": "#%%\n"
    }
   }
  },
  {
   "cell_type": "code",
   "execution_count": 431,
   "outputs": [
    {
     "data": {
      "text/plain": "'Количестно не категоризированных клиентов: 0'"
     },
     "metadata": {},
     "output_type": "display_data"
    }
   ],
   "source": [
    "# убедимся, что категоризировали всех клиентов\n",
    "display(f\"Количестно не категоризированных клиентов: {len(data[data['purpose_status'] == 'не_определено'])}\")"
   ],
   "metadata": {
    "collapsed": false,
    "pycharm": {
     "name": "#%%\n"
    }
   }
  },
  {
   "cell_type": "markdown",
   "source": [],
   "metadata": {
    "collapsed": false
   }
  },
  {
   "cell_type": "markdown",
   "metadata": {},
   "source": [
    "## Шаг 3. Ответьте на вопросы"
   ]
  },
  {
   "cell_type": "markdown",
   "metadata": {},
   "source": [
    "- Есть ли зависимость между наличием детей и возвратом кредита в срок?"
   ]
  },
  {
   "cell_type": "code",
   "execution_count": 432,
   "metadata": {},
   "outputs": [
    {
     "data": {
      "text/plain": "debt            0       1  percent_1\nchildren                            \n0         13028.0  1063.0   7.543822\n1          4410.0   445.0   9.165808\n2          1858.0   194.0   9.454191\n3           303.0    27.0   8.181818\n4            37.0     4.0   9.756098\n5             9.0     NaN        NaN\n20           68.0     8.0  10.526316",
      "text/html": "<div>\n<style scoped>\n    .dataframe tbody tr th:only-of-type {\n        vertical-align: middle;\n    }\n\n    .dataframe tbody tr th {\n        vertical-align: top;\n    }\n\n    .dataframe thead th {\n        text-align: right;\n    }\n</style>\n<table border=\"1\" class=\"dataframe\">\n  <thead>\n    <tr style=\"text-align: right;\">\n      <th>debt</th>\n      <th>0</th>\n      <th>1</th>\n      <th>percent_1</th>\n    </tr>\n    <tr>\n      <th>children</th>\n      <th></th>\n      <th></th>\n      <th></th>\n    </tr>\n  </thead>\n  <tbody>\n    <tr>\n      <th>0</th>\n      <td>13028.0</td>\n      <td>1063.0</td>\n      <td>7.543822</td>\n    </tr>\n    <tr>\n      <th>1</th>\n      <td>4410.0</td>\n      <td>445.0</td>\n      <td>9.165808</td>\n    </tr>\n    <tr>\n      <th>2</th>\n      <td>1858.0</td>\n      <td>194.0</td>\n      <td>9.454191</td>\n    </tr>\n    <tr>\n      <th>3</th>\n      <td>303.0</td>\n      <td>27.0</td>\n      <td>8.181818</td>\n    </tr>\n    <tr>\n      <th>4</th>\n      <td>37.0</td>\n      <td>4.0</td>\n      <td>9.756098</td>\n    </tr>\n    <tr>\n      <th>5</th>\n      <td>9.0</td>\n      <td>NaN</td>\n      <td>NaN</td>\n    </tr>\n    <tr>\n      <th>20</th>\n      <td>68.0</td>\n      <td>8.0</td>\n      <td>10.526316</td>\n    </tr>\n  </tbody>\n</table>\n</div>"
     },
     "execution_count": 432,
     "metadata": {},
     "output_type": "execute_result"
    }
   ],
   "source": [
    "children_table = data.pivot_table(index='children', columns='debt', values='days_employed', aggfunc='count')\n",
    "children_table['percent_1'] = children_table[1] / (children_table[1] + children_table[0]) * 100\n",
    "children_table"
   ]
  },
  {
   "cell_type": "markdown",
   "metadata": {},
   "source": [
    "**Вывод**\n",
    "Т.к. независимо от количества детей процент возврата кредита в срок не сильно изменяется, можно сделать вывод о том, что возврат кредита в срок не зависит от количества детей.\n",
    "Но у клиентов без детей, значительно больше выплаченных в срок кредитов, чем у других."
   ]
  },
  {
   "cell_type": "markdown",
   "metadata": {},
   "source": []
  },
  {
   "cell_type": "markdown",
   "metadata": {},
   "source": [
    "- Есть ли зависимость между семейным положением и возвратом кредита в срок?"
   ]
  },
  {
   "cell_type": "code",
   "execution_count": 433,
   "metadata": {},
   "outputs": [
    {
     "data": {
      "text/plain": "debt                       0    1  percent_1\nfamily_status                               \nв разводе               1110   85   7.112971\nвдовец / вдова           896   63   6.569343\nгражданский брак        3763  388   9.347145\nженат / замужем        11408  931   7.545182\nне женат / не замужем   2536  274   9.750890",
      "text/html": "<div>\n<style scoped>\n    .dataframe tbody tr th:only-of-type {\n        vertical-align: middle;\n    }\n\n    .dataframe tbody tr th {\n        vertical-align: top;\n    }\n\n    .dataframe thead th {\n        text-align: right;\n    }\n</style>\n<table border=\"1\" class=\"dataframe\">\n  <thead>\n    <tr style=\"text-align: right;\">\n      <th>debt</th>\n      <th>0</th>\n      <th>1</th>\n      <th>percent_1</th>\n    </tr>\n    <tr>\n      <th>family_status</th>\n      <th></th>\n      <th></th>\n      <th></th>\n    </tr>\n  </thead>\n  <tbody>\n    <tr>\n      <th>в разводе</th>\n      <td>1110</td>\n      <td>85</td>\n      <td>7.112971</td>\n    </tr>\n    <tr>\n      <th>вдовец / вдова</th>\n      <td>896</td>\n      <td>63</td>\n      <td>6.569343</td>\n    </tr>\n    <tr>\n      <th>гражданский брак</th>\n      <td>3763</td>\n      <td>388</td>\n      <td>9.347145</td>\n    </tr>\n    <tr>\n      <th>женат / замужем</th>\n      <td>11408</td>\n      <td>931</td>\n      <td>7.545182</td>\n    </tr>\n    <tr>\n      <th>не женат / не замужем</th>\n      <td>2536</td>\n      <td>274</td>\n      <td>9.750890</td>\n    </tr>\n  </tbody>\n</table>\n</div>"
     },
     "execution_count": 433,
     "metadata": {},
     "output_type": "execute_result"
    }
   ],
   "source": [
    "family_status = data.pivot_table(index='family_status', columns='debt', values='days_employed', aggfunc='count')\n",
    "family_status['percent_1'] = family_status[1] / (family_status[1] + family_status[0]) * 100\n",
    "family_status"
   ]
  },
  {
   "cell_type": "markdown",
   "metadata": {},
   "source": [
    "**Вывод**\n",
    "Т.к. независимо от семейного статуса процент возврата кредита в срок не сильно изменяется, можно сделать вывод о том, что возврат кредита в срок не зависит от семейного статуса.\n",
    "Но у клиентов которые находятся в браке, значительно больше выплаченных в срок кредитов, чем у других."
   ]
  },
  {
   "cell_type": "markdown",
   "metadata": {},
   "source": []
  },
  {
   "cell_type": "markdown",
   "metadata": {},
   "source": [
    "- Есть ли зависимость между уровнем дохода и возвратом кредита в срок?"
   ]
  },
  {
   "cell_type": "code",
   "execution_count": 434,
   "metadata": {},
   "outputs": [
    {
     "data": {
      "text/plain": "debt                    0    1  percent_1\nincome_status                            \nвысокий_доход        6261  584   8.531775\nнизкий_доход          349   23   6.182796\nочень_высокий_доход  9341  803   7.916009\nсредний_доход        3762  331   8.086978",
      "text/html": "<div>\n<style scoped>\n    .dataframe tbody tr th:only-of-type {\n        vertical-align: middle;\n    }\n\n    .dataframe tbody tr th {\n        vertical-align: top;\n    }\n\n    .dataframe thead th {\n        text-align: right;\n    }\n</style>\n<table border=\"1\" class=\"dataframe\">\n  <thead>\n    <tr style=\"text-align: right;\">\n      <th>debt</th>\n      <th>0</th>\n      <th>1</th>\n      <th>percent_1</th>\n    </tr>\n    <tr>\n      <th>income_status</th>\n      <th></th>\n      <th></th>\n      <th></th>\n    </tr>\n  </thead>\n  <tbody>\n    <tr>\n      <th>высокий_доход</th>\n      <td>6261</td>\n      <td>584</td>\n      <td>8.531775</td>\n    </tr>\n    <tr>\n      <th>низкий_доход</th>\n      <td>349</td>\n      <td>23</td>\n      <td>6.182796</td>\n    </tr>\n    <tr>\n      <th>очень_высокий_доход</th>\n      <td>9341</td>\n      <td>803</td>\n      <td>7.916009</td>\n    </tr>\n    <tr>\n      <th>средний_доход</th>\n      <td>3762</td>\n      <td>331</td>\n      <td>8.086978</td>\n    </tr>\n  </tbody>\n</table>\n</div>"
     },
     "execution_count": 434,
     "metadata": {},
     "output_type": "execute_result"
    }
   ],
   "source": [
    "income_status = data.pivot_table(index='income_status', columns='debt', values='days_employed', aggfunc='count')\n",
    "income_status['percent_1'] = income_status[1] / (income_status[1] + income_status[0]) * 100\n",
    "income_status"
   ]
  },
  {
   "cell_type": "markdown",
   "metadata": {},
   "source": [
    "**Вывод**\n",
    "Т.к. независимо от уровня дохода процент возврата кредита в срок не сильно изменяется, можно сделать вывод о том, что возврат кредита в срок не зависит от уровня дохода.\n",
    "Но у клиентов с уровнем дохода более 150 000р, значительно больше выплаченных в срок кредитов, чем у других."
   ]
  },
  {
   "cell_type": "markdown",
   "metadata": {},
   "source": []
  },
  {
   "cell_type": "markdown",
   "metadata": {},
   "source": [
    "- Как разные цели кредита влияют на его возврат в срок?"
   ]
  },
  {
   "cell_type": "code",
   "execution_count": 435,
   "metadata": {},
   "outputs": [
    {
     "data": {
      "text/plain": "debt               0    1  percent_1\npurpose_status                      \nавто            3903  403   9.359034\nжилье           8817  683   7.189474\nкоммерция       1212   99   7.551487\nобразование     3643  370   9.220035\nсвадьба         2138  186   8.003442",
      "text/html": "<div>\n<style scoped>\n    .dataframe tbody tr th:only-of-type {\n        vertical-align: middle;\n    }\n\n    .dataframe tbody tr th {\n        vertical-align: top;\n    }\n\n    .dataframe thead th {\n        text-align: right;\n    }\n</style>\n<table border=\"1\" class=\"dataframe\">\n  <thead>\n    <tr style=\"text-align: right;\">\n      <th>debt</th>\n      <th>0</th>\n      <th>1</th>\n      <th>percent_1</th>\n    </tr>\n    <tr>\n      <th>purpose_status</th>\n      <th></th>\n      <th></th>\n      <th></th>\n    </tr>\n  </thead>\n  <tbody>\n    <tr>\n      <th>авто</th>\n      <td>3903</td>\n      <td>403</td>\n      <td>9.359034</td>\n    </tr>\n    <tr>\n      <th>жилье</th>\n      <td>8817</td>\n      <td>683</td>\n      <td>7.189474</td>\n    </tr>\n    <tr>\n      <th>коммерция</th>\n      <td>1212</td>\n      <td>99</td>\n      <td>7.551487</td>\n    </tr>\n    <tr>\n      <th>образование</th>\n      <td>3643</td>\n      <td>370</td>\n      <td>9.220035</td>\n    </tr>\n    <tr>\n      <th>свадьба</th>\n      <td>2138</td>\n      <td>186</td>\n      <td>8.003442</td>\n    </tr>\n  </tbody>\n</table>\n</div>"
     },
     "execution_count": 435,
     "metadata": {},
     "output_type": "execute_result"
    }
   ],
   "source": [
    "purpose_status = data.pivot_table(index='purpose_status', columns='debt', values='days_employed', aggfunc='count')\n",
    "purpose_status['percent_1'] = purpose_status[1] / (purpose_status[1] + purpose_status[0]) * 100\n",
    "purpose_status"
   ]
  },
  {
   "cell_type": "markdown",
   "metadata": {},
   "source": [
    "**Вывод**\n",
    "Т.к. независимо от цкли кредита процент возврата кредита в срок не сильно изменяется, можно сделать вывод о том, что возврат кредита в срок не зависит от целей кредита.\n",
    "Но клиентов, вернувших в срок кредитов на жилье значительно больше, чем других."
   ]
  },
  {
   "cell_type": "markdown",
   "metadata": {},
   "source": []
  },
  {
   "cell_type": "markdown",
   "metadata": {
    "pycharm": {
     "name": "#%% md\n"
    }
   },
   "source": [
    "## Шаг 4. Общий вывод\n",
    "\n",
    "В данном проекте были проанализированы данные клиентов от кредитного отдела банка.\n",
    "Основные цели данного исследования были выполнены, а именно:\n",
    "1. Доказано отсутствие зависимости между наличием детей и возвратом кредита в срок.\n",
    "2. Доказано отсутствие зависимости между семейным положением и возвратом кредита в срок.\n",
    "3. Доказано отсутствие зависимости между дохода и возвратом кредита в срок.\n",
    "4. Доказано отсутствие зависимости между целями кредита и возвратом в срок.\n",
    "\n",
    "Кроме основных целей, также были сделаны следующие выводы:\n",
    "1. У клиентов без детей, значительно больше выплаченных в срок кредитов, чем у других.\n",
    "2. У клиентов которые находятся в браке, значительно больше выплаченных в срок кредитов, чем у других.\n",
    "3. У клиентов с уровнем дохода более 150 000р, значительно больше выплаченных в срок кредитов, чем у других.\n",
    "4. Клиентов, вернувших в срок кредитов на жилье значительно больше, чем других.\n",
    "\n",
    "Также в датасете найдены следующие баги и недостатки:\n",
    "1. Иногда встречаются отрицательные значения в стобцах children и days_employed, независимо от других значений.\n",
    "2. Иногда встречаются пропуски данных в стобцах days_employed и total_income. Пропуски встречаются только в обоих столбцах одновременно и имеют случайный характер.\n",
    "3. Иногда встречаются нулевые значения в столбце dob_years, независимо от других значений.\n",
    "4. В столбце education и family_status значения не приведены к нижнему регистру.\n",
    "5. В столбце purpose данные не лемматизированы/не произведен стемминг.\n",
    "\n",
    "Исправление этих багов и недостатков могло бы значительно сократить время следующих исследований."
   ]
  }
 ],
 "metadata": {
  "ExecuteTimeLog": [
   {
    "duration": 3,
    "start_time": "2021-12-28T10:53:21.965Z"
   }
  ],
  "kernelspec": {
   "display_name": "Python 3",
   "language": "python",
   "name": "python3"
  },
  "language_info": {
   "codemirror_mode": {
    "name": "ipython",
    "version": 3
   },
   "file_extension": ".py",
   "mimetype": "text/x-python",
   "name": "python",
   "nbconvert_exporter": "python",
   "pygments_lexer": "ipython3",
   "version": "3.7.8"
  },
  "toc": {
   "base_numbering": 1,
   "nav_menu": {},
   "number_sections": true,
   "sideBar": true,
   "skip_h1_title": true,
   "title_cell": "Table of Contents",
   "title_sidebar": "Contents",
   "toc_cell": false,
   "toc_position": {},
   "toc_section_display": true,
   "toc_window_display": false
  }
 },
 "nbformat": 4,
 "nbformat_minor": 2
}