{
 "cells": [
  {
   "cell_type": "markdown",
   "metadata": {},
   "source": [
    "# Исследование надёжности заёмщиков\n",
    "\n",
    "Заказчик — кредитный отдел банка. Нужно разобраться, влияет ли семейное положение и количество детей клиента на факт погашения кредита в срок. Входные данные от банка — статистика о платёжеспособности клиентов.\n",
    "\n",
    "Результаты исследования будут учтены при построении модели **кредитного скоринга** — специальной системы, которая оценивает способность потенциального заёмщика вернуть кредит банку.\n",
    "\n",
    "\n",
    "### Цели исследования\n",
    "1. Есть ли зависимость между наличием детей и возвратом кредита в срок?\n",
    "2. Есть ли зависимость между семейным положением и возвратом кредита в срок?\n",
    "3. Есть ли зависимость между уровнем дохода и возвратом кредита в срок?\n",
    "4. Как разные цели кредита влияют на его возврат в срок?\n",
    "\n",
    "### Описание данных\n",
    "\n",
    "\n",
    "| Название столбца       | Значение                                   |\n",
    "|------------------------|--------------------------------------------|\n",
    "| ***children***         | количество детей в семье                   |\n",
    "| ***days_employed***    | общий трудовой стаж в днях                 |\n",
    "| ***dob_years***        | возраст клиента в годах                    |\n",
    "| ***education***        | уровень образования клиента                |\n",
    "| ***education_id***     | идентификатор уровня образования           |\n",
    "| ***family_status***    | семейное положение                         |\n",
    "| ***family_status_id*** | идентификатор семейного положения          |\n",
    "| ***gender***           | пол клиента                                |\n",
    "| ***income_type***      | тип занятости                              |\n",
    "| ***debt***             | имел ли задолженность по возврату кредитов |\n",
    "| ***total_income***     | ежемесячный доход                          |\n",
    "| ***purpose***          | цель кредита                               |"
   ]
  },
  {
   "cell_type": "markdown",
   "metadata": {},
   "source": [
    "## Шаг 1. Изучаем информацию о датасете"
   ]
  },
  {
   "cell_type": "code",
   "execution_count": 72,
   "metadata": {},
   "outputs": [],
   "source": [
    "# импортируем нужные библиотеки\n",
    "import numpy as np\n",
    "import pandas as pd\n",
    "import matplotlib.pyplot as plt\n",
    "import seaborn as sns\n",
    "from collections import Counter\n",
    "from nltk.stem import SnowballStemmer\n",
    "snowball_stemmer = SnowballStemmer('russian').stem  # создаем объект SnowballStemmer\n",
    "from pymystem3 import Mystem\n",
    "mystem = Mystem().lemmatize # создаем объект Mystem"
   ]
  },
  {
   "cell_type": "code",
   "execution_count": 73,
   "outputs": [
    {
     "name": "stdout",
     "output_type": "stream",
     "text": [
      "<class 'pandas.core.frame.DataFrame'>\n",
      "RangeIndex: 21525 entries, 0 to 21524\n",
      "Data columns (total 12 columns):\n",
      " #   Column            Non-Null Count  Dtype  \n",
      "---  ------            --------------  -----  \n",
      " 0   children          21525 non-null  int64  \n",
      " 1   days_employed     19351 non-null  float64\n",
      " 2   dob_years         21525 non-null  int64  \n",
      " 3   education         21525 non-null  object \n",
      " 4   education_id      21525 non-null  int64  \n",
      " 5   family_status     21525 non-null  object \n",
      " 6   family_status_id  21525 non-null  int64  \n",
      " 7   gender            21525 non-null  object \n",
      " 8   income_type       21525 non-null  object \n",
      " 9   debt              21525 non-null  int64  \n",
      " 10  total_income      19351 non-null  float64\n",
      " 11  purpose           21525 non-null  object \n",
      "dtypes: float64(2), int64(5), object(5)\n",
      "memory usage: 2.0+ MB\n"
     ]
    }
   ],
   "source": [
    "# прочитаем предоставленный датасет\n",
    "data = pd.read_csv('../data/data.csv')\n",
    "\n",
    "# посмотрим информацию о содержании колонок\n",
    "data.info()"
   ],
   "metadata": {
    "collapsed": false,
    "pycharm": {
     "name": "#%%\n"
    }
   }
  },
  {
   "cell_type": "markdown",
   "source": [
    "*После просмотра информации о колонках можно сделать следующие выводы:*\n",
    "- Датасет содержит 21525 сэмплов и 12 столбцов, из них 2 столбца с данными типа float64, 5 с int64 и 5 с данными типа object.\n",
    "- В столбцах days_employed и total_income присутствуют пропуски данных, причем в обоих столбцах содержится одинаковое количество строк с пропусками - 2174, что дает нам возможность предположить что между пропусками в этих столбцах есть зависимость.\n",
    "- Использование int64 в столбцах children, debt и dob_years выглядит избыточным.\n",
    "\n",
    "Давайте посмотрим на содержание датасета и описательную статистику столбцов."
   ],
   "metadata": {
    "collapsed": false
   }
  },
  {
   "cell_type": "code",
   "execution_count": 74,
   "outputs": [
    {
     "data": {
      "text/plain": "    children  days_employed  dob_years            education  education_id  \\\n0          1   -8437.673028         42               высшее             0   \n1          1   -4024.803754         36              среднее             1   \n2          0   -5623.422610         33              Среднее             1   \n3          3   -4124.747207         32              среднее             1   \n4          0  340266.072047         53              среднее             1   \n5          0    -926.185831         27               высшее             0   \n6          0   -2879.202052         43               высшее             0   \n7          0    -152.779569         50              СРЕДНЕЕ             1   \n8          2   -6929.865299         35               ВЫСШЕЕ             0   \n9          0   -2188.756445         41              среднее             1   \n10         2   -4171.483647         36               высшее             0   \n11         0    -792.701887         40              среднее             1   \n12         0            NaN         65              среднее             1   \n13         0   -1846.641941         54  неоконченное высшее             2   \n14         0   -1844.956182         56               высшее             0   \n15         1    -972.364419         26              среднее             1   \n16         0   -1719.934226         35              среднее             1   \n17         0   -2369.999720         33               высшее             0   \n18         0  400281.136913         53              среднее             1   \n19         0  -10038.818549         48              СРЕДНЕЕ             1   \n20         1   -1311.604166         36              среднее             1   \n21         1    -253.685166         33              среднее             1   \n22         1   -1766.644138         24              среднее             1   \n23         0    -272.981385         21               высшее             0   \n24         1  338551.952911         57              среднее             1   \n25         0  363548.489348         67              среднее             1   \n26         0            NaN         41              среднее             1   \n27         0    -529.191635         28               высшее             0   \n28         1    -717.274324         26               высшее             0   \n29         0            NaN         63              среднее             1   \n\n            family_status  family_status_id gender  income_type  debt  \\\n0         женат / замужем                 0      F    сотрудник     0   \n1         женат / замужем                 0      F    сотрудник     0   \n2         женат / замужем                 0      M    сотрудник     0   \n3         женат / замужем                 0      M    сотрудник     0   \n4        гражданский брак                 1      F    пенсионер     0   \n5        гражданский брак                 1      M    компаньон     0   \n6         женат / замужем                 0      F    компаньон     0   \n7         женат / замужем                 0      M    сотрудник     0   \n8        гражданский брак                 1      F    сотрудник     0   \n9         женат / замужем                 0      M    сотрудник     0   \n10        женат / замужем                 0      M    компаньон     0   \n11        женат / замужем                 0      F    сотрудник     0   \n12       гражданский брак                 1      M    пенсионер     0   \n13        женат / замужем                 0      F    сотрудник     0   \n14       гражданский брак                 1      F    компаньон     1   \n15        женат / замужем                 0      F    сотрудник     0   \n16        женат / замужем                 0      F    сотрудник     0   \n17       гражданский брак                 1      M    сотрудник     0   \n18         вдовец / вдова                 2      F    пенсионер     0   \n19              в разводе                 3      F    сотрудник     0   \n20        женат / замужем                 0      M    сотрудник     0   \n21       гражданский брак                 1      F    сотрудник     0   \n22       гражданский брак                 1      F    сотрудник     0   \n23       гражданский брак                 1      M    сотрудник     0   \n24  Не женат / не замужем                 4      F    пенсионер     0   \n25        женат / замужем                 0      M    пенсионер     0   \n26        женат / замужем                 0      M  госслужащий     0   \n27        женат / замужем                 0      M    сотрудник     0   \n28        женат / замужем                 0      F    сотрудник     0   \n29  Не женат / не замужем                 4      F    пенсионер     0   \n\n     total_income                                 purpose  \n0   253875.639453                           покупка жилья  \n1   112080.014102                 приобретение автомобиля  \n2   145885.952297                           покупка жилья  \n3   267628.550329              дополнительное образование  \n4   158616.077870                         сыграть свадьбу  \n5   255763.565419                           покупка жилья  \n6   240525.971920                       операции с жильем  \n7   135823.934197                             образование  \n8    95856.832424                   на проведение свадьбы  \n9   144425.938277                 покупка жилья для семьи  \n10  113943.491460                    покупка недвижимости  \n11   77069.234271       покупка коммерческой недвижимости  \n12            NaN                         сыграть свадьбу  \n13  130458.228857                 приобретение автомобиля  \n14  165127.911772              покупка жилой недвижимости  \n15  116820.904450  строительство собственной недвижимости  \n16  289202.704229                            недвижимость  \n17   90410.586745              строительство недвижимости  \n18   56823.777243      на покупку подержанного автомобиля  \n19  242831.107982            на покупку своего автомобиля  \n20  209552.644578                            недвижимость  \n21  131812.203909                 приобретение автомобиля  \n22  149681.140731      на покупку подержанного автомобиля  \n23  128265.720871                         сыграть свадьбу  \n24  290547.235997   операции с коммерческой недвижимостью  \n25   55112.757732                    покупка недвижимости  \n26            NaN                             образование  \n27  308848.983691  строительство собственной недвижимости  \n28  187863.237306  строительство собственной недвижимости  \n29            NaN        строительство жилой недвижимости  ",
      "text/html": "<div>\n<style scoped>\n    .dataframe tbody tr th:only-of-type {\n        vertical-align: middle;\n    }\n\n    .dataframe tbody tr th {\n        vertical-align: top;\n    }\n\n    .dataframe thead th {\n        text-align: right;\n    }\n</style>\n<table border=\"1\" class=\"dataframe\">\n  <thead>\n    <tr style=\"text-align: right;\">\n      <th></th>\n      <th>children</th>\n      <th>days_employed</th>\n      <th>dob_years</th>\n      <th>education</th>\n      <th>education_id</th>\n      <th>family_status</th>\n      <th>family_status_id</th>\n      <th>gender</th>\n      <th>income_type</th>\n      <th>debt</th>\n      <th>total_income</th>\n      <th>purpose</th>\n    </tr>\n  </thead>\n  <tbody>\n    <tr>\n      <th>0</th>\n      <td>1</td>\n      <td>-8437.673028</td>\n      <td>42</td>\n      <td>высшее</td>\n      <td>0</td>\n      <td>женат / замужем</td>\n      <td>0</td>\n      <td>F</td>\n      <td>сотрудник</td>\n      <td>0</td>\n      <td>253875.639453</td>\n      <td>покупка жилья</td>\n    </tr>\n    <tr>\n      <th>1</th>\n      <td>1</td>\n      <td>-4024.803754</td>\n      <td>36</td>\n      <td>среднее</td>\n      <td>1</td>\n      <td>женат / замужем</td>\n      <td>0</td>\n      <td>F</td>\n      <td>сотрудник</td>\n      <td>0</td>\n      <td>112080.014102</td>\n      <td>приобретение автомобиля</td>\n    </tr>\n    <tr>\n      <th>2</th>\n      <td>0</td>\n      <td>-5623.422610</td>\n      <td>33</td>\n      <td>Среднее</td>\n      <td>1</td>\n      <td>женат / замужем</td>\n      <td>0</td>\n      <td>M</td>\n      <td>сотрудник</td>\n      <td>0</td>\n      <td>145885.952297</td>\n      <td>покупка жилья</td>\n    </tr>\n    <tr>\n      <th>3</th>\n      <td>3</td>\n      <td>-4124.747207</td>\n      <td>32</td>\n      <td>среднее</td>\n      <td>1</td>\n      <td>женат / замужем</td>\n      <td>0</td>\n      <td>M</td>\n      <td>сотрудник</td>\n      <td>0</td>\n      <td>267628.550329</td>\n      <td>дополнительное образование</td>\n    </tr>\n    <tr>\n      <th>4</th>\n      <td>0</td>\n      <td>340266.072047</td>\n      <td>53</td>\n      <td>среднее</td>\n      <td>1</td>\n      <td>гражданский брак</td>\n      <td>1</td>\n      <td>F</td>\n      <td>пенсионер</td>\n      <td>0</td>\n      <td>158616.077870</td>\n      <td>сыграть свадьбу</td>\n    </tr>\n    <tr>\n      <th>5</th>\n      <td>0</td>\n      <td>-926.185831</td>\n      <td>27</td>\n      <td>высшее</td>\n      <td>0</td>\n      <td>гражданский брак</td>\n      <td>1</td>\n      <td>M</td>\n      <td>компаньон</td>\n      <td>0</td>\n      <td>255763.565419</td>\n      <td>покупка жилья</td>\n    </tr>\n    <tr>\n      <th>6</th>\n      <td>0</td>\n      <td>-2879.202052</td>\n      <td>43</td>\n      <td>высшее</td>\n      <td>0</td>\n      <td>женат / замужем</td>\n      <td>0</td>\n      <td>F</td>\n      <td>компаньон</td>\n      <td>0</td>\n      <td>240525.971920</td>\n      <td>операции с жильем</td>\n    </tr>\n    <tr>\n      <th>7</th>\n      <td>0</td>\n      <td>-152.779569</td>\n      <td>50</td>\n      <td>СРЕДНЕЕ</td>\n      <td>1</td>\n      <td>женат / замужем</td>\n      <td>0</td>\n      <td>M</td>\n      <td>сотрудник</td>\n      <td>0</td>\n      <td>135823.934197</td>\n      <td>образование</td>\n    </tr>\n    <tr>\n      <th>8</th>\n      <td>2</td>\n      <td>-6929.865299</td>\n      <td>35</td>\n      <td>ВЫСШЕЕ</td>\n      <td>0</td>\n      <td>гражданский брак</td>\n      <td>1</td>\n      <td>F</td>\n      <td>сотрудник</td>\n      <td>0</td>\n      <td>95856.832424</td>\n      <td>на проведение свадьбы</td>\n    </tr>\n    <tr>\n      <th>9</th>\n      <td>0</td>\n      <td>-2188.756445</td>\n      <td>41</td>\n      <td>среднее</td>\n      <td>1</td>\n      <td>женат / замужем</td>\n      <td>0</td>\n      <td>M</td>\n      <td>сотрудник</td>\n      <td>0</td>\n      <td>144425.938277</td>\n      <td>покупка жилья для семьи</td>\n    </tr>\n    <tr>\n      <th>10</th>\n      <td>2</td>\n      <td>-4171.483647</td>\n      <td>36</td>\n      <td>высшее</td>\n      <td>0</td>\n      <td>женат / замужем</td>\n      <td>0</td>\n      <td>M</td>\n      <td>компаньон</td>\n      <td>0</td>\n      <td>113943.491460</td>\n      <td>покупка недвижимости</td>\n    </tr>\n    <tr>\n      <th>11</th>\n      <td>0</td>\n      <td>-792.701887</td>\n      <td>40</td>\n      <td>среднее</td>\n      <td>1</td>\n      <td>женат / замужем</td>\n      <td>0</td>\n      <td>F</td>\n      <td>сотрудник</td>\n      <td>0</td>\n      <td>77069.234271</td>\n      <td>покупка коммерческой недвижимости</td>\n    </tr>\n    <tr>\n      <th>12</th>\n      <td>0</td>\n      <td>NaN</td>\n      <td>65</td>\n      <td>среднее</td>\n      <td>1</td>\n      <td>гражданский брак</td>\n      <td>1</td>\n      <td>M</td>\n      <td>пенсионер</td>\n      <td>0</td>\n      <td>NaN</td>\n      <td>сыграть свадьбу</td>\n    </tr>\n    <tr>\n      <th>13</th>\n      <td>0</td>\n      <td>-1846.641941</td>\n      <td>54</td>\n      <td>неоконченное высшее</td>\n      <td>2</td>\n      <td>женат / замужем</td>\n      <td>0</td>\n      <td>F</td>\n      <td>сотрудник</td>\n      <td>0</td>\n      <td>130458.228857</td>\n      <td>приобретение автомобиля</td>\n    </tr>\n    <tr>\n      <th>14</th>\n      <td>0</td>\n      <td>-1844.956182</td>\n      <td>56</td>\n      <td>высшее</td>\n      <td>0</td>\n      <td>гражданский брак</td>\n      <td>1</td>\n      <td>F</td>\n      <td>компаньон</td>\n      <td>1</td>\n      <td>165127.911772</td>\n      <td>покупка жилой недвижимости</td>\n    </tr>\n    <tr>\n      <th>15</th>\n      <td>1</td>\n      <td>-972.364419</td>\n      <td>26</td>\n      <td>среднее</td>\n      <td>1</td>\n      <td>женат / замужем</td>\n      <td>0</td>\n      <td>F</td>\n      <td>сотрудник</td>\n      <td>0</td>\n      <td>116820.904450</td>\n      <td>строительство собственной недвижимости</td>\n    </tr>\n    <tr>\n      <th>16</th>\n      <td>0</td>\n      <td>-1719.934226</td>\n      <td>35</td>\n      <td>среднее</td>\n      <td>1</td>\n      <td>женат / замужем</td>\n      <td>0</td>\n      <td>F</td>\n      <td>сотрудник</td>\n      <td>0</td>\n      <td>289202.704229</td>\n      <td>недвижимость</td>\n    </tr>\n    <tr>\n      <th>17</th>\n      <td>0</td>\n      <td>-2369.999720</td>\n      <td>33</td>\n      <td>высшее</td>\n      <td>0</td>\n      <td>гражданский брак</td>\n      <td>1</td>\n      <td>M</td>\n      <td>сотрудник</td>\n      <td>0</td>\n      <td>90410.586745</td>\n      <td>строительство недвижимости</td>\n    </tr>\n    <tr>\n      <th>18</th>\n      <td>0</td>\n      <td>400281.136913</td>\n      <td>53</td>\n      <td>среднее</td>\n      <td>1</td>\n      <td>вдовец / вдова</td>\n      <td>2</td>\n      <td>F</td>\n      <td>пенсионер</td>\n      <td>0</td>\n      <td>56823.777243</td>\n      <td>на покупку подержанного автомобиля</td>\n    </tr>\n    <tr>\n      <th>19</th>\n      <td>0</td>\n      <td>-10038.818549</td>\n      <td>48</td>\n      <td>СРЕДНЕЕ</td>\n      <td>1</td>\n      <td>в разводе</td>\n      <td>3</td>\n      <td>F</td>\n      <td>сотрудник</td>\n      <td>0</td>\n      <td>242831.107982</td>\n      <td>на покупку своего автомобиля</td>\n    </tr>\n    <tr>\n      <th>20</th>\n      <td>1</td>\n      <td>-1311.604166</td>\n      <td>36</td>\n      <td>среднее</td>\n      <td>1</td>\n      <td>женат / замужем</td>\n      <td>0</td>\n      <td>M</td>\n      <td>сотрудник</td>\n      <td>0</td>\n      <td>209552.644578</td>\n      <td>недвижимость</td>\n    </tr>\n    <tr>\n      <th>21</th>\n      <td>1</td>\n      <td>-253.685166</td>\n      <td>33</td>\n      <td>среднее</td>\n      <td>1</td>\n      <td>гражданский брак</td>\n      <td>1</td>\n      <td>F</td>\n      <td>сотрудник</td>\n      <td>0</td>\n      <td>131812.203909</td>\n      <td>приобретение автомобиля</td>\n    </tr>\n    <tr>\n      <th>22</th>\n      <td>1</td>\n      <td>-1766.644138</td>\n      <td>24</td>\n      <td>среднее</td>\n      <td>1</td>\n      <td>гражданский брак</td>\n      <td>1</td>\n      <td>F</td>\n      <td>сотрудник</td>\n      <td>0</td>\n      <td>149681.140731</td>\n      <td>на покупку подержанного автомобиля</td>\n    </tr>\n    <tr>\n      <th>23</th>\n      <td>0</td>\n      <td>-272.981385</td>\n      <td>21</td>\n      <td>высшее</td>\n      <td>0</td>\n      <td>гражданский брак</td>\n      <td>1</td>\n      <td>M</td>\n      <td>сотрудник</td>\n      <td>0</td>\n      <td>128265.720871</td>\n      <td>сыграть свадьбу</td>\n    </tr>\n    <tr>\n      <th>24</th>\n      <td>1</td>\n      <td>338551.952911</td>\n      <td>57</td>\n      <td>среднее</td>\n      <td>1</td>\n      <td>Не женат / не замужем</td>\n      <td>4</td>\n      <td>F</td>\n      <td>пенсионер</td>\n      <td>0</td>\n      <td>290547.235997</td>\n      <td>операции с коммерческой недвижимостью</td>\n    </tr>\n    <tr>\n      <th>25</th>\n      <td>0</td>\n      <td>363548.489348</td>\n      <td>67</td>\n      <td>среднее</td>\n      <td>1</td>\n      <td>женат / замужем</td>\n      <td>0</td>\n      <td>M</td>\n      <td>пенсионер</td>\n      <td>0</td>\n      <td>55112.757732</td>\n      <td>покупка недвижимости</td>\n    </tr>\n    <tr>\n      <th>26</th>\n      <td>0</td>\n      <td>NaN</td>\n      <td>41</td>\n      <td>среднее</td>\n      <td>1</td>\n      <td>женат / замужем</td>\n      <td>0</td>\n      <td>M</td>\n      <td>госслужащий</td>\n      <td>0</td>\n      <td>NaN</td>\n      <td>образование</td>\n    </tr>\n    <tr>\n      <th>27</th>\n      <td>0</td>\n      <td>-529.191635</td>\n      <td>28</td>\n      <td>высшее</td>\n      <td>0</td>\n      <td>женат / замужем</td>\n      <td>0</td>\n      <td>M</td>\n      <td>сотрудник</td>\n      <td>0</td>\n      <td>308848.983691</td>\n      <td>строительство собственной недвижимости</td>\n    </tr>\n    <tr>\n      <th>28</th>\n      <td>1</td>\n      <td>-717.274324</td>\n      <td>26</td>\n      <td>высшее</td>\n      <td>0</td>\n      <td>женат / замужем</td>\n      <td>0</td>\n      <td>F</td>\n      <td>сотрудник</td>\n      <td>0</td>\n      <td>187863.237306</td>\n      <td>строительство собственной недвижимости</td>\n    </tr>\n    <tr>\n      <th>29</th>\n      <td>0</td>\n      <td>NaN</td>\n      <td>63</td>\n      <td>среднее</td>\n      <td>1</td>\n      <td>Не женат / не замужем</td>\n      <td>4</td>\n      <td>F</td>\n      <td>пенсионер</td>\n      <td>0</td>\n      <td>NaN</td>\n      <td>строительство жилой недвижимости</td>\n    </tr>\n  </tbody>\n</table>\n</div>"
     },
     "execution_count": 74,
     "metadata": {},
     "output_type": "execute_result"
    }
   ],
   "source": [
    "data.head(30)"
   ],
   "metadata": {
    "collapsed": false,
    "pycharm": {
     "name": "#%%\n"
    }
   }
  },
  {
   "cell_type": "code",
   "execution_count": 75,
   "outputs": [
    {
     "data": {
      "text/plain": "           children  days_employed     dob_years  education_id  \\\ncount  21525.000000   19351.000000  21525.000000  21525.000000   \nmean       0.538908   63046.497661     43.293380      0.817236   \nstd        1.381587  140827.311974     12.574584      0.548138   \nmin       -1.000000  -18388.949901      0.000000      0.000000   \n25%        0.000000   -2747.423625     33.000000      1.000000   \n50%        0.000000   -1203.369529     42.000000      1.000000   \n75%        1.000000    -291.095954     53.000000      1.000000   \nmax       20.000000  401755.400475     75.000000      4.000000   \n\n       family_status_id          debt  total_income  \ncount      21525.000000  21525.000000  1.935100e+04  \nmean           0.972544      0.080883  1.674223e+05  \nstd            1.420324      0.272661  1.029716e+05  \nmin            0.000000      0.000000  2.066726e+04  \n25%            0.000000      0.000000  1.030532e+05  \n50%            0.000000      0.000000  1.450179e+05  \n75%            1.000000      0.000000  2.034351e+05  \nmax            4.000000      1.000000  2.265604e+06  ",
      "text/html": "<div>\n<style scoped>\n    .dataframe tbody tr th:only-of-type {\n        vertical-align: middle;\n    }\n\n    .dataframe tbody tr th {\n        vertical-align: top;\n    }\n\n    .dataframe thead th {\n        text-align: right;\n    }\n</style>\n<table border=\"1\" class=\"dataframe\">\n  <thead>\n    <tr style=\"text-align: right;\">\n      <th></th>\n      <th>children</th>\n      <th>days_employed</th>\n      <th>dob_years</th>\n      <th>education_id</th>\n      <th>family_status_id</th>\n      <th>debt</th>\n      <th>total_income</th>\n    </tr>\n  </thead>\n  <tbody>\n    <tr>\n      <th>count</th>\n      <td>21525.000000</td>\n      <td>19351.000000</td>\n      <td>21525.000000</td>\n      <td>21525.000000</td>\n      <td>21525.000000</td>\n      <td>21525.000000</td>\n      <td>1.935100e+04</td>\n    </tr>\n    <tr>\n      <th>mean</th>\n      <td>0.538908</td>\n      <td>63046.497661</td>\n      <td>43.293380</td>\n      <td>0.817236</td>\n      <td>0.972544</td>\n      <td>0.080883</td>\n      <td>1.674223e+05</td>\n    </tr>\n    <tr>\n      <th>std</th>\n      <td>1.381587</td>\n      <td>140827.311974</td>\n      <td>12.574584</td>\n      <td>0.548138</td>\n      <td>1.420324</td>\n      <td>0.272661</td>\n      <td>1.029716e+05</td>\n    </tr>\n    <tr>\n      <th>min</th>\n      <td>-1.000000</td>\n      <td>-18388.949901</td>\n      <td>0.000000</td>\n      <td>0.000000</td>\n      <td>0.000000</td>\n      <td>0.000000</td>\n      <td>2.066726e+04</td>\n    </tr>\n    <tr>\n      <th>25%</th>\n      <td>0.000000</td>\n      <td>-2747.423625</td>\n      <td>33.000000</td>\n      <td>1.000000</td>\n      <td>0.000000</td>\n      <td>0.000000</td>\n      <td>1.030532e+05</td>\n    </tr>\n    <tr>\n      <th>50%</th>\n      <td>0.000000</td>\n      <td>-1203.369529</td>\n      <td>42.000000</td>\n      <td>1.000000</td>\n      <td>0.000000</td>\n      <td>0.000000</td>\n      <td>1.450179e+05</td>\n    </tr>\n    <tr>\n      <th>75%</th>\n      <td>1.000000</td>\n      <td>-291.095954</td>\n      <td>53.000000</td>\n      <td>1.000000</td>\n      <td>1.000000</td>\n      <td>0.000000</td>\n      <td>2.034351e+05</td>\n    </tr>\n    <tr>\n      <th>max</th>\n      <td>20.000000</td>\n      <td>401755.400475</td>\n      <td>75.000000</td>\n      <td>4.000000</td>\n      <td>4.000000</td>\n      <td>1.000000</td>\n      <td>2.265604e+06</td>\n    </tr>\n  </tbody>\n</table>\n</div>"
     },
     "execution_count": 75,
     "metadata": {},
     "output_type": "execute_result"
    }
   ],
   "source": [
    "data.describe()"
   ],
   "metadata": {
    "collapsed": false,
    "pycharm": {
     "name": "#%%\n"
    }
   }
  },
  {
   "cell_type": "markdown",
   "source": [
    "**Из полученных данных можно сделать следующие выводы:**\n",
    "\n",
    "1. У столбцов children, dob_years, education_id, family_status_id, debt максимальные значения никогда не превысят int64, так что можем смело конвертировать их в int8 сэкономив память.\n",
    "2. В столбце children минимальное значение равно -1, что явно говорит о наличии недостоверных/ошибочных данных в данном столбце.\n",
    "3. Столбец days_employed выглядит довольно странно, очень много отрицательных и слишком больших значений.\n",
    "4. В столбце education необходимо привести данные к нижнему регистру для дальнейшего удобства работы с ними\n",
    "\n",
    "## Шаг2: Предобработка данных\n",
    "\n",
    "### Преобразование типов данных\n",
    "\n",
    "Для начала преобразуем типы данных для экономии памяти.\n",
    "Для наглядности создадим датафрейм, содержащий информацию об исходном датасете и датасете с преобразованными типами данных."
   ],
   "metadata": {
    "collapsed": false
   }
  },
  {
   "cell_type": "code",
   "execution_count": 76,
   "outputs": [
    {
     "data": {
      "text/plain": "                     Index  children  days_employed  dob_years  education  \\\nbefore_optimization  128.0  172200.0       172200.0   172200.0   172200.0   \nafter_optimization   128.0   21525.0        86100.0    21525.0   172200.0   \ncompressed_bytes       0.0  150675.0        86100.0   150675.0        0.0   \n%_compress             0.0      87.5           50.0       87.5        0.0   \n\n                     education_id  family_status  family_status_id    gender  \\\nbefore_optimization      172200.0       172200.0          172200.0  172200.0   \nafter_optimization        21525.0       172200.0           21525.0  172200.0   \ncompressed_bytes         150675.0            0.0          150675.0       0.0   \n%_compress                   87.5            0.0              87.5       0.0   \n\n                     income_type      debt  total_income   purpose  \nbefore_optimization     172200.0  172200.0      172200.0  172200.0  \nafter_optimization      172200.0   21525.0       86100.0  172200.0  \ncompressed_bytes             0.0  150675.0       86100.0       0.0  \n%_compress                   0.0      87.5          50.0       0.0  ",
      "text/html": "<div>\n<style scoped>\n    .dataframe tbody tr th:only-of-type {\n        vertical-align: middle;\n    }\n\n    .dataframe tbody tr th {\n        vertical-align: top;\n    }\n\n    .dataframe thead th {\n        text-align: right;\n    }\n</style>\n<table border=\"1\" class=\"dataframe\">\n  <thead>\n    <tr style=\"text-align: right;\">\n      <th></th>\n      <th>Index</th>\n      <th>children</th>\n      <th>days_employed</th>\n      <th>dob_years</th>\n      <th>education</th>\n      <th>education_id</th>\n      <th>family_status</th>\n      <th>family_status_id</th>\n      <th>gender</th>\n      <th>income_type</th>\n      <th>debt</th>\n      <th>total_income</th>\n      <th>purpose</th>\n    </tr>\n  </thead>\n  <tbody>\n    <tr>\n      <th>before_optimization</th>\n      <td>128.0</td>\n      <td>172200.0</td>\n      <td>172200.0</td>\n      <td>172200.0</td>\n      <td>172200.0</td>\n      <td>172200.0</td>\n      <td>172200.0</td>\n      <td>172200.0</td>\n      <td>172200.0</td>\n      <td>172200.0</td>\n      <td>172200.0</td>\n      <td>172200.0</td>\n      <td>172200.0</td>\n    </tr>\n    <tr>\n      <th>after_optimization</th>\n      <td>128.0</td>\n      <td>21525.0</td>\n      <td>86100.0</td>\n      <td>21525.0</td>\n      <td>172200.0</td>\n      <td>21525.0</td>\n      <td>172200.0</td>\n      <td>21525.0</td>\n      <td>172200.0</td>\n      <td>172200.0</td>\n      <td>21525.0</td>\n      <td>86100.0</td>\n      <td>172200.0</td>\n    </tr>\n    <tr>\n      <th>compressed_bytes</th>\n      <td>0.0</td>\n      <td>150675.0</td>\n      <td>86100.0</td>\n      <td>150675.0</td>\n      <td>0.0</td>\n      <td>150675.0</td>\n      <td>0.0</td>\n      <td>150675.0</td>\n      <td>0.0</td>\n      <td>0.0</td>\n      <td>150675.0</td>\n      <td>86100.0</td>\n      <td>0.0</td>\n    </tr>\n    <tr>\n      <th>%_compress</th>\n      <td>0.0</td>\n      <td>87.5</td>\n      <td>50.0</td>\n      <td>87.5</td>\n      <td>0.0</td>\n      <td>87.5</td>\n      <td>0.0</td>\n      <td>87.5</td>\n      <td>0.0</td>\n      <td>0.0</td>\n      <td>87.5</td>\n      <td>50.0</td>\n      <td>0.0</td>\n    </tr>\n  </tbody>\n</table>\n</div>"
     },
     "execution_count": 76,
     "metadata": {},
     "output_type": "execute_result"
    }
   ],
   "source": [
    "data_compressed = data.astype({'children': 'int8', 'days_employed': 'float32', 'dob_years': 'int8', 'education_id': 'int8', 'family_status_id': 'int8', 'debt': 'int8', 'total_income': 'float32'})\n",
    "pd.DataFrame(data=[\n",
    "    data.memory_usage(),\n",
    "    data_compressed.memory_usage(),\n",
    "    data.memory_usage() - data_compressed.memory_usage(),\n",
    "    100 / (data.memory_usage() / (data.memory_usage() - data_compressed.memory_usage()))\n",
    "    ]\n",
    ").rename({0: 'before_optimization', 1: 'after_optimization', 2: 'compressed_bytes', 3: '%_compress'})"
   ],
   "metadata": {
    "collapsed": false,
    "pycharm": {
     "name": "#%%\n"
    }
   }
  },
  {
   "cell_type": "markdown",
   "source": [
    "Простым преобразованием типов данных удалось уменьшить потребление памяти от 50% до 87.5%."
   ],
   "metadata": {
    "collapsed": false
   }
  },
  {
   "cell_type": "code",
   "execution_count": 77,
   "outputs": [
    {
     "name": "stdout",
     "output_type": "stream",
     "text": [
      "<class 'pandas.core.frame.DataFrame'>\n",
      "RangeIndex: 21525 entries, 0 to 21524\n",
      "Data columns (total 12 columns):\n",
      " #   Column            Non-Null Count  Dtype  \n",
      "---  ------            --------------  -----  \n",
      " 0   children          21525 non-null  int8   \n",
      " 1   days_employed     19351 non-null  float32\n",
      " 2   dob_years         21525 non-null  int8   \n",
      " 3   education         21525 non-null  object \n",
      " 4   education_id      21525 non-null  int8   \n",
      " 5   family_status     21525 non-null  object \n",
      " 6   family_status_id  21525 non-null  int8   \n",
      " 7   gender            21525 non-null  object \n",
      " 8   income_type       21525 non-null  object \n",
      " 9   debt              21525 non-null  int8   \n",
      " 10  total_income      19351 non-null  float32\n",
      " 11  purpose           21525 non-null  object \n",
      "dtypes: float32(2), int8(5), object(5)\n",
      "memory usage: 1.1+ MB\n"
     ]
    }
   ],
   "source": [
    "data_compressed.info()"
   ],
   "metadata": {
    "collapsed": false,
    "pycharm": {
     "name": "#%%\n"
    }
   }
  },
  {
   "cell_type": "markdown",
   "source": [
    "Теперь датасет использует 1.1+ MB памяти вместо 2+ MB.\n",
    "Далее будем использовать \"сжатый\" датасет."
   ],
   "metadata": {
    "collapsed": false
   }
  },
  {
   "cell_type": "code",
   "execution_count": 78,
   "outputs": [],
   "source": [
    "data = data_compressed"
   ],
   "metadata": {
    "collapsed": false,
    "pycharm": {
     "name": "#%%\n"
    }
   }
  },
  {
   "cell_type": "markdown",
   "source": [],
   "metadata": {
    "collapsed": false
   }
  },
  {
   "cell_type": "code",
   "execution_count": 79,
   "outputs": [
    {
     "data": {
      "text/plain": "среднее                15233\nвысшее                  5260\nнеоконченное высшее      744\nначальное                282\nученая степень             6\nName: education, dtype: int64"
     },
     "execution_count": 79,
     "metadata": {},
     "output_type": "execute_result"
    }
   ],
   "source": [
    "data['education'] = data['education'].apply(lambda x: x.lower())\n",
    "# проверяем что код отработал корректно\n",
    "data['education'].value_counts()"
   ],
   "metadata": {
    "collapsed": false,
    "pycharm": {
     "name": "#%%\n"
    }
   }
  },
  {
   "cell_type": "markdown",
   "source": [
    "Далее лемматизируем данные из колонки purpose для дальнейшего удобства работы с ними."
   ],
   "metadata": {
    "collapsed": false
   }
  },
  {
   "cell_type": "code",
   "execution_count": 84,
   "outputs": [
    {
     "ename": "KeyboardInterrupt",
     "evalue": "",
     "output_type": "error",
     "traceback": [
      "\u001B[1;31m---------------------------------------------------------------------------\u001B[0m",
      "\u001B[1;31mKeyboardInterrupt\u001B[0m                         Traceback (most recent call last)",
      "\u001B[1;32m~\\AppData\\Local\\Temp/ipykernel_4012/834072897.py\u001B[0m in \u001B[0;36m<module>\u001B[1;34m\u001B[0m\n\u001B[1;32m----> 1\u001B[1;33m \u001B[0mdata\u001B[0m\u001B[1;33m[\u001B[0m\u001B[1;34m'purpose_lm'\u001B[0m\u001B[1;33m]\u001B[0m \u001B[1;33m=\u001B[0m \u001B[0mdata\u001B[0m\u001B[1;33m[\u001B[0m\u001B[1;34m'purpose'\u001B[0m\u001B[1;33m]\u001B[0m\u001B[1;33m.\u001B[0m\u001B[0mapply\u001B[0m\u001B[1;33m(\u001B[0m\u001B[1;32mlambda\u001B[0m \u001B[0mx\u001B[0m\u001B[1;33m:\u001B[0m \u001B[0mmystem\u001B[0m\u001B[1;33m(\u001B[0m\u001B[0mx\u001B[0m\u001B[1;33m)\u001B[0m\u001B[1;33m)\u001B[0m\u001B[1;33m\u001B[0m\u001B[1;33m\u001B[0m\u001B[0m\n\u001B[0m",
      "\u001B[1;32md:\\pyprojects\\practicum_ds\\venv\\lib\\site-packages\\pandas\\core\\series.py\u001B[0m in \u001B[0;36mapply\u001B[1;34m(self, func, convert_dtype, args, **kwargs)\u001B[0m\n\u001B[0;32m   4355\u001B[0m         \u001B[0mdtype\u001B[0m\u001B[1;33m:\u001B[0m \u001B[0mfloat64\u001B[0m\u001B[1;33m\u001B[0m\u001B[1;33m\u001B[0m\u001B[0m\n\u001B[0;32m   4356\u001B[0m         \"\"\"\n\u001B[1;32m-> 4357\u001B[1;33m         \u001B[1;32mreturn\u001B[0m \u001B[0mSeriesApply\u001B[0m\u001B[1;33m(\u001B[0m\u001B[0mself\u001B[0m\u001B[1;33m,\u001B[0m \u001B[0mfunc\u001B[0m\u001B[1;33m,\u001B[0m \u001B[0mconvert_dtype\u001B[0m\u001B[1;33m,\u001B[0m \u001B[0margs\u001B[0m\u001B[1;33m,\u001B[0m \u001B[0mkwargs\u001B[0m\u001B[1;33m)\u001B[0m\u001B[1;33m.\u001B[0m\u001B[0mapply\u001B[0m\u001B[1;33m(\u001B[0m\u001B[1;33m)\u001B[0m\u001B[1;33m\u001B[0m\u001B[1;33m\u001B[0m\u001B[0m\n\u001B[0m\u001B[0;32m   4358\u001B[0m \u001B[1;33m\u001B[0m\u001B[0m\n\u001B[0;32m   4359\u001B[0m     def _reduce(\n",
      "\u001B[1;32md:\\pyprojects\\practicum_ds\\venv\\lib\\site-packages\\pandas\\core\\apply.py\u001B[0m in \u001B[0;36mapply\u001B[1;34m(self)\u001B[0m\n\u001B[0;32m   1041\u001B[0m             \u001B[1;32mreturn\u001B[0m \u001B[0mself\u001B[0m\u001B[1;33m.\u001B[0m\u001B[0mapply_str\u001B[0m\u001B[1;33m(\u001B[0m\u001B[1;33m)\u001B[0m\u001B[1;33m\u001B[0m\u001B[1;33m\u001B[0m\u001B[0m\n\u001B[0;32m   1042\u001B[0m \u001B[1;33m\u001B[0m\u001B[0m\n\u001B[1;32m-> 1043\u001B[1;33m         \u001B[1;32mreturn\u001B[0m \u001B[0mself\u001B[0m\u001B[1;33m.\u001B[0m\u001B[0mapply_standard\u001B[0m\u001B[1;33m(\u001B[0m\u001B[1;33m)\u001B[0m\u001B[1;33m\u001B[0m\u001B[1;33m\u001B[0m\u001B[0m\n\u001B[0m\u001B[0;32m   1044\u001B[0m \u001B[1;33m\u001B[0m\u001B[0m\n\u001B[0;32m   1045\u001B[0m     \u001B[1;32mdef\u001B[0m \u001B[0magg\u001B[0m\u001B[1;33m(\u001B[0m\u001B[0mself\u001B[0m\u001B[1;33m)\u001B[0m\u001B[1;33m:\u001B[0m\u001B[1;33m\u001B[0m\u001B[1;33m\u001B[0m\u001B[0m\n",
      "\u001B[1;32md:\\pyprojects\\practicum_ds\\venv\\lib\\site-packages\\pandas\\core\\apply.py\u001B[0m in \u001B[0;36mapply_standard\u001B[1;34m(self)\u001B[0m\n\u001B[0;32m   1096\u001B[0m                 \u001B[1;31m# List[Union[Callable[..., Any], str]]]]]\"; expected\u001B[0m\u001B[1;33m\u001B[0m\u001B[1;33m\u001B[0m\u001B[1;33m\u001B[0m\u001B[0m\n\u001B[0;32m   1097\u001B[0m                 \u001B[1;31m# \"Callable[[Any], Any]\"\u001B[0m\u001B[1;33m\u001B[0m\u001B[1;33m\u001B[0m\u001B[1;33m\u001B[0m\u001B[0m\n\u001B[1;32m-> 1098\u001B[1;33m                 mapped = lib.map_infer(\n\u001B[0m\u001B[0;32m   1099\u001B[0m                     \u001B[0mvalues\u001B[0m\u001B[1;33m,\u001B[0m\u001B[1;33m\u001B[0m\u001B[1;33m\u001B[0m\u001B[0m\n\u001B[0;32m   1100\u001B[0m                     \u001B[0mf\u001B[0m\u001B[1;33m,\u001B[0m  \u001B[1;31m# type: ignore[arg-type]\u001B[0m\u001B[1;33m\u001B[0m\u001B[1;33m\u001B[0m\u001B[0m\n",
      "\u001B[1;32md:\\pyprojects\\practicum_ds\\venv\\lib\\site-packages\\pandas\\_libs\\lib.pyx\u001B[0m in \u001B[0;36mpandas._libs.lib.map_infer\u001B[1;34m()\u001B[0m\n",
      "\u001B[1;32m~\\AppData\\Local\\Temp/ipykernel_4012/834072897.py\u001B[0m in \u001B[0;36m<lambda>\u001B[1;34m(x)\u001B[0m\n\u001B[1;32m----> 1\u001B[1;33m \u001B[0mdata\u001B[0m\u001B[1;33m[\u001B[0m\u001B[1;34m'purpose_lm'\u001B[0m\u001B[1;33m]\u001B[0m \u001B[1;33m=\u001B[0m \u001B[0mdata\u001B[0m\u001B[1;33m[\u001B[0m\u001B[1;34m'purpose'\u001B[0m\u001B[1;33m]\u001B[0m\u001B[1;33m.\u001B[0m\u001B[0mapply\u001B[0m\u001B[1;33m(\u001B[0m\u001B[1;32mlambda\u001B[0m \u001B[0mx\u001B[0m\u001B[1;33m:\u001B[0m \u001B[0mmystem\u001B[0m\u001B[1;33m(\u001B[0m\u001B[0mx\u001B[0m\u001B[1;33m)\u001B[0m\u001B[1;33m)\u001B[0m\u001B[1;33m\u001B[0m\u001B[1;33m\u001B[0m\u001B[0m\n\u001B[0m",
      "\u001B[1;32md:\\pyprojects\\practicum_ds\\venv\\lib\\site-packages\\pymystem3\\mystem.py\u001B[0m in \u001B[0;36mlemmatize\u001B[1;34m(self, text)\u001B[0m\n\u001B[0;32m    263\u001B[0m         \u001B[0mneed_encode\u001B[0m \u001B[1;33m=\u001B[0m \u001B[1;33m(\u001B[0m\u001B[0msys\u001B[0m\u001B[1;33m.\u001B[0m\u001B[0mversion_info\u001B[0m\u001B[1;33m[\u001B[0m\u001B[1;36m0\u001B[0m\u001B[1;33m]\u001B[0m \u001B[1;33m<\u001B[0m \u001B[1;36m3\u001B[0m \u001B[1;32mand\u001B[0m \u001B[0misinstance\u001B[0m\u001B[1;33m(\u001B[0m\u001B[0mtext\u001B[0m\u001B[1;33m,\u001B[0m \u001B[0mstr\u001B[0m\u001B[1;33m)\u001B[0m\u001B[1;33m)\u001B[0m\u001B[1;33m\u001B[0m\u001B[1;33m\u001B[0m\u001B[0m\n\u001B[0;32m    264\u001B[0m \u001B[1;33m\u001B[0m\u001B[0m\n\u001B[1;32m--> 265\u001B[1;33m         \u001B[0minfos\u001B[0m \u001B[1;33m=\u001B[0m \u001B[0mself\u001B[0m\u001B[1;33m.\u001B[0m\u001B[0manalyze\u001B[0m\u001B[1;33m(\u001B[0m\u001B[0mtext\u001B[0m\u001B[1;33m)\u001B[0m\u001B[1;33m\u001B[0m\u001B[1;33m\u001B[0m\u001B[0m\n\u001B[0m\u001B[0;32m    266\u001B[0m         \u001B[0mlemmas\u001B[0m \u001B[1;33m=\u001B[0m \u001B[0mlist\u001B[0m\u001B[1;33m(\u001B[0m\u001B[0mfilter\u001B[0m\u001B[1;33m(\u001B[0m\u001B[1;32mNone\u001B[0m\u001B[1;33m,\u001B[0m \u001B[0mmap\u001B[0m\u001B[1;33m(\u001B[0m\u001B[0mself\u001B[0m\u001B[1;33m.\u001B[0m\u001B[0m_get_lemma\u001B[0m\u001B[1;33m,\u001B[0m \u001B[0minfos\u001B[0m\u001B[1;33m)\u001B[0m\u001B[1;33m)\u001B[0m\u001B[1;33m)\u001B[0m\u001B[1;33m\u001B[0m\u001B[1;33m\u001B[0m\u001B[0m\n\u001B[0;32m    267\u001B[0m \u001B[1;33m\u001B[0m\u001B[0m\n",
      "\u001B[1;32md:\\pyprojects\\practicum_ds\\venv\\lib\\site-packages\\pymystem3\\mystem.py\u001B[0m in \u001B[0;36manalyze\u001B[1;34m(self, text)\u001B[0m\n\u001B[0;32m    248\u001B[0m         \u001B[0mresult\u001B[0m \u001B[1;33m=\u001B[0m \u001B[1;33m[\u001B[0m\u001B[1;33m]\u001B[0m\u001B[1;33m\u001B[0m\u001B[1;33m\u001B[0m\u001B[0m\n\u001B[0;32m    249\u001B[0m         \u001B[1;32mfor\u001B[0m \u001B[0mline\u001B[0m \u001B[1;32min\u001B[0m \u001B[0mtext\u001B[0m\u001B[1;33m.\u001B[0m\u001B[0msplitlines\u001B[0m\u001B[1;33m(\u001B[0m\u001B[1;33m)\u001B[0m\u001B[1;33m:\u001B[0m\u001B[1;33m\u001B[0m\u001B[1;33m\u001B[0m\u001B[0m\n\u001B[1;32m--> 250\u001B[1;33m             \u001B[0mresult\u001B[0m\u001B[1;33m.\u001B[0m\u001B[0mextend\u001B[0m\u001B[1;33m(\u001B[0m\u001B[0mself\u001B[0m\u001B[1;33m.\u001B[0m\u001B[0m_analyze_impl\u001B[0m\u001B[1;33m(\u001B[0m\u001B[0mline\u001B[0m\u001B[1;33m)\u001B[0m\u001B[1;33m)\u001B[0m\u001B[1;33m\u001B[0m\u001B[1;33m\u001B[0m\u001B[0m\n\u001B[0m\u001B[0;32m    251\u001B[0m         \u001B[1;32mreturn\u001B[0m \u001B[0mresult\u001B[0m\u001B[1;33m\u001B[0m\u001B[1;33m\u001B[0m\u001B[0m\n\u001B[0;32m    252\u001B[0m \u001B[1;33m\u001B[0m\u001B[0m\n",
      "\u001B[1;32md:\\pyprojects\\practicum_ds\\venv\\lib\\site-packages\\pymystem3\\mystem.py\u001B[0m in \u001B[0;36m_analyze_impl\u001B[1;34m(self, text)\u001B[0m\n\u001B[0;32m    311\u001B[0m             \u001B[0mself\u001B[0m\u001B[1;33m.\u001B[0m\u001B[0m_procin\u001B[0m\u001B[1;33m.\u001B[0m\u001B[0mwrite\u001B[0m\u001B[1;33m(\u001B[0m\u001B[0m_NL\u001B[0m\u001B[1;33m)\u001B[0m\u001B[1;33m\u001B[0m\u001B[1;33m\u001B[0m\u001B[0m\n\u001B[0;32m    312\u001B[0m \u001B[1;33m\u001B[0m\u001B[0m\n\u001B[1;32m--> 313\u001B[1;33m             \u001B[0mout\u001B[0m\u001B[1;33m,\u001B[0m \u001B[0m_\u001B[0m \u001B[1;33m=\u001B[0m \u001B[0mself\u001B[0m\u001B[1;33m.\u001B[0m\u001B[0m_proc\u001B[0m\u001B[1;33m.\u001B[0m\u001B[0mcommunicate\u001B[0m\u001B[1;33m(\u001B[0m\u001B[1;33m)\u001B[0m\u001B[1;33m\u001B[0m\u001B[1;33m\u001B[0m\u001B[0m\n\u001B[0m\u001B[0;32m    314\u001B[0m             \u001B[0mself\u001B[0m\u001B[1;33m.\u001B[0m\u001B[0m_proc\u001B[0m \u001B[1;33m=\u001B[0m \u001B[1;32mNone\u001B[0m\u001B[1;33m\u001B[0m\u001B[1;33m\u001B[0m\u001B[0m\n\u001B[0;32m    315\u001B[0m             \u001B[1;32mtry\u001B[0m\u001B[1;33m:\u001B[0m\u001B[1;33m\u001B[0m\u001B[1;33m\u001B[0m\u001B[0m\n",
      "\u001B[1;32m~\\AppData\\Local\\Programs\\Python\\Python39\\lib\\subprocess.py\u001B[0m in \u001B[0;36mcommunicate\u001B[1;34m(self, input, timeout)\u001B[0m\n\u001B[0;32m   1132\u001B[0m \u001B[1;33m\u001B[0m\u001B[0m\n\u001B[0;32m   1133\u001B[0m             \u001B[1;32mtry\u001B[0m\u001B[1;33m:\u001B[0m\u001B[1;33m\u001B[0m\u001B[1;33m\u001B[0m\u001B[0m\n\u001B[1;32m-> 1134\u001B[1;33m                 \u001B[0mstdout\u001B[0m\u001B[1;33m,\u001B[0m \u001B[0mstderr\u001B[0m \u001B[1;33m=\u001B[0m \u001B[0mself\u001B[0m\u001B[1;33m.\u001B[0m\u001B[0m_communicate\u001B[0m\u001B[1;33m(\u001B[0m\u001B[0minput\u001B[0m\u001B[1;33m,\u001B[0m \u001B[0mendtime\u001B[0m\u001B[1;33m,\u001B[0m \u001B[0mtimeout\u001B[0m\u001B[1;33m)\u001B[0m\u001B[1;33m\u001B[0m\u001B[1;33m\u001B[0m\u001B[0m\n\u001B[0m\u001B[0;32m   1135\u001B[0m             \u001B[1;32mexcept\u001B[0m \u001B[0mKeyboardInterrupt\u001B[0m\u001B[1;33m:\u001B[0m\u001B[1;33m\u001B[0m\u001B[1;33m\u001B[0m\u001B[0m\n\u001B[0;32m   1136\u001B[0m                 \u001B[1;31m# https://bugs.python.org/issue25942\u001B[0m\u001B[1;33m\u001B[0m\u001B[1;33m\u001B[0m\u001B[1;33m\u001B[0m\u001B[0m\n",
      "\u001B[1;32m~\\AppData\\Local\\Programs\\Python\\Python39\\lib\\subprocess.py\u001B[0m in \u001B[0;36m_communicate\u001B[1;34m(self, input, endtime, orig_timeout)\u001B[0m\n\u001B[0;32m   1506\u001B[0m             \u001B[1;31m# calls communicate again.\u001B[0m\u001B[1;33m\u001B[0m\u001B[1;33m\u001B[0m\u001B[1;33m\u001B[0m\u001B[0m\n\u001B[0;32m   1507\u001B[0m             \u001B[1;32mif\u001B[0m \u001B[0mself\u001B[0m\u001B[1;33m.\u001B[0m\u001B[0mstdout\u001B[0m \u001B[1;32mis\u001B[0m \u001B[1;32mnot\u001B[0m \u001B[1;32mNone\u001B[0m\u001B[1;33m:\u001B[0m\u001B[1;33m\u001B[0m\u001B[1;33m\u001B[0m\u001B[0m\n\u001B[1;32m-> 1508\u001B[1;33m                 \u001B[0mself\u001B[0m\u001B[1;33m.\u001B[0m\u001B[0mstdout_thread\u001B[0m\u001B[1;33m.\u001B[0m\u001B[0mjoin\u001B[0m\u001B[1;33m(\u001B[0m\u001B[0mself\u001B[0m\u001B[1;33m.\u001B[0m\u001B[0m_remaining_time\u001B[0m\u001B[1;33m(\u001B[0m\u001B[0mendtime\u001B[0m\u001B[1;33m)\u001B[0m\u001B[1;33m)\u001B[0m\u001B[1;33m\u001B[0m\u001B[1;33m\u001B[0m\u001B[0m\n\u001B[0m\u001B[0;32m   1509\u001B[0m                 \u001B[1;32mif\u001B[0m \u001B[0mself\u001B[0m\u001B[1;33m.\u001B[0m\u001B[0mstdout_thread\u001B[0m\u001B[1;33m.\u001B[0m\u001B[0mis_alive\u001B[0m\u001B[1;33m(\u001B[0m\u001B[1;33m)\u001B[0m\u001B[1;33m:\u001B[0m\u001B[1;33m\u001B[0m\u001B[1;33m\u001B[0m\u001B[0m\n\u001B[0;32m   1510\u001B[0m                     \u001B[1;32mraise\u001B[0m \u001B[0mTimeoutExpired\u001B[0m\u001B[1;33m(\u001B[0m\u001B[0mself\u001B[0m\u001B[1;33m.\u001B[0m\u001B[0margs\u001B[0m\u001B[1;33m,\u001B[0m \u001B[0morig_timeout\u001B[0m\u001B[1;33m)\u001B[0m\u001B[1;33m\u001B[0m\u001B[1;33m\u001B[0m\u001B[0m\n",
      "\u001B[1;32m~\\AppData\\Local\\Programs\\Python\\Python39\\lib\\threading.py\u001B[0m in \u001B[0;36mjoin\u001B[1;34m(self, timeout)\u001B[0m\n\u001B[0;32m   1031\u001B[0m \u001B[1;33m\u001B[0m\u001B[0m\n\u001B[0;32m   1032\u001B[0m         \u001B[1;32mif\u001B[0m \u001B[0mtimeout\u001B[0m \u001B[1;32mis\u001B[0m \u001B[1;32mNone\u001B[0m\u001B[1;33m:\u001B[0m\u001B[1;33m\u001B[0m\u001B[1;33m\u001B[0m\u001B[0m\n\u001B[1;32m-> 1033\u001B[1;33m             \u001B[0mself\u001B[0m\u001B[1;33m.\u001B[0m\u001B[0m_wait_for_tstate_lock\u001B[0m\u001B[1;33m(\u001B[0m\u001B[1;33m)\u001B[0m\u001B[1;33m\u001B[0m\u001B[1;33m\u001B[0m\u001B[0m\n\u001B[0m\u001B[0;32m   1034\u001B[0m         \u001B[1;32melse\u001B[0m\u001B[1;33m:\u001B[0m\u001B[1;33m\u001B[0m\u001B[1;33m\u001B[0m\u001B[0m\n\u001B[0;32m   1035\u001B[0m             \u001B[1;31m# the behavior of a negative timeout isn't documented, but\u001B[0m\u001B[1;33m\u001B[0m\u001B[1;33m\u001B[0m\u001B[1;33m\u001B[0m\u001B[0m\n",
      "\u001B[1;32m~\\AppData\\Local\\Programs\\Python\\Python39\\lib\\threading.py\u001B[0m in \u001B[0;36m_wait_for_tstate_lock\u001B[1;34m(self, block, timeout)\u001B[0m\n\u001B[0;32m   1047\u001B[0m         \u001B[1;32mif\u001B[0m \u001B[0mlock\u001B[0m \u001B[1;32mis\u001B[0m \u001B[1;32mNone\u001B[0m\u001B[1;33m:\u001B[0m  \u001B[1;31m# already determined that the C code is done\u001B[0m\u001B[1;33m\u001B[0m\u001B[1;33m\u001B[0m\u001B[0m\n\u001B[0;32m   1048\u001B[0m             \u001B[1;32massert\u001B[0m \u001B[0mself\u001B[0m\u001B[1;33m.\u001B[0m\u001B[0m_is_stopped\u001B[0m\u001B[1;33m\u001B[0m\u001B[1;33m\u001B[0m\u001B[0m\n\u001B[1;32m-> 1049\u001B[1;33m         \u001B[1;32melif\u001B[0m \u001B[0mlock\u001B[0m\u001B[1;33m.\u001B[0m\u001B[0macquire\u001B[0m\u001B[1;33m(\u001B[0m\u001B[0mblock\u001B[0m\u001B[1;33m,\u001B[0m \u001B[0mtimeout\u001B[0m\u001B[1;33m)\u001B[0m\u001B[1;33m:\u001B[0m\u001B[1;33m\u001B[0m\u001B[1;33m\u001B[0m\u001B[0m\n\u001B[0m\u001B[0;32m   1050\u001B[0m             \u001B[0mlock\u001B[0m\u001B[1;33m.\u001B[0m\u001B[0mrelease\u001B[0m\u001B[1;33m(\u001B[0m\u001B[1;33m)\u001B[0m\u001B[1;33m\u001B[0m\u001B[1;33m\u001B[0m\u001B[0m\n\u001B[0;32m   1051\u001B[0m             \u001B[0mself\u001B[0m\u001B[1;33m.\u001B[0m\u001B[0m_stop\u001B[0m\u001B[1;33m(\u001B[0m\u001B[1;33m)\u001B[0m\u001B[1;33m\u001B[0m\u001B[1;33m\u001B[0m\u001B[0m\n",
      "\u001B[1;31mKeyboardInterrupt\u001B[0m: "
     ]
    }
   ],
   "source": [
    "data['purpose_lm'] = data['purpose'].apply(lambda x: mystem(x))"
   ],
   "metadata": {
    "collapsed": false,
    "pycharm": {
     "name": "#%%\n"
    }
   }
  },
  {
   "cell_type": "code",
   "execution_count": 83,
   "outputs": [
    {
     "data": {
      "text/plain": "0                 покупка жил\n1      приобретение автомобил\n2                 покупка жил\n3    дополнительное образован\n4              сыграть свадьб\nName: purpose_lm, dtype: object"
     },
     "execution_count": 83,
     "metadata": {},
     "output_type": "execute_result"
    }
   ],
   "source": [
    "data['purpose_lm'].head()"
   ],
   "metadata": {
    "collapsed": false,
    "pycharm": {
     "name": "#%%\n"
    }
   }
  },
  {
   "cell_type": "markdown",
   "source": [
    "Ранее мы обнаружили пропуски в столбцах days_employed и total_income, давайте рассмотрим их поподробнее.\n",
    "Учитывая что количество пропусков в столбцах одинаково, можно предположить что между ними есть зависимость и в строке,\n",
    "где пропущено значение столбца days_employed, также пропущено значение столбца total_income.\n",
    "Чтобы в этом убедиться выберем все строки, где пропущенны значения в обоих столбцах. Количество строк должно быть равно 2174.\n",
    "Если будет больше, значит значения пропущены в разных строчках.\n",
    "Давайте проверим это.\n"
   ],
   "metadata": {
    "collapsed": false
   }
  },
  {
   "cell_type": "code",
   "execution_count": 143,
   "outputs": [
    {
     "data": {
      "text/plain": "2174"
     },
     "execution_count": 143,
     "metadata": {},
     "output_type": "execute_result"
    }
   ],
   "source": [
    "\n",
    "data.query('days_employed.isna() and total_income.isna()').children.count()\n"
   ],
   "metadata": {
    "collapsed": false,
    "pycharm": {
     "name": "#%%\n"
    }
   }
  },
  {
   "cell_type": "markdown",
   "source": [
    "Действительно между пропусками в столбцах days_employed и total_income есть прямая зависимость.\n",
    "Теперь необходимо узнать, к какому типу пропусков относятся наши данные.\n",
    "Для этого выберем все строки с пропущенными значениями в одном или двух столбцах и проверим встречаются ли пропуске в каком-то одном классе, или нет.\n",
    "Для наглядности создадим для этого датафрейм и выведем его на экран."
   ],
   "metadata": {
    "collapsed": false
   }
  },
  {
   "cell_type": "code",
   "execution_count": 144,
   "outputs": [
    {
     "data": {
      "text/plain": "'======================================== Column: family_status ========================================'"
     },
     "metadata": {},
     "output_type": "display_data"
    },
    {
     "data": {
      "text/plain": "                                 женат / замужем  гражданский брак  \\\nКоличество пропущенных значений            11143              3735   \n\n                                 Не женат / не замужем  в разводе  \\\nКоличество пропущенных значений                   2525       1083   \n\n                                 вдовец / вдова  \nКоличество пропущенных значений             865  ",
      "text/html": "<div>\n<style scoped>\n    .dataframe tbody tr th:only-of-type {\n        vertical-align: middle;\n    }\n\n    .dataframe tbody tr th {\n        vertical-align: top;\n    }\n\n    .dataframe thead th {\n        text-align: right;\n    }\n</style>\n<table border=\"1\" class=\"dataframe\">\n  <thead>\n    <tr style=\"text-align: right;\">\n      <th></th>\n      <th>женат / замужем</th>\n      <th>гражданский брак</th>\n      <th>Не женат / не замужем</th>\n      <th>в разводе</th>\n      <th>вдовец / вдова</th>\n    </tr>\n  </thead>\n  <tbody>\n    <tr>\n      <th>Количество пропущенных значений</th>\n      <td>11143</td>\n      <td>3735</td>\n      <td>2525</td>\n      <td>1083</td>\n      <td>865</td>\n    </tr>\n  </tbody>\n</table>\n</div>"
     },
     "metadata": {},
     "output_type": "display_data"
    },
    {
     "data": {
      "text/plain": "'======================================== Column: debt ========================================'"
     },
     "metadata": {},
     "output_type": "display_data"
    },
    {
     "data": {
      "text/plain": "                                     0     1\nКоличество пропущенных значений  17780  1571",
      "text/html": "<div>\n<style scoped>\n    .dataframe tbody tr th:only-of-type {\n        vertical-align: middle;\n    }\n\n    .dataframe tbody tr th {\n        vertical-align: top;\n    }\n\n    .dataframe thead th {\n        text-align: right;\n    }\n</style>\n<table border=\"1\" class=\"dataframe\">\n  <thead>\n    <tr style=\"text-align: right;\">\n      <th></th>\n      <th>0</th>\n      <th>1</th>\n    </tr>\n  </thead>\n  <tbody>\n    <tr>\n      <th>Количество пропущенных значений</th>\n      <td>17780</td>\n      <td>1571</td>\n    </tr>\n  </tbody>\n</table>\n</div>"
     },
     "metadata": {},
     "output_type": "display_data"
    },
    {
     "data": {
      "text/plain": "'======================================== Column: income_type ========================================'"
     },
     "metadata": {},
     "output_type": "display_data"
    },
    {
     "data": {
      "text/plain": "                                 безработный  в декрете  госслужащий  \\\nКоличество пропущенных значений          NaN        NaN       1312.0   \n\n                                 компаньон  пенсионер  предприниматель  \\\nКоличество пропущенных значений     4577.0     3443.0              1.0   \n\n                                 сотрудник  студент  \nКоличество пропущенных значений    10014.0      NaN  ",
      "text/html": "<div>\n<style scoped>\n    .dataframe tbody tr th:only-of-type {\n        vertical-align: middle;\n    }\n\n    .dataframe tbody tr th {\n        vertical-align: top;\n    }\n\n    .dataframe thead th {\n        text-align: right;\n    }\n</style>\n<table border=\"1\" class=\"dataframe\">\n  <thead>\n    <tr style=\"text-align: right;\">\n      <th></th>\n      <th>безработный</th>\n      <th>в декрете</th>\n      <th>госслужащий</th>\n      <th>компаньон</th>\n      <th>пенсионер</th>\n      <th>предприниматель</th>\n      <th>сотрудник</th>\n      <th>студент</th>\n    </tr>\n  </thead>\n  <tbody>\n    <tr>\n      <th>Количество пропущенных значений</th>\n      <td>NaN</td>\n      <td>NaN</td>\n      <td>1312.0</td>\n      <td>4577.0</td>\n      <td>3443.0</td>\n      <td>1.0</td>\n      <td>10014.0</td>\n      <td>NaN</td>\n    </tr>\n  </tbody>\n</table>\n</div>"
     },
     "metadata": {},
     "output_type": "display_data"
    },
    {
     "data": {
      "text/plain": "'======================================== Column: gender ========================================'"
     },
     "metadata": {},
     "output_type": "display_data"
    },
    {
     "data": {
      "text/plain": "                                       F       M  XNA\nКоличество пропущенных значений  12752.0  6598.0  NaN",
      "text/html": "<div>\n<style scoped>\n    .dataframe tbody tr th:only-of-type {\n        vertical-align: middle;\n    }\n\n    .dataframe tbody tr th {\n        vertical-align: top;\n    }\n\n    .dataframe thead th {\n        text-align: right;\n    }\n</style>\n<table border=\"1\" class=\"dataframe\">\n  <thead>\n    <tr style=\"text-align: right;\">\n      <th></th>\n      <th>F</th>\n      <th>M</th>\n      <th>XNA</th>\n    </tr>\n  </thead>\n  <tbody>\n    <tr>\n      <th>Количество пропущенных значений</th>\n      <td>12752.0</td>\n      <td>6598.0</td>\n      <td>NaN</td>\n    </tr>\n  </tbody>\n</table>\n</div>"
     },
     "metadata": {},
     "output_type": "display_data"
    },
    {
     "data": {
      "text/plain": "'======================================== Column: education ========================================'"
     },
     "metadata": {},
     "output_type": "display_data"
    },
    {
     "data": {
      "text/plain": "                                 высшее  начальное  неоконченное высшее  \\\nКоличество пропущенных значений  4716.0      261.0                675.0   \n\n                                 среднее  ученая степень  \nКоличество пропущенных значений  13693.0             NaN  ",
      "text/html": "<div>\n<style scoped>\n    .dataframe tbody tr th:only-of-type {\n        vertical-align: middle;\n    }\n\n    .dataframe tbody tr th {\n        vertical-align: top;\n    }\n\n    .dataframe thead th {\n        text-align: right;\n    }\n</style>\n<table border=\"1\" class=\"dataframe\">\n  <thead>\n    <tr style=\"text-align: right;\">\n      <th></th>\n      <th>высшее</th>\n      <th>начальное</th>\n      <th>неоконченное высшее</th>\n      <th>среднее</th>\n      <th>ученая степень</th>\n    </tr>\n  </thead>\n  <tbody>\n    <tr>\n      <th>Количество пропущенных значений</th>\n      <td>4716.0</td>\n      <td>261.0</td>\n      <td>675.0</td>\n      <td>13693.0</td>\n      <td>NaN</td>\n    </tr>\n  </tbody>\n</table>\n</div>"
     },
     "metadata": {},
     "output_type": "display_data"
    },
    {
     "data": {
      "text/plain": "'======================================== Column: dob_years ========================================'"
     },
     "metadata": {},
     "output_type": "display_data"
    },
    {
     "data": {
      "text/plain": "                                   0     19    20    21     22     23     24  \\\nКоличество пропущенных значений  91.0  13.0  46.0  93.0  166.0  218.0  243.0   \n\n                                    25     26     27  ...     66     67    68  \\\nКоличество пропущенных значений  334.0  373.0  457.0  ...  163.0  151.0  90.0   \n\n                                   69    70    71    72   73  74  75  \nКоличество пропущенных значений  80.0  62.0  53.0  31.0  7.0 NaN NaN  \n\n[1 rows x 58 columns]",
      "text/html": "<div>\n<style scoped>\n    .dataframe tbody tr th:only-of-type {\n        vertical-align: middle;\n    }\n\n    .dataframe tbody tr th {\n        vertical-align: top;\n    }\n\n    .dataframe thead th {\n        text-align: right;\n    }\n</style>\n<table border=\"1\" class=\"dataframe\">\n  <thead>\n    <tr style=\"text-align: right;\">\n      <th></th>\n      <th>0</th>\n      <th>19</th>\n      <th>20</th>\n      <th>21</th>\n      <th>22</th>\n      <th>23</th>\n      <th>24</th>\n      <th>25</th>\n      <th>26</th>\n      <th>27</th>\n      <th>...</th>\n      <th>66</th>\n      <th>67</th>\n      <th>68</th>\n      <th>69</th>\n      <th>70</th>\n      <th>71</th>\n      <th>72</th>\n      <th>73</th>\n      <th>74</th>\n      <th>75</th>\n    </tr>\n  </thead>\n  <tbody>\n    <tr>\n      <th>Количество пропущенных значений</th>\n      <td>91.0</td>\n      <td>13.0</td>\n      <td>46.0</td>\n      <td>93.0</td>\n      <td>166.0</td>\n      <td>218.0</td>\n      <td>243.0</td>\n      <td>334.0</td>\n      <td>373.0</td>\n      <td>457.0</td>\n      <td>...</td>\n      <td>163.0</td>\n      <td>151.0</td>\n      <td>90.0</td>\n      <td>80.0</td>\n      <td>62.0</td>\n      <td>53.0</td>\n      <td>31.0</td>\n      <td>7.0</td>\n      <td>NaN</td>\n      <td>NaN</td>\n    </tr>\n  </tbody>\n</table>\n<p>1 rows × 58 columns</p>\n</div>"
     },
     "metadata": {},
     "output_type": "display_data"
    }
   ],
   "source": [
    "# список колонок по которым будем проводить анализ\n",
    "columns = ['family_status', 'debt', 'income_type', 'gender', 'education', 'dob_years']\n",
    "# создаем датафрейм, состоящий из строк с пропущенными значениями в колонках\n",
    "empty_data = data.query('days_employed.isna() and total_income.isna()')\n",
    "\n",
    "# считаем количество пропущенных значений для каждой анализируемой колонки\n",
    "for column in columns:\n",
    "    display(f\"{'='*40} Column: {column} {'='*40}\")\n",
    "    display(\n",
    "        pd.DataFrame(\n",
    "            data=[\n",
    "                data[column].value_counts() - empty_data[column].value_counts()\n",
    "            ]\n",
    "        ).rename({column: 'Количество пропущенных значений'}))"
   ],
   "metadata": {
    "collapsed": false,
    "pycharm": {
     "name": "#%%\n"
    }
   }
  },
  {
   "cell_type": "markdown",
   "source": [
    "Из полученных данных мы можем сделать вывод, что имеем дело со случайной ошибкой т.к. есть зависимость\n",
    "между пропусками в колонках days_employed и total_income, но нет зависимости от значений собственного столбца.\n",
    "\n",
    "## Давайте заполним пропуски.\n",
    "Для начала займемся пропусками столбца total_income.\n",
    "Наиболее точно можно заполнить пропуски медианной зарплатой для датафрейма, сгруппированного по типу занятости, гендеру и образованию.\n",
    "В случае, если ежемесячный доход не зависит от гендера, его можно будет исключить из группировки и посчитать медиану только по типу занятости и образованию."
   ],
   "metadata": {
    "collapsed": false
   }
  },
  {
   "cell_type": "code",
   "execution_count": 145,
   "outputs": [
    {
     "data": {
      "text/plain": "income_type      gender  education          \nбезработный      F       высшее                 202722.515625\n                 M       среднее                 59956.992188\nв декрете        F       среднее                 53829.128906\nгосслужащий      F       высшее                 157841.437500\n                         начальное               89618.968750\n                         неоконченное высшее    136599.125000\n                         среднее                125831.812500\n                         ученая степень         111392.234375\n                 M       высшее                 214706.640625\n                         начальное              190966.656250\n                         неоконченное высшее    177320.625000\n                         среднее                169651.953125\nкомпаньон        F       высшее                 189893.468750\n                         начальное              134012.000000\n                         неоконченное высшее    170471.625000\n                         среднее                144881.781250\n                 M       высшее                 233064.875000\n                         начальное              150100.968750\n                         неоконченное высшее    191291.937500\n                         среднее                181889.031250\n                 XNA     неоконченное высшее    203905.156250\nпенсионер        F       высшее                 142404.281250\n                         начальное              101180.562500\n                         неоконченное высшее    116592.976562\n                         среднее                112790.968750\n                         ученая степень         255425.203125\n                 M       высшее                 157457.328125\n                         начальное              113124.203125\n                         неоконченное высшее    124667.468750\n                         среднее                126097.195312\n                         ученая степень          98752.492188\nпредприниматель  F       высшее                 499163.156250\n                 M       высшее                           NaN\nсотрудник        F       высшее                 153691.843750\n                         начальное              118516.718750\n                         неоконченное высшее    134925.187500\n                         среднее                124127.093750\n                 M       высшее                 192247.296875\n                         начальное              141637.953125\n                         неоконченное высшее    189075.921875\n                         среднее                156286.406250\n                         ученая степень         198570.750000\nстудент          M       высшее                  98201.625000\nName: total_income, dtype: float32"
     },
     "execution_count": 145,
     "metadata": {},
     "output_type": "execute_result"
    }
   ],
   "source": [
    "data.groupby(['income_type', 'gender', 'education'])['total_income'].median()"
   ],
   "metadata": {
    "collapsed": false,
    "pycharm": {
     "name": "#%%\n"
    }
   }
  },
  {
   "cell_type": "markdown",
   "source": [
    "Как можем убедиться во всех группах, кроме пенсионеров, ежемесячный доход порой значительно зависит от гендера.\n",
    "Так что оставляем группировку по гендеру и заполняем пропущенные значения медианным значением.\n",
    "Но у нас есть один мужчина предприниматель с высшим образованием, медиану ежемесечного дохода которого нельзя посчитать из-за нехватки данных.\n",
    "Предположим что в предпринимательстве нет зависимости ежемесячного дохода от гендера, так что возьмем для него медианную ежемесячнаую зарплату\n",
    "девушек предпринимателей с таким же образованием."
   ],
   "metadata": {
    "collapsed": false
   }
  },
  {
   "cell_type": "code",
   "execution_count": 146,
   "outputs": [
    {
     "data": {
      "text/plain": "children            0\ndays_employed       0\ndob_years           0\neducation           0\neducation_id        0\nfamily_status       0\nfamily_status_id    0\ngender              0\nincome_type         0\ndebt                0\ntotal_income        0\npurpose             0\ndtype: int64"
     },
     "execution_count": 146,
     "metadata": {},
     "output_type": "execute_result"
    }
   ],
   "source": [
    "# присваиваем медианную зарплату вместо пропущенных значений\n",
    "data['total_income'] = data['total_income'].fillna(data.groupby(['income_type', 'gender', 'education'])['total_income'].transform('median'))\n",
    "# присваиваем медианную зарплату оставшемуся предпринимателю\n",
    "data.loc[data['total_income'].isna(), 'total_income'] = 499163.156250\n",
    "# убедимся что пропущенных значений в столбце total_income больше нет\n",
    "data.query('total_income.isna()').count()"
   ],
   "metadata": {
    "collapsed": false,
    "pycharm": {
     "name": "#%%\n"
    }
   }
  },
  {
   "cell_type": "markdown",
   "source": [
    "Теперь разберемся с данными в столбце days_employed.\n",
    "В данном столбце содержится информация об общем трудовом стаже в днях."
   ],
   "metadata": {
    "collapsed": false
   }
  },
  {
   "cell_type": "code",
   "execution_count": 147,
   "outputs": [
    {
     "data": {
      "text/plain": "count     19351.000000\nmean      63046.500000\nstd      140827.312500\nmin      -18388.949219\n25%       -2747.423584\n50%       -1203.369507\n75%        -291.095947\nmax      401755.406250\nName: days_employed, dtype: float64"
     },
     "execution_count": 147,
     "metadata": {},
     "output_type": "execute_result"
    }
   ],
   "source": [
    "data['days_employed'].describe()"
   ],
   "metadata": {
    "collapsed": false,
    "pycharm": {
     "name": "#%%\n"
    }
   }
  },
  {
   "cell_type": "markdown",
   "source": [
    "С данными явно что-то не так. Большинство данных имеют отрицательные значения и явно выражены не в днях.\n",
    "Предположим, что данные из этого столбца надо взять по модулю и выражены они не в днях, а в часах, т.о. нужно поделить значения на количество часов в сутках, т.е. 24 и привести к типу int."
   ],
   "metadata": {
    "collapsed": false
   }
  },
  {
   "cell_type": "code",
   "source": [
    "data['days_employed'] = data['days_employed'].abs() / 24\n",
    "data['days_employed'].describe()"
   ],
   "metadata": {
    "collapsed": false,
    "pycharm": {
     "name": "#%%\n"
    }
   },
   "execution_count": 148,
   "outputs": [
    {
     "data": {
      "text/plain": "count    19351.000000\nmean      2788.113770\nstd       5792.953125\nmin          1.005901\n25%         38.625389\n50%         91.425850\n75%        230.745117\nmax      16739.808594\nName: days_employed, dtype: float64"
     },
     "execution_count": 148,
     "metadata": {},
     "output_type": "execute_result"
    }
   ]
  },
  {
   "cell_type": "markdown",
   "source": [
    "Так-то лучше. В среднем трудовой стаж составляет почти 16 лет.\n",
    "Попробуем сгруппировать данные таким же способом, как и для ежемесячного дохода и посчитаем среднее значение и медиану."
   ],
   "metadata": {
    "collapsed": false
   }
  },
  {
   "cell_type": "code",
   "execution_count": 149,
   "outputs": [
    {
     "data": {
      "text/plain": "                                                    mean        median\nincome_type     education           gender                            \nбезработный     высшее              F       16470.951172  16470.951172\n                среднее             M       14063.519531  14063.519531\nв декрете       среднее             F         137.365005    137.365005\nгосслужащий     высшее              F         130.401321    103.482384\n                                    M         138.705338    118.150208\n                начальное           F         116.156967    116.156967\n                                    M         159.660980    103.221245\n                неоконченное высшее F          84.497902     66.277603\n                                    M         102.606949     91.148842\n                среднее             F         159.308655    121.987930\n                                    M         123.563889    110.303459\n                ученая степень      F         248.669815    248.669815\nкомпаньон       высшее              F          87.514641     64.066505\n                                    M          77.895767     55.325890\n                начальное           F          68.617905     47.984768\n                                    M          96.747955     44.804893\n                неоконченное высшее F          58.816292     39.749382\n                                    M          58.561928     43.355705\n                                    XNA        98.275024     98.275024\n                среднее             F          95.963615     71.088799\n                                    M          88.601364     66.923569\nпенсионер       высшее              F       15226.232422  15287.700195\n                                    M       15183.691406  15205.101562\n                начальное           F       15180.256836  15114.474609\n                                    M       14764.654297  14588.167969\n                неоконченное высшее F       15434.403320  15542.330078\n                                    M       15250.538086  14974.473633\n                среднее             F       15222.865234  15247.142578\n                                    M       15140.629883  15072.836914\n                ученая степень      F       15678.175781  15678.175781\n                                    M       14066.034180  14066.034180\nпредприниматель высшее              F          21.702003     21.702003\n                                    M                NaN           NaN\nсотрудник       высшее              F         100.535187     68.166092\n                                    M          82.662292     55.489563\n                начальное           F          94.826157     60.529099\n                                    M          63.229855     43.201439\n                неоконченное высшее F          65.866608     47.443508\n                                    M          66.872139     51.735100\n                среднее             F         108.452682     73.761307\n                                    M          85.713867     57.634796\n                ученая степень      M         112.675972     97.976326\nстудент         высшее              M          24.114647     24.114647",
      "text/html": "<div>\n<style scoped>\n    .dataframe tbody tr th:only-of-type {\n        vertical-align: middle;\n    }\n\n    .dataframe tbody tr th {\n        vertical-align: top;\n    }\n\n    .dataframe thead th {\n        text-align: right;\n    }\n</style>\n<table border=\"1\" class=\"dataframe\">\n  <thead>\n    <tr style=\"text-align: right;\">\n      <th></th>\n      <th></th>\n      <th></th>\n      <th>mean</th>\n      <th>median</th>\n    </tr>\n    <tr>\n      <th>income_type</th>\n      <th>education</th>\n      <th>gender</th>\n      <th></th>\n      <th></th>\n    </tr>\n  </thead>\n  <tbody>\n    <tr>\n      <th rowspan=\"2\" valign=\"top\">безработный</th>\n      <th>высшее</th>\n      <th>F</th>\n      <td>16470.951172</td>\n      <td>16470.951172</td>\n    </tr>\n    <tr>\n      <th>среднее</th>\n      <th>M</th>\n      <td>14063.519531</td>\n      <td>14063.519531</td>\n    </tr>\n    <tr>\n      <th>в декрете</th>\n      <th>среднее</th>\n      <th>F</th>\n      <td>137.365005</td>\n      <td>137.365005</td>\n    </tr>\n    <tr>\n      <th rowspan=\"9\" valign=\"top\">госслужащий</th>\n      <th rowspan=\"2\" valign=\"top\">высшее</th>\n      <th>F</th>\n      <td>130.401321</td>\n      <td>103.482384</td>\n    </tr>\n    <tr>\n      <th>M</th>\n      <td>138.705338</td>\n      <td>118.150208</td>\n    </tr>\n    <tr>\n      <th rowspan=\"2\" valign=\"top\">начальное</th>\n      <th>F</th>\n      <td>116.156967</td>\n      <td>116.156967</td>\n    </tr>\n    <tr>\n      <th>M</th>\n      <td>159.660980</td>\n      <td>103.221245</td>\n    </tr>\n    <tr>\n      <th rowspan=\"2\" valign=\"top\">неоконченное высшее</th>\n      <th>F</th>\n      <td>84.497902</td>\n      <td>66.277603</td>\n    </tr>\n    <tr>\n      <th>M</th>\n      <td>102.606949</td>\n      <td>91.148842</td>\n    </tr>\n    <tr>\n      <th rowspan=\"2\" valign=\"top\">среднее</th>\n      <th>F</th>\n      <td>159.308655</td>\n      <td>121.987930</td>\n    </tr>\n    <tr>\n      <th>M</th>\n      <td>123.563889</td>\n      <td>110.303459</td>\n    </tr>\n    <tr>\n      <th>ученая степень</th>\n      <th>F</th>\n      <td>248.669815</td>\n      <td>248.669815</td>\n    </tr>\n    <tr>\n      <th rowspan=\"9\" valign=\"top\">компаньон</th>\n      <th rowspan=\"2\" valign=\"top\">высшее</th>\n      <th>F</th>\n      <td>87.514641</td>\n      <td>64.066505</td>\n    </tr>\n    <tr>\n      <th>M</th>\n      <td>77.895767</td>\n      <td>55.325890</td>\n    </tr>\n    <tr>\n      <th rowspan=\"2\" valign=\"top\">начальное</th>\n      <th>F</th>\n      <td>68.617905</td>\n      <td>47.984768</td>\n    </tr>\n    <tr>\n      <th>M</th>\n      <td>96.747955</td>\n      <td>44.804893</td>\n    </tr>\n    <tr>\n      <th rowspan=\"3\" valign=\"top\">неоконченное высшее</th>\n      <th>F</th>\n      <td>58.816292</td>\n      <td>39.749382</td>\n    </tr>\n    <tr>\n      <th>M</th>\n      <td>58.561928</td>\n      <td>43.355705</td>\n    </tr>\n    <tr>\n      <th>XNA</th>\n      <td>98.275024</td>\n      <td>98.275024</td>\n    </tr>\n    <tr>\n      <th rowspan=\"2\" valign=\"top\">среднее</th>\n      <th>F</th>\n      <td>95.963615</td>\n      <td>71.088799</td>\n    </tr>\n    <tr>\n      <th>M</th>\n      <td>88.601364</td>\n      <td>66.923569</td>\n    </tr>\n    <tr>\n      <th rowspan=\"10\" valign=\"top\">пенсионер</th>\n      <th rowspan=\"2\" valign=\"top\">высшее</th>\n      <th>F</th>\n      <td>15226.232422</td>\n      <td>15287.700195</td>\n    </tr>\n    <tr>\n      <th>M</th>\n      <td>15183.691406</td>\n      <td>15205.101562</td>\n    </tr>\n    <tr>\n      <th rowspan=\"2\" valign=\"top\">начальное</th>\n      <th>F</th>\n      <td>15180.256836</td>\n      <td>15114.474609</td>\n    </tr>\n    <tr>\n      <th>M</th>\n      <td>14764.654297</td>\n      <td>14588.167969</td>\n    </tr>\n    <tr>\n      <th rowspan=\"2\" valign=\"top\">неоконченное высшее</th>\n      <th>F</th>\n      <td>15434.403320</td>\n      <td>15542.330078</td>\n    </tr>\n    <tr>\n      <th>M</th>\n      <td>15250.538086</td>\n      <td>14974.473633</td>\n    </tr>\n    <tr>\n      <th rowspan=\"2\" valign=\"top\">среднее</th>\n      <th>F</th>\n      <td>15222.865234</td>\n      <td>15247.142578</td>\n    </tr>\n    <tr>\n      <th>M</th>\n      <td>15140.629883</td>\n      <td>15072.836914</td>\n    </tr>\n    <tr>\n      <th rowspan=\"2\" valign=\"top\">ученая степень</th>\n      <th>F</th>\n      <td>15678.175781</td>\n      <td>15678.175781</td>\n    </tr>\n    <tr>\n      <th>M</th>\n      <td>14066.034180</td>\n      <td>14066.034180</td>\n    </tr>\n    <tr>\n      <th rowspan=\"2\" valign=\"top\">предприниматель</th>\n      <th rowspan=\"2\" valign=\"top\">высшее</th>\n      <th>F</th>\n      <td>21.702003</td>\n      <td>21.702003</td>\n    </tr>\n    <tr>\n      <th>M</th>\n      <td>NaN</td>\n      <td>NaN</td>\n    </tr>\n    <tr>\n      <th rowspan=\"9\" valign=\"top\">сотрудник</th>\n      <th rowspan=\"2\" valign=\"top\">высшее</th>\n      <th>F</th>\n      <td>100.535187</td>\n      <td>68.166092</td>\n    </tr>\n    <tr>\n      <th>M</th>\n      <td>82.662292</td>\n      <td>55.489563</td>\n    </tr>\n    <tr>\n      <th rowspan=\"2\" valign=\"top\">начальное</th>\n      <th>F</th>\n      <td>94.826157</td>\n      <td>60.529099</td>\n    </tr>\n    <tr>\n      <th>M</th>\n      <td>63.229855</td>\n      <td>43.201439</td>\n    </tr>\n    <tr>\n      <th rowspan=\"2\" valign=\"top\">неоконченное высшее</th>\n      <th>F</th>\n      <td>65.866608</td>\n      <td>47.443508</td>\n    </tr>\n    <tr>\n      <th>M</th>\n      <td>66.872139</td>\n      <td>51.735100</td>\n    </tr>\n    <tr>\n      <th rowspan=\"2\" valign=\"top\">среднее</th>\n      <th>F</th>\n      <td>108.452682</td>\n      <td>73.761307</td>\n    </tr>\n    <tr>\n      <th>M</th>\n      <td>85.713867</td>\n      <td>57.634796</td>\n    </tr>\n    <tr>\n      <th>ученая степень</th>\n      <th>M</th>\n      <td>112.675972</td>\n      <td>97.976326</td>\n    </tr>\n    <tr>\n      <th>студент</th>\n      <th>высшее</th>\n      <th>M</th>\n      <td>24.114647</td>\n      <td>24.114647</td>\n    </tr>\n  </tbody>\n</table>\n</div>"
     },
     "metadata": {},
     "output_type": "display_data"
    }
   ],
   "source": [
    "display(data.groupby(['income_type', 'education', 'gender'])['days_employed'].agg(['mean', 'median']))"
   ],
   "metadata": {
    "collapsed": false,
    "pycharm": {
     "name": "#%%\n"
    }
   }
  },
  {
   "cell_type": "markdown",
   "source": [
    "Видим что тип занятости, образование и гендер также влияют трудовой стаж, но на пенсионеров меньше всего.\n",
    "Между средним и медианными есть разница, но пропорционально разница значений не сильно отличается.\n",
    "Чтобы выбрать, какими данными заполнить пропущенные значения с минимальной ошибкой, посмотрим на среднеквадратичное отклонение по каждой из функций."
   ],
   "metadata": {
    "collapsed": false
   }
  },
  {
   "cell_type": "code",
   "execution_count": 150,
   "outputs": [
    {
     "data": {
      "text/plain": "'СКО среднего значения группировки: 6885.7490234375'"
     },
     "metadata": {},
     "output_type": "display_data"
    },
    {
     "data": {
      "text/plain": "'СКО медианного значения группировки: 6881.36767578125'"
     },
     "metadata": {},
     "output_type": "display_data"
    }
   ],
   "source": [
    "display(f\"СКО среднего значения группировки: {data.groupby(['income_type', 'education', 'gender'])['days_employed'].agg(['mean', 'median'])['mean'].describe()['std']}\")\n",
    "display(f\"СКО медианного значения группировки: {data.groupby(['income_type', 'education', 'gender'])['days_employed'].agg(['mean', 'median'])['median'].describe()['std']}\")\n"
   ],
   "metadata": {
    "collapsed": false,
    "pycharm": {
     "name": "#%%\n"
    }
   }
  },
  {
   "cell_type": "markdown",
   "source": [
    "СКО среднего и медианного значений незначительно отличается, но у медианы чуть меньше отклонение, так что заполним значения медианой."
   ],
   "metadata": {
    "collapsed": false
   }
  },
  {
   "cell_type": "code",
   "execution_count": 151,
   "outputs": [
    {
     "data": {
      "text/plain": "children            0\ndays_employed       0\ndob_years           0\neducation           0\neducation_id        0\nfamily_status       0\nfamily_status_id    0\ngender              0\nincome_type         0\ndebt                0\ntotal_income        0\npurpose             0\ndtype: int64"
     },
     "execution_count": 151,
     "metadata": {},
     "output_type": "execute_result"
    }
   ],
   "source": [
    "data['days_employed'] = data.groupby(['income_type', 'education', 'gender'])['days_employed'].transform('median')\n",
    "# для мужчины предпринимателя возьмем данные женщин предпринимателей с тем же образованием\n",
    "data.loc[data['days_employed'].isna(), 'days_employed'] = 21.702003\n",
    "# убедимся что все пропуски заполнены\n",
    "data.query('days_employed.isna()').count()"
   ],
   "metadata": {
    "collapsed": false,
    "pycharm": {
     "name": "#%%\n"
    }
   }
  },
  {
   "cell_type": "code",
   "execution_count": 152,
   "outputs": [
    {
     "data": {
      "text/plain": "       children  days_employed  dob_years education  education_id  \\\n2849          0      73.761307         41   среднее             1   \n3290          0   15247.142578         58   среднее             1   \n4182          1      68.166092         34    высшее             0   \n4851          0   15247.142578         60   среднее             1   \n5557          0   15247.142578         58   среднее             1   \n...         ...            ...        ...       ...           ...   \n20702         0   15247.142578         64   среднее             1   \n21032         0   15247.142578         60   среднее             1   \n21132         0      73.761307         47   среднее             1   \n21281         1      68.166092         30    высшее             0   \n21415         0   15247.142578         54   среднее             1   \n\n          family_status  family_status_id gender income_type  debt  \\\n2849    женат / замужем                 0      F   сотрудник     0   \n3290   гражданский брак                 1      F   пенсионер     0   \n4182   гражданский брак                 1      F   сотрудник     0   \n4851   гражданский брак                 1      F   пенсионер     0   \n5557   гражданский брак                 1      F   пенсионер     0   \n...                 ...               ...    ...         ...   ...   \n20702   женат / замужем                 0      F   пенсионер     0   \n21032   женат / замужем                 0      F   пенсионер     0   \n21132   женат / замужем                 0      F   сотрудник     0   \n21281   женат / замужем                 0      F   сотрудник     0   \n21415   женат / замужем                 0      F   пенсионер     0   \n\n       total_income                            purpose  \n2849   124127.09375            покупка жилья для семьи  \n3290   112790.96875                    сыграть свадьбу  \n4182   153691.84375                            свадьба  \n4851   112790.96875                            свадьба  \n5557   112790.96875                    сыграть свадьбу  \n...             ...                                ...  \n20702  112790.96875         дополнительное образование  \n21032  112790.96875              заняться образованием  \n21132  124127.09375                       ремонт жилью  \n21281  153691.84375  покупка коммерческой недвижимости  \n21415  112790.96875                  операции с жильем  \n\n[71 rows x 12 columns]",
      "text/html": "<div>\n<style scoped>\n    .dataframe tbody tr th:only-of-type {\n        vertical-align: middle;\n    }\n\n    .dataframe tbody tr th {\n        vertical-align: top;\n    }\n\n    .dataframe thead th {\n        text-align: right;\n    }\n</style>\n<table border=\"1\" class=\"dataframe\">\n  <thead>\n    <tr style=\"text-align: right;\">\n      <th></th>\n      <th>children</th>\n      <th>days_employed</th>\n      <th>dob_years</th>\n      <th>education</th>\n      <th>education_id</th>\n      <th>family_status</th>\n      <th>family_status_id</th>\n      <th>gender</th>\n      <th>income_type</th>\n      <th>debt</th>\n      <th>total_income</th>\n      <th>purpose</th>\n    </tr>\n  </thead>\n  <tbody>\n    <tr>\n      <th>2849</th>\n      <td>0</td>\n      <td>73.761307</td>\n      <td>41</td>\n      <td>среднее</td>\n      <td>1</td>\n      <td>женат / замужем</td>\n      <td>0</td>\n      <td>F</td>\n      <td>сотрудник</td>\n      <td>0</td>\n      <td>124127.09375</td>\n      <td>покупка жилья для семьи</td>\n    </tr>\n    <tr>\n      <th>3290</th>\n      <td>0</td>\n      <td>15247.142578</td>\n      <td>58</td>\n      <td>среднее</td>\n      <td>1</td>\n      <td>гражданский брак</td>\n      <td>1</td>\n      <td>F</td>\n      <td>пенсионер</td>\n      <td>0</td>\n      <td>112790.96875</td>\n      <td>сыграть свадьбу</td>\n    </tr>\n    <tr>\n      <th>4182</th>\n      <td>1</td>\n      <td>68.166092</td>\n      <td>34</td>\n      <td>высшее</td>\n      <td>0</td>\n      <td>гражданский брак</td>\n      <td>1</td>\n      <td>F</td>\n      <td>сотрудник</td>\n      <td>0</td>\n      <td>153691.84375</td>\n      <td>свадьба</td>\n    </tr>\n    <tr>\n      <th>4851</th>\n      <td>0</td>\n      <td>15247.142578</td>\n      <td>60</td>\n      <td>среднее</td>\n      <td>1</td>\n      <td>гражданский брак</td>\n      <td>1</td>\n      <td>F</td>\n      <td>пенсионер</td>\n      <td>0</td>\n      <td>112790.96875</td>\n      <td>свадьба</td>\n    </tr>\n    <tr>\n      <th>5557</th>\n      <td>0</td>\n      <td>15247.142578</td>\n      <td>58</td>\n      <td>среднее</td>\n      <td>1</td>\n      <td>гражданский брак</td>\n      <td>1</td>\n      <td>F</td>\n      <td>пенсионер</td>\n      <td>0</td>\n      <td>112790.96875</td>\n      <td>сыграть свадьбу</td>\n    </tr>\n    <tr>\n      <th>...</th>\n      <td>...</td>\n      <td>...</td>\n      <td>...</td>\n      <td>...</td>\n      <td>...</td>\n      <td>...</td>\n      <td>...</td>\n      <td>...</td>\n      <td>...</td>\n      <td>...</td>\n      <td>...</td>\n      <td>...</td>\n    </tr>\n    <tr>\n      <th>20702</th>\n      <td>0</td>\n      <td>15247.142578</td>\n      <td>64</td>\n      <td>среднее</td>\n      <td>1</td>\n      <td>женат / замужем</td>\n      <td>0</td>\n      <td>F</td>\n      <td>пенсионер</td>\n      <td>0</td>\n      <td>112790.96875</td>\n      <td>дополнительное образование</td>\n    </tr>\n    <tr>\n      <th>21032</th>\n      <td>0</td>\n      <td>15247.142578</td>\n      <td>60</td>\n      <td>среднее</td>\n      <td>1</td>\n      <td>женат / замужем</td>\n      <td>0</td>\n      <td>F</td>\n      <td>пенсионер</td>\n      <td>0</td>\n      <td>112790.96875</td>\n      <td>заняться образованием</td>\n    </tr>\n    <tr>\n      <th>21132</th>\n      <td>0</td>\n      <td>73.761307</td>\n      <td>47</td>\n      <td>среднее</td>\n      <td>1</td>\n      <td>женат / замужем</td>\n      <td>0</td>\n      <td>F</td>\n      <td>сотрудник</td>\n      <td>0</td>\n      <td>124127.09375</td>\n      <td>ремонт жилью</td>\n    </tr>\n    <tr>\n      <th>21281</th>\n      <td>1</td>\n      <td>68.166092</td>\n      <td>30</td>\n      <td>высшее</td>\n      <td>0</td>\n      <td>женат / замужем</td>\n      <td>0</td>\n      <td>F</td>\n      <td>сотрудник</td>\n      <td>0</td>\n      <td>153691.84375</td>\n      <td>покупка коммерческой недвижимости</td>\n    </tr>\n    <tr>\n      <th>21415</th>\n      <td>0</td>\n      <td>15247.142578</td>\n      <td>54</td>\n      <td>среднее</td>\n      <td>1</td>\n      <td>женат / замужем</td>\n      <td>0</td>\n      <td>F</td>\n      <td>пенсионер</td>\n      <td>0</td>\n      <td>112790.96875</td>\n      <td>операции с жильем</td>\n    </tr>\n  </tbody>\n</table>\n<p>71 rows × 12 columns</p>\n</div>"
     },
     "execution_count": 152,
     "metadata": {},
     "output_type": "execute_result"
    }
   ],
   "source": [
    "data[data.duplicated()]"
   ],
   "metadata": {
    "collapsed": false,
    "pycharm": {
     "name": "#%%\n"
    }
   }
  },
  {
   "cell_type": "markdown",
   "metadata": {},
   "source": [
    "**Вывод**"
   ]
  },
  {
   "cell_type": "markdown",
   "metadata": {},
   "source": []
  },
  {
   "cell_type": "markdown",
   "metadata": {},
   "source": [
    "## Шаг 2. Предобработка данных"
   ]
  },
  {
   "cell_type": "markdown",
   "metadata": {},
   "source": [
    "### Обработка пропусков"
   ]
  },
  {
   "cell_type": "code",
   "execution_count": 152,
   "metadata": {},
   "outputs": [],
   "source": []
  },
  {
   "cell_type": "markdown",
   "metadata": {},
   "source": [
    "**Вывод**"
   ]
  },
  {
   "cell_type": "markdown",
   "metadata": {},
   "source": []
  },
  {
   "cell_type": "markdown",
   "metadata": {},
   "source": [
    "### Замена типа данных"
   ]
  },
  {
   "cell_type": "code",
   "execution_count": 152,
   "metadata": {},
   "outputs": [],
   "source": []
  },
  {
   "cell_type": "markdown",
   "metadata": {},
   "source": [
    "**Вывод**"
   ]
  },
  {
   "cell_type": "markdown",
   "metadata": {},
   "source": []
  },
  {
   "cell_type": "markdown",
   "metadata": {},
   "source": [
    "### Обработка дубликатов"
   ]
  },
  {
   "cell_type": "code",
   "execution_count": 152,
   "metadata": {},
   "outputs": [],
   "source": []
  },
  {
   "cell_type": "markdown",
   "metadata": {},
   "source": [
    "**Вывод**"
   ]
  },
  {
   "cell_type": "markdown",
   "metadata": {},
   "source": []
  },
  {
   "cell_type": "markdown",
   "metadata": {},
   "source": [
    "### Лемматизация"
   ]
  },
  {
   "cell_type": "code",
   "execution_count": 152,
   "metadata": {},
   "outputs": [],
   "source": []
  },
  {
   "cell_type": "markdown",
   "metadata": {},
   "source": [
    "**Вывод**"
   ]
  },
  {
   "cell_type": "markdown",
   "metadata": {},
   "source": []
  },
  {
   "cell_type": "markdown",
   "metadata": {},
   "source": [
    "### Категоризация данных"
   ]
  },
  {
   "cell_type": "code",
   "execution_count": 152,
   "metadata": {},
   "outputs": [],
   "source": []
  },
  {
   "cell_type": "markdown",
   "metadata": {},
   "source": [
    "**Вывод**"
   ]
  },
  {
   "cell_type": "markdown",
   "metadata": {},
   "source": []
  },
  {
   "cell_type": "markdown",
   "metadata": {},
   "source": [
    "## Шаг 3. Ответьте на вопросы"
   ]
  },
  {
   "cell_type": "markdown",
   "metadata": {},
   "source": [
    "- Есть ли зависимость между наличием детей и возвратом кредита в срок?"
   ]
  },
  {
   "cell_type": "code",
   "execution_count": 152,
   "metadata": {},
   "outputs": [],
   "source": []
  },
  {
   "cell_type": "markdown",
   "metadata": {},
   "source": [
    "**Вывод**"
   ]
  },
  {
   "cell_type": "markdown",
   "metadata": {},
   "source": []
  },
  {
   "cell_type": "markdown",
   "metadata": {},
   "source": [
    "- Есть ли зависимость между семейным положением и возвратом кредита в срок?"
   ]
  },
  {
   "cell_type": "code",
   "execution_count": 152,
   "metadata": {},
   "outputs": [],
   "source": []
  },
  {
   "cell_type": "markdown",
   "metadata": {},
   "source": [
    "**Вывод**"
   ]
  },
  {
   "cell_type": "markdown",
   "metadata": {},
   "source": []
  },
  {
   "cell_type": "markdown",
   "metadata": {},
   "source": [
    "- Есть ли зависимость между уровнем дохода и возвратом кредита в срок?"
   ]
  },
  {
   "cell_type": "code",
   "execution_count": 152,
   "metadata": {},
   "outputs": [],
   "source": []
  },
  {
   "cell_type": "markdown",
   "metadata": {},
   "source": [
    "**Вывод**"
   ]
  },
  {
   "cell_type": "markdown",
   "metadata": {},
   "source": []
  },
  {
   "cell_type": "markdown",
   "metadata": {},
   "source": [
    "- Как разные цели кредита влияют на его возврат в срок?"
   ]
  },
  {
   "cell_type": "code",
   "execution_count": 152,
   "metadata": {},
   "outputs": [],
   "source": []
  },
  {
   "cell_type": "markdown",
   "metadata": {},
   "source": [
    "**Вывод**"
   ]
  },
  {
   "cell_type": "markdown",
   "metadata": {},
   "source": []
  },
  {
   "cell_type": "markdown",
   "metadata": {},
   "source": [
    "## Шаг 4. Общий вывод"
   ]
  },
  {
   "cell_type": "markdown",
   "metadata": {},
   "source": []
  },
  {
   "cell_type": "markdown",
   "metadata": {},
   "source": [
    "## Чек-лист готовности проекта\n",
    "\n",
    "Поставьте 'x' в выполненных пунктах. Далее нажмите Shift+Enter."
   ]
  },
  {
   "cell_type": "markdown",
   "metadata": {},
   "source": [
    "- [x]  открыт файл;\n",
    "- [x]  файл изучен;\n",
    "- [x]  определены пропущенные значения;\n",
    "- [ ]  заполнены пропущенные значения;\n",
    "- [ ]  есть пояснение, какие пропущенные значения обнаружены;\n",
    "- [ ]  описаны возможные причины появления пропусков в данных;\n",
    "- [ ]  объяснено, по какому принципу заполнены пропуски;\n",
    "- [ ]  заменен вещественный тип данных на целочисленный;\n",
    "- [ ]  есть пояснение, какой метод используется для изменения типа данных и почему;\n",
    "- [ ]  удалены дубликаты;\n",
    "- [ ]  есть пояснение, какой метод используется для поиска и удаления дубликатов;\n",
    "- [ ]  описаны возможные причины появления дубликатов в данных;\n",
    "- [ ]  выделены леммы в значениях столбца с целями получения кредита;\n",
    "- [ ]  описан процесс лемматизации;\n",
    "- [ ]  данные категоризированы;\n",
    "- [ ]  есть объяснение принципа категоризации данных;\n",
    "- [ ]  есть ответ на вопрос: \"Есть ли зависимость между наличием детей и возвратом кредита в срок?\";\n",
    "- [ ]  есть ответ на вопрос: \"Есть ли зависимость между семейным положением и возвратом кредита в срок?\";\n",
    "- [ ]  есть ответ на вопрос: \"Есть ли зависимость между уровнем дохода и возвратом кредита в срок?\";\n",
    "- [ ]  есть ответ на вопрос: \"Как разные цели кредита влияют на его возврат в срок?\";\n",
    "- [ ]  в каждом этапе есть выводы;\n",
    "- [ ]  есть общий вывод."
   ]
  },
  {
   "cell_type": "code",
   "execution_count": 152,
   "metadata": {},
   "outputs": [],
   "source": []
  }
 ],
 "metadata": {
  "ExecuteTimeLog": [
   {
    "duration": 3,
    "start_time": "2021-12-28T10:53:21.965Z"
   }
  ],
  "kernelspec": {
   "display_name": "Python 3",
   "language": "python",
   "name": "python3"
  },
  "language_info": {
   "codemirror_mode": {
    "name": "ipython",
    "version": 3
   },
   "file_extension": ".py",
   "mimetype": "text/x-python",
   "name": "python",
   "nbconvert_exporter": "python",
   "pygments_lexer": "ipython3",
   "version": "3.7.8"
  },
  "toc": {
   "base_numbering": 1,
   "nav_menu": {},
   "number_sections": true,
   "sideBar": true,
   "skip_h1_title": true,
   "title_cell": "Table of Contents",
   "title_sidebar": "Contents",
   "toc_cell": false,
   "toc_position": {},
   "toc_section_display": true,
   "toc_window_display": false
  }
 },
 "nbformat": 4,
 "nbformat_minor": 2
}