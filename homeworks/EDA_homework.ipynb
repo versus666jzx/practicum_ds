{
 "cells": [
  {
   "cell_type": "markdown",
   "source": [
    "## ДЗ\n",
    "\n",
    "Необходимо:\n",
    "1) Рассмотреть как выглядят данные до и после удаления выбросов, проанализировать как могут выбросы влиять на данные и совместные распределения\n",
    "2) В данных еще есть выбросы нужно их найти и избавиться от них (либо попробовать использовать)\n",
    "3) Придумать новые признаки (возраст здания и т.п. для дальнейшего обучения модели)\n",
    "4) Создать эти признаки для тестовой выборки на основе трейновой\n",
    "5) Обучить на этих данных модель сравнить с качеством бейзлайна\n",
    "6) Подобрать параметры и оценить насколько удалось улучшить качество за счет подбора параметров"
   ],
   "metadata": {
    "collapsed": false,
    "pycharm": {
     "name": "#%% md\n"
    }
   }
  },
  {
   "cell_type": "markdown",
   "source": [
    "### Описание данных\n",
    "\n",
    " - date: Date house was sold (Дата продажи участка)\n",
    " - price: Price of the sold house (Цена продажи)\n",
    " - bedrooms: Number of Bedrooms (Число спален)\n",
    " - bathrooms: Number of bathrooms (Число ванных комнат)\n",
    " - sqft_living: Square footage of the living space (жилая площадь)\n",
    " - sqrt_lot: Square footage of the lot (общая площадь)\n",
    " - floors: Total floors in the house (кол-во этажей в доме)\n",
    " - waterfront: Whether the house is on a waterfront(1: yes, 0: no) (дом на набережной?)\n",
    " - view: special view? (вид из окна)\n",
    " - condition: Condition of the house (Состояние здания)\n",
    " - grade: unknown sqft_above: Square footage of house apart from basement (Площадь здания без подвала)\n",
    " - sqft_basement: Square footage of the basement (Площадь подвала)\n",
    " - yr_built: Built year (Год постройки)\n",
    " - yr_renovated: Year when the house was renovated (Год реновации)\n",
    " - zipcode: zipcode of the house (Индекс здания)\n",
    " - lat: Latitude coordinate (Широта)\n",
    " - long Longitude coordinate (Долгота)\n",
    " - sqft_living15: Living room area in 2015(implies some renovations) (после реновации)\n",
    " - sqrt_lot15: Lot area in 2015(implies some renovations) (после реновации)"
   ],
   "metadata": {
    "collapsed": false,
    "pycharm": {
     "name": "#%% md\n"
    }
   }
  },
  {
   "cell_type": "code",
   "execution_count": 1,
   "outputs": [],
   "source": [
    "import pandas as pd\n",
    "import numpy as np\n",
    "import seaborn as sns\n",
    "\n",
    "import plotly.express as px\n",
    "from sklearn.cluster import KMeans\n",
    "from sklearn.preprocessing import StandardScaler\n",
    "from sklearn.impute import KNNImputer\n",
    "from sklearn.linear_model import LinearRegression\n",
    "from sklearn.pipeline import make_pipeline\n",
    "from sklearn.model_selection import cross_val_score\n",
    "from sklearn.metrics import r2_score\n",
    "from sklearn.model_selection import train_test_split\n",
    "from sklearn.model_selection import RandomizedSearchCV\n",
    "\n",
    "from yellowbrick.cluster import KElbowVisualizer, SilhouetteVisualizer\n",
    "\n",
    "from catboost import CatBoostRegressor\n",
    "\n",
    "# немного экспериментальной магии от sklearn\n",
    "from sklearn.experimental import enable_iterative_imputer\n",
    "from sklearn.impute import IterativeImputer"
   ],
   "metadata": {
    "collapsed": false,
    "pycharm": {
     "name": "#%%\n"
    }
   }
  },
  {
   "cell_type": "code",
   "execution_count": null,
   "outputs": [],
   "source": [
    "from time import time\n",
    "\n",
    "start_time = time()"
   ],
   "metadata": {
    "collapsed": false,
    "pycharm": {
     "name": "#%%\n"
    }
   }
  },
  {
   "cell_type": "code",
   "execution_count": null,
   "outputs": [],
   "source": [
    "data = pd.read_csv('train.csv')\n",
    "\n",
    "CONTINUES_COLS = [\n",
    "    \"price\",\n",
    "    \"sqft_living\",\n",
    "    \"sqft_lot\",\n",
    "    \"sqft_above\",\n",
    "    \"sqft_living15\",\n",
    "    \"sqft_lot15\"\n",
    "]\n",
    "\n",
    "data.info()"
   ],
   "metadata": {
    "collapsed": false,
    "pycharm": {
     "name": "#%%\n"
    }
   }
  },
  {
   "cell_type": "markdown",
   "source": [
    "### Задание 1 и 2. Избавимся от выбросов и рассмотрим как выглядят данные до и после удаления выбросов, проанализировать как могут выбросы влиять на данные и совместные распределения\n",
    "\n",
    "Посмотрим какие у нас еще остались возможные выбросы и аномалии"
   ],
   "metadata": {
    "collapsed": false,
    "pycharm": {
     "name": "#%% md\n"
    }
   }
  },
  {
   "cell_type": "code",
   "execution_count": null,
   "outputs": [],
   "source": [
    "(data[\"sqft_basement\"] / data[\"sqft_lot\"])\\\n",
    "    .value_counts()\\\n",
    "    .reset_index()\\\n",
    "    .sort_values(by='index', ascending=False)\\\n",
    "    .rename({'index':'basement_area_increase', 0:'count'}, axis=1)\\\n",
    "    .query('basement_area_increase > 0.3')"
   ],
   "metadata": {
    "collapsed": false,
    "pycharm": {
     "name": "#%%\n"
    }
   }
  },
  {
   "cell_type": "markdown",
   "source": [
    "Есть ряд объектов, где площадь подвала больше общей площади объекта более чем на 30%. А есть объекты, где даже более чем на 60%. Выбросы? Аномалии? Я бы уточнил у поставщика данных. А пока не будем считать это каким-то выбросом и удалять их не будем."
   ],
   "metadata": {
    "collapsed": false,
    "pycharm": {
     "name": "#%% md\n"
    }
   }
  },
  {
   "cell_type": "code",
   "execution_count": null,
   "outputs": [],
   "source": [
    "(data[\"sqft_lot15\"] / data[\"sqft_lot\"])\\\n",
    "    .value_counts()\\\n",
    "    .reset_index()\\\n",
    "    .sort_values(by='index', ascending=False)\\\n",
    "    .rename({'index':'lot_area_increase', 0:'count'}, axis=1)\\\n",
    "    .query('lot_area_increase > 2')"
   ],
   "metadata": {
    "collapsed": false,
    "pycharm": {
     "name": "#%%\n"
    }
   }
  },
  {
   "cell_type": "markdown",
   "source": [
    "Вот так реновация! В ряде случаев общая площадь увеличилась более чем в 2 раза, а где-то и почти в 34! Этот вопрос я бы также уточнил у поставщика. Пока не удаляем."
   ],
   "metadata": {
    "collapsed": false,
    "pycharm": {
     "name": "#%% md\n"
    }
   }
  },
  {
   "cell_type": "code",
   "execution_count": null,
   "outputs": [],
   "source": [
    "sns.pairplot(data[CONTINUES_COLS])"
   ],
   "metadata": {
    "collapsed": false,
    "pycharm": {
     "name": "#%%\n"
    }
   }
  },
  {
   "cell_type": "code",
   "execution_count": null,
   "outputs": [],
   "source": [
    "for col in CONTINUES_COLS:\n",
    "    high_quantile = 0.95\n",
    "    filtered_count = len(data[data[col] > data[col].quantile(high_quantile)])\n",
    "    len_data = len(data)\n",
    "    # отфильртуем все, что больше 0,95 квантиля\n",
    "    print(f\"В колонке {col} отфильтруем {filtered_count} значений, что составляет {filtered_count / len_data:.02f}% от датасета\")\n",
    "    data[col] = data[data[col] < data[col].quantile(high_quantile)][col]"
   ],
   "metadata": {
    "collapsed": false,
    "pycharm": {
     "name": "#%%\n"
    }
   }
  },
  {
   "cell_type": "code",
   "execution_count": null,
   "outputs": [],
   "source": [
    "sns.pairplot(data[CONTINUES_COLS])"
   ],
   "metadata": {
    "collapsed": false,
    "pycharm": {
     "name": "#%%\n"
    }
   }
  },
  {
   "cell_type": "markdown",
   "source": [
    "### Выводы\n",
    "\n",
    "После того как мы избавились от выбросов, наши данные приобрели \"объем\" при построении графиков совместных распределений и теперь можно более наглядно разглядеть или оценить зависимости."
   ],
   "metadata": {
    "collapsed": false,
    "pycharm": {
     "name": "#%% md\n"
    }
   }
  },
  {
   "cell_type": "markdown",
   "source": [
    "### Задание 3, 4 и 5. Придумаем новые признаки (возраст здания и т.п. для дальнейшего обучения модели) и обучим модель из бейзлайна на полученном датасете"
   ],
   "metadata": {
    "collapsed": false,
    "pycharm": {
     "name": "#%% md\n"
    }
   }
  },
  {
   "cell_type": "markdown",
   "source": [
    "Для начала избавимся от пропусков"
   ],
   "metadata": {
    "collapsed": false,
    "pycharm": {
     "name": "#%% md\n"
    }
   }
  },
  {
   "cell_type": "markdown",
   "source": [
    "# посмотрим сколько у нас пропусков и где"
   ],
   "metadata": {
    "collapsed": false,
    "pycharm": {
     "name": "#%% md\n"
    }
   }
  },
  {
   "cell_type": "code",
   "execution_count": null,
   "outputs": [],
   "source": [
    "data.isna().sum()"
   ],
   "metadata": {
    "collapsed": false,
    "pycharm": {
     "name": "#%%\n"
    }
   }
  },
  {
   "cell_type": "markdown",
   "source": [
    "У нас много пропусков в достаточно важных (на первый взгляд) метриках и в целевой метрике. Заполнять пропуски в целевой метрике имхо не самая удачная идея т.к. модель на этих данных будет учиться, а заполняем мы с довольно высоким риском (а скорее всего и долей) ошибки. Поэтому удалим пропуски в целевой метрике и посмотрим что останется."
   ],
   "metadata": {
    "collapsed": false,
    "pycharm": {
     "name": "#%% md\n"
    }
   }
  },
  {
   "cell_type": "code",
   "execution_count": null,
   "outputs": [],
   "source": [
    "data = data.dropna(subset=['price'])\n",
    "data.isna().sum()"
   ],
   "metadata": {
    "collapsed": false,
    "pycharm": {
     "name": "#%%\n"
    }
   }
  },
  {
   "cell_type": "markdown",
   "source": [
    "Поля ID и DATE для дальнейшего обучения модели бесполезны - удалим их.\n",
    "Также мы не сможем восстановить пропуски в координатах (поля long и lat), а они нам будут нужны в дальнейшем для обучения - поэтому удалим записи с пропусками в этих значениях.\n",
    "Также не забываем проверять сколько данных будет удалено :) В нашем случае около 700 записей, что ок."
   ],
   "metadata": {
    "collapsed": false,
    "pycharm": {
     "name": "#%% md\n"
    }
   }
  },
  {
   "cell_type": "code",
   "execution_count": null,
   "outputs": [],
   "source": [
    "data = data.drop(['id', 'date'], axis=1)\n",
    "data = data.dropna(subset=['long', 'lat'])"
   ],
   "metadata": {
    "collapsed": false,
    "pycharm": {
     "name": "#%%\n"
    }
   }
  },
  {
   "cell_type": "markdown",
   "source": [
    "Посмотрим сколько пропусков осталось"
   ],
   "metadata": {
    "collapsed": false,
    "pycharm": {
     "name": "#%% md\n"
    }
   }
  },
  {
   "cell_type": "code",
   "execution_count": null,
   "outputs": [],
   "source": [
    "data.isna().sum()"
   ],
   "metadata": {
    "collapsed": false,
    "pycharm": {
     "name": "#%%\n"
    }
   }
  },
  {
   "cell_type": "markdown",
   "source": [
    "Заполним пропуски с помощью случайного леса с дефолтными параметрами"
   ],
   "metadata": {
    "collapsed": false,
    "pycharm": {
     "name": "#%% md\n"
    }
   }
  },
  {
   "cell_type": "code",
   "execution_count": null,
   "outputs": [],
   "source": [
    "impute_model = CatBoostRegressor(thread_count=-1, random_state=25)\n",
    "# ограничим количество итераций до 3 (чтобы на моем компе это выполнялось за разумное время :D, но чутка ухудшив качество дефолтно - 10)\n",
    "# и заполнять будем от поля с наибольшим количеством пропусков к меньшему\n",
    "it_imputer = IterativeImputer(impute_model, max_iter=3, imputation_order='descending')\n",
    "data_after_imputer = it_imputer.fit_transform(data)"
   ],
   "metadata": {
    "collapsed": false,
    "pycharm": {
     "name": "#%%\n"
    }
   }
  },
  {
   "cell_type": "markdown",
   "source": [
    "Отлично, теперь преобразуем восстановленные данные обратно в DataFrame и проверим, остались ли пропуски\n"
   ],
   "metadata": {
    "collapsed": false,
    "pycharm": {
     "name": "#%% md\n"
    }
   }
  },
  {
   "cell_type": "code",
   "execution_count": null,
   "outputs": [],
   "source": [
    "data_after_imputer = pd.DataFrame(data_after_imputer, index=data.index, columns=data.columns)\n",
    "data_after_imputer.isna().sum()"
   ],
   "metadata": {
    "collapsed": false,
    "pycharm": {
     "name": "#%%\n"
    }
   }
  },
  {
   "cell_type": "markdown",
   "source": [
    "От пропусков избавились, теперь добавим новые признаки"
   ],
   "metadata": {
    "collapsed": false,
    "pycharm": {
     "name": "#%% md\n"
    }
   }
  },
  {
   "cell_type": "markdown",
   "source": [
    "Кластеризуем объекты по координатам Посмотрим как сейчас располагаются наши объекты"
   ],
   "metadata": {
    "collapsed": false,
    "pycharm": {
     "name": "#%% md\n"
    }
   }
  },
  {
   "cell_type": "code",
   "execution_count": null,
   "outputs": [],
   "source": [
    "x_axis = data_after_imputer['long']\n",
    "y_axis = data_after_imputer['lat']\n",
    "\n",
    "fig = px.scatter(\n",
    "    x=x_axis,\n",
    "    y=y_axis,\n",
    "    title='Расположение объектов по координатам'\n",
    "    )\n",
    "\n",
    "fig.update_xaxes(\n",
    "    title='Долгота'\n",
    ")\n",
    "fig.update_yaxes(\n",
    "    title='Широта'\n",
    ")\n",
    "\n",
    "fig.show()"
   ],
   "metadata": {
    "collapsed": false,
    "pycharm": {
     "name": "#%%\n"
    }
   }
  },
  {
   "cell_type": "markdown",
   "source": [
    "Видим несколько явных кластеров, некоторые явно очень отдаленные объекты и большие кучи данных) Попробуем это разобрать по кластерам с помощью KMeans. Для начала определим оптимальное количество кластеров для KMeans elbow методом."
   ],
   "metadata": {
    "collapsed": false,
    "pycharm": {
     "name": "#%% md\n"
    }
   }
  },
  {
   "cell_type": "code",
   "execution_count": null,
   "outputs": [],
   "source": [
    "kmean = KMeans()\n",
    "visualiser = KElbowVisualizer(kmean, k=(2, 30))\n",
    "visualiser.fit(data_after_imputer[['long', 'lat']])\n",
    "visualiser.show()"
   ],
   "metadata": {
    "collapsed": false,
    "pycharm": {
     "name": "#%%\n"
    }
   }
  },
  {
   "cell_type": "code",
   "execution_count": null,
   "outputs": [],
   "source": [
    "visualiser.elbow_value_"
   ],
   "metadata": {
    "collapsed": false,
    "pycharm": {
     "name": "#%%\n"
    }
   }
  },
  {
   "cell_type": "markdown",
   "source": [
    "Оптимально разделить выборку по координатам на 8 кластеров. Сделаем это и посмотрим что получится."
   ],
   "metadata": {
    "collapsed": false,
    "pycharm": {
     "name": "#%% md\n"
    }
   }
  },
  {
   "cell_type": "code",
   "execution_count": null,
   "outputs": [],
   "source": [
    "kmean_classifier = make_pipeline(StandardScaler(), KMeans(n_clusters=8))\n",
    "pred = kmean_classifier.fit_predict(data_after_imputer[['long', 'lat', 'price']])\n",
    "\n",
    "fig = px.scatter(\n",
    "    x=x_axis,\n",
    "    y=y_axis,\n",
    "    color=pred,\n",
    "    title='Расположение объектов по координатам после классификации с помощью KMeans'\n",
    "    )\n",
    "\n",
    "fig.update_xaxes(\n",
    "    title='Долгота'\n",
    ")\n",
    "fig.update_yaxes(\n",
    "    title='Широта'\n",
    ")\n",
    "\n",
    "fig.show()"
   ],
   "metadata": {
    "collapsed": false,
    "pycharm": {
     "name": "#%%\n"
    }
   }
  },
  {
   "cell_type": "markdown",
   "source": [
    "Также посмотрим как данная классификация влияет на целевой признак и посмотрим, действительно ли там есть разница между классами"
   ],
   "metadata": {
    "collapsed": false,
    "pycharm": {
     "name": "#%% md\n"
    }
   }
  },
  {
   "cell_type": "code",
   "execution_count": null,
   "outputs": [],
   "source": [
    "fig = px.box(\n",
    "    x=pred,\n",
    "    y=data_after_imputer['price'],\n",
    "    title='Боксы цен по классам из KMeans')\n",
    "\n",
    "fig.update_xaxes(\n",
    "    title='Классы, полученные с помощью KMeans'\n",
    ")\n",
    "\n",
    "fig.update_yaxes(\n",
    "    title='Цены'\n",
    ")\n",
    "\n",
    "fig.show()"
   ],
   "metadata": {
    "collapsed": false,
    "pycharm": {
     "name": "#%%\n"
    }
   }
  },
  {
   "cell_type": "markdown",
   "source": [
    "Медианы цен почти во всех классах довольно сильно отличаются, есть вопросы к 1 и 3 классу, они выглядят довольно похожими. Но пока оставим как есть. Приаттачим полученные классы к датасету и разобъем его на обучающую и тестовую выборки."
   ],
   "metadata": {
    "collapsed": false,
    "pycharm": {
     "name": "#%% md\n"
    }
   }
  },
  {
   "cell_type": "code",
   "execution_count": null,
   "outputs": [],
   "source": [
    "# присоединяем классы к датасету\n",
    "data_after_imputer['geo_class'] = pred\n",
    "# отделяем фичи от таргета\n",
    "features = data_after_imputer.drop('price', axis=1)\n",
    "target = data_after_imputer['price']\n",
    "# разделяем выборки\n",
    "X, X_test, y, y_test = train_test_split(features, target, test_size=.25, random_state=25)"
   ],
   "metadata": {
    "collapsed": false,
    "pycharm": {
     "name": "#%%\n"
    }
   }
  },
  {
   "cell_type": "markdown",
   "source": [
    "Повторим шаги из бейзлайна"
   ],
   "metadata": {
    "collapsed": false,
    "pycharm": {
     "name": "#%% md\n"
    }
   }
  },
  {
   "cell_type": "code",
   "execution_count": null,
   "outputs": [],
   "source": [
    "lr = make_pipeline(StandardScaler(), LinearRegression())\n",
    "lr.fit(X, y)\n",
    "print(r2_score(y_test, lr.predict(X_test)))"
   ],
   "metadata": {
    "collapsed": false,
    "pycharm": {
     "name": "#%%\n"
    }
   }
  },
  {
   "cell_type": "code",
   "execution_count": null,
   "outputs": [],
   "source": [
    "feat_importances = pd.Series(lr[1].coef_, index=X.columns).sort_values(ascending=False)\n",
    "fig = px.bar(feat_importances, title='Наиболее значимые признаки для линейной регрессии')\n",
    "\n",
    "fig.update_layout(\n",
    "    showlegend=False\n",
    ")\n",
    "\n",
    "fig.update_xaxes(\n",
    "    title='Признак'\n",
    ")\n",
    "\n",
    "fig.update_yaxes(\n",
    "    title='Коэфициент важности'\n",
    ")\n",
    "\n",
    "fig.show()"
   ],
   "metadata": {
    "collapsed": false,
    "pycharm": {
     "name": "#%%\n"
    }
   }
  },
  {
   "cell_type": "markdown",
   "source": [
    "Ого! После очистки от выбросов и введения одного нового признака модель дает R2 = 0.71, при дефолтном бейслайне R2 = 0.11. Как ни странно, но общая площадь, количество спален и ванных комнат линейной регрессии вообще не важно. Что логично, она же не человек :) Попробуем модель CatBoostRegressor для решения этой задачи и подберем для нее параметры."
   ],
   "metadata": {
    "collapsed": false,
    "pycharm": {
     "name": "#%% md\n"
    }
   }
  },
  {
   "cell_type": "code",
   "execution_count": null,
   "outputs": [],
   "source": [
    "cbr = CatBoostRegressor(thread_count=-1, random_state=25)\n",
    "\n",
    "params = dict(\n",
    "    depth=[3, 5, 6, 8, 10],\n",
    "    nan_mode=['Min', 'Max'],\n",
    "    n_estimators=[100, 500, 1000, 1500, 2000]\n",
    ")\n",
    "\n",
    "cbr.randomized_search(params, X, y, cv=3, n_iter=10)"
   ],
   "metadata": {
    "collapsed": false,
    "pycharm": {
     "name": "#%%\n"
    }
   }
  },
  {
   "cell_type": "code",
   "execution_count": null,
   "outputs": [],
   "source": [
    "print(r2_score(y_test, cbr.predict(X_test)))"
   ],
   "metadata": {
    "collapsed": false,
    "pycharm": {
     "name": "#%%\n"
    }
   }
  },
  {
   "cell_type": "markdown",
   "source": [
    "Целевая метрика улучшилась еще на 18 пунктов. Catboost знает свое дело :)\n"
   ],
   "metadata": {
    "collapsed": false,
    "pycharm": {
     "name": "#%% md\n"
    }
   }
  },
  {
   "cell_type": "code",
   "execution_count": null,
   "outputs": [],
   "source": [
    "feat_importances = pd.Series(cbr.feature_importances_, index=X.columns).sort_values(ascending=False)\n",
    "\n",
    "fig = px.bar(feat_importances, title='Наиболее значимые признаки для CatBoostRegressor')\n",
    "\n",
    "fig.update_layout(\n",
    "    showlegend=False\n",
    ")\n",
    "\n",
    "fig.update_xaxes(\n",
    "    title='Признак'\n",
    ")\n",
    "\n",
    "fig.update_yaxes(\n",
    "    title='Значение'\n",
    ")\n",
    "\n",
    "fig.show()"
   ],
   "metadata": {
    "collapsed": false,
    "pycharm": {
     "name": "#%%\n"
    }
   }
  },
  {
   "cell_type": "markdown",
   "source": [
    "Наш целевой признак где-то по-середине, что тоже не плохо :)"
   ],
   "metadata": {
    "collapsed": false,
    "pycharm": {
     "name": "#%% md\n"
    }
   }
  },
  {
   "cell_type": "markdown",
   "source": [
    "Теперь отберем самые важные признаки для модели CBR и попробуем обучиться только на них. Посмотрим как это влияет на метрику. Отберем 6 самых важных признаков."
   ],
   "metadata": {
    "collapsed": false,
    "pycharm": {
     "name": "#%% md\n"
    }
   }
  },
  {
   "cell_type": "code",
   "execution_count": null,
   "outputs": [],
   "source": [
    "best_features = feat_importances.nlargest(6).index\n",
    "X_best_features = X[best_features]\n",
    "X_test_best_features = X_test[best_features]"
   ],
   "metadata": {
    "collapsed": false,
    "pycharm": {
     "name": "#%%\n"
    }
   }
  },
  {
   "cell_type": "code",
   "execution_count": null,
   "outputs": [],
   "source": [
    "cbr = CatBoostRegressor(thread_count=-1, random_state=25)\n",
    "\n",
    "params = dict(\n",
    "    depth=[3, 5, 6, 8, 10],\n",
    "    nan_mode=['Min', 'Max'],\n",
    "    n_estimators=[100, 500, 1000, 1500, 2000]\n",
    ")\n",
    "\n",
    "cbr.randomized_search(params, X_best_features, y, cv=3, n_iter=10)"
   ],
   "metadata": {
    "collapsed": false,
    "pycharm": {
     "name": "#%%\n"
    }
   }
  },
  {
   "cell_type": "markdown",
   "source": [
    "Из-за меньшего количества фич, обучение проходит гораздо быстрее. Сейчас посмотрим на качество."
   ],
   "metadata": {
    "collapsed": false,
    "pycharm": {
     "name": "#%% md\n"
    }
   }
  },
  {
   "cell_type": "code",
   "execution_count": null,
   "outputs": [],
   "source": [
    "print(r2_score(y_test, cbr.predict(X_test_best_features)))"
   ],
   "metadata": {
    "collapsed": false,
    "pycharm": {
     "name": "#%%\n"
    }
   }
  },
  {
   "cell_type": "markdown",
   "source": [
    "В нашем случае качество ухудшилось на 3 пункта после выделения важных признаков. Но попробуем все таки добиться аналогичного качества модели, при сокращении вычислительных мощностей для обучения путем отброса самых незначительных признаков. Отбросим 4 самых незначительных признака. И оценим модель."
   ],
   "metadata": {
    "collapsed": false,
    "pycharm": {
     "name": "#%% md\n"
    }
   }
  },
  {
   "cell_type": "code",
   "execution_count": null,
   "outputs": [],
   "source": [
    "features_without_worst = feat_importances[:len(feat_importances)-4].index\n",
    "X_without_worst = X[features_without_worst]\n",
    "X_test_without_worst = X_test[features_without_worst]\n",
    "\n",
    "cbr = CatBoostRegressor(thread_count=-1, random_state=25)\n",
    "\n",
    "params = dict(\n",
    "    depth=[3, 5, 6, 8, 10],\n",
    "    nan_mode=['Min', 'Max'],\n",
    "    n_estimators=[100, 500, 1000, 1500, 2000]\n",
    ")\n",
    "\n",
    "cbr.randomized_search(params, X_without_worst, y, cv=3, n_iter=10)"
   ],
   "metadata": {
    "collapsed": false,
    "pycharm": {
     "name": "#%%\n"
    }
   }
  },
  {
   "cell_type": "code",
   "execution_count": null,
   "outputs": [],
   "source": [
    "print(r2_score(y_test, cbr.predict(X_test_without_worst)))"
   ],
   "metadata": {
    "collapsed": false,
    "pycharm": {
     "name": "#%%\n"
    }
   }
  },
  {
   "cell_type": "markdown",
   "source": [
    "Чутка сэкономили вычислительные мощности, а также для этой модели можно не собирать целых 4 признака, а это может избавить всю систему в целом от нескольких процессов по сбору этих признаков в принципе, и как следствие меньше нужно объемов для хранения данных, меньше дебагов, работы и головных болей :)"
   ],
   "metadata": {
    "collapsed": false,
    "pycharm": {
     "name": "#%% md\n"
    }
   }
  },
  {
   "cell_type": "code",
   "execution_count": null,
   "outputs": [],
   "source": [
    "from sklearn.ensemble import IsolationForest\n",
    "\n",
    "i_model = IsolationForest()\n",
    "i_model.fit(data_after_imputer)\n",
    "i_pred = i_model.predict(data_after_imputer)"
   ],
   "metadata": {
    "collapsed": false,
    "pycharm": {
     "name": "#%%\n"
    }
   }
  },
  {
   "cell_type": "code",
   "execution_count": null,
   "outputs": [],
   "source": [
    "i_pred = pd.Series(i_pred, index=data_after_imputer.index)\n",
    "isolated = data_after_imputer.drop(i_pred[i_pred < 0].index)"
   ],
   "metadata": {
    "collapsed": false,
    "pycharm": {
     "name": "#%%\n"
    }
   }
  },
  {
   "cell_type": "code",
   "execution_count": null,
   "outputs": [],
   "source": [
    "sns.pairplot(isolated[CONTINUES_COLS])"
   ],
   "metadata": {
    "collapsed": false,
    "pycharm": {
     "name": "#%%\n"
    }
   }
  },
  {
   "cell_type": "code",
   "execution_count": null,
   "outputs": [],
   "source": [
    "px.scatter_matrix(data[CONTINUES_COLS], color='price')"
   ],
   "metadata": {
    "collapsed": false,
    "pycharm": {
     "name": "#%%\n"
    }
   }
  },
  {
   "cell_type": "code",
   "execution_count": null,
   "outputs": [],
   "source": [
    "px.scatter_matrix(isolated[CONTINUES_COLS], color='price')"
   ],
   "metadata": {
    "collapsed": false,
    "pycharm": {
     "name": "#%%\n"
    }
   }
  },
  {
   "cell_type": "code",
   "execution_count": null,
   "outputs": [],
   "source": [
    "# вспомним что за данные у нас вообще есть\n",
    "data.head()"
   ],
   "metadata": {
    "collapsed": false,
    "pycharm": {
     "name": "#%%\n"
    }
   }
  },
  {
   "cell_type": "code",
   "execution_count": null,
   "outputs": [],
   "source": [
    "print(f\"Время выполнения проекта: {time() - start_time}\")"
   ],
   "metadata": {
    "collapsed": false,
    "pycharm": {
     "name": "#%%\n"
    }
   }
  },
  {
   "cell_type": "code",
   "execution_count": null,
   "outputs": [],
   "source": [
    "# вспомним что за данные у нас вообще есть\n",
    "data.head()"
   ],
   "metadata": {
    "collapsed": false,
    "pycharm": {
     "name": "#%%\n"
    }
   }
  },
  {
   "cell_type": "code",
   "execution_count": null,
   "outputs": [],
   "source": [
    "print(f\"Время выполнения проекта: {time() - start_time}\")"
   ],
   "metadata": {
    "collapsed": false,
    "pycharm": {
     "name": "#%%\n"
    }
   }
  },
  {
   "cell_type": "code",
   "execution_count": 36,
   "outputs": [
    {
     "data": {
      "text/plain": "         price  bedrooms  bathrooms  sqft_living  sqft_lot  floors  \\\n1012  423000.0      40.0       1.75       1940.0    6909.0     1.0   \n1013  426000.0       4.0       2.50       2800.0    8494.0     2.0   \n1014  551000.0       3.0       2.50       2830.0    5802.0     2.0   \n1015  210000.0       4.0       1.75       2180.0   28710.0     1.0   \n1016  785000.0       NaN       3.50       3070.0    4684.0     2.0   \n\n      waterfront  view  condition  grade  sqft_above  sqft_basement  yr_built  \\\n1012         0.0   0.0        4.0    7.0       970.0          970.0    1941.0   \n1013         0.0   0.0        3.0    8.0      2800.0            0.0    2004.0   \n1014         0.0   0.0        3.0    9.0         NaN            0.0    2001.0   \n1015         0.0   0.0        3.0    8.0      1180.0         1000.0    1950.0   \n1016         0.0   0.0        3.0   10.0         NaN          880.0    2009.0   \n\n      yr_renovated  zipcode      lat     long  sqft_living15  sqft_lot15  \n1012           0.0  98133.0  47.7108 -122.352         1460.0      6906.0  \n1013           0.0  98038.0  47.3521 -122.009            NaN      8494.0  \n1014           0.0  98028.0  47.7605 -122.234         2500.0      5788.0  \n1015           0.0  98198.0  47.4050 -122.288         2180.0     28710.0  \n1016           0.0  98027.0  47.5316 -122.076         2290.0      2664.0  ",
      "text/html": "<div>\n<style scoped>\n    .dataframe tbody tr th:only-of-type {\n        vertical-align: middle;\n    }\n\n    .dataframe tbody tr th {\n        vertical-align: top;\n    }\n\n    .dataframe thead th {\n        text-align: right;\n    }\n</style>\n<table border=\"1\" class=\"dataframe\">\n  <thead>\n    <tr style=\"text-align: right;\">\n      <th></th>\n      <th>price</th>\n      <th>bedrooms</th>\n      <th>bathrooms</th>\n      <th>sqft_living</th>\n      <th>sqft_lot</th>\n      <th>floors</th>\n      <th>waterfront</th>\n      <th>view</th>\n      <th>condition</th>\n      <th>grade</th>\n      <th>sqft_above</th>\n      <th>sqft_basement</th>\n      <th>yr_built</th>\n      <th>yr_renovated</th>\n      <th>zipcode</th>\n      <th>lat</th>\n      <th>long</th>\n      <th>sqft_living15</th>\n      <th>sqft_lot15</th>\n    </tr>\n  </thead>\n  <tbody>\n    <tr>\n      <th>1012</th>\n      <td>423000.0</td>\n      <td>40.0</td>\n      <td>1.75</td>\n      <td>1940.0</td>\n      <td>6909.0</td>\n      <td>1.0</td>\n      <td>0.0</td>\n      <td>0.0</td>\n      <td>4.0</td>\n      <td>7.0</td>\n      <td>970.0</td>\n      <td>970.0</td>\n      <td>1941.0</td>\n      <td>0.0</td>\n      <td>98133.0</td>\n      <td>47.7108</td>\n      <td>-122.352</td>\n      <td>1460.0</td>\n      <td>6906.0</td>\n    </tr>\n    <tr>\n      <th>1013</th>\n      <td>426000.0</td>\n      <td>4.0</td>\n      <td>2.50</td>\n      <td>2800.0</td>\n      <td>8494.0</td>\n      <td>2.0</td>\n      <td>0.0</td>\n      <td>0.0</td>\n      <td>3.0</td>\n      <td>8.0</td>\n      <td>2800.0</td>\n      <td>0.0</td>\n      <td>2004.0</td>\n      <td>0.0</td>\n      <td>98038.0</td>\n      <td>47.3521</td>\n      <td>-122.009</td>\n      <td>NaN</td>\n      <td>8494.0</td>\n    </tr>\n    <tr>\n      <th>1014</th>\n      <td>551000.0</td>\n      <td>3.0</td>\n      <td>2.50</td>\n      <td>2830.0</td>\n      <td>5802.0</td>\n      <td>2.0</td>\n      <td>0.0</td>\n      <td>0.0</td>\n      <td>3.0</td>\n      <td>9.0</td>\n      <td>NaN</td>\n      <td>0.0</td>\n      <td>2001.0</td>\n      <td>0.0</td>\n      <td>98028.0</td>\n      <td>47.7605</td>\n      <td>-122.234</td>\n      <td>2500.0</td>\n      <td>5788.0</td>\n    </tr>\n    <tr>\n      <th>1015</th>\n      <td>210000.0</td>\n      <td>4.0</td>\n      <td>1.75</td>\n      <td>2180.0</td>\n      <td>28710.0</td>\n      <td>1.0</td>\n      <td>0.0</td>\n      <td>0.0</td>\n      <td>3.0</td>\n      <td>8.0</td>\n      <td>1180.0</td>\n      <td>1000.0</td>\n      <td>1950.0</td>\n      <td>0.0</td>\n      <td>98198.0</td>\n      <td>47.4050</td>\n      <td>-122.288</td>\n      <td>2180.0</td>\n      <td>28710.0</td>\n    </tr>\n    <tr>\n      <th>1016</th>\n      <td>785000.0</td>\n      <td>NaN</td>\n      <td>3.50</td>\n      <td>3070.0</td>\n      <td>4684.0</td>\n      <td>2.0</td>\n      <td>0.0</td>\n      <td>0.0</td>\n      <td>3.0</td>\n      <td>10.0</td>\n      <td>NaN</td>\n      <td>880.0</td>\n      <td>2009.0</td>\n      <td>0.0</td>\n      <td>98027.0</td>\n      <td>47.5316</td>\n      <td>-122.076</td>\n      <td>2290.0</td>\n      <td>2664.0</td>\n    </tr>\n  </tbody>\n</table>\n</div>"
     },
     "execution_count": 36,
     "metadata": {},
     "output_type": "execute_result"
    }
   ],
   "source": [
    "# вспомним что за данные у нас вообще есть\n",
    "data.head()"
   ],
   "metadata": {
    "collapsed": false,
    "pycharm": {
     "name": "#%%\n"
    }
   }
  },
  {
   "cell_type": "code",
   "execution_count": 37,
   "outputs": [
    {
     "name": "stdout",
     "output_type": "stream",
     "text": [
      "Время выполнения проекта: 394.2840087413788\n"
     ]
    }
   ],
   "source": [
    "print(f\"Время выполнения проекта: {time() - start_time}\")"
   ],
   "metadata": {
    "collapsed": false,
    "pycharm": {
     "name": "#%%\n"
    }
   }
  }
 ],
 "metadata": {
  "kernelspec": {
   "display_name": "Python 3",
   "language": "python",
   "name": "python3"
  },
  "language_info": {
   "codemirror_mode": {
    "name": "ipython",
    "version": 2
   },
   "file_extension": ".py",
   "mimetype": "text/x-python",
   "name": "python",
   "nbconvert_exporter": "python",
   "pygments_lexer": "ipython2",
   "version": "2.7.6"
  }
 },
 "nbformat": 4,
 "nbformat_minor": 0
}