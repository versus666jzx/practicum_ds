{
 "cells": [
  {
   "cell_type": "code",
   "execution_count": 1,
   "metadata": {
    "collapsed": true,
    "pycharm": {
     "name": "#%%\n"
    }
   },
   "outputs": [],
   "source": [
    "import numpy as np\n",
    "import pandas as pd\n",
    "\n",
    "import plotly.express as px\n",
    "import plotly.graph_objects as go\n",
    "import plotly.figure_factory as ff"
   ]
  },
  {
   "cell_type": "markdown",
   "source": [
    "Шаг 1. Загрузим данные и посмотрим на данные"
   ],
   "metadata": {
    "collapsed": false,
    "pycharm": {
     "name": "#%% md\n"
    }
   }
  },
  {
   "cell_type": "code",
   "execution_count": 3,
   "outputs": [],
   "source": [
    "try:\n",
    "    contract = pd.read_csv('../data/contract.csv')\n",
    "    internet = pd.read_csv('../data/internet.csv')\n",
    "    personal = pd.read_csv('../data/personal.csv')\n",
    "    phone = pd.read_csv('../data/phone.csv')\n",
    "except:\n",
    "    contract = pd.read_csv('/datasets/final_provider/contract.csv')\n",
    "    internet = pd.read_csv('/datasets/final_provider/internet.csv')\n",
    "    personal = pd.read_csv('/datasets/final_provider/personal.csv')\n",
    "    phone = pd.read_csv('/datasets/final_provider/phone.csv')\n",
    "\n",
    "data_list = [contract, internet, personal, phone]"
   ],
   "metadata": {
    "collapsed": false,
    "pycharm": {
     "name": "#%%\n"
    }
   }
  },
  {
   "cell_type": "code",
   "execution_count": 7,
   "outputs": [
    {
     "name": "stdout",
     "output_type": "stream",
     "text": [
      "============================================================\n",
      "<class 'pandas.core.frame.DataFrame'>\n",
      "RangeIndex: 7043 entries, 0 to 7042\n",
      "Data columns (total 8 columns):\n",
      " #   Column            Non-Null Count  Dtype  \n",
      "---  ------            --------------  -----  \n",
      " 0   customerID        7043 non-null   object \n",
      " 1   BeginDate         7043 non-null   object \n",
      " 2   EndDate           7043 non-null   object \n",
      " 3   Type              7043 non-null   object \n",
      " 4   PaperlessBilling  7043 non-null   object \n",
      " 5   PaymentMethod     7043 non-null   object \n",
      " 6   MonthlyCharges    7043 non-null   float64\n",
      " 7   TotalCharges      7043 non-null   object \n",
      "dtypes: float64(1), object(7)\n",
      "memory usage: 440.3+ KB\n",
      "============================================================\n",
      "<class 'pandas.core.frame.DataFrame'>\n",
      "RangeIndex: 5517 entries, 0 to 5516\n",
      "Data columns (total 8 columns):\n",
      " #   Column            Non-Null Count  Dtype \n",
      "---  ------            --------------  ----- \n",
      " 0   customerID        5517 non-null   object\n",
      " 1   InternetService   5517 non-null   object\n",
      " 2   OnlineSecurity    5517 non-null   object\n",
      " 3   OnlineBackup      5517 non-null   object\n",
      " 4   DeviceProtection  5517 non-null   object\n",
      " 5   TechSupport       5517 non-null   object\n",
      " 6   StreamingTV       5517 non-null   object\n",
      " 7   StreamingMovies   5517 non-null   object\n",
      "dtypes: object(8)\n",
      "memory usage: 344.9+ KB\n",
      "============================================================\n",
      "<class 'pandas.core.frame.DataFrame'>\n",
      "RangeIndex: 7043 entries, 0 to 7042\n",
      "Data columns (total 5 columns):\n",
      " #   Column         Non-Null Count  Dtype \n",
      "---  ------         --------------  ----- \n",
      " 0   customerID     7043 non-null   object\n",
      " 1   gender         7043 non-null   object\n",
      " 2   SeniorCitizen  7043 non-null   int64 \n",
      " 3   Partner        7043 non-null   object\n",
      " 4   Dependents     7043 non-null   object\n",
      "dtypes: int64(1), object(4)\n",
      "memory usage: 275.2+ KB\n",
      "============================================================\n",
      "<class 'pandas.core.frame.DataFrame'>\n",
      "RangeIndex: 6361 entries, 0 to 6360\n",
      "Data columns (total 2 columns):\n",
      " #   Column         Non-Null Count  Dtype \n",
      "---  ------         --------------  ----- \n",
      " 0   customerID     6361 non-null   object\n",
      " 1   MultipleLines  6361 non-null   object\n",
      "dtypes: object(2)\n",
      "memory usage: 99.5+ KB\n"
     ]
    }
   ],
   "source": [
    "for data in data_list:\n",
    "    print('='*60)\n",
    "    data.info()"
   ],
   "metadata": {
    "collapsed": false,
    "pycharm": {
     "name": "#%%\n"
    }
   }
  },
  {
   "cell_type": "markdown",
   "source": [
    "\n",
    "В данных отсутствуют пропуски."
   ],
   "metadata": {
    "collapsed": false,
    "pycharm": {
     "name": "#%% md\n"
    }
   }
  },
  {
   "cell_type": "code",
   "execution_count": 12,
   "outputs": [
    {
     "data": {
      "text/plain": "'============================================================'"
     },
     "metadata": {},
     "output_type": "display_data"
    },
    {
     "data": {
      "text/plain": "      customerID   BeginDate              EndDate            Type  \\\n4648  9717-QEBGU  2019-12-01                   No  Month-to-month   \n2504  8433-WXGNA  2019-11-01  2020-01-01 00:00:00  Month-to-month   \n5617  0816-TSPHQ  2019-12-01                   No  Month-to-month   \n997   1374-DMZUI  2019-09-01  2020-01-01 00:00:00  Month-to-month   \n33    7310-EGVHZ  2020-01-01                   No  Month-to-month   \n3255  4827-LTQRJ  2014-08-01                   No        One year   \n2741  1724-BQUHA  2019-05-01  2019-10-01 00:00:00  Month-to-month   \n5776  4291-TPNFG  2014-02-01                   No        Two year   \n974   0604-THJFP  2015-03-01                   No        Two year   \n1742  5318-IXUZF  2019-10-01  2019-12-01 00:00:00  Month-to-month   \n\n     PaperlessBilling              PaymentMethod  MonthlyCharges TotalCharges  \n4648              Yes           Electronic check           70.30          144  \n2504              Yes           Electronic check           75.70        189.2  \n5617               No               Mailed check           20.75         44.2  \n997               Yes           Electronic check           94.30       424.45  \n33                 No  Bank transfer (automatic)           20.20         20.2  \n3255              Yes    Credit card (automatic)          110.60      7210.85  \n2741              Yes           Electronic check           89.50        477.7  \n5776              Yes  Bank transfer (automatic)           82.30      5980.55  \n974               Yes    Credit card (automatic)           75.95      4542.35  \n1742              Yes  Bank transfer (automatic)           87.15       183.75  ",
      "text/html": "<div>\n<style scoped>\n    .dataframe tbody tr th:only-of-type {\n        vertical-align: middle;\n    }\n\n    .dataframe tbody tr th {\n        vertical-align: top;\n    }\n\n    .dataframe thead th {\n        text-align: right;\n    }\n</style>\n<table border=\"1\" class=\"dataframe\">\n  <thead>\n    <tr style=\"text-align: right;\">\n      <th></th>\n      <th>customerID</th>\n      <th>BeginDate</th>\n      <th>EndDate</th>\n      <th>Type</th>\n      <th>PaperlessBilling</th>\n      <th>PaymentMethod</th>\n      <th>MonthlyCharges</th>\n      <th>TotalCharges</th>\n    </tr>\n  </thead>\n  <tbody>\n    <tr>\n      <th>4648</th>\n      <td>9717-QEBGU</td>\n      <td>2019-12-01</td>\n      <td>No</td>\n      <td>Month-to-month</td>\n      <td>Yes</td>\n      <td>Electronic check</td>\n      <td>70.30</td>\n      <td>144</td>\n    </tr>\n    <tr>\n      <th>2504</th>\n      <td>8433-WXGNA</td>\n      <td>2019-11-01</td>\n      <td>2020-01-01 00:00:00</td>\n      <td>Month-to-month</td>\n      <td>Yes</td>\n      <td>Electronic check</td>\n      <td>75.70</td>\n      <td>189.2</td>\n    </tr>\n    <tr>\n      <th>5617</th>\n      <td>0816-TSPHQ</td>\n      <td>2019-12-01</td>\n      <td>No</td>\n      <td>Month-to-month</td>\n      <td>No</td>\n      <td>Mailed check</td>\n      <td>20.75</td>\n      <td>44.2</td>\n    </tr>\n    <tr>\n      <th>997</th>\n      <td>1374-DMZUI</td>\n      <td>2019-09-01</td>\n      <td>2020-01-01 00:00:00</td>\n      <td>Month-to-month</td>\n      <td>Yes</td>\n      <td>Electronic check</td>\n      <td>94.30</td>\n      <td>424.45</td>\n    </tr>\n    <tr>\n      <th>33</th>\n      <td>7310-EGVHZ</td>\n      <td>2020-01-01</td>\n      <td>No</td>\n      <td>Month-to-month</td>\n      <td>No</td>\n      <td>Bank transfer (automatic)</td>\n      <td>20.20</td>\n      <td>20.2</td>\n    </tr>\n    <tr>\n      <th>3255</th>\n      <td>4827-LTQRJ</td>\n      <td>2014-08-01</td>\n      <td>No</td>\n      <td>One year</td>\n      <td>Yes</td>\n      <td>Credit card (automatic)</td>\n      <td>110.60</td>\n      <td>7210.85</td>\n    </tr>\n    <tr>\n      <th>2741</th>\n      <td>1724-BQUHA</td>\n      <td>2019-05-01</td>\n      <td>2019-10-01 00:00:00</td>\n      <td>Month-to-month</td>\n      <td>Yes</td>\n      <td>Electronic check</td>\n      <td>89.50</td>\n      <td>477.7</td>\n    </tr>\n    <tr>\n      <th>5776</th>\n      <td>4291-TPNFG</td>\n      <td>2014-02-01</td>\n      <td>No</td>\n      <td>Two year</td>\n      <td>Yes</td>\n      <td>Bank transfer (automatic)</td>\n      <td>82.30</td>\n      <td>5980.55</td>\n    </tr>\n    <tr>\n      <th>974</th>\n      <td>0604-THJFP</td>\n      <td>2015-03-01</td>\n      <td>No</td>\n      <td>Two year</td>\n      <td>Yes</td>\n      <td>Credit card (automatic)</td>\n      <td>75.95</td>\n      <td>4542.35</td>\n    </tr>\n    <tr>\n      <th>1742</th>\n      <td>5318-IXUZF</td>\n      <td>2019-10-01</td>\n      <td>2019-12-01 00:00:00</td>\n      <td>Month-to-month</td>\n      <td>Yes</td>\n      <td>Bank transfer (automatic)</td>\n      <td>87.15</td>\n      <td>183.75</td>\n    </tr>\n  </tbody>\n</table>\n</div>"
     },
     "metadata": {},
     "output_type": "display_data"
    },
    {
     "data": {
      "text/plain": "'============================================================'"
     },
     "metadata": {},
     "output_type": "display_data"
    },
    {
     "data": {
      "text/plain": "      customerID InternetService OnlineSecurity OnlineBackup DeviceProtection  \\\n851   7030-NJVDP     Fiber optic            Yes           No               No   \n1402  2307-FYNNL     Fiber optic            Yes           No              Yes   \n3672  5760-FXFVO     Fiber optic            Yes          Yes               No   \n4169  5747-PMBSQ     Fiber optic             No          Yes              Yes   \n4967  6856-RAURS     Fiber optic             No           No               No   \n55    0526-SXDJP             DSL            Yes          Yes              Yes   \n1429  2085-BOJKI     Fiber optic             No           No              Yes   \n3022  4817-VYYWS     Fiber optic             No          Yes               No   \n4729  5349-IECLD     Fiber optic             No           No              Yes   \n5174  4662-EKDPQ             DSL             No           No               No   \n\n     TechSupport StreamingTV StreamingMovies  \n851          Yes          No             Yes  \n1402         Yes         Yes             Yes  \n3672          No          No              No  \n4169         Yes         Yes              No  \n4967          No          No              No  \n55            No          No              No  \n1429          No         Yes             Yes  \n3022          No         Yes             Yes  \n4729          No         Yes             Yes  \n5174          No          No             Yes  ",
      "text/html": "<div>\n<style scoped>\n    .dataframe tbody tr th:only-of-type {\n        vertical-align: middle;\n    }\n\n    .dataframe tbody tr th {\n        vertical-align: top;\n    }\n\n    .dataframe thead th {\n        text-align: right;\n    }\n</style>\n<table border=\"1\" class=\"dataframe\">\n  <thead>\n    <tr style=\"text-align: right;\">\n      <th></th>\n      <th>customerID</th>\n      <th>InternetService</th>\n      <th>OnlineSecurity</th>\n      <th>OnlineBackup</th>\n      <th>DeviceProtection</th>\n      <th>TechSupport</th>\n      <th>StreamingTV</th>\n      <th>StreamingMovies</th>\n    </tr>\n  </thead>\n  <tbody>\n    <tr>\n      <th>851</th>\n      <td>7030-NJVDP</td>\n      <td>Fiber optic</td>\n      <td>Yes</td>\n      <td>No</td>\n      <td>No</td>\n      <td>Yes</td>\n      <td>No</td>\n      <td>Yes</td>\n    </tr>\n    <tr>\n      <th>1402</th>\n      <td>2307-FYNNL</td>\n      <td>Fiber optic</td>\n      <td>Yes</td>\n      <td>No</td>\n      <td>Yes</td>\n      <td>Yes</td>\n      <td>Yes</td>\n      <td>Yes</td>\n    </tr>\n    <tr>\n      <th>3672</th>\n      <td>5760-FXFVO</td>\n      <td>Fiber optic</td>\n      <td>Yes</td>\n      <td>Yes</td>\n      <td>No</td>\n      <td>No</td>\n      <td>No</td>\n      <td>No</td>\n    </tr>\n    <tr>\n      <th>4169</th>\n      <td>5747-PMBSQ</td>\n      <td>Fiber optic</td>\n      <td>No</td>\n      <td>Yes</td>\n      <td>Yes</td>\n      <td>Yes</td>\n      <td>Yes</td>\n      <td>No</td>\n    </tr>\n    <tr>\n      <th>4967</th>\n      <td>6856-RAURS</td>\n      <td>Fiber optic</td>\n      <td>No</td>\n      <td>No</td>\n      <td>No</td>\n      <td>No</td>\n      <td>No</td>\n      <td>No</td>\n    </tr>\n    <tr>\n      <th>55</th>\n      <td>0526-SXDJP</td>\n      <td>DSL</td>\n      <td>Yes</td>\n      <td>Yes</td>\n      <td>Yes</td>\n      <td>No</td>\n      <td>No</td>\n      <td>No</td>\n    </tr>\n    <tr>\n      <th>1429</th>\n      <td>2085-BOJKI</td>\n      <td>Fiber optic</td>\n      <td>No</td>\n      <td>No</td>\n      <td>Yes</td>\n      <td>No</td>\n      <td>Yes</td>\n      <td>Yes</td>\n    </tr>\n    <tr>\n      <th>3022</th>\n      <td>4817-VYYWS</td>\n      <td>Fiber optic</td>\n      <td>No</td>\n      <td>Yes</td>\n      <td>No</td>\n      <td>No</td>\n      <td>Yes</td>\n      <td>Yes</td>\n    </tr>\n    <tr>\n      <th>4729</th>\n      <td>5349-IECLD</td>\n      <td>Fiber optic</td>\n      <td>No</td>\n      <td>No</td>\n      <td>Yes</td>\n      <td>No</td>\n      <td>Yes</td>\n      <td>Yes</td>\n    </tr>\n    <tr>\n      <th>5174</th>\n      <td>4662-EKDPQ</td>\n      <td>DSL</td>\n      <td>No</td>\n      <td>No</td>\n      <td>No</td>\n      <td>No</td>\n      <td>No</td>\n      <td>Yes</td>\n    </tr>\n  </tbody>\n</table>\n</div>"
     },
     "metadata": {},
     "output_type": "display_data"
    },
    {
     "data": {
      "text/plain": "'============================================================'"
     },
     "metadata": {},
     "output_type": "display_data"
    },
    {
     "data": {
      "text/plain": "      customerID  gender  SeniorCitizen Partner Dependents\n3437  2746-DIJLO  Female              0      No         No\n2708  8510-AWCXC  Female              1      No         No\n2598  8325-QRPZR  Female              0      No         No\n201   8544-GOQSH  Female              0      No         No\n5910  0856-NAOES    Male              0      No         No\n1979  2208-MPXIO  Female              0     Yes        Yes\n3295  4900-MSOMT  Female              0     Yes        Yes\n4884  2359-KLTEK  Female              0     Yes        Yes\n6480  0939-EREMR  Female              0      No        Yes\n2683  8128-YVJRG  Female              0      No         No",
      "text/html": "<div>\n<style scoped>\n    .dataframe tbody tr th:only-of-type {\n        vertical-align: middle;\n    }\n\n    .dataframe tbody tr th {\n        vertical-align: top;\n    }\n\n    .dataframe thead th {\n        text-align: right;\n    }\n</style>\n<table border=\"1\" class=\"dataframe\">\n  <thead>\n    <tr style=\"text-align: right;\">\n      <th></th>\n      <th>customerID</th>\n      <th>gender</th>\n      <th>SeniorCitizen</th>\n      <th>Partner</th>\n      <th>Dependents</th>\n    </tr>\n  </thead>\n  <tbody>\n    <tr>\n      <th>3437</th>\n      <td>2746-DIJLO</td>\n      <td>Female</td>\n      <td>0</td>\n      <td>No</td>\n      <td>No</td>\n    </tr>\n    <tr>\n      <th>2708</th>\n      <td>8510-AWCXC</td>\n      <td>Female</td>\n      <td>1</td>\n      <td>No</td>\n      <td>No</td>\n    </tr>\n    <tr>\n      <th>2598</th>\n      <td>8325-QRPZR</td>\n      <td>Female</td>\n      <td>0</td>\n      <td>No</td>\n      <td>No</td>\n    </tr>\n    <tr>\n      <th>201</th>\n      <td>8544-GOQSH</td>\n      <td>Female</td>\n      <td>0</td>\n      <td>No</td>\n      <td>No</td>\n    </tr>\n    <tr>\n      <th>5910</th>\n      <td>0856-NAOES</td>\n      <td>Male</td>\n      <td>0</td>\n      <td>No</td>\n      <td>No</td>\n    </tr>\n    <tr>\n      <th>1979</th>\n      <td>2208-MPXIO</td>\n      <td>Female</td>\n      <td>0</td>\n      <td>Yes</td>\n      <td>Yes</td>\n    </tr>\n    <tr>\n      <th>3295</th>\n      <td>4900-MSOMT</td>\n      <td>Female</td>\n      <td>0</td>\n      <td>Yes</td>\n      <td>Yes</td>\n    </tr>\n    <tr>\n      <th>4884</th>\n      <td>2359-KLTEK</td>\n      <td>Female</td>\n      <td>0</td>\n      <td>Yes</td>\n      <td>Yes</td>\n    </tr>\n    <tr>\n      <th>6480</th>\n      <td>0939-EREMR</td>\n      <td>Female</td>\n      <td>0</td>\n      <td>No</td>\n      <td>Yes</td>\n    </tr>\n    <tr>\n      <th>2683</th>\n      <td>8128-YVJRG</td>\n      <td>Female</td>\n      <td>0</td>\n      <td>No</td>\n      <td>No</td>\n    </tr>\n  </tbody>\n</table>\n</div>"
     },
     "metadata": {},
     "output_type": "display_data"
    },
    {
     "data": {
      "text/plain": "'============================================================'"
     },
     "metadata": {},
     "output_type": "display_data"
    },
    {
     "data": {
      "text/plain": "      customerID MultipleLines\n3787  6248-BSHKG            No\n438   6778-YSNIH            No\n596   4464-JCOLN            No\n61    3410-YOQBQ            No\n3055  3865-ZFZIB            No\n5195  9648-BCHKM           Yes\n3005  6061-PQHMK            No\n4794  9479-HYNYL            No\n6211  5906-CVLHP            No\n2860  4236-XPXAV            No",
      "text/html": "<div>\n<style scoped>\n    .dataframe tbody tr th:only-of-type {\n        vertical-align: middle;\n    }\n\n    .dataframe tbody tr th {\n        vertical-align: top;\n    }\n\n    .dataframe thead th {\n        text-align: right;\n    }\n</style>\n<table border=\"1\" class=\"dataframe\">\n  <thead>\n    <tr style=\"text-align: right;\">\n      <th></th>\n      <th>customerID</th>\n      <th>MultipleLines</th>\n    </tr>\n  </thead>\n  <tbody>\n    <tr>\n      <th>3787</th>\n      <td>6248-BSHKG</td>\n      <td>No</td>\n    </tr>\n    <tr>\n      <th>438</th>\n      <td>6778-YSNIH</td>\n      <td>No</td>\n    </tr>\n    <tr>\n      <th>596</th>\n      <td>4464-JCOLN</td>\n      <td>No</td>\n    </tr>\n    <tr>\n      <th>61</th>\n      <td>3410-YOQBQ</td>\n      <td>No</td>\n    </tr>\n    <tr>\n      <th>3055</th>\n      <td>3865-ZFZIB</td>\n      <td>No</td>\n    </tr>\n    <tr>\n      <th>5195</th>\n      <td>9648-BCHKM</td>\n      <td>Yes</td>\n    </tr>\n    <tr>\n      <th>3005</th>\n      <td>6061-PQHMK</td>\n      <td>No</td>\n    </tr>\n    <tr>\n      <th>4794</th>\n      <td>9479-HYNYL</td>\n      <td>No</td>\n    </tr>\n    <tr>\n      <th>6211</th>\n      <td>5906-CVLHP</td>\n      <td>No</td>\n    </tr>\n    <tr>\n      <th>2860</th>\n      <td>4236-XPXAV</td>\n      <td>No</td>\n    </tr>\n  </tbody>\n</table>\n</div>"
     },
     "metadata": {},
     "output_type": "display_data"
    }
   ],
   "source": [
    "for data in data_list:\n",
    "    display('='*60)\n",
    "    display(data.sample(10))"
   ],
   "metadata": {
    "collapsed": false,
    "pycharm": {
     "name": "#%%\n"
    }
   }
  }
 ],
 "metadata": {
  "kernelspec": {
   "display_name": "Python 3",
   "language": "python",
   "name": "python3"
  },
  "language_info": {
   "codemirror_mode": {
    "name": "ipython",
    "version": 2
   },
   "file_extension": ".py",
   "mimetype": "text/x-python",
   "name": "python",
   "nbconvert_exporter": "python",
   "pygments_lexer": "ipython2",
   "version": "2.7.6"
  }
 },
 "nbformat": 4,
 "nbformat_minor": 0
}