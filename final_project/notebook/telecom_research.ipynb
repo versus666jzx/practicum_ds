{
 "cells": [
  {
   "cell_type": "markdown",
   "source": [
    "Загрузим необходимые библиотеки"
   ],
   "metadata": {
    "collapsed": false,
    "pycharm": {
     "name": "#%% md\n"
    }
   }
  },
  {
   "cell_type": "code",
   "execution_count": 25,
   "metadata": {
    "collapsed": true,
    "pycharm": {
     "name": "#%%\n"
    }
   },
   "outputs": [],
   "source": [
    "import pandas as pd\n",
    "\n",
    "import plotly.express as px\n",
    "\n",
    "from sklearn.preprocessing import LabelEncoder"
   ]
  },
  {
   "cell_type": "markdown",
   "source": [
    "Загрузим данные и посмотрим на данные"
   ],
   "metadata": {
    "collapsed": false,
    "pycharm": {
     "name": "#%% md\n"
    }
   }
  },
  {
   "cell_type": "code",
   "execution_count": 13,
   "outputs": [],
   "source": [
    "try:\n",
    "    contract = pd.read_csv('../data/contract.csv')\n",
    "    internet = pd.read_csv('../data/internet.csv')\n",
    "    personal = pd.read_csv('../data/personal.csv')\n",
    "    phone = pd.read_csv('../data/phone.csv')\n",
    "except:\n",
    "    contract = pd.read_csv('/datasets/final_provider/contract.csv')\n",
    "    internet = pd.read_csv('/datasets/final_provider/internet.csv')\n",
    "    personal = pd.read_csv('/datasets/final_provider/personal.csv')\n",
    "    phone = pd.read_csv('/datasets/final_provider/phone.csv')\n",
    "\n",
    "# зададим имена датасетам и создадим список с табличками для удобства\n",
    "contract.name = 'contract_data'\n",
    "internet.name = 'internet_data'\n",
    "personal.name = 'personal_data'\n",
    "phone.name = 'phone_data'\n",
    "\n",
    "data_list = [contract, internet, personal, phone]"
   ],
   "metadata": {
    "collapsed": false,
    "pycharm": {
     "name": "#%%\n"
    }
   }
  },
  {
   "cell_type": "code",
   "execution_count": 14,
   "outputs": [
    {
     "name": "stdout",
     "output_type": "stream",
     "text": [
      "============================== contract_data ==============================\n",
      "<class 'pandas.core.frame.DataFrame'>\n",
      "RangeIndex: 7043 entries, 0 to 7042\n",
      "Data columns (total 8 columns):\n",
      " #   Column            Non-Null Count  Dtype  \n",
      "---  ------            --------------  -----  \n",
      " 0   customerID        7043 non-null   object \n",
      " 1   BeginDate         7043 non-null   object \n",
      " 2   EndDate           7043 non-null   object \n",
      " 3   Type              7043 non-null   object \n",
      " 4   PaperlessBilling  7043 non-null   object \n",
      " 5   PaymentMethod     7043 non-null   object \n",
      " 6   MonthlyCharges    7043 non-null   float64\n",
      " 7   TotalCharges      7043 non-null   object \n",
      "dtypes: float64(1), object(7)\n",
      "memory usage: 440.3+ KB\n",
      "============================== internet_data ==============================\n",
      "<class 'pandas.core.frame.DataFrame'>\n",
      "RangeIndex: 5517 entries, 0 to 5516\n",
      "Data columns (total 8 columns):\n",
      " #   Column            Non-Null Count  Dtype \n",
      "---  ------            --------------  ----- \n",
      " 0   customerID        5517 non-null   object\n",
      " 1   InternetService   5517 non-null   object\n",
      " 2   OnlineSecurity    5517 non-null   object\n",
      " 3   OnlineBackup      5517 non-null   object\n",
      " 4   DeviceProtection  5517 non-null   object\n",
      " 5   TechSupport       5517 non-null   object\n",
      " 6   StreamingTV       5517 non-null   object\n",
      " 7   StreamingMovies   5517 non-null   object\n",
      "dtypes: object(8)\n",
      "memory usage: 344.9+ KB\n",
      "============================== personal_data ==============================\n",
      "<class 'pandas.core.frame.DataFrame'>\n",
      "RangeIndex: 7043 entries, 0 to 7042\n",
      "Data columns (total 5 columns):\n",
      " #   Column         Non-Null Count  Dtype \n",
      "---  ------         --------------  ----- \n",
      " 0   customerID     7043 non-null   object\n",
      " 1   gender         7043 non-null   object\n",
      " 2   SeniorCitizen  7043 non-null   int64 \n",
      " 3   Partner        7043 non-null   object\n",
      " 4   Dependents     7043 non-null   object\n",
      "dtypes: int64(1), object(4)\n",
      "memory usage: 275.2+ KB\n",
      "============================== phone_data ==============================\n",
      "<class 'pandas.core.frame.DataFrame'>\n",
      "RangeIndex: 6361 entries, 0 to 6360\n",
      "Data columns (total 2 columns):\n",
      " #   Column         Non-Null Count  Dtype \n",
      "---  ------         --------------  ----- \n",
      " 0   customerID     6361 non-null   object\n",
      " 1   MultipleLines  6361 non-null   object\n",
      "dtypes: object(2)\n",
      "memory usage: 99.5+ KB\n"
     ]
    }
   ],
   "source": [
    "for data in data_list:\n",
    "    print(f\"{'=' * 30} {data.name} {'='*30}\")\n",
    "    data.info()"
   ],
   "metadata": {
    "collapsed": false,
    "pycharm": {
     "name": "#%%\n"
    }
   }
  },
  {
   "cell_type": "markdown",
   "source": [
    "\n",
    "В данных отсутствуют пропуски."
   ],
   "metadata": {
    "collapsed": false,
    "pycharm": {
     "name": "#%% md\n"
    }
   }
  },
  {
   "cell_type": "code",
   "execution_count": 15,
   "outputs": [
    {
     "data": {
      "text/plain": "'============================== contract_data =============================='"
     },
     "metadata": {},
     "output_type": "display_data"
    },
    {
     "data": {
      "text/plain": "      customerID   BeginDate              EndDate            Type  \\\n2142  4223-BKEOR  2018-05-01                   No        One year   \n5484  4419-UJMUS  2014-05-01                   No        Two year   \n193   9680-NIAUV  2014-02-01                   No        Two year   \n3473  7599-FKVXZ  2016-05-01  2019-11-01 00:00:00  Month-to-month   \n6673  3798-EPWRR  2019-12-01                   No  Month-to-month   \n2961  6898-MDLZW  2019-02-01                   No  Month-to-month   \n658   4464-JCOLN  2019-11-01  2020-01-01 00:00:00        One year   \n6134  3258-SANFR  2019-08-01                   No  Month-to-month   \n5627  9334-GWGOW  2019-07-01                   No  Month-to-month   \n4763  4001-TSBTV  2015-04-01                   No  Month-to-month   \n\n     PaperlessBilling              PaymentMethod  MonthlyCharges TotalCharges  \n2142               No               Mailed check           64.85       1336.8  \n5484              Yes           Electronic check           99.35      6856.45  \n193                No    Credit card (automatic)          109.70       8129.3  \n3473              Yes  Bank transfer (automatic)          106.15       4512.7  \n6673               No           Electronic check           43.95         85.1  \n2961              Yes               Mailed check           53.75       648.65  \n658                No               Mailed check           19.85         35.9  \n6134               No    Credit card (automatic)           44.70        276.5  \n5627              Yes           Electronic check           74.85       485.25  \n4763              Yes           Electronic check           91.55      5511.65  ",
      "text/html": "<div>\n<style scoped>\n    .dataframe tbody tr th:only-of-type {\n        vertical-align: middle;\n    }\n\n    .dataframe tbody tr th {\n        vertical-align: top;\n    }\n\n    .dataframe thead th {\n        text-align: right;\n    }\n</style>\n<table border=\"1\" class=\"dataframe\">\n  <thead>\n    <tr style=\"text-align: right;\">\n      <th></th>\n      <th>customerID</th>\n      <th>BeginDate</th>\n      <th>EndDate</th>\n      <th>Type</th>\n      <th>PaperlessBilling</th>\n      <th>PaymentMethod</th>\n      <th>MonthlyCharges</th>\n      <th>TotalCharges</th>\n    </tr>\n  </thead>\n  <tbody>\n    <tr>\n      <th>2142</th>\n      <td>4223-BKEOR</td>\n      <td>2018-05-01</td>\n      <td>No</td>\n      <td>One year</td>\n      <td>No</td>\n      <td>Mailed check</td>\n      <td>64.85</td>\n      <td>1336.8</td>\n    </tr>\n    <tr>\n      <th>5484</th>\n      <td>4419-UJMUS</td>\n      <td>2014-05-01</td>\n      <td>No</td>\n      <td>Two year</td>\n      <td>Yes</td>\n      <td>Electronic check</td>\n      <td>99.35</td>\n      <td>6856.45</td>\n    </tr>\n    <tr>\n      <th>193</th>\n      <td>9680-NIAUV</td>\n      <td>2014-02-01</td>\n      <td>No</td>\n      <td>Two year</td>\n      <td>No</td>\n      <td>Credit card (automatic)</td>\n      <td>109.70</td>\n      <td>8129.3</td>\n    </tr>\n    <tr>\n      <th>3473</th>\n      <td>7599-FKVXZ</td>\n      <td>2016-05-01</td>\n      <td>2019-11-01 00:00:00</td>\n      <td>Month-to-month</td>\n      <td>Yes</td>\n      <td>Bank transfer (automatic)</td>\n      <td>106.15</td>\n      <td>4512.7</td>\n    </tr>\n    <tr>\n      <th>6673</th>\n      <td>3798-EPWRR</td>\n      <td>2019-12-01</td>\n      <td>No</td>\n      <td>Month-to-month</td>\n      <td>No</td>\n      <td>Electronic check</td>\n      <td>43.95</td>\n      <td>85.1</td>\n    </tr>\n    <tr>\n      <th>2961</th>\n      <td>6898-MDLZW</td>\n      <td>2019-02-01</td>\n      <td>No</td>\n      <td>Month-to-month</td>\n      <td>Yes</td>\n      <td>Mailed check</td>\n      <td>53.75</td>\n      <td>648.65</td>\n    </tr>\n    <tr>\n      <th>658</th>\n      <td>4464-JCOLN</td>\n      <td>2019-11-01</td>\n      <td>2020-01-01 00:00:00</td>\n      <td>One year</td>\n      <td>No</td>\n      <td>Mailed check</td>\n      <td>19.85</td>\n      <td>35.9</td>\n    </tr>\n    <tr>\n      <th>6134</th>\n      <td>3258-SANFR</td>\n      <td>2019-08-01</td>\n      <td>No</td>\n      <td>Month-to-month</td>\n      <td>No</td>\n      <td>Credit card (automatic)</td>\n      <td>44.70</td>\n      <td>276.5</td>\n    </tr>\n    <tr>\n      <th>5627</th>\n      <td>9334-GWGOW</td>\n      <td>2019-07-01</td>\n      <td>No</td>\n      <td>Month-to-month</td>\n      <td>Yes</td>\n      <td>Electronic check</td>\n      <td>74.85</td>\n      <td>485.25</td>\n    </tr>\n    <tr>\n      <th>4763</th>\n      <td>4001-TSBTV</td>\n      <td>2015-04-01</td>\n      <td>No</td>\n      <td>Month-to-month</td>\n      <td>Yes</td>\n      <td>Electronic check</td>\n      <td>91.55</td>\n      <td>5511.65</td>\n    </tr>\n  </tbody>\n</table>\n</div>"
     },
     "metadata": {},
     "output_type": "display_data"
    },
    {
     "data": {
      "text/plain": "'============================== internet_data =============================='"
     },
     "metadata": {},
     "output_type": "display_data"
    },
    {
     "data": {
      "text/plain": "      customerID InternetService OnlineSecurity OnlineBackup DeviceProtection  \\\n2114  8628-MFKAX     Fiber optic            Yes          Yes              Yes   \n1754  2482-CZGBB     Fiber optic             No           No               No   \n979   6581-NQCBA             DSL             No           No               No   \n1646  6784-XYJAE             DSL             No           No              Yes   \n5195  2038-YSEZE             DSL            Yes          Yes               No   \n852   5536-RTPWK     Fiber optic             No          Yes               No   \n1396  3055-VTCGS             DSL             No           No              Yes   \n1269  6032-KRXXO     Fiber optic             No           No               No   \n400   8205-OTCHB             DSL             No          Yes              Yes   \n1333  9365-SRSZE     Fiber optic             No           No               No   \n\n     TechSupport StreamingTV StreamingMovies  \n2114         Yes         Yes             Yes  \n1754          No          No              No  \n979          Yes         Yes             Yes  \n1646          No          No              No  \n5195         Yes          No              No  \n852           No         Yes             Yes  \n1396          No          No             Yes  \n1269          No         Yes             Yes  \n400           No          No             Yes  \n1333          No          No              No  ",
      "text/html": "<div>\n<style scoped>\n    .dataframe tbody tr th:only-of-type {\n        vertical-align: middle;\n    }\n\n    .dataframe tbody tr th {\n        vertical-align: top;\n    }\n\n    .dataframe thead th {\n        text-align: right;\n    }\n</style>\n<table border=\"1\" class=\"dataframe\">\n  <thead>\n    <tr style=\"text-align: right;\">\n      <th></th>\n      <th>customerID</th>\n      <th>InternetService</th>\n      <th>OnlineSecurity</th>\n      <th>OnlineBackup</th>\n      <th>DeviceProtection</th>\n      <th>TechSupport</th>\n      <th>StreamingTV</th>\n      <th>StreamingMovies</th>\n    </tr>\n  </thead>\n  <tbody>\n    <tr>\n      <th>2114</th>\n      <td>8628-MFKAX</td>\n      <td>Fiber optic</td>\n      <td>Yes</td>\n      <td>Yes</td>\n      <td>Yes</td>\n      <td>Yes</td>\n      <td>Yes</td>\n      <td>Yes</td>\n    </tr>\n    <tr>\n      <th>1754</th>\n      <td>2482-CZGBB</td>\n      <td>Fiber optic</td>\n      <td>No</td>\n      <td>No</td>\n      <td>No</td>\n      <td>No</td>\n      <td>No</td>\n      <td>No</td>\n    </tr>\n    <tr>\n      <th>979</th>\n      <td>6581-NQCBA</td>\n      <td>DSL</td>\n      <td>No</td>\n      <td>No</td>\n      <td>No</td>\n      <td>Yes</td>\n      <td>Yes</td>\n      <td>Yes</td>\n    </tr>\n    <tr>\n      <th>1646</th>\n      <td>6784-XYJAE</td>\n      <td>DSL</td>\n      <td>No</td>\n      <td>No</td>\n      <td>Yes</td>\n      <td>No</td>\n      <td>No</td>\n      <td>No</td>\n    </tr>\n    <tr>\n      <th>5195</th>\n      <td>2038-YSEZE</td>\n      <td>DSL</td>\n      <td>Yes</td>\n      <td>Yes</td>\n      <td>No</td>\n      <td>Yes</td>\n      <td>No</td>\n      <td>No</td>\n    </tr>\n    <tr>\n      <th>852</th>\n      <td>5536-RTPWK</td>\n      <td>Fiber optic</td>\n      <td>No</td>\n      <td>Yes</td>\n      <td>No</td>\n      <td>No</td>\n      <td>Yes</td>\n      <td>Yes</td>\n    </tr>\n    <tr>\n      <th>1396</th>\n      <td>3055-VTCGS</td>\n      <td>DSL</td>\n      <td>No</td>\n      <td>No</td>\n      <td>Yes</td>\n      <td>No</td>\n      <td>No</td>\n      <td>Yes</td>\n    </tr>\n    <tr>\n      <th>1269</th>\n      <td>6032-KRXXO</td>\n      <td>Fiber optic</td>\n      <td>No</td>\n      <td>No</td>\n      <td>No</td>\n      <td>No</td>\n      <td>Yes</td>\n      <td>Yes</td>\n    </tr>\n    <tr>\n      <th>400</th>\n      <td>8205-OTCHB</td>\n      <td>DSL</td>\n      <td>No</td>\n      <td>Yes</td>\n      <td>Yes</td>\n      <td>No</td>\n      <td>No</td>\n      <td>Yes</td>\n    </tr>\n    <tr>\n      <th>1333</th>\n      <td>9365-SRSZE</td>\n      <td>Fiber optic</td>\n      <td>No</td>\n      <td>No</td>\n      <td>No</td>\n      <td>No</td>\n      <td>No</td>\n      <td>No</td>\n    </tr>\n  </tbody>\n</table>\n</div>"
     },
     "metadata": {},
     "output_type": "display_data"
    },
    {
     "data": {
      "text/plain": "'============================== personal_data =============================='"
     },
     "metadata": {},
     "output_type": "display_data"
    },
    {
     "data": {
      "text/plain": "      customerID  gender  SeniorCitizen Partner Dependents\n1251  7595-EUIVN  Female              0      No         No\n3968  7463-IFMQU  Female              0     Yes         No\n1502  5724-BIDBU    Male              0     Yes         No\n5733  4817-KEQSP  Female              0     Yes        Yes\n3576  2560-QTSBS  Female              0     Yes        Yes\n3429  7872-BAAZR  Female              0     Yes        Yes\n5168  6000-APYLU    Male              0      No         No\n2817  0936-NQLJU  Female              0     Yes         No\n5861  9631-RXVJM    Male              0      No         No\n1808  4816-LXZYW  Female              0      No         No",
      "text/html": "<div>\n<style scoped>\n    .dataframe tbody tr th:only-of-type {\n        vertical-align: middle;\n    }\n\n    .dataframe tbody tr th {\n        vertical-align: top;\n    }\n\n    .dataframe thead th {\n        text-align: right;\n    }\n</style>\n<table border=\"1\" class=\"dataframe\">\n  <thead>\n    <tr style=\"text-align: right;\">\n      <th></th>\n      <th>customerID</th>\n      <th>gender</th>\n      <th>SeniorCitizen</th>\n      <th>Partner</th>\n      <th>Dependents</th>\n    </tr>\n  </thead>\n  <tbody>\n    <tr>\n      <th>1251</th>\n      <td>7595-EUIVN</td>\n      <td>Female</td>\n      <td>0</td>\n      <td>No</td>\n      <td>No</td>\n    </tr>\n    <tr>\n      <th>3968</th>\n      <td>7463-IFMQU</td>\n      <td>Female</td>\n      <td>0</td>\n      <td>Yes</td>\n      <td>No</td>\n    </tr>\n    <tr>\n      <th>1502</th>\n      <td>5724-BIDBU</td>\n      <td>Male</td>\n      <td>0</td>\n      <td>Yes</td>\n      <td>No</td>\n    </tr>\n    <tr>\n      <th>5733</th>\n      <td>4817-KEQSP</td>\n      <td>Female</td>\n      <td>0</td>\n      <td>Yes</td>\n      <td>Yes</td>\n    </tr>\n    <tr>\n      <th>3576</th>\n      <td>2560-QTSBS</td>\n      <td>Female</td>\n      <td>0</td>\n      <td>Yes</td>\n      <td>Yes</td>\n    </tr>\n    <tr>\n      <th>3429</th>\n      <td>7872-BAAZR</td>\n      <td>Female</td>\n      <td>0</td>\n      <td>Yes</td>\n      <td>Yes</td>\n    </tr>\n    <tr>\n      <th>5168</th>\n      <td>6000-APYLU</td>\n      <td>Male</td>\n      <td>0</td>\n      <td>No</td>\n      <td>No</td>\n    </tr>\n    <tr>\n      <th>2817</th>\n      <td>0936-NQLJU</td>\n      <td>Female</td>\n      <td>0</td>\n      <td>Yes</td>\n      <td>No</td>\n    </tr>\n    <tr>\n      <th>5861</th>\n      <td>9631-RXVJM</td>\n      <td>Male</td>\n      <td>0</td>\n      <td>No</td>\n      <td>No</td>\n    </tr>\n    <tr>\n      <th>1808</th>\n      <td>4816-LXZYW</td>\n      <td>Female</td>\n      <td>0</td>\n      <td>No</td>\n      <td>No</td>\n    </tr>\n  </tbody>\n</table>\n</div>"
     },
     "metadata": {},
     "output_type": "display_data"
    },
    {
     "data": {
      "text/plain": "'============================== phone_data =============================='"
     },
     "metadata": {},
     "output_type": "display_data"
    },
    {
     "data": {
      "text/plain": "      customerID MultipleLines\n5687  7435-ZNUYY            No\n5466  4770-QAZXN            No\n2114  5414-OFQCB           Yes\n774   7695-PKLCZ            No\n3148  9576-SYUHJ           Yes\n3737  2466-FCCPT            No\n3664  4256-ZWTZI            No\n1459  6032-KRXXO            No\n312   5160-UXJED            No\n4865  6168-WFVVF            No",
      "text/html": "<div>\n<style scoped>\n    .dataframe tbody tr th:only-of-type {\n        vertical-align: middle;\n    }\n\n    .dataframe tbody tr th {\n        vertical-align: top;\n    }\n\n    .dataframe thead th {\n        text-align: right;\n    }\n</style>\n<table border=\"1\" class=\"dataframe\">\n  <thead>\n    <tr style=\"text-align: right;\">\n      <th></th>\n      <th>customerID</th>\n      <th>MultipleLines</th>\n    </tr>\n  </thead>\n  <tbody>\n    <tr>\n      <th>5687</th>\n      <td>7435-ZNUYY</td>\n      <td>No</td>\n    </tr>\n    <tr>\n      <th>5466</th>\n      <td>4770-QAZXN</td>\n      <td>No</td>\n    </tr>\n    <tr>\n      <th>2114</th>\n      <td>5414-OFQCB</td>\n      <td>Yes</td>\n    </tr>\n    <tr>\n      <th>774</th>\n      <td>7695-PKLCZ</td>\n      <td>No</td>\n    </tr>\n    <tr>\n      <th>3148</th>\n      <td>9576-SYUHJ</td>\n      <td>Yes</td>\n    </tr>\n    <tr>\n      <th>3737</th>\n      <td>2466-FCCPT</td>\n      <td>No</td>\n    </tr>\n    <tr>\n      <th>3664</th>\n      <td>4256-ZWTZI</td>\n      <td>No</td>\n    </tr>\n    <tr>\n      <th>1459</th>\n      <td>6032-KRXXO</td>\n      <td>No</td>\n    </tr>\n    <tr>\n      <th>312</th>\n      <td>5160-UXJED</td>\n      <td>No</td>\n    </tr>\n    <tr>\n      <th>4865</th>\n      <td>6168-WFVVF</td>\n      <td>No</td>\n    </tr>\n  </tbody>\n</table>\n</div>"
     },
     "metadata": {},
     "output_type": "display_data"
    }
   ],
   "source": [
    "for data in data_list:\n",
    "    display(f\"{'=' * 30} {data.name} {'='*30}\")\n",
    "    display(data.sample(10))"
   ],
   "metadata": {
    "collapsed": false,
    "pycharm": {
     "name": "#%%\n"
    }
   }
  },
  {
   "cell_type": "markdown",
   "source": [
    "В данных присутствует большое количество категориальных признаков, две колонки с вещественными признаками (MonthlyCharges и TotalCharges)"
   ],
   "metadata": {
    "collapsed": false,
    "pycharm": {
     "name": "#%% md\n"
    }
   }
  },
  {
   "cell_type": "markdown",
   "source": [],
   "metadata": {
    "collapsed": false,
    "pycharm": {
     "name": "#%% md\n"
    }
   }
  },
  {
   "cell_type": "code",
   "execution_count": 16,
   "outputs": [
    {
     "data": {
      "text/plain": "'============================== contract_data =============================='"
     },
     "metadata": {},
     "output_type": "display_data"
    },
    {
     "data": {
      "text/plain": "'Количество строк в таблице: 7043'"
     },
     "metadata": {},
     "output_type": "display_data"
    },
    {
     "data": {
      "text/plain": "'Количество уникальных клиентов: 7043'"
     },
     "metadata": {},
     "output_type": "display_data"
    },
    {
     "data": {
      "text/plain": "'============================== internet_data =============================='"
     },
     "metadata": {},
     "output_type": "display_data"
    },
    {
     "data": {
      "text/plain": "'Количество строк в таблице: 5517'"
     },
     "metadata": {},
     "output_type": "display_data"
    },
    {
     "data": {
      "text/plain": "'Количество уникальных клиентов: 5517'"
     },
     "metadata": {},
     "output_type": "display_data"
    },
    {
     "data": {
      "text/plain": "'============================== personal_data =============================='"
     },
     "metadata": {},
     "output_type": "display_data"
    },
    {
     "data": {
      "text/plain": "'Количество строк в таблице: 7043'"
     },
     "metadata": {},
     "output_type": "display_data"
    },
    {
     "data": {
      "text/plain": "'Количество уникальных клиентов: 7043'"
     },
     "metadata": {},
     "output_type": "display_data"
    },
    {
     "data": {
      "text/plain": "'============================== phone_data =============================='"
     },
     "metadata": {},
     "output_type": "display_data"
    },
    {
     "data": {
      "text/plain": "'Количество строк в таблице: 6361'"
     },
     "metadata": {},
     "output_type": "display_data"
    },
    {
     "data": {
      "text/plain": "'Количество уникальных клиентов: 6361'"
     },
     "metadata": {},
     "output_type": "display_data"
    }
   ],
   "source": [
    "for data in data_list:\n",
    "    display(f\"{'=' * 30} {data.name} {'='*30}\")\n",
    "    display(f'Количество строк в таблице: {data.shape[0]}')\n",
    "    display(f'Количество уникальных клиентов: {len(data[\"customerID\"].unique())}')"
   ],
   "metadata": {
    "collapsed": false,
    "pycharm": {
     "name": "#%%\n"
    }
   }
  },
  {
   "cell_type": "markdown",
   "source": [
    "Каждая запись в таблице содержит уникального клиента. Но количество записей в таблицах разное, значит после джоина таблиц по customerID у нас появятся пропуски в данных.\n",
    "\n",
    "Попробуем это сделать и посмотрим на количество пропусков.\n",
    "Для этого установим поле customerID в качестве индекса и сджоиним таблицы по индексу."
   ],
   "metadata": {
    "collapsed": false,
    "pycharm": {
     "name": "#%% md\n"
    }
   }
  },
  {
   "cell_type": "code",
   "execution_count": 17,
   "outputs": [],
   "source": [
    "contract = contract.set_index('customerID')\n",
    "personal = personal.set_index('customerID')\n",
    "phone = phone.set_index('customerID')\n",
    "internet = internet.set_index('customerID')\n",
    "\n",
    "full_data = contract.join([personal, phone, internet])\n",
    "full_data.name = 'full_data'"
   ],
   "metadata": {
    "collapsed": false,
    "pycharm": {
     "name": "#%%\n"
    }
   }
  },
  {
   "cell_type": "code",
   "execution_count": 18,
   "outputs": [
    {
     "name": "stdout",
     "output_type": "stream",
     "text": [
      "============================================================\n",
      "Количество записей в датафрейме full_data: 7043 \n",
      "\n",
      "В датафрейме full_data имеются следующие пропуски:\n",
      "  - в колонке MultipleLines: 682 пропусков, это 9.68% об общего объема данных\n",
      "  - в колонке InternetService: 1526 пропусков, это 21.67% об общего объема данных\n",
      "  - в колонке OnlineSecurity: 1526 пропусков, это 21.67% об общего объема данных\n",
      "  - в колонке OnlineBackup: 1526 пропусков, это 21.67% об общего объема данных\n",
      "  - в колонке DeviceProtection: 1526 пропусков, это 21.67% об общего объема данных\n",
      "  - в колонке TechSupport: 1526 пропусков, это 21.67% об общего объема данных\n",
      "  - в колонке StreamingTV: 1526 пропусков, это 21.67% об общего объема данных\n",
      "  - в колонке StreamingMovies: 1526 пропусков, это 21.67% об общего объема данных\n"
     ]
    }
   ],
   "source": [
    "def get_missing_values(data: pd.DataFrame) -> None:\n",
    "    \"\"\"\n",
    "    Выводит данные о пропусках в колонках по датафрейму.\n",
    "    Не изменяет данные внутри датафрейма.\n",
    "\n",
    "    :param data: pd.DataFrame\n",
    "    :return: None\n",
    "    \"\"\"\n",
    "    # получаем имена колонок датафрейма\n",
    "    columns = data.columns.to_list()\n",
    "    data_len = len(data)\n",
    "    # объявляем счетчик\n",
    "    counter = -1\n",
    "    print('='*60)\n",
    "    # если есть пропуски в данных - выводим информацию о пропусках по колонкам\n",
    "    if sum(data.isnull().sum()) > 0:\n",
    "        print(f'Количество записей в датафрейме {data.name}: {data_len} \\n')\n",
    "        print(f'В датафрейме {data.name} имеются следующие пропуски:')\n",
    "        for i in data.isnull().sum():\n",
    "            counter += 1\n",
    "            if i > 0:\n",
    "                print(f'  - в колонке {columns[counter]}: {i} пропусков, это {i/data_len:0.2%} об общего объема данных')\n",
    "    else:\n",
    "        print(f'Отлично, в датафрейме {data.name} отсутствуют пропуски.')\n",
    "\n",
    "# посмотрим на пропуски в данных\n",
    "get_missing_values(full_data)"
   ],
   "metadata": {
    "collapsed": false,
    "pycharm": {
     "name": "#%%\n"
    }
   }
  },
  {
   "cell_type": "code",
   "execution_count": 19,
   "outputs": [
    {
     "data": {
      "text/plain": "             BeginDate              EndDate            Type PaperlessBilling  \\\ncustomerID                                                                     \n7590-VHVEG  2020-01-01                   No  Month-to-month              Yes   \n5575-GNVDE  2017-04-01                   No        One year               No   \n3668-QPYBK  2019-10-01  2019-12-01 00:00:00  Month-to-month              Yes   \n7795-CFOCW  2016-05-01                   No        One year               No   \n9237-HQITU  2019-09-01  2019-11-01 00:00:00  Month-to-month              Yes   \n\n                        PaymentMethod  MonthlyCharges TotalCharges  gender  \\\ncustomerID                                                                   \n7590-VHVEG           Electronic check           29.85        29.85  Female   \n5575-GNVDE               Mailed check           56.95       1889.5    Male   \n3668-QPYBK               Mailed check           53.85       108.15    Male   \n7795-CFOCW  Bank transfer (automatic)           42.30      1840.75    Male   \n9237-HQITU           Electronic check           70.70       151.65  Female   \n\n            SeniorCitizen Partner Dependents MultipleLines InternetService  \\\ncustomerID                                                                   \n7590-VHVEG              0     Yes         No           NaN             DSL   \n5575-GNVDE              0      No         No            No             DSL   \n3668-QPYBK              0      No         No            No             DSL   \n7795-CFOCW              0      No         No           NaN             DSL   \n9237-HQITU              0      No         No            No     Fiber optic   \n\n           OnlineSecurity OnlineBackup DeviceProtection TechSupport  \\\ncustomerID                                                            \n7590-VHVEG             No          Yes               No          No   \n5575-GNVDE            Yes           No              Yes          No   \n3668-QPYBK            Yes          Yes               No          No   \n7795-CFOCW            Yes           No              Yes         Yes   \n9237-HQITU             No           No               No          No   \n\n           StreamingTV StreamingMovies  \ncustomerID                              \n7590-VHVEG          No              No  \n5575-GNVDE          No              No  \n3668-QPYBK          No              No  \n7795-CFOCW          No              No  \n9237-HQITU          No              No  ",
      "text/html": "<div>\n<style scoped>\n    .dataframe tbody tr th:only-of-type {\n        vertical-align: middle;\n    }\n\n    .dataframe tbody tr th {\n        vertical-align: top;\n    }\n\n    .dataframe thead th {\n        text-align: right;\n    }\n</style>\n<table border=\"1\" class=\"dataframe\">\n  <thead>\n    <tr style=\"text-align: right;\">\n      <th></th>\n      <th>BeginDate</th>\n      <th>EndDate</th>\n      <th>Type</th>\n      <th>PaperlessBilling</th>\n      <th>PaymentMethod</th>\n      <th>MonthlyCharges</th>\n      <th>TotalCharges</th>\n      <th>gender</th>\n      <th>SeniorCitizen</th>\n      <th>Partner</th>\n      <th>Dependents</th>\n      <th>MultipleLines</th>\n      <th>InternetService</th>\n      <th>OnlineSecurity</th>\n      <th>OnlineBackup</th>\n      <th>DeviceProtection</th>\n      <th>TechSupport</th>\n      <th>StreamingTV</th>\n      <th>StreamingMovies</th>\n    </tr>\n    <tr>\n      <th>customerID</th>\n      <th></th>\n      <th></th>\n      <th></th>\n      <th></th>\n      <th></th>\n      <th></th>\n      <th></th>\n      <th></th>\n      <th></th>\n      <th></th>\n      <th></th>\n      <th></th>\n      <th></th>\n      <th></th>\n      <th></th>\n      <th></th>\n      <th></th>\n      <th></th>\n      <th></th>\n    </tr>\n  </thead>\n  <tbody>\n    <tr>\n      <th>7590-VHVEG</th>\n      <td>2020-01-01</td>\n      <td>No</td>\n      <td>Month-to-month</td>\n      <td>Yes</td>\n      <td>Electronic check</td>\n      <td>29.85</td>\n      <td>29.85</td>\n      <td>Female</td>\n      <td>0</td>\n      <td>Yes</td>\n      <td>No</td>\n      <td>NaN</td>\n      <td>DSL</td>\n      <td>No</td>\n      <td>Yes</td>\n      <td>No</td>\n      <td>No</td>\n      <td>No</td>\n      <td>No</td>\n    </tr>\n    <tr>\n      <th>5575-GNVDE</th>\n      <td>2017-04-01</td>\n      <td>No</td>\n      <td>One year</td>\n      <td>No</td>\n      <td>Mailed check</td>\n      <td>56.95</td>\n      <td>1889.5</td>\n      <td>Male</td>\n      <td>0</td>\n      <td>No</td>\n      <td>No</td>\n      <td>No</td>\n      <td>DSL</td>\n      <td>Yes</td>\n      <td>No</td>\n      <td>Yes</td>\n      <td>No</td>\n      <td>No</td>\n      <td>No</td>\n    </tr>\n    <tr>\n      <th>3668-QPYBK</th>\n      <td>2019-10-01</td>\n      <td>2019-12-01 00:00:00</td>\n      <td>Month-to-month</td>\n      <td>Yes</td>\n      <td>Mailed check</td>\n      <td>53.85</td>\n      <td>108.15</td>\n      <td>Male</td>\n      <td>0</td>\n      <td>No</td>\n      <td>No</td>\n      <td>No</td>\n      <td>DSL</td>\n      <td>Yes</td>\n      <td>Yes</td>\n      <td>No</td>\n      <td>No</td>\n      <td>No</td>\n      <td>No</td>\n    </tr>\n    <tr>\n      <th>7795-CFOCW</th>\n      <td>2016-05-01</td>\n      <td>No</td>\n      <td>One year</td>\n      <td>No</td>\n      <td>Bank transfer (automatic)</td>\n      <td>42.30</td>\n      <td>1840.75</td>\n      <td>Male</td>\n      <td>0</td>\n      <td>No</td>\n      <td>No</td>\n      <td>NaN</td>\n      <td>DSL</td>\n      <td>Yes</td>\n      <td>No</td>\n      <td>Yes</td>\n      <td>Yes</td>\n      <td>No</td>\n      <td>No</td>\n    </tr>\n    <tr>\n      <th>9237-HQITU</th>\n      <td>2019-09-01</td>\n      <td>2019-11-01 00:00:00</td>\n      <td>Month-to-month</td>\n      <td>Yes</td>\n      <td>Electronic check</td>\n      <td>70.70</td>\n      <td>151.65</td>\n      <td>Female</td>\n      <td>0</td>\n      <td>No</td>\n      <td>No</td>\n      <td>No</td>\n      <td>Fiber optic</td>\n      <td>No</td>\n      <td>No</td>\n      <td>No</td>\n      <td>No</td>\n      <td>No</td>\n      <td>No</td>\n    </tr>\n  </tbody>\n</table>\n</div>"
     },
     "execution_count": 19,
     "metadata": {},
     "output_type": "execute_result"
    }
   ],
   "source": [
    "full_data.head()"
   ],
   "metadata": {
    "collapsed": false,
    "pycharm": {
     "name": "#%%\n"
    }
   }
  },
  {
   "cell_type": "markdown",
   "source": [
    "В данных получилось довольно большое количество пропусков и мы не можем от них просто так избавиться.\n",
    "Все пропуски присутствуют в полях с категориальными данными, так что мы можем попробовать заполнить их разными способами, а именно:\n",
    " - ввести новую категорию 'unknown' для данных с пропусками\n",
    " - заполнить пропуски самым частотным значением признака\n",
    " - посчитать доли для значений признака с пропусками, и в соответствующих значениям долях заполнить пропуски (например если у нас в признаке только значения yes или no и они распределены в долях 70% yes и 30% no, то все пропуски это 100% и из них мы рандомно заполняем 70% пропусков значением yes и 30% пропусков значением no)\n",
    "\n",
    "Также нам необходимо создать целевой признак. Брать данные для генерации целевого признака будем из колонки EndDate таблицы contract, если no = 0, а если есть дата, то 1.\n",
    "Сделаем это.\n"
   ],
   "metadata": {
    "collapsed": false,
    "pycharm": {
     "name": "#%% md\n"
    }
   }
  },
  {
   "cell_type": "code",
   "execution_count": 20,
   "outputs": [],
   "source": [
    "full_data['churn'] = full_data['EndDate'].apply(lambda x: 0 if x == 'No' else 1)"
   ],
   "metadata": {
    "collapsed": false,
    "pycharm": {
     "name": "#%%\n"
    }
   }
  },
  {
   "cell_type": "markdown",
   "source": [
    "Посмотрим на распределение целевого признака."
   ],
   "metadata": {
    "collapsed": false,
    "pycharm": {
     "name": "#%% md\n"
    }
   }
  },
  {
   "cell_type": "code",
   "execution_count": 21,
   "outputs": [
    {
     "data": {
      "text/plain": "0    0.73463\n1    0.26537\nName: churn, dtype: float64"
     },
     "execution_count": 21,
     "metadata": {},
     "output_type": "execute_result"
    }
   ],
   "source": [
    "full_data['churn'].value_counts(normalize=True)"
   ],
   "metadata": {
    "collapsed": false,
    "pycharm": {
     "name": "#%%\n"
    }
   }
  },
  {
   "cell_type": "code",
   "execution_count": 26,
   "outputs": [
    {
     "data": {
      "text/plain": "             BeginDate              EndDate            Type PaperlessBilling  \\\ncustomerID                                                                     \n7590-VHVEG  2020-01-01                   No  Month-to-month              Yes   \n5575-GNVDE  2017-04-01                   No        One year               No   \n3668-QPYBK  2019-10-01  2019-12-01 00:00:00  Month-to-month              Yes   \n7795-CFOCW  2016-05-01                   No        One year               No   \n9237-HQITU  2019-09-01  2019-11-01 00:00:00  Month-to-month              Yes   \n\n                        PaymentMethod  MonthlyCharges TotalCharges  gender  \\\ncustomerID                                                                   \n7590-VHVEG           Electronic check           29.85        29.85  Female   \n5575-GNVDE               Mailed check           56.95       1889.5    Male   \n3668-QPYBK               Mailed check           53.85       108.15    Male   \n7795-CFOCW  Bank transfer (automatic)           42.30      1840.75    Male   \n9237-HQITU           Electronic check           70.70       151.65  Female   \n\n            SeniorCitizen Partner Dependents MultipleLines InternetService  \\\ncustomerID                                                                   \n7590-VHVEG              0     Yes         No           NaN             DSL   \n5575-GNVDE              0      No         No            No             DSL   \n3668-QPYBK              0      No         No            No             DSL   \n7795-CFOCW              0      No         No           NaN             DSL   \n9237-HQITU              0      No         No            No     Fiber optic   \n\n           OnlineSecurity OnlineBackup DeviceProtection TechSupport  \\\ncustomerID                                                            \n7590-VHVEG             No          Yes               No          No   \n5575-GNVDE            Yes           No              Yes          No   \n3668-QPYBK            Yes          Yes               No          No   \n7795-CFOCW            Yes           No              Yes         Yes   \n9237-HQITU             No           No               No          No   \n\n           StreamingTV StreamingMovies  churn  \ncustomerID                                     \n7590-VHVEG          No              No      0  \n5575-GNVDE          No              No      0  \n3668-QPYBK          No              No      1  \n7795-CFOCW          No              No      0  \n9237-HQITU          No              No      1  ",
      "text/html": "<div>\n<style scoped>\n    .dataframe tbody tr th:only-of-type {\n        vertical-align: middle;\n    }\n\n    .dataframe tbody tr th {\n        vertical-align: top;\n    }\n\n    .dataframe thead th {\n        text-align: right;\n    }\n</style>\n<table border=\"1\" class=\"dataframe\">\n  <thead>\n    <tr style=\"text-align: right;\">\n      <th></th>\n      <th>BeginDate</th>\n      <th>EndDate</th>\n      <th>Type</th>\n      <th>PaperlessBilling</th>\n      <th>PaymentMethod</th>\n      <th>MonthlyCharges</th>\n      <th>TotalCharges</th>\n      <th>gender</th>\n      <th>SeniorCitizen</th>\n      <th>Partner</th>\n      <th>Dependents</th>\n      <th>MultipleLines</th>\n      <th>InternetService</th>\n      <th>OnlineSecurity</th>\n      <th>OnlineBackup</th>\n      <th>DeviceProtection</th>\n      <th>TechSupport</th>\n      <th>StreamingTV</th>\n      <th>StreamingMovies</th>\n      <th>churn</th>\n    </tr>\n    <tr>\n      <th>customerID</th>\n      <th></th>\n      <th></th>\n      <th></th>\n      <th></th>\n      <th></th>\n      <th></th>\n      <th></th>\n      <th></th>\n      <th></th>\n      <th></th>\n      <th></th>\n      <th></th>\n      <th></th>\n      <th></th>\n      <th></th>\n      <th></th>\n      <th></th>\n      <th></th>\n      <th></th>\n      <th></th>\n    </tr>\n  </thead>\n  <tbody>\n    <tr>\n      <th>7590-VHVEG</th>\n      <td>2020-01-01</td>\n      <td>No</td>\n      <td>Month-to-month</td>\n      <td>Yes</td>\n      <td>Electronic check</td>\n      <td>29.85</td>\n      <td>29.85</td>\n      <td>Female</td>\n      <td>0</td>\n      <td>Yes</td>\n      <td>No</td>\n      <td>NaN</td>\n      <td>DSL</td>\n      <td>No</td>\n      <td>Yes</td>\n      <td>No</td>\n      <td>No</td>\n      <td>No</td>\n      <td>No</td>\n      <td>0</td>\n    </tr>\n    <tr>\n      <th>5575-GNVDE</th>\n      <td>2017-04-01</td>\n      <td>No</td>\n      <td>One year</td>\n      <td>No</td>\n      <td>Mailed check</td>\n      <td>56.95</td>\n      <td>1889.5</td>\n      <td>Male</td>\n      <td>0</td>\n      <td>No</td>\n      <td>No</td>\n      <td>No</td>\n      <td>DSL</td>\n      <td>Yes</td>\n      <td>No</td>\n      <td>Yes</td>\n      <td>No</td>\n      <td>No</td>\n      <td>No</td>\n      <td>0</td>\n    </tr>\n    <tr>\n      <th>3668-QPYBK</th>\n      <td>2019-10-01</td>\n      <td>2019-12-01 00:00:00</td>\n      <td>Month-to-month</td>\n      <td>Yes</td>\n      <td>Mailed check</td>\n      <td>53.85</td>\n      <td>108.15</td>\n      <td>Male</td>\n      <td>0</td>\n      <td>No</td>\n      <td>No</td>\n      <td>No</td>\n      <td>DSL</td>\n      <td>Yes</td>\n      <td>Yes</td>\n      <td>No</td>\n      <td>No</td>\n      <td>No</td>\n      <td>No</td>\n      <td>1</td>\n    </tr>\n    <tr>\n      <th>7795-CFOCW</th>\n      <td>2016-05-01</td>\n      <td>No</td>\n      <td>One year</td>\n      <td>No</td>\n      <td>Bank transfer (automatic)</td>\n      <td>42.30</td>\n      <td>1840.75</td>\n      <td>Male</td>\n      <td>0</td>\n      <td>No</td>\n      <td>No</td>\n      <td>NaN</td>\n      <td>DSL</td>\n      <td>Yes</td>\n      <td>No</td>\n      <td>Yes</td>\n      <td>Yes</td>\n      <td>No</td>\n      <td>No</td>\n      <td>0</td>\n    </tr>\n    <tr>\n      <th>9237-HQITU</th>\n      <td>2019-09-01</td>\n      <td>2019-11-01 00:00:00</td>\n      <td>Month-to-month</td>\n      <td>Yes</td>\n      <td>Electronic check</td>\n      <td>70.70</td>\n      <td>151.65</td>\n      <td>Female</td>\n      <td>0</td>\n      <td>No</td>\n      <td>No</td>\n      <td>No</td>\n      <td>Fiber optic</td>\n      <td>No</td>\n      <td>No</td>\n      <td>No</td>\n      <td>No</td>\n      <td>No</td>\n      <td>No</td>\n      <td>1</td>\n    </tr>\n  </tbody>\n</table>\n</div>"
     },
     "execution_count": 26,
     "metadata": {},
     "output_type": "execute_result"
    }
   ],
   "source": [
    "full_data.head()"
   ],
   "metadata": {
    "collapsed": false,
    "pycharm": {
     "name": "#%%\n"
    }
   }
  },
  {
   "cell_type": "markdown",
   "source": [
    "Посмотрим на корреляцию с целевым признаком."
   ],
   "metadata": {
    "collapsed": false,
    "pycharm": {
     "name": "#%% md\n"
    }
   }
  },
  {
   "cell_type": "code",
   "execution_count": 36,
   "outputs": [],
   "source": [
    "cat_features = ['Type', 'PaperlessBilling', 'PaymentMethod', 'gender', 'SeniorCitizen', 'Partner', 'Dependents', 'MultipleLines', 'InternetService' , 'OnlineSecurity', 'OnlineBackup', 'DeviceProtection', 'TechSupport', 'StreamingTV', 'StreamingMovies']\n",
    "\n",
    "encoder = LabelEncoder()\n",
    "\n",
    "for feature in cat_features:\n",
    "    full_data[feature] = encoder.fit_transform(full_data[feature].fillna('unknown'))"
   ],
   "metadata": {
    "collapsed": false,
    "pycharm": {
     "name": "#%%\n"
    }
   }
  },
  {
   "cell_type": "code",
   "execution_count": 38,
   "outputs": [
    {
     "data": {
      "application/vnd.plotly.v1+json": {
       "data": [
        {
         "coloraxis": "coloraxis",
         "name": "0",
         "texttemplate": "%{z}",
         "x": [
          "Type",
          "PaperlessBilling",
          "PaymentMethod",
          "MonthlyCharges",
          "gender",
          "SeniorCitizen",
          "Partner",
          "Dependents",
          "MultipleLines",
          "InternetService",
          "OnlineSecurity",
          "OnlineBackup",
          "DeviceProtection",
          "TechSupport",
          "StreamingTV",
          "StreamingMovies",
          "churn"
         ],
         "y": [
          "Type",
          "PaperlessBilling",
          "PaymentMethod",
          "MonthlyCharges",
          "gender",
          "SeniorCitizen",
          "Partner",
          "Dependents",
          "MultipleLines",
          "InternetService",
          "OnlineSecurity",
          "OnlineBackup",
          "DeviceProtection",
          "TechSupport",
          "StreamingTV",
          "StreamingMovies",
          "churn"
         ],
         "z": [
          [
           1.0,
           -0.1767330778205538,
           -0.22754349681632216,
           -0.0741946671919536,
           1.2574765070889364E-4,
           -0.1425540803170182,
           0.2948062243608579,
           0.24318747261123247,
           0.07861259235072145,
           0.09972078257606634,
           0.3899782287523173,
           0.3512674927006529,
           0.39021627830199085,
           0.41844030738725446,
           0.3279513859967297,
           0.3309928283174669,
           -0.39671262920984274
          ],
          [
           -0.1767330778205538,
           1.0,
           -0.0629039511534789,
           0.35214996779598723,
           -0.011753691221222154,
           0.15652955931117266,
           -0.014876622287891066,
           -0.11137722919364466,
           0.108229689642329,
           -0.13862477861415184,
           -0.33400290209937555,
           -0.2624017008722287,
           -0.27632638679521504,
           -0.3107491658691425,
           -0.20390687524085954,
           -0.21181792505754882,
           0.19182533166646878
          ],
          [
           -0.22754349681632216,
           -0.0629039511534789,
           1.0,
           -0.1934072938809708,
           0.01735226409336926,
           -0.038550813356240665,
           -0.15479752884431663,
           -0.04029189884281971,
           -0.124981716095159,
           0.08613985814228342,
           0.046810888324365287,
           0.030758589318371492,
           0.024602621050648137,
           0.04246602132291168,
           0.042929299365032196,
           0.03893620965896125,
           0.10706200587340331
          ],
          [
           -0.0741946671919536,
           0.35214996779598723,
           -0.1934072938809708,
           1.0,
           -0.014569323728667174,
           0.22017333857627205,
           0.0968479362564748,
           -0.11389023002193566,
           0.14615347562069828,
           -0.3232601923373466,
           -0.6212270384027092,
           -0.5384542406752206,
           -0.5134398978767613,
           -0.5975939631179933,
           -0.4230673804497346,
           -0.42459823059400514,
           0.19335642223784716
          ],
          [
           1.2574765070889364E-4,
           -0.011753691221222154,
           0.01735226409336926,
           -0.014569323728667174,
           1.0,
           -0.0018737116382607595,
           -0.0018080796617890192,
           0.010516611922734075,
           -4.8459846196555835E-4,
           -8.633824690842106E-4,
           -0.0034285524109444773,
           -0.0020321828663321297,
           0.005091657802999698,
           9.851821349823018E-4,
           0.0011562887567421434,
           -1.9073538033127346E-4,
           -0.00861209507899784
          ],
          [
           -0.1425540803170182,
           0.15652955931117266,
           -0.038550813356240665,
           0.22017333857627205,
           -0.0018737116382607595,
           1.0,
           0.01647865759741389,
           -0.2111850884939573,
           0.0998833677853393,
           -0.03231015021349379,
           -0.21089741399113998,
           -0.15277995151820215,
           -0.157095424132468,
           -0.22377032380863496,
           -0.1301302963026457,
           -0.12080228171136248,
           0.15088932817647233
          ],
          [
           0.2948062243608579,
           -0.014876622287891066,
           -0.15479752884431663,
           0.0968479362564748,
           -0.0018080796617890192,
           0.01647865759741389,
           1.0,
           0.4526762829294659,
           0.09098130541406196,
           8.9134690104755E-4,
           0.08184974664907048,
           0.08705503883244702,
           0.09445147421359291,
           0.06907150292088703,
           0.08012697270011743,
           0.07577867929613419,
           -0.15044754495917623
          ],
          [
           0.24318747261123247,
           -0.11137722919364466,
           -0.04029189884281971,
           -0.11389023002193566,
           0.010516611922734075,
           -0.2111850884939573,
           0.4526762829294659,
           1.0,
           -0.01687545356267043,
           0.044590440655243486,
           0.19052261859268577,
           0.1624446811746047,
           0.15643924145323662,
           0.18083172588512125,
           0.1403951239176391,
           0.12581997072020246,
           -0.1642214015797254
          ],
          [
           0.07861259235072145,
           0.108229689642329,
           -0.124981716095159,
           0.14615347562069828,
           -4.8459846196555835E-4,
           0.0998833677853393,
           0.09098130541406196,
           -0.01687545356267043,
           1.0,
           -0.340949439495442,
           -0.2350214479341368,
           -0.21037168259302638,
           -0.20046265177459954,
           -0.23215519118372432,
           -0.2024136054288872,
           -0.1958148031197955,
           0.01942295938604914
          ],
          [
           0.09972078257606634,
           -0.13862477861415184,
           0.08613985814228342,
           -0.3232601923373466,
           -8.633824690842106E-4,
           -0.03231015021349379,
           8.9134690104755E-4,
           0.044590440655243486,
           -0.340949439495442,
           1.0,
           0.6077883545289897,
           0.6582871609558053,
           0.6629574049627321,
           0.6097952724185709,
           0.7128897904292939,
           0.7090203333136695,
           -0.04729138768314237
          ],
          [
           0.3899782287523173,
           -0.33400290209937555,
           0.046810888324365287,
           -0.6212270384027092,
           -0.0034285524109444773,
           -0.21089741399113998,
           0.08184974664907048,
           0.19052261859268577,
           -0.2350214479341368,
           0.6077883545289897,
           1.0,
           0.7516614207343364,
           0.7490403410777128,
           0.7912250608964534,
           0.7019761179891535,
           0.7049844769381679,
           -0.33281919168942464
          ],
          [
           0.3512674927006529,
           -0.2624017008722287,
           0.030758589318371492,
           -0.5384542406752206,
           -0.0020321828663321297,
           -0.15277995151820215,
           0.08705503883244702,
           0.1624446811746047,
           -0.21037168259302638,
           0.6582871609558053,
           0.7516614207343364,
           1.0,
           0.7406042287185062,
           0.7540950876544701,
           0.7206706881613751,
           0.7167004206351626,
           -0.2914489249307383
          ],
          [
           0.39021627830199085,
           -0.27632638679521504,
           0.024602621050648137,
           -0.5134398978767613,
           0.005091657802999698,
           -0.157095424132468,
           0.09445147421359291,
           0.15643924145323662,
           -0.20046265177459954,
           0.6629574049627321,
           0.7490403410777128,
           0.7406042287185062,
           1.0,
           0.767970272213632,
           0.7632788360941349,
           0.7668205631466749,
           -0.2814648246574711
          ],
          [
           0.41844030738725446,
           -0.3107491658691425,
           0.04246602132291168,
           -0.5975939631179933,
           9.851821349823018E-4,
           -0.22377032380863496,
           0.06907150292088703,
           0.18083172588512125,
           -0.23215519118372432,
           0.6097952724185709,
           0.7912250608964534,
           0.7540950876544701,
           0.767970272213632,
           1.0,
           0.7375775019062304,
           0.7371231246680667,
           -0.3298522644699351
          ],
          [
           0.3279513859967297,
           -0.20390687524085954,
           0.042929299365032196,
           -0.4230673804497346,
           0.0011562887567421434,
           -0.1301302963026457,
           0.08012697270011743,
           0.1403951239176391,
           -0.2024136054288872,
           0.7128897904292939,
           0.7019761179891535,
           0.7206706881613751,
           0.7632788360941349,
           0.7375775019062304,
           1.0,
           0.809608490744193,
           -0.20574215693991296
          ],
          [
           0.3309928283174669,
           -0.21181792505754882,
           0.03893620965896125,
           -0.42459823059400514,
           -1.9073538033127346E-4,
           -0.12080228171136248,
           0.07577867929613419,
           0.12581997072020246,
           -0.1958148031197955,
           0.7090203333136695,
           0.7049844769381679,
           0.7167004206351626,
           0.7668205631466749,
           0.7371231246680667,
           0.809608490744193,
           1.0,
           -0.20725609227308106
          ],
          [
           -0.39671262920984274,
           0.19182533166646878,
           0.10706200587340331,
           0.19335642223784716,
           -0.00861209507899784,
           0.15088932817647233,
           -0.15044754495917623,
           -0.1642214015797254,
           0.01942295938604914,
           -0.04729138768314237,
           -0.33281919168942464,
           -0.2914489249307383,
           -0.2814648246574711,
           -0.3298522644699351,
           -0.20574215693991296,
           -0.20725609227308106,
           1.0
          ]
         ],
         "type": "heatmap",
         "xaxis": "x",
         "yaxis": "y",
         "hovertemplate": "x: %{x}<br>y: %{y}<br>color: %{z}<extra></extra>"
        }
       ],
       "layout": {
        "template": {
         "data": {
          "histogram2dcontour": [
           {
            "type": "histogram2dcontour",
            "colorbar": {
             "outlinewidth": 0,
             "ticks": ""
            },
            "colorscale": [
             [
              0.0,
              "#0d0887"
             ],
             [
              0.1111111111111111,
              "#46039f"
             ],
             [
              0.2222222222222222,
              "#7201a8"
             ],
             [
              0.3333333333333333,
              "#9c179e"
             ],
             [
              0.4444444444444444,
              "#bd3786"
             ],
             [
              0.5555555555555556,
              "#d8576b"
             ],
             [
              0.6666666666666666,
              "#ed7953"
             ],
             [
              0.7777777777777778,
              "#fb9f3a"
             ],
             [
              0.8888888888888888,
              "#fdca26"
             ],
             [
              1.0,
              "#f0f921"
             ]
            ]
           }
          ],
          "choropleth": [
           {
            "type": "choropleth",
            "colorbar": {
             "outlinewidth": 0,
             "ticks": ""
            }
           }
          ],
          "histogram2d": [
           {
            "type": "histogram2d",
            "colorbar": {
             "outlinewidth": 0,
             "ticks": ""
            },
            "colorscale": [
             [
              0.0,
              "#0d0887"
             ],
             [
              0.1111111111111111,
              "#46039f"
             ],
             [
              0.2222222222222222,
              "#7201a8"
             ],
             [
              0.3333333333333333,
              "#9c179e"
             ],
             [
              0.4444444444444444,
              "#bd3786"
             ],
             [
              0.5555555555555556,
              "#d8576b"
             ],
             [
              0.6666666666666666,
              "#ed7953"
             ],
             [
              0.7777777777777778,
              "#fb9f3a"
             ],
             [
              0.8888888888888888,
              "#fdca26"
             ],
             [
              1.0,
              "#f0f921"
             ]
            ]
           }
          ],
          "heatmap": [
           {
            "type": "heatmap",
            "colorbar": {
             "outlinewidth": 0,
             "ticks": ""
            },
            "colorscale": [
             [
              0.0,
              "#0d0887"
             ],
             [
              0.1111111111111111,
              "#46039f"
             ],
             [
              0.2222222222222222,
              "#7201a8"
             ],
             [
              0.3333333333333333,
              "#9c179e"
             ],
             [
              0.4444444444444444,
              "#bd3786"
             ],
             [
              0.5555555555555556,
              "#d8576b"
             ],
             [
              0.6666666666666666,
              "#ed7953"
             ],
             [
              0.7777777777777778,
              "#fb9f3a"
             ],
             [
              0.8888888888888888,
              "#fdca26"
             ],
             [
              1.0,
              "#f0f921"
             ]
            ]
           }
          ],
          "heatmapgl": [
           {
            "type": "heatmapgl",
            "colorbar": {
             "outlinewidth": 0,
             "ticks": ""
            },
            "colorscale": [
             [
              0.0,
              "#0d0887"
             ],
             [
              0.1111111111111111,
              "#46039f"
             ],
             [
              0.2222222222222222,
              "#7201a8"
             ],
             [
              0.3333333333333333,
              "#9c179e"
             ],
             [
              0.4444444444444444,
              "#bd3786"
             ],
             [
              0.5555555555555556,
              "#d8576b"
             ],
             [
              0.6666666666666666,
              "#ed7953"
             ],
             [
              0.7777777777777778,
              "#fb9f3a"
             ],
             [
              0.8888888888888888,
              "#fdca26"
             ],
             [
              1.0,
              "#f0f921"
             ]
            ]
           }
          ],
          "contourcarpet": [
           {
            "type": "contourcarpet",
            "colorbar": {
             "outlinewidth": 0,
             "ticks": ""
            }
           }
          ],
          "contour": [
           {
            "type": "contour",
            "colorbar": {
             "outlinewidth": 0,
             "ticks": ""
            },
            "colorscale": [
             [
              0.0,
              "#0d0887"
             ],
             [
              0.1111111111111111,
              "#46039f"
             ],
             [
              0.2222222222222222,
              "#7201a8"
             ],
             [
              0.3333333333333333,
              "#9c179e"
             ],
             [
              0.4444444444444444,
              "#bd3786"
             ],
             [
              0.5555555555555556,
              "#d8576b"
             ],
             [
              0.6666666666666666,
              "#ed7953"
             ],
             [
              0.7777777777777778,
              "#fb9f3a"
             ],
             [
              0.8888888888888888,
              "#fdca26"
             ],
             [
              1.0,
              "#f0f921"
             ]
            ]
           }
          ],
          "surface": [
           {
            "type": "surface",
            "colorbar": {
             "outlinewidth": 0,
             "ticks": ""
            },
            "colorscale": [
             [
              0.0,
              "#0d0887"
             ],
             [
              0.1111111111111111,
              "#46039f"
             ],
             [
              0.2222222222222222,
              "#7201a8"
             ],
             [
              0.3333333333333333,
              "#9c179e"
             ],
             [
              0.4444444444444444,
              "#bd3786"
             ],
             [
              0.5555555555555556,
              "#d8576b"
             ],
             [
              0.6666666666666666,
              "#ed7953"
             ],
             [
              0.7777777777777778,
              "#fb9f3a"
             ],
             [
              0.8888888888888888,
              "#fdca26"
             ],
             [
              1.0,
              "#f0f921"
             ]
            ]
           }
          ],
          "mesh3d": [
           {
            "type": "mesh3d",
            "colorbar": {
             "outlinewidth": 0,
             "ticks": ""
            }
           }
          ],
          "scatter": [
           {
            "marker": {
             "line": {
              "color": "#283442"
             }
            },
            "type": "scatter"
           }
          ],
          "parcoords": [
           {
            "type": "parcoords",
            "line": {
             "colorbar": {
              "outlinewidth": 0,
              "ticks": ""
             }
            }
           }
          ],
          "scatterpolargl": [
           {
            "type": "scatterpolargl",
            "marker": {
             "colorbar": {
              "outlinewidth": 0,
              "ticks": ""
             }
            }
           }
          ],
          "bar": [
           {
            "error_x": {
             "color": "#f2f5fa"
            },
            "error_y": {
             "color": "#f2f5fa"
            },
            "marker": {
             "line": {
              "color": "rgb(17,17,17)",
              "width": 0.5
             },
             "pattern": {
              "fillmode": "overlay",
              "size": 10,
              "solidity": 0.2
             }
            },
            "type": "bar"
           }
          ],
          "scattergeo": [
           {
            "type": "scattergeo",
            "marker": {
             "colorbar": {
              "outlinewidth": 0,
              "ticks": ""
             }
            }
           }
          ],
          "scatterpolar": [
           {
            "type": "scatterpolar",
            "marker": {
             "colorbar": {
              "outlinewidth": 0,
              "ticks": ""
             }
            }
           }
          ],
          "histogram": [
           {
            "marker": {
             "pattern": {
              "fillmode": "overlay",
              "size": 10,
              "solidity": 0.2
             }
            },
            "type": "histogram"
           }
          ],
          "scattergl": [
           {
            "marker": {
             "line": {
              "color": "#283442"
             }
            },
            "type": "scattergl"
           }
          ],
          "scatter3d": [
           {
            "type": "scatter3d",
            "line": {
             "colorbar": {
              "outlinewidth": 0,
              "ticks": ""
             }
            },
            "marker": {
             "colorbar": {
              "outlinewidth": 0,
              "ticks": ""
             }
            }
           }
          ],
          "scattermapbox": [
           {
            "type": "scattermapbox",
            "marker": {
             "colorbar": {
              "outlinewidth": 0,
              "ticks": ""
             }
            }
           }
          ],
          "scatterternary": [
           {
            "type": "scatterternary",
            "marker": {
             "colorbar": {
              "outlinewidth": 0,
              "ticks": ""
             }
            }
           }
          ],
          "scattercarpet": [
           {
            "type": "scattercarpet",
            "marker": {
             "colorbar": {
              "outlinewidth": 0,
              "ticks": ""
             }
            }
           }
          ],
          "carpet": [
           {
            "aaxis": {
             "endlinecolor": "#A2B1C6",
             "gridcolor": "#506784",
             "linecolor": "#506784",
             "minorgridcolor": "#506784",
             "startlinecolor": "#A2B1C6"
            },
            "baxis": {
             "endlinecolor": "#A2B1C6",
             "gridcolor": "#506784",
             "linecolor": "#506784",
             "minorgridcolor": "#506784",
             "startlinecolor": "#A2B1C6"
            },
            "type": "carpet"
           }
          ],
          "table": [
           {
            "cells": {
             "fill": {
              "color": "#506784"
             },
             "line": {
              "color": "rgb(17,17,17)"
             }
            },
            "header": {
             "fill": {
              "color": "#2a3f5f"
             },
             "line": {
              "color": "rgb(17,17,17)"
             }
            },
            "type": "table"
           }
          ],
          "barpolar": [
           {
            "marker": {
             "line": {
              "color": "rgb(17,17,17)",
              "width": 0.5
             },
             "pattern": {
              "fillmode": "overlay",
              "size": 10,
              "solidity": 0.2
             }
            },
            "type": "barpolar"
           }
          ],
          "pie": [
           {
            "automargin": true,
            "type": "pie"
           }
          ]
         },
         "layout": {
          "autotypenumbers": "strict",
          "colorway": [
           "#636efa",
           "#EF553B",
           "#00cc96",
           "#ab63fa",
           "#FFA15A",
           "#19d3f3",
           "#FF6692",
           "#B6E880",
           "#FF97FF",
           "#FECB52"
          ],
          "font": {
           "color": "#f2f5fa"
          },
          "hovermode": "closest",
          "hoverlabel": {
           "align": "left"
          },
          "paper_bgcolor": "rgb(17,17,17)",
          "plot_bgcolor": "rgb(17,17,17)",
          "polar": {
           "bgcolor": "rgb(17,17,17)",
           "angularaxis": {
            "gridcolor": "#506784",
            "linecolor": "#506784",
            "ticks": ""
           },
           "radialaxis": {
            "gridcolor": "#506784",
            "linecolor": "#506784",
            "ticks": ""
           }
          },
          "ternary": {
           "bgcolor": "rgb(17,17,17)",
           "aaxis": {
            "gridcolor": "#506784",
            "linecolor": "#506784",
            "ticks": ""
           },
           "baxis": {
            "gridcolor": "#506784",
            "linecolor": "#506784",
            "ticks": ""
           },
           "caxis": {
            "gridcolor": "#506784",
            "linecolor": "#506784",
            "ticks": ""
           }
          },
          "coloraxis": {
           "colorbar": {
            "outlinewidth": 0,
            "ticks": ""
           }
          },
          "colorscale": {
           "sequential": [
            [
             0.0,
             "#0d0887"
            ],
            [
             0.1111111111111111,
             "#46039f"
            ],
            [
             0.2222222222222222,
             "#7201a8"
            ],
            [
             0.3333333333333333,
             "#9c179e"
            ],
            [
             0.4444444444444444,
             "#bd3786"
            ],
            [
             0.5555555555555556,
             "#d8576b"
            ],
            [
             0.6666666666666666,
             "#ed7953"
            ],
            [
             0.7777777777777778,
             "#fb9f3a"
            ],
            [
             0.8888888888888888,
             "#fdca26"
            ],
            [
             1.0,
             "#f0f921"
            ]
           ],
           "sequentialminus": [
            [
             0.0,
             "#0d0887"
            ],
            [
             0.1111111111111111,
             "#46039f"
            ],
            [
             0.2222222222222222,
             "#7201a8"
            ],
            [
             0.3333333333333333,
             "#9c179e"
            ],
            [
             0.4444444444444444,
             "#bd3786"
            ],
            [
             0.5555555555555556,
             "#d8576b"
            ],
            [
             0.6666666666666666,
             "#ed7953"
            ],
            [
             0.7777777777777778,
             "#fb9f3a"
            ],
            [
             0.8888888888888888,
             "#fdca26"
            ],
            [
             1.0,
             "#f0f921"
            ]
           ],
           "diverging": [
            [
             0,
             "#8e0152"
            ],
            [
             0.1,
             "#c51b7d"
            ],
            [
             0.2,
             "#de77ae"
            ],
            [
             0.3,
             "#f1b6da"
            ],
            [
             0.4,
             "#fde0ef"
            ],
            [
             0.5,
             "#f7f7f7"
            ],
            [
             0.6,
             "#e6f5d0"
            ],
            [
             0.7,
             "#b8e186"
            ],
            [
             0.8,
             "#7fbc41"
            ],
            [
             0.9,
             "#4d9221"
            ],
            [
             1,
             "#276419"
            ]
           ]
          },
          "xaxis": {
           "gridcolor": "#283442",
           "linecolor": "#506784",
           "ticks": "",
           "title": {
            "standoff": 15
           },
           "zerolinecolor": "#283442",
           "automargin": true,
           "zerolinewidth": 2
          },
          "yaxis": {
           "gridcolor": "#283442",
           "linecolor": "#506784",
           "ticks": "",
           "title": {
            "standoff": 15
           },
           "zerolinecolor": "#283442",
           "automargin": true,
           "zerolinewidth": 2
          },
          "scene": {
           "xaxis": {
            "backgroundcolor": "rgb(17,17,17)",
            "gridcolor": "#506784",
            "linecolor": "#506784",
            "showbackground": true,
            "ticks": "",
            "zerolinecolor": "#C8D4E3",
            "gridwidth": 2
           },
           "yaxis": {
            "backgroundcolor": "rgb(17,17,17)",
            "gridcolor": "#506784",
            "linecolor": "#506784",
            "showbackground": true,
            "ticks": "",
            "zerolinecolor": "#C8D4E3",
            "gridwidth": 2
           },
           "zaxis": {
            "backgroundcolor": "rgb(17,17,17)",
            "gridcolor": "#506784",
            "linecolor": "#506784",
            "showbackground": true,
            "ticks": "",
            "zerolinecolor": "#C8D4E3",
            "gridwidth": 2
           }
          },
          "shapedefaults": {
           "line": {
            "color": "#f2f5fa"
           }
          },
          "annotationdefaults": {
           "arrowcolor": "#f2f5fa",
           "arrowhead": 0,
           "arrowwidth": 1
          },
          "geo": {
           "bgcolor": "rgb(17,17,17)",
           "landcolor": "rgb(17,17,17)",
           "subunitcolor": "#506784",
           "showland": true,
           "showlakes": true,
           "lakecolor": "rgb(17,17,17)"
          },
          "title": {
           "x": 0.05
          },
          "updatemenudefaults": {
           "bgcolor": "#506784",
           "borderwidth": 0
          },
          "sliderdefaults": {
           "bgcolor": "#C8D4E3",
           "borderwidth": 1,
           "bordercolor": "rgb(17,17,17)",
           "tickwidth": 0
          },
          "mapbox": {
           "style": "dark"
          }
         }
        },
        "xaxis": {
         "anchor": "y",
         "domain": [
          0.0,
          1.0
         ],
         "scaleanchor": "y",
         "constrain": "domain"
        },
        "yaxis": {
         "anchor": "x",
         "domain": [
          0.0,
          1.0
         ],
         "autorange": "reversed",
         "constrain": "domain"
        },
        "coloraxis": {
         "colorscale": [
          [
           0.0,
           "#0d0887"
          ],
          [
           0.1111111111111111,
           "#46039f"
          ],
          [
           0.2222222222222222,
           "#7201a8"
          ],
          [
           0.3333333333333333,
           "#9c179e"
          ],
          [
           0.4444444444444444,
           "#bd3786"
          ],
          [
           0.5555555555555556,
           "#d8576b"
          ],
          [
           0.6666666666666666,
           "#ed7953"
          ],
          [
           0.7777777777777778,
           "#fb9f3a"
          ],
          [
           0.8888888888888888,
           "#fdca26"
          ],
          [
           1.0,
           "#f0f921"
          ]
         ]
        },
        "margin": {
         "t": 60
        }
       },
       "config": {
        "plotlyServerURL": "https://plot.ly"
       }
      },
      "text/html": "<div>                            <div id=\"26e6c6dc-b828-414a-9b73-c172a97f4f5d\" class=\"plotly-graph-div\" style=\"height:525px; width:100%;\"></div>            <script type=\"text/javascript\">                require([\"plotly\"], function(Plotly) {                    window.PLOTLYENV=window.PLOTLYENV || {};                                    if (document.getElementById(\"26e6c6dc-b828-414a-9b73-c172a97f4f5d\")) {                    Plotly.newPlot(                        \"26e6c6dc-b828-414a-9b73-c172a97f4f5d\",                        [{\"coloraxis\":\"coloraxis\",\"name\":\"0\",\"texttemplate\":\"%{z}\",\"x\":[\"Type\",\"PaperlessBilling\",\"PaymentMethod\",\"MonthlyCharges\",\"gender\",\"SeniorCitizen\",\"Partner\",\"Dependents\",\"MultipleLines\",\"InternetService\",\"OnlineSecurity\",\"OnlineBackup\",\"DeviceProtection\",\"TechSupport\",\"StreamingTV\",\"StreamingMovies\",\"churn\"],\"y\":[\"Type\",\"PaperlessBilling\",\"PaymentMethod\",\"MonthlyCharges\",\"gender\",\"SeniorCitizen\",\"Partner\",\"Dependents\",\"MultipleLines\",\"InternetService\",\"OnlineSecurity\",\"OnlineBackup\",\"DeviceProtection\",\"TechSupport\",\"StreamingTV\",\"StreamingMovies\",\"churn\"],\"z\":[[1.0,-0.1767330778205538,-0.22754349681632216,-0.0741946671919536,0.00012574765070889364,-0.1425540803170182,0.2948062243608579,0.24318747261123247,0.07861259235072145,0.09972078257606634,0.3899782287523173,0.3512674927006529,0.39021627830199085,0.41844030738725446,0.3279513859967297,0.3309928283174669,-0.39671262920984274],[-0.1767330778205538,1.0,-0.0629039511534789,0.35214996779598723,-0.011753691221222154,0.15652955931117266,-0.014876622287891066,-0.11137722919364466,0.108229689642329,-0.13862477861415184,-0.33400290209937555,-0.2624017008722287,-0.27632638679521504,-0.3107491658691425,-0.20390687524085954,-0.21181792505754882,0.19182533166646878],[-0.22754349681632216,-0.0629039511534789,1.0,-0.1934072938809708,0.01735226409336926,-0.038550813356240665,-0.15479752884431663,-0.04029189884281971,-0.124981716095159,0.08613985814228342,0.046810888324365287,0.030758589318371492,0.024602621050648137,0.04246602132291168,0.042929299365032196,0.03893620965896125,0.10706200587340331],[-0.0741946671919536,0.35214996779598723,-0.1934072938809708,1.0,-0.014569323728667174,0.22017333857627205,0.0968479362564748,-0.11389023002193566,0.14615347562069828,-0.3232601923373466,-0.6212270384027092,-0.5384542406752206,-0.5134398978767613,-0.5975939631179933,-0.4230673804497346,-0.42459823059400514,0.19335642223784716],[0.00012574765070889364,-0.011753691221222154,0.01735226409336926,-0.014569323728667174,1.0,-0.0018737116382607595,-0.0018080796617890192,0.010516611922734075,-0.00048459846196555835,-0.0008633824690842106,-0.0034285524109444773,-0.0020321828663321297,0.005091657802999698,0.0009851821349823018,0.0011562887567421434,-0.00019073538033127346,-0.00861209507899784],[-0.1425540803170182,0.15652955931117266,-0.038550813356240665,0.22017333857627205,-0.0018737116382607595,1.0,0.01647865759741389,-0.2111850884939573,0.0998833677853393,-0.03231015021349379,-0.21089741399113998,-0.15277995151820215,-0.157095424132468,-0.22377032380863496,-0.1301302963026457,-0.12080228171136248,0.15088932817647233],[0.2948062243608579,-0.014876622287891066,-0.15479752884431663,0.0968479362564748,-0.0018080796617890192,0.01647865759741389,1.0,0.4526762829294659,0.09098130541406196,0.00089134690104755,0.08184974664907048,0.08705503883244702,0.09445147421359291,0.06907150292088703,0.08012697270011743,0.07577867929613419,-0.15044754495917623],[0.24318747261123247,-0.11137722919364466,-0.04029189884281971,-0.11389023002193566,0.010516611922734075,-0.2111850884939573,0.4526762829294659,1.0,-0.01687545356267043,0.044590440655243486,0.19052261859268577,0.1624446811746047,0.15643924145323662,0.18083172588512125,0.1403951239176391,0.12581997072020246,-0.1642214015797254],[0.07861259235072145,0.108229689642329,-0.124981716095159,0.14615347562069828,-0.00048459846196555835,0.0998833677853393,0.09098130541406196,-0.01687545356267043,1.0,-0.340949439495442,-0.2350214479341368,-0.21037168259302638,-0.20046265177459954,-0.23215519118372432,-0.2024136054288872,-0.1958148031197955,0.01942295938604914],[0.09972078257606634,-0.13862477861415184,0.08613985814228342,-0.3232601923373466,-0.0008633824690842106,-0.03231015021349379,0.00089134690104755,0.044590440655243486,-0.340949439495442,1.0,0.6077883545289897,0.6582871609558053,0.6629574049627321,0.6097952724185709,0.7128897904292939,0.7090203333136695,-0.04729138768314237],[0.3899782287523173,-0.33400290209937555,0.046810888324365287,-0.6212270384027092,-0.0034285524109444773,-0.21089741399113998,0.08184974664907048,0.19052261859268577,-0.2350214479341368,0.6077883545289897,1.0,0.7516614207343364,0.7490403410777128,0.7912250608964534,0.7019761179891535,0.7049844769381679,-0.33281919168942464],[0.3512674927006529,-0.2624017008722287,0.030758589318371492,-0.5384542406752206,-0.0020321828663321297,-0.15277995151820215,0.08705503883244702,0.1624446811746047,-0.21037168259302638,0.6582871609558053,0.7516614207343364,1.0,0.7406042287185062,0.7540950876544701,0.7206706881613751,0.7167004206351626,-0.2914489249307383],[0.39021627830199085,-0.27632638679521504,0.024602621050648137,-0.5134398978767613,0.005091657802999698,-0.157095424132468,0.09445147421359291,0.15643924145323662,-0.20046265177459954,0.6629574049627321,0.7490403410777128,0.7406042287185062,1.0,0.767970272213632,0.7632788360941349,0.7668205631466749,-0.2814648246574711],[0.41844030738725446,-0.3107491658691425,0.04246602132291168,-0.5975939631179933,0.0009851821349823018,-0.22377032380863496,0.06907150292088703,0.18083172588512125,-0.23215519118372432,0.6097952724185709,0.7912250608964534,0.7540950876544701,0.767970272213632,1.0,0.7375775019062304,0.7371231246680667,-0.3298522644699351],[0.3279513859967297,-0.20390687524085954,0.042929299365032196,-0.4230673804497346,0.0011562887567421434,-0.1301302963026457,0.08012697270011743,0.1403951239176391,-0.2024136054288872,0.7128897904292939,0.7019761179891535,0.7206706881613751,0.7632788360941349,0.7375775019062304,1.0,0.809608490744193,-0.20574215693991296],[0.3309928283174669,-0.21181792505754882,0.03893620965896125,-0.42459823059400514,-0.00019073538033127346,-0.12080228171136248,0.07577867929613419,0.12581997072020246,-0.1958148031197955,0.7090203333136695,0.7049844769381679,0.7167004206351626,0.7668205631466749,0.7371231246680667,0.809608490744193,1.0,-0.20725609227308106],[-0.39671262920984274,0.19182533166646878,0.10706200587340331,0.19335642223784716,-0.00861209507899784,0.15088932817647233,-0.15044754495917623,-0.1642214015797254,0.01942295938604914,-0.04729138768314237,-0.33281919168942464,-0.2914489249307383,-0.2814648246574711,-0.3298522644699351,-0.20574215693991296,-0.20725609227308106,1.0]],\"type\":\"heatmap\",\"xaxis\":\"x\",\"yaxis\":\"y\",\"hovertemplate\":\"x: %{x}<br>y: %{y}<br>color: %{z}<extra></extra>\"}],                        {\"template\":{\"data\":{\"histogram2dcontour\":[{\"type\":\"histogram2dcontour\",\"colorbar\":{\"outlinewidth\":0,\"ticks\":\"\"},\"colorscale\":[[0.0,\"#0d0887\"],[0.1111111111111111,\"#46039f\"],[0.2222222222222222,\"#7201a8\"],[0.3333333333333333,\"#9c179e\"],[0.4444444444444444,\"#bd3786\"],[0.5555555555555556,\"#d8576b\"],[0.6666666666666666,\"#ed7953\"],[0.7777777777777778,\"#fb9f3a\"],[0.8888888888888888,\"#fdca26\"],[1.0,\"#f0f921\"]]}],\"choropleth\":[{\"type\":\"choropleth\",\"colorbar\":{\"outlinewidth\":0,\"ticks\":\"\"}}],\"histogram2d\":[{\"type\":\"histogram2d\",\"colorbar\":{\"outlinewidth\":0,\"ticks\":\"\"},\"colorscale\":[[0.0,\"#0d0887\"],[0.1111111111111111,\"#46039f\"],[0.2222222222222222,\"#7201a8\"],[0.3333333333333333,\"#9c179e\"],[0.4444444444444444,\"#bd3786\"],[0.5555555555555556,\"#d8576b\"],[0.6666666666666666,\"#ed7953\"],[0.7777777777777778,\"#fb9f3a\"],[0.8888888888888888,\"#fdca26\"],[1.0,\"#f0f921\"]]}],\"heatmap\":[{\"type\":\"heatmap\",\"colorbar\":{\"outlinewidth\":0,\"ticks\":\"\"},\"colorscale\":[[0.0,\"#0d0887\"],[0.1111111111111111,\"#46039f\"],[0.2222222222222222,\"#7201a8\"],[0.3333333333333333,\"#9c179e\"],[0.4444444444444444,\"#bd3786\"],[0.5555555555555556,\"#d8576b\"],[0.6666666666666666,\"#ed7953\"],[0.7777777777777778,\"#fb9f3a\"],[0.8888888888888888,\"#fdca26\"],[1.0,\"#f0f921\"]]}],\"heatmapgl\":[{\"type\":\"heatmapgl\",\"colorbar\":{\"outlinewidth\":0,\"ticks\":\"\"},\"colorscale\":[[0.0,\"#0d0887\"],[0.1111111111111111,\"#46039f\"],[0.2222222222222222,\"#7201a8\"],[0.3333333333333333,\"#9c179e\"],[0.4444444444444444,\"#bd3786\"],[0.5555555555555556,\"#d8576b\"],[0.6666666666666666,\"#ed7953\"],[0.7777777777777778,\"#fb9f3a\"],[0.8888888888888888,\"#fdca26\"],[1.0,\"#f0f921\"]]}],\"contourcarpet\":[{\"type\":\"contourcarpet\",\"colorbar\":{\"outlinewidth\":0,\"ticks\":\"\"}}],\"contour\":[{\"type\":\"contour\",\"colorbar\":{\"outlinewidth\":0,\"ticks\":\"\"},\"colorscale\":[[0.0,\"#0d0887\"],[0.1111111111111111,\"#46039f\"],[0.2222222222222222,\"#7201a8\"],[0.3333333333333333,\"#9c179e\"],[0.4444444444444444,\"#bd3786\"],[0.5555555555555556,\"#d8576b\"],[0.6666666666666666,\"#ed7953\"],[0.7777777777777778,\"#fb9f3a\"],[0.8888888888888888,\"#fdca26\"],[1.0,\"#f0f921\"]]}],\"surface\":[{\"type\":\"surface\",\"colorbar\":{\"outlinewidth\":0,\"ticks\":\"\"},\"colorscale\":[[0.0,\"#0d0887\"],[0.1111111111111111,\"#46039f\"],[0.2222222222222222,\"#7201a8\"],[0.3333333333333333,\"#9c179e\"],[0.4444444444444444,\"#bd3786\"],[0.5555555555555556,\"#d8576b\"],[0.6666666666666666,\"#ed7953\"],[0.7777777777777778,\"#fb9f3a\"],[0.8888888888888888,\"#fdca26\"],[1.0,\"#f0f921\"]]}],\"mesh3d\":[{\"type\":\"mesh3d\",\"colorbar\":{\"outlinewidth\":0,\"ticks\":\"\"}}],\"scatter\":[{\"marker\":{\"line\":{\"color\":\"#283442\"}},\"type\":\"scatter\"}],\"parcoords\":[{\"type\":\"parcoords\",\"line\":{\"colorbar\":{\"outlinewidth\":0,\"ticks\":\"\"}}}],\"scatterpolargl\":[{\"type\":\"scatterpolargl\",\"marker\":{\"colorbar\":{\"outlinewidth\":0,\"ticks\":\"\"}}}],\"bar\":[{\"error_x\":{\"color\":\"#f2f5fa\"},\"error_y\":{\"color\":\"#f2f5fa\"},\"marker\":{\"line\":{\"color\":\"rgb(17,17,17)\",\"width\":0.5},\"pattern\":{\"fillmode\":\"overlay\",\"size\":10,\"solidity\":0.2}},\"type\":\"bar\"}],\"scattergeo\":[{\"type\":\"scattergeo\",\"marker\":{\"colorbar\":{\"outlinewidth\":0,\"ticks\":\"\"}}}],\"scatterpolar\":[{\"type\":\"scatterpolar\",\"marker\":{\"colorbar\":{\"outlinewidth\":0,\"ticks\":\"\"}}}],\"histogram\":[{\"marker\":{\"pattern\":{\"fillmode\":\"overlay\",\"size\":10,\"solidity\":0.2}},\"type\":\"histogram\"}],\"scattergl\":[{\"marker\":{\"line\":{\"color\":\"#283442\"}},\"type\":\"scattergl\"}],\"scatter3d\":[{\"type\":\"scatter3d\",\"line\":{\"colorbar\":{\"outlinewidth\":0,\"ticks\":\"\"}},\"marker\":{\"colorbar\":{\"outlinewidth\":0,\"ticks\":\"\"}}}],\"scattermapbox\":[{\"type\":\"scattermapbox\",\"marker\":{\"colorbar\":{\"outlinewidth\":0,\"ticks\":\"\"}}}],\"scatterternary\":[{\"type\":\"scatterternary\",\"marker\":{\"colorbar\":{\"outlinewidth\":0,\"ticks\":\"\"}}}],\"scattercarpet\":[{\"type\":\"scattercarpet\",\"marker\":{\"colorbar\":{\"outlinewidth\":0,\"ticks\":\"\"}}}],\"carpet\":[{\"aaxis\":{\"endlinecolor\":\"#A2B1C6\",\"gridcolor\":\"#506784\",\"linecolor\":\"#506784\",\"minorgridcolor\":\"#506784\",\"startlinecolor\":\"#A2B1C6\"},\"baxis\":{\"endlinecolor\":\"#A2B1C6\",\"gridcolor\":\"#506784\",\"linecolor\":\"#506784\",\"minorgridcolor\":\"#506784\",\"startlinecolor\":\"#A2B1C6\"},\"type\":\"carpet\"}],\"table\":[{\"cells\":{\"fill\":{\"color\":\"#506784\"},\"line\":{\"color\":\"rgb(17,17,17)\"}},\"header\":{\"fill\":{\"color\":\"#2a3f5f\"},\"line\":{\"color\":\"rgb(17,17,17)\"}},\"type\":\"table\"}],\"barpolar\":[{\"marker\":{\"line\":{\"color\":\"rgb(17,17,17)\",\"width\":0.5},\"pattern\":{\"fillmode\":\"overlay\",\"size\":10,\"solidity\":0.2}},\"type\":\"barpolar\"}],\"pie\":[{\"automargin\":true,\"type\":\"pie\"}]},\"layout\":{\"autotypenumbers\":\"strict\",\"colorway\":[\"#636efa\",\"#EF553B\",\"#00cc96\",\"#ab63fa\",\"#FFA15A\",\"#19d3f3\",\"#FF6692\",\"#B6E880\",\"#FF97FF\",\"#FECB52\"],\"font\":{\"color\":\"#f2f5fa\"},\"hovermode\":\"closest\",\"hoverlabel\":{\"align\":\"left\"},\"paper_bgcolor\":\"rgb(17,17,17)\",\"plot_bgcolor\":\"rgb(17,17,17)\",\"polar\":{\"bgcolor\":\"rgb(17,17,17)\",\"angularaxis\":{\"gridcolor\":\"#506784\",\"linecolor\":\"#506784\",\"ticks\":\"\"},\"radialaxis\":{\"gridcolor\":\"#506784\",\"linecolor\":\"#506784\",\"ticks\":\"\"}},\"ternary\":{\"bgcolor\":\"rgb(17,17,17)\",\"aaxis\":{\"gridcolor\":\"#506784\",\"linecolor\":\"#506784\",\"ticks\":\"\"},\"baxis\":{\"gridcolor\":\"#506784\",\"linecolor\":\"#506784\",\"ticks\":\"\"},\"caxis\":{\"gridcolor\":\"#506784\",\"linecolor\":\"#506784\",\"ticks\":\"\"}},\"coloraxis\":{\"colorbar\":{\"outlinewidth\":0,\"ticks\":\"\"}},\"colorscale\":{\"sequential\":[[0.0,\"#0d0887\"],[0.1111111111111111,\"#46039f\"],[0.2222222222222222,\"#7201a8\"],[0.3333333333333333,\"#9c179e\"],[0.4444444444444444,\"#bd3786\"],[0.5555555555555556,\"#d8576b\"],[0.6666666666666666,\"#ed7953\"],[0.7777777777777778,\"#fb9f3a\"],[0.8888888888888888,\"#fdca26\"],[1.0,\"#f0f921\"]],\"sequentialminus\":[[0.0,\"#0d0887\"],[0.1111111111111111,\"#46039f\"],[0.2222222222222222,\"#7201a8\"],[0.3333333333333333,\"#9c179e\"],[0.4444444444444444,\"#bd3786\"],[0.5555555555555556,\"#d8576b\"],[0.6666666666666666,\"#ed7953\"],[0.7777777777777778,\"#fb9f3a\"],[0.8888888888888888,\"#fdca26\"],[1.0,\"#f0f921\"]],\"diverging\":[[0,\"#8e0152\"],[0.1,\"#c51b7d\"],[0.2,\"#de77ae\"],[0.3,\"#f1b6da\"],[0.4,\"#fde0ef\"],[0.5,\"#f7f7f7\"],[0.6,\"#e6f5d0\"],[0.7,\"#b8e186\"],[0.8,\"#7fbc41\"],[0.9,\"#4d9221\"],[1,\"#276419\"]]},\"xaxis\":{\"gridcolor\":\"#283442\",\"linecolor\":\"#506784\",\"ticks\":\"\",\"title\":{\"standoff\":15},\"zerolinecolor\":\"#283442\",\"automargin\":true,\"zerolinewidth\":2},\"yaxis\":{\"gridcolor\":\"#283442\",\"linecolor\":\"#506784\",\"ticks\":\"\",\"title\":{\"standoff\":15},\"zerolinecolor\":\"#283442\",\"automargin\":true,\"zerolinewidth\":2},\"scene\":{\"xaxis\":{\"backgroundcolor\":\"rgb(17,17,17)\",\"gridcolor\":\"#506784\",\"linecolor\":\"#506784\",\"showbackground\":true,\"ticks\":\"\",\"zerolinecolor\":\"#C8D4E3\",\"gridwidth\":2},\"yaxis\":{\"backgroundcolor\":\"rgb(17,17,17)\",\"gridcolor\":\"#506784\",\"linecolor\":\"#506784\",\"showbackground\":true,\"ticks\":\"\",\"zerolinecolor\":\"#C8D4E3\",\"gridwidth\":2},\"zaxis\":{\"backgroundcolor\":\"rgb(17,17,17)\",\"gridcolor\":\"#506784\",\"linecolor\":\"#506784\",\"showbackground\":true,\"ticks\":\"\",\"zerolinecolor\":\"#C8D4E3\",\"gridwidth\":2}},\"shapedefaults\":{\"line\":{\"color\":\"#f2f5fa\"}},\"annotationdefaults\":{\"arrowcolor\":\"#f2f5fa\",\"arrowhead\":0,\"arrowwidth\":1},\"geo\":{\"bgcolor\":\"rgb(17,17,17)\",\"landcolor\":\"rgb(17,17,17)\",\"subunitcolor\":\"#506784\",\"showland\":true,\"showlakes\":true,\"lakecolor\":\"rgb(17,17,17)\"},\"title\":{\"x\":0.05},\"updatemenudefaults\":{\"bgcolor\":\"#506784\",\"borderwidth\":0},\"sliderdefaults\":{\"bgcolor\":\"#C8D4E3\",\"borderwidth\":1,\"bordercolor\":\"rgb(17,17,17)\",\"tickwidth\":0},\"mapbox\":{\"style\":\"dark\"}}},\"xaxis\":{\"anchor\":\"y\",\"domain\":[0.0,1.0],\"scaleanchor\":\"y\",\"constrain\":\"domain\"},\"yaxis\":{\"anchor\":\"x\",\"domain\":[0.0,1.0],\"autorange\":\"reversed\",\"constrain\":\"domain\"},\"coloraxis\":{\"colorscale\":[[0.0,\"#0d0887\"],[0.1111111111111111,\"#46039f\"],[0.2222222222222222,\"#7201a8\"],[0.3333333333333333,\"#9c179e\"],[0.4444444444444444,\"#bd3786\"],[0.5555555555555556,\"#d8576b\"],[0.6666666666666666,\"#ed7953\"],[0.7777777777777778,\"#fb9f3a\"],[0.8888888888888888,\"#fdca26\"],[1.0,\"#f0f921\"]]},\"margin\":{\"t\":60}},                        {\"responsive\": true}                    ).then(function(){\n                            \nvar gd = document.getElementById('26e6c6dc-b828-414a-9b73-c172a97f4f5d');\nvar x = new MutationObserver(function (mutations, observer) {{\n        var display = window.getComputedStyle(gd).display;\n        if (!display || display === 'none') {{\n            console.log([gd, 'removed!']);\n            Plotly.purge(gd);\n            observer.disconnect();\n        }}\n}});\n\n// Listen for the removal of the full notebook cells\nvar notebookContainer = gd.closest('#notebook-container');\nif (notebookContainer) {{\n    x.observe(notebookContainer, {childList: true});\n}}\n\n// Listen for the clearing of the current output cell\nvar outputEl = gd.closest('.output');\nif (outputEl) {{\n    x.observe(outputEl, {childList: true});\n}}\n\n                        })                };                });            </script>        </div>"
     },
     "metadata": {},
     "output_type": "display_data"
    }
   ],
   "source": [
    "px.imshow(full_data.corr(), text_auto=True).show()"
   ],
   "metadata": {
    "collapsed": false,
    "pycharm": {
     "name": "#%%\n"
    }
   }
  },
  {
   "cell_type": "markdown",
   "source": [
    "Видим, что целевой признак не имеет сильно скоррелированных признаков, зато признаки из таблицы internet довольно сильно скоррелированы между собой, может быть имеет смысл избавиться от этих признаков или сжать их с помощью PCA."
   ],
   "metadata": {
    "collapsed": false,
    "pycharm": {
     "name": "#%% md\n"
    }
   }
  },
  {
   "cell_type": "markdown",
   "source": [
    "## Вопросы:\n",
    "\n",
    "Что за колонки Partner и Dependents в таблице personal?"
   ],
   "metadata": {
    "collapsed": false,
    "pycharm": {
     "name": "#%% md\n"
    }
   }
  },
  {
   "cell_type": "markdown",
   "source": [
    "## План дальнейших действий:\n",
    "\n",
    " - заполнить пропуски в категориальных признаках\n",
    " - сжать данные высокоскоррелированных признаков методом РСА\n",
    " - произвести апсемплинг низкочастотного целевого признака\n",
    " - подобрать гиперпараметры и обучить разные модели классификации\n",
    " - подобрать threshold для моделей\n",
    " - сравнить метрики полученных моделей, построить conflusion matrix\n",
    " - написать выводы"
   ],
   "metadata": {
    "collapsed": false,
    "pycharm": {
     "name": "#%% md\n"
    }
   }
  }
 ],
 "metadata": {
  "kernelspec": {
   "display_name": "Python 3",
   "language": "python",
   "name": "python3"
  },
  "language_info": {
   "codemirror_mode": {
    "name": "ipython",
    "version": 2
   },
   "file_extension": ".py",
   "mimetype": "text/x-python",
   "name": "python",
   "nbconvert_exporter": "python",
   "pygments_lexer": "ipython2",
   "version": "2.7.6"
  }
 },
 "nbformat": 4,
 "nbformat_minor": 0
}