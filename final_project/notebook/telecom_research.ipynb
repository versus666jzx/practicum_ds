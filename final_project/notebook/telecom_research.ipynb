{
 "cells": [
  {
   "cell_type": "markdown",
   "source": [
    "# Задача\n",
    "\n",
    "Заказчику, крупной телеком компании «Ниединогоразрыва.ком», нужна модель для прогноза оттока клиентов.\n",
    "\n",
    "# Цель\n",
    "\n",
    "Модель будет оцениваться по метрике ROC-AUC, оценка модель будет производиться по следующим показателям:\n",
    "\n",
    "0 sp - AUC-ROC < 0.75\n",
    "4 sp - 0.75 ≤ AUC-ROC < 0.81\n",
    "4.5 sp - 0.81 ≤ AUC-ROC < 0.85\n",
    "5 sp - 0.85 ≤ AUC-ROC < 0.87\n",
    "5.5 sp - 0.87 ≤ AUC-ROC < 0.88\n",
    "6 sp - AUC-ROC ≥ 0.88\n",
    "\n",
    "\n",
    "# Описание данных\n",
    "\n",
    " - BeginDate – дата начала пользования услугами,\n",
    " - EndDate – дата окончания пользования услугами,\n",
    " - Type – тип оплаты: ежемесячный, годовой и тд,\n",
    " - PaperlessBilling – электронный документ об оплате,\n",
    " - PaymentMethod – способ оплаты,\n",
    " - MonthlyCharges – ежемесячные траты на услуги,\n",
    " - TotalCharges – всего потрачено денег на услуги\n",
    " - Dependents – наличие иждивенцев\n",
    " - Senior Citizen – наличие пенсионного статуса по возрасту\n",
    " - Partner – наличие супруга(и)\n",
    " - MultipleLines – наличие возможности ведения параллельных линий во время звонка\n",
    "\n",
    "# Доп. требования\n",
    "\n",
    "Параметр random_state имеет фиксированное значение 250722"
   ],
   "metadata": {
    "collapsed": false,
    "pycharm": {
     "name": "#%% md\n"
    }
   }
  },
  {
   "cell_type": "markdown",
   "source": [
    "# Шаг 1. Загрузка и анализ данных\n",
    "\n",
    "Загрузим необходимые библиотеки"
   ],
   "metadata": {
    "collapsed": false,
    "pycharm": {
     "name": "#%% md\n"
    }
   }
  },
  {
   "cell_type": "code",
   "execution_count": 166,
   "outputs": [],
   "source": [
    "from datetime import datetime\n",
    "\n",
    "import numpy as np\n",
    "import pandas as pd\n",
    "\n",
    "import plotly.express as px\n",
    "\n",
    "from sklearn.model_selection import StratifiedKFold, train_test_split, cross_val_score, RandomizedSearchCV\n",
    "from sklearn.preprocessing import LabelEncoder\n",
    "from sklearn.decomposition import PCA\n",
    "from sklearn.ensemble import RandomForestClassifier\n",
    "from sklearn.metrics import roc_auc_score, roc_curve, auc, confusion_matrix\n",
    "from sklearn.utils import shuffle\n",
    "\n",
    "from catboost import CatBoostClassifier\n",
    "\n",
    "# фиксируем random_state\n",
    "rs = 250722"
   ],
   "metadata": {
    "collapsed": false,
    "pycharm": {
     "name": "#%%\n"
    }
   }
  },
  {
   "cell_type": "markdown",
   "source": [
    "Загрузим данные и посмотрим на данные"
   ],
   "metadata": {
    "collapsed": false,
    "pycharm": {
     "name": "#%% md\n"
    }
   }
  },
  {
   "cell_type": "code",
   "execution_count": 167,
   "outputs": [],
   "source": [
    "try:\n",
    "\tcontract = pd.read_csv('../data/contract.csv')\n",
    "\tinternet = pd.read_csv('../data/internet.csv')\n",
    "\tpersonal = pd.read_csv('../data/personal.csv')\n",
    "\tphone = pd.read_csv('../data/phone.csv')\n",
    "except:\n",
    "\tcontract = pd.read_csv('/datasets/final_provider/contract.csv')\n",
    "\tinternet = pd.read_csv('/datasets/final_provider/internet.csv')\n",
    "\tpersonal = pd.read_csv('/datasets/final_provider/personal.csv')\n",
    "\tphone = pd.read_csv('/datasets/final_provider/phone.csv')\n",
    "\n",
    "# зададим имена датасетам и создадим список с табличками для удобства\n",
    "contract.name = 'contract_data'\n",
    "internet.name = 'internet_data'\n",
    "personal.name = 'personal_data'\n",
    "phone.name = 'phone_data'\n",
    "\n",
    "data_list = [contract, internet, personal, phone]"
   ],
   "metadata": {
    "collapsed": false,
    "pycharm": {
     "name": "#%%\n"
    }
   }
  },
  {
   "cell_type": "code",
   "execution_count": 168,
   "outputs": [
    {
     "name": "stdout",
     "output_type": "stream",
     "text": [
      "============================== contract_data ==============================\n",
      "<class 'pandas.core.frame.DataFrame'>\n",
      "RangeIndex: 7043 entries, 0 to 7042\n",
      "Data columns (total 8 columns):\n",
      " #   Column            Non-Null Count  Dtype  \n",
      "---  ------            --------------  -----  \n",
      " 0   customerID        7043 non-null   object \n",
      " 1   BeginDate         7043 non-null   object \n",
      " 2   EndDate           7043 non-null   object \n",
      " 3   Type              7043 non-null   object \n",
      " 4   PaperlessBilling  7043 non-null   object \n",
      " 5   PaymentMethod     7043 non-null   object \n",
      " 6   MonthlyCharges    7043 non-null   float64\n",
      " 7   TotalCharges      7043 non-null   object \n",
      "dtypes: float64(1), object(7)\n",
      "memory usage: 440.3+ KB\n",
      "============================== internet_data ==============================\n",
      "<class 'pandas.core.frame.DataFrame'>\n",
      "RangeIndex: 5517 entries, 0 to 5516\n",
      "Data columns (total 8 columns):\n",
      " #   Column            Non-Null Count  Dtype \n",
      "---  ------            --------------  ----- \n",
      " 0   customerID        5517 non-null   object\n",
      " 1   InternetService   5517 non-null   object\n",
      " 2   OnlineSecurity    5517 non-null   object\n",
      " 3   OnlineBackup      5517 non-null   object\n",
      " 4   DeviceProtection  5517 non-null   object\n",
      " 5   TechSupport       5517 non-null   object\n",
      " 6   StreamingTV       5517 non-null   object\n",
      " 7   StreamingMovies   5517 non-null   object\n",
      "dtypes: object(8)\n",
      "memory usage: 344.9+ KB\n",
      "============================== personal_data ==============================\n",
      "<class 'pandas.core.frame.DataFrame'>\n",
      "RangeIndex: 7043 entries, 0 to 7042\n",
      "Data columns (total 5 columns):\n",
      " #   Column         Non-Null Count  Dtype \n",
      "---  ------         --------------  ----- \n",
      " 0   customerID     7043 non-null   object\n",
      " 1   gender         7043 non-null   object\n",
      " 2   SeniorCitizen  7043 non-null   int64 \n",
      " 3   Partner        7043 non-null   object\n",
      " 4   Dependents     7043 non-null   object\n",
      "dtypes: int64(1), object(4)\n",
      "memory usage: 275.2+ KB\n",
      "============================== phone_data ==============================\n",
      "<class 'pandas.core.frame.DataFrame'>\n",
      "RangeIndex: 6361 entries, 0 to 6360\n",
      "Data columns (total 2 columns):\n",
      " #   Column         Non-Null Count  Dtype \n",
      "---  ------         --------------  ----- \n",
      " 0   customerID     6361 non-null   object\n",
      " 1   MultipleLines  6361 non-null   object\n",
      "dtypes: object(2)\n",
      "memory usage: 99.5+ KB\n"
     ]
    }
   ],
   "source": [
    "for data in data_list:\n",
    "\tprint(f\"{'=' * 30} {data.name} {'='*30}\")\n",
    "\tdata.info()"
   ],
   "metadata": {
    "collapsed": false,
    "pycharm": {
     "name": "#%%\n"
    }
   }
  },
  {
   "cell_type": "markdown",
   "source": [
    "\n",
    "В таблицах отсутствуют пропуски."
   ],
   "metadata": {
    "collapsed": false,
    "pycharm": {
     "name": "#%% md\n"
    }
   }
  },
  {
   "cell_type": "code",
   "execution_count": 169,
   "outputs": [
    {
     "data": {
      "text/plain": "'============================== contract_data =============================='"
     },
     "metadata": {},
     "output_type": "display_data"
    },
    {
     "data": {
      "text/plain": "      customerID   BeginDate              EndDate            Type  \\\n3989  7634-WSWDB  2019-06-01                   No  Month-to-month   \n3289  9626-VFRGG  2016-09-01                   No  Month-to-month   \n3551  7594-RQHXR  2019-09-01  2019-10-01 00:00:00  Month-to-month   \n3893  5816-SCGFC  2019-07-01                   No  Month-to-month   \n6648  2164-SOQXL  2018-06-01                   No  Month-to-month   \n2926  0106-UGRDO  2014-05-01                   No        Two year   \n5135  1156-ZFYDO  2020-01-01                   No  Month-to-month   \n2754  6351-SCJKT  2019-11-01                   No  Month-to-month   \n2748  2495-INZWQ  2019-08-01  2019-12-01 00:00:00  Month-to-month   \n1553  7776-QGYJC  2016-11-01                   No  Month-to-month   \n\n     PaperlessBilling              PaymentMethod  MonthlyCharges TotalCharges  \n3989              Yes           Electronic check           38.50        330.8  \n3289              Yes  Bank transfer (automatic)           88.50      3645.05  \n3551              Yes           Electronic check           79.60         79.6  \n3893              Yes               Mailed check           51.30       419.35  \n6648               No               Mailed check           20.05       406.05  \n2926              Yes           Electronic check          116.00      8182.85  \n5135               No           Electronic check           19.75        19.75  \n2754               No               Mailed check           41.35       107.25  \n2748              Yes           Electronic check           44.55        174.3  \n1553              Yes  Bank transfer (automatic)           81.50       3107.3  ",
      "text/html": "<div>\n<style scoped>\n    .dataframe tbody tr th:only-of-type {\n        vertical-align: middle;\n    }\n\n    .dataframe tbody tr th {\n        vertical-align: top;\n    }\n\n    .dataframe thead th {\n        text-align: right;\n    }\n</style>\n<table border=\"1\" class=\"dataframe\">\n  <thead>\n    <tr style=\"text-align: right;\">\n      <th></th>\n      <th>customerID</th>\n      <th>BeginDate</th>\n      <th>EndDate</th>\n      <th>Type</th>\n      <th>PaperlessBilling</th>\n      <th>PaymentMethod</th>\n      <th>MonthlyCharges</th>\n      <th>TotalCharges</th>\n    </tr>\n  </thead>\n  <tbody>\n    <tr>\n      <th>3989</th>\n      <td>7634-WSWDB</td>\n      <td>2019-06-01</td>\n      <td>No</td>\n      <td>Month-to-month</td>\n      <td>Yes</td>\n      <td>Electronic check</td>\n      <td>38.50</td>\n      <td>330.8</td>\n    </tr>\n    <tr>\n      <th>3289</th>\n      <td>9626-VFRGG</td>\n      <td>2016-09-01</td>\n      <td>No</td>\n      <td>Month-to-month</td>\n      <td>Yes</td>\n      <td>Bank transfer (automatic)</td>\n      <td>88.50</td>\n      <td>3645.05</td>\n    </tr>\n    <tr>\n      <th>3551</th>\n      <td>7594-RQHXR</td>\n      <td>2019-09-01</td>\n      <td>2019-10-01 00:00:00</td>\n      <td>Month-to-month</td>\n      <td>Yes</td>\n      <td>Electronic check</td>\n      <td>79.60</td>\n      <td>79.6</td>\n    </tr>\n    <tr>\n      <th>3893</th>\n      <td>5816-SCGFC</td>\n      <td>2019-07-01</td>\n      <td>No</td>\n      <td>Month-to-month</td>\n      <td>Yes</td>\n      <td>Mailed check</td>\n      <td>51.30</td>\n      <td>419.35</td>\n    </tr>\n    <tr>\n      <th>6648</th>\n      <td>2164-SOQXL</td>\n      <td>2018-06-01</td>\n      <td>No</td>\n      <td>Month-to-month</td>\n      <td>No</td>\n      <td>Mailed check</td>\n      <td>20.05</td>\n      <td>406.05</td>\n    </tr>\n    <tr>\n      <th>2926</th>\n      <td>0106-UGRDO</td>\n      <td>2014-05-01</td>\n      <td>No</td>\n      <td>Two year</td>\n      <td>Yes</td>\n      <td>Electronic check</td>\n      <td>116.00</td>\n      <td>8182.85</td>\n    </tr>\n    <tr>\n      <th>5135</th>\n      <td>1156-ZFYDO</td>\n      <td>2020-01-01</td>\n      <td>No</td>\n      <td>Month-to-month</td>\n      <td>No</td>\n      <td>Electronic check</td>\n      <td>19.75</td>\n      <td>19.75</td>\n    </tr>\n    <tr>\n      <th>2754</th>\n      <td>6351-SCJKT</td>\n      <td>2019-11-01</td>\n      <td>No</td>\n      <td>Month-to-month</td>\n      <td>No</td>\n      <td>Mailed check</td>\n      <td>41.35</td>\n      <td>107.25</td>\n    </tr>\n    <tr>\n      <th>2748</th>\n      <td>2495-INZWQ</td>\n      <td>2019-08-01</td>\n      <td>2019-12-01 00:00:00</td>\n      <td>Month-to-month</td>\n      <td>Yes</td>\n      <td>Electronic check</td>\n      <td>44.55</td>\n      <td>174.3</td>\n    </tr>\n    <tr>\n      <th>1553</th>\n      <td>7776-QGYJC</td>\n      <td>2016-11-01</td>\n      <td>No</td>\n      <td>Month-to-month</td>\n      <td>Yes</td>\n      <td>Bank transfer (automatic)</td>\n      <td>81.50</td>\n      <td>3107.3</td>\n    </tr>\n  </tbody>\n</table>\n</div>"
     },
     "metadata": {},
     "output_type": "display_data"
    },
    {
     "data": {
      "text/plain": "'============================== internet_data =============================='"
     },
     "metadata": {},
     "output_type": "display_data"
    },
    {
     "data": {
      "text/plain": "      customerID InternetService OnlineSecurity OnlineBackup DeviceProtection  \\\n4141  8745-PVESG             DSL            Yes           No              Yes   \n4489  9730-DRTMJ             DSL            Yes           No               No   \n660   0295-QVKPB             DSL             No           No              Yes   \n3770  0584-BJQGZ             DSL            Yes          Yes              Yes   \n1400  7198-GLXTC     Fiber optic             No           No               No   \n1047  3372-KWFBM     Fiber optic             No           No               No   \n3468  3716-LRGXK     Fiber optic             No           No              Yes   \n4220  8124-NZVGJ             DSL             No           No               No   \n5209  3588-WSTTJ     Fiber optic            Yes           No               No   \n3801  6848-YLDFR             DSL             No          Yes               No   \n\n     TechSupport StreamingTV StreamingMovies  \n4141         Yes          No              No  \n4489         Yes         Yes              No  \n660          Yes         Yes              No  \n3770         Yes         Yes              No  \n1400          No         Yes              No  \n1047          No         Yes              No  \n3468          No         Yes             Yes  \n4220         Yes         Yes             Yes  \n5209          No         Yes             Yes  \n3801         Yes         Yes             Yes  ",
      "text/html": "<div>\n<style scoped>\n    .dataframe tbody tr th:only-of-type {\n        vertical-align: middle;\n    }\n\n    .dataframe tbody tr th {\n        vertical-align: top;\n    }\n\n    .dataframe thead th {\n        text-align: right;\n    }\n</style>\n<table border=\"1\" class=\"dataframe\">\n  <thead>\n    <tr style=\"text-align: right;\">\n      <th></th>\n      <th>customerID</th>\n      <th>InternetService</th>\n      <th>OnlineSecurity</th>\n      <th>OnlineBackup</th>\n      <th>DeviceProtection</th>\n      <th>TechSupport</th>\n      <th>StreamingTV</th>\n      <th>StreamingMovies</th>\n    </tr>\n  </thead>\n  <tbody>\n    <tr>\n      <th>4141</th>\n      <td>8745-PVESG</td>\n      <td>DSL</td>\n      <td>Yes</td>\n      <td>No</td>\n      <td>Yes</td>\n      <td>Yes</td>\n      <td>No</td>\n      <td>No</td>\n    </tr>\n    <tr>\n      <th>4489</th>\n      <td>9730-DRTMJ</td>\n      <td>DSL</td>\n      <td>Yes</td>\n      <td>No</td>\n      <td>No</td>\n      <td>Yes</td>\n      <td>Yes</td>\n      <td>No</td>\n    </tr>\n    <tr>\n      <th>660</th>\n      <td>0295-QVKPB</td>\n      <td>DSL</td>\n      <td>No</td>\n      <td>No</td>\n      <td>Yes</td>\n      <td>Yes</td>\n      <td>Yes</td>\n      <td>No</td>\n    </tr>\n    <tr>\n      <th>3770</th>\n      <td>0584-BJQGZ</td>\n      <td>DSL</td>\n      <td>Yes</td>\n      <td>Yes</td>\n      <td>Yes</td>\n      <td>Yes</td>\n      <td>Yes</td>\n      <td>No</td>\n    </tr>\n    <tr>\n      <th>1400</th>\n      <td>7198-GLXTC</td>\n      <td>Fiber optic</td>\n      <td>No</td>\n      <td>No</td>\n      <td>No</td>\n      <td>No</td>\n      <td>Yes</td>\n      <td>No</td>\n    </tr>\n    <tr>\n      <th>1047</th>\n      <td>3372-KWFBM</td>\n      <td>Fiber optic</td>\n      <td>No</td>\n      <td>No</td>\n      <td>No</td>\n      <td>No</td>\n      <td>Yes</td>\n      <td>No</td>\n    </tr>\n    <tr>\n      <th>3468</th>\n      <td>3716-LRGXK</td>\n      <td>Fiber optic</td>\n      <td>No</td>\n      <td>No</td>\n      <td>Yes</td>\n      <td>No</td>\n      <td>Yes</td>\n      <td>Yes</td>\n    </tr>\n    <tr>\n      <th>4220</th>\n      <td>8124-NZVGJ</td>\n      <td>DSL</td>\n      <td>No</td>\n      <td>No</td>\n      <td>No</td>\n      <td>Yes</td>\n      <td>Yes</td>\n      <td>Yes</td>\n    </tr>\n    <tr>\n      <th>5209</th>\n      <td>3588-WSTTJ</td>\n      <td>Fiber optic</td>\n      <td>Yes</td>\n      <td>No</td>\n      <td>No</td>\n      <td>No</td>\n      <td>Yes</td>\n      <td>Yes</td>\n    </tr>\n    <tr>\n      <th>3801</th>\n      <td>6848-YLDFR</td>\n      <td>DSL</td>\n      <td>No</td>\n      <td>Yes</td>\n      <td>No</td>\n      <td>Yes</td>\n      <td>Yes</td>\n      <td>Yes</td>\n    </tr>\n  </tbody>\n</table>\n</div>"
     },
     "metadata": {},
     "output_type": "display_data"
    },
    {
     "data": {
      "text/plain": "'============================== personal_data =============================='"
     },
     "metadata": {},
     "output_type": "display_data"
    },
    {
     "data": {
      "text/plain": "      customerID  gender  SeniorCitizen Partner Dependents\n2909  9619-GSATL  Female              0      No         No\n1994  8022-BECSI    Male              0      No         No\n6610  9696-RMYBA    Male              0      No         No\n6744  6500-JVEGC    Male              0      No         No\n4782  6175-IRFIT    Male              0      No         No\n1151  8992-CEUEN  Female              0      No         No\n3608  3208-YPIOE    Male              0      No         No\n4633  1820-DJFPH  Female              0     Yes        Yes\n6661  3704-IEAXF  Female              0     Yes        Yes\n4032  4098-NAUKP    Male              1     Yes        Yes",
      "text/html": "<div>\n<style scoped>\n    .dataframe tbody tr th:only-of-type {\n        vertical-align: middle;\n    }\n\n    .dataframe tbody tr th {\n        vertical-align: top;\n    }\n\n    .dataframe thead th {\n        text-align: right;\n    }\n</style>\n<table border=\"1\" class=\"dataframe\">\n  <thead>\n    <tr style=\"text-align: right;\">\n      <th></th>\n      <th>customerID</th>\n      <th>gender</th>\n      <th>SeniorCitizen</th>\n      <th>Partner</th>\n      <th>Dependents</th>\n    </tr>\n  </thead>\n  <tbody>\n    <tr>\n      <th>2909</th>\n      <td>9619-GSATL</td>\n      <td>Female</td>\n      <td>0</td>\n      <td>No</td>\n      <td>No</td>\n    </tr>\n    <tr>\n      <th>1994</th>\n      <td>8022-BECSI</td>\n      <td>Male</td>\n      <td>0</td>\n      <td>No</td>\n      <td>No</td>\n    </tr>\n    <tr>\n      <th>6610</th>\n      <td>9696-RMYBA</td>\n      <td>Male</td>\n      <td>0</td>\n      <td>No</td>\n      <td>No</td>\n    </tr>\n    <tr>\n      <th>6744</th>\n      <td>6500-JVEGC</td>\n      <td>Male</td>\n      <td>0</td>\n      <td>No</td>\n      <td>No</td>\n    </tr>\n    <tr>\n      <th>4782</th>\n      <td>6175-IRFIT</td>\n      <td>Male</td>\n      <td>0</td>\n      <td>No</td>\n      <td>No</td>\n    </tr>\n    <tr>\n      <th>1151</th>\n      <td>8992-CEUEN</td>\n      <td>Female</td>\n      <td>0</td>\n      <td>No</td>\n      <td>No</td>\n    </tr>\n    <tr>\n      <th>3608</th>\n      <td>3208-YPIOE</td>\n      <td>Male</td>\n      <td>0</td>\n      <td>No</td>\n      <td>No</td>\n    </tr>\n    <tr>\n      <th>4633</th>\n      <td>1820-DJFPH</td>\n      <td>Female</td>\n      <td>0</td>\n      <td>Yes</td>\n      <td>Yes</td>\n    </tr>\n    <tr>\n      <th>6661</th>\n      <td>3704-IEAXF</td>\n      <td>Female</td>\n      <td>0</td>\n      <td>Yes</td>\n      <td>Yes</td>\n    </tr>\n    <tr>\n      <th>4032</th>\n      <td>4098-NAUKP</td>\n      <td>Male</td>\n      <td>1</td>\n      <td>Yes</td>\n      <td>Yes</td>\n    </tr>\n  </tbody>\n</table>\n</div>"
     },
     "metadata": {},
     "output_type": "display_data"
    },
    {
     "data": {
      "text/plain": "'============================== phone_data =============================='"
     },
     "metadata": {},
     "output_type": "display_data"
    },
    {
     "data": {
      "text/plain": "      customerID MultipleLines\n3068  0396-HUJBP            No\n809   8975-SKGRX           Yes\n3884  5811-IWXYM           Yes\n5909  1763-KUAAW            No\n3542  3886-CERTZ           Yes\n238   4385-GZQXV            No\n3062  2516-VQRRV           Yes\n642   1029-QFBEN            No\n3970  2718-YSKCS            No\n6209  5146-YYFRZ            No",
      "text/html": "<div>\n<style scoped>\n    .dataframe tbody tr th:only-of-type {\n        vertical-align: middle;\n    }\n\n    .dataframe tbody tr th {\n        vertical-align: top;\n    }\n\n    .dataframe thead th {\n        text-align: right;\n    }\n</style>\n<table border=\"1\" class=\"dataframe\">\n  <thead>\n    <tr style=\"text-align: right;\">\n      <th></th>\n      <th>customerID</th>\n      <th>MultipleLines</th>\n    </tr>\n  </thead>\n  <tbody>\n    <tr>\n      <th>3068</th>\n      <td>0396-HUJBP</td>\n      <td>No</td>\n    </tr>\n    <tr>\n      <th>809</th>\n      <td>8975-SKGRX</td>\n      <td>Yes</td>\n    </tr>\n    <tr>\n      <th>3884</th>\n      <td>5811-IWXYM</td>\n      <td>Yes</td>\n    </tr>\n    <tr>\n      <th>5909</th>\n      <td>1763-KUAAW</td>\n      <td>No</td>\n    </tr>\n    <tr>\n      <th>3542</th>\n      <td>3886-CERTZ</td>\n      <td>Yes</td>\n    </tr>\n    <tr>\n      <th>238</th>\n      <td>4385-GZQXV</td>\n      <td>No</td>\n    </tr>\n    <tr>\n      <th>3062</th>\n      <td>2516-VQRRV</td>\n      <td>Yes</td>\n    </tr>\n    <tr>\n      <th>642</th>\n      <td>1029-QFBEN</td>\n      <td>No</td>\n    </tr>\n    <tr>\n      <th>3970</th>\n      <td>2718-YSKCS</td>\n      <td>No</td>\n    </tr>\n    <tr>\n      <th>6209</th>\n      <td>5146-YYFRZ</td>\n      <td>No</td>\n    </tr>\n  </tbody>\n</table>\n</div>"
     },
     "metadata": {},
     "output_type": "display_data"
    }
   ],
   "source": [
    "for data in data_list:\n",
    "\tdisplay(f\"{'=' * 30} {data.name} {'='*30}\")\n",
    "\tdisplay(data.sample(10))"
   ],
   "metadata": {
    "collapsed": false,
    "pycharm": {
     "name": "#%%\n"
    }
   }
  },
  {
   "cell_type": "markdown",
   "source": [
    "В данных присутствует большое количество категориальных признаков, две колонки с вещественными признаками (MonthlyCharges и TotalCharges)"
   ],
   "metadata": {
    "collapsed": false,
    "pycharm": {
     "name": "#%% md\n"
    }
   }
  },
  {
   "cell_type": "code",
   "execution_count": 170,
   "outputs": [
    {
     "data": {
      "text/plain": "'============================== contract_data =============================='"
     },
     "metadata": {},
     "output_type": "display_data"
    },
    {
     "data": {
      "text/plain": "'Количество строк в таблице: 7043'"
     },
     "metadata": {},
     "output_type": "display_data"
    },
    {
     "data": {
      "text/plain": "'Количество уникальных клиентов: 7043'"
     },
     "metadata": {},
     "output_type": "display_data"
    },
    {
     "data": {
      "text/plain": "'============================== internet_data =============================='"
     },
     "metadata": {},
     "output_type": "display_data"
    },
    {
     "data": {
      "text/plain": "'Количество строк в таблице: 5517'"
     },
     "metadata": {},
     "output_type": "display_data"
    },
    {
     "data": {
      "text/plain": "'Количество уникальных клиентов: 5517'"
     },
     "metadata": {},
     "output_type": "display_data"
    },
    {
     "data": {
      "text/plain": "'============================== personal_data =============================='"
     },
     "metadata": {},
     "output_type": "display_data"
    },
    {
     "data": {
      "text/plain": "'Количество строк в таблице: 7043'"
     },
     "metadata": {},
     "output_type": "display_data"
    },
    {
     "data": {
      "text/plain": "'Количество уникальных клиентов: 7043'"
     },
     "metadata": {},
     "output_type": "display_data"
    },
    {
     "data": {
      "text/plain": "'============================== phone_data =============================='"
     },
     "metadata": {},
     "output_type": "display_data"
    },
    {
     "data": {
      "text/plain": "'Количество строк в таблице: 6361'"
     },
     "metadata": {},
     "output_type": "display_data"
    },
    {
     "data": {
      "text/plain": "'Количество уникальных клиентов: 6361'"
     },
     "metadata": {},
     "output_type": "display_data"
    }
   ],
   "source": [
    "for data in data_list:\n",
    "\tdisplay(f\"{'=' * 30} {data.name} {'='*30}\")\n",
    "\tdisplay(f'Количество строк в таблице: {data.shape[0]}')\n",
    "\tdisplay(f'Количество уникальных клиентов: {len(data[\"customerID\"].unique())}')"
   ],
   "metadata": {
    "collapsed": false,
    "pycharm": {
     "name": "#%%\n"
    }
   }
  },
  {
   "cell_type": "markdown",
   "source": [
    "Каждая запись в таблице содержит уникального клиента. Но количество записей в таблицах разное, значит после джоина таблиц по customerID у нас появятся пропуски в данных.\n",
    "\n",
    "Попробуем это сделать и посмотрим на количество пропусков.\n",
    "Для этого установим поле customerID в качестве индекса и сджоиним таблицы по индексу."
   ],
   "metadata": {
    "collapsed": false,
    "pycharm": {
     "name": "#%% md\n"
    }
   }
  },
  {
   "cell_type": "code",
   "execution_count": 171,
   "outputs": [],
   "source": [
    "contract = contract.set_index('customerID')\n",
    "personal = personal.set_index('customerID')\n",
    "phone = phone.set_index('customerID')\n",
    "internet = internet.set_index('customerID')\n",
    "\n",
    "full_data = contract.join([personal, phone, internet])\n",
    "full_data.name = 'full_data'"
   ],
   "metadata": {
    "collapsed": false,
    "pycharm": {
     "name": "#%%\n"
    }
   }
  },
  {
   "cell_type": "code",
   "execution_count": 172,
   "outputs": [
    {
     "name": "stdout",
     "output_type": "stream",
     "text": [
      "============================================================\n",
      "Количество записей в датафрейме full_data: 7043 \n",
      "\n",
      "В датафрейме full_data имеются следующие пропуски:\n",
      "  - в колонке MultipleLines: 682 пропусков, это 9.68% об общего объема данных\n",
      "  - в колонке InternetService: 1526 пропусков, это 21.67% об общего объема данных\n",
      "  - в колонке OnlineSecurity: 1526 пропусков, это 21.67% об общего объема данных\n",
      "  - в колонке OnlineBackup: 1526 пропусков, это 21.67% об общего объема данных\n",
      "  - в колонке DeviceProtection: 1526 пропусков, это 21.67% об общего объема данных\n",
      "  - в колонке TechSupport: 1526 пропусков, это 21.67% об общего объема данных\n",
      "  - в колонке StreamingTV: 1526 пропусков, это 21.67% об общего объема данных\n",
      "  - в колонке StreamingMovies: 1526 пропусков, это 21.67% об общего объема данных\n"
     ]
    }
   ],
   "source": [
    "def get_missing_values(data: pd.DataFrame) -> None:\n",
    "\t\"\"\"\n",
    "\tВыводит данные о пропусках в колонках по датафрейму.\n",
    "\tНе изменяет данные внутри датафрейма.\n",
    "\n",
    "\t:param data: pd.DataFrame\n",
    "\t:return: None\n",
    "\t\"\"\"\n",
    "\t# получаем имена колонок датафрейма\n",
    "\tcolumns = data.columns.to_list()\n",
    "\tdata_len = len(data)\n",
    "\t# объявляем счетчик\n",
    "\tcounter = -1\n",
    "\tprint('='*60)\n",
    "\t# если есть пропуски в данных - выводим информацию о пропусках по колонкам\n",
    "\tif sum(data.isnull().sum()) > 0:\n",
    "\t\tprint(f'Количество записей в датафрейме {data.name}: {data_len} \\n')\n",
    "\t\tprint(f'В датафрейме {data.name} имеются следующие пропуски:')\n",
    "\t\tfor i in data.isnull().sum():\n",
    "\t\t\tcounter += 1\n",
    "\t\t\tif i > 0:\n",
    "\t\t\t\tprint(f'  - в колонке {columns[counter]}: {i} пропусков, это {i/data_len:0.2%} об общего объема данных')\n",
    "\telse:\n",
    "\t\tprint(f'Отлично, в датафрейме {data.name} отсутствуют пропуски.')\n",
    "\n",
    "# посмотрим на пропуски в данных\n",
    "get_missing_values(full_data)"
   ],
   "metadata": {
    "collapsed": false,
    "pycharm": {
     "name": "#%%\n"
    }
   }
  },
  {
   "cell_type": "code",
   "execution_count": 173,
   "outputs": [
    {
     "data": {
      "text/plain": "             BeginDate              EndDate            Type PaperlessBilling  \\\ncustomerID                                                                     \n7590-VHVEG  2020-01-01                   No  Month-to-month              Yes   \n5575-GNVDE  2017-04-01                   No        One year               No   \n3668-QPYBK  2019-10-01  2019-12-01 00:00:00  Month-to-month              Yes   \n7795-CFOCW  2016-05-01                   No        One year               No   \n9237-HQITU  2019-09-01  2019-11-01 00:00:00  Month-to-month              Yes   \n\n                        PaymentMethod  MonthlyCharges TotalCharges  gender  \\\ncustomerID                                                                   \n7590-VHVEG           Electronic check           29.85        29.85  Female   \n5575-GNVDE               Mailed check           56.95       1889.5    Male   \n3668-QPYBK               Mailed check           53.85       108.15    Male   \n7795-CFOCW  Bank transfer (automatic)           42.30      1840.75    Male   \n9237-HQITU           Electronic check           70.70       151.65  Female   \n\n            SeniorCitizen Partner Dependents MultipleLines InternetService  \\\ncustomerID                                                                   \n7590-VHVEG              0     Yes         No           NaN             DSL   \n5575-GNVDE              0      No         No            No             DSL   \n3668-QPYBK              0      No         No            No             DSL   \n7795-CFOCW              0      No         No           NaN             DSL   \n9237-HQITU              0      No         No            No     Fiber optic   \n\n           OnlineSecurity OnlineBackup DeviceProtection TechSupport  \\\ncustomerID                                                            \n7590-VHVEG             No          Yes               No          No   \n5575-GNVDE            Yes           No              Yes          No   \n3668-QPYBK            Yes          Yes               No          No   \n7795-CFOCW            Yes           No              Yes         Yes   \n9237-HQITU             No           No               No          No   \n\n           StreamingTV StreamingMovies  \ncustomerID                              \n7590-VHVEG          No              No  \n5575-GNVDE          No              No  \n3668-QPYBK          No              No  \n7795-CFOCW          No              No  \n9237-HQITU          No              No  ",
      "text/html": "<div>\n<style scoped>\n    .dataframe tbody tr th:only-of-type {\n        vertical-align: middle;\n    }\n\n    .dataframe tbody tr th {\n        vertical-align: top;\n    }\n\n    .dataframe thead th {\n        text-align: right;\n    }\n</style>\n<table border=\"1\" class=\"dataframe\">\n  <thead>\n    <tr style=\"text-align: right;\">\n      <th></th>\n      <th>BeginDate</th>\n      <th>EndDate</th>\n      <th>Type</th>\n      <th>PaperlessBilling</th>\n      <th>PaymentMethod</th>\n      <th>MonthlyCharges</th>\n      <th>TotalCharges</th>\n      <th>gender</th>\n      <th>SeniorCitizen</th>\n      <th>Partner</th>\n      <th>Dependents</th>\n      <th>MultipleLines</th>\n      <th>InternetService</th>\n      <th>OnlineSecurity</th>\n      <th>OnlineBackup</th>\n      <th>DeviceProtection</th>\n      <th>TechSupport</th>\n      <th>StreamingTV</th>\n      <th>StreamingMovies</th>\n    </tr>\n    <tr>\n      <th>customerID</th>\n      <th></th>\n      <th></th>\n      <th></th>\n      <th></th>\n      <th></th>\n      <th></th>\n      <th></th>\n      <th></th>\n      <th></th>\n      <th></th>\n      <th></th>\n      <th></th>\n      <th></th>\n      <th></th>\n      <th></th>\n      <th></th>\n      <th></th>\n      <th></th>\n      <th></th>\n    </tr>\n  </thead>\n  <tbody>\n    <tr>\n      <th>7590-VHVEG</th>\n      <td>2020-01-01</td>\n      <td>No</td>\n      <td>Month-to-month</td>\n      <td>Yes</td>\n      <td>Electronic check</td>\n      <td>29.85</td>\n      <td>29.85</td>\n      <td>Female</td>\n      <td>0</td>\n      <td>Yes</td>\n      <td>No</td>\n      <td>NaN</td>\n      <td>DSL</td>\n      <td>No</td>\n      <td>Yes</td>\n      <td>No</td>\n      <td>No</td>\n      <td>No</td>\n      <td>No</td>\n    </tr>\n    <tr>\n      <th>5575-GNVDE</th>\n      <td>2017-04-01</td>\n      <td>No</td>\n      <td>One year</td>\n      <td>No</td>\n      <td>Mailed check</td>\n      <td>56.95</td>\n      <td>1889.5</td>\n      <td>Male</td>\n      <td>0</td>\n      <td>No</td>\n      <td>No</td>\n      <td>No</td>\n      <td>DSL</td>\n      <td>Yes</td>\n      <td>No</td>\n      <td>Yes</td>\n      <td>No</td>\n      <td>No</td>\n      <td>No</td>\n    </tr>\n    <tr>\n      <th>3668-QPYBK</th>\n      <td>2019-10-01</td>\n      <td>2019-12-01 00:00:00</td>\n      <td>Month-to-month</td>\n      <td>Yes</td>\n      <td>Mailed check</td>\n      <td>53.85</td>\n      <td>108.15</td>\n      <td>Male</td>\n      <td>0</td>\n      <td>No</td>\n      <td>No</td>\n      <td>No</td>\n      <td>DSL</td>\n      <td>Yes</td>\n      <td>Yes</td>\n      <td>No</td>\n      <td>No</td>\n      <td>No</td>\n      <td>No</td>\n    </tr>\n    <tr>\n      <th>7795-CFOCW</th>\n      <td>2016-05-01</td>\n      <td>No</td>\n      <td>One year</td>\n      <td>No</td>\n      <td>Bank transfer (automatic)</td>\n      <td>42.30</td>\n      <td>1840.75</td>\n      <td>Male</td>\n      <td>0</td>\n      <td>No</td>\n      <td>No</td>\n      <td>NaN</td>\n      <td>DSL</td>\n      <td>Yes</td>\n      <td>No</td>\n      <td>Yes</td>\n      <td>Yes</td>\n      <td>No</td>\n      <td>No</td>\n    </tr>\n    <tr>\n      <th>9237-HQITU</th>\n      <td>2019-09-01</td>\n      <td>2019-11-01 00:00:00</td>\n      <td>Month-to-month</td>\n      <td>Yes</td>\n      <td>Electronic check</td>\n      <td>70.70</td>\n      <td>151.65</td>\n      <td>Female</td>\n      <td>0</td>\n      <td>No</td>\n      <td>No</td>\n      <td>No</td>\n      <td>Fiber optic</td>\n      <td>No</td>\n      <td>No</td>\n      <td>No</td>\n      <td>No</td>\n      <td>No</td>\n      <td>No</td>\n    </tr>\n  </tbody>\n</table>\n</div>"
     },
     "execution_count": 173,
     "metadata": {},
     "output_type": "execute_result"
    }
   ],
   "source": [
    "full_data.head()"
   ],
   "metadata": {
    "collapsed": false,
    "pycharm": {
     "name": "#%%\n"
    }
   }
  },
  {
   "cell_type": "markdown",
   "source": [
    "Посмотрим на типы данных"
   ],
   "metadata": {
    "collapsed": false,
    "pycharm": {
     "name": "#%% md\n"
    }
   }
  },
  {
   "cell_type": "code",
   "execution_count": 174,
   "outputs": [
    {
     "name": "stdout",
     "output_type": "stream",
     "text": [
      "<class 'pandas.core.frame.DataFrame'>\n",
      "Index: 7043 entries, 7590-VHVEG to 3186-AJIEK\n",
      "Data columns (total 19 columns):\n",
      " #   Column            Non-Null Count  Dtype  \n",
      "---  ------            --------------  -----  \n",
      " 0   BeginDate         7043 non-null   object \n",
      " 1   EndDate           7043 non-null   object \n",
      " 2   Type              7043 non-null   object \n",
      " 3   PaperlessBilling  7043 non-null   object \n",
      " 4   PaymentMethod     7043 non-null   object \n",
      " 5   MonthlyCharges    7043 non-null   float64\n",
      " 6   TotalCharges      7043 non-null   object \n",
      " 7   gender            7043 non-null   object \n",
      " 8   SeniorCitizen     7043 non-null   int64  \n",
      " 9   Partner           7043 non-null   object \n",
      " 10  Dependents        7043 non-null   object \n",
      " 11  MultipleLines     6361 non-null   object \n",
      " 12  InternetService   5517 non-null   object \n",
      " 13  OnlineSecurity    5517 non-null   object \n",
      " 14  OnlineBackup      5517 non-null   object \n",
      " 15  DeviceProtection  5517 non-null   object \n",
      " 16  TechSupport       5517 non-null   object \n",
      " 17  StreamingTV       5517 non-null   object \n",
      " 18  StreamingMovies   5517 non-null   object \n",
      "dtypes: float64(1), int64(1), object(17)\n",
      "memory usage: 1.1+ MB\n"
     ]
    }
   ],
   "source": [
    "full_data.info()"
   ],
   "metadata": {
    "collapsed": false,
    "pycharm": {
     "name": "#%%\n"
    }
   }
  },
  {
   "cell_type": "markdown",
   "source": [
    "TotalCharges явно не соответствует типу object, посмотрим что там за знчения и конвертируем его во float"
   ],
   "metadata": {
    "collapsed": false,
    "pycharm": {
     "name": "#%% md\n"
    }
   }
  },
  {
   "cell_type": "code",
   "execution_count": 175,
   "outputs": [
    {
     "data": {
      "text/plain": "         11\n20.2     11\n19.75     9\n20.05     8\n19.9      8\nName: TotalCharges, dtype: int64"
     },
     "execution_count": 175,
     "metadata": {},
     "output_type": "execute_result"
    }
   ],
   "source": [
    "full_data['TotalCharges'].value_counts().head()"
   ],
   "metadata": {
    "collapsed": false,
    "pycharm": {
     "name": "#%%\n"
    }
   }
  },
  {
   "cell_type": "markdown",
   "source": [
    "Видим, что в столбце присутствуют пустые строки, посмотрим что это за клиенты"
   ],
   "metadata": {
    "collapsed": false,
    "pycharm": {
     "name": "#%% md\n"
    }
   }
  },
  {
   "cell_type": "code",
   "execution_count": 176,
   "outputs": [
    {
     "data": {
      "text/plain": "             BeginDate EndDate      Type PaperlessBilling  \\\ncustomerID                                                  \n4472-LVYGI  2020-02-01      No  Two year              Yes   \n3115-CZMZD  2020-02-01      No  Two year               No   \n5709-LVOEQ  2020-02-01      No  Two year               No   \n4367-NUYAO  2020-02-01      No  Two year               No   \n1371-DWPAZ  2020-02-01      No  Two year               No   \n7644-OMVMY  2020-02-01      No  Two year               No   \n3213-VVOLG  2020-02-01      No  Two year               No   \n2520-SGTTA  2020-02-01      No  Two year               No   \n2923-ARZLG  2020-02-01      No  One year              Yes   \n4075-WKNIU  2020-02-01      No  Two year               No   \n2775-SEFEE  2020-02-01      No  Two year              Yes   \n\n                        PaymentMethod  MonthlyCharges TotalCharges  gender  \\\ncustomerID                                                                   \n4472-LVYGI  Bank transfer (automatic)           52.55               Female   \n3115-CZMZD               Mailed check           20.25                 Male   \n5709-LVOEQ               Mailed check           80.85               Female   \n4367-NUYAO               Mailed check           25.75                 Male   \n1371-DWPAZ    Credit card (automatic)           56.05               Female   \n7644-OMVMY               Mailed check           19.85                 Male   \n3213-VVOLG               Mailed check           25.35                 Male   \n2520-SGTTA               Mailed check           20.00               Female   \n2923-ARZLG               Mailed check           19.70                 Male   \n4075-WKNIU               Mailed check           73.35               Female   \n2775-SEFEE  Bank transfer (automatic)           61.90                 Male   \n\n            SeniorCitizen Partner Dependents MultipleLines InternetService  \\\ncustomerID                                                                   \n4472-LVYGI              0     Yes        Yes           NaN             DSL   \n3115-CZMZD              0      No        Yes            No             NaN   \n5709-LVOEQ              0     Yes        Yes            No             DSL   \n4367-NUYAO              0     Yes        Yes           Yes             NaN   \n1371-DWPAZ              0     Yes        Yes           NaN             DSL   \n7644-OMVMY              0     Yes        Yes            No             NaN   \n3213-VVOLG              0     Yes        Yes           Yes             NaN   \n2520-SGTTA              0     Yes        Yes            No             NaN   \n2923-ARZLG              0     Yes        Yes            No             NaN   \n4075-WKNIU              0     Yes        Yes           Yes             DSL   \n2775-SEFEE              0      No        Yes           Yes             DSL   \n\n           OnlineSecurity OnlineBackup DeviceProtection TechSupport  \\\ncustomerID                                                            \n4472-LVYGI            Yes           No              Yes         Yes   \n3115-CZMZD            NaN          NaN              NaN         NaN   \n5709-LVOEQ            Yes          Yes              Yes          No   \n4367-NUYAO            NaN          NaN              NaN         NaN   \n1371-DWPAZ            Yes          Yes              Yes         Yes   \n7644-OMVMY            NaN          NaN              NaN         NaN   \n3213-VVOLG            NaN          NaN              NaN         NaN   \n2520-SGTTA            NaN          NaN              NaN         NaN   \n2923-ARZLG            NaN          NaN              NaN         NaN   \n4075-WKNIU             No          Yes              Yes         Yes   \n2775-SEFEE            Yes          Yes               No         Yes   \n\n           StreamingTV StreamingMovies  \ncustomerID                              \n4472-LVYGI         Yes              No  \n3115-CZMZD         NaN             NaN  \n5709-LVOEQ         Yes             Yes  \n4367-NUYAO         NaN             NaN  \n1371-DWPAZ         Yes              No  \n7644-OMVMY         NaN             NaN  \n3213-VVOLG         NaN             NaN  \n2520-SGTTA         NaN             NaN  \n2923-ARZLG         NaN             NaN  \n4075-WKNIU         Yes              No  \n2775-SEFEE          No              No  ",
      "text/html": "<div>\n<style scoped>\n    .dataframe tbody tr th:only-of-type {\n        vertical-align: middle;\n    }\n\n    .dataframe tbody tr th {\n        vertical-align: top;\n    }\n\n    .dataframe thead th {\n        text-align: right;\n    }\n</style>\n<table border=\"1\" class=\"dataframe\">\n  <thead>\n    <tr style=\"text-align: right;\">\n      <th></th>\n      <th>BeginDate</th>\n      <th>EndDate</th>\n      <th>Type</th>\n      <th>PaperlessBilling</th>\n      <th>PaymentMethod</th>\n      <th>MonthlyCharges</th>\n      <th>TotalCharges</th>\n      <th>gender</th>\n      <th>SeniorCitizen</th>\n      <th>Partner</th>\n      <th>Dependents</th>\n      <th>MultipleLines</th>\n      <th>InternetService</th>\n      <th>OnlineSecurity</th>\n      <th>OnlineBackup</th>\n      <th>DeviceProtection</th>\n      <th>TechSupport</th>\n      <th>StreamingTV</th>\n      <th>StreamingMovies</th>\n    </tr>\n    <tr>\n      <th>customerID</th>\n      <th></th>\n      <th></th>\n      <th></th>\n      <th></th>\n      <th></th>\n      <th></th>\n      <th></th>\n      <th></th>\n      <th></th>\n      <th></th>\n      <th></th>\n      <th></th>\n      <th></th>\n      <th></th>\n      <th></th>\n      <th></th>\n      <th></th>\n      <th></th>\n      <th></th>\n    </tr>\n  </thead>\n  <tbody>\n    <tr>\n      <th>4472-LVYGI</th>\n      <td>2020-02-01</td>\n      <td>No</td>\n      <td>Two year</td>\n      <td>Yes</td>\n      <td>Bank transfer (automatic)</td>\n      <td>52.55</td>\n      <td></td>\n      <td>Female</td>\n      <td>0</td>\n      <td>Yes</td>\n      <td>Yes</td>\n      <td>NaN</td>\n      <td>DSL</td>\n      <td>Yes</td>\n      <td>No</td>\n      <td>Yes</td>\n      <td>Yes</td>\n      <td>Yes</td>\n      <td>No</td>\n    </tr>\n    <tr>\n      <th>3115-CZMZD</th>\n      <td>2020-02-01</td>\n      <td>No</td>\n      <td>Two year</td>\n      <td>No</td>\n      <td>Mailed check</td>\n      <td>20.25</td>\n      <td></td>\n      <td>Male</td>\n      <td>0</td>\n      <td>No</td>\n      <td>Yes</td>\n      <td>No</td>\n      <td>NaN</td>\n      <td>NaN</td>\n      <td>NaN</td>\n      <td>NaN</td>\n      <td>NaN</td>\n      <td>NaN</td>\n      <td>NaN</td>\n    </tr>\n    <tr>\n      <th>5709-LVOEQ</th>\n      <td>2020-02-01</td>\n      <td>No</td>\n      <td>Two year</td>\n      <td>No</td>\n      <td>Mailed check</td>\n      <td>80.85</td>\n      <td></td>\n      <td>Female</td>\n      <td>0</td>\n      <td>Yes</td>\n      <td>Yes</td>\n      <td>No</td>\n      <td>DSL</td>\n      <td>Yes</td>\n      <td>Yes</td>\n      <td>Yes</td>\n      <td>No</td>\n      <td>Yes</td>\n      <td>Yes</td>\n    </tr>\n    <tr>\n      <th>4367-NUYAO</th>\n      <td>2020-02-01</td>\n      <td>No</td>\n      <td>Two year</td>\n      <td>No</td>\n      <td>Mailed check</td>\n      <td>25.75</td>\n      <td></td>\n      <td>Male</td>\n      <td>0</td>\n      <td>Yes</td>\n      <td>Yes</td>\n      <td>Yes</td>\n      <td>NaN</td>\n      <td>NaN</td>\n      <td>NaN</td>\n      <td>NaN</td>\n      <td>NaN</td>\n      <td>NaN</td>\n      <td>NaN</td>\n    </tr>\n    <tr>\n      <th>1371-DWPAZ</th>\n      <td>2020-02-01</td>\n      <td>No</td>\n      <td>Two year</td>\n      <td>No</td>\n      <td>Credit card (automatic)</td>\n      <td>56.05</td>\n      <td></td>\n      <td>Female</td>\n      <td>0</td>\n      <td>Yes</td>\n      <td>Yes</td>\n      <td>NaN</td>\n      <td>DSL</td>\n      <td>Yes</td>\n      <td>Yes</td>\n      <td>Yes</td>\n      <td>Yes</td>\n      <td>Yes</td>\n      <td>No</td>\n    </tr>\n    <tr>\n      <th>7644-OMVMY</th>\n      <td>2020-02-01</td>\n      <td>No</td>\n      <td>Two year</td>\n      <td>No</td>\n      <td>Mailed check</td>\n      <td>19.85</td>\n      <td></td>\n      <td>Male</td>\n      <td>0</td>\n      <td>Yes</td>\n      <td>Yes</td>\n      <td>No</td>\n      <td>NaN</td>\n      <td>NaN</td>\n      <td>NaN</td>\n      <td>NaN</td>\n      <td>NaN</td>\n      <td>NaN</td>\n      <td>NaN</td>\n    </tr>\n    <tr>\n      <th>3213-VVOLG</th>\n      <td>2020-02-01</td>\n      <td>No</td>\n      <td>Two year</td>\n      <td>No</td>\n      <td>Mailed check</td>\n      <td>25.35</td>\n      <td></td>\n      <td>Male</td>\n      <td>0</td>\n      <td>Yes</td>\n      <td>Yes</td>\n      <td>Yes</td>\n      <td>NaN</td>\n      <td>NaN</td>\n      <td>NaN</td>\n      <td>NaN</td>\n      <td>NaN</td>\n      <td>NaN</td>\n      <td>NaN</td>\n    </tr>\n    <tr>\n      <th>2520-SGTTA</th>\n      <td>2020-02-01</td>\n      <td>No</td>\n      <td>Two year</td>\n      <td>No</td>\n      <td>Mailed check</td>\n      <td>20.00</td>\n      <td></td>\n      <td>Female</td>\n      <td>0</td>\n      <td>Yes</td>\n      <td>Yes</td>\n      <td>No</td>\n      <td>NaN</td>\n      <td>NaN</td>\n      <td>NaN</td>\n      <td>NaN</td>\n      <td>NaN</td>\n      <td>NaN</td>\n      <td>NaN</td>\n    </tr>\n    <tr>\n      <th>2923-ARZLG</th>\n      <td>2020-02-01</td>\n      <td>No</td>\n      <td>One year</td>\n      <td>Yes</td>\n      <td>Mailed check</td>\n      <td>19.70</td>\n      <td></td>\n      <td>Male</td>\n      <td>0</td>\n      <td>Yes</td>\n      <td>Yes</td>\n      <td>No</td>\n      <td>NaN</td>\n      <td>NaN</td>\n      <td>NaN</td>\n      <td>NaN</td>\n      <td>NaN</td>\n      <td>NaN</td>\n      <td>NaN</td>\n    </tr>\n    <tr>\n      <th>4075-WKNIU</th>\n      <td>2020-02-01</td>\n      <td>No</td>\n      <td>Two year</td>\n      <td>No</td>\n      <td>Mailed check</td>\n      <td>73.35</td>\n      <td></td>\n      <td>Female</td>\n      <td>0</td>\n      <td>Yes</td>\n      <td>Yes</td>\n      <td>Yes</td>\n      <td>DSL</td>\n      <td>No</td>\n      <td>Yes</td>\n      <td>Yes</td>\n      <td>Yes</td>\n      <td>Yes</td>\n      <td>No</td>\n    </tr>\n    <tr>\n      <th>2775-SEFEE</th>\n      <td>2020-02-01</td>\n      <td>No</td>\n      <td>Two year</td>\n      <td>Yes</td>\n      <td>Bank transfer (automatic)</td>\n      <td>61.90</td>\n      <td></td>\n      <td>Male</td>\n      <td>0</td>\n      <td>No</td>\n      <td>Yes</td>\n      <td>Yes</td>\n      <td>DSL</td>\n      <td>Yes</td>\n      <td>Yes</td>\n      <td>No</td>\n      <td>Yes</td>\n      <td>No</td>\n      <td>No</td>\n    </tr>\n  </tbody>\n</table>\n</div>"
     },
     "execution_count": 176,
     "metadata": {},
     "output_type": "execute_result"
    }
   ],
   "source": [
    "full_data[full_data['TotalCharges'] == ' ']"
   ],
   "metadata": {
    "collapsed": false,
    "pycharm": {
     "name": "#%%\n"
    }
   }
  },
  {
   "cell_type": "markdown",
   "source": [
    "Это новые клиенты, которые еще не успели произвести ни одной транзакции. Можем удалить этих ребят из выборки."
   ],
   "metadata": {
    "collapsed": false,
    "pycharm": {
     "name": "#%% md\n"
    }
   }
  },
  {
   "cell_type": "code",
   "execution_count": 177,
   "outputs": [],
   "source": [
    "index_to_drop = full_data[full_data['TotalCharges'] == ' '].index\n",
    "full_data = full_data.drop(index_to_drop)\n",
    "full_data['TotalCharges'] = full_data['TotalCharges'].astype(float)"
   ],
   "metadata": {
    "collapsed": false,
    "pycharm": {
     "name": "#%%\n"
    }
   }
  },
  {
   "cell_type": "code",
   "execution_count": 178,
   "outputs": [
    {
     "name": "stdout",
     "output_type": "stream",
     "text": [
      "<class 'pandas.core.frame.DataFrame'>\n",
      "Index: 7032 entries, 7590-VHVEG to 3186-AJIEK\n",
      "Data columns (total 19 columns):\n",
      " #   Column            Non-Null Count  Dtype  \n",
      "---  ------            --------------  -----  \n",
      " 0   BeginDate         7032 non-null   object \n",
      " 1   EndDate           7032 non-null   object \n",
      " 2   Type              7032 non-null   object \n",
      " 3   PaperlessBilling  7032 non-null   object \n",
      " 4   PaymentMethod     7032 non-null   object \n",
      " 5   MonthlyCharges    7032 non-null   float64\n",
      " 6   TotalCharges      7032 non-null   float64\n",
      " 7   gender            7032 non-null   object \n",
      " 8   SeniorCitizen     7032 non-null   int64  \n",
      " 9   Partner           7032 non-null   object \n",
      " 10  Dependents        7032 non-null   object \n",
      " 11  MultipleLines     6352 non-null   object \n",
      " 12  InternetService   5512 non-null   object \n",
      " 13  OnlineSecurity    5512 non-null   object \n",
      " 14  OnlineBackup      5512 non-null   object \n",
      " 15  DeviceProtection  5512 non-null   object \n",
      " 16  TechSupport       5512 non-null   object \n",
      " 17  StreamingTV       5512 non-null   object \n",
      " 18  StreamingMovies   5512 non-null   object \n",
      "dtypes: float64(2), int64(1), object(16)\n",
      "memory usage: 1.1+ MB\n"
     ]
    }
   ],
   "source": [
    "full_data.info()"
   ],
   "metadata": {
    "collapsed": false,
    "pycharm": {
     "name": "#%%\n"
    }
   }
  },
  {
   "cell_type": "markdown",
   "source": [
    "В данных получилось довольно большое количество пропусков и мы не можем от них просто так избавиться.\n",
    "Все пропуски присутствуют в полях с категориальными данными, так что мы можем попробовать заполнить их разными способами, а именно:\n",
    " - ввести новую категорию 'unknown' для данных с пропусками\n",
    " - заполнить пропуски самым частотным значением признака\n",
    " - посчитать доли для значений признака с пропусками, и в соответствующих значениям долях заполнить пропуски (например если у нас в признаке только значения yes или no и они распределены в долях 70% yes и 30% no, то все пропуски это 100% и из них мы рандомно заполняем 70% пропусков значением yes и 30% пропусков значением no)\n",
    "\n",
    "Также нам необходимо создать целевой признак. Брать данные для генерации целевого признака будем из колонки EndDate таблицы contract, если no = 0, а если есть дата, то 1.\n",
    "Сделаем это.\n"
   ],
   "metadata": {
    "collapsed": false,
    "pycharm": {
     "name": "#%% md\n"
    }
   }
  },
  {
   "cell_type": "code",
   "execution_count": 179,
   "outputs": [],
   "source": [
    "full_data['churn'] = full_data['EndDate'].apply(lambda x: 0 if x == 'No' else 1)"
   ],
   "metadata": {
    "collapsed": false,
    "pycharm": {
     "name": "#%%\n"
    }
   }
  },
  {
   "cell_type": "markdown",
   "source": [
    "Посмотрим на распределение целевого признака."
   ],
   "metadata": {
    "collapsed": false,
    "pycharm": {
     "name": "#%% md\n"
    }
   }
  },
  {
   "cell_type": "code",
   "execution_count": 180,
   "outputs": [
    {
     "data": {
      "text/plain": "0    0.734215\n1    0.265785\nName: churn, dtype: float64"
     },
     "execution_count": 180,
     "metadata": {},
     "output_type": "execute_result"
    }
   ],
   "source": [
    "full_data['churn'].value_counts(normalize=True)"
   ],
   "metadata": {
    "collapsed": false,
    "pycharm": {
     "name": "#%%\n"
    }
   }
  },
  {
   "cell_type": "markdown",
   "source": [
    "~26.5% клиентов покинули"
   ],
   "metadata": {
    "collapsed": false,
    "pycharm": {
     "name": "#%% md\n"
    }
   }
  },
  {
   "cell_type": "markdown",
   "source": [
    "Посмотрим на корреляцию с целевым признаком."
   ],
   "metadata": {
    "collapsed": false,
    "pycharm": {
     "name": "#%% md\n"
    }
   }
  },
  {
   "cell_type": "code",
   "execution_count": 181,
   "outputs": [],
   "source": [
    "cat_features = ['Type', 'PaperlessBilling', 'PaymentMethod', 'gender', 'SeniorCitizen', 'Partner', 'Dependents', 'MultipleLines', 'InternetService' , 'OnlineSecurity', 'OnlineBackup', 'DeviceProtection', 'TechSupport', 'StreamingTV', 'StreamingMovies']\n",
    "\n",
    "encoder = LabelEncoder()\n",
    "\n",
    "for feature in cat_features:\n",
    "\tfull_data[feature] = encoder.fit_transform(full_data[feature].fillna('unknown'))"
   ],
   "metadata": {
    "collapsed": false,
    "pycharm": {
     "name": "#%%\n"
    }
   }
  },
  {
   "cell_type": "code",
   "execution_count": 182,
   "outputs": [
    {
     "data": {
      "application/vnd.plotly.v1+json": {
       "data": [
        {
         "coloraxis": "coloraxis",
         "name": "0",
         "texttemplate": "%{z}",
         "x": [
          "Type",
          "PaperlessBilling",
          "PaymentMethod",
          "MonthlyCharges",
          "TotalCharges",
          "gender",
          "SeniorCitizen",
          "Partner",
          "Dependents",
          "MultipleLines",
          "InternetService",
          "OnlineSecurity",
          "OnlineBackup",
          "DeviceProtection",
          "TechSupport",
          "StreamingTV",
          "StreamingMovies",
          "churn"
         ],
         "y": [
          "Type",
          "PaperlessBilling",
          "PaymentMethod",
          "MonthlyCharges",
          "TotalCharges",
          "gender",
          "SeniorCitizen",
          "Partner",
          "Dependents",
          "MultipleLines",
          "InternetService",
          "OnlineSecurity",
          "OnlineBackup",
          "DeviceProtection",
          "TechSupport",
          "StreamingTV",
          "StreamingMovies",
          "churn"
         ],
         "z": [
          [
           1.0,
           -0.17547462865064387,
           -0.22963586448007647,
           -0.07273859847797037,
           0.45030568391596254,
           9.469919617532236E-5,
           -0.14182002147635764,
           0.2940938478922015,
           0.24055554309413862,
           0.07825384277367478,
           0.0995791893519992,
           0.3891378398092159,
           0.3504193732367079,
           0.3894799662828505,
           0.41769063961758895,
           0.327108749543393,
           0.33112595857618,
           -0.3961495329936558
          ],
          [
           -0.17547462865064387,
           1.0,
           -0.061347950572588024,
           0.3519304153712302,
           0.15782978286590804,
           -0.011901894766837935,
           0.15625775052781196,
           -0.013956696136190612,
           -0.11013068597336041,
           0.10826069774604699,
           -0.13816618775993267,
           -0.3336559857696565,
           -0.2615654900897199,
           -0.27551923202260487,
           -0.31035393014456697,
           -0.20296671778298442,
           -0.2112416991723313,
           0.19145432108004623
          ],
          [
           -0.22963586448007647,
           -0.061347950572588024,
           1.0,
           -0.19249996413481096,
           -0.33059433294071555,
           0.016942358642727803,
           -0.038157815096770534,
           -0.15623198048253373,
           -0.04198905669683106,
           -0.12399617903004266,
           0.08450434707427217,
           0.04537628141017298,
           0.028808068873710957,
           0.02263638942898829,
           0.04102287521550836,
           0.04102065490809126,
           0.03690126567433839,
           0.10785201511046885
          ],
          [
           -0.07273859847797037,
           0.3519304153712302,
           -0.19249996413481096,
           1.0,
           0.6510648032262017,
           -0.013779327268353937,
           0.21987422950594518,
           0.09782497186891899,
           -0.11234295350128008,
           0.1461270606211072,
           -0.3221726668429646,
           -0.6205316138704758,
           -0.5377272925675883,
           -0.5126041688576018,
           -0.5968048762854679,
           -0.42206049388517863,
           -0.42377296864102765,
           0.192858218470079
          ],
          [
           0.45030568391596254,
           0.15782978286590804,
           -0.33059433294071555,
           0.6510648032262017,
           1.0,
           4.7839508397810443E-5,
           0.10241060539533069,
           0.3190723632385698,
           0.06465324942177272,
           0.2513574209605022,
           -0.17569112869816167,
           -0.15323405946278904,
           -0.08501726528774958,
           -0.0773938313666679,
           -0.1410105752618527,
           -0.07569697902678263,
           -0.07257127062869194,
           -0.199484083567564
          ],
          [
           9.469919617532236E-5,
           -0.011901894766837935,
           0.016942358642727803,
           -0.013779327268353937,
           4.7839508397810443E-5,
           1.0,
           -0.00181939061341898,
           -0.0013790513218356554,
           0.010348917127614234,
           8.418583563651087E-5,
           -0.0022358561336135252,
           -0.004364522131439769,
           -0.002977683273027431,
           0.004525517660018912,
           5.735254699874675E-5,
           5.775270350366624E-4,
           -0.0013385024494310463,
           -0.008544643224946347
          ],
          [
           -0.14182002147635764,
           0.15625775052781196,
           -0.038157815096770534,
           0.21987422950594518,
           0.10241060539533069,
           -0.00181939061341898,
           1.0,
           0.016956614532022372,
           -0.21055006112685165,
           0.10012018898427,
           -0.032159672355486196,
           -0.21054626247454095,
           -0.15237955909970158,
           -0.15670013454624226,
           -0.2234380209455375,
           -0.1297211355747116,
           -0.1206582905973583,
           0.15054105341568125
          ],
          [
           0.2940938478922015,
           -0.013956696136190612,
           -0.15623198048253373,
           0.09782497186891899,
           0.3190723632385698,
           -0.0013790513218356554,
           0.016956614532022372,
           1.0,
           0.45226888584545666,
           0.09077447818725153,
           5.125102435873084E-4,
           0.08107802960526282,
           0.08634603872844261,
           0.09339056809066988,
           0.06827733475608341,
           0.07906623261630757,
           0.0753099125848115,
           -0.14998192562005908
          ],
          [
           0.24055554309413862,
           -0.11013068597336041,
           -0.04198905669683106,
           -0.11234295350128008,
           0.06465324942177272,
           0.010348917127614234,
           -0.21055006112685165,
           0.45226888584545666,
           1.0,
           -0.017332741117348574,
           0.044029889179845176,
           0.18888858676874365,
           0.16084476124637814,
           0.15481940832311517,
           0.179175651890662,
           0.13880860284460164,
           0.12508584772866863,
           -0.16312843938822022
          ],
          [
           0.07825384277367478,
           0.10826069774604699,
           -0.12399617903004266,
           0.1461270606211072,
           0.2513574209605022,
           8.418583563651087E-5,
           0.10012018898427,
           0.09077447818725153,
           -0.017332741117348574,
           1.0,
           -0.3405040755184204,
           -0.23507659080163462,
           -0.21005148772192497,
           -0.2004001138204229,
           -0.23247390598058965,
           -0.2023260264580787,
           -0.19485805582231802,
           0.019609134312153807
          ],
          [
           0.0995791893519992,
           -0.13816618775993267,
           0.08450434707427217,
           -0.3221726668429646,
           -0.17569112869816167,
           -0.0022358561336135252,
           -0.032159672355486196,
           5.125102435873084E-4,
           0.044029889179845176,
           -0.3405040755184204,
           1.0,
           0.6074119355010619,
           0.6580014747059646,
           0.6626848511842626,
           0.6094217103908969,
           0.7127151601838185,
           0.7083364145972849,
           -0.04709716459090005
          ],
          [
           0.3891378398092159,
           -0.3336559857696565,
           0.04537628141017298,
           -0.6205316138704758,
           -0.15323405946278904,
           -0.004364522131439769,
           -0.21054626247454095,
           0.08107802960526282,
           0.18888858676874365,
           -0.23507659080163462,
           0.6074119355010619,
           1.0,
           0.7513115163283282,
           0.7486839322904936,
           0.7909508185918552,
           0.7015259034671867,
           0.7046722015407437,
           -0.332443251473855
          ],
          [
           0.3504193732367079,
           -0.2615654900897199,
           0.028808068873710957,
           -0.5377272925675883,
           -0.08501726528774958,
           -0.002977683273027431,
           -0.15237955909970158,
           0.08634603872844261,
           0.16084476124637814,
           -0.21005148772192497,
           0.6580014747059646,
           0.7513115163283282,
           1.0,
           0.7402437927044645,
           0.7537517265461653,
           0.720277216474669,
           0.7163884980047864,
           -0.29104744369806895
          ],
          [
           0.3894799662828505,
           -0.27551923202260487,
           0.02263638942898829,
           -0.5126041688576018,
           -0.0773938313666679,
           0.004525517660018912,
           -0.15670013454624226,
           0.09339056809066988,
           0.15481940832311517,
           -0.2004001138204229,
           0.6626848511842626,
           0.7486839322904936,
           0.7402437927044645,
           1.0,
           0.7676590269890878,
           0.7627424400718529,
           0.7666347396951819,
           -0.28104843992198153
          ],
          [
           0.41769063961758895,
           -0.31035393014456697,
           0.04102287521550836,
           -0.5968048762854679,
           -0.1410105752618527,
           5.735254699874675E-5,
           -0.2234380209455375,
           0.06827733475608341,
           0.179175651890662,
           -0.23247390598058965,
           0.6094217103908969,
           0.7909508185918552,
           0.7537517265461653,
           0.7676590269890878,
           1.0,
           0.7372105623228619,
           0.7371259018630695,
           -0.32947391756416744
          ],
          [
           0.327108749543393,
           -0.20296671778298442,
           0.04102065490809126,
           -0.42206049388517863,
           -0.07569697902678263,
           5.775270350366624E-4,
           -0.1297211355747116,
           0.07906623261630757,
           0.13880860284460164,
           -0.2023260264580787,
           0.7127151601838185,
           0.7015259034671867,
           0.720277216474669,
           0.7627424400718529,
           0.7372105623228619,
           1.0,
           0.8095065930287386,
           -0.2052457090246626
          ],
          [
           0.33112595857618,
           -0.2112416991723313,
           0.03690126567433839,
           -0.42377296864102765,
           -0.07257127062869194,
           -0.0013385024494310463,
           -0.1206582905973583,
           0.0753099125848115,
           0.12508584772866863,
           -0.19485805582231802,
           0.7083364145972849,
           0.7046722015407437,
           0.7163884980047864,
           0.7666347396951819,
           0.7371259018630695,
           0.8095065930287386,
           1.0,
           -0.20715024371572155
          ],
          [
           -0.3961495329936558,
           0.19145432108004623,
           0.10785201511046885,
           0.192858218470079,
           -0.199484083567564,
           -0.008544643224946347,
           0.15054105341568125,
           -0.14998192562005908,
           -0.16312843938822022,
           0.019609134312153807,
           -0.04709716459090005,
           -0.332443251473855,
           -0.29104744369806895,
           -0.28104843992198153,
           -0.32947391756416744,
           -0.2052457090246626,
           -0.20715024371572155,
           1.0
          ]
         ],
         "type": "heatmap",
         "xaxis": "x",
         "yaxis": "y",
         "hovertemplate": "x: %{x}<br>y: %{y}<br>color: %{z}<extra></extra>"
        }
       ],
       "layout": {
        "template": {
         "data": {
          "histogram2dcontour": [
           {
            "type": "histogram2dcontour",
            "colorbar": {
             "outlinewidth": 0,
             "ticks": ""
            },
            "colorscale": [
             [
              0.0,
              "#0d0887"
             ],
             [
              0.1111111111111111,
              "#46039f"
             ],
             [
              0.2222222222222222,
              "#7201a8"
             ],
             [
              0.3333333333333333,
              "#9c179e"
             ],
             [
              0.4444444444444444,
              "#bd3786"
             ],
             [
              0.5555555555555556,
              "#d8576b"
             ],
             [
              0.6666666666666666,
              "#ed7953"
             ],
             [
              0.7777777777777778,
              "#fb9f3a"
             ],
             [
              0.8888888888888888,
              "#fdca26"
             ],
             [
              1.0,
              "#f0f921"
             ]
            ]
           }
          ],
          "choropleth": [
           {
            "type": "choropleth",
            "colorbar": {
             "outlinewidth": 0,
             "ticks": ""
            }
           }
          ],
          "histogram2d": [
           {
            "type": "histogram2d",
            "colorbar": {
             "outlinewidth": 0,
             "ticks": ""
            },
            "colorscale": [
             [
              0.0,
              "#0d0887"
             ],
             [
              0.1111111111111111,
              "#46039f"
             ],
             [
              0.2222222222222222,
              "#7201a8"
             ],
             [
              0.3333333333333333,
              "#9c179e"
             ],
             [
              0.4444444444444444,
              "#bd3786"
             ],
             [
              0.5555555555555556,
              "#d8576b"
             ],
             [
              0.6666666666666666,
              "#ed7953"
             ],
             [
              0.7777777777777778,
              "#fb9f3a"
             ],
             [
              0.8888888888888888,
              "#fdca26"
             ],
             [
              1.0,
              "#f0f921"
             ]
            ]
           }
          ],
          "heatmap": [
           {
            "type": "heatmap",
            "colorbar": {
             "outlinewidth": 0,
             "ticks": ""
            },
            "colorscale": [
             [
              0.0,
              "#0d0887"
             ],
             [
              0.1111111111111111,
              "#46039f"
             ],
             [
              0.2222222222222222,
              "#7201a8"
             ],
             [
              0.3333333333333333,
              "#9c179e"
             ],
             [
              0.4444444444444444,
              "#bd3786"
             ],
             [
              0.5555555555555556,
              "#d8576b"
             ],
             [
              0.6666666666666666,
              "#ed7953"
             ],
             [
              0.7777777777777778,
              "#fb9f3a"
             ],
             [
              0.8888888888888888,
              "#fdca26"
             ],
             [
              1.0,
              "#f0f921"
             ]
            ]
           }
          ],
          "heatmapgl": [
           {
            "type": "heatmapgl",
            "colorbar": {
             "outlinewidth": 0,
             "ticks": ""
            },
            "colorscale": [
             [
              0.0,
              "#0d0887"
             ],
             [
              0.1111111111111111,
              "#46039f"
             ],
             [
              0.2222222222222222,
              "#7201a8"
             ],
             [
              0.3333333333333333,
              "#9c179e"
             ],
             [
              0.4444444444444444,
              "#bd3786"
             ],
             [
              0.5555555555555556,
              "#d8576b"
             ],
             [
              0.6666666666666666,
              "#ed7953"
             ],
             [
              0.7777777777777778,
              "#fb9f3a"
             ],
             [
              0.8888888888888888,
              "#fdca26"
             ],
             [
              1.0,
              "#f0f921"
             ]
            ]
           }
          ],
          "contourcarpet": [
           {
            "type": "contourcarpet",
            "colorbar": {
             "outlinewidth": 0,
             "ticks": ""
            }
           }
          ],
          "contour": [
           {
            "type": "contour",
            "colorbar": {
             "outlinewidth": 0,
             "ticks": ""
            },
            "colorscale": [
             [
              0.0,
              "#0d0887"
             ],
             [
              0.1111111111111111,
              "#46039f"
             ],
             [
              0.2222222222222222,
              "#7201a8"
             ],
             [
              0.3333333333333333,
              "#9c179e"
             ],
             [
              0.4444444444444444,
              "#bd3786"
             ],
             [
              0.5555555555555556,
              "#d8576b"
             ],
             [
              0.6666666666666666,
              "#ed7953"
             ],
             [
              0.7777777777777778,
              "#fb9f3a"
             ],
             [
              0.8888888888888888,
              "#fdca26"
             ],
             [
              1.0,
              "#f0f921"
             ]
            ]
           }
          ],
          "surface": [
           {
            "type": "surface",
            "colorbar": {
             "outlinewidth": 0,
             "ticks": ""
            },
            "colorscale": [
             [
              0.0,
              "#0d0887"
             ],
             [
              0.1111111111111111,
              "#46039f"
             ],
             [
              0.2222222222222222,
              "#7201a8"
             ],
             [
              0.3333333333333333,
              "#9c179e"
             ],
             [
              0.4444444444444444,
              "#bd3786"
             ],
             [
              0.5555555555555556,
              "#d8576b"
             ],
             [
              0.6666666666666666,
              "#ed7953"
             ],
             [
              0.7777777777777778,
              "#fb9f3a"
             ],
             [
              0.8888888888888888,
              "#fdca26"
             ],
             [
              1.0,
              "#f0f921"
             ]
            ]
           }
          ],
          "mesh3d": [
           {
            "type": "mesh3d",
            "colorbar": {
             "outlinewidth": 0,
             "ticks": ""
            }
           }
          ],
          "scatter": [
           {
            "marker": {
             "line": {
              "color": "#283442"
             }
            },
            "type": "scatter"
           }
          ],
          "parcoords": [
           {
            "type": "parcoords",
            "line": {
             "colorbar": {
              "outlinewidth": 0,
              "ticks": ""
             }
            }
           }
          ],
          "scatterpolargl": [
           {
            "type": "scatterpolargl",
            "marker": {
             "colorbar": {
              "outlinewidth": 0,
              "ticks": ""
             }
            }
           }
          ],
          "bar": [
           {
            "error_x": {
             "color": "#f2f5fa"
            },
            "error_y": {
             "color": "#f2f5fa"
            },
            "marker": {
             "line": {
              "color": "rgb(17,17,17)",
              "width": 0.5
             },
             "pattern": {
              "fillmode": "overlay",
              "size": 10,
              "solidity": 0.2
             }
            },
            "type": "bar"
           }
          ],
          "scattergeo": [
           {
            "type": "scattergeo",
            "marker": {
             "colorbar": {
              "outlinewidth": 0,
              "ticks": ""
             }
            }
           }
          ],
          "scatterpolar": [
           {
            "type": "scatterpolar",
            "marker": {
             "colorbar": {
              "outlinewidth": 0,
              "ticks": ""
             }
            }
           }
          ],
          "histogram": [
           {
            "marker": {
             "pattern": {
              "fillmode": "overlay",
              "size": 10,
              "solidity": 0.2
             }
            },
            "type": "histogram"
           }
          ],
          "scattergl": [
           {
            "marker": {
             "line": {
              "color": "#283442"
             }
            },
            "type": "scattergl"
           }
          ],
          "scatter3d": [
           {
            "type": "scatter3d",
            "line": {
             "colorbar": {
              "outlinewidth": 0,
              "ticks": ""
             }
            },
            "marker": {
             "colorbar": {
              "outlinewidth": 0,
              "ticks": ""
             }
            }
           }
          ],
          "scattermapbox": [
           {
            "type": "scattermapbox",
            "marker": {
             "colorbar": {
              "outlinewidth": 0,
              "ticks": ""
             }
            }
           }
          ],
          "scatterternary": [
           {
            "type": "scatterternary",
            "marker": {
             "colorbar": {
              "outlinewidth": 0,
              "ticks": ""
             }
            }
           }
          ],
          "scattercarpet": [
           {
            "type": "scattercarpet",
            "marker": {
             "colorbar": {
              "outlinewidth": 0,
              "ticks": ""
             }
            }
           }
          ],
          "carpet": [
           {
            "aaxis": {
             "endlinecolor": "#A2B1C6",
             "gridcolor": "#506784",
             "linecolor": "#506784",
             "minorgridcolor": "#506784",
             "startlinecolor": "#A2B1C6"
            },
            "baxis": {
             "endlinecolor": "#A2B1C6",
             "gridcolor": "#506784",
             "linecolor": "#506784",
             "minorgridcolor": "#506784",
             "startlinecolor": "#A2B1C6"
            },
            "type": "carpet"
           }
          ],
          "table": [
           {
            "cells": {
             "fill": {
              "color": "#506784"
             },
             "line": {
              "color": "rgb(17,17,17)"
             }
            },
            "header": {
             "fill": {
              "color": "#2a3f5f"
             },
             "line": {
              "color": "rgb(17,17,17)"
             }
            },
            "type": "table"
           }
          ],
          "barpolar": [
           {
            "marker": {
             "line": {
              "color": "rgb(17,17,17)",
              "width": 0.5
             },
             "pattern": {
              "fillmode": "overlay",
              "size": 10,
              "solidity": 0.2
             }
            },
            "type": "barpolar"
           }
          ],
          "pie": [
           {
            "automargin": true,
            "type": "pie"
           }
          ]
         },
         "layout": {
          "autotypenumbers": "strict",
          "colorway": [
           "#636efa",
           "#EF553B",
           "#00cc96",
           "#ab63fa",
           "#FFA15A",
           "#19d3f3",
           "#FF6692",
           "#B6E880",
           "#FF97FF",
           "#FECB52"
          ],
          "font": {
           "color": "#f2f5fa"
          },
          "hovermode": "closest",
          "hoverlabel": {
           "align": "left"
          },
          "paper_bgcolor": "rgb(17,17,17)",
          "plot_bgcolor": "rgb(17,17,17)",
          "polar": {
           "bgcolor": "rgb(17,17,17)",
           "angularaxis": {
            "gridcolor": "#506784",
            "linecolor": "#506784",
            "ticks": ""
           },
           "radialaxis": {
            "gridcolor": "#506784",
            "linecolor": "#506784",
            "ticks": ""
           }
          },
          "ternary": {
           "bgcolor": "rgb(17,17,17)",
           "aaxis": {
            "gridcolor": "#506784",
            "linecolor": "#506784",
            "ticks": ""
           },
           "baxis": {
            "gridcolor": "#506784",
            "linecolor": "#506784",
            "ticks": ""
           },
           "caxis": {
            "gridcolor": "#506784",
            "linecolor": "#506784",
            "ticks": ""
           }
          },
          "coloraxis": {
           "colorbar": {
            "outlinewidth": 0,
            "ticks": ""
           }
          },
          "colorscale": {
           "sequential": [
            [
             0.0,
             "#0d0887"
            ],
            [
             0.1111111111111111,
             "#46039f"
            ],
            [
             0.2222222222222222,
             "#7201a8"
            ],
            [
             0.3333333333333333,
             "#9c179e"
            ],
            [
             0.4444444444444444,
             "#bd3786"
            ],
            [
             0.5555555555555556,
             "#d8576b"
            ],
            [
             0.6666666666666666,
             "#ed7953"
            ],
            [
             0.7777777777777778,
             "#fb9f3a"
            ],
            [
             0.8888888888888888,
             "#fdca26"
            ],
            [
             1.0,
             "#f0f921"
            ]
           ],
           "sequentialminus": [
            [
             0.0,
             "#0d0887"
            ],
            [
             0.1111111111111111,
             "#46039f"
            ],
            [
             0.2222222222222222,
             "#7201a8"
            ],
            [
             0.3333333333333333,
             "#9c179e"
            ],
            [
             0.4444444444444444,
             "#bd3786"
            ],
            [
             0.5555555555555556,
             "#d8576b"
            ],
            [
             0.6666666666666666,
             "#ed7953"
            ],
            [
             0.7777777777777778,
             "#fb9f3a"
            ],
            [
             0.8888888888888888,
             "#fdca26"
            ],
            [
             1.0,
             "#f0f921"
            ]
           ],
           "diverging": [
            [
             0,
             "#8e0152"
            ],
            [
             0.1,
             "#c51b7d"
            ],
            [
             0.2,
             "#de77ae"
            ],
            [
             0.3,
             "#f1b6da"
            ],
            [
             0.4,
             "#fde0ef"
            ],
            [
             0.5,
             "#f7f7f7"
            ],
            [
             0.6,
             "#e6f5d0"
            ],
            [
             0.7,
             "#b8e186"
            ],
            [
             0.8,
             "#7fbc41"
            ],
            [
             0.9,
             "#4d9221"
            ],
            [
             1,
             "#276419"
            ]
           ]
          },
          "xaxis": {
           "gridcolor": "#283442",
           "linecolor": "#506784",
           "ticks": "",
           "title": {
            "standoff": 15
           },
           "zerolinecolor": "#283442",
           "automargin": true,
           "zerolinewidth": 2
          },
          "yaxis": {
           "gridcolor": "#283442",
           "linecolor": "#506784",
           "ticks": "",
           "title": {
            "standoff": 15
           },
           "zerolinecolor": "#283442",
           "automargin": true,
           "zerolinewidth": 2
          },
          "scene": {
           "xaxis": {
            "backgroundcolor": "rgb(17,17,17)",
            "gridcolor": "#506784",
            "linecolor": "#506784",
            "showbackground": true,
            "ticks": "",
            "zerolinecolor": "#C8D4E3",
            "gridwidth": 2
           },
           "yaxis": {
            "backgroundcolor": "rgb(17,17,17)",
            "gridcolor": "#506784",
            "linecolor": "#506784",
            "showbackground": true,
            "ticks": "",
            "zerolinecolor": "#C8D4E3",
            "gridwidth": 2
           },
           "zaxis": {
            "backgroundcolor": "rgb(17,17,17)",
            "gridcolor": "#506784",
            "linecolor": "#506784",
            "showbackground": true,
            "ticks": "",
            "zerolinecolor": "#C8D4E3",
            "gridwidth": 2
           }
          },
          "shapedefaults": {
           "line": {
            "color": "#f2f5fa"
           }
          },
          "annotationdefaults": {
           "arrowcolor": "#f2f5fa",
           "arrowhead": 0,
           "arrowwidth": 1
          },
          "geo": {
           "bgcolor": "rgb(17,17,17)",
           "landcolor": "rgb(17,17,17)",
           "subunitcolor": "#506784",
           "showland": true,
           "showlakes": true,
           "lakecolor": "rgb(17,17,17)"
          },
          "title": {
           "x": 0.05
          },
          "updatemenudefaults": {
           "bgcolor": "#506784",
           "borderwidth": 0
          },
          "sliderdefaults": {
           "bgcolor": "#C8D4E3",
           "borderwidth": 1,
           "bordercolor": "rgb(17,17,17)",
           "tickwidth": 0
          },
          "mapbox": {
           "style": "dark"
          }
         }
        },
        "xaxis": {
         "anchor": "y",
         "domain": [
          0.0,
          1.0
         ],
         "scaleanchor": "y",
         "constrain": "domain"
        },
        "yaxis": {
         "anchor": "x",
         "domain": [
          0.0,
          1.0
         ],
         "autorange": "reversed",
         "constrain": "domain"
        },
        "coloraxis": {
         "colorscale": [
          [
           0.0,
           "#0d0887"
          ],
          [
           0.1111111111111111,
           "#46039f"
          ],
          [
           0.2222222222222222,
           "#7201a8"
          ],
          [
           0.3333333333333333,
           "#9c179e"
          ],
          [
           0.4444444444444444,
           "#bd3786"
          ],
          [
           0.5555555555555556,
           "#d8576b"
          ],
          [
           0.6666666666666666,
           "#ed7953"
          ],
          [
           0.7777777777777778,
           "#fb9f3a"
          ],
          [
           0.8888888888888888,
           "#fdca26"
          ],
          [
           1.0,
           "#f0f921"
          ]
         ]
        },
        "margin": {
         "t": 60
        }
       },
       "config": {
        "plotlyServerURL": "https://plot.ly"
       }
      },
      "text/html": "<div>                            <div id=\"08d10dd1-8596-4bf6-8f0e-7357e5df2f48\" class=\"plotly-graph-div\" style=\"height:525px; width:100%;\"></div>            <script type=\"text/javascript\">                require([\"plotly\"], function(Plotly) {                    window.PLOTLYENV=window.PLOTLYENV || {};                                    if (document.getElementById(\"08d10dd1-8596-4bf6-8f0e-7357e5df2f48\")) {                    Plotly.newPlot(                        \"08d10dd1-8596-4bf6-8f0e-7357e5df2f48\",                        [{\"coloraxis\":\"coloraxis\",\"name\":\"0\",\"texttemplate\":\"%{z}\",\"x\":[\"Type\",\"PaperlessBilling\",\"PaymentMethod\",\"MonthlyCharges\",\"TotalCharges\",\"gender\",\"SeniorCitizen\",\"Partner\",\"Dependents\",\"MultipleLines\",\"InternetService\",\"OnlineSecurity\",\"OnlineBackup\",\"DeviceProtection\",\"TechSupport\",\"StreamingTV\",\"StreamingMovies\",\"churn\"],\"y\":[\"Type\",\"PaperlessBilling\",\"PaymentMethod\",\"MonthlyCharges\",\"TotalCharges\",\"gender\",\"SeniorCitizen\",\"Partner\",\"Dependents\",\"MultipleLines\",\"InternetService\",\"OnlineSecurity\",\"OnlineBackup\",\"DeviceProtection\",\"TechSupport\",\"StreamingTV\",\"StreamingMovies\",\"churn\"],\"z\":[[1.0,-0.17547462865064387,-0.22963586448007647,-0.07273859847797037,0.45030568391596254,9.469919617532236e-05,-0.14182002147635764,0.2940938478922015,0.24055554309413862,0.07825384277367478,0.0995791893519992,0.3891378398092159,0.3504193732367079,0.3894799662828505,0.41769063961758895,0.327108749543393,0.33112595857618,-0.3961495329936558],[-0.17547462865064387,1.0,-0.061347950572588024,0.3519304153712302,0.15782978286590804,-0.011901894766837935,0.15625775052781196,-0.013956696136190612,-0.11013068597336041,0.10826069774604699,-0.13816618775993267,-0.3336559857696565,-0.2615654900897199,-0.27551923202260487,-0.31035393014456697,-0.20296671778298442,-0.2112416991723313,0.19145432108004623],[-0.22963586448007647,-0.061347950572588024,1.0,-0.19249996413481096,-0.33059433294071555,0.016942358642727803,-0.038157815096770534,-0.15623198048253373,-0.04198905669683106,-0.12399617903004266,0.08450434707427217,0.04537628141017298,0.028808068873710957,0.02263638942898829,0.04102287521550836,0.04102065490809126,0.03690126567433839,0.10785201511046885],[-0.07273859847797037,0.3519304153712302,-0.19249996413481096,1.0,0.6510648032262017,-0.013779327268353937,0.21987422950594518,0.09782497186891899,-0.11234295350128008,0.1461270606211072,-0.3221726668429646,-0.6205316138704758,-0.5377272925675883,-0.5126041688576018,-0.5968048762854679,-0.42206049388517863,-0.42377296864102765,0.192858218470079],[0.45030568391596254,0.15782978286590804,-0.33059433294071555,0.6510648032262017,1.0,4.7839508397810443e-05,0.10241060539533069,0.3190723632385698,0.06465324942177272,0.2513574209605022,-0.17569112869816167,-0.15323405946278904,-0.08501726528774958,-0.0773938313666679,-0.1410105752618527,-0.07569697902678263,-0.07257127062869194,-0.199484083567564],[9.469919617532236e-05,-0.011901894766837935,0.016942358642727803,-0.013779327268353937,4.7839508397810443e-05,1.0,-0.00181939061341898,-0.0013790513218356554,0.010348917127614234,8.418583563651087e-05,-0.0022358561336135252,-0.004364522131439769,-0.002977683273027431,0.004525517660018912,5.735254699874675e-05,0.0005775270350366624,-0.0013385024494310463,-0.008544643224946347],[-0.14182002147635764,0.15625775052781196,-0.038157815096770534,0.21987422950594518,0.10241060539533069,-0.00181939061341898,1.0,0.016956614532022372,-0.21055006112685165,0.10012018898427,-0.032159672355486196,-0.21054626247454095,-0.15237955909970158,-0.15670013454624226,-0.2234380209455375,-0.1297211355747116,-0.1206582905973583,0.15054105341568125],[0.2940938478922015,-0.013956696136190612,-0.15623198048253373,0.09782497186891899,0.3190723632385698,-0.0013790513218356554,0.016956614532022372,1.0,0.45226888584545666,0.09077447818725153,0.0005125102435873084,0.08107802960526282,0.08634603872844261,0.09339056809066988,0.06827733475608341,0.07906623261630757,0.0753099125848115,-0.14998192562005908],[0.24055554309413862,-0.11013068597336041,-0.04198905669683106,-0.11234295350128008,0.06465324942177272,0.010348917127614234,-0.21055006112685165,0.45226888584545666,1.0,-0.017332741117348574,0.044029889179845176,0.18888858676874365,0.16084476124637814,0.15481940832311517,0.179175651890662,0.13880860284460164,0.12508584772866863,-0.16312843938822022],[0.07825384277367478,0.10826069774604699,-0.12399617903004266,0.1461270606211072,0.2513574209605022,8.418583563651087e-05,0.10012018898427,0.09077447818725153,-0.017332741117348574,1.0,-0.3405040755184204,-0.23507659080163462,-0.21005148772192497,-0.2004001138204229,-0.23247390598058965,-0.2023260264580787,-0.19485805582231802,0.019609134312153807],[0.0995791893519992,-0.13816618775993267,0.08450434707427217,-0.3221726668429646,-0.17569112869816167,-0.0022358561336135252,-0.032159672355486196,0.0005125102435873084,0.044029889179845176,-0.3405040755184204,1.0,0.6074119355010619,0.6580014747059646,0.6626848511842626,0.6094217103908969,0.7127151601838185,0.7083364145972849,-0.04709716459090005],[0.3891378398092159,-0.3336559857696565,0.04537628141017298,-0.6205316138704758,-0.15323405946278904,-0.004364522131439769,-0.21054626247454095,0.08107802960526282,0.18888858676874365,-0.23507659080163462,0.6074119355010619,1.0,0.7513115163283282,0.7486839322904936,0.7909508185918552,0.7015259034671867,0.7046722015407437,-0.332443251473855],[0.3504193732367079,-0.2615654900897199,0.028808068873710957,-0.5377272925675883,-0.08501726528774958,-0.002977683273027431,-0.15237955909970158,0.08634603872844261,0.16084476124637814,-0.21005148772192497,0.6580014747059646,0.7513115163283282,1.0,0.7402437927044645,0.7537517265461653,0.720277216474669,0.7163884980047864,-0.29104744369806895],[0.3894799662828505,-0.27551923202260487,0.02263638942898829,-0.5126041688576018,-0.0773938313666679,0.004525517660018912,-0.15670013454624226,0.09339056809066988,0.15481940832311517,-0.2004001138204229,0.6626848511842626,0.7486839322904936,0.7402437927044645,1.0,0.7676590269890878,0.7627424400718529,0.7666347396951819,-0.28104843992198153],[0.41769063961758895,-0.31035393014456697,0.04102287521550836,-0.5968048762854679,-0.1410105752618527,5.735254699874675e-05,-0.2234380209455375,0.06827733475608341,0.179175651890662,-0.23247390598058965,0.6094217103908969,0.7909508185918552,0.7537517265461653,0.7676590269890878,1.0,0.7372105623228619,0.7371259018630695,-0.32947391756416744],[0.327108749543393,-0.20296671778298442,0.04102065490809126,-0.42206049388517863,-0.07569697902678263,0.0005775270350366624,-0.1297211355747116,0.07906623261630757,0.13880860284460164,-0.2023260264580787,0.7127151601838185,0.7015259034671867,0.720277216474669,0.7627424400718529,0.7372105623228619,1.0,0.8095065930287386,-0.2052457090246626],[0.33112595857618,-0.2112416991723313,0.03690126567433839,-0.42377296864102765,-0.07257127062869194,-0.0013385024494310463,-0.1206582905973583,0.0753099125848115,0.12508584772866863,-0.19485805582231802,0.7083364145972849,0.7046722015407437,0.7163884980047864,0.7666347396951819,0.7371259018630695,0.8095065930287386,1.0,-0.20715024371572155],[-0.3961495329936558,0.19145432108004623,0.10785201511046885,0.192858218470079,-0.199484083567564,-0.008544643224946347,0.15054105341568125,-0.14998192562005908,-0.16312843938822022,0.019609134312153807,-0.04709716459090005,-0.332443251473855,-0.29104744369806895,-0.28104843992198153,-0.32947391756416744,-0.2052457090246626,-0.20715024371572155,1.0]],\"type\":\"heatmap\",\"xaxis\":\"x\",\"yaxis\":\"y\",\"hovertemplate\":\"x: %{x}<br>y: %{y}<br>color: %{z}<extra></extra>\"}],                        {\"template\":{\"data\":{\"histogram2dcontour\":[{\"type\":\"histogram2dcontour\",\"colorbar\":{\"outlinewidth\":0,\"ticks\":\"\"},\"colorscale\":[[0.0,\"#0d0887\"],[0.1111111111111111,\"#46039f\"],[0.2222222222222222,\"#7201a8\"],[0.3333333333333333,\"#9c179e\"],[0.4444444444444444,\"#bd3786\"],[0.5555555555555556,\"#d8576b\"],[0.6666666666666666,\"#ed7953\"],[0.7777777777777778,\"#fb9f3a\"],[0.8888888888888888,\"#fdca26\"],[1.0,\"#f0f921\"]]}],\"choropleth\":[{\"type\":\"choropleth\",\"colorbar\":{\"outlinewidth\":0,\"ticks\":\"\"}}],\"histogram2d\":[{\"type\":\"histogram2d\",\"colorbar\":{\"outlinewidth\":0,\"ticks\":\"\"},\"colorscale\":[[0.0,\"#0d0887\"],[0.1111111111111111,\"#46039f\"],[0.2222222222222222,\"#7201a8\"],[0.3333333333333333,\"#9c179e\"],[0.4444444444444444,\"#bd3786\"],[0.5555555555555556,\"#d8576b\"],[0.6666666666666666,\"#ed7953\"],[0.7777777777777778,\"#fb9f3a\"],[0.8888888888888888,\"#fdca26\"],[1.0,\"#f0f921\"]]}],\"heatmap\":[{\"type\":\"heatmap\",\"colorbar\":{\"outlinewidth\":0,\"ticks\":\"\"},\"colorscale\":[[0.0,\"#0d0887\"],[0.1111111111111111,\"#46039f\"],[0.2222222222222222,\"#7201a8\"],[0.3333333333333333,\"#9c179e\"],[0.4444444444444444,\"#bd3786\"],[0.5555555555555556,\"#d8576b\"],[0.6666666666666666,\"#ed7953\"],[0.7777777777777778,\"#fb9f3a\"],[0.8888888888888888,\"#fdca26\"],[1.0,\"#f0f921\"]]}],\"heatmapgl\":[{\"type\":\"heatmapgl\",\"colorbar\":{\"outlinewidth\":0,\"ticks\":\"\"},\"colorscale\":[[0.0,\"#0d0887\"],[0.1111111111111111,\"#46039f\"],[0.2222222222222222,\"#7201a8\"],[0.3333333333333333,\"#9c179e\"],[0.4444444444444444,\"#bd3786\"],[0.5555555555555556,\"#d8576b\"],[0.6666666666666666,\"#ed7953\"],[0.7777777777777778,\"#fb9f3a\"],[0.8888888888888888,\"#fdca26\"],[1.0,\"#f0f921\"]]}],\"contourcarpet\":[{\"type\":\"contourcarpet\",\"colorbar\":{\"outlinewidth\":0,\"ticks\":\"\"}}],\"contour\":[{\"type\":\"contour\",\"colorbar\":{\"outlinewidth\":0,\"ticks\":\"\"},\"colorscale\":[[0.0,\"#0d0887\"],[0.1111111111111111,\"#46039f\"],[0.2222222222222222,\"#7201a8\"],[0.3333333333333333,\"#9c179e\"],[0.4444444444444444,\"#bd3786\"],[0.5555555555555556,\"#d8576b\"],[0.6666666666666666,\"#ed7953\"],[0.7777777777777778,\"#fb9f3a\"],[0.8888888888888888,\"#fdca26\"],[1.0,\"#f0f921\"]]}],\"surface\":[{\"type\":\"surface\",\"colorbar\":{\"outlinewidth\":0,\"ticks\":\"\"},\"colorscale\":[[0.0,\"#0d0887\"],[0.1111111111111111,\"#46039f\"],[0.2222222222222222,\"#7201a8\"],[0.3333333333333333,\"#9c179e\"],[0.4444444444444444,\"#bd3786\"],[0.5555555555555556,\"#d8576b\"],[0.6666666666666666,\"#ed7953\"],[0.7777777777777778,\"#fb9f3a\"],[0.8888888888888888,\"#fdca26\"],[1.0,\"#f0f921\"]]}],\"mesh3d\":[{\"type\":\"mesh3d\",\"colorbar\":{\"outlinewidth\":0,\"ticks\":\"\"}}],\"scatter\":[{\"marker\":{\"line\":{\"color\":\"#283442\"}},\"type\":\"scatter\"}],\"parcoords\":[{\"type\":\"parcoords\",\"line\":{\"colorbar\":{\"outlinewidth\":0,\"ticks\":\"\"}}}],\"scatterpolargl\":[{\"type\":\"scatterpolargl\",\"marker\":{\"colorbar\":{\"outlinewidth\":0,\"ticks\":\"\"}}}],\"bar\":[{\"error_x\":{\"color\":\"#f2f5fa\"},\"error_y\":{\"color\":\"#f2f5fa\"},\"marker\":{\"line\":{\"color\":\"rgb(17,17,17)\",\"width\":0.5},\"pattern\":{\"fillmode\":\"overlay\",\"size\":10,\"solidity\":0.2}},\"type\":\"bar\"}],\"scattergeo\":[{\"type\":\"scattergeo\",\"marker\":{\"colorbar\":{\"outlinewidth\":0,\"ticks\":\"\"}}}],\"scatterpolar\":[{\"type\":\"scatterpolar\",\"marker\":{\"colorbar\":{\"outlinewidth\":0,\"ticks\":\"\"}}}],\"histogram\":[{\"marker\":{\"pattern\":{\"fillmode\":\"overlay\",\"size\":10,\"solidity\":0.2}},\"type\":\"histogram\"}],\"scattergl\":[{\"marker\":{\"line\":{\"color\":\"#283442\"}},\"type\":\"scattergl\"}],\"scatter3d\":[{\"type\":\"scatter3d\",\"line\":{\"colorbar\":{\"outlinewidth\":0,\"ticks\":\"\"}},\"marker\":{\"colorbar\":{\"outlinewidth\":0,\"ticks\":\"\"}}}],\"scattermapbox\":[{\"type\":\"scattermapbox\",\"marker\":{\"colorbar\":{\"outlinewidth\":0,\"ticks\":\"\"}}}],\"scatterternary\":[{\"type\":\"scatterternary\",\"marker\":{\"colorbar\":{\"outlinewidth\":0,\"ticks\":\"\"}}}],\"scattercarpet\":[{\"type\":\"scattercarpet\",\"marker\":{\"colorbar\":{\"outlinewidth\":0,\"ticks\":\"\"}}}],\"carpet\":[{\"aaxis\":{\"endlinecolor\":\"#A2B1C6\",\"gridcolor\":\"#506784\",\"linecolor\":\"#506784\",\"minorgridcolor\":\"#506784\",\"startlinecolor\":\"#A2B1C6\"},\"baxis\":{\"endlinecolor\":\"#A2B1C6\",\"gridcolor\":\"#506784\",\"linecolor\":\"#506784\",\"minorgridcolor\":\"#506784\",\"startlinecolor\":\"#A2B1C6\"},\"type\":\"carpet\"}],\"table\":[{\"cells\":{\"fill\":{\"color\":\"#506784\"},\"line\":{\"color\":\"rgb(17,17,17)\"}},\"header\":{\"fill\":{\"color\":\"#2a3f5f\"},\"line\":{\"color\":\"rgb(17,17,17)\"}},\"type\":\"table\"}],\"barpolar\":[{\"marker\":{\"line\":{\"color\":\"rgb(17,17,17)\",\"width\":0.5},\"pattern\":{\"fillmode\":\"overlay\",\"size\":10,\"solidity\":0.2}},\"type\":\"barpolar\"}],\"pie\":[{\"automargin\":true,\"type\":\"pie\"}]},\"layout\":{\"autotypenumbers\":\"strict\",\"colorway\":[\"#636efa\",\"#EF553B\",\"#00cc96\",\"#ab63fa\",\"#FFA15A\",\"#19d3f3\",\"#FF6692\",\"#B6E880\",\"#FF97FF\",\"#FECB52\"],\"font\":{\"color\":\"#f2f5fa\"},\"hovermode\":\"closest\",\"hoverlabel\":{\"align\":\"left\"},\"paper_bgcolor\":\"rgb(17,17,17)\",\"plot_bgcolor\":\"rgb(17,17,17)\",\"polar\":{\"bgcolor\":\"rgb(17,17,17)\",\"angularaxis\":{\"gridcolor\":\"#506784\",\"linecolor\":\"#506784\",\"ticks\":\"\"},\"radialaxis\":{\"gridcolor\":\"#506784\",\"linecolor\":\"#506784\",\"ticks\":\"\"}},\"ternary\":{\"bgcolor\":\"rgb(17,17,17)\",\"aaxis\":{\"gridcolor\":\"#506784\",\"linecolor\":\"#506784\",\"ticks\":\"\"},\"baxis\":{\"gridcolor\":\"#506784\",\"linecolor\":\"#506784\",\"ticks\":\"\"},\"caxis\":{\"gridcolor\":\"#506784\",\"linecolor\":\"#506784\",\"ticks\":\"\"}},\"coloraxis\":{\"colorbar\":{\"outlinewidth\":0,\"ticks\":\"\"}},\"colorscale\":{\"sequential\":[[0.0,\"#0d0887\"],[0.1111111111111111,\"#46039f\"],[0.2222222222222222,\"#7201a8\"],[0.3333333333333333,\"#9c179e\"],[0.4444444444444444,\"#bd3786\"],[0.5555555555555556,\"#d8576b\"],[0.6666666666666666,\"#ed7953\"],[0.7777777777777778,\"#fb9f3a\"],[0.8888888888888888,\"#fdca26\"],[1.0,\"#f0f921\"]],\"sequentialminus\":[[0.0,\"#0d0887\"],[0.1111111111111111,\"#46039f\"],[0.2222222222222222,\"#7201a8\"],[0.3333333333333333,\"#9c179e\"],[0.4444444444444444,\"#bd3786\"],[0.5555555555555556,\"#d8576b\"],[0.6666666666666666,\"#ed7953\"],[0.7777777777777778,\"#fb9f3a\"],[0.8888888888888888,\"#fdca26\"],[1.0,\"#f0f921\"]],\"diverging\":[[0,\"#8e0152\"],[0.1,\"#c51b7d\"],[0.2,\"#de77ae\"],[0.3,\"#f1b6da\"],[0.4,\"#fde0ef\"],[0.5,\"#f7f7f7\"],[0.6,\"#e6f5d0\"],[0.7,\"#b8e186\"],[0.8,\"#7fbc41\"],[0.9,\"#4d9221\"],[1,\"#276419\"]]},\"xaxis\":{\"gridcolor\":\"#283442\",\"linecolor\":\"#506784\",\"ticks\":\"\",\"title\":{\"standoff\":15},\"zerolinecolor\":\"#283442\",\"automargin\":true,\"zerolinewidth\":2},\"yaxis\":{\"gridcolor\":\"#283442\",\"linecolor\":\"#506784\",\"ticks\":\"\",\"title\":{\"standoff\":15},\"zerolinecolor\":\"#283442\",\"automargin\":true,\"zerolinewidth\":2},\"scene\":{\"xaxis\":{\"backgroundcolor\":\"rgb(17,17,17)\",\"gridcolor\":\"#506784\",\"linecolor\":\"#506784\",\"showbackground\":true,\"ticks\":\"\",\"zerolinecolor\":\"#C8D4E3\",\"gridwidth\":2},\"yaxis\":{\"backgroundcolor\":\"rgb(17,17,17)\",\"gridcolor\":\"#506784\",\"linecolor\":\"#506784\",\"showbackground\":true,\"ticks\":\"\",\"zerolinecolor\":\"#C8D4E3\",\"gridwidth\":2},\"zaxis\":{\"backgroundcolor\":\"rgb(17,17,17)\",\"gridcolor\":\"#506784\",\"linecolor\":\"#506784\",\"showbackground\":true,\"ticks\":\"\",\"zerolinecolor\":\"#C8D4E3\",\"gridwidth\":2}},\"shapedefaults\":{\"line\":{\"color\":\"#f2f5fa\"}},\"annotationdefaults\":{\"arrowcolor\":\"#f2f5fa\",\"arrowhead\":0,\"arrowwidth\":1},\"geo\":{\"bgcolor\":\"rgb(17,17,17)\",\"landcolor\":\"rgb(17,17,17)\",\"subunitcolor\":\"#506784\",\"showland\":true,\"showlakes\":true,\"lakecolor\":\"rgb(17,17,17)\"},\"title\":{\"x\":0.05},\"updatemenudefaults\":{\"bgcolor\":\"#506784\",\"borderwidth\":0},\"sliderdefaults\":{\"bgcolor\":\"#C8D4E3\",\"borderwidth\":1,\"bordercolor\":\"rgb(17,17,17)\",\"tickwidth\":0},\"mapbox\":{\"style\":\"dark\"}}},\"xaxis\":{\"anchor\":\"y\",\"domain\":[0.0,1.0],\"scaleanchor\":\"y\",\"constrain\":\"domain\"},\"yaxis\":{\"anchor\":\"x\",\"domain\":[0.0,1.0],\"autorange\":\"reversed\",\"constrain\":\"domain\"},\"coloraxis\":{\"colorscale\":[[0.0,\"#0d0887\"],[0.1111111111111111,\"#46039f\"],[0.2222222222222222,\"#7201a8\"],[0.3333333333333333,\"#9c179e\"],[0.4444444444444444,\"#bd3786\"],[0.5555555555555556,\"#d8576b\"],[0.6666666666666666,\"#ed7953\"],[0.7777777777777778,\"#fb9f3a\"],[0.8888888888888888,\"#fdca26\"],[1.0,\"#f0f921\"]]},\"margin\":{\"t\":60}},                        {\"responsive\": true}                    ).then(function(){\n                            \nvar gd = document.getElementById('08d10dd1-8596-4bf6-8f0e-7357e5df2f48');\nvar x = new MutationObserver(function (mutations, observer) {{\n        var display = window.getComputedStyle(gd).display;\n        if (!display || display === 'none') {{\n            console.log([gd, 'removed!']);\n            Plotly.purge(gd);\n            observer.disconnect();\n        }}\n}});\n\n// Listen for the removal of the full notebook cells\nvar notebookContainer = gd.closest('#notebook-container');\nif (notebookContainer) {{\n    x.observe(notebookContainer, {childList: true});\n}}\n\n// Listen for the clearing of the current output cell\nvar outputEl = gd.closest('.output');\nif (outputEl) {{\n    x.observe(outputEl, {childList: true});\n}}\n\n                        })                };                });            </script>        </div>"
     },
     "metadata": {},
     "output_type": "display_data"
    }
   ],
   "source": [
    "px.imshow(full_data.corr(), text_auto=True).show()"
   ],
   "metadata": {
    "collapsed": false,
    "pycharm": {
     "name": "#%%\n"
    }
   }
  },
  {
   "cell_type": "markdown",
   "source": [
    "Видим, что целевой признак не имеет сильно скоррелированных признаков, зато признаки из таблицы internet довольно сильно скоррелированы между собой, может быть имеет смысл избавиться от этих признаков или сжать их с помощью PCA."
   ],
   "metadata": {
    "collapsed": false,
    "pycharm": {
     "name": "#%% md\n"
    }
   }
  },
  {
   "cell_type": "markdown",
   "source": [
    "## Вопросы:\n",
    "\n",
    "Что за колонки Partner и Dependents в таблице personal?"
   ],
   "metadata": {
    "collapsed": false,
    "pycharm": {
     "name": "#%% md\n"
    }
   }
  },
  {
   "cell_type": "markdown",
   "source": [
    "## План дальнейших действий:\n",
    "\n",
    " - заполнить пропуски в категориальных признаках\n",
    " - сжать данные высокоскоррелированных признаков методом РСА\n",
    " - произвести апсемплинг низкочастотного целевого признака\n",
    " - подобрать гиперпараметры и обучить разные модели классификации\n",
    " - подобрать threshold для моделей\n",
    " - сравнить метрики полученных моделей, построить conflusion matrix\n",
    " - написать выводы"
   ],
   "metadata": {
    "collapsed": false,
    "pycharm": {
     "name": "#%% md\n"
    }
   }
  },
  {
   "cell_type": "markdown",
   "source": [],
   "metadata": {
    "collapsed": false,
    "pycharm": {
     "name": "#%% md\n"
    }
   }
  },
  {
   "cell_type": "markdown",
   "source": [
    "Сожмем высокоскоррелированные признаки методом PCA"
   ],
   "metadata": {
    "collapsed": false,
    "pycharm": {
     "name": "#%% md\n"
    }
   }
  },
  {
   "cell_type": "code",
   "execution_count": 183,
   "outputs": [
    {
     "data": {
      "text/plain": "             BeginDate              EndDate  Type  PaperlessBilling  \\\ncustomerID                                                            \n0925-VYDLG  2019-09-01  2019-12-01 00:00:00     0                 0   \n9818-XQCUV  2019-12-01                   No     0                 0   \n3374-LXDEV  2018-09-01  2019-10-01 00:00:00     0                 0   \n8709-KRDVL  2017-05-01                   No     0                 1   \n0228-MAUWC  2018-07-01                   No     0                 0   \n\n            PaymentMethod  MonthlyCharges  TotalCharges  gender  \\\ncustomerID                                                        \n0925-VYDLG              2           75.25        242.00       0   \n9818-XQCUV              3           20.35         45.30       0   \n3374-LXDEV              2           89.40       1132.35       0   \n8709-KRDVL              2          100.00       3320.60       0   \n0228-MAUWC              2           59.55       1144.60       1   \n\n            SeniorCitizen  Partner  Dependents  MultipleLines  churn  \\\ncustomerID                                                             \n0925-VYDLG              0        0           0              1      1   \n9818-XQCUV              0        0           0              0      0   \n3374-LXDEV              0        0           0              1      1   \n8709-KRDVL              0        0           0              1      0   \n0228-MAUWC              0        0           0              1      0   \n\n            pca_feature  \ncustomerID               \n0925-VYDLG    -1.741861  \n9818-XQCUV     3.212431  \n3374-LXDEV    -0.576232  \n8709-KRDVL    -0.603215  \n0228-MAUWC    -1.286681  ",
      "text/html": "<div>\n<style scoped>\n    .dataframe tbody tr th:only-of-type {\n        vertical-align: middle;\n    }\n\n    .dataframe tbody tr th {\n        vertical-align: top;\n    }\n\n    .dataframe thead th {\n        text-align: right;\n    }\n</style>\n<table border=\"1\" class=\"dataframe\">\n  <thead>\n    <tr style=\"text-align: right;\">\n      <th></th>\n      <th>BeginDate</th>\n      <th>EndDate</th>\n      <th>Type</th>\n      <th>PaperlessBilling</th>\n      <th>PaymentMethod</th>\n      <th>MonthlyCharges</th>\n      <th>TotalCharges</th>\n      <th>gender</th>\n      <th>SeniorCitizen</th>\n      <th>Partner</th>\n      <th>Dependents</th>\n      <th>MultipleLines</th>\n      <th>churn</th>\n      <th>pca_feature</th>\n    </tr>\n    <tr>\n      <th>customerID</th>\n      <th></th>\n      <th></th>\n      <th></th>\n      <th></th>\n      <th></th>\n      <th></th>\n      <th></th>\n      <th></th>\n      <th></th>\n      <th></th>\n      <th></th>\n      <th></th>\n      <th></th>\n      <th></th>\n    </tr>\n  </thead>\n  <tbody>\n    <tr>\n      <th>0925-VYDLG</th>\n      <td>2019-09-01</td>\n      <td>2019-12-01 00:00:00</td>\n      <td>0</td>\n      <td>0</td>\n      <td>2</td>\n      <td>75.25</td>\n      <td>242.00</td>\n      <td>0</td>\n      <td>0</td>\n      <td>0</td>\n      <td>0</td>\n      <td>1</td>\n      <td>1</td>\n      <td>-1.741861</td>\n    </tr>\n    <tr>\n      <th>9818-XQCUV</th>\n      <td>2019-12-01</td>\n      <td>No</td>\n      <td>0</td>\n      <td>0</td>\n      <td>3</td>\n      <td>20.35</td>\n      <td>45.30</td>\n      <td>0</td>\n      <td>0</td>\n      <td>0</td>\n      <td>0</td>\n      <td>0</td>\n      <td>0</td>\n      <td>3.212431</td>\n    </tr>\n    <tr>\n      <th>3374-LXDEV</th>\n      <td>2018-09-01</td>\n      <td>2019-10-01 00:00:00</td>\n      <td>0</td>\n      <td>0</td>\n      <td>2</td>\n      <td>89.40</td>\n      <td>1132.35</td>\n      <td>0</td>\n      <td>0</td>\n      <td>0</td>\n      <td>0</td>\n      <td>1</td>\n      <td>1</td>\n      <td>-0.576232</td>\n    </tr>\n    <tr>\n      <th>8709-KRDVL</th>\n      <td>2017-05-01</td>\n      <td>No</td>\n      <td>0</td>\n      <td>1</td>\n      <td>2</td>\n      <td>100.00</td>\n      <td>3320.60</td>\n      <td>0</td>\n      <td>0</td>\n      <td>0</td>\n      <td>0</td>\n      <td>1</td>\n      <td>0</td>\n      <td>-0.603215</td>\n    </tr>\n    <tr>\n      <th>0228-MAUWC</th>\n      <td>2018-07-01</td>\n      <td>No</td>\n      <td>0</td>\n      <td>0</td>\n      <td>2</td>\n      <td>59.55</td>\n      <td>1144.60</td>\n      <td>1</td>\n      <td>0</td>\n      <td>0</td>\n      <td>0</td>\n      <td>1</td>\n      <td>0</td>\n      <td>-1.286681</td>\n    </tr>\n  </tbody>\n</table>\n</div>"
     },
     "execution_count": 183,
     "metadata": {},
     "output_type": "execute_result"
    }
   ],
   "source": [
    "high_corr_features = ['InternetService', 'OnlineSecurity', 'OnlineBackup', 'DeviceProtection', 'TechSupport', 'StreamingTV', 'StreamingMovies']\n",
    "pca = PCA(n_components=1, random_state=rs)\n",
    "\n",
    "full_data['pca_feature'] = pca.fit_transform(full_data[high_corr_features])\n",
    "\n",
    "# удалим сжатые признаки\n",
    "full_data = full_data.drop(high_corr_features, axis=1)\n",
    "\n",
    "full_data.sample(5)"
   ],
   "metadata": {
    "collapsed": false,
    "pycharm": {
     "name": "#%%\n"
    }
   }
  },
  {
   "cell_type": "markdown",
   "source": [
    "Избавимся от дисбаланса классов с помощью апсемплинга"
   ],
   "metadata": {
    "collapsed": false,
    "pycharm": {
     "name": "#%% md\n"
    }
   }
  },
  {
   "cell_type": "code",
   "execution_count": 184,
   "outputs": [],
   "source": [
    "def up_sample(\n",
    "\t\tfeatures: pd.DataFrame,\n",
    "\t\ttarget: pd.DataFrame,\n",
    "\t\trepeat: int=0,\n",
    "\t\trepeat_auto: bool=False,\n",
    "\t\tzeros: bool=True,\n",
    "\t\trandom_state: int = 42) -> tuple[pd.DataFrame, pd.DataFrame]:\n",
    "\t\"\"\"\n",
    "\n",
    "\t:param features: Features data\n",
    "\t:param target: Target data\n",
    "\t:param repeat: Repeat count target features\n",
    "\t:param repeat_auto: Automatic estimate repeat count\n",
    "\t:param zeros: Feature to repeat. If True - repeat zeros, else ones.\n",
    "\t:return: upsampled features and target\n",
    "\t\"\"\"\n",
    "\n",
    "\tfeatures_zeros = features[target == 0]\n",
    "\tfeatures_ones = features[target == 1]\n",
    "\ttarget_zeros = target[target == 0]\n",
    "\ttarget_ones = target[target == 1]\n",
    "\n",
    "\t# автоматическое сэмплирование до равных размеров features и target\n",
    "\tif repeat_auto:\n",
    "\t\tif zeros:\n",
    "\t\t\trepeat_features = np.round(len(features_ones) / len(features_zeros)).astype('int')\n",
    "\t\t\trepeat_target = np.round(len(target_ones) / len(target_zeros)).astype('int')\n",
    "\t\t\tfeatures_upsampled = pd.concat([features_ones] + [features_zeros] * repeat_features)\n",
    "\t\t\ttarget_upsampled = pd.concat([target_ones] + [target_zeros] * repeat_target)\n",
    "\n",
    "\t\t\tfeatures_upsampled, target_upsampled = shuffle(features_upsampled, target_upsampled, random_state=random_state)\n",
    "\n",
    "\t\t\treturn features_upsampled, target_upsampled\n",
    "\t\telse:\n",
    "\t\t\trepeat_features = np.round(len(features_zeros) / len(features_ones)).astype('int')\n",
    "\t\t\trepeat_target = np.round(len(target_zeros) / len(target_ones)).astype('int')\n",
    "\t\t\tfeatures_upsampled = pd.concat([features_zeros] + [features_ones] * repeat_features)\n",
    "\t\t\ttarget_upsampled = pd.concat([target_zeros] + [target_ones] * repeat_target)\n",
    "\n",
    "\t\t\tfeatures_upsampled, target_upsampled = shuffle(features_upsampled, target_upsampled, random_state=random_state)\n",
    "\n",
    "\t\t\treturn features_upsampled, target_upsampled\n",
    "\n",
    "\t# ручное сэмплирование, если указано количество повторений\n",
    "\telse:\n",
    "\t\tfeatures_upsampled = pd.concat([features_zeros] + [features_ones] * repeat)\n",
    "\t\ttarget_upsampled = pd.concat([target_zeros] + [target_ones] * repeat)\n",
    "\n",
    "\tfeatures_upsampled, target_upsampled = shuffle(\n",
    "\t\tfeatures_upsampled, target_upsampled, random_state=random_state)\n",
    "\n",
    "\treturn features_upsampled, target_upsampled"
   ],
   "metadata": {
    "collapsed": false,
    "pycharm": {
     "name": "#%%\n"
    }
   }
  },
  {
   "cell_type": "code",
   "execution_count": 185,
   "outputs": [],
   "source": [
    "# удалим ненужные даты и таргет из признаков\n",
    "features = full_data.drop(['BeginDate', 'EndDate', 'churn'], axis=1)\n",
    "target = full_data['churn']\n",
    "\n",
    "features, target = up_sample(features, target, repeat_auto=True, zeros=False, random_state=rs)"
   ],
   "metadata": {
    "collapsed": false,
    "pycharm": {
     "name": "#%%\n"
    }
   }
  },
  {
   "cell_type": "markdown",
   "source": [
    "# Шаг 3. Обучим модель"
   ],
   "metadata": {
    "collapsed": false,
    "pycharm": {
     "name": "#%% md\n"
    }
   }
  },
  {
   "cell_type": "markdown",
   "source": [],
   "metadata": {
    "collapsed": false,
    "pycharm": {
     "name": "#%% md\n"
    }
   }
  },
  {
   "cell_type": "code",
   "execution_count": 186,
   "outputs": [],
   "source": [
    "# отделим таргет от трейна\n",
    "features_train, features_test, target_train, target_test = train_test_split(features, target, test_size=.2, random_state=rs)"
   ],
   "metadata": {
    "collapsed": false,
    "pycharm": {
     "name": "#%%\n"
    }
   }
  },
  {
   "cell_type": "markdown",
   "source": [
    "## Шаг 3.1 Попробуем решить задачу с помощью CatboostClassifier.\n",
    "\n",
    "Сперва отберем наиболее важные признаки для Catboost."
   ],
   "metadata": {
    "collapsed": false,
    "pycharm": {
     "name": "#%% md\n"
    }
   }
  },
  {
   "cell_type": "code",
   "execution_count": 187,
   "outputs": [
    {
     "data": {
      "text/plain": "<catboost.core.CatBoostClassifier at 0x20e73e79480>"
     },
     "execution_count": 187,
     "metadata": {},
     "output_type": "execute_result"
    }
   ],
   "source": [
    "cat_features = ['Type', 'PaperlessBilling', 'PaymentMethod', 'gender', 'SeniorCitizen', 'Partner', 'Dependents', 'MultipleLines']\n",
    "cbc = CatBoostClassifier(cat_features=cat_features, task_type='GPU', silent=True, random_state=rs)\n",
    "cbc.fit(features_train, target_train)"
   ],
   "metadata": {
    "collapsed": false,
    "pycharm": {
     "name": "#%%\n"
    }
   }
  },
  {
   "cell_type": "markdown",
   "source": [
    "Посмотрим на важность признаков"
   ],
   "metadata": {
    "collapsed": false,
    "pycharm": {
     "name": "#%% md\n"
    }
   }
  },
  {
   "cell_type": "code",
   "execution_count": 188,
   "outputs": [
    {
     "data": {
      "application/vnd.plotly.v1+json": {
       "data": [
        {
         "alignmentgroup": "True",
         "hovertemplate": "variable=0<br>index=%{x}<br>value=%{y}<extra></extra>",
         "legendgroup": "0",
         "marker": {
          "color": "#636efa",
          "pattern": {
           "shape": ""
          }
         },
         "name": "0",
         "offsetgroup": "0",
         "orientation": "v",
         "showlegend": true,
         "textposition": "auto",
         "x": [
          "TotalCharges",
          "MonthlyCharges",
          "Type",
          "pca_feature",
          "PaymentMethod",
          "MultipleLines",
          "PaperlessBilling",
          "SeniorCitizen",
          "gender",
          "Dependents",
          "Partner"
         ],
         "xaxis": "x",
         "y": [
          27.65795873401757,
          26.92907640085011,
          17.24823695407832,
          12.29285177607345,
          5.337440878634103,
          3.4016450193200103,
          2.8234239403421366,
          1.9711615463599852,
          1.2927399252926748,
          0.6281843090729959,
          0.4172805159587698
         ],
         "yaxis": "y",
         "type": "bar"
        }
       ],
       "layout": {
        "template": {
         "data": {
          "histogram2dcontour": [
           {
            "type": "histogram2dcontour",
            "colorbar": {
             "outlinewidth": 0,
             "ticks": ""
            },
            "colorscale": [
             [
              0.0,
              "#0d0887"
             ],
             [
              0.1111111111111111,
              "#46039f"
             ],
             [
              0.2222222222222222,
              "#7201a8"
             ],
             [
              0.3333333333333333,
              "#9c179e"
             ],
             [
              0.4444444444444444,
              "#bd3786"
             ],
             [
              0.5555555555555556,
              "#d8576b"
             ],
             [
              0.6666666666666666,
              "#ed7953"
             ],
             [
              0.7777777777777778,
              "#fb9f3a"
             ],
             [
              0.8888888888888888,
              "#fdca26"
             ],
             [
              1.0,
              "#f0f921"
             ]
            ]
           }
          ],
          "choropleth": [
           {
            "type": "choropleth",
            "colorbar": {
             "outlinewidth": 0,
             "ticks": ""
            }
           }
          ],
          "histogram2d": [
           {
            "type": "histogram2d",
            "colorbar": {
             "outlinewidth": 0,
             "ticks": ""
            },
            "colorscale": [
             [
              0.0,
              "#0d0887"
             ],
             [
              0.1111111111111111,
              "#46039f"
             ],
             [
              0.2222222222222222,
              "#7201a8"
             ],
             [
              0.3333333333333333,
              "#9c179e"
             ],
             [
              0.4444444444444444,
              "#bd3786"
             ],
             [
              0.5555555555555556,
              "#d8576b"
             ],
             [
              0.6666666666666666,
              "#ed7953"
             ],
             [
              0.7777777777777778,
              "#fb9f3a"
             ],
             [
              0.8888888888888888,
              "#fdca26"
             ],
             [
              1.0,
              "#f0f921"
             ]
            ]
           }
          ],
          "heatmap": [
           {
            "type": "heatmap",
            "colorbar": {
             "outlinewidth": 0,
             "ticks": ""
            },
            "colorscale": [
             [
              0.0,
              "#0d0887"
             ],
             [
              0.1111111111111111,
              "#46039f"
             ],
             [
              0.2222222222222222,
              "#7201a8"
             ],
             [
              0.3333333333333333,
              "#9c179e"
             ],
             [
              0.4444444444444444,
              "#bd3786"
             ],
             [
              0.5555555555555556,
              "#d8576b"
             ],
             [
              0.6666666666666666,
              "#ed7953"
             ],
             [
              0.7777777777777778,
              "#fb9f3a"
             ],
             [
              0.8888888888888888,
              "#fdca26"
             ],
             [
              1.0,
              "#f0f921"
             ]
            ]
           }
          ],
          "heatmapgl": [
           {
            "type": "heatmapgl",
            "colorbar": {
             "outlinewidth": 0,
             "ticks": ""
            },
            "colorscale": [
             [
              0.0,
              "#0d0887"
             ],
             [
              0.1111111111111111,
              "#46039f"
             ],
             [
              0.2222222222222222,
              "#7201a8"
             ],
             [
              0.3333333333333333,
              "#9c179e"
             ],
             [
              0.4444444444444444,
              "#bd3786"
             ],
             [
              0.5555555555555556,
              "#d8576b"
             ],
             [
              0.6666666666666666,
              "#ed7953"
             ],
             [
              0.7777777777777778,
              "#fb9f3a"
             ],
             [
              0.8888888888888888,
              "#fdca26"
             ],
             [
              1.0,
              "#f0f921"
             ]
            ]
           }
          ],
          "contourcarpet": [
           {
            "type": "contourcarpet",
            "colorbar": {
             "outlinewidth": 0,
             "ticks": ""
            }
           }
          ],
          "contour": [
           {
            "type": "contour",
            "colorbar": {
             "outlinewidth": 0,
             "ticks": ""
            },
            "colorscale": [
             [
              0.0,
              "#0d0887"
             ],
             [
              0.1111111111111111,
              "#46039f"
             ],
             [
              0.2222222222222222,
              "#7201a8"
             ],
             [
              0.3333333333333333,
              "#9c179e"
             ],
             [
              0.4444444444444444,
              "#bd3786"
             ],
             [
              0.5555555555555556,
              "#d8576b"
             ],
             [
              0.6666666666666666,
              "#ed7953"
             ],
             [
              0.7777777777777778,
              "#fb9f3a"
             ],
             [
              0.8888888888888888,
              "#fdca26"
             ],
             [
              1.0,
              "#f0f921"
             ]
            ]
           }
          ],
          "surface": [
           {
            "type": "surface",
            "colorbar": {
             "outlinewidth": 0,
             "ticks": ""
            },
            "colorscale": [
             [
              0.0,
              "#0d0887"
             ],
             [
              0.1111111111111111,
              "#46039f"
             ],
             [
              0.2222222222222222,
              "#7201a8"
             ],
             [
              0.3333333333333333,
              "#9c179e"
             ],
             [
              0.4444444444444444,
              "#bd3786"
             ],
             [
              0.5555555555555556,
              "#d8576b"
             ],
             [
              0.6666666666666666,
              "#ed7953"
             ],
             [
              0.7777777777777778,
              "#fb9f3a"
             ],
             [
              0.8888888888888888,
              "#fdca26"
             ],
             [
              1.0,
              "#f0f921"
             ]
            ]
           }
          ],
          "mesh3d": [
           {
            "type": "mesh3d",
            "colorbar": {
             "outlinewidth": 0,
             "ticks": ""
            }
           }
          ],
          "scatter": [
           {
            "marker": {
             "line": {
              "color": "#283442"
             }
            },
            "type": "scatter"
           }
          ],
          "parcoords": [
           {
            "type": "parcoords",
            "line": {
             "colorbar": {
              "outlinewidth": 0,
              "ticks": ""
             }
            }
           }
          ],
          "scatterpolargl": [
           {
            "type": "scatterpolargl",
            "marker": {
             "colorbar": {
              "outlinewidth": 0,
              "ticks": ""
             }
            }
           }
          ],
          "bar": [
           {
            "error_x": {
             "color": "#f2f5fa"
            },
            "error_y": {
             "color": "#f2f5fa"
            },
            "marker": {
             "line": {
              "color": "rgb(17,17,17)",
              "width": 0.5
             },
             "pattern": {
              "fillmode": "overlay",
              "size": 10,
              "solidity": 0.2
             }
            },
            "type": "bar"
           }
          ],
          "scattergeo": [
           {
            "type": "scattergeo",
            "marker": {
             "colorbar": {
              "outlinewidth": 0,
              "ticks": ""
             }
            }
           }
          ],
          "scatterpolar": [
           {
            "type": "scatterpolar",
            "marker": {
             "colorbar": {
              "outlinewidth": 0,
              "ticks": ""
             }
            }
           }
          ],
          "histogram": [
           {
            "marker": {
             "pattern": {
              "fillmode": "overlay",
              "size": 10,
              "solidity": 0.2
             }
            },
            "type": "histogram"
           }
          ],
          "scattergl": [
           {
            "marker": {
             "line": {
              "color": "#283442"
             }
            },
            "type": "scattergl"
           }
          ],
          "scatter3d": [
           {
            "type": "scatter3d",
            "line": {
             "colorbar": {
              "outlinewidth": 0,
              "ticks": ""
             }
            },
            "marker": {
             "colorbar": {
              "outlinewidth": 0,
              "ticks": ""
             }
            }
           }
          ],
          "scattermapbox": [
           {
            "type": "scattermapbox",
            "marker": {
             "colorbar": {
              "outlinewidth": 0,
              "ticks": ""
             }
            }
           }
          ],
          "scatterternary": [
           {
            "type": "scatterternary",
            "marker": {
             "colorbar": {
              "outlinewidth": 0,
              "ticks": ""
             }
            }
           }
          ],
          "scattercarpet": [
           {
            "type": "scattercarpet",
            "marker": {
             "colorbar": {
              "outlinewidth": 0,
              "ticks": ""
             }
            }
           }
          ],
          "carpet": [
           {
            "aaxis": {
             "endlinecolor": "#A2B1C6",
             "gridcolor": "#506784",
             "linecolor": "#506784",
             "minorgridcolor": "#506784",
             "startlinecolor": "#A2B1C6"
            },
            "baxis": {
             "endlinecolor": "#A2B1C6",
             "gridcolor": "#506784",
             "linecolor": "#506784",
             "minorgridcolor": "#506784",
             "startlinecolor": "#A2B1C6"
            },
            "type": "carpet"
           }
          ],
          "table": [
           {
            "cells": {
             "fill": {
              "color": "#506784"
             },
             "line": {
              "color": "rgb(17,17,17)"
             }
            },
            "header": {
             "fill": {
              "color": "#2a3f5f"
             },
             "line": {
              "color": "rgb(17,17,17)"
             }
            },
            "type": "table"
           }
          ],
          "barpolar": [
           {
            "marker": {
             "line": {
              "color": "rgb(17,17,17)",
              "width": 0.5
             },
             "pattern": {
              "fillmode": "overlay",
              "size": 10,
              "solidity": 0.2
             }
            },
            "type": "barpolar"
           }
          ],
          "pie": [
           {
            "automargin": true,
            "type": "pie"
           }
          ]
         },
         "layout": {
          "autotypenumbers": "strict",
          "colorway": [
           "#636efa",
           "#EF553B",
           "#00cc96",
           "#ab63fa",
           "#FFA15A",
           "#19d3f3",
           "#FF6692",
           "#B6E880",
           "#FF97FF",
           "#FECB52"
          ],
          "font": {
           "color": "#f2f5fa"
          },
          "hovermode": "closest",
          "hoverlabel": {
           "align": "left"
          },
          "paper_bgcolor": "rgb(17,17,17)",
          "plot_bgcolor": "rgb(17,17,17)",
          "polar": {
           "bgcolor": "rgb(17,17,17)",
           "angularaxis": {
            "gridcolor": "#506784",
            "linecolor": "#506784",
            "ticks": ""
           },
           "radialaxis": {
            "gridcolor": "#506784",
            "linecolor": "#506784",
            "ticks": ""
           }
          },
          "ternary": {
           "bgcolor": "rgb(17,17,17)",
           "aaxis": {
            "gridcolor": "#506784",
            "linecolor": "#506784",
            "ticks": ""
           },
           "baxis": {
            "gridcolor": "#506784",
            "linecolor": "#506784",
            "ticks": ""
           },
           "caxis": {
            "gridcolor": "#506784",
            "linecolor": "#506784",
            "ticks": ""
           }
          },
          "coloraxis": {
           "colorbar": {
            "outlinewidth": 0,
            "ticks": ""
           }
          },
          "colorscale": {
           "sequential": [
            [
             0.0,
             "#0d0887"
            ],
            [
             0.1111111111111111,
             "#46039f"
            ],
            [
             0.2222222222222222,
             "#7201a8"
            ],
            [
             0.3333333333333333,
             "#9c179e"
            ],
            [
             0.4444444444444444,
             "#bd3786"
            ],
            [
             0.5555555555555556,
             "#d8576b"
            ],
            [
             0.6666666666666666,
             "#ed7953"
            ],
            [
             0.7777777777777778,
             "#fb9f3a"
            ],
            [
             0.8888888888888888,
             "#fdca26"
            ],
            [
             1.0,
             "#f0f921"
            ]
           ],
           "sequentialminus": [
            [
             0.0,
             "#0d0887"
            ],
            [
             0.1111111111111111,
             "#46039f"
            ],
            [
             0.2222222222222222,
             "#7201a8"
            ],
            [
             0.3333333333333333,
             "#9c179e"
            ],
            [
             0.4444444444444444,
             "#bd3786"
            ],
            [
             0.5555555555555556,
             "#d8576b"
            ],
            [
             0.6666666666666666,
             "#ed7953"
            ],
            [
             0.7777777777777778,
             "#fb9f3a"
            ],
            [
             0.8888888888888888,
             "#fdca26"
            ],
            [
             1.0,
             "#f0f921"
            ]
           ],
           "diverging": [
            [
             0,
             "#8e0152"
            ],
            [
             0.1,
             "#c51b7d"
            ],
            [
             0.2,
             "#de77ae"
            ],
            [
             0.3,
             "#f1b6da"
            ],
            [
             0.4,
             "#fde0ef"
            ],
            [
             0.5,
             "#f7f7f7"
            ],
            [
             0.6,
             "#e6f5d0"
            ],
            [
             0.7,
             "#b8e186"
            ],
            [
             0.8,
             "#7fbc41"
            ],
            [
             0.9,
             "#4d9221"
            ],
            [
             1,
             "#276419"
            ]
           ]
          },
          "xaxis": {
           "gridcolor": "#283442",
           "linecolor": "#506784",
           "ticks": "",
           "title": {
            "standoff": 15
           },
           "zerolinecolor": "#283442",
           "automargin": true,
           "zerolinewidth": 2
          },
          "yaxis": {
           "gridcolor": "#283442",
           "linecolor": "#506784",
           "ticks": "",
           "title": {
            "standoff": 15
           },
           "zerolinecolor": "#283442",
           "automargin": true,
           "zerolinewidth": 2
          },
          "scene": {
           "xaxis": {
            "backgroundcolor": "rgb(17,17,17)",
            "gridcolor": "#506784",
            "linecolor": "#506784",
            "showbackground": true,
            "ticks": "",
            "zerolinecolor": "#C8D4E3",
            "gridwidth": 2
           },
           "yaxis": {
            "backgroundcolor": "rgb(17,17,17)",
            "gridcolor": "#506784",
            "linecolor": "#506784",
            "showbackground": true,
            "ticks": "",
            "zerolinecolor": "#C8D4E3",
            "gridwidth": 2
           },
           "zaxis": {
            "backgroundcolor": "rgb(17,17,17)",
            "gridcolor": "#506784",
            "linecolor": "#506784",
            "showbackground": true,
            "ticks": "",
            "zerolinecolor": "#C8D4E3",
            "gridwidth": 2
           }
          },
          "shapedefaults": {
           "line": {
            "color": "#f2f5fa"
           }
          },
          "annotationdefaults": {
           "arrowcolor": "#f2f5fa",
           "arrowhead": 0,
           "arrowwidth": 1
          },
          "geo": {
           "bgcolor": "rgb(17,17,17)",
           "landcolor": "rgb(17,17,17)",
           "subunitcolor": "#506784",
           "showland": true,
           "showlakes": true,
           "lakecolor": "rgb(17,17,17)"
          },
          "title": {
           "x": 0.05
          },
          "updatemenudefaults": {
           "bgcolor": "#506784",
           "borderwidth": 0
          },
          "sliderdefaults": {
           "bgcolor": "#C8D4E3",
           "borderwidth": 1,
           "bordercolor": "rgb(17,17,17)",
           "tickwidth": 0
          },
          "mapbox": {
           "style": "dark"
          }
         }
        },
        "xaxis": {
         "anchor": "y",
         "domain": [
          0.0,
          1.0
         ],
         "title": {
          "text": "Признак"
         }
        },
        "yaxis": {
         "anchor": "x",
         "domain": [
          0.0,
          1.0
         ],
         "title": {
          "text": "Коэфициент важности"
         }
        },
        "legend": {
         "title": {
          "text": "variable"
         },
         "tracegroupgap": 0
        },
        "title": {
         "text": "Наиболее значимые признаки для линейной регрессии"
        },
        "barmode": "relative",
        "showlegend": false
       },
       "config": {
        "plotlyServerURL": "https://plot.ly"
       }
      },
      "text/html": "<div>                            <div id=\"a69b7400-6e6c-4bc3-a6a8-1af3ba4ea65e\" class=\"plotly-graph-div\" style=\"height:525px; width:100%;\"></div>            <script type=\"text/javascript\">                require([\"plotly\"], function(Plotly) {                    window.PLOTLYENV=window.PLOTLYENV || {};                                    if (document.getElementById(\"a69b7400-6e6c-4bc3-a6a8-1af3ba4ea65e\")) {                    Plotly.newPlot(                        \"a69b7400-6e6c-4bc3-a6a8-1af3ba4ea65e\",                        [{\"alignmentgroup\":\"True\",\"hovertemplate\":\"variable=0<br>index=%{x}<br>value=%{y}<extra></extra>\",\"legendgroup\":\"0\",\"marker\":{\"color\":\"#636efa\",\"pattern\":{\"shape\":\"\"}},\"name\":\"0\",\"offsetgroup\":\"0\",\"orientation\":\"v\",\"showlegend\":true,\"textposition\":\"auto\",\"x\":[\"TotalCharges\",\"MonthlyCharges\",\"Type\",\"pca_feature\",\"PaymentMethod\",\"MultipleLines\",\"PaperlessBilling\",\"SeniorCitizen\",\"gender\",\"Dependents\",\"Partner\"],\"xaxis\":\"x\",\"y\":[27.65795873401757,26.92907640085011,17.24823695407832,12.29285177607345,5.337440878634103,3.4016450193200103,2.8234239403421366,1.9711615463599852,1.2927399252926748,0.6281843090729959,0.4172805159587698],\"yaxis\":\"y\",\"type\":\"bar\"}],                        {\"template\":{\"data\":{\"histogram2dcontour\":[{\"type\":\"histogram2dcontour\",\"colorbar\":{\"outlinewidth\":0,\"ticks\":\"\"},\"colorscale\":[[0.0,\"#0d0887\"],[0.1111111111111111,\"#46039f\"],[0.2222222222222222,\"#7201a8\"],[0.3333333333333333,\"#9c179e\"],[0.4444444444444444,\"#bd3786\"],[0.5555555555555556,\"#d8576b\"],[0.6666666666666666,\"#ed7953\"],[0.7777777777777778,\"#fb9f3a\"],[0.8888888888888888,\"#fdca26\"],[1.0,\"#f0f921\"]]}],\"choropleth\":[{\"type\":\"choropleth\",\"colorbar\":{\"outlinewidth\":0,\"ticks\":\"\"}}],\"histogram2d\":[{\"type\":\"histogram2d\",\"colorbar\":{\"outlinewidth\":0,\"ticks\":\"\"},\"colorscale\":[[0.0,\"#0d0887\"],[0.1111111111111111,\"#46039f\"],[0.2222222222222222,\"#7201a8\"],[0.3333333333333333,\"#9c179e\"],[0.4444444444444444,\"#bd3786\"],[0.5555555555555556,\"#d8576b\"],[0.6666666666666666,\"#ed7953\"],[0.7777777777777778,\"#fb9f3a\"],[0.8888888888888888,\"#fdca26\"],[1.0,\"#f0f921\"]]}],\"heatmap\":[{\"type\":\"heatmap\",\"colorbar\":{\"outlinewidth\":0,\"ticks\":\"\"},\"colorscale\":[[0.0,\"#0d0887\"],[0.1111111111111111,\"#46039f\"],[0.2222222222222222,\"#7201a8\"],[0.3333333333333333,\"#9c179e\"],[0.4444444444444444,\"#bd3786\"],[0.5555555555555556,\"#d8576b\"],[0.6666666666666666,\"#ed7953\"],[0.7777777777777778,\"#fb9f3a\"],[0.8888888888888888,\"#fdca26\"],[1.0,\"#f0f921\"]]}],\"heatmapgl\":[{\"type\":\"heatmapgl\",\"colorbar\":{\"outlinewidth\":0,\"ticks\":\"\"},\"colorscale\":[[0.0,\"#0d0887\"],[0.1111111111111111,\"#46039f\"],[0.2222222222222222,\"#7201a8\"],[0.3333333333333333,\"#9c179e\"],[0.4444444444444444,\"#bd3786\"],[0.5555555555555556,\"#d8576b\"],[0.6666666666666666,\"#ed7953\"],[0.7777777777777778,\"#fb9f3a\"],[0.8888888888888888,\"#fdca26\"],[1.0,\"#f0f921\"]]}],\"contourcarpet\":[{\"type\":\"contourcarpet\",\"colorbar\":{\"outlinewidth\":0,\"ticks\":\"\"}}],\"contour\":[{\"type\":\"contour\",\"colorbar\":{\"outlinewidth\":0,\"ticks\":\"\"},\"colorscale\":[[0.0,\"#0d0887\"],[0.1111111111111111,\"#46039f\"],[0.2222222222222222,\"#7201a8\"],[0.3333333333333333,\"#9c179e\"],[0.4444444444444444,\"#bd3786\"],[0.5555555555555556,\"#d8576b\"],[0.6666666666666666,\"#ed7953\"],[0.7777777777777778,\"#fb9f3a\"],[0.8888888888888888,\"#fdca26\"],[1.0,\"#f0f921\"]]}],\"surface\":[{\"type\":\"surface\",\"colorbar\":{\"outlinewidth\":0,\"ticks\":\"\"},\"colorscale\":[[0.0,\"#0d0887\"],[0.1111111111111111,\"#46039f\"],[0.2222222222222222,\"#7201a8\"],[0.3333333333333333,\"#9c179e\"],[0.4444444444444444,\"#bd3786\"],[0.5555555555555556,\"#d8576b\"],[0.6666666666666666,\"#ed7953\"],[0.7777777777777778,\"#fb9f3a\"],[0.8888888888888888,\"#fdca26\"],[1.0,\"#f0f921\"]]}],\"mesh3d\":[{\"type\":\"mesh3d\",\"colorbar\":{\"outlinewidth\":0,\"ticks\":\"\"}}],\"scatter\":[{\"marker\":{\"line\":{\"color\":\"#283442\"}},\"type\":\"scatter\"}],\"parcoords\":[{\"type\":\"parcoords\",\"line\":{\"colorbar\":{\"outlinewidth\":0,\"ticks\":\"\"}}}],\"scatterpolargl\":[{\"type\":\"scatterpolargl\",\"marker\":{\"colorbar\":{\"outlinewidth\":0,\"ticks\":\"\"}}}],\"bar\":[{\"error_x\":{\"color\":\"#f2f5fa\"},\"error_y\":{\"color\":\"#f2f5fa\"},\"marker\":{\"line\":{\"color\":\"rgb(17,17,17)\",\"width\":0.5},\"pattern\":{\"fillmode\":\"overlay\",\"size\":10,\"solidity\":0.2}},\"type\":\"bar\"}],\"scattergeo\":[{\"type\":\"scattergeo\",\"marker\":{\"colorbar\":{\"outlinewidth\":0,\"ticks\":\"\"}}}],\"scatterpolar\":[{\"type\":\"scatterpolar\",\"marker\":{\"colorbar\":{\"outlinewidth\":0,\"ticks\":\"\"}}}],\"histogram\":[{\"marker\":{\"pattern\":{\"fillmode\":\"overlay\",\"size\":10,\"solidity\":0.2}},\"type\":\"histogram\"}],\"scattergl\":[{\"marker\":{\"line\":{\"color\":\"#283442\"}},\"type\":\"scattergl\"}],\"scatter3d\":[{\"type\":\"scatter3d\",\"line\":{\"colorbar\":{\"outlinewidth\":0,\"ticks\":\"\"}},\"marker\":{\"colorbar\":{\"outlinewidth\":0,\"ticks\":\"\"}}}],\"scattermapbox\":[{\"type\":\"scattermapbox\",\"marker\":{\"colorbar\":{\"outlinewidth\":0,\"ticks\":\"\"}}}],\"scatterternary\":[{\"type\":\"scatterternary\",\"marker\":{\"colorbar\":{\"outlinewidth\":0,\"ticks\":\"\"}}}],\"scattercarpet\":[{\"type\":\"scattercarpet\",\"marker\":{\"colorbar\":{\"outlinewidth\":0,\"ticks\":\"\"}}}],\"carpet\":[{\"aaxis\":{\"endlinecolor\":\"#A2B1C6\",\"gridcolor\":\"#506784\",\"linecolor\":\"#506784\",\"minorgridcolor\":\"#506784\",\"startlinecolor\":\"#A2B1C6\"},\"baxis\":{\"endlinecolor\":\"#A2B1C6\",\"gridcolor\":\"#506784\",\"linecolor\":\"#506784\",\"minorgridcolor\":\"#506784\",\"startlinecolor\":\"#A2B1C6\"},\"type\":\"carpet\"}],\"table\":[{\"cells\":{\"fill\":{\"color\":\"#506784\"},\"line\":{\"color\":\"rgb(17,17,17)\"}},\"header\":{\"fill\":{\"color\":\"#2a3f5f\"},\"line\":{\"color\":\"rgb(17,17,17)\"}},\"type\":\"table\"}],\"barpolar\":[{\"marker\":{\"line\":{\"color\":\"rgb(17,17,17)\",\"width\":0.5},\"pattern\":{\"fillmode\":\"overlay\",\"size\":10,\"solidity\":0.2}},\"type\":\"barpolar\"}],\"pie\":[{\"automargin\":true,\"type\":\"pie\"}]},\"layout\":{\"autotypenumbers\":\"strict\",\"colorway\":[\"#636efa\",\"#EF553B\",\"#00cc96\",\"#ab63fa\",\"#FFA15A\",\"#19d3f3\",\"#FF6692\",\"#B6E880\",\"#FF97FF\",\"#FECB52\"],\"font\":{\"color\":\"#f2f5fa\"},\"hovermode\":\"closest\",\"hoverlabel\":{\"align\":\"left\"},\"paper_bgcolor\":\"rgb(17,17,17)\",\"plot_bgcolor\":\"rgb(17,17,17)\",\"polar\":{\"bgcolor\":\"rgb(17,17,17)\",\"angularaxis\":{\"gridcolor\":\"#506784\",\"linecolor\":\"#506784\",\"ticks\":\"\"},\"radialaxis\":{\"gridcolor\":\"#506784\",\"linecolor\":\"#506784\",\"ticks\":\"\"}},\"ternary\":{\"bgcolor\":\"rgb(17,17,17)\",\"aaxis\":{\"gridcolor\":\"#506784\",\"linecolor\":\"#506784\",\"ticks\":\"\"},\"baxis\":{\"gridcolor\":\"#506784\",\"linecolor\":\"#506784\",\"ticks\":\"\"},\"caxis\":{\"gridcolor\":\"#506784\",\"linecolor\":\"#506784\",\"ticks\":\"\"}},\"coloraxis\":{\"colorbar\":{\"outlinewidth\":0,\"ticks\":\"\"}},\"colorscale\":{\"sequential\":[[0.0,\"#0d0887\"],[0.1111111111111111,\"#46039f\"],[0.2222222222222222,\"#7201a8\"],[0.3333333333333333,\"#9c179e\"],[0.4444444444444444,\"#bd3786\"],[0.5555555555555556,\"#d8576b\"],[0.6666666666666666,\"#ed7953\"],[0.7777777777777778,\"#fb9f3a\"],[0.8888888888888888,\"#fdca26\"],[1.0,\"#f0f921\"]],\"sequentialminus\":[[0.0,\"#0d0887\"],[0.1111111111111111,\"#46039f\"],[0.2222222222222222,\"#7201a8\"],[0.3333333333333333,\"#9c179e\"],[0.4444444444444444,\"#bd3786\"],[0.5555555555555556,\"#d8576b\"],[0.6666666666666666,\"#ed7953\"],[0.7777777777777778,\"#fb9f3a\"],[0.8888888888888888,\"#fdca26\"],[1.0,\"#f0f921\"]],\"diverging\":[[0,\"#8e0152\"],[0.1,\"#c51b7d\"],[0.2,\"#de77ae\"],[0.3,\"#f1b6da\"],[0.4,\"#fde0ef\"],[0.5,\"#f7f7f7\"],[0.6,\"#e6f5d0\"],[0.7,\"#b8e186\"],[0.8,\"#7fbc41\"],[0.9,\"#4d9221\"],[1,\"#276419\"]]},\"xaxis\":{\"gridcolor\":\"#283442\",\"linecolor\":\"#506784\",\"ticks\":\"\",\"title\":{\"standoff\":15},\"zerolinecolor\":\"#283442\",\"automargin\":true,\"zerolinewidth\":2},\"yaxis\":{\"gridcolor\":\"#283442\",\"linecolor\":\"#506784\",\"ticks\":\"\",\"title\":{\"standoff\":15},\"zerolinecolor\":\"#283442\",\"automargin\":true,\"zerolinewidth\":2},\"scene\":{\"xaxis\":{\"backgroundcolor\":\"rgb(17,17,17)\",\"gridcolor\":\"#506784\",\"linecolor\":\"#506784\",\"showbackground\":true,\"ticks\":\"\",\"zerolinecolor\":\"#C8D4E3\",\"gridwidth\":2},\"yaxis\":{\"backgroundcolor\":\"rgb(17,17,17)\",\"gridcolor\":\"#506784\",\"linecolor\":\"#506784\",\"showbackground\":true,\"ticks\":\"\",\"zerolinecolor\":\"#C8D4E3\",\"gridwidth\":2},\"zaxis\":{\"backgroundcolor\":\"rgb(17,17,17)\",\"gridcolor\":\"#506784\",\"linecolor\":\"#506784\",\"showbackground\":true,\"ticks\":\"\",\"zerolinecolor\":\"#C8D4E3\",\"gridwidth\":2}},\"shapedefaults\":{\"line\":{\"color\":\"#f2f5fa\"}},\"annotationdefaults\":{\"arrowcolor\":\"#f2f5fa\",\"arrowhead\":0,\"arrowwidth\":1},\"geo\":{\"bgcolor\":\"rgb(17,17,17)\",\"landcolor\":\"rgb(17,17,17)\",\"subunitcolor\":\"#506784\",\"showland\":true,\"showlakes\":true,\"lakecolor\":\"rgb(17,17,17)\"},\"title\":{\"x\":0.05},\"updatemenudefaults\":{\"bgcolor\":\"#506784\",\"borderwidth\":0},\"sliderdefaults\":{\"bgcolor\":\"#C8D4E3\",\"borderwidth\":1,\"bordercolor\":\"rgb(17,17,17)\",\"tickwidth\":0},\"mapbox\":{\"style\":\"dark\"}}},\"xaxis\":{\"anchor\":\"y\",\"domain\":[0.0,1.0],\"title\":{\"text\":\"\\u041f\\u0440\\u0438\\u0437\\u043d\\u0430\\u043a\"}},\"yaxis\":{\"anchor\":\"x\",\"domain\":[0.0,1.0],\"title\":{\"text\":\"\\u041a\\u043e\\u044d\\u0444\\u0438\\u0446\\u0438\\u0435\\u043d\\u0442 \\u0432\\u0430\\u0436\\u043d\\u043e\\u0441\\u0442\\u0438\"}},\"legend\":{\"title\":{\"text\":\"variable\"},\"tracegroupgap\":0},\"title\":{\"text\":\"\\u041d\\u0430\\u0438\\u0431\\u043e\\u043b\\u0435\\u0435 \\u0437\\u043d\\u0430\\u0447\\u0438\\u043c\\u044b\\u0435 \\u043f\\u0440\\u0438\\u0437\\u043d\\u0430\\u043a\\u0438 \\u0434\\u043b\\u044f \\u043b\\u0438\\u043d\\u0435\\u0439\\u043d\\u043e\\u0439 \\u0440\\u0435\\u0433\\u0440\\u0435\\u0441\\u0441\\u0438\\u0438\"},\"barmode\":\"relative\",\"showlegend\":false},                        {\"responsive\": true}                    ).then(function(){\n                            \nvar gd = document.getElementById('a69b7400-6e6c-4bc3-a6a8-1af3ba4ea65e');\nvar x = new MutationObserver(function (mutations, observer) {{\n        var display = window.getComputedStyle(gd).display;\n        if (!display || display === 'none') {{\n            console.log([gd, 'removed!']);\n            Plotly.purge(gd);\n            observer.disconnect();\n        }}\n}});\n\n// Listen for the removal of the full notebook cells\nvar notebookContainer = gd.closest('#notebook-container');\nif (notebookContainer) {{\n    x.observe(notebookContainer, {childList: true});\n}}\n\n// Listen for the clearing of the current output cell\nvar outputEl = gd.closest('.output');\nif (outputEl) {{\n    x.observe(outputEl, {childList: true});\n}}\n\n                        })                };                });            </script>        </div>"
     },
     "metadata": {},
     "output_type": "display_data"
    }
   ],
   "source": [
    "feat_importances = pd.Series(cbc.feature_importances_, index=features_train.columns).sort_values(ascending=False)\n",
    "fig = px.bar(feat_importances, title='Наиболее значимые признаки для линейной регрессии')\n",
    "\n",
    "fig.update_layout(\n",
    "    showlegend=False\n",
    ")\n",
    "\n",
    "fig.update_xaxes(\n",
    "    title='Признак'\n",
    ")\n",
    "\n",
    "fig.update_yaxes(\n",
    "    title='Коэфициент важности'\n",
    ")\n",
    "\n",
    "fig.show()"
   ],
   "metadata": {
    "collapsed": false,
    "pycharm": {
     "name": "#%%\n"
    }
   }
  },
  {
   "cell_type": "markdown",
   "source": [
    "Признаки Partner, SeniorCitizen и gender имеют низкую важность для классификации модели, но пока попробуем обучить модель с ними, т.к. они имеют ненулевую важность.\n",
    "Также видим, что наш сгенерированный с помощью PCA метод имеет хороший вес для модели."
   ],
   "metadata": {
    "collapsed": false,
    "pycharm": {
     "name": "#%% md\n"
    }
   }
  },
  {
   "cell_type": "code",
   "execution_count": 189,
   "outputs": [],
   "source": [
    "def plot_roc_auc_curve(target_valid: pd.DataFrame, probabilities_one_valid: pd.DataFrame) -> None:\n",
    "\t\"\"\"\n",
    "\tPlotting roc_auc curve function\n",
    "\n",
    "\t:param target_valid:\n",
    "\t:param probabilities_one_valid:\n",
    "\t:return:\n",
    "\t\"\"\"\n",
    "\n",
    "\tfpr, tpr, thresholds = roc_curve(target_valid, probabilities_one_valid)\n",
    "\n",
    "\t# линия предсказания модели\n",
    "\tfig = px.area(\n",
    "\t\tx=fpr, y=tpr,\n",
    "\t\ttitle=f'ROC Curve (AUC={auc(fpr, tpr):.4f})',\n",
    "\t\tlabels=dict(x='False Positive Rate', y='True Positive Rate'),\n",
    "\t\twidth=700, height=500\n",
    "\t)\n",
    "\t# линия предсказания случайной модели\n",
    "\tfig.add_shape(\n",
    "\t\ttype='line', line=dict(dash='dash'),\n",
    "\t\tx0=0, x1=1, y0=0, y1=1\n",
    "\t)\n",
    "\n",
    "\tfig.show()"
   ],
   "metadata": {
    "collapsed": false,
    "pycharm": {
     "name": "#%%\n"
    }
   }
  },
  {
   "cell_type": "code",
   "execution_count": 190,
   "outputs": [
    {
     "data": {
      "application/vnd.plotly.v1+json": {
       "data": [
        {
         "fillpattern": {
          "shape": ""
         },
         "hovertemplate": "False Positive Rate=%{x}<br>True Positive Rate=%{y}<extra></extra>",
         "legendgroup": "",
         "line": {
          "color": "#636efa"
         },
         "marker": {
          "symbol": "circle"
         },
         "mode": "lines",
         "name": "",
         "orientation": "v",
         "showlegend": false,
         "stackgroup": "1",
         "x": [
          0.0,
          0.0,
          0.0,
          0.0,
          0.0,
          0.0,
          0.0,
          9.606147934678194E-4,
          9.606147934678194E-4,
          9.606147934678194E-4,
          9.606147934678194E-4,
          9.606147934678194E-4,
          9.606147934678194E-4,
          9.606147934678194E-4,
          9.606147934678194E-4,
          9.606147934678194E-4,
          9.606147934678194E-4,
          9.606147934678194E-4,
          9.606147934678194E-4,
          9.606147934678194E-4,
          9.606147934678194E-4,
          9.606147934678194E-4,
          9.606147934678194E-4,
          0.0019212295869356388,
          0.0019212295869356388,
          0.002881844380403458,
          0.002881844380403458,
          0.002881844380403458,
          0.002881844380403458,
          0.002881844380403458,
          0.002881844380403458,
          0.002881844380403458,
          0.0038424591738712775,
          0.004803073967339097,
          0.004803073967339097,
          0.004803073967339097,
          0.005763688760806916,
          0.005763688760806916,
          0.005763688760806916,
          0.005763688760806916,
          0.005763688760806916,
          0.0067243035542747355,
          0.0067243035542747355,
          0.0067243035542747355,
          0.0067243035542747355,
          0.0067243035542747355,
          0.0067243035542747355,
          0.0067243035542747355,
          0.0067243035542747355,
          0.0067243035542747355,
          0.0067243035542747355,
          0.007684918347742555,
          0.007684918347742555,
          0.007684918347742555,
          0.008645533141210375,
          0.008645533141210375,
          0.008645533141210375,
          0.008645533141210375,
          0.008645533141210375,
          0.008645533141210375,
          0.008645533141210375,
          0.008645533141210375,
          0.008645533141210375,
          0.008645533141210375,
          0.008645533141210375,
          0.008645533141210375,
          0.009606147934678195,
          0.009606147934678195,
          0.009606147934678195,
          0.009606147934678195,
          0.010566762728146013,
          0.010566762728146013,
          0.010566762728146013,
          0.010566762728146013,
          0.010566762728146013,
          0.010566762728146013,
          0.010566762728146013,
          0.010566762728146013,
          0.010566762728146013,
          0.010566762728146013,
          0.012487992315081652,
          0.012487992315081652,
          0.012487992315081652,
          0.013448607108549471,
          0.013448607108549471,
          0.013448607108549471,
          0.013448607108549471,
          0.013448607108549471,
          0.01440922190201729,
          0.01440922190201729,
          0.01440922190201729,
          0.01440922190201729,
          0.01440922190201729,
          0.01440922190201729,
          0.01440922190201729,
          0.01440922190201729,
          0.01440922190201729,
          0.01440922190201729,
          0.01536983669548511,
          0.01536983669548511,
          0.01536983669548511,
          0.01536983669548511,
          0.01536983669548511,
          0.01633045148895293,
          0.01633045148895293,
          0.01633045148895293,
          0.01633045148895293,
          0.01633045148895293,
          0.01633045148895293,
          0.01633045148895293,
          0.01633045148895293,
          0.01729106628242075,
          0.01729106628242075,
          0.01729106628242075,
          0.01729106628242075,
          0.01825168107588857,
          0.01825168107588857,
          0.020172910662824207,
          0.020172910662824207,
          0.020172910662824207,
          0.021133525456292025,
          0.021133525456292025,
          0.021133525456292025,
          0.022094140249759846,
          0.022094140249759846,
          0.022094140249759846,
          0.024015369836695485,
          0.024015369836695485,
          0.025936599423631124,
          0.025936599423631124,
          0.025936599423631124,
          0.025936599423631124,
          0.025936599423631124,
          0.025936599423631124,
          0.026897214217098942,
          0.026897214217098942,
          0.026897214217098942,
          0.026897214217098942,
          0.026897214217098942,
          0.027857829010566763,
          0.027857829010566763,
          0.027857829010566763,
          0.027857829010566763,
          0.029779058597502402,
          0.029779058597502402,
          0.029779058597502402,
          0.029779058597502402,
          0.029779058597502402,
          0.029779058597502402,
          0.029779058597502402,
          0.029779058597502402,
          0.03073967339097022,
          0.03073967339097022,
          0.03170028818443804,
          0.03170028818443804,
          0.03170028818443804,
          0.03170028818443804,
          0.03170028818443804,
          0.03266090297790586,
          0.03266090297790586,
          0.03266090297790586,
          0.03362151777137368,
          0.03362151777137368,
          0.03362151777137368,
          0.0345821325648415,
          0.0345821325648415,
          0.03554274735830932,
          0.03554274735830932,
          0.03554274735830932,
          0.03554274735830932,
          0.03650336215177714,
          0.03650336215177714,
          0.03650336215177714,
          0.037463976945244955,
          0.037463976945244955,
          0.03842459173871278,
          0.03842459173871278,
          0.03842459173871278,
          0.0393852065321806,
          0.0393852065321806,
          0.04514889529298751,
          0.04514889529298751,
          0.04514889529298751,
          0.04610951008645533,
          0.04610951008645533,
          0.04803073967339097,
          0.04803073967339097,
          0.04803073967339097,
          0.04803073967339097,
          0.04803073967339097,
          0.04899135446685879,
          0.04899135446685879,
          0.049951969260326606,
          0.049951969260326606,
          0.05091258405379443,
          0.05091258405379443,
          0.052833813640730067,
          0.052833813640730067,
          0.05571565802113353,
          0.05571565802113353,
          0.05571565802113353,
          0.056676272814601344,
          0.056676272814601344,
          0.05763688760806916,
          0.05763688760806916,
          0.05859750240153699,
          0.05859750240153699,
          0.05859750240153699,
          0.059558117195004805,
          0.059558117195004805,
          0.059558117195004805,
          0.059558117195004805,
          0.059558117195004805,
          0.059558117195004805,
          0.059558117195004805,
          0.06051873198847262,
          0.06051873198847262,
          0.06147934678194044,
          0.06147934678194044,
          0.06243996157540826,
          0.06243996157540826,
          0.06243996157540826,
          0.06243996157540826,
          0.06243996157540826,
          0.06340057636887608,
          0.06340057636887608,
          0.06340057636887608,
          0.0643611911623439,
          0.0643611911623439,
          0.06532180595581172,
          0.06532180595581172,
          0.06628242074927954,
          0.06628242074927954,
          0.06724303554274735,
          0.06724303554274735,
          0.06724303554274735,
          0.06724303554274735,
          0.06724303554274735,
          0.06724303554274735,
          0.06724303554274735,
          0.06724303554274735,
          0.06724303554274735,
          0.06724303554274735,
          0.06724303554274735,
          0.069164265129683,
          0.069164265129683,
          0.069164265129683,
          0.07300672430355427,
          0.07300672430355427,
          0.07492795389048991,
          0.07588856868395773,
          0.07588856868395773,
          0.07684918347742556,
          0.07684918347742556,
          0.07684918347742556,
          0.07684918347742556,
          0.07780979827089338,
          0.07780979827089338,
          0.07780979827089338,
          0.07780979827089338,
          0.0787704130643612,
          0.0787704130643612,
          0.07973102785782901,
          0.07973102785782901,
          0.08069164265129683,
          0.08069164265129683,
          0.08069164265129683,
          0.08069164265129683,
          0.08069164265129683,
          0.08069164265129683,
          0.08069164265129683,
          0.08261287223823247,
          0.08261287223823247,
          0.08357348703170028,
          0.08549471661863593,
          0.08549471661863593,
          0.08549471661863593,
          0.08549471661863593,
          0.08741594620557157,
          0.08741594620557157,
          0.09029779058597502,
          0.09029779058597502,
          0.09125840537944284,
          0.09125840537944284,
          0.09125840537944284,
          0.09125840537944284,
          0.09125840537944284,
          0.09125840537944284,
          0.09221902017291066,
          0.09221902017291066,
          0.09317963496637849,
          0.09317963496637849,
          0.09317963496637849,
          0.09317963496637849,
          0.09317963496637849,
          0.0941402497598463,
          0.0941402497598463,
          0.0941402497598463,
          0.0941402497598463,
          0.0941402497598463,
          0.09606147934678194,
          0.09606147934678194,
          0.09606147934678194,
          0.09798270893371758,
          0.09798270893371758,
          0.0989433237271854,
          0.0989433237271854,
          0.09990393852065321,
          0.09990393852065321,
          0.10086455331412104,
          0.10086455331412104,
          0.10086455331412104,
          0.10086455331412104,
          0.10086455331412104,
          0.10086455331412104,
          0.10182516810758886,
          0.10182516810758886,
          0.10278578290105668,
          0.10278578290105668,
          0.10278578290105668,
          0.10470701248799232,
          0.10470701248799232,
          0.10566762728146013,
          0.10566762728146013,
          0.10662824207492795,
          0.10662824207492795,
          0.10662824207492795,
          0.10662824207492795,
          0.10758885686839577,
          0.10758885686839577,
          0.10758885686839577,
          0.10854947166186359,
          0.10854947166186359,
          0.10951008645533142,
          0.10951008645533142,
          0.11047070124879924,
          0.11047070124879924,
          0.11143131604226705,
          0.11143131604226705,
          0.11143131604226705,
          0.11143131604226705,
          0.11143131604226705,
          0.11143131604226705,
          0.11239193083573487,
          0.11239193083573487,
          0.11335254562920269,
          0.11335254562920269,
          0.11527377521613832,
          0.11527377521613832,
          0.11527377521613832,
          0.11527377521613832,
          0.11527377521613832,
          0.11527377521613832,
          0.11719500480307397,
          0.11719500480307397,
          0.12007684918347743,
          0.12007684918347743,
          0.12103746397694524,
          0.12103746397694524,
          0.12199807877041306,
          0.12199807877041306,
          0.12199807877041306,
          0.12295869356388088,
          0.12295869356388088,
          0.1239193083573487,
          0.1239193083573487,
          0.1239193083573487,
          0.12487992315081652,
          0.12487992315081652,
          0.12584053794428435,
          0.12584053794428435,
          0.12584053794428435,
          0.12680115273775217,
          0.12680115273775217,
          0.12776176753121998,
          0.12776176753121998,
          0.1287223823246878,
          0.1287223823246878,
          0.1287223823246878,
          0.13064361191162344,
          0.13064361191162344,
          0.13160422670509125,
          0.13160422670509125,
          0.13160422670509125,
          0.13160422670509125,
          0.1335254562920269,
          0.1335254562920269,
          0.1335254562920269,
          0.1344860710854947,
          0.1344860710854947,
          0.13544668587896252,
          0.13544668587896252,
          0.13640730067243034,
          0.13640730067243034,
          0.13640730067243034,
          0.138328530259366,
          0.138328530259366,
          0.13928914505283382,
          0.13928914505283382,
          0.14121037463976946,
          0.14121037463976946,
          0.14121037463976946,
          0.14121037463976946,
          0.14121037463976946,
          0.1431316042267051,
          0.1431316042267051,
          0.14505283381364073,
          0.14505283381364073,
          0.14793467819404418,
          0.14793467819404418,
          0.148895292987512,
          0.148895292987512,
          0.14985590778097982,
          0.14985590778097982,
          0.15177713736791545,
          0.15177713736791545,
          0.15369836695485112,
          0.15369836695485112,
          0.15465898174831894,
          0.15465898174831894,
          0.15465898174831894,
          0.15658021133525457,
          0.15658021133525457,
          0.15658021133525457,
          0.15658021133525457,
          0.15658021133525457,
          0.1575408261287224,
          0.1575408261287224,
          0.1585014409221902,
          0.1585014409221902,
          0.15946205571565802,
          0.15946205571565802,
          0.16042267050912584,
          0.16042267050912584,
          0.16042267050912584,
          0.16138328530259366,
          0.16138328530259366,
          0.16234390009606148,
          0.16234390009606148,
          0.16234390009606148,
          0.16234390009606148,
          0.16234390009606148,
          0.16522574447646493,
          0.16522574447646493,
          0.16522574447646493,
          0.16522574447646493,
          0.16522574447646493,
          0.16522574447646493,
          0.16618635926993275,
          0.16618635926993275,
          0.16810758885686838,
          0.16810758885686838,
          0.17098943323727187,
          0.17098943323727187,
          0.17098943323727187,
          0.17387127761767532,
          0.17387127761767532,
          0.17675312199807877,
          0.17675312199807877,
          0.1777137367915466,
          0.1777137367915466,
          0.1786743515850144,
          0.1786743515850144,
          0.1786743515850144,
          0.1786743515850144,
          0.1786743515850144,
          0.1786743515850144,
          0.18251681075888568,
          0.18251681075888568,
          0.1844380403458213,
          0.1844380403458213,
          0.1844380403458213,
          0.18539865513928913,
          0.18539865513928913,
          0.18539865513928913,
          0.18539865513928913,
          0.1882804995196926,
          0.1882804995196926,
          0.1882804995196926,
          0.1882804995196926,
          0.19020172910662825,
          0.19020172910662825,
          0.19020172910662825,
          0.19500480307396734,
          0.19500480307396734,
          0.19500480307396734,
          0.19692603266090297,
          0.19692603266090297,
          0.1978866474543708,
          0.1978866474543708,
          0.19980787704130643,
          0.2017291066282421,
          0.2017291066282421,
          0.2017291066282421,
          0.20365033621517772,
          0.20365033621517772,
          0.20461095100864554,
          0.20461095100864554,
          0.20557156580211336,
          0.20557156580211336,
          0.20557156580211336,
          0.20653218059558118,
          0.20653218059558118,
          0.207492795389049,
          0.207492795389049,
          0.21133525456292027,
          0.21133525456292027,
          0.21229586935638808,
          0.21229586935638808,
          0.21229586935638808,
          0.2132564841498559,
          0.2132564841498559,
          0.21421709894332372,
          0.21421709894332372,
          0.21517771373679154,
          0.21517771373679154,
          0.21709894332372717,
          0.21709894332372717,
          0.21902017291066284,
          0.21902017291066284,
          0.21998078770413065,
          0.21998078770413065,
          0.2219020172910663,
          0.2219020172910663,
          0.2219020172910663,
          0.2228626320845341,
          0.2228626320845341,
          0.22382324687800192,
          0.22382324687800192,
          0.22382324687800192,
          0.22574447646493756,
          0.22574447646493756,
          0.22670509125840538,
          0.22670509125840538,
          0.2276657060518732,
          0.2276657060518732,
          0.23054755043227665,
          0.23054755043227665,
          0.23054755043227665,
          0.23246878001921228,
          0.23246878001921228,
          0.2334293948126801,
          0.2334293948126801,
          0.23535062439961577,
          0.23535062439961577,
          0.23823246878001922,
          0.23823246878001922,
          0.24015369836695485,
          0.24015369836695485,
          0.2420749279538905,
          0.2420749279538905,
          0.2430355427473583,
          0.2430355427473583,
          0.2430355427473583,
          0.2430355427473583,
          0.24591738712776176,
          0.24591738712776176,
          0.24687800192122958,
          0.24687800192122958,
          0.2478386167146974,
          0.2478386167146974,
          0.24879923150816521,
          0.24879923150816521,
          0.24879923150816521,
          0.24975984630163303,
          0.24975984630163303,
          0.25360230547550433,
          0.25360230547550433,
          0.25552353506243997,
          0.25552353506243997,
          0.25552353506243997,
          0.2564841498559078,
          0.2564841498559078,
          0.2574447646493756,
          0.2574447646493756,
          0.2574447646493756,
          0.2574447646493756,
          0.26032660902977905,
          0.26032660902977905,
          0.2622478386167147,
          0.2622478386167147,
          0.2622478386167147,
          0.2632084534101825,
          0.2632084534101825,
          0.26609029779058596,
          0.26609029779058596,
          0.2680115273775216,
          0.2680115273775216,
          0.2689721421709894,
          0.2689721421709894,
          0.2689721421709894,
          0.26993275696445723,
          0.26993275696445723,
          0.27089337175792505,
          0.27089337175792505,
          0.27185398655139287,
          0.27185398655139287,
          0.2728146013448607,
          0.2728146013448607,
          0.2728146013448607,
          0.2728146013448607,
          0.2737752161383285,
          0.2737752161383285,
          0.2737752161383285,
          0.2737752161383285,
          0.2737752161383285,
          0.2747358309317964,
          0.2747358309317964,
          0.27761767531219983,
          0.27761767531219983,
          0.2804995196926033,
          0.2804995196926033,
          0.2804995196926033,
          0.28530259365994237,
          0.28530259365994237,
          0.2881844380403458,
          0.2881844380403458,
          0.2881844380403458,
          0.2881844380403458,
          0.2881844380403458,
          0.29010566762728146,
          0.29010566762728146,
          0.29010566762728146,
          0.29010566762728146,
          0.2920268972142171,
          0.2920268972142171,
          0.29394812680115273,
          0.29394812680115273,
          0.29490874159462055,
          0.29490874159462055,
          0.29490874159462055,
          0.2968299711815562,
          0.2968299711815562,
          0.297790585975024,
          0.297790585975024,
          0.29971181556195964,
          0.29971181556195964,
          0.30067243035542746,
          0.30067243035542746,
          0.3016330451488953,
          0.3016330451488953,
          0.3025936599423631,
          0.3025936599423631,
          0.3025936599423631,
          0.30547550432276654,
          0.30547550432276654,
          0.30643611911623436,
          0.30643611911623436,
          0.30835734870317005,
          0.30835734870317005,
          0.3112391930835735,
          0.3112391930835735,
          0.3121998078770413,
          0.3121998078770413,
          0.31316042267050914,
          0.31316042267050914,
          0.3160422670509126,
          0.3160422670509126,
          0.3170028818443804,
          0.3170028818443804,
          0.31796349663784823,
          0.31796349663784823,
          0.31796349663784823,
          0.31892411143131605,
          0.31892411143131605,
          0.3208453410182517,
          0.3208453410182517,
          0.3227665706051873,
          0.3227665706051873,
          0.3256484149855908,
          0.3256484149855908,
          0.3256484149855908,
          0.3256484149855908,
          0.3314121037463977,
          0.3314121037463977,
          0.33621517771373677,
          0.33621517771373677,
          0.3390970220941403,
          0.3390970220941403,
          0.3390970220941403,
          0.3400576368876081,
          0.3400576368876081,
          0.3410182516810759,
          0.3410182516810759,
          0.3410182516810759,
          0.3525456292026897,
          0.3525456292026897,
          0.3525456292026897,
          0.3525456292026897,
          0.3573487031700288,
          0.3573487031700288,
          0.36023054755043227,
          0.36023054755043227,
          0.3611911623439001,
          0.3611911623439001,
          0.3621517771373679,
          0.3621517771373679,
          0.36407300672430354,
          0.36407300672430354,
          0.36503362151777136,
          0.36503362151777136,
          0.3659942363112392,
          0.3659942363112392,
          0.3659942363112392,
          0.366954851104707,
          0.366954851104707,
          0.36983669548511044,
          0.36983669548511044,
          0.37271853986551395,
          0.37271853986551395,
          0.37271853986551395,
          0.37271853986551395,
          0.3861671469740634,
          0.3861671469740634,
          0.3871277617675312,
          0.3871277617675312,
          0.3871277617675312,
          0.38904899135446686,
          0.38904899135446686,
          0.39865513928914503,
          0.39865513928914503,
          0.4015369836695485,
          0.4015369836695485,
          0.4015369836695485,
          0.4092219020172911,
          0.4092219020172911,
          0.4169068203650336,
          0.4169068203650336,
          0.41882804995196926,
          0.41882804995196926,
          0.4207492795389049,
          0.4207492795389049,
          0.4303554274735831,
          0.4303554274735831,
          0.4332372718539865,
          0.4332372718539865,
          0.43515850144092216,
          0.43515850144092216,
          0.43611911623439004,
          0.43611911623439004,
          0.4409221902017291,
          0.4409221902017291,
          0.44284341978866476,
          0.44284341978866476,
          0.4438040345821326,
          0.4438040345821326,
          0.44668587896253603,
          0.44668587896253603,
          0.44860710854947167,
          0.44860710854947167,
          0.4505283381364073,
          0.4505283381364073,
          0.4553314121037464,
          0.4553314121037464,
          0.4562920268972142,
          0.4562920268972142,
          0.457252641690682,
          0.457252641690682,
          0.457252641690682,
          0.46493756003842457,
          0.46493756003842457,
          0.4668587896253602,
          0.4668587896253602,
          0.4697406340057637,
          0.4697406340057637,
          0.4745437079731028,
          0.4745437079731028,
          0.4755043227665706,
          0.4755043227665706,
          0.4793467819404419,
          0.4793467819404419,
          0.4812680115273775,
          0.4812680115273775,
          0.48318924111431316,
          0.48318924111431316,
          0.48799231508165225,
          0.48799231508165225,
          0.49375600384245916,
          0.49375600384245916,
          0.505283381364073,
          0.505283381364073,
          0.5120076849183477,
          0.5120076849183477,
          0.5129682997118156,
          0.5129682997118156,
          0.5129682997118156,
          0.5206532180595581,
          0.5206532180595581,
          0.5225744476464937,
          0.5225744476464937,
          0.5360230547550432,
          0.5360230547550432,
          0.5389048991354467,
          0.5389048991354467,
          0.5417867435158501,
          0.5417867435158501,
          0.5552353506243997,
          0.5552353506243997,
          0.5715658021133525,
          0.5715658021133525,
          0.5773294908741594,
          0.5773294908741594,
          0.5888568683957733,
          0.5888568683957733,
          0.6099903938520653,
          0.6099903938520653,
          0.6551392891450528,
          0.6551392891450528,
          0.6560999039385207,
          0.6560999039385207,
          0.6618635926993276,
          0.6618635926993276,
          0.6628242074927954,
          0.6628242074927954,
          0.664745437079731,
          0.664745437079731,
          0.6906820365033621,
          0.6906820365033621,
          0.7396733909702209,
          0.7396733909702209,
          0.8174831892411143,
          0.8194044188280499,
          0.8261287223823247,
          0.8261287223823247,
          0.834774255523535,
          0.834774255523535,
          0.8568683957732949,
          0.8568683957732949,
          0.8587896253602305,
          0.8626320845341018,
          0.8645533141210374,
          0.8914505283381364,
          0.8914505283381364,
          0.9173871277617676,
          0.9173871277617676,
          1.0
         ],
         "xaxis": "x",
         "y": [
          0.0,
          8.984725965858042E-4,
          0.0026954177897574125,
          0.004492362982929021,
          0.005390835579514825,
          0.0071877807726864335,
          0.008086253369272238,
          0.008086253369272238,
          0.008984725965858042,
          0.01078167115902965,
          0.011680143755615454,
          0.013477088948787063,
          0.014375561545372867,
          0.016172506738544475,
          0.018867924528301886,
          0.0215633423180593,
          0.02336028751123091,
          0.026954177897574125,
          0.028751123090745734,
          0.03234501347708895,
          0.034141958670260555,
          0.036837376460017966,
          0.03773584905660377,
          0.03773584905660377,
          0.03863432165318958,
          0.03863432165318958,
          0.039532794249775384,
          0.04132973944294699,
          0.0440251572327044,
          0.047619047619047616,
          0.050314465408805034,
          0.055705300988319856,
          0.05660377358490566,
          0.05660377358490566,
          0.05840071877807727,
          0.05929919137466307,
          0.05929919137466307,
          0.061096136567834684,
          0.06199460916442048,
          0.0637915543575921,
          0.07367475292003593,
          0.07367475292003593,
          0.07637017070979335,
          0.07816711590296496,
          0.08265947888589398,
          0.08445642407906559,
          0.0862533692722372,
          0.0880503144654088,
          0.09074573225516622,
          0.09254267744833783,
          0.09344115004492363,
          0.09344115004492363,
          0.09613656783468104,
          0.09973045822102426,
          0.10422282120395328,
          0.10512129380053908,
          0.1105121293800539,
          0.11500449236298294,
          0.11859838274932614,
          0.11949685534591195,
          0.12129380053908356,
          0.12219227313566937,
          0.12398921832884097,
          0.12488769092542677,
          0.12668463611859837,
          0.1302785265049416,
          0.1302785265049416,
          0.13117699910152741,
          0.132973944294699,
          0.13566936208445643,
          0.13566936208445643,
          0.14106019766397124,
          0.14285714285714285,
          0.14914645103324348,
          0.1509433962264151,
          0.1518418688230009,
          0.15363881401617252,
          0.1545372866127583,
          0.15633423180592992,
          0.15723270440251572,
          0.15723270440251572,
          0.16172506738544473,
          0.16352201257861634,
          0.16352201257861634,
          0.16711590296495957,
          0.16801437556154536,
          0.16981132075471697,
          0.17160826594788858,
          0.17160826594788858,
          0.17430368373764601,
          0.1778975741239892,
          0.17969451931716082,
          0.18149146451033243,
          0.18238993710691823,
          0.18418688230008984,
          0.18688230008984727,
          0.18957771787960467,
          0.19047619047619047,
          0.19047619047619047,
          0.1940700808625337,
          0.1958670260557053,
          0.19946091644204852,
          0.20125786163522014,
          0.20215633423180593,
          0.20664869721473494,
          0.20844564240790656,
          0.21024258760107817,
          0.21203953279424978,
          0.2138364779874214,
          0.215633423180593,
          0.2183288409703504,
          0.2192273135669362,
          0.22012578616352202,
          0.22192273135669363,
          0.22282120395327942,
          0.22282120395327942,
          0.22371967654986524,
          0.22371967654986524,
          0.22551662174303683,
          0.22911051212938005,
          0.22911051212938005,
          0.23270440251572327,
          0.23539982030548068,
          0.23539982030548068,
          0.2371967654986523,
          0.2398921832884097,
          0.2398921832884097,
          0.2416891284815813,
          0.2416891284815813,
          0.24618149146451032,
          0.25157232704402516,
          0.25426774483378256,
          0.2560646900269542,
          0.25965858041329737,
          0.25965858041329737,
          0.261455525606469,
          0.26235399820305483,
          0.2641509433962264,
          0.2695417789757412,
          0.2695417789757412,
          0.27133872416891286,
          0.27313566936208444,
          0.27583108715184185,
          0.27583108715184185,
          0.27672955974842767,
          0.2785265049415993,
          0.2803234501347709,
          0.2839173405211141,
          0.2866127583108715,
          0.2884097035040431,
          0.2893081761006289,
          0.29020664869721474,
          0.29110512129380056,
          0.29110512129380056,
          0.2920035938903863,
          0.29380053908355797,
          0.29559748427672955,
          0.2973944294699012,
          0.2973944294699012,
          0.2991913746630728,
          0.3018867924528302,
          0.3018867924528302,
          0.3045822102425876,
          0.30727762803234504,
          0.30727762803234504,
          0.3090745732255166,
          0.3090745732255166,
          0.3108715184186882,
          0.31176999101527403,
          0.31356693620844567,
          0.31356693620844567,
          0.31536388140161725,
          0.31716082659478884,
          0.31716082659478884,
          0.31805929919137466,
          0.31805929919137466,
          0.3198562443845463,
          0.32075471698113206,
          0.32075471698113206,
          0.3243486073674753,
          0.3243486073674753,
          0.3261455525606469,
          0.3279424977538185,
          0.3279424977538185,
          0.3297394429469901,
          0.3297394429469901,
          0.33153638814016173,
          0.3333333333333333,
          0.33423180592991913,
          0.3360287511230907,
          0.3360287511230907,
          0.33692722371967654,
          0.33692722371967654,
          0.33782569631626236,
          0.33782569631626236,
          0.33962264150943394,
          0.33962264150943394,
          0.3477088948787062,
          0.3477088948787062,
          0.3504043126684636,
          0.3522012578616352,
          0.3522012578616352,
          0.3584905660377358,
          0.3584905660377358,
          0.35938903863432164,
          0.35938903863432164,
          0.3611859838274933,
          0.3638814016172507,
          0.3638814016172507,
          0.36477987421383645,
          0.3665768194070081,
          0.3710691823899371,
          0.3728661275831087,
          0.37376460017969454,
          0.37646001796945194,
          0.37646001796945194,
          0.37735849056603776,
          0.37735849056603776,
          0.37915543575920935,
          0.37915543575920935,
          0.38095238095238093,
          0.38544474393531,
          0.38724168912848156,
          0.3926325247079964,
          0.3926325247079964,
          0.394429469901168,
          0.3953279424977538,
          0.3953279424977538,
          0.3971248876909254,
          0.3971248876909254,
          0.39802336028751123,
          0.39802336028751123,
          0.39892183288409705,
          0.39892183288409705,
          0.40071877807726863,
          0.4025157232704403,
          0.40341419586702604,
          0.4052111410601977,
          0.4079065588499551,
          0.40970350404312667,
          0.4123989218328841,
          0.4141958670260557,
          0.41509433962264153,
          0.4168912848158131,
          0.4168912848158131,
          0.4195867026055705,
          0.4222821203953279,
          0.4222821203953279,
          0.42318059299191374,
          0.42318059299191374,
          0.42318059299191374,
          0.4249775381850854,
          0.4249775381850854,
          0.42587601078167114,
          0.42946990116801437,
          0.431266846361186,
          0.431266846361186,
          0.4330637915543576,
          0.4366576819407008,
          0.4384546271338724,
          0.4384546271338724,
          0.44025157232704404,
          0.44025157232704404,
          0.44384546271338726,
          0.44384546271338726,
          0.44564240790655885,
          0.4474393530997305,
          0.44923629829290207,
          0.45103324348607365,
          0.4528301886792453,
          0.4537286612758311,
          0.4537286612758311,
          0.4555256064690027,
          0.4564240790655885,
          0.4564240790655885,
          0.4582210242587601,
          0.46001796945193174,
          0.4609164420485175,
          0.4609164420485175,
          0.4618149146451033,
          0.4618149146451033,
          0.46271338724168914,
          0.46271338724168914,
          0.46451033243486073,
          0.46630727762803237,
          0.46990116801437554,
          0.4716981132075472,
          0.472596585804133,
          0.472596585804133,
          0.4779874213836478,
          0.4779874213836478,
          0.4797843665768194,
          0.481581311769991,
          0.4833782569631626,
          0.48517520215633425,
          0.48517520215633425,
          0.4914645103324349,
          0.49326145552560646,
          0.4941599281221923,
          0.49595687331536387,
          0.49595687331536387,
          0.4977538185085355,
          0.4995507637017071,
          0.4995507637017071,
          0.5004492362982929,
          0.5004492362982929,
          0.5013477088948787,
          0.5022461814914645,
          0.5031446540880503,
          0.5031446540880503,
          0.5058400718778078,
          0.5076370170709793,
          0.5085354896675651,
          0.5103324348607368,
          0.5121293800539084,
          0.5121293800539084,
          0.5130278526504941,
          0.5130278526504941,
          0.5166217430368374,
          0.5175202156334232,
          0.5175202156334232,
          0.518418688230009,
          0.518418688230009,
          0.5193171608265947,
          0.5193171608265947,
          0.5220125786163522,
          0.5238095238095238,
          0.5256064690026954,
          0.5256064690026954,
          0.527403414195867,
          0.531895777178796,
          0.531895777178796,
          0.5327942497753818,
          0.5327942497753818,
          0.5345911949685535,
          0.5345911949685535,
          0.5354896675651393,
          0.5354896675651393,
          0.5372866127583109,
          0.5426774483378257,
          0.5435759209344115,
          0.5453728661275831,
          0.5498652291105122,
          0.5498652291105122,
          0.550763701707098,
          0.550763701707098,
          0.5525606469002695,
          0.5525606469002695,
          0.5570530098831986,
          0.5588499550763701,
          0.559748427672956,
          0.5615453728661276,
          0.5624438454627134,
          0.5624438454627134,
          0.5651392632524708,
          0.5651392632524708,
          0.5678346810422282,
          0.5678346810422282,
          0.5714285714285714,
          0.5714285714285714,
          0.5723270440251572,
          0.5741239892183289,
          0.5741239892183289,
          0.5750224618149147,
          0.5750224618149147,
          0.5768194070080862,
          0.5813117699910153,
          0.5813117699910153,
          0.5831087151841868,
          0.5831087151841868,
          0.5849056603773585,
          0.5858041329739443,
          0.5858041329739443,
          0.5876010781671159,
          0.5876010781671159,
          0.5884995507637018,
          0.5884995507637018,
          0.5893980233602875,
          0.5911949685534591,
          0.5911949685534591,
          0.5920934411500449,
          0.5920934411500449,
          0.5929919137466307,
          0.5956873315363881,
          0.5974842767295597,
          0.5974842767295597,
          0.6019766397124887,
          0.6037735849056604,
          0.6037735849056604,
          0.605570530098832,
          0.605570530098832,
          0.6073674752920036,
          0.6073674752920036,
          0.6091644204851752,
          0.6118598382749326,
          0.6118598382749326,
          0.6136567834681043,
          0.6136567834681043,
          0.6145552560646901,
          0.6145552560646901,
          0.6154537286612758,
          0.6172506738544474,
          0.6181491464510332,
          0.6199460916442049,
          0.6199460916442049,
          0.6217430368373764,
          0.6217430368373764,
          0.6226415094339622,
          0.6226415094339622,
          0.6235399820305481,
          0.6235399820305481,
          0.6253369272237197,
          0.6253369272237197,
          0.6262353998203055,
          0.6262353998203055,
          0.6271338724168913,
          0.6271338724168913,
          0.6289308176100629,
          0.6289308176100629,
          0.6298292902066487,
          0.6316262353998203,
          0.6316262353998203,
          0.6352201257861635,
          0.6370170709793351,
          0.6388140161725068,
          0.6415094339622641,
          0.6415094339622641,
          0.6424079065588499,
          0.6424079065588499,
          0.6433063791554358,
          0.6433063791554358,
          0.6442048517520216,
          0.6442048517520216,
          0.6451033243486074,
          0.6469002695417789,
          0.6469002695417789,
          0.6477987421383647,
          0.6477987421383647,
          0.6495956873315364,
          0.6504941599281222,
          0.6522911051212938,
          0.6531895777178796,
          0.6531895777178796,
          0.6549865229110512,
          0.6576819407008087,
          0.6612758310871518,
          0.6630727762803235,
          0.6639712488769093,
          0.6639712488769093,
          0.6657681940700808,
          0.6657681940700808,
          0.6666666666666666,
          0.6666666666666666,
          0.6675651392632524,
          0.6693620844564241,
          0.6693620844564241,
          0.6702605570530099,
          0.6702605570530099,
          0.6711590296495957,
          0.6711590296495957,
          0.6729559748427673,
          0.6729559748427673,
          0.6774483378256964,
          0.6810422282120395,
          0.6819407008086253,
          0.6846361185983828,
          0.6855345911949685,
          0.6855345911949685,
          0.6873315363881402,
          0.6873315363881402,
          0.6891284815813118,
          0.6900269541778976,
          0.6900269541778976,
          0.6918238993710691,
          0.6936208445642408,
          0.6945193171608266,
          0.6945193171608266,
          0.6954177897574124,
          0.6981132075471698,
          0.6999101527403414,
          0.6999101527403414,
          0.7026055705300989,
          0.7044025157232704,
          0.7044025157232704,
          0.706199460916442,
          0.7097933513027853,
          0.7097933513027853,
          0.710691823899371,
          0.710691823899371,
          0.7124887690925427,
          0.7142857142857143,
          0.7142857142857143,
          0.7160826594788859,
          0.7178796046720575,
          0.7178796046720575,
          0.7187780772686433,
          0.7187780772686433,
          0.7205750224618149,
          0.7205750224618149,
          0.7232704402515723,
          0.7250673854447439,
          0.7250673854447439,
          0.7268643306379156,
          0.7268643306379156,
          0.7277628032345014,
          0.7277628032345014,
          0.7286612758310872,
          0.7286612758310872,
          0.7304582210242587,
          0.7313566936208445,
          0.7313566936208445,
          0.7322551662174304,
          0.7322551662174304,
          0.734052111410602,
          0.734052111410602,
          0.7358490566037735,
          0.7358490566037735,
          0.7376460017969452,
          0.7376460017969452,
          0.738544474393531,
          0.738544474393531,
          0.7439353099730458,
          0.7439353099730458,
          0.7457322551662174,
          0.7466307277628033,
          0.7466307277628033,
          0.7475292003593891,
          0.7475292003593891,
          0.7502246181491464,
          0.7511230907457322,
          0.7511230907457322,
          0.7520215633423181,
          0.7520215633423181,
          0.7538185085354897,
          0.7538185085354897,
          0.7574123989218329,
          0.7574123989218329,
          0.7583108715184187,
          0.7601078167115903,
          0.7601078167115903,
          0.7619047619047619,
          0.7619047619047619,
          0.7628032345013477,
          0.7628032345013477,
          0.7646001796945193,
          0.7646001796945193,
          0.7654986522911051,
          0.7654986522911051,
          0.7690925426774483,
          0.7690925426774483,
          0.7699910152740341,
          0.7699910152740341,
          0.7717879604672058,
          0.7726864330637916,
          0.7762803234501348,
          0.7762803234501348,
          0.7771787960467206,
          0.7771787960467206,
          0.7780772686433064,
          0.7780772686433064,
          0.779874213836478,
          0.779874213836478,
          0.7807726864330637,
          0.7825696316262354,
          0.7825696316262354,
          0.784366576819407,
          0.784366576819407,
          0.7861635220125787,
          0.7861635220125787,
          0.7879604672057502,
          0.7897574123989218,
          0.7897574123989218,
          0.7915543575920935,
          0.7915543575920935,
          0.7924528301886793,
          0.7960467205750225,
          0.7978436657681941,
          0.7978436657681941,
          0.8023360287511231,
          0.8023360287511231,
          0.8041329739442947,
          0.8050314465408805,
          0.8050314465408805,
          0.8059299191374663,
          0.8059299191374663,
          0.8068283917340521,
          0.8068283917340521,
          0.8077268643306379,
          0.8077268643306379,
          0.8095238095238095,
          0.8113207547169812,
          0.8113207547169812,
          0.8131176999101527,
          0.8131176999101527,
          0.8149146451033243,
          0.8149146451033243,
          0.8158131176999102,
          0.8158131176999102,
          0.816711590296496,
          0.8185085354896675,
          0.8194070080862533,
          0.8194070080862533,
          0.821203953279425,
          0.8238993710691824,
          0.825696316262354,
          0.8274932614555256,
          0.8274932614555256,
          0.8292902066486972,
          0.8292902066486972,
          0.8310871518418689,
          0.8310871518418689,
          0.8328840970350404,
          0.8337825696316262,
          0.8337825696316262,
          0.8355795148247979,
          0.8355795148247979,
          0.839173405211141,
          0.8418688230008985,
          0.8436657681940701,
          0.8445642407906558,
          0.8445642407906558,
          0.8463611859838275,
          0.8481581311769991,
          0.8490566037735849,
          0.8490566037735849,
          0.8544474393530997,
          0.8544474393530997,
          0.8562443845462714,
          0.8562443845462714,
          0.8571428571428571,
          0.8589398023360287,
          0.8589398023360287,
          0.8598382749326146,
          0.8598382749326146,
          0.8607367475292004,
          0.8607367475292004,
          0.8616352201257862,
          0.8616352201257862,
          0.862533692722372,
          0.862533692722372,
          0.8634321653189577,
          0.8634321653189577,
          0.8643306379155435,
          0.8679245283018868,
          0.8679245283018868,
          0.8688230008984726,
          0.8688230008984726,
          0.8706199460916442,
          0.8706199460916442,
          0.8733153638814016,
          0.8733153638814016,
          0.8742138364779874,
          0.8742138364779874,
          0.8751123090745733,
          0.8751123090745733,
          0.8769092542677448,
          0.8769092542677448,
          0.8796046720575023,
          0.8796046720575023,
          0.8814016172506739,
          0.8814016172506739,
          0.8831985624438454,
          0.8840970350404312,
          0.8840970350404312,
          0.8858939802336029,
          0.8858939802336029,
          0.8876909254267745,
          0.8876909254267745,
          0.889487870619946,
          0.889487870619946,
          0.8903863432165319,
          0.8921832884097035,
          0.8939802336028752,
          0.8939802336028752,
          0.894878706199461,
          0.894878706199461,
          0.8966756513926325,
          0.8966756513926325,
          0.8975741239892183,
          0.89937106918239,
          0.89937106918239,
          0.9002695417789758,
          0.9002695417789758,
          0.9020664869721473,
          0.9029649595687331,
          0.9029649595687331,
          0.9047619047619048,
          0.9065588499550764,
          0.9083557951482479,
          0.9083557951482479,
          0.9101527403414196,
          0.9101527403414196,
          0.9119496855345912,
          0.9119496855345912,
          0.912848158131177,
          0.912848158131177,
          0.9155435759209344,
          0.9155435759209344,
          0.9164420485175202,
          0.9164420485175202,
          0.917340521114106,
          0.917340521114106,
          0.9191374663072777,
          0.9200359389038635,
          0.9200359389038635,
          0.9209344115004492,
          0.9209344115004492,
          0.9227313566936208,
          0.9227313566936208,
          0.9236298292902066,
          0.9254267744833783,
          0.9263252470799641,
          0.9263252470799641,
          0.9272237196765498,
          0.9272237196765498,
          0.9290206648697215,
          0.9308176100628931,
          0.9308176100628931,
          0.9317160826594789,
          0.9317160826594789,
          0.9335130278526504,
          0.9335130278526504,
          0.9344115004492363,
          0.9362084456424079,
          0.9362084456424079,
          0.9380053908355795,
          0.9380053908355795,
          0.9389038634321654,
          0.9389038634321654,
          0.9398023360287511,
          0.9398023360287511,
          0.9407008086253369,
          0.9407008086253369,
          0.9424977538185085,
          0.9424977538185085,
          0.9433962264150944,
          0.9433962264150944,
          0.9442946990116802,
          0.9442946990116802,
          0.945193171608266,
          0.945193171608266,
          0.9460916442048517,
          0.9460916442048517,
          0.9469901168014375,
          0.9469901168014375,
          0.9478885893980233,
          0.9478885893980233,
          0.9487870619946092,
          0.9487870619946092,
          0.949685534591195,
          0.949685534591195,
          0.9514824797843666,
          0.9514824797843666,
          0.9523809523809523,
          0.9523809523809523,
          0.9532794249775381,
          0.9532794249775381,
          0.954177897574124,
          0.9559748427672956,
          0.9559748427672956,
          0.9568733153638814,
          0.9568733153638814,
          0.9577717879604672,
          0.9577717879604672,
          0.958670260557053,
          0.958670260557053,
          0.9595687331536388,
          0.9595687331536388,
          0.9604672057502246,
          0.9604672057502246,
          0.9622641509433962,
          0.9622641509433962,
          0.963162623539982,
          0.963162623539982,
          0.9640610961365679,
          0.9640610961365679,
          0.9658580413297394,
          0.9658580413297394,
          0.967654986522911,
          0.967654986522911,
          0.9685534591194969,
          0.9685534591194969,
          0.9694519317160827,
          0.9694519317160827,
          0.9703504043126685,
          0.97214734950584,
          0.97214734950584,
          0.9730458221024259,
          0.9730458221024259,
          0.9739442946990117,
          0.9739442946990117,
          0.9757412398921833,
          0.9757412398921833,
          0.9766397124887691,
          0.9766397124887691,
          0.977538185085355,
          0.977538185085355,
          0.9784366576819407,
          0.9784366576819407,
          0.9793351302785265,
          0.9793351302785265,
          0.9802336028751123,
          0.9802336028751123,
          0.9820305480682839,
          0.9820305480682839,
          0.9838274932614556,
          0.9838274932614556,
          0.9847259658580413,
          0.9847259658580413,
          0.9856244384546271,
          0.9856244384546271,
          0.9865229110512129,
          0.9865229110512129,
          0.9883198562443846,
          0.9883198562443846,
          0.9892183288409704,
          0.9892183288409704,
          0.9901168014375562,
          0.9901168014375562,
          0.9910152740341419,
          0.9910152740341419,
          0.9910152740341419,
          0.9910152740341419,
          0.9928122192273136,
          0.9928122192273136,
          0.995507637017071,
          0.995507637017071,
          0.9964061096136568,
          0.9964061096136568,
          0.9964061096136568,
          0.9964061096136568,
          0.9964061096136568,
          0.9982030548068284,
          0.9982030548068284,
          1.0,
          1.0
         ],
         "yaxis": "y",
         "type": "scatter"
        }
       ],
       "layout": {
        "template": {
         "data": {
          "histogram2dcontour": [
           {
            "type": "histogram2dcontour",
            "colorbar": {
             "outlinewidth": 0,
             "ticks": ""
            },
            "colorscale": [
             [
              0.0,
              "#0d0887"
             ],
             [
              0.1111111111111111,
              "#46039f"
             ],
             [
              0.2222222222222222,
              "#7201a8"
             ],
             [
              0.3333333333333333,
              "#9c179e"
             ],
             [
              0.4444444444444444,
              "#bd3786"
             ],
             [
              0.5555555555555556,
              "#d8576b"
             ],
             [
              0.6666666666666666,
              "#ed7953"
             ],
             [
              0.7777777777777778,
              "#fb9f3a"
             ],
             [
              0.8888888888888888,
              "#fdca26"
             ],
             [
              1.0,
              "#f0f921"
             ]
            ]
           }
          ],
          "choropleth": [
           {
            "type": "choropleth",
            "colorbar": {
             "outlinewidth": 0,
             "ticks": ""
            }
           }
          ],
          "histogram2d": [
           {
            "type": "histogram2d",
            "colorbar": {
             "outlinewidth": 0,
             "ticks": ""
            },
            "colorscale": [
             [
              0.0,
              "#0d0887"
             ],
             [
              0.1111111111111111,
              "#46039f"
             ],
             [
              0.2222222222222222,
              "#7201a8"
             ],
             [
              0.3333333333333333,
              "#9c179e"
             ],
             [
              0.4444444444444444,
              "#bd3786"
             ],
             [
              0.5555555555555556,
              "#d8576b"
             ],
             [
              0.6666666666666666,
              "#ed7953"
             ],
             [
              0.7777777777777778,
              "#fb9f3a"
             ],
             [
              0.8888888888888888,
              "#fdca26"
             ],
             [
              1.0,
              "#f0f921"
             ]
            ]
           }
          ],
          "heatmap": [
           {
            "type": "heatmap",
            "colorbar": {
             "outlinewidth": 0,
             "ticks": ""
            },
            "colorscale": [
             [
              0.0,
              "#0d0887"
             ],
             [
              0.1111111111111111,
              "#46039f"
             ],
             [
              0.2222222222222222,
              "#7201a8"
             ],
             [
              0.3333333333333333,
              "#9c179e"
             ],
             [
              0.4444444444444444,
              "#bd3786"
             ],
             [
              0.5555555555555556,
              "#d8576b"
             ],
             [
              0.6666666666666666,
              "#ed7953"
             ],
             [
              0.7777777777777778,
              "#fb9f3a"
             ],
             [
              0.8888888888888888,
              "#fdca26"
             ],
             [
              1.0,
              "#f0f921"
             ]
            ]
           }
          ],
          "heatmapgl": [
           {
            "type": "heatmapgl",
            "colorbar": {
             "outlinewidth": 0,
             "ticks": ""
            },
            "colorscale": [
             [
              0.0,
              "#0d0887"
             ],
             [
              0.1111111111111111,
              "#46039f"
             ],
             [
              0.2222222222222222,
              "#7201a8"
             ],
             [
              0.3333333333333333,
              "#9c179e"
             ],
             [
              0.4444444444444444,
              "#bd3786"
             ],
             [
              0.5555555555555556,
              "#d8576b"
             ],
             [
              0.6666666666666666,
              "#ed7953"
             ],
             [
              0.7777777777777778,
              "#fb9f3a"
             ],
             [
              0.8888888888888888,
              "#fdca26"
             ],
             [
              1.0,
              "#f0f921"
             ]
            ]
           }
          ],
          "contourcarpet": [
           {
            "type": "contourcarpet",
            "colorbar": {
             "outlinewidth": 0,
             "ticks": ""
            }
           }
          ],
          "contour": [
           {
            "type": "contour",
            "colorbar": {
             "outlinewidth": 0,
             "ticks": ""
            },
            "colorscale": [
             [
              0.0,
              "#0d0887"
             ],
             [
              0.1111111111111111,
              "#46039f"
             ],
             [
              0.2222222222222222,
              "#7201a8"
             ],
             [
              0.3333333333333333,
              "#9c179e"
             ],
             [
              0.4444444444444444,
              "#bd3786"
             ],
             [
              0.5555555555555556,
              "#d8576b"
             ],
             [
              0.6666666666666666,
              "#ed7953"
             ],
             [
              0.7777777777777778,
              "#fb9f3a"
             ],
             [
              0.8888888888888888,
              "#fdca26"
             ],
             [
              1.0,
              "#f0f921"
             ]
            ]
           }
          ],
          "surface": [
           {
            "type": "surface",
            "colorbar": {
             "outlinewidth": 0,
             "ticks": ""
            },
            "colorscale": [
             [
              0.0,
              "#0d0887"
             ],
             [
              0.1111111111111111,
              "#46039f"
             ],
             [
              0.2222222222222222,
              "#7201a8"
             ],
             [
              0.3333333333333333,
              "#9c179e"
             ],
             [
              0.4444444444444444,
              "#bd3786"
             ],
             [
              0.5555555555555556,
              "#d8576b"
             ],
             [
              0.6666666666666666,
              "#ed7953"
             ],
             [
              0.7777777777777778,
              "#fb9f3a"
             ],
             [
              0.8888888888888888,
              "#fdca26"
             ],
             [
              1.0,
              "#f0f921"
             ]
            ]
           }
          ],
          "mesh3d": [
           {
            "type": "mesh3d",
            "colorbar": {
             "outlinewidth": 0,
             "ticks": ""
            }
           }
          ],
          "scatter": [
           {
            "marker": {
             "line": {
              "color": "#283442"
             }
            },
            "type": "scatter"
           }
          ],
          "parcoords": [
           {
            "type": "parcoords",
            "line": {
             "colorbar": {
              "outlinewidth": 0,
              "ticks": ""
             }
            }
           }
          ],
          "scatterpolargl": [
           {
            "type": "scatterpolargl",
            "marker": {
             "colorbar": {
              "outlinewidth": 0,
              "ticks": ""
             }
            }
           }
          ],
          "bar": [
           {
            "error_x": {
             "color": "#f2f5fa"
            },
            "error_y": {
             "color": "#f2f5fa"
            },
            "marker": {
             "line": {
              "color": "rgb(17,17,17)",
              "width": 0.5
             },
             "pattern": {
              "fillmode": "overlay",
              "size": 10,
              "solidity": 0.2
             }
            },
            "type": "bar"
           }
          ],
          "scattergeo": [
           {
            "type": "scattergeo",
            "marker": {
             "colorbar": {
              "outlinewidth": 0,
              "ticks": ""
             }
            }
           }
          ],
          "scatterpolar": [
           {
            "type": "scatterpolar",
            "marker": {
             "colorbar": {
              "outlinewidth": 0,
              "ticks": ""
             }
            }
           }
          ],
          "histogram": [
           {
            "marker": {
             "pattern": {
              "fillmode": "overlay",
              "size": 10,
              "solidity": 0.2
             }
            },
            "type": "histogram"
           }
          ],
          "scattergl": [
           {
            "marker": {
             "line": {
              "color": "#283442"
             }
            },
            "type": "scattergl"
           }
          ],
          "scatter3d": [
           {
            "type": "scatter3d",
            "line": {
             "colorbar": {
              "outlinewidth": 0,
              "ticks": ""
             }
            },
            "marker": {
             "colorbar": {
              "outlinewidth": 0,
              "ticks": ""
             }
            }
           }
          ],
          "scattermapbox": [
           {
            "type": "scattermapbox",
            "marker": {
             "colorbar": {
              "outlinewidth": 0,
              "ticks": ""
             }
            }
           }
          ],
          "scatterternary": [
           {
            "type": "scatterternary",
            "marker": {
             "colorbar": {
              "outlinewidth": 0,
              "ticks": ""
             }
            }
           }
          ],
          "scattercarpet": [
           {
            "type": "scattercarpet",
            "marker": {
             "colorbar": {
              "outlinewidth": 0,
              "ticks": ""
             }
            }
           }
          ],
          "carpet": [
           {
            "aaxis": {
             "endlinecolor": "#A2B1C6",
             "gridcolor": "#506784",
             "linecolor": "#506784",
             "minorgridcolor": "#506784",
             "startlinecolor": "#A2B1C6"
            },
            "baxis": {
             "endlinecolor": "#A2B1C6",
             "gridcolor": "#506784",
             "linecolor": "#506784",
             "minorgridcolor": "#506784",
             "startlinecolor": "#A2B1C6"
            },
            "type": "carpet"
           }
          ],
          "table": [
           {
            "cells": {
             "fill": {
              "color": "#506784"
             },
             "line": {
              "color": "rgb(17,17,17)"
             }
            },
            "header": {
             "fill": {
              "color": "#2a3f5f"
             },
             "line": {
              "color": "rgb(17,17,17)"
             }
            },
            "type": "table"
           }
          ],
          "barpolar": [
           {
            "marker": {
             "line": {
              "color": "rgb(17,17,17)",
              "width": 0.5
             },
             "pattern": {
              "fillmode": "overlay",
              "size": 10,
              "solidity": 0.2
             }
            },
            "type": "barpolar"
           }
          ],
          "pie": [
           {
            "automargin": true,
            "type": "pie"
           }
          ]
         },
         "layout": {
          "autotypenumbers": "strict",
          "colorway": [
           "#636efa",
           "#EF553B",
           "#00cc96",
           "#ab63fa",
           "#FFA15A",
           "#19d3f3",
           "#FF6692",
           "#B6E880",
           "#FF97FF",
           "#FECB52"
          ],
          "font": {
           "color": "#f2f5fa"
          },
          "hovermode": "closest",
          "hoverlabel": {
           "align": "left"
          },
          "paper_bgcolor": "rgb(17,17,17)",
          "plot_bgcolor": "rgb(17,17,17)",
          "polar": {
           "bgcolor": "rgb(17,17,17)",
           "angularaxis": {
            "gridcolor": "#506784",
            "linecolor": "#506784",
            "ticks": ""
           },
           "radialaxis": {
            "gridcolor": "#506784",
            "linecolor": "#506784",
            "ticks": ""
           }
          },
          "ternary": {
           "bgcolor": "rgb(17,17,17)",
           "aaxis": {
            "gridcolor": "#506784",
            "linecolor": "#506784",
            "ticks": ""
           },
           "baxis": {
            "gridcolor": "#506784",
            "linecolor": "#506784",
            "ticks": ""
           },
           "caxis": {
            "gridcolor": "#506784",
            "linecolor": "#506784",
            "ticks": ""
           }
          },
          "coloraxis": {
           "colorbar": {
            "outlinewidth": 0,
            "ticks": ""
           }
          },
          "colorscale": {
           "sequential": [
            [
             0.0,
             "#0d0887"
            ],
            [
             0.1111111111111111,
             "#46039f"
            ],
            [
             0.2222222222222222,
             "#7201a8"
            ],
            [
             0.3333333333333333,
             "#9c179e"
            ],
            [
             0.4444444444444444,
             "#bd3786"
            ],
            [
             0.5555555555555556,
             "#d8576b"
            ],
            [
             0.6666666666666666,
             "#ed7953"
            ],
            [
             0.7777777777777778,
             "#fb9f3a"
            ],
            [
             0.8888888888888888,
             "#fdca26"
            ],
            [
             1.0,
             "#f0f921"
            ]
           ],
           "sequentialminus": [
            [
             0.0,
             "#0d0887"
            ],
            [
             0.1111111111111111,
             "#46039f"
            ],
            [
             0.2222222222222222,
             "#7201a8"
            ],
            [
             0.3333333333333333,
             "#9c179e"
            ],
            [
             0.4444444444444444,
             "#bd3786"
            ],
            [
             0.5555555555555556,
             "#d8576b"
            ],
            [
             0.6666666666666666,
             "#ed7953"
            ],
            [
             0.7777777777777778,
             "#fb9f3a"
            ],
            [
             0.8888888888888888,
             "#fdca26"
            ],
            [
             1.0,
             "#f0f921"
            ]
           ],
           "diverging": [
            [
             0,
             "#8e0152"
            ],
            [
             0.1,
             "#c51b7d"
            ],
            [
             0.2,
             "#de77ae"
            ],
            [
             0.3,
             "#f1b6da"
            ],
            [
             0.4,
             "#fde0ef"
            ],
            [
             0.5,
             "#f7f7f7"
            ],
            [
             0.6,
             "#e6f5d0"
            ],
            [
             0.7,
             "#b8e186"
            ],
            [
             0.8,
             "#7fbc41"
            ],
            [
             0.9,
             "#4d9221"
            ],
            [
             1,
             "#276419"
            ]
           ]
          },
          "xaxis": {
           "gridcolor": "#283442",
           "linecolor": "#506784",
           "ticks": "",
           "title": {
            "standoff": 15
           },
           "zerolinecolor": "#283442",
           "automargin": true,
           "zerolinewidth": 2
          },
          "yaxis": {
           "gridcolor": "#283442",
           "linecolor": "#506784",
           "ticks": "",
           "title": {
            "standoff": 15
           },
           "zerolinecolor": "#283442",
           "automargin": true,
           "zerolinewidth": 2
          },
          "scene": {
           "xaxis": {
            "backgroundcolor": "rgb(17,17,17)",
            "gridcolor": "#506784",
            "linecolor": "#506784",
            "showbackground": true,
            "ticks": "",
            "zerolinecolor": "#C8D4E3",
            "gridwidth": 2
           },
           "yaxis": {
            "backgroundcolor": "rgb(17,17,17)",
            "gridcolor": "#506784",
            "linecolor": "#506784",
            "showbackground": true,
            "ticks": "",
            "zerolinecolor": "#C8D4E3",
            "gridwidth": 2
           },
           "zaxis": {
            "backgroundcolor": "rgb(17,17,17)",
            "gridcolor": "#506784",
            "linecolor": "#506784",
            "showbackground": true,
            "ticks": "",
            "zerolinecolor": "#C8D4E3",
            "gridwidth": 2
           }
          },
          "shapedefaults": {
           "line": {
            "color": "#f2f5fa"
           }
          },
          "annotationdefaults": {
           "arrowcolor": "#f2f5fa",
           "arrowhead": 0,
           "arrowwidth": 1
          },
          "geo": {
           "bgcolor": "rgb(17,17,17)",
           "landcolor": "rgb(17,17,17)",
           "subunitcolor": "#506784",
           "showland": true,
           "showlakes": true,
           "lakecolor": "rgb(17,17,17)"
          },
          "title": {
           "x": 0.05
          },
          "updatemenudefaults": {
           "bgcolor": "#506784",
           "borderwidth": 0
          },
          "sliderdefaults": {
           "bgcolor": "#C8D4E3",
           "borderwidth": 1,
           "bordercolor": "rgb(17,17,17)",
           "tickwidth": 0
          },
          "mapbox": {
           "style": "dark"
          }
         }
        },
        "xaxis": {
         "anchor": "y",
         "domain": [
          0.0,
          1.0
         ],
         "title": {
          "text": "False Positive Rate"
         }
        },
        "yaxis": {
         "anchor": "x",
         "domain": [
          0.0,
          1.0
         ],
         "title": {
          "text": "True Positive Rate"
         }
        },
        "legend": {
         "tracegroupgap": 0
        },
        "title": {
         "text": "ROC Curve (AUC=0.8539)"
        },
        "height": 500,
        "width": 700,
        "shapes": [
         {
          "line": {
           "dash": "dash"
          },
          "type": "line",
          "x0": 0,
          "x1": 1,
          "y0": 0,
          "y1": 1
         }
        ]
       },
       "config": {
        "plotlyServerURL": "https://plot.ly"
       }
      },
      "text/html": "<div>                            <div id=\"a4372ca8-d8c1-486b-9248-4c561048fbe9\" class=\"plotly-graph-div\" style=\"height:500px; width:700px;\"></div>            <script type=\"text/javascript\">                require([\"plotly\"], function(Plotly) {                    window.PLOTLYENV=window.PLOTLYENV || {};                                    if (document.getElementById(\"a4372ca8-d8c1-486b-9248-4c561048fbe9\")) {                    Plotly.newPlot(                        \"a4372ca8-d8c1-486b-9248-4c561048fbe9\",                        [{\"fillpattern\":{\"shape\":\"\"},\"hovertemplate\":\"False Positive Rate=%{x}<br>True Positive Rate=%{y}<extra></extra>\",\"legendgroup\":\"\",\"line\":{\"color\":\"#636efa\"},\"marker\":{\"symbol\":\"circle\"},\"mode\":\"lines\",\"name\":\"\",\"orientation\":\"v\",\"showlegend\":false,\"stackgroup\":\"1\",\"x\":[0.0,0.0,0.0,0.0,0.0,0.0,0.0,0.0009606147934678194,0.0009606147934678194,0.0009606147934678194,0.0009606147934678194,0.0009606147934678194,0.0009606147934678194,0.0009606147934678194,0.0009606147934678194,0.0009606147934678194,0.0009606147934678194,0.0009606147934678194,0.0009606147934678194,0.0009606147934678194,0.0009606147934678194,0.0009606147934678194,0.0009606147934678194,0.0019212295869356388,0.0019212295869356388,0.002881844380403458,0.002881844380403458,0.002881844380403458,0.002881844380403458,0.002881844380403458,0.002881844380403458,0.002881844380403458,0.0038424591738712775,0.004803073967339097,0.004803073967339097,0.004803073967339097,0.005763688760806916,0.005763688760806916,0.005763688760806916,0.005763688760806916,0.005763688760806916,0.0067243035542747355,0.0067243035542747355,0.0067243035542747355,0.0067243035542747355,0.0067243035542747355,0.0067243035542747355,0.0067243035542747355,0.0067243035542747355,0.0067243035542747355,0.0067243035542747355,0.007684918347742555,0.007684918347742555,0.007684918347742555,0.008645533141210375,0.008645533141210375,0.008645533141210375,0.008645533141210375,0.008645533141210375,0.008645533141210375,0.008645533141210375,0.008645533141210375,0.008645533141210375,0.008645533141210375,0.008645533141210375,0.008645533141210375,0.009606147934678195,0.009606147934678195,0.009606147934678195,0.009606147934678195,0.010566762728146013,0.010566762728146013,0.010566762728146013,0.010566762728146013,0.010566762728146013,0.010566762728146013,0.010566762728146013,0.010566762728146013,0.010566762728146013,0.010566762728146013,0.012487992315081652,0.012487992315081652,0.012487992315081652,0.013448607108549471,0.013448607108549471,0.013448607108549471,0.013448607108549471,0.013448607108549471,0.01440922190201729,0.01440922190201729,0.01440922190201729,0.01440922190201729,0.01440922190201729,0.01440922190201729,0.01440922190201729,0.01440922190201729,0.01440922190201729,0.01440922190201729,0.01536983669548511,0.01536983669548511,0.01536983669548511,0.01536983669548511,0.01536983669548511,0.01633045148895293,0.01633045148895293,0.01633045148895293,0.01633045148895293,0.01633045148895293,0.01633045148895293,0.01633045148895293,0.01633045148895293,0.01729106628242075,0.01729106628242075,0.01729106628242075,0.01729106628242075,0.01825168107588857,0.01825168107588857,0.020172910662824207,0.020172910662824207,0.020172910662824207,0.021133525456292025,0.021133525456292025,0.021133525456292025,0.022094140249759846,0.022094140249759846,0.022094140249759846,0.024015369836695485,0.024015369836695485,0.025936599423631124,0.025936599423631124,0.025936599423631124,0.025936599423631124,0.025936599423631124,0.025936599423631124,0.026897214217098942,0.026897214217098942,0.026897214217098942,0.026897214217098942,0.026897214217098942,0.027857829010566763,0.027857829010566763,0.027857829010566763,0.027857829010566763,0.029779058597502402,0.029779058597502402,0.029779058597502402,0.029779058597502402,0.029779058597502402,0.029779058597502402,0.029779058597502402,0.029779058597502402,0.03073967339097022,0.03073967339097022,0.03170028818443804,0.03170028818443804,0.03170028818443804,0.03170028818443804,0.03170028818443804,0.03266090297790586,0.03266090297790586,0.03266090297790586,0.03362151777137368,0.03362151777137368,0.03362151777137368,0.0345821325648415,0.0345821325648415,0.03554274735830932,0.03554274735830932,0.03554274735830932,0.03554274735830932,0.03650336215177714,0.03650336215177714,0.03650336215177714,0.037463976945244955,0.037463976945244955,0.03842459173871278,0.03842459173871278,0.03842459173871278,0.0393852065321806,0.0393852065321806,0.04514889529298751,0.04514889529298751,0.04514889529298751,0.04610951008645533,0.04610951008645533,0.04803073967339097,0.04803073967339097,0.04803073967339097,0.04803073967339097,0.04803073967339097,0.04899135446685879,0.04899135446685879,0.049951969260326606,0.049951969260326606,0.05091258405379443,0.05091258405379443,0.052833813640730067,0.052833813640730067,0.05571565802113353,0.05571565802113353,0.05571565802113353,0.056676272814601344,0.056676272814601344,0.05763688760806916,0.05763688760806916,0.05859750240153699,0.05859750240153699,0.05859750240153699,0.059558117195004805,0.059558117195004805,0.059558117195004805,0.059558117195004805,0.059558117195004805,0.059558117195004805,0.059558117195004805,0.06051873198847262,0.06051873198847262,0.06147934678194044,0.06147934678194044,0.06243996157540826,0.06243996157540826,0.06243996157540826,0.06243996157540826,0.06243996157540826,0.06340057636887608,0.06340057636887608,0.06340057636887608,0.0643611911623439,0.0643611911623439,0.06532180595581172,0.06532180595581172,0.06628242074927954,0.06628242074927954,0.06724303554274735,0.06724303554274735,0.06724303554274735,0.06724303554274735,0.06724303554274735,0.06724303554274735,0.06724303554274735,0.06724303554274735,0.06724303554274735,0.06724303554274735,0.06724303554274735,0.069164265129683,0.069164265129683,0.069164265129683,0.07300672430355427,0.07300672430355427,0.07492795389048991,0.07588856868395773,0.07588856868395773,0.07684918347742556,0.07684918347742556,0.07684918347742556,0.07684918347742556,0.07780979827089338,0.07780979827089338,0.07780979827089338,0.07780979827089338,0.0787704130643612,0.0787704130643612,0.07973102785782901,0.07973102785782901,0.08069164265129683,0.08069164265129683,0.08069164265129683,0.08069164265129683,0.08069164265129683,0.08069164265129683,0.08069164265129683,0.08261287223823247,0.08261287223823247,0.08357348703170028,0.08549471661863593,0.08549471661863593,0.08549471661863593,0.08549471661863593,0.08741594620557157,0.08741594620557157,0.09029779058597502,0.09029779058597502,0.09125840537944284,0.09125840537944284,0.09125840537944284,0.09125840537944284,0.09125840537944284,0.09125840537944284,0.09221902017291066,0.09221902017291066,0.09317963496637849,0.09317963496637849,0.09317963496637849,0.09317963496637849,0.09317963496637849,0.0941402497598463,0.0941402497598463,0.0941402497598463,0.0941402497598463,0.0941402497598463,0.09606147934678194,0.09606147934678194,0.09606147934678194,0.09798270893371758,0.09798270893371758,0.0989433237271854,0.0989433237271854,0.09990393852065321,0.09990393852065321,0.10086455331412104,0.10086455331412104,0.10086455331412104,0.10086455331412104,0.10086455331412104,0.10086455331412104,0.10182516810758886,0.10182516810758886,0.10278578290105668,0.10278578290105668,0.10278578290105668,0.10470701248799232,0.10470701248799232,0.10566762728146013,0.10566762728146013,0.10662824207492795,0.10662824207492795,0.10662824207492795,0.10662824207492795,0.10758885686839577,0.10758885686839577,0.10758885686839577,0.10854947166186359,0.10854947166186359,0.10951008645533142,0.10951008645533142,0.11047070124879924,0.11047070124879924,0.11143131604226705,0.11143131604226705,0.11143131604226705,0.11143131604226705,0.11143131604226705,0.11143131604226705,0.11239193083573487,0.11239193083573487,0.11335254562920269,0.11335254562920269,0.11527377521613832,0.11527377521613832,0.11527377521613832,0.11527377521613832,0.11527377521613832,0.11527377521613832,0.11719500480307397,0.11719500480307397,0.12007684918347743,0.12007684918347743,0.12103746397694524,0.12103746397694524,0.12199807877041306,0.12199807877041306,0.12199807877041306,0.12295869356388088,0.12295869356388088,0.1239193083573487,0.1239193083573487,0.1239193083573487,0.12487992315081652,0.12487992315081652,0.12584053794428435,0.12584053794428435,0.12584053794428435,0.12680115273775217,0.12680115273775217,0.12776176753121998,0.12776176753121998,0.1287223823246878,0.1287223823246878,0.1287223823246878,0.13064361191162344,0.13064361191162344,0.13160422670509125,0.13160422670509125,0.13160422670509125,0.13160422670509125,0.1335254562920269,0.1335254562920269,0.1335254562920269,0.1344860710854947,0.1344860710854947,0.13544668587896252,0.13544668587896252,0.13640730067243034,0.13640730067243034,0.13640730067243034,0.138328530259366,0.138328530259366,0.13928914505283382,0.13928914505283382,0.14121037463976946,0.14121037463976946,0.14121037463976946,0.14121037463976946,0.14121037463976946,0.1431316042267051,0.1431316042267051,0.14505283381364073,0.14505283381364073,0.14793467819404418,0.14793467819404418,0.148895292987512,0.148895292987512,0.14985590778097982,0.14985590778097982,0.15177713736791545,0.15177713736791545,0.15369836695485112,0.15369836695485112,0.15465898174831894,0.15465898174831894,0.15465898174831894,0.15658021133525457,0.15658021133525457,0.15658021133525457,0.15658021133525457,0.15658021133525457,0.1575408261287224,0.1575408261287224,0.1585014409221902,0.1585014409221902,0.15946205571565802,0.15946205571565802,0.16042267050912584,0.16042267050912584,0.16042267050912584,0.16138328530259366,0.16138328530259366,0.16234390009606148,0.16234390009606148,0.16234390009606148,0.16234390009606148,0.16234390009606148,0.16522574447646493,0.16522574447646493,0.16522574447646493,0.16522574447646493,0.16522574447646493,0.16522574447646493,0.16618635926993275,0.16618635926993275,0.16810758885686838,0.16810758885686838,0.17098943323727187,0.17098943323727187,0.17098943323727187,0.17387127761767532,0.17387127761767532,0.17675312199807877,0.17675312199807877,0.1777137367915466,0.1777137367915466,0.1786743515850144,0.1786743515850144,0.1786743515850144,0.1786743515850144,0.1786743515850144,0.1786743515850144,0.18251681075888568,0.18251681075888568,0.1844380403458213,0.1844380403458213,0.1844380403458213,0.18539865513928913,0.18539865513928913,0.18539865513928913,0.18539865513928913,0.1882804995196926,0.1882804995196926,0.1882804995196926,0.1882804995196926,0.19020172910662825,0.19020172910662825,0.19020172910662825,0.19500480307396734,0.19500480307396734,0.19500480307396734,0.19692603266090297,0.19692603266090297,0.1978866474543708,0.1978866474543708,0.19980787704130643,0.2017291066282421,0.2017291066282421,0.2017291066282421,0.20365033621517772,0.20365033621517772,0.20461095100864554,0.20461095100864554,0.20557156580211336,0.20557156580211336,0.20557156580211336,0.20653218059558118,0.20653218059558118,0.207492795389049,0.207492795389049,0.21133525456292027,0.21133525456292027,0.21229586935638808,0.21229586935638808,0.21229586935638808,0.2132564841498559,0.2132564841498559,0.21421709894332372,0.21421709894332372,0.21517771373679154,0.21517771373679154,0.21709894332372717,0.21709894332372717,0.21902017291066284,0.21902017291066284,0.21998078770413065,0.21998078770413065,0.2219020172910663,0.2219020172910663,0.2219020172910663,0.2228626320845341,0.2228626320845341,0.22382324687800192,0.22382324687800192,0.22382324687800192,0.22574447646493756,0.22574447646493756,0.22670509125840538,0.22670509125840538,0.2276657060518732,0.2276657060518732,0.23054755043227665,0.23054755043227665,0.23054755043227665,0.23246878001921228,0.23246878001921228,0.2334293948126801,0.2334293948126801,0.23535062439961577,0.23535062439961577,0.23823246878001922,0.23823246878001922,0.24015369836695485,0.24015369836695485,0.2420749279538905,0.2420749279538905,0.2430355427473583,0.2430355427473583,0.2430355427473583,0.2430355427473583,0.24591738712776176,0.24591738712776176,0.24687800192122958,0.24687800192122958,0.2478386167146974,0.2478386167146974,0.24879923150816521,0.24879923150816521,0.24879923150816521,0.24975984630163303,0.24975984630163303,0.25360230547550433,0.25360230547550433,0.25552353506243997,0.25552353506243997,0.25552353506243997,0.2564841498559078,0.2564841498559078,0.2574447646493756,0.2574447646493756,0.2574447646493756,0.2574447646493756,0.26032660902977905,0.26032660902977905,0.2622478386167147,0.2622478386167147,0.2622478386167147,0.2632084534101825,0.2632084534101825,0.26609029779058596,0.26609029779058596,0.2680115273775216,0.2680115273775216,0.2689721421709894,0.2689721421709894,0.2689721421709894,0.26993275696445723,0.26993275696445723,0.27089337175792505,0.27089337175792505,0.27185398655139287,0.27185398655139287,0.2728146013448607,0.2728146013448607,0.2728146013448607,0.2728146013448607,0.2737752161383285,0.2737752161383285,0.2737752161383285,0.2737752161383285,0.2737752161383285,0.2747358309317964,0.2747358309317964,0.27761767531219983,0.27761767531219983,0.2804995196926033,0.2804995196926033,0.2804995196926033,0.28530259365994237,0.28530259365994237,0.2881844380403458,0.2881844380403458,0.2881844380403458,0.2881844380403458,0.2881844380403458,0.29010566762728146,0.29010566762728146,0.29010566762728146,0.29010566762728146,0.2920268972142171,0.2920268972142171,0.29394812680115273,0.29394812680115273,0.29490874159462055,0.29490874159462055,0.29490874159462055,0.2968299711815562,0.2968299711815562,0.297790585975024,0.297790585975024,0.29971181556195964,0.29971181556195964,0.30067243035542746,0.30067243035542746,0.3016330451488953,0.3016330451488953,0.3025936599423631,0.3025936599423631,0.3025936599423631,0.30547550432276654,0.30547550432276654,0.30643611911623436,0.30643611911623436,0.30835734870317005,0.30835734870317005,0.3112391930835735,0.3112391930835735,0.3121998078770413,0.3121998078770413,0.31316042267050914,0.31316042267050914,0.3160422670509126,0.3160422670509126,0.3170028818443804,0.3170028818443804,0.31796349663784823,0.31796349663784823,0.31796349663784823,0.31892411143131605,0.31892411143131605,0.3208453410182517,0.3208453410182517,0.3227665706051873,0.3227665706051873,0.3256484149855908,0.3256484149855908,0.3256484149855908,0.3256484149855908,0.3314121037463977,0.3314121037463977,0.33621517771373677,0.33621517771373677,0.3390970220941403,0.3390970220941403,0.3390970220941403,0.3400576368876081,0.3400576368876081,0.3410182516810759,0.3410182516810759,0.3410182516810759,0.3525456292026897,0.3525456292026897,0.3525456292026897,0.3525456292026897,0.3573487031700288,0.3573487031700288,0.36023054755043227,0.36023054755043227,0.3611911623439001,0.3611911623439001,0.3621517771373679,0.3621517771373679,0.36407300672430354,0.36407300672430354,0.36503362151777136,0.36503362151777136,0.3659942363112392,0.3659942363112392,0.3659942363112392,0.366954851104707,0.366954851104707,0.36983669548511044,0.36983669548511044,0.37271853986551395,0.37271853986551395,0.37271853986551395,0.37271853986551395,0.3861671469740634,0.3861671469740634,0.3871277617675312,0.3871277617675312,0.3871277617675312,0.38904899135446686,0.38904899135446686,0.39865513928914503,0.39865513928914503,0.4015369836695485,0.4015369836695485,0.4015369836695485,0.4092219020172911,0.4092219020172911,0.4169068203650336,0.4169068203650336,0.41882804995196926,0.41882804995196926,0.4207492795389049,0.4207492795389049,0.4303554274735831,0.4303554274735831,0.4332372718539865,0.4332372718539865,0.43515850144092216,0.43515850144092216,0.43611911623439004,0.43611911623439004,0.4409221902017291,0.4409221902017291,0.44284341978866476,0.44284341978866476,0.4438040345821326,0.4438040345821326,0.44668587896253603,0.44668587896253603,0.44860710854947167,0.44860710854947167,0.4505283381364073,0.4505283381364073,0.4553314121037464,0.4553314121037464,0.4562920268972142,0.4562920268972142,0.457252641690682,0.457252641690682,0.457252641690682,0.46493756003842457,0.46493756003842457,0.4668587896253602,0.4668587896253602,0.4697406340057637,0.4697406340057637,0.4745437079731028,0.4745437079731028,0.4755043227665706,0.4755043227665706,0.4793467819404419,0.4793467819404419,0.4812680115273775,0.4812680115273775,0.48318924111431316,0.48318924111431316,0.48799231508165225,0.48799231508165225,0.49375600384245916,0.49375600384245916,0.505283381364073,0.505283381364073,0.5120076849183477,0.5120076849183477,0.5129682997118156,0.5129682997118156,0.5129682997118156,0.5206532180595581,0.5206532180595581,0.5225744476464937,0.5225744476464937,0.5360230547550432,0.5360230547550432,0.5389048991354467,0.5389048991354467,0.5417867435158501,0.5417867435158501,0.5552353506243997,0.5552353506243997,0.5715658021133525,0.5715658021133525,0.5773294908741594,0.5773294908741594,0.5888568683957733,0.5888568683957733,0.6099903938520653,0.6099903938520653,0.6551392891450528,0.6551392891450528,0.6560999039385207,0.6560999039385207,0.6618635926993276,0.6618635926993276,0.6628242074927954,0.6628242074927954,0.664745437079731,0.664745437079731,0.6906820365033621,0.6906820365033621,0.7396733909702209,0.7396733909702209,0.8174831892411143,0.8194044188280499,0.8261287223823247,0.8261287223823247,0.834774255523535,0.834774255523535,0.8568683957732949,0.8568683957732949,0.8587896253602305,0.8626320845341018,0.8645533141210374,0.8914505283381364,0.8914505283381364,0.9173871277617676,0.9173871277617676,1.0],\"xaxis\":\"x\",\"y\":[0.0,0.0008984725965858042,0.0026954177897574125,0.004492362982929021,0.005390835579514825,0.0071877807726864335,0.008086253369272238,0.008086253369272238,0.008984725965858042,0.01078167115902965,0.011680143755615454,0.013477088948787063,0.014375561545372867,0.016172506738544475,0.018867924528301886,0.0215633423180593,0.02336028751123091,0.026954177897574125,0.028751123090745734,0.03234501347708895,0.034141958670260555,0.036837376460017966,0.03773584905660377,0.03773584905660377,0.03863432165318958,0.03863432165318958,0.039532794249775384,0.04132973944294699,0.0440251572327044,0.047619047619047616,0.050314465408805034,0.055705300988319856,0.05660377358490566,0.05660377358490566,0.05840071877807727,0.05929919137466307,0.05929919137466307,0.061096136567834684,0.06199460916442048,0.0637915543575921,0.07367475292003593,0.07367475292003593,0.07637017070979335,0.07816711590296496,0.08265947888589398,0.08445642407906559,0.0862533692722372,0.0880503144654088,0.09074573225516622,0.09254267744833783,0.09344115004492363,0.09344115004492363,0.09613656783468104,0.09973045822102426,0.10422282120395328,0.10512129380053908,0.1105121293800539,0.11500449236298294,0.11859838274932614,0.11949685534591195,0.12129380053908356,0.12219227313566937,0.12398921832884097,0.12488769092542677,0.12668463611859837,0.1302785265049416,0.1302785265049416,0.13117699910152741,0.132973944294699,0.13566936208445643,0.13566936208445643,0.14106019766397124,0.14285714285714285,0.14914645103324348,0.1509433962264151,0.1518418688230009,0.15363881401617252,0.1545372866127583,0.15633423180592992,0.15723270440251572,0.15723270440251572,0.16172506738544473,0.16352201257861634,0.16352201257861634,0.16711590296495957,0.16801437556154536,0.16981132075471697,0.17160826594788858,0.17160826594788858,0.17430368373764601,0.1778975741239892,0.17969451931716082,0.18149146451033243,0.18238993710691823,0.18418688230008984,0.18688230008984727,0.18957771787960467,0.19047619047619047,0.19047619047619047,0.1940700808625337,0.1958670260557053,0.19946091644204852,0.20125786163522014,0.20215633423180593,0.20664869721473494,0.20844564240790656,0.21024258760107817,0.21203953279424978,0.2138364779874214,0.215633423180593,0.2183288409703504,0.2192273135669362,0.22012578616352202,0.22192273135669363,0.22282120395327942,0.22282120395327942,0.22371967654986524,0.22371967654986524,0.22551662174303683,0.22911051212938005,0.22911051212938005,0.23270440251572327,0.23539982030548068,0.23539982030548068,0.2371967654986523,0.2398921832884097,0.2398921832884097,0.2416891284815813,0.2416891284815813,0.24618149146451032,0.25157232704402516,0.25426774483378256,0.2560646900269542,0.25965858041329737,0.25965858041329737,0.261455525606469,0.26235399820305483,0.2641509433962264,0.2695417789757412,0.2695417789757412,0.27133872416891286,0.27313566936208444,0.27583108715184185,0.27583108715184185,0.27672955974842767,0.2785265049415993,0.2803234501347709,0.2839173405211141,0.2866127583108715,0.2884097035040431,0.2893081761006289,0.29020664869721474,0.29110512129380056,0.29110512129380056,0.2920035938903863,0.29380053908355797,0.29559748427672955,0.2973944294699012,0.2973944294699012,0.2991913746630728,0.3018867924528302,0.3018867924528302,0.3045822102425876,0.30727762803234504,0.30727762803234504,0.3090745732255166,0.3090745732255166,0.3108715184186882,0.31176999101527403,0.31356693620844567,0.31356693620844567,0.31536388140161725,0.31716082659478884,0.31716082659478884,0.31805929919137466,0.31805929919137466,0.3198562443845463,0.32075471698113206,0.32075471698113206,0.3243486073674753,0.3243486073674753,0.3261455525606469,0.3279424977538185,0.3279424977538185,0.3297394429469901,0.3297394429469901,0.33153638814016173,0.3333333333333333,0.33423180592991913,0.3360287511230907,0.3360287511230907,0.33692722371967654,0.33692722371967654,0.33782569631626236,0.33782569631626236,0.33962264150943394,0.33962264150943394,0.3477088948787062,0.3477088948787062,0.3504043126684636,0.3522012578616352,0.3522012578616352,0.3584905660377358,0.3584905660377358,0.35938903863432164,0.35938903863432164,0.3611859838274933,0.3638814016172507,0.3638814016172507,0.36477987421383645,0.3665768194070081,0.3710691823899371,0.3728661275831087,0.37376460017969454,0.37646001796945194,0.37646001796945194,0.37735849056603776,0.37735849056603776,0.37915543575920935,0.37915543575920935,0.38095238095238093,0.38544474393531,0.38724168912848156,0.3926325247079964,0.3926325247079964,0.394429469901168,0.3953279424977538,0.3953279424977538,0.3971248876909254,0.3971248876909254,0.39802336028751123,0.39802336028751123,0.39892183288409705,0.39892183288409705,0.40071877807726863,0.4025157232704403,0.40341419586702604,0.4052111410601977,0.4079065588499551,0.40970350404312667,0.4123989218328841,0.4141958670260557,0.41509433962264153,0.4168912848158131,0.4168912848158131,0.4195867026055705,0.4222821203953279,0.4222821203953279,0.42318059299191374,0.42318059299191374,0.42318059299191374,0.4249775381850854,0.4249775381850854,0.42587601078167114,0.42946990116801437,0.431266846361186,0.431266846361186,0.4330637915543576,0.4366576819407008,0.4384546271338724,0.4384546271338724,0.44025157232704404,0.44025157232704404,0.44384546271338726,0.44384546271338726,0.44564240790655885,0.4474393530997305,0.44923629829290207,0.45103324348607365,0.4528301886792453,0.4537286612758311,0.4537286612758311,0.4555256064690027,0.4564240790655885,0.4564240790655885,0.4582210242587601,0.46001796945193174,0.4609164420485175,0.4609164420485175,0.4618149146451033,0.4618149146451033,0.46271338724168914,0.46271338724168914,0.46451033243486073,0.46630727762803237,0.46990116801437554,0.4716981132075472,0.472596585804133,0.472596585804133,0.4779874213836478,0.4779874213836478,0.4797843665768194,0.481581311769991,0.4833782569631626,0.48517520215633425,0.48517520215633425,0.4914645103324349,0.49326145552560646,0.4941599281221923,0.49595687331536387,0.49595687331536387,0.4977538185085355,0.4995507637017071,0.4995507637017071,0.5004492362982929,0.5004492362982929,0.5013477088948787,0.5022461814914645,0.5031446540880503,0.5031446540880503,0.5058400718778078,0.5076370170709793,0.5085354896675651,0.5103324348607368,0.5121293800539084,0.5121293800539084,0.5130278526504941,0.5130278526504941,0.5166217430368374,0.5175202156334232,0.5175202156334232,0.518418688230009,0.518418688230009,0.5193171608265947,0.5193171608265947,0.5220125786163522,0.5238095238095238,0.5256064690026954,0.5256064690026954,0.527403414195867,0.531895777178796,0.531895777178796,0.5327942497753818,0.5327942497753818,0.5345911949685535,0.5345911949685535,0.5354896675651393,0.5354896675651393,0.5372866127583109,0.5426774483378257,0.5435759209344115,0.5453728661275831,0.5498652291105122,0.5498652291105122,0.550763701707098,0.550763701707098,0.5525606469002695,0.5525606469002695,0.5570530098831986,0.5588499550763701,0.559748427672956,0.5615453728661276,0.5624438454627134,0.5624438454627134,0.5651392632524708,0.5651392632524708,0.5678346810422282,0.5678346810422282,0.5714285714285714,0.5714285714285714,0.5723270440251572,0.5741239892183289,0.5741239892183289,0.5750224618149147,0.5750224618149147,0.5768194070080862,0.5813117699910153,0.5813117699910153,0.5831087151841868,0.5831087151841868,0.5849056603773585,0.5858041329739443,0.5858041329739443,0.5876010781671159,0.5876010781671159,0.5884995507637018,0.5884995507637018,0.5893980233602875,0.5911949685534591,0.5911949685534591,0.5920934411500449,0.5920934411500449,0.5929919137466307,0.5956873315363881,0.5974842767295597,0.5974842767295597,0.6019766397124887,0.6037735849056604,0.6037735849056604,0.605570530098832,0.605570530098832,0.6073674752920036,0.6073674752920036,0.6091644204851752,0.6118598382749326,0.6118598382749326,0.6136567834681043,0.6136567834681043,0.6145552560646901,0.6145552560646901,0.6154537286612758,0.6172506738544474,0.6181491464510332,0.6199460916442049,0.6199460916442049,0.6217430368373764,0.6217430368373764,0.6226415094339622,0.6226415094339622,0.6235399820305481,0.6235399820305481,0.6253369272237197,0.6253369272237197,0.6262353998203055,0.6262353998203055,0.6271338724168913,0.6271338724168913,0.6289308176100629,0.6289308176100629,0.6298292902066487,0.6316262353998203,0.6316262353998203,0.6352201257861635,0.6370170709793351,0.6388140161725068,0.6415094339622641,0.6415094339622641,0.6424079065588499,0.6424079065588499,0.6433063791554358,0.6433063791554358,0.6442048517520216,0.6442048517520216,0.6451033243486074,0.6469002695417789,0.6469002695417789,0.6477987421383647,0.6477987421383647,0.6495956873315364,0.6504941599281222,0.6522911051212938,0.6531895777178796,0.6531895777178796,0.6549865229110512,0.6576819407008087,0.6612758310871518,0.6630727762803235,0.6639712488769093,0.6639712488769093,0.6657681940700808,0.6657681940700808,0.6666666666666666,0.6666666666666666,0.6675651392632524,0.6693620844564241,0.6693620844564241,0.6702605570530099,0.6702605570530099,0.6711590296495957,0.6711590296495957,0.6729559748427673,0.6729559748427673,0.6774483378256964,0.6810422282120395,0.6819407008086253,0.6846361185983828,0.6855345911949685,0.6855345911949685,0.6873315363881402,0.6873315363881402,0.6891284815813118,0.6900269541778976,0.6900269541778976,0.6918238993710691,0.6936208445642408,0.6945193171608266,0.6945193171608266,0.6954177897574124,0.6981132075471698,0.6999101527403414,0.6999101527403414,0.7026055705300989,0.7044025157232704,0.7044025157232704,0.706199460916442,0.7097933513027853,0.7097933513027853,0.710691823899371,0.710691823899371,0.7124887690925427,0.7142857142857143,0.7142857142857143,0.7160826594788859,0.7178796046720575,0.7178796046720575,0.7187780772686433,0.7187780772686433,0.7205750224618149,0.7205750224618149,0.7232704402515723,0.7250673854447439,0.7250673854447439,0.7268643306379156,0.7268643306379156,0.7277628032345014,0.7277628032345014,0.7286612758310872,0.7286612758310872,0.7304582210242587,0.7313566936208445,0.7313566936208445,0.7322551662174304,0.7322551662174304,0.734052111410602,0.734052111410602,0.7358490566037735,0.7358490566037735,0.7376460017969452,0.7376460017969452,0.738544474393531,0.738544474393531,0.7439353099730458,0.7439353099730458,0.7457322551662174,0.7466307277628033,0.7466307277628033,0.7475292003593891,0.7475292003593891,0.7502246181491464,0.7511230907457322,0.7511230907457322,0.7520215633423181,0.7520215633423181,0.7538185085354897,0.7538185085354897,0.7574123989218329,0.7574123989218329,0.7583108715184187,0.7601078167115903,0.7601078167115903,0.7619047619047619,0.7619047619047619,0.7628032345013477,0.7628032345013477,0.7646001796945193,0.7646001796945193,0.7654986522911051,0.7654986522911051,0.7690925426774483,0.7690925426774483,0.7699910152740341,0.7699910152740341,0.7717879604672058,0.7726864330637916,0.7762803234501348,0.7762803234501348,0.7771787960467206,0.7771787960467206,0.7780772686433064,0.7780772686433064,0.779874213836478,0.779874213836478,0.7807726864330637,0.7825696316262354,0.7825696316262354,0.784366576819407,0.784366576819407,0.7861635220125787,0.7861635220125787,0.7879604672057502,0.7897574123989218,0.7897574123989218,0.7915543575920935,0.7915543575920935,0.7924528301886793,0.7960467205750225,0.7978436657681941,0.7978436657681941,0.8023360287511231,0.8023360287511231,0.8041329739442947,0.8050314465408805,0.8050314465408805,0.8059299191374663,0.8059299191374663,0.8068283917340521,0.8068283917340521,0.8077268643306379,0.8077268643306379,0.8095238095238095,0.8113207547169812,0.8113207547169812,0.8131176999101527,0.8131176999101527,0.8149146451033243,0.8149146451033243,0.8158131176999102,0.8158131176999102,0.816711590296496,0.8185085354896675,0.8194070080862533,0.8194070080862533,0.821203953279425,0.8238993710691824,0.825696316262354,0.8274932614555256,0.8274932614555256,0.8292902066486972,0.8292902066486972,0.8310871518418689,0.8310871518418689,0.8328840970350404,0.8337825696316262,0.8337825696316262,0.8355795148247979,0.8355795148247979,0.839173405211141,0.8418688230008985,0.8436657681940701,0.8445642407906558,0.8445642407906558,0.8463611859838275,0.8481581311769991,0.8490566037735849,0.8490566037735849,0.8544474393530997,0.8544474393530997,0.8562443845462714,0.8562443845462714,0.8571428571428571,0.8589398023360287,0.8589398023360287,0.8598382749326146,0.8598382749326146,0.8607367475292004,0.8607367475292004,0.8616352201257862,0.8616352201257862,0.862533692722372,0.862533692722372,0.8634321653189577,0.8634321653189577,0.8643306379155435,0.8679245283018868,0.8679245283018868,0.8688230008984726,0.8688230008984726,0.8706199460916442,0.8706199460916442,0.8733153638814016,0.8733153638814016,0.8742138364779874,0.8742138364779874,0.8751123090745733,0.8751123090745733,0.8769092542677448,0.8769092542677448,0.8796046720575023,0.8796046720575023,0.8814016172506739,0.8814016172506739,0.8831985624438454,0.8840970350404312,0.8840970350404312,0.8858939802336029,0.8858939802336029,0.8876909254267745,0.8876909254267745,0.889487870619946,0.889487870619946,0.8903863432165319,0.8921832884097035,0.8939802336028752,0.8939802336028752,0.894878706199461,0.894878706199461,0.8966756513926325,0.8966756513926325,0.8975741239892183,0.89937106918239,0.89937106918239,0.9002695417789758,0.9002695417789758,0.9020664869721473,0.9029649595687331,0.9029649595687331,0.9047619047619048,0.9065588499550764,0.9083557951482479,0.9083557951482479,0.9101527403414196,0.9101527403414196,0.9119496855345912,0.9119496855345912,0.912848158131177,0.912848158131177,0.9155435759209344,0.9155435759209344,0.9164420485175202,0.9164420485175202,0.917340521114106,0.917340521114106,0.9191374663072777,0.9200359389038635,0.9200359389038635,0.9209344115004492,0.9209344115004492,0.9227313566936208,0.9227313566936208,0.9236298292902066,0.9254267744833783,0.9263252470799641,0.9263252470799641,0.9272237196765498,0.9272237196765498,0.9290206648697215,0.9308176100628931,0.9308176100628931,0.9317160826594789,0.9317160826594789,0.9335130278526504,0.9335130278526504,0.9344115004492363,0.9362084456424079,0.9362084456424079,0.9380053908355795,0.9380053908355795,0.9389038634321654,0.9389038634321654,0.9398023360287511,0.9398023360287511,0.9407008086253369,0.9407008086253369,0.9424977538185085,0.9424977538185085,0.9433962264150944,0.9433962264150944,0.9442946990116802,0.9442946990116802,0.945193171608266,0.945193171608266,0.9460916442048517,0.9460916442048517,0.9469901168014375,0.9469901168014375,0.9478885893980233,0.9478885893980233,0.9487870619946092,0.9487870619946092,0.949685534591195,0.949685534591195,0.9514824797843666,0.9514824797843666,0.9523809523809523,0.9523809523809523,0.9532794249775381,0.9532794249775381,0.954177897574124,0.9559748427672956,0.9559748427672956,0.9568733153638814,0.9568733153638814,0.9577717879604672,0.9577717879604672,0.958670260557053,0.958670260557053,0.9595687331536388,0.9595687331536388,0.9604672057502246,0.9604672057502246,0.9622641509433962,0.9622641509433962,0.963162623539982,0.963162623539982,0.9640610961365679,0.9640610961365679,0.9658580413297394,0.9658580413297394,0.967654986522911,0.967654986522911,0.9685534591194969,0.9685534591194969,0.9694519317160827,0.9694519317160827,0.9703504043126685,0.97214734950584,0.97214734950584,0.9730458221024259,0.9730458221024259,0.9739442946990117,0.9739442946990117,0.9757412398921833,0.9757412398921833,0.9766397124887691,0.9766397124887691,0.977538185085355,0.977538185085355,0.9784366576819407,0.9784366576819407,0.9793351302785265,0.9793351302785265,0.9802336028751123,0.9802336028751123,0.9820305480682839,0.9820305480682839,0.9838274932614556,0.9838274932614556,0.9847259658580413,0.9847259658580413,0.9856244384546271,0.9856244384546271,0.9865229110512129,0.9865229110512129,0.9883198562443846,0.9883198562443846,0.9892183288409704,0.9892183288409704,0.9901168014375562,0.9901168014375562,0.9910152740341419,0.9910152740341419,0.9910152740341419,0.9910152740341419,0.9928122192273136,0.9928122192273136,0.995507637017071,0.995507637017071,0.9964061096136568,0.9964061096136568,0.9964061096136568,0.9964061096136568,0.9964061096136568,0.9982030548068284,0.9982030548068284,1.0,1.0],\"yaxis\":\"y\",\"type\":\"scatter\"}],                        {\"template\":{\"data\":{\"histogram2dcontour\":[{\"type\":\"histogram2dcontour\",\"colorbar\":{\"outlinewidth\":0,\"ticks\":\"\"},\"colorscale\":[[0.0,\"#0d0887\"],[0.1111111111111111,\"#46039f\"],[0.2222222222222222,\"#7201a8\"],[0.3333333333333333,\"#9c179e\"],[0.4444444444444444,\"#bd3786\"],[0.5555555555555556,\"#d8576b\"],[0.6666666666666666,\"#ed7953\"],[0.7777777777777778,\"#fb9f3a\"],[0.8888888888888888,\"#fdca26\"],[1.0,\"#f0f921\"]]}],\"choropleth\":[{\"type\":\"choropleth\",\"colorbar\":{\"outlinewidth\":0,\"ticks\":\"\"}}],\"histogram2d\":[{\"type\":\"histogram2d\",\"colorbar\":{\"outlinewidth\":0,\"ticks\":\"\"},\"colorscale\":[[0.0,\"#0d0887\"],[0.1111111111111111,\"#46039f\"],[0.2222222222222222,\"#7201a8\"],[0.3333333333333333,\"#9c179e\"],[0.4444444444444444,\"#bd3786\"],[0.5555555555555556,\"#d8576b\"],[0.6666666666666666,\"#ed7953\"],[0.7777777777777778,\"#fb9f3a\"],[0.8888888888888888,\"#fdca26\"],[1.0,\"#f0f921\"]]}],\"heatmap\":[{\"type\":\"heatmap\",\"colorbar\":{\"outlinewidth\":0,\"ticks\":\"\"},\"colorscale\":[[0.0,\"#0d0887\"],[0.1111111111111111,\"#46039f\"],[0.2222222222222222,\"#7201a8\"],[0.3333333333333333,\"#9c179e\"],[0.4444444444444444,\"#bd3786\"],[0.5555555555555556,\"#d8576b\"],[0.6666666666666666,\"#ed7953\"],[0.7777777777777778,\"#fb9f3a\"],[0.8888888888888888,\"#fdca26\"],[1.0,\"#f0f921\"]]}],\"heatmapgl\":[{\"type\":\"heatmapgl\",\"colorbar\":{\"outlinewidth\":0,\"ticks\":\"\"},\"colorscale\":[[0.0,\"#0d0887\"],[0.1111111111111111,\"#46039f\"],[0.2222222222222222,\"#7201a8\"],[0.3333333333333333,\"#9c179e\"],[0.4444444444444444,\"#bd3786\"],[0.5555555555555556,\"#d8576b\"],[0.6666666666666666,\"#ed7953\"],[0.7777777777777778,\"#fb9f3a\"],[0.8888888888888888,\"#fdca26\"],[1.0,\"#f0f921\"]]}],\"contourcarpet\":[{\"type\":\"contourcarpet\",\"colorbar\":{\"outlinewidth\":0,\"ticks\":\"\"}}],\"contour\":[{\"type\":\"contour\",\"colorbar\":{\"outlinewidth\":0,\"ticks\":\"\"},\"colorscale\":[[0.0,\"#0d0887\"],[0.1111111111111111,\"#46039f\"],[0.2222222222222222,\"#7201a8\"],[0.3333333333333333,\"#9c179e\"],[0.4444444444444444,\"#bd3786\"],[0.5555555555555556,\"#d8576b\"],[0.6666666666666666,\"#ed7953\"],[0.7777777777777778,\"#fb9f3a\"],[0.8888888888888888,\"#fdca26\"],[1.0,\"#f0f921\"]]}],\"surface\":[{\"type\":\"surface\",\"colorbar\":{\"outlinewidth\":0,\"ticks\":\"\"},\"colorscale\":[[0.0,\"#0d0887\"],[0.1111111111111111,\"#46039f\"],[0.2222222222222222,\"#7201a8\"],[0.3333333333333333,\"#9c179e\"],[0.4444444444444444,\"#bd3786\"],[0.5555555555555556,\"#d8576b\"],[0.6666666666666666,\"#ed7953\"],[0.7777777777777778,\"#fb9f3a\"],[0.8888888888888888,\"#fdca26\"],[1.0,\"#f0f921\"]]}],\"mesh3d\":[{\"type\":\"mesh3d\",\"colorbar\":{\"outlinewidth\":0,\"ticks\":\"\"}}],\"scatter\":[{\"marker\":{\"line\":{\"color\":\"#283442\"}},\"type\":\"scatter\"}],\"parcoords\":[{\"type\":\"parcoords\",\"line\":{\"colorbar\":{\"outlinewidth\":0,\"ticks\":\"\"}}}],\"scatterpolargl\":[{\"type\":\"scatterpolargl\",\"marker\":{\"colorbar\":{\"outlinewidth\":0,\"ticks\":\"\"}}}],\"bar\":[{\"error_x\":{\"color\":\"#f2f5fa\"},\"error_y\":{\"color\":\"#f2f5fa\"},\"marker\":{\"line\":{\"color\":\"rgb(17,17,17)\",\"width\":0.5},\"pattern\":{\"fillmode\":\"overlay\",\"size\":10,\"solidity\":0.2}},\"type\":\"bar\"}],\"scattergeo\":[{\"type\":\"scattergeo\",\"marker\":{\"colorbar\":{\"outlinewidth\":0,\"ticks\":\"\"}}}],\"scatterpolar\":[{\"type\":\"scatterpolar\",\"marker\":{\"colorbar\":{\"outlinewidth\":0,\"ticks\":\"\"}}}],\"histogram\":[{\"marker\":{\"pattern\":{\"fillmode\":\"overlay\",\"size\":10,\"solidity\":0.2}},\"type\":\"histogram\"}],\"scattergl\":[{\"marker\":{\"line\":{\"color\":\"#283442\"}},\"type\":\"scattergl\"}],\"scatter3d\":[{\"type\":\"scatter3d\",\"line\":{\"colorbar\":{\"outlinewidth\":0,\"ticks\":\"\"}},\"marker\":{\"colorbar\":{\"outlinewidth\":0,\"ticks\":\"\"}}}],\"scattermapbox\":[{\"type\":\"scattermapbox\",\"marker\":{\"colorbar\":{\"outlinewidth\":0,\"ticks\":\"\"}}}],\"scatterternary\":[{\"type\":\"scatterternary\",\"marker\":{\"colorbar\":{\"outlinewidth\":0,\"ticks\":\"\"}}}],\"scattercarpet\":[{\"type\":\"scattercarpet\",\"marker\":{\"colorbar\":{\"outlinewidth\":0,\"ticks\":\"\"}}}],\"carpet\":[{\"aaxis\":{\"endlinecolor\":\"#A2B1C6\",\"gridcolor\":\"#506784\",\"linecolor\":\"#506784\",\"minorgridcolor\":\"#506784\",\"startlinecolor\":\"#A2B1C6\"},\"baxis\":{\"endlinecolor\":\"#A2B1C6\",\"gridcolor\":\"#506784\",\"linecolor\":\"#506784\",\"minorgridcolor\":\"#506784\",\"startlinecolor\":\"#A2B1C6\"},\"type\":\"carpet\"}],\"table\":[{\"cells\":{\"fill\":{\"color\":\"#506784\"},\"line\":{\"color\":\"rgb(17,17,17)\"}},\"header\":{\"fill\":{\"color\":\"#2a3f5f\"},\"line\":{\"color\":\"rgb(17,17,17)\"}},\"type\":\"table\"}],\"barpolar\":[{\"marker\":{\"line\":{\"color\":\"rgb(17,17,17)\",\"width\":0.5},\"pattern\":{\"fillmode\":\"overlay\",\"size\":10,\"solidity\":0.2}},\"type\":\"barpolar\"}],\"pie\":[{\"automargin\":true,\"type\":\"pie\"}]},\"layout\":{\"autotypenumbers\":\"strict\",\"colorway\":[\"#636efa\",\"#EF553B\",\"#00cc96\",\"#ab63fa\",\"#FFA15A\",\"#19d3f3\",\"#FF6692\",\"#B6E880\",\"#FF97FF\",\"#FECB52\"],\"font\":{\"color\":\"#f2f5fa\"},\"hovermode\":\"closest\",\"hoverlabel\":{\"align\":\"left\"},\"paper_bgcolor\":\"rgb(17,17,17)\",\"plot_bgcolor\":\"rgb(17,17,17)\",\"polar\":{\"bgcolor\":\"rgb(17,17,17)\",\"angularaxis\":{\"gridcolor\":\"#506784\",\"linecolor\":\"#506784\",\"ticks\":\"\"},\"radialaxis\":{\"gridcolor\":\"#506784\",\"linecolor\":\"#506784\",\"ticks\":\"\"}},\"ternary\":{\"bgcolor\":\"rgb(17,17,17)\",\"aaxis\":{\"gridcolor\":\"#506784\",\"linecolor\":\"#506784\",\"ticks\":\"\"},\"baxis\":{\"gridcolor\":\"#506784\",\"linecolor\":\"#506784\",\"ticks\":\"\"},\"caxis\":{\"gridcolor\":\"#506784\",\"linecolor\":\"#506784\",\"ticks\":\"\"}},\"coloraxis\":{\"colorbar\":{\"outlinewidth\":0,\"ticks\":\"\"}},\"colorscale\":{\"sequential\":[[0.0,\"#0d0887\"],[0.1111111111111111,\"#46039f\"],[0.2222222222222222,\"#7201a8\"],[0.3333333333333333,\"#9c179e\"],[0.4444444444444444,\"#bd3786\"],[0.5555555555555556,\"#d8576b\"],[0.6666666666666666,\"#ed7953\"],[0.7777777777777778,\"#fb9f3a\"],[0.8888888888888888,\"#fdca26\"],[1.0,\"#f0f921\"]],\"sequentialminus\":[[0.0,\"#0d0887\"],[0.1111111111111111,\"#46039f\"],[0.2222222222222222,\"#7201a8\"],[0.3333333333333333,\"#9c179e\"],[0.4444444444444444,\"#bd3786\"],[0.5555555555555556,\"#d8576b\"],[0.6666666666666666,\"#ed7953\"],[0.7777777777777778,\"#fb9f3a\"],[0.8888888888888888,\"#fdca26\"],[1.0,\"#f0f921\"]],\"diverging\":[[0,\"#8e0152\"],[0.1,\"#c51b7d\"],[0.2,\"#de77ae\"],[0.3,\"#f1b6da\"],[0.4,\"#fde0ef\"],[0.5,\"#f7f7f7\"],[0.6,\"#e6f5d0\"],[0.7,\"#b8e186\"],[0.8,\"#7fbc41\"],[0.9,\"#4d9221\"],[1,\"#276419\"]]},\"xaxis\":{\"gridcolor\":\"#283442\",\"linecolor\":\"#506784\",\"ticks\":\"\",\"title\":{\"standoff\":15},\"zerolinecolor\":\"#283442\",\"automargin\":true,\"zerolinewidth\":2},\"yaxis\":{\"gridcolor\":\"#283442\",\"linecolor\":\"#506784\",\"ticks\":\"\",\"title\":{\"standoff\":15},\"zerolinecolor\":\"#283442\",\"automargin\":true,\"zerolinewidth\":2},\"scene\":{\"xaxis\":{\"backgroundcolor\":\"rgb(17,17,17)\",\"gridcolor\":\"#506784\",\"linecolor\":\"#506784\",\"showbackground\":true,\"ticks\":\"\",\"zerolinecolor\":\"#C8D4E3\",\"gridwidth\":2},\"yaxis\":{\"backgroundcolor\":\"rgb(17,17,17)\",\"gridcolor\":\"#506784\",\"linecolor\":\"#506784\",\"showbackground\":true,\"ticks\":\"\",\"zerolinecolor\":\"#C8D4E3\",\"gridwidth\":2},\"zaxis\":{\"backgroundcolor\":\"rgb(17,17,17)\",\"gridcolor\":\"#506784\",\"linecolor\":\"#506784\",\"showbackground\":true,\"ticks\":\"\",\"zerolinecolor\":\"#C8D4E3\",\"gridwidth\":2}},\"shapedefaults\":{\"line\":{\"color\":\"#f2f5fa\"}},\"annotationdefaults\":{\"arrowcolor\":\"#f2f5fa\",\"arrowhead\":0,\"arrowwidth\":1},\"geo\":{\"bgcolor\":\"rgb(17,17,17)\",\"landcolor\":\"rgb(17,17,17)\",\"subunitcolor\":\"#506784\",\"showland\":true,\"showlakes\":true,\"lakecolor\":\"rgb(17,17,17)\"},\"title\":{\"x\":0.05},\"updatemenudefaults\":{\"bgcolor\":\"#506784\",\"borderwidth\":0},\"sliderdefaults\":{\"bgcolor\":\"#C8D4E3\",\"borderwidth\":1,\"bordercolor\":\"rgb(17,17,17)\",\"tickwidth\":0},\"mapbox\":{\"style\":\"dark\"}}},\"xaxis\":{\"anchor\":\"y\",\"domain\":[0.0,1.0],\"title\":{\"text\":\"False Positive Rate\"}},\"yaxis\":{\"anchor\":\"x\",\"domain\":[0.0,1.0],\"title\":{\"text\":\"True Positive Rate\"}},\"legend\":{\"tracegroupgap\":0},\"title\":{\"text\":\"ROC Curve (AUC=0.8539)\"},\"height\":500,\"width\":700,\"shapes\":[{\"line\":{\"dash\":\"dash\"},\"type\":\"line\",\"x0\":0,\"x1\":1,\"y0\":0,\"y1\":1}]},                        {\"responsive\": true}                    ).then(function(){\n                            \nvar gd = document.getElementById('a4372ca8-d8c1-486b-9248-4c561048fbe9');\nvar x = new MutationObserver(function (mutations, observer) {{\n        var display = window.getComputedStyle(gd).display;\n        if (!display || display === 'none') {{\n            console.log([gd, 'removed!']);\n            Plotly.purge(gd);\n            observer.disconnect();\n        }}\n}});\n\n// Listen for the removal of the full notebook cells\nvar notebookContainer = gd.closest('#notebook-container');\nif (notebookContainer) {{\n    x.observe(notebookContainer, {childList: true});\n}}\n\n// Listen for the clearing of the current output cell\nvar outputEl = gd.closest('.output');\nif (outputEl) {{\n    x.observe(outputEl, {childList: true});\n}}\n\n                        })                };                });            </script>        </div>"
     },
     "metadata": {},
     "output_type": "display_data"
    }
   ],
   "source": [
    "probabilities_valid = cbc.predict_proba(features_test)\n",
    "probabilities_one_valid = probabilities_valid[:, 1]\n",
    "\n",
    "plot_roc_auc_curve(target_test, probabilities_one_valid)"
   ],
   "metadata": {
    "collapsed": false,
    "pycharm": {
     "name": "#%%\n"
    }
   }
  },
  {
   "cell_type": "code",
   "execution_count": 192,
   "outputs": [
    {
     "data": {
      "text/plain": "<catboost.core.CatBoostClassifier at 0x20e736f16c0>"
     },
     "execution_count": 192,
     "metadata": {},
     "output_type": "execute_result"
    }
   ],
   "source": [
    "# удалим признаки с низкой важностью\n",
    "new_features = features_train.drop(['Partner', 'Dependents', 'gender'], axis=1)\n",
    "new_cat_features = ['Type', 'PaperlessBilling', 'PaymentMethod', 'MultipleLines']\n",
    "cbc = CatBoostClassifier(cat_features=new_cat_features, task_type='GPU', silent=True, random_state=rs)\n",
    "cbc.fit(new_features, target_train)"
   ],
   "metadata": {
    "collapsed": false,
    "pycharm": {
     "name": "#%%\n"
    }
   }
  },
  {
   "cell_type": "code",
   "execution_count": 193,
   "outputs": [
    {
     "data": {
      "application/vnd.plotly.v1+json": {
       "data": [
        {
         "alignmentgroup": "True",
         "hovertemplate": "variable=0<br>index=%{x}<br>value=%{y}<extra></extra>",
         "legendgroup": "0",
         "marker": {
          "color": "#636efa",
          "pattern": {
           "shape": ""
          }
         },
         "name": "0",
         "offsetgroup": "0",
         "orientation": "v",
         "showlegend": true,
         "textposition": "auto",
         "x": [
          "TotalCharges",
          "MonthlyCharges",
          "Type",
          "pca_feature",
          "PaymentMethod",
          "MultipleLines",
          "PaperlessBilling",
          "SeniorCitizen"
         ],
         "xaxis": "x",
         "y": [
          29.717073163618718,
          27.24799100567289,
          18.15132638990063,
          11.432018791032789,
          5.373788983326652,
          3.0464620985475084,
          2.925327501869226,
          2.1060120660316795
         ],
         "yaxis": "y",
         "type": "bar"
        }
       ],
       "layout": {
        "template": {
         "data": {
          "histogram2dcontour": [
           {
            "type": "histogram2dcontour",
            "colorbar": {
             "outlinewidth": 0,
             "ticks": ""
            },
            "colorscale": [
             [
              0.0,
              "#0d0887"
             ],
             [
              0.1111111111111111,
              "#46039f"
             ],
             [
              0.2222222222222222,
              "#7201a8"
             ],
             [
              0.3333333333333333,
              "#9c179e"
             ],
             [
              0.4444444444444444,
              "#bd3786"
             ],
             [
              0.5555555555555556,
              "#d8576b"
             ],
             [
              0.6666666666666666,
              "#ed7953"
             ],
             [
              0.7777777777777778,
              "#fb9f3a"
             ],
             [
              0.8888888888888888,
              "#fdca26"
             ],
             [
              1.0,
              "#f0f921"
             ]
            ]
           }
          ],
          "choropleth": [
           {
            "type": "choropleth",
            "colorbar": {
             "outlinewidth": 0,
             "ticks": ""
            }
           }
          ],
          "histogram2d": [
           {
            "type": "histogram2d",
            "colorbar": {
             "outlinewidth": 0,
             "ticks": ""
            },
            "colorscale": [
             [
              0.0,
              "#0d0887"
             ],
             [
              0.1111111111111111,
              "#46039f"
             ],
             [
              0.2222222222222222,
              "#7201a8"
             ],
             [
              0.3333333333333333,
              "#9c179e"
             ],
             [
              0.4444444444444444,
              "#bd3786"
             ],
             [
              0.5555555555555556,
              "#d8576b"
             ],
             [
              0.6666666666666666,
              "#ed7953"
             ],
             [
              0.7777777777777778,
              "#fb9f3a"
             ],
             [
              0.8888888888888888,
              "#fdca26"
             ],
             [
              1.0,
              "#f0f921"
             ]
            ]
           }
          ],
          "heatmap": [
           {
            "type": "heatmap",
            "colorbar": {
             "outlinewidth": 0,
             "ticks": ""
            },
            "colorscale": [
             [
              0.0,
              "#0d0887"
             ],
             [
              0.1111111111111111,
              "#46039f"
             ],
             [
              0.2222222222222222,
              "#7201a8"
             ],
             [
              0.3333333333333333,
              "#9c179e"
             ],
             [
              0.4444444444444444,
              "#bd3786"
             ],
             [
              0.5555555555555556,
              "#d8576b"
             ],
             [
              0.6666666666666666,
              "#ed7953"
             ],
             [
              0.7777777777777778,
              "#fb9f3a"
             ],
             [
              0.8888888888888888,
              "#fdca26"
             ],
             [
              1.0,
              "#f0f921"
             ]
            ]
           }
          ],
          "heatmapgl": [
           {
            "type": "heatmapgl",
            "colorbar": {
             "outlinewidth": 0,
             "ticks": ""
            },
            "colorscale": [
             [
              0.0,
              "#0d0887"
             ],
             [
              0.1111111111111111,
              "#46039f"
             ],
             [
              0.2222222222222222,
              "#7201a8"
             ],
             [
              0.3333333333333333,
              "#9c179e"
             ],
             [
              0.4444444444444444,
              "#bd3786"
             ],
             [
              0.5555555555555556,
              "#d8576b"
             ],
             [
              0.6666666666666666,
              "#ed7953"
             ],
             [
              0.7777777777777778,
              "#fb9f3a"
             ],
             [
              0.8888888888888888,
              "#fdca26"
             ],
             [
              1.0,
              "#f0f921"
             ]
            ]
           }
          ],
          "contourcarpet": [
           {
            "type": "contourcarpet",
            "colorbar": {
             "outlinewidth": 0,
             "ticks": ""
            }
           }
          ],
          "contour": [
           {
            "type": "contour",
            "colorbar": {
             "outlinewidth": 0,
             "ticks": ""
            },
            "colorscale": [
             [
              0.0,
              "#0d0887"
             ],
             [
              0.1111111111111111,
              "#46039f"
             ],
             [
              0.2222222222222222,
              "#7201a8"
             ],
             [
              0.3333333333333333,
              "#9c179e"
             ],
             [
              0.4444444444444444,
              "#bd3786"
             ],
             [
              0.5555555555555556,
              "#d8576b"
             ],
             [
              0.6666666666666666,
              "#ed7953"
             ],
             [
              0.7777777777777778,
              "#fb9f3a"
             ],
             [
              0.8888888888888888,
              "#fdca26"
             ],
             [
              1.0,
              "#f0f921"
             ]
            ]
           }
          ],
          "surface": [
           {
            "type": "surface",
            "colorbar": {
             "outlinewidth": 0,
             "ticks": ""
            },
            "colorscale": [
             [
              0.0,
              "#0d0887"
             ],
             [
              0.1111111111111111,
              "#46039f"
             ],
             [
              0.2222222222222222,
              "#7201a8"
             ],
             [
              0.3333333333333333,
              "#9c179e"
             ],
             [
              0.4444444444444444,
              "#bd3786"
             ],
             [
              0.5555555555555556,
              "#d8576b"
             ],
             [
              0.6666666666666666,
              "#ed7953"
             ],
             [
              0.7777777777777778,
              "#fb9f3a"
             ],
             [
              0.8888888888888888,
              "#fdca26"
             ],
             [
              1.0,
              "#f0f921"
             ]
            ]
           }
          ],
          "mesh3d": [
           {
            "type": "mesh3d",
            "colorbar": {
             "outlinewidth": 0,
             "ticks": ""
            }
           }
          ],
          "scatter": [
           {
            "marker": {
             "line": {
              "color": "#283442"
             }
            },
            "type": "scatter"
           }
          ],
          "parcoords": [
           {
            "type": "parcoords",
            "line": {
             "colorbar": {
              "outlinewidth": 0,
              "ticks": ""
             }
            }
           }
          ],
          "scatterpolargl": [
           {
            "type": "scatterpolargl",
            "marker": {
             "colorbar": {
              "outlinewidth": 0,
              "ticks": ""
             }
            }
           }
          ],
          "bar": [
           {
            "error_x": {
             "color": "#f2f5fa"
            },
            "error_y": {
             "color": "#f2f5fa"
            },
            "marker": {
             "line": {
              "color": "rgb(17,17,17)",
              "width": 0.5
             },
             "pattern": {
              "fillmode": "overlay",
              "size": 10,
              "solidity": 0.2
             }
            },
            "type": "bar"
           }
          ],
          "scattergeo": [
           {
            "type": "scattergeo",
            "marker": {
             "colorbar": {
              "outlinewidth": 0,
              "ticks": ""
             }
            }
           }
          ],
          "scatterpolar": [
           {
            "type": "scatterpolar",
            "marker": {
             "colorbar": {
              "outlinewidth": 0,
              "ticks": ""
             }
            }
           }
          ],
          "histogram": [
           {
            "marker": {
             "pattern": {
              "fillmode": "overlay",
              "size": 10,
              "solidity": 0.2
             }
            },
            "type": "histogram"
           }
          ],
          "scattergl": [
           {
            "marker": {
             "line": {
              "color": "#283442"
             }
            },
            "type": "scattergl"
           }
          ],
          "scatter3d": [
           {
            "type": "scatter3d",
            "line": {
             "colorbar": {
              "outlinewidth": 0,
              "ticks": ""
             }
            },
            "marker": {
             "colorbar": {
              "outlinewidth": 0,
              "ticks": ""
             }
            }
           }
          ],
          "scattermapbox": [
           {
            "type": "scattermapbox",
            "marker": {
             "colorbar": {
              "outlinewidth": 0,
              "ticks": ""
             }
            }
           }
          ],
          "scatterternary": [
           {
            "type": "scatterternary",
            "marker": {
             "colorbar": {
              "outlinewidth": 0,
              "ticks": ""
             }
            }
           }
          ],
          "scattercarpet": [
           {
            "type": "scattercarpet",
            "marker": {
             "colorbar": {
              "outlinewidth": 0,
              "ticks": ""
             }
            }
           }
          ],
          "carpet": [
           {
            "aaxis": {
             "endlinecolor": "#A2B1C6",
             "gridcolor": "#506784",
             "linecolor": "#506784",
             "minorgridcolor": "#506784",
             "startlinecolor": "#A2B1C6"
            },
            "baxis": {
             "endlinecolor": "#A2B1C6",
             "gridcolor": "#506784",
             "linecolor": "#506784",
             "minorgridcolor": "#506784",
             "startlinecolor": "#A2B1C6"
            },
            "type": "carpet"
           }
          ],
          "table": [
           {
            "cells": {
             "fill": {
              "color": "#506784"
             },
             "line": {
              "color": "rgb(17,17,17)"
             }
            },
            "header": {
             "fill": {
              "color": "#2a3f5f"
             },
             "line": {
              "color": "rgb(17,17,17)"
             }
            },
            "type": "table"
           }
          ],
          "barpolar": [
           {
            "marker": {
             "line": {
              "color": "rgb(17,17,17)",
              "width": 0.5
             },
             "pattern": {
              "fillmode": "overlay",
              "size": 10,
              "solidity": 0.2
             }
            },
            "type": "barpolar"
           }
          ],
          "pie": [
           {
            "automargin": true,
            "type": "pie"
           }
          ]
         },
         "layout": {
          "autotypenumbers": "strict",
          "colorway": [
           "#636efa",
           "#EF553B",
           "#00cc96",
           "#ab63fa",
           "#FFA15A",
           "#19d3f3",
           "#FF6692",
           "#B6E880",
           "#FF97FF",
           "#FECB52"
          ],
          "font": {
           "color": "#f2f5fa"
          },
          "hovermode": "closest",
          "hoverlabel": {
           "align": "left"
          },
          "paper_bgcolor": "rgb(17,17,17)",
          "plot_bgcolor": "rgb(17,17,17)",
          "polar": {
           "bgcolor": "rgb(17,17,17)",
           "angularaxis": {
            "gridcolor": "#506784",
            "linecolor": "#506784",
            "ticks": ""
           },
           "radialaxis": {
            "gridcolor": "#506784",
            "linecolor": "#506784",
            "ticks": ""
           }
          },
          "ternary": {
           "bgcolor": "rgb(17,17,17)",
           "aaxis": {
            "gridcolor": "#506784",
            "linecolor": "#506784",
            "ticks": ""
           },
           "baxis": {
            "gridcolor": "#506784",
            "linecolor": "#506784",
            "ticks": ""
           },
           "caxis": {
            "gridcolor": "#506784",
            "linecolor": "#506784",
            "ticks": ""
           }
          },
          "coloraxis": {
           "colorbar": {
            "outlinewidth": 0,
            "ticks": ""
           }
          },
          "colorscale": {
           "sequential": [
            [
             0.0,
             "#0d0887"
            ],
            [
             0.1111111111111111,
             "#46039f"
            ],
            [
             0.2222222222222222,
             "#7201a8"
            ],
            [
             0.3333333333333333,
             "#9c179e"
            ],
            [
             0.4444444444444444,
             "#bd3786"
            ],
            [
             0.5555555555555556,
             "#d8576b"
            ],
            [
             0.6666666666666666,
             "#ed7953"
            ],
            [
             0.7777777777777778,
             "#fb9f3a"
            ],
            [
             0.8888888888888888,
             "#fdca26"
            ],
            [
             1.0,
             "#f0f921"
            ]
           ],
           "sequentialminus": [
            [
             0.0,
             "#0d0887"
            ],
            [
             0.1111111111111111,
             "#46039f"
            ],
            [
             0.2222222222222222,
             "#7201a8"
            ],
            [
             0.3333333333333333,
             "#9c179e"
            ],
            [
             0.4444444444444444,
             "#bd3786"
            ],
            [
             0.5555555555555556,
             "#d8576b"
            ],
            [
             0.6666666666666666,
             "#ed7953"
            ],
            [
             0.7777777777777778,
             "#fb9f3a"
            ],
            [
             0.8888888888888888,
             "#fdca26"
            ],
            [
             1.0,
             "#f0f921"
            ]
           ],
           "diverging": [
            [
             0,
             "#8e0152"
            ],
            [
             0.1,
             "#c51b7d"
            ],
            [
             0.2,
             "#de77ae"
            ],
            [
             0.3,
             "#f1b6da"
            ],
            [
             0.4,
             "#fde0ef"
            ],
            [
             0.5,
             "#f7f7f7"
            ],
            [
             0.6,
             "#e6f5d0"
            ],
            [
             0.7,
             "#b8e186"
            ],
            [
             0.8,
             "#7fbc41"
            ],
            [
             0.9,
             "#4d9221"
            ],
            [
             1,
             "#276419"
            ]
           ]
          },
          "xaxis": {
           "gridcolor": "#283442",
           "linecolor": "#506784",
           "ticks": "",
           "title": {
            "standoff": 15
           },
           "zerolinecolor": "#283442",
           "automargin": true,
           "zerolinewidth": 2
          },
          "yaxis": {
           "gridcolor": "#283442",
           "linecolor": "#506784",
           "ticks": "",
           "title": {
            "standoff": 15
           },
           "zerolinecolor": "#283442",
           "automargin": true,
           "zerolinewidth": 2
          },
          "scene": {
           "xaxis": {
            "backgroundcolor": "rgb(17,17,17)",
            "gridcolor": "#506784",
            "linecolor": "#506784",
            "showbackground": true,
            "ticks": "",
            "zerolinecolor": "#C8D4E3",
            "gridwidth": 2
           },
           "yaxis": {
            "backgroundcolor": "rgb(17,17,17)",
            "gridcolor": "#506784",
            "linecolor": "#506784",
            "showbackground": true,
            "ticks": "",
            "zerolinecolor": "#C8D4E3",
            "gridwidth": 2
           },
           "zaxis": {
            "backgroundcolor": "rgb(17,17,17)",
            "gridcolor": "#506784",
            "linecolor": "#506784",
            "showbackground": true,
            "ticks": "",
            "zerolinecolor": "#C8D4E3",
            "gridwidth": 2
           }
          },
          "shapedefaults": {
           "line": {
            "color": "#f2f5fa"
           }
          },
          "annotationdefaults": {
           "arrowcolor": "#f2f5fa",
           "arrowhead": 0,
           "arrowwidth": 1
          },
          "geo": {
           "bgcolor": "rgb(17,17,17)",
           "landcolor": "rgb(17,17,17)",
           "subunitcolor": "#506784",
           "showland": true,
           "showlakes": true,
           "lakecolor": "rgb(17,17,17)"
          },
          "title": {
           "x": 0.05
          },
          "updatemenudefaults": {
           "bgcolor": "#506784",
           "borderwidth": 0
          },
          "sliderdefaults": {
           "bgcolor": "#C8D4E3",
           "borderwidth": 1,
           "bordercolor": "rgb(17,17,17)",
           "tickwidth": 0
          },
          "mapbox": {
           "style": "dark"
          }
         }
        },
        "xaxis": {
         "anchor": "y",
         "domain": [
          0.0,
          1.0
         ],
         "title": {
          "text": "Признак"
         }
        },
        "yaxis": {
         "anchor": "x",
         "domain": [
          0.0,
          1.0
         ],
         "title": {
          "text": "Коэфициент важности"
         }
        },
        "legend": {
         "title": {
          "text": "variable"
         },
         "tracegroupgap": 0
        },
        "title": {
         "text": "Наиболее значимые признаки для линейной регрессии"
        },
        "barmode": "relative",
        "showlegend": false
       },
       "config": {
        "plotlyServerURL": "https://plot.ly"
       }
      },
      "text/html": "<div>                            <div id=\"236b59ff-aa72-4b5c-a004-3f04cddd72bc\" class=\"plotly-graph-div\" style=\"height:525px; width:100%;\"></div>            <script type=\"text/javascript\">                require([\"plotly\"], function(Plotly) {                    window.PLOTLYENV=window.PLOTLYENV || {};                                    if (document.getElementById(\"236b59ff-aa72-4b5c-a004-3f04cddd72bc\")) {                    Plotly.newPlot(                        \"236b59ff-aa72-4b5c-a004-3f04cddd72bc\",                        [{\"alignmentgroup\":\"True\",\"hovertemplate\":\"variable=0<br>index=%{x}<br>value=%{y}<extra></extra>\",\"legendgroup\":\"0\",\"marker\":{\"color\":\"#636efa\",\"pattern\":{\"shape\":\"\"}},\"name\":\"0\",\"offsetgroup\":\"0\",\"orientation\":\"v\",\"showlegend\":true,\"textposition\":\"auto\",\"x\":[\"TotalCharges\",\"MonthlyCharges\",\"Type\",\"pca_feature\",\"PaymentMethod\",\"MultipleLines\",\"PaperlessBilling\",\"SeniorCitizen\"],\"xaxis\":\"x\",\"y\":[29.717073163618718,27.24799100567289,18.15132638990063,11.432018791032789,5.373788983326652,3.0464620985475084,2.925327501869226,2.1060120660316795],\"yaxis\":\"y\",\"type\":\"bar\"}],                        {\"template\":{\"data\":{\"histogram2dcontour\":[{\"type\":\"histogram2dcontour\",\"colorbar\":{\"outlinewidth\":0,\"ticks\":\"\"},\"colorscale\":[[0.0,\"#0d0887\"],[0.1111111111111111,\"#46039f\"],[0.2222222222222222,\"#7201a8\"],[0.3333333333333333,\"#9c179e\"],[0.4444444444444444,\"#bd3786\"],[0.5555555555555556,\"#d8576b\"],[0.6666666666666666,\"#ed7953\"],[0.7777777777777778,\"#fb9f3a\"],[0.8888888888888888,\"#fdca26\"],[1.0,\"#f0f921\"]]}],\"choropleth\":[{\"type\":\"choropleth\",\"colorbar\":{\"outlinewidth\":0,\"ticks\":\"\"}}],\"histogram2d\":[{\"type\":\"histogram2d\",\"colorbar\":{\"outlinewidth\":0,\"ticks\":\"\"},\"colorscale\":[[0.0,\"#0d0887\"],[0.1111111111111111,\"#46039f\"],[0.2222222222222222,\"#7201a8\"],[0.3333333333333333,\"#9c179e\"],[0.4444444444444444,\"#bd3786\"],[0.5555555555555556,\"#d8576b\"],[0.6666666666666666,\"#ed7953\"],[0.7777777777777778,\"#fb9f3a\"],[0.8888888888888888,\"#fdca26\"],[1.0,\"#f0f921\"]]}],\"heatmap\":[{\"type\":\"heatmap\",\"colorbar\":{\"outlinewidth\":0,\"ticks\":\"\"},\"colorscale\":[[0.0,\"#0d0887\"],[0.1111111111111111,\"#46039f\"],[0.2222222222222222,\"#7201a8\"],[0.3333333333333333,\"#9c179e\"],[0.4444444444444444,\"#bd3786\"],[0.5555555555555556,\"#d8576b\"],[0.6666666666666666,\"#ed7953\"],[0.7777777777777778,\"#fb9f3a\"],[0.8888888888888888,\"#fdca26\"],[1.0,\"#f0f921\"]]}],\"heatmapgl\":[{\"type\":\"heatmapgl\",\"colorbar\":{\"outlinewidth\":0,\"ticks\":\"\"},\"colorscale\":[[0.0,\"#0d0887\"],[0.1111111111111111,\"#46039f\"],[0.2222222222222222,\"#7201a8\"],[0.3333333333333333,\"#9c179e\"],[0.4444444444444444,\"#bd3786\"],[0.5555555555555556,\"#d8576b\"],[0.6666666666666666,\"#ed7953\"],[0.7777777777777778,\"#fb9f3a\"],[0.8888888888888888,\"#fdca26\"],[1.0,\"#f0f921\"]]}],\"contourcarpet\":[{\"type\":\"contourcarpet\",\"colorbar\":{\"outlinewidth\":0,\"ticks\":\"\"}}],\"contour\":[{\"type\":\"contour\",\"colorbar\":{\"outlinewidth\":0,\"ticks\":\"\"},\"colorscale\":[[0.0,\"#0d0887\"],[0.1111111111111111,\"#46039f\"],[0.2222222222222222,\"#7201a8\"],[0.3333333333333333,\"#9c179e\"],[0.4444444444444444,\"#bd3786\"],[0.5555555555555556,\"#d8576b\"],[0.6666666666666666,\"#ed7953\"],[0.7777777777777778,\"#fb9f3a\"],[0.8888888888888888,\"#fdca26\"],[1.0,\"#f0f921\"]]}],\"surface\":[{\"type\":\"surface\",\"colorbar\":{\"outlinewidth\":0,\"ticks\":\"\"},\"colorscale\":[[0.0,\"#0d0887\"],[0.1111111111111111,\"#46039f\"],[0.2222222222222222,\"#7201a8\"],[0.3333333333333333,\"#9c179e\"],[0.4444444444444444,\"#bd3786\"],[0.5555555555555556,\"#d8576b\"],[0.6666666666666666,\"#ed7953\"],[0.7777777777777778,\"#fb9f3a\"],[0.8888888888888888,\"#fdca26\"],[1.0,\"#f0f921\"]]}],\"mesh3d\":[{\"type\":\"mesh3d\",\"colorbar\":{\"outlinewidth\":0,\"ticks\":\"\"}}],\"scatter\":[{\"marker\":{\"line\":{\"color\":\"#283442\"}},\"type\":\"scatter\"}],\"parcoords\":[{\"type\":\"parcoords\",\"line\":{\"colorbar\":{\"outlinewidth\":0,\"ticks\":\"\"}}}],\"scatterpolargl\":[{\"type\":\"scatterpolargl\",\"marker\":{\"colorbar\":{\"outlinewidth\":0,\"ticks\":\"\"}}}],\"bar\":[{\"error_x\":{\"color\":\"#f2f5fa\"},\"error_y\":{\"color\":\"#f2f5fa\"},\"marker\":{\"line\":{\"color\":\"rgb(17,17,17)\",\"width\":0.5},\"pattern\":{\"fillmode\":\"overlay\",\"size\":10,\"solidity\":0.2}},\"type\":\"bar\"}],\"scattergeo\":[{\"type\":\"scattergeo\",\"marker\":{\"colorbar\":{\"outlinewidth\":0,\"ticks\":\"\"}}}],\"scatterpolar\":[{\"type\":\"scatterpolar\",\"marker\":{\"colorbar\":{\"outlinewidth\":0,\"ticks\":\"\"}}}],\"histogram\":[{\"marker\":{\"pattern\":{\"fillmode\":\"overlay\",\"size\":10,\"solidity\":0.2}},\"type\":\"histogram\"}],\"scattergl\":[{\"marker\":{\"line\":{\"color\":\"#283442\"}},\"type\":\"scattergl\"}],\"scatter3d\":[{\"type\":\"scatter3d\",\"line\":{\"colorbar\":{\"outlinewidth\":0,\"ticks\":\"\"}},\"marker\":{\"colorbar\":{\"outlinewidth\":0,\"ticks\":\"\"}}}],\"scattermapbox\":[{\"type\":\"scattermapbox\",\"marker\":{\"colorbar\":{\"outlinewidth\":0,\"ticks\":\"\"}}}],\"scatterternary\":[{\"type\":\"scatterternary\",\"marker\":{\"colorbar\":{\"outlinewidth\":0,\"ticks\":\"\"}}}],\"scattercarpet\":[{\"type\":\"scattercarpet\",\"marker\":{\"colorbar\":{\"outlinewidth\":0,\"ticks\":\"\"}}}],\"carpet\":[{\"aaxis\":{\"endlinecolor\":\"#A2B1C6\",\"gridcolor\":\"#506784\",\"linecolor\":\"#506784\",\"minorgridcolor\":\"#506784\",\"startlinecolor\":\"#A2B1C6\"},\"baxis\":{\"endlinecolor\":\"#A2B1C6\",\"gridcolor\":\"#506784\",\"linecolor\":\"#506784\",\"minorgridcolor\":\"#506784\",\"startlinecolor\":\"#A2B1C6\"},\"type\":\"carpet\"}],\"table\":[{\"cells\":{\"fill\":{\"color\":\"#506784\"},\"line\":{\"color\":\"rgb(17,17,17)\"}},\"header\":{\"fill\":{\"color\":\"#2a3f5f\"},\"line\":{\"color\":\"rgb(17,17,17)\"}},\"type\":\"table\"}],\"barpolar\":[{\"marker\":{\"line\":{\"color\":\"rgb(17,17,17)\",\"width\":0.5},\"pattern\":{\"fillmode\":\"overlay\",\"size\":10,\"solidity\":0.2}},\"type\":\"barpolar\"}],\"pie\":[{\"automargin\":true,\"type\":\"pie\"}]},\"layout\":{\"autotypenumbers\":\"strict\",\"colorway\":[\"#636efa\",\"#EF553B\",\"#00cc96\",\"#ab63fa\",\"#FFA15A\",\"#19d3f3\",\"#FF6692\",\"#B6E880\",\"#FF97FF\",\"#FECB52\"],\"font\":{\"color\":\"#f2f5fa\"},\"hovermode\":\"closest\",\"hoverlabel\":{\"align\":\"left\"},\"paper_bgcolor\":\"rgb(17,17,17)\",\"plot_bgcolor\":\"rgb(17,17,17)\",\"polar\":{\"bgcolor\":\"rgb(17,17,17)\",\"angularaxis\":{\"gridcolor\":\"#506784\",\"linecolor\":\"#506784\",\"ticks\":\"\"},\"radialaxis\":{\"gridcolor\":\"#506784\",\"linecolor\":\"#506784\",\"ticks\":\"\"}},\"ternary\":{\"bgcolor\":\"rgb(17,17,17)\",\"aaxis\":{\"gridcolor\":\"#506784\",\"linecolor\":\"#506784\",\"ticks\":\"\"},\"baxis\":{\"gridcolor\":\"#506784\",\"linecolor\":\"#506784\",\"ticks\":\"\"},\"caxis\":{\"gridcolor\":\"#506784\",\"linecolor\":\"#506784\",\"ticks\":\"\"}},\"coloraxis\":{\"colorbar\":{\"outlinewidth\":0,\"ticks\":\"\"}},\"colorscale\":{\"sequential\":[[0.0,\"#0d0887\"],[0.1111111111111111,\"#46039f\"],[0.2222222222222222,\"#7201a8\"],[0.3333333333333333,\"#9c179e\"],[0.4444444444444444,\"#bd3786\"],[0.5555555555555556,\"#d8576b\"],[0.6666666666666666,\"#ed7953\"],[0.7777777777777778,\"#fb9f3a\"],[0.8888888888888888,\"#fdca26\"],[1.0,\"#f0f921\"]],\"sequentialminus\":[[0.0,\"#0d0887\"],[0.1111111111111111,\"#46039f\"],[0.2222222222222222,\"#7201a8\"],[0.3333333333333333,\"#9c179e\"],[0.4444444444444444,\"#bd3786\"],[0.5555555555555556,\"#d8576b\"],[0.6666666666666666,\"#ed7953\"],[0.7777777777777778,\"#fb9f3a\"],[0.8888888888888888,\"#fdca26\"],[1.0,\"#f0f921\"]],\"diverging\":[[0,\"#8e0152\"],[0.1,\"#c51b7d\"],[0.2,\"#de77ae\"],[0.3,\"#f1b6da\"],[0.4,\"#fde0ef\"],[0.5,\"#f7f7f7\"],[0.6,\"#e6f5d0\"],[0.7,\"#b8e186\"],[0.8,\"#7fbc41\"],[0.9,\"#4d9221\"],[1,\"#276419\"]]},\"xaxis\":{\"gridcolor\":\"#283442\",\"linecolor\":\"#506784\",\"ticks\":\"\",\"title\":{\"standoff\":15},\"zerolinecolor\":\"#283442\",\"automargin\":true,\"zerolinewidth\":2},\"yaxis\":{\"gridcolor\":\"#283442\",\"linecolor\":\"#506784\",\"ticks\":\"\",\"title\":{\"standoff\":15},\"zerolinecolor\":\"#283442\",\"automargin\":true,\"zerolinewidth\":2},\"scene\":{\"xaxis\":{\"backgroundcolor\":\"rgb(17,17,17)\",\"gridcolor\":\"#506784\",\"linecolor\":\"#506784\",\"showbackground\":true,\"ticks\":\"\",\"zerolinecolor\":\"#C8D4E3\",\"gridwidth\":2},\"yaxis\":{\"backgroundcolor\":\"rgb(17,17,17)\",\"gridcolor\":\"#506784\",\"linecolor\":\"#506784\",\"showbackground\":true,\"ticks\":\"\",\"zerolinecolor\":\"#C8D4E3\",\"gridwidth\":2},\"zaxis\":{\"backgroundcolor\":\"rgb(17,17,17)\",\"gridcolor\":\"#506784\",\"linecolor\":\"#506784\",\"showbackground\":true,\"ticks\":\"\",\"zerolinecolor\":\"#C8D4E3\",\"gridwidth\":2}},\"shapedefaults\":{\"line\":{\"color\":\"#f2f5fa\"}},\"annotationdefaults\":{\"arrowcolor\":\"#f2f5fa\",\"arrowhead\":0,\"arrowwidth\":1},\"geo\":{\"bgcolor\":\"rgb(17,17,17)\",\"landcolor\":\"rgb(17,17,17)\",\"subunitcolor\":\"#506784\",\"showland\":true,\"showlakes\":true,\"lakecolor\":\"rgb(17,17,17)\"},\"title\":{\"x\":0.05},\"updatemenudefaults\":{\"bgcolor\":\"#506784\",\"borderwidth\":0},\"sliderdefaults\":{\"bgcolor\":\"#C8D4E3\",\"borderwidth\":1,\"bordercolor\":\"rgb(17,17,17)\",\"tickwidth\":0},\"mapbox\":{\"style\":\"dark\"}}},\"xaxis\":{\"anchor\":\"y\",\"domain\":[0.0,1.0],\"title\":{\"text\":\"\\u041f\\u0440\\u0438\\u0437\\u043d\\u0430\\u043a\"}},\"yaxis\":{\"anchor\":\"x\",\"domain\":[0.0,1.0],\"title\":{\"text\":\"\\u041a\\u043e\\u044d\\u0444\\u0438\\u0446\\u0438\\u0435\\u043d\\u0442 \\u0432\\u0430\\u0436\\u043d\\u043e\\u0441\\u0442\\u0438\"}},\"legend\":{\"title\":{\"text\":\"variable\"},\"tracegroupgap\":0},\"title\":{\"text\":\"\\u041d\\u0430\\u0438\\u0431\\u043e\\u043b\\u0435\\u0435 \\u0437\\u043d\\u0430\\u0447\\u0438\\u043c\\u044b\\u0435 \\u043f\\u0440\\u0438\\u0437\\u043d\\u0430\\u043a\\u0438 \\u0434\\u043b\\u044f \\u043b\\u0438\\u043d\\u0435\\u0439\\u043d\\u043e\\u0439 \\u0440\\u0435\\u0433\\u0440\\u0435\\u0441\\u0441\\u0438\\u0438\"},\"barmode\":\"relative\",\"showlegend\":false},                        {\"responsive\": true}                    ).then(function(){\n                            \nvar gd = document.getElementById('236b59ff-aa72-4b5c-a004-3f04cddd72bc');\nvar x = new MutationObserver(function (mutations, observer) {{\n        var display = window.getComputedStyle(gd).display;\n        if (!display || display === 'none') {{\n            console.log([gd, 'removed!']);\n            Plotly.purge(gd);\n            observer.disconnect();\n        }}\n}});\n\n// Listen for the removal of the full notebook cells\nvar notebookContainer = gd.closest('#notebook-container');\nif (notebookContainer) {{\n    x.observe(notebookContainer, {childList: true});\n}}\n\n// Listen for the clearing of the current output cell\nvar outputEl = gd.closest('.output');\nif (outputEl) {{\n    x.observe(outputEl, {childList: true});\n}}\n\n                        })                };                });            </script>        </div>"
     },
     "metadata": {},
     "output_type": "display_data"
    }
   ],
   "source": [
    "feat_importances = pd.Series(cbc.feature_importances_, index=new_features.columns).sort_values(ascending=False)\n",
    "fig = px.bar(feat_importances, title='Наиболее значимые признаки для линейной регрессии')\n",
    "\n",
    "fig.update_layout(\n",
    "    showlegend=False\n",
    ")\n",
    "\n",
    "fig.update_xaxes(\n",
    "    title='Признак'\n",
    ")\n",
    "\n",
    "fig.update_yaxes(\n",
    "    title='Коэфициент важности'\n",
    ")\n",
    "\n",
    "fig.show()"
   ],
   "metadata": {
    "collapsed": false,
    "pycharm": {
     "name": "#%%\n"
    }
   }
  },
  {
   "cell_type": "code",
   "execution_count": 195,
   "outputs": [
    {
     "data": {
      "application/vnd.plotly.v1+json": {
       "data": [
        {
         "fillpattern": {
          "shape": ""
         },
         "hovertemplate": "False Positive Rate=%{x}<br>True Positive Rate=%{y}<extra></extra>",
         "legendgroup": "",
         "line": {
          "color": "#636efa"
         },
         "marker": {
          "symbol": "circle"
         },
         "mode": "lines",
         "name": "",
         "orientation": "v",
         "showlegend": false,
         "stackgroup": "1",
         "x": [
          0.0,
          0.0,
          0.0,
          0.0,
          0.0,
          9.606147934678194E-4,
          9.606147934678194E-4,
          9.606147934678194E-4,
          9.606147934678194E-4,
          9.606147934678194E-4,
          9.606147934678194E-4,
          9.606147934678194E-4,
          9.606147934678194E-4,
          9.606147934678194E-4,
          9.606147934678194E-4,
          9.606147934678194E-4,
          9.606147934678194E-4,
          9.606147934678194E-4,
          9.606147934678194E-4,
          9.606147934678194E-4,
          9.606147934678194E-4,
          9.606147934678194E-4,
          9.606147934678194E-4,
          9.606147934678194E-4,
          9.606147934678194E-4,
          0.0019212295869356388,
          0.0019212295869356388,
          0.002881844380403458,
          0.0038424591738712775,
          0.0038424591738712775,
          0.004803073967339097,
          0.004803073967339097,
          0.005763688760806916,
          0.005763688760806916,
          0.005763688760806916,
          0.005763688760806916,
          0.005763688760806916,
          0.005763688760806916,
          0.005763688760806916,
          0.005763688760806916,
          0.005763688760806916,
          0.005763688760806916,
          0.005763688760806916,
          0.0067243035542747355,
          0.0067243035542747355,
          0.0067243035542747355,
          0.0067243035542747355,
          0.007684918347742555,
          0.007684918347742555,
          0.007684918347742555,
          0.007684918347742555,
          0.007684918347742555,
          0.007684918347742555,
          0.008645533141210375,
          0.009606147934678195,
          0.009606147934678195,
          0.009606147934678195,
          0.009606147934678195,
          0.009606147934678195,
          0.009606147934678195,
          0.009606147934678195,
          0.009606147934678195,
          0.009606147934678195,
          0.009606147934678195,
          0.009606147934678195,
          0.010566762728146013,
          0.010566762728146013,
          0.010566762728146013,
          0.010566762728146013,
          0.010566762728146013,
          0.011527377521613832,
          0.011527377521613832,
          0.011527377521613832,
          0.011527377521613832,
          0.011527377521613832,
          0.011527377521613832,
          0.011527377521613832,
          0.011527377521613832,
          0.011527377521613832,
          0.011527377521613832,
          0.011527377521613832,
          0.011527377521613832,
          0.012487992315081652,
          0.012487992315081652,
          0.013448607108549471,
          0.013448607108549471,
          0.013448607108549471,
          0.01440922190201729,
          0.01440922190201729,
          0.01440922190201729,
          0.01440922190201729,
          0.01440922190201729,
          0.01440922190201729,
          0.01536983669548511,
          0.01536983669548511,
          0.01536983669548511,
          0.01536983669548511,
          0.01825168107588857,
          0.01825168107588857,
          0.01921229586935639,
          0.01921229586935639,
          0.020172910662824207,
          0.020172910662824207,
          0.020172910662824207,
          0.021133525456292025,
          0.021133525456292025,
          0.021133525456292025,
          0.021133525456292025,
          0.022094140249759846,
          0.022094140249759846,
          0.023054755043227664,
          0.023054755043227664,
          0.023054755043227664,
          0.023054755043227664,
          0.023054755043227664,
          0.023054755043227664,
          0.023054755043227664,
          0.024015369836695485,
          0.024015369836695485,
          0.024015369836695485,
          0.024015369836695485,
          0.024015369836695485,
          0.024975984630163303,
          0.024975984630163303,
          0.024975984630163303,
          0.024975984630163303,
          0.024975984630163303,
          0.024975984630163303,
          0.025936599423631124,
          0.025936599423631124,
          0.025936599423631124,
          0.025936599423631124,
          0.025936599423631124,
          0.025936599423631124,
          0.026897214217098942,
          0.026897214217098942,
          0.026897214217098942,
          0.027857829010566763,
          0.027857829010566763,
          0.027857829010566763,
          0.027857829010566763,
          0.02881844380403458,
          0.02881844380403458,
          0.02881844380403458,
          0.02881844380403458,
          0.029779058597502402,
          0.029779058597502402,
          0.03073967339097022,
          0.03073967339097022,
          0.03170028818443804,
          0.03170028818443804,
          0.03170028818443804,
          0.03170028818443804,
          0.03266090297790586,
          0.03266090297790586,
          0.03362151777137368,
          0.03362151777137368,
          0.03554274735830932,
          0.03554274735830932,
          0.03554274735830932,
          0.03554274735830932,
          0.03554274735830932,
          0.03650336215177714,
          0.03650336215177714,
          0.03650336215177714,
          0.03650336215177714,
          0.037463976945244955,
          0.037463976945244955,
          0.040345821325648415,
          0.040345821325648415,
          0.040345821325648415,
          0.040345821325648415,
          0.043227665706051875,
          0.043227665706051875,
          0.04418828049951969,
          0.04418828049951969,
          0.04514889529298751,
          0.04514889529298751,
          0.04610951008645533,
          0.04610951008645533,
          0.04899135446685879,
          0.04899135446685879,
          0.049951969260326606,
          0.049951969260326606,
          0.05187319884726225,
          0.05187319884726225,
          0.05187319884726225,
          0.052833813640730067,
          0.052833813640730067,
          0.053794428434197884,
          0.053794428434197884,
          0.05475504322766571,
          0.05475504322766571,
          0.05475504322766571,
          0.056676272814601344,
          0.056676272814601344,
          0.056676272814601344,
          0.05763688760806916,
          0.05763688760806916,
          0.05859750240153699,
          0.05859750240153699,
          0.05859750240153699,
          0.05859750240153699,
          0.05859750240153699,
          0.05859750240153699,
          0.06051873198847262,
          0.06147934678194044,
          0.06147934678194044,
          0.06147934678194044,
          0.06243996157540826,
          0.06243996157540826,
          0.06243996157540826,
          0.06243996157540826,
          0.06340057636887608,
          0.06340057636887608,
          0.06340057636887608,
          0.06340057636887608,
          0.06532180595581172,
          0.06532180595581172,
          0.06628242074927954,
          0.06628242074927954,
          0.06628242074927954,
          0.06724303554274735,
          0.06724303554274735,
          0.06820365033621517,
          0.06820365033621517,
          0.06820365033621517,
          0.06820365033621517,
          0.06820365033621517,
          0.06820365033621517,
          0.069164265129683,
          0.069164265129683,
          0.069164265129683,
          0.069164265129683,
          0.069164265129683,
          0.07300672430355427,
          0.07300672430355427,
          0.07300672430355427,
          0.07300672430355427,
          0.07300672430355427,
          0.07300672430355427,
          0.07396733909702209,
          0.07396733909702209,
          0.07396733909702209,
          0.07396733909702209,
          0.07396733909702209,
          0.07396733909702209,
          0.07396733909702209,
          0.07492795389048991,
          0.07492795389048991,
          0.07588856868395773,
          0.07588856868395773,
          0.07780979827089338,
          0.07780979827089338,
          0.07973102785782901,
          0.07973102785782901,
          0.07973102785782901,
          0.08069164265129683,
          0.08069164265129683,
          0.08069164265129683,
          0.08069164265129683,
          0.08165225744476465,
          0.08165225744476465,
          0.08261287223823247,
          0.08261287223823247,
          0.08261287223823247,
          0.0845341018251681,
          0.0845341018251681,
          0.08645533141210375,
          0.08645533141210375,
          0.08645533141210375,
          0.08645533141210375,
          0.08645533141210375,
          0.08645533141210375,
          0.08645533141210375,
          0.08837656099903939,
          0.08837656099903939,
          0.08837656099903939,
          0.0893371757925072,
          0.0893371757925072,
          0.09029779058597502,
          0.09029779058597502,
          0.09125840537944284,
          0.09125840537944284,
          0.09317963496637849,
          0.09317963496637849,
          0.09317963496637849,
          0.09317963496637849,
          0.09317963496637849,
          0.0941402497598463,
          0.0941402497598463,
          0.09510086455331412,
          0.09510086455331412,
          0.09606147934678194,
          0.09606147934678194,
          0.09606147934678194,
          0.09606147934678194,
          0.09606147934678194,
          0.09606147934678194,
          0.09702209414024976,
          0.09702209414024976,
          0.09798270893371758,
          0.09798270893371758,
          0.09990393852065321,
          0.09990393852065321,
          0.10086455331412104,
          0.10086455331412104,
          0.10278578290105668,
          0.10278578290105668,
          0.1037463976945245,
          0.1037463976945245,
          0.1037463976945245,
          0.1037463976945245,
          0.10566762728146013,
          0.10566762728146013,
          0.10662824207492795,
          0.10662824207492795,
          0.10758885686839577,
          0.10758885686839577,
          0.10758885686839577,
          0.10854947166186359,
          0.10854947166186359,
          0.10854947166186359,
          0.10951008645533142,
          0.10951008645533142,
          0.11047070124879924,
          0.11047070124879924,
          0.11143131604226705,
          0.11143131604226705,
          0.11239193083573487,
          0.11239193083573487,
          0.11239193083573487,
          0.11239193083573487,
          0.11335254562920269,
          0.11335254562920269,
          0.11335254562920269,
          0.11335254562920269,
          0.11335254562920269,
          0.11335254562920269,
          0.1143131604226705,
          0.1143131604226705,
          0.1143131604226705,
          0.1143131604226705,
          0.1143131604226705,
          0.1143131604226705,
          0.11527377521613832,
          0.11527377521613832,
          0.11623439000960614,
          0.11623439000960614,
          0.11623439000960614,
          0.11815561959654179,
          0.11815561959654179,
          0.12199807877041306,
          0.12199807877041306,
          0.1239193083573487,
          0.1239193083573487,
          0.1239193083573487,
          0.12584053794428435,
          0.12584053794428435,
          0.12680115273775217,
          0.12680115273775217,
          0.12968299711815562,
          0.12968299711815562,
          0.12968299711815562,
          0.13064361191162344,
          0.13064361191162344,
          0.13064361191162344,
          0.13256484149855907,
          0.13256484149855907,
          0.1344860710854947,
          0.1344860710854947,
          0.13544668587896252,
          0.13544668587896252,
          0.13640730067243034,
          0.13640730067243034,
          0.13640730067243034,
          0.1373679154658982,
          0.1373679154658982,
          0.14121037463976946,
          0.14121037463976946,
          0.1431316042267051,
          0.14505283381364073,
          0.14505283381364073,
          0.14601344860710855,
          0.14601344860710855,
          0.14793467819404418,
          0.14793467819404418,
          0.148895292987512,
          0.148895292987512,
          0.14985590778097982,
          0.14985590778097982,
          0.15177713736791545,
          0.15177713736791545,
          0.15369836695485112,
          0.15369836695485112,
          0.15369836695485112,
          0.15465898174831894,
          0.15465898174831894,
          0.1585014409221902,
          0.1585014409221902,
          0.1585014409221902,
          0.15946205571565802,
          0.15946205571565802,
          0.15946205571565802,
          0.15946205571565802,
          0.16042267050912584,
          0.16042267050912584,
          0.16234390009606148,
          0.16234390009606148,
          0.16234390009606148,
          0.16234390009606148,
          0.16234390009606148,
          0.16234390009606148,
          0.16522574447646493,
          0.16522574447646493,
          0.16618635926993275,
          0.16618635926993275,
          0.16714697406340057,
          0.16714697406340057,
          0.16810758885686838,
          0.16810758885686838,
          0.1690682036503362,
          0.1690682036503362,
          0.17002881844380405,
          0.17002881844380405,
          0.17098943323727187,
          0.17098943323727187,
          0.17195004803073968,
          0.17195004803073968,
          0.17195004803073968,
          0.17195004803073968,
          0.1729106628242075,
          0.1729106628242075,
          0.1729106628242075,
          0.17387127761767532,
          0.17387127761767532,
          0.17483189241114314,
          0.17483189241114314,
          0.1777137367915466,
          0.1777137367915466,
          0.17963496637848222,
          0.18059558117195004,
          0.18059558117195004,
          0.1834774255523535,
          0.1834774255523535,
          0.1844380403458213,
          0.1844380403458213,
          0.1844380403458213,
          0.18539865513928913,
          0.18539865513928913,
          0.18924111431316043,
          0.18924111431316043,
          0.19020172910662825,
          0.19020172910662825,
          0.19212295869356388,
          0.19212295869356388,
          0.19212295869356388,
          0.19212295869356388,
          0.19212295869356388,
          0.19212295869356388,
          0.19404418828049952,
          0.19404418828049952,
          0.19500480307396734,
          0.19500480307396734,
          0.19596541786743515,
          0.19596541786743515,
          0.19692603266090297,
          0.19692603266090297,
          0.1978866474543708,
          0.1978866474543708,
          0.20076849183477424,
          0.20076849183477424,
          0.2017291066282421,
          0.2017291066282421,
          0.2026897214217099,
          0.2026897214217099,
          0.20365033621517772,
          0.20365033621517772,
          0.20365033621517772,
          0.20461095100864554,
          0.20461095100864554,
          0.20653218059558118,
          0.20653218059558118,
          0.207492795389049,
          0.207492795389049,
          0.2084534101825168,
          0.2084534101825168,
          0.20941402497598463,
          0.20941402497598463,
          0.21229586935638808,
          0.21229586935638808,
          0.21229586935638808,
          0.21517771373679154,
          0.21517771373679154,
          0.21613832853025935,
          0.21613832853025935,
          0.21709894332372717,
          0.21709894332372717,
          0.21709894332372717,
          0.22574447646493756,
          0.22574447646493756,
          0.22670509125840538,
          0.22670509125840538,
          0.228626320845341,
          0.228626320845341,
          0.22958693563880883,
          0.22958693563880883,
          0.23150816522574447,
          0.23150816522574447,
          0.23150816522574447,
          0.23439000960614795,
          0.23439000960614795,
          0.23631123919308358,
          0.23631123919308358,
          0.2372718539865514,
          0.2372718539865514,
          0.23823246878001922,
          0.23823246878001922,
          0.23919308357348704,
          0.24015369836695485,
          0.24111431316042267,
          0.24111431316042267,
          0.2420749279538905,
          0.2420749279538905,
          0.2430355427473583,
          0.2430355427473583,
          0.2430355427473583,
          0.2430355427473583,
          0.2478386167146974,
          0.2478386167146974,
          0.2478386167146974,
          0.2478386167146974,
          0.2507204610951009,
          0.2507204610951009,
          0.2507204610951009,
          0.2507204610951009,
          0.2507204610951009,
          0.2507204610951009,
          0.2516810758885687,
          0.2526416906820365,
          0.2526416906820365,
          0.2526416906820365,
          0.25456292026897215,
          0.25456292026897215,
          0.25552353506243997,
          0.25552353506243997,
          0.2584053794428434,
          0.2584053794428434,
          0.2612872238232469,
          0.2612872238232469,
          0.2622478386167147,
          0.2622478386167147,
          0.2622478386167147,
          0.2632084534101825,
          0.2632084534101825,
          0.2632084534101825,
          0.26512968299711814,
          0.26512968299711814,
          0.2670509125840538,
          0.2670509125840538,
          0.2670509125840538,
          0.2670509125840538,
          0.2680115273775216,
          0.2680115273775216,
          0.2680115273775216,
          0.2689721421709894,
          0.2689721421709894,
          0.2689721421709894,
          0.2689721421709894,
          0.2689721421709894,
          0.27185398655139287,
          0.27185398655139287,
          0.2728146013448607,
          0.2728146013448607,
          0.2728146013448607,
          0.2737752161383285,
          0.2737752161383285,
          0.2747358309317964,
          0.2747358309317964,
          0.276657060518732,
          0.276657060518732,
          0.27761767531219983,
          0.27761767531219983,
          0.27953890489913547,
          0.27953890489913547,
          0.2814601344860711,
          0.2824207492795389,
          0.28338136407300674,
          0.28338136407300674,
          0.28434197886647455,
          0.28434197886647455,
          0.2862632084534102,
          0.2862632084534102,
          0.2862632084534102,
          0.287223823246878,
          0.287223823246878,
          0.2881844380403458,
          0.2881844380403458,
          0.2910662824207493,
          0.2910662824207493,
          0.2910662824207493,
          0.29394812680115273,
          0.29394812680115273,
          0.29394812680115273,
          0.29490874159462055,
          0.29490874159462055,
          0.29586935638808837,
          0.29586935638808837,
          0.2987512007684918,
          0.2987512007684918,
          0.29971181556195964,
          0.29971181556195964,
          0.30067243035542746,
          0.30067243035542746,
          0.3025936599423631,
          0.3025936599423631,
          0.30739673390970224,
          0.30739673390970224,
          0.30835734870317005,
          0.30835734870317005,
          0.3121998078770413,
          0.3121998078770413,
          0.31412103746397696,
          0.31412103746397696,
          0.31412103746397696,
          0.31412103746397696,
          0.31412103746397696,
          0.3150816522574448,
          0.3150816522574448,
          0.3170028818443804,
          0.3170028818443804,
          0.3208453410182517,
          0.3208453410182517,
          0.3208453410182517,
          0.3208453410182517,
          0.3208453410182517,
          0.3208453410182517,
          0.3227665706051873,
          0.3227665706051873,
          0.3227665706051873,
          0.32468780019212296,
          0.32468780019212296,
          0.3256484149855908,
          0.3256484149855908,
          0.3275696445725264,
          0.3275696445725264,
          0.3333333333333333,
          0.3333333333333333,
          0.33525456292026895,
          0.33525456292026895,
          0.33525456292026895,
          0.3371757925072046,
          0.3371757925072046,
          0.3400576368876081,
          0.3400576368876081,
          0.3410182516810759,
          0.3410182516810759,
          0.34197886647454373,
          0.34197886647454373,
          0.34390009606147937,
          0.34390009606147937,
          0.34390009606147937,
          0.34774255523535064,
          0.34774255523535064,
          0.34966378482228627,
          0.34966378482228627,
          0.3515850144092219,
          0.3515850144092219,
          0.35350624399615754,
          0.35350624399615754,
          0.3554274735830932,
          0.3554274735830932,
          0.356388088376561,
          0.356388088376561,
          0.3621517771373679,
          0.3621517771373679,
          0.3631123919308357,
          0.3631123919308357,
          0.3631123919308357,
          0.36407300672430354,
          0.36407300672430354,
          0.366954851104707,
          0.366954851104707,
          0.366954851104707,
          0.3679154658981748,
          0.3679154658981748,
          0.36983669548511044,
          0.36983669548511044,
          0.37175792507204614,
          0.37175792507204614,
          0.37367915465898177,
          0.37367915465898177,
          0.3765609990393852,
          0.3765609990393852,
          0.37752161383285304,
          0.37752161383285304,
          0.3804034582132565,
          0.3804034582132565,
          0.3813640730067243,
          0.3813640730067243,
          0.3813640730067243,
          0.38808837656099904,
          0.38808837656099904,
          0.38904899135446686,
          0.38904899135446686,
          0.39481268011527376,
          0.39481268011527376,
          0.39865513928914503,
          0.39865513928914503,
          0.4015369836695485,
          0.4015369836695485,
          0.4034582132564842,
          0.4034582132564842,
          0.404418828049952,
          0.404418828049952,
          0.4053794428434198,
          0.4053794428434198,
          0.4101825168107589,
          0.4101825168107589,
          0.41210374639769454,
          0.41210374639769454,
          0.4140249759846302,
          0.414985590778098,
          0.4217098943323727,
          0.4217098943323727,
          0.42459173871277617,
          0.42459173871277617,
          0.425552353506244,
          0.425552353506244,
          0.4313160422670509,
          0.4313160422670509,
          0.4322766570605187,
          0.4322766570605187,
          0.43515850144092216,
          0.43515850144092216,
          0.4409221902017291,
          0.44188280499519694,
          0.4438040345821326,
          0.4438040345821326,
          0.4495677233429395,
          0.4495677233429395,
          0.4553314121037464,
          0.4553314121037464,
          0.4562920268972142,
          0.4562920268972142,
          0.4601344860710855,
          0.4601344860710855,
          0.4668587896253602,
          0.4668587896253602,
          0.47070124879923153,
          0.47070124879923153,
          0.47646493756003844,
          0.47646493756003844,
          0.48318924111431316,
          0.48318924111431316,
          0.4851104707012488,
          0.4851104707012488,
          0.48703170028818443,
          0.48703170028818443,
          0.4908741594620557,
          0.4908741594620557,
          0.49279538904899134,
          0.49279538904899134,
          0.494716618635927,
          0.494716618635927,
          0.49855907780979825,
          0.49855907780979825,
          0.49855907780979825,
          0.5004803073967339,
          0.5004803073967339,
          0.5004803073967339,
          0.5014409221902018,
          0.5014409221902018,
          0.5043227665706052,
          0.5043227665706052,
          0.5120076849183477,
          0.5139289145052833,
          0.5177713736791547,
          0.5177713736791547,
          0.521613832853026,
          0.521613832853026,
          0.5350624399615754,
          0.5350624399615754,
          0.5600384245917387,
          0.5600384245917387,
          0.5648414985590778,
          0.5648414985590778,
          0.5773294908741594,
          0.5773294908741594,
          0.590778097982709,
          0.590778097982709,
          0.5917387127761767,
          0.5917387127761767,
          0.6051873198847262,
          0.6051873198847262,
          0.6493756003842459,
          0.6493756003842459,
          0.6532180595581172,
          0.6532180595581172,
          0.6705091258405379,
          0.6705091258405379,
          0.6887608069164265,
          0.6887608069164265,
          0.6983669548511047,
          0.6983669548511047,
          0.7098943323727186,
          0.7098943323727186,
          0.7425552353506244,
          0.7425552353506244,
          0.7588856868395774,
          0.760806916426513,
          0.7713736791546589,
          0.7732949087415946,
          0.7857829010566763,
          0.7886647454370798,
          0.803073967339097,
          0.8049951969260326,
          0.829971181556196,
          0.829971181556196,
          0.829971181556196,
          0.8318924111431316,
          0.834774255523535,
          0.8357348703170029,
          0.8357348703170029,
          0.8424591738712777,
          0.8443804034582133,
          0.8933717579250721,
          0.8933717579250721,
          0.8962536023054755,
          0.8981748318924111,
          0.9077809798270894,
          0.9077809798270894,
          0.9269932756964457,
          0.9289145052833814,
          1.0
         ],
         "xaxis": "x",
         "y": [
          0.0,
          8.984725965858042E-4,
          0.0017969451931716084,
          0.0035938903863432167,
          0.004492362982929021,
          0.004492362982929021,
          0.006289308176100629,
          0.008086253369272238,
          0.016172506738544475,
          0.017969451931716084,
          0.018867924528301886,
          0.022461814914645103,
          0.02336028751123091,
          0.026954177897574125,
          0.028751123090745734,
          0.030548068283917342,
          0.031446540880503145,
          0.03324348607367475,
          0.03593890386343217,
          0.039532794249775384,
          0.0431266846361186,
          0.044923629829290206,
          0.04851752021563342,
          0.053009883198562445,
          0.05390835579514825,
          0.05480682839173405,
          0.055705300988319856,
          0.055705300988319856,
          0.05750224618149147,
          0.05840071877807727,
          0.05929919137466307,
          0.06019766397124888,
          0.06019766397124888,
          0.061096136567834684,
          0.0637915543575921,
          0.06558849955076371,
          0.0673854447439353,
          0.07187780772686433,
          0.07367475292003593,
          0.07547169811320754,
          0.07726864330637916,
          0.08355795148247978,
          0.08715184186882301,
          0.08715184186882301,
          0.0880503144654088,
          0.08984725965858041,
          0.09074573225516622,
          0.09074573225516622,
          0.09344115004492363,
          0.09433962264150944,
          0.09793351302785265,
          0.09883198562443846,
          0.10512129380053908,
          0.1096136567834681,
          0.1096136567834681,
          0.11141060197663971,
          0.11500449236298294,
          0.11680143755615453,
          0.11769991015274034,
          0.11949685534591195,
          0.12219227313566937,
          0.1275831087151842,
          0.1293800539083558,
          0.13117699910152741,
          0.1320754716981132,
          0.1320754716981132,
          0.13566936208445643,
          0.13746630727762804,
          0.14016172506738545,
          0.14195867026055706,
          0.14195867026055706,
          0.14285714285714285,
          0.14645103324348607,
          0.14734950584007186,
          0.14914645103324348,
          0.1527403414195867,
          0.1545372866127583,
          0.15633423180592992,
          0.15813117699910154,
          0.15992812219227315,
          0.16172506738544473,
          0.16711590296495957,
          0.16711590296495957,
          0.1725067385444744,
          0.1725067385444744,
          0.17430368373764601,
          0.1761006289308176,
          0.1761006289308176,
          0.17699910152740342,
          0.17969451931716082,
          0.18418688230008984,
          0.18688230008984727,
          0.18867924528301888,
          0.18957771787960467,
          0.19047619047619047,
          0.1940700808625337,
          0.20125786163522014,
          0.20125786163522014,
          0.20485175202156333,
          0.20575022461814915,
          0.21293800539083557,
          0.21293800539083557,
          0.2138364779874214,
          0.215633423180593,
          0.215633423180593,
          0.2174303683737646,
          0.2183288409703504,
          0.22192273135669363,
          0.22282120395327942,
          0.22641509433962265,
          0.22641509433962265,
          0.22821203953279426,
          0.23000898472596587,
          0.23180592991913745,
          0.23270440251572327,
          0.23450134770889489,
          0.2362982929020665,
          0.2362982929020665,
          0.23809523809523808,
          0.2398921832884097,
          0.2416891284815813,
          0.24348607367475292,
          0.24348607367475292,
          0.24438454627133874,
          0.24797843665768193,
          0.24887690925426775,
          0.25067385444743934,
          0.2551662174303684,
          0.2551662174303684,
          0.2560646900269542,
          0.25965858041329737,
          0.2605570530098832,
          0.26235399820305483,
          0.26504941599281223,
          0.26504941599281223,
          0.2668463611859838,
          0.26864330637915546,
          0.26864330637915546,
          0.27044025157232704,
          0.2722371967654987,
          0.27313566936208444,
          0.27313566936208444,
          0.2749326145552561,
          0.27672955974842767,
          0.2785265049415993,
          0.2785265049415993,
          0.27942497753818507,
          0.27942497753818507,
          0.2812219227313567,
          0.2812219227313567,
          0.2830188679245283,
          0.28481581311769993,
          0.2857142857142857,
          0.2857142857142857,
          0.28751123090745734,
          0.28751123090745734,
          0.2920035938903863,
          0.2920035938903863,
          0.29469901168014373,
          0.29649595687331537,
          0.2973944294699012,
          0.2991913746630728,
          0.2991913746630728,
          0.30098831985624436,
          0.302785265049416,
          0.3036837376460018,
          0.3036837376460018,
          0.3045822102425876,
          0.3045822102425876,
          0.3063791554357592,
          0.3090745732255166,
          0.3108715184186882,
          0.3108715184186882,
          0.31176999101527403,
          0.31176999101527403,
          0.31266846361185985,
          0.31266846361185985,
          0.31626235399820307,
          0.31626235399820307,
          0.31805929919137466,
          0.31805929919137466,
          0.3198562443845463,
          0.3198562443845463,
          0.32075471698113206,
          0.32075471698113206,
          0.3225516621743037,
          0.32345013477088946,
          0.32345013477088946,
          0.3252470799640611,
          0.3252470799640611,
          0.3270440251572327,
          0.3270440251572327,
          0.33243486073674755,
          0.3360287511230907,
          0.3360287511230907,
          0.34591194968553457,
          0.3477088948787062,
          0.3477088948787062,
          0.34860736747529203,
          0.34860736747529203,
          0.35399820305480684,
          0.3557951482479784,
          0.35759209344115006,
          0.35938903863432164,
          0.36208445642407905,
          0.36208445642407905,
          0.36208445642407905,
          0.36298292902066487,
          0.3656783468104223,
          0.3656783468104223,
          0.3692722371967655,
          0.3710691823899371,
          0.3719676549865229,
          0.3719676549865229,
          0.3728661275831087,
          0.3746630727762803,
          0.37735849056603776,
          0.37735849056603776,
          0.38005390835579517,
          0.38005390835579517,
          0.38185085354896675,
          0.3836477987421384,
          0.3836477987421384,
          0.38544474393531,
          0.38544474393531,
          0.3890386343216532,
          0.3908355795148248,
          0.3917340521114106,
          0.3953279424977538,
          0.39622641509433965,
          0.39802336028751123,
          0.40341419586702604,
          0.4052111410601977,
          0.40610961365678344,
          0.4079065588499551,
          0.4079065588499551,
          0.4132973944294699,
          0.41509433962264153,
          0.4168912848158131,
          0.41868823000898475,
          0.4195867026055705,
          0.42138364779874216,
          0.42318059299191374,
          0.42857142857142855,
          0.4303683737646002,
          0.4330637915543576,
          0.4348607367475292,
          0.4393530997304582,
          0.4393530997304582,
          0.44025157232704404,
          0.44025157232704404,
          0.4411500449236298,
          0.4411500449236298,
          0.444743935309973,
          0.444743935309973,
          0.4474393530997305,
          0.44923629829290207,
          0.44923629829290207,
          0.45103324348607365,
          0.4528301886792453,
          0.4546271338724169,
          0.4546271338724169,
          0.4564240790655885,
          0.4564240790655885,
          0.4582210242587601,
          0.4591194968553459,
          0.4591194968553459,
          0.4609164420485175,
          0.4609164420485175,
          0.46451033243486073,
          0.46630727762803237,
          0.46810422282120395,
          0.46990116801437554,
          0.47349505840071876,
          0.4752920035938904,
          0.4752920035938904,
          0.477088948787062,
          0.4779874213836478,
          0.4779874213836478,
          0.4788858939802336,
          0.4788858939802336,
          0.48247978436657685,
          0.48247978436657685,
          0.48427672955974843,
          0.48427672955974843,
          0.48607367475292,
          0.49326145552560646,
          0.4968553459119497,
          0.4977538185085355,
          0.4977538185085355,
          0.49865229110512127,
          0.49865229110512127,
          0.5004492362982929,
          0.5004492362982929,
          0.5040431266846361,
          0.5058400718778078,
          0.5085354896675651,
          0.5094339622641509,
          0.5112309074573226,
          0.5112309074573226,
          0.5139263252470799,
          0.5139263252470799,
          0.5157232704402516,
          0.5157232704402516,
          0.5166217430368374,
          0.5166217430368374,
          0.5175202156334232,
          0.5175202156334232,
          0.518418688230009,
          0.518418688230009,
          0.5193171608265947,
          0.5211141060197664,
          0.5220125786163522,
          0.5220125786163522,
          0.522911051212938,
          0.522911051212938,
          0.5256064690026954,
          0.5265049415992812,
          0.5283018867924528,
          0.5300988319856245,
          0.5300988319856245,
          0.5336927223719676,
          0.5372866127583109,
          0.5372866127583109,
          0.5381850853548967,
          0.5381850853548967,
          0.5408805031446541,
          0.5408805031446541,
          0.5453728661275831,
          0.5453728661275831,
          0.5462713387241689,
          0.5480682839173405,
          0.5489667565139263,
          0.5489667565139263,
          0.5525606469002695,
          0.555256064690027,
          0.5570530098831986,
          0.5606469002695418,
          0.5633423180592992,
          0.5633423180592992,
          0.5669362084456424,
          0.5696316262353999,
          0.5714285714285714,
          0.5723270440251572,
          0.5741239892183289,
          0.5741239892183289,
          0.5759209344115005,
          0.5759209344115005,
          0.577717879604672,
          0.5813117699910153,
          0.5813117699910153,
          0.5831087151841868,
          0.5831087151841868,
          0.5840071877807727,
          0.5840071877807727,
          0.5867026055705301,
          0.5884995507637018,
          0.5884995507637018,
          0.5920934411500449,
          0.5920934411500449,
          0.5947888589398024,
          0.5947888589398024,
          0.5965858041329739,
          0.5974842767295597,
          0.5974842767295597,
          0.6001796945193172,
          0.6019766397124887,
          0.6019766397124887,
          0.6028751123090745,
          0.6028751123090745,
          0.6046720575022462,
          0.6046720575022462,
          0.605570530098832,
          0.605570530098832,
          0.6109613656783468,
          0.6118598382749326,
          0.6118598382749326,
          0.6136567834681043,
          0.6136567834681043,
          0.6145552560646901,
          0.6154537286612758,
          0.6154537286612758,
          0.6172506738544474,
          0.6172506738544474,
          0.6181491464510332,
          0.6181491464510332,
          0.6190476190476191,
          0.6190476190476191,
          0.6199460916442049,
          0.6199460916442049,
          0.6217430368373764,
          0.6217430368373764,
          0.6244384546271339,
          0.6244384546271339,
          0.6262353998203055,
          0.628032345013477,
          0.628032345013477,
          0.6298292902066487,
          0.6298292902066487,
          0.633423180592992,
          0.6343216531895777,
          0.6343216531895777,
          0.6352201257861635,
          0.6388140161725068,
          0.6415094339622641,
          0.6415094339622641,
          0.6424079065588499,
          0.6424079065588499,
          0.6442048517520216,
          0.6451033243486074,
          0.6522911051212938,
          0.6531895777178796,
          0.6549865229110512,
          0.6549865229110512,
          0.6567834681042228,
          0.6567834681042228,
          0.6585804132973945,
          0.6585804132973945,
          0.6621743036837376,
          0.6621743036837376,
          0.6639712488769093,
          0.6639712488769093,
          0.6666666666666666,
          0.6666666666666666,
          0.6693620844564241,
          0.6693620844564241,
          0.6702605570530099,
          0.6702605570530099,
          0.6720575022461814,
          0.6738544474393531,
          0.6747529200359389,
          0.6747529200359389,
          0.6765498652291105,
          0.6774483378256964,
          0.6774483378256964,
          0.6801437556154537,
          0.6801437556154537,
          0.6819407008086253,
          0.6819407008086253,
          0.6855345911949685,
          0.6855345911949685,
          0.6855345911949685,
          0.6864330637915543,
          0.6864330637915543,
          0.688230008984726,
          0.688230008984726,
          0.6909254267744834,
          0.692722371967655,
          0.692722371967655,
          0.6945193171608266,
          0.6945193171608266,
          0.6954177897574124,
          0.6954177897574124,
          0.6963162623539982,
          0.6972147349505841,
          0.7008086253369272,
          0.7035040431266847,
          0.7044025157232704,
          0.7088948787061995,
          0.7097933513027853,
          0.7097933513027853,
          0.710691823899371,
          0.710691823899371,
          0.7124887690925427,
          0.7124887690925427,
          0.7151841868823001,
          0.7151841868823001,
          0.7169811320754716,
          0.7169811320754716,
          0.7178796046720575,
          0.7178796046720575,
          0.7187780772686433,
          0.7187780772686433,
          0.7196765498652291,
          0.7196765498652291,
          0.7205750224618149,
          0.7205750224618149,
          0.7241689128481581,
          0.7259658580413297,
          0.7259658580413297,
          0.7268643306379156,
          0.7268643306379156,
          0.7295597484276729,
          0.7295597484276729,
          0.7304582210242587,
          0.7304582210242587,
          0.7313566936208445,
          0.7313566936208445,
          0.7322551662174304,
          0.7322551662174304,
          0.7349505840071878,
          0.7367475292003594,
          0.7367475292003594,
          0.7376460017969452,
          0.7376460017969452,
          0.738544474393531,
          0.738544474393531,
          0.7394429469901168,
          0.7412398921832885,
          0.7412398921832885,
          0.7439353099730458,
          0.7439353099730458,
          0.7457322551662174,
          0.7457322551662174,
          0.7466307277628033,
          0.7466307277628033,
          0.7475292003593891,
          0.7475292003593891,
          0.7493261455525606,
          0.7502246181491464,
          0.7502246181491464,
          0.7529200359389039,
          0.7529200359389039,
          0.7538185085354897,
          0.7538185085354897,
          0.7547169811320755,
          0.7547169811320755,
          0.756513926325247,
          0.756513926325247,
          0.7583108715184187,
          0.7583108715184187,
          0.7601078167115903,
          0.7601078167115903,
          0.7619047619047619,
          0.7619047619047619,
          0.7654986522911051,
          0.7681940700808625,
          0.7690925426774483,
          0.7690925426774483,
          0.77088948787062,
          0.7735849056603774,
          0.7753818508535489,
          0.7753818508535489,
          0.7771787960467206,
          0.7789757412398922,
          0.784366576819407,
          0.7861635220125787,
          0.7870619946091644,
          0.788858939802336,
          0.788858939802336,
          0.7915543575920935,
          0.793351302785265,
          0.793351302785265,
          0.7960467205750225,
          0.7960467205750225,
          0.7969451931716083,
          0.7969451931716083,
          0.7978436657681941,
          0.7978436657681941,
          0.7996406109613656,
          0.7996406109613656,
          0.8005390835579514,
          0.8023360287511231,
          0.8023360287511231,
          0.8041329739442947,
          0.8086253369272237,
          0.8086253369272237,
          0.8104222821203954,
          0.8104222821203954,
          0.8122192273135669,
          0.8149146451033243,
          0.816711590296496,
          0.816711590296496,
          0.8176100628930818,
          0.8194070080862533,
          0.8194070080862533,
          0.8203054806828391,
          0.8221024258760108,
          0.8238993710691824,
          0.825696316262354,
          0.825696316262354,
          0.8265947888589398,
          0.8265947888589398,
          0.8301886792452831,
          0.8310871518418689,
          0.8310871518418689,
          0.8319856244384546,
          0.8319856244384546,
          0.8328840970350404,
          0.8328840970350404,
          0.8337825696316262,
          0.8337825696316262,
          0.834681042228212,
          0.834681042228212,
          0.8355795148247979,
          0.8355795148247979,
          0.8373764600179695,
          0.8373764600179695,
          0.8382749326145552,
          0.8382749326145552,
          0.839173405211141,
          0.839173405211141,
          0.8409703504043127,
          0.8418688230008985,
          0.8418688230008985,
          0.8427672955974843,
          0.8427672955974843,
          0.8436657681940701,
          0.8436657681940701,
          0.8445642407906558,
          0.8463611859838275,
          0.8463611859838275,
          0.8499550763701708,
          0.8517520215633423,
          0.8517520215633423,
          0.8535489667565139,
          0.8535489667565139,
          0.8544474393530997,
          0.8544474393530997,
          0.8553459119496856,
          0.8553459119496856,
          0.8562443845462714,
          0.8562443845462714,
          0.8571428571428571,
          0.8571428571428571,
          0.8580413297394429,
          0.8580413297394429,
          0.8589398023360287,
          0.8589398023360287,
          0.8598382749326146,
          0.8598382749326146,
          0.8607367475292004,
          0.8607367475292004,
          0.8616352201257862,
          0.8634321653189577,
          0.8652291105121294,
          0.867026055705301,
          0.867026055705301,
          0.8679245283018868,
          0.8679245283018868,
          0.8688230008984726,
          0.8688230008984726,
          0.8706199460916442,
          0.8733153638814016,
          0.8787061994609164,
          0.8805031446540881,
          0.8814016172506739,
          0.8814016172506739,
          0.8823000898472596,
          0.8840970350404312,
          0.8840970350404312,
          0.8849955076370171,
          0.8849955076370171,
          0.8867924528301887,
          0.8867924528301887,
          0.8876909254267745,
          0.8876909254267745,
          0.8885893980233602,
          0.8885893980233602,
          0.889487870619946,
          0.8912848158131177,
          0.8912848158131177,
          0.8921832884097035,
          0.8921832884097035,
          0.8930817610062893,
          0.8930817610062893,
          0.8939802336028752,
          0.8939802336028752,
          0.894878706199461,
          0.894878706199461,
          0.8966756513926325,
          0.89937106918239,
          0.89937106918239,
          0.9002695417789758,
          0.9002695417789758,
          0.9011680143755616,
          0.9011680143755616,
          0.9020664869721473,
          0.9020664869721473,
          0.9029649595687331,
          0.9029649595687331,
          0.903863432165319,
          0.903863432165319,
          0.9056603773584906,
          0.9056603773584906,
          0.9065588499550764,
          0.9065588499550764,
          0.9074573225516622,
          0.9092542677448338,
          0.9092542677448338,
          0.9110512129380054,
          0.9110512129380054,
          0.912848158131177,
          0.9146451033243486,
          0.9146451033243486,
          0.9155435759209344,
          0.9155435759209344,
          0.917340521114106,
          0.917340521114106,
          0.9191374663072777,
          0.9191374663072777,
          0.9200359389038635,
          0.9200359389038635,
          0.9209344115004492,
          0.9209344115004492,
          0.921832884097035,
          0.921832884097035,
          0.9227313566936208,
          0.9227313566936208,
          0.9236298292902066,
          0.9254267744833783,
          0.9254267744833783,
          0.9272237196765498,
          0.9272237196765498,
          0.9290206648697215,
          0.9290206648697215,
          0.9299191374663073,
          0.9299191374663073,
          0.9308176100628931,
          0.9308176100628931,
          0.9317160826594789,
          0.9317160826594789,
          0.9335130278526504,
          0.9335130278526504,
          0.9344115004492363,
          0.9344115004492363,
          0.9353099730458221,
          0.9353099730458221,
          0.9362084456424079,
          0.9362084456424079,
          0.9380053908355795,
          0.9380053908355795,
          0.9398023360287511,
          0.9398023360287511,
          0.9407008086253369,
          0.9407008086253369,
          0.9415992812219227,
          0.9415992812219227,
          0.9424977538185085,
          0.9424977538185085,
          0.9442946990116802,
          0.9442946990116802,
          0.945193171608266,
          0.945193171608266,
          0.9469901168014375,
          0.9469901168014375,
          0.9478885893980233,
          0.9478885893980233,
          0.9487870619946092,
          0.9487870619946092,
          0.9505840071877808,
          0.9505840071877808,
          0.9514824797843666,
          0.9514824797843666,
          0.9523809523809523,
          0.9523809523809523,
          0.9532794249775381,
          0.9532794249775381,
          0.954177897574124,
          0.954177897574124,
          0.9550763701707098,
          0.9550763701707098,
          0.9559748427672956,
          0.9559748427672956,
          0.9577717879604672,
          0.9577717879604672,
          0.958670260557053,
          0.958670260557053,
          0.9595687331536388,
          0.9595687331536388,
          0.9604672057502246,
          0.9604672057502246,
          0.9613656783468104,
          0.9613656783468104,
          0.9622641509433962,
          0.9622641509433962,
          0.9640610961365679,
          0.9658580413297394,
          0.9658580413297394,
          0.9667565139263252,
          0.9685534591194969,
          0.9685534591194969,
          0.9694519317160827,
          0.9694519317160827,
          0.9703504043126685,
          0.9703504043126685,
          0.9703504043126685,
          0.9703504043126685,
          0.97214734950584,
          0.97214734950584,
          0.9739442946990117,
          0.9739442946990117,
          0.9748427672955975,
          0.9748427672955975,
          0.9757412398921833,
          0.9757412398921833,
          0.9766397124887691,
          0.9766397124887691,
          0.977538185085355,
          0.977538185085355,
          0.9793351302785265,
          0.9793351302785265,
          0.9802336028751123,
          0.9802336028751123,
          0.9820305480682839,
          0.9820305480682839,
          0.9829290206648698,
          0.9829290206648698,
          0.9865229110512129,
          0.9865229110512129,
          0.9874213836477987,
          0.9874213836477987,
          0.9883198562443846,
          0.9883198562443846,
          0.9892183288409704,
          0.9892183288409704,
          0.9901168014375562,
          0.9901168014375562,
          0.9910152740341419,
          0.9910152740341419,
          0.9910152740341419,
          0.9910152740341419,
          0.9910152740341419,
          0.9910152740341419,
          0.9910152740341419,
          0.9910152740341419,
          0.9910152740341419,
          0.9910152740341419,
          0.9937106918238994,
          0.9946091644204852,
          0.9946091644204852,
          0.9946091644204852,
          0.9946091644204852,
          0.9964061096136568,
          0.9964061096136568,
          0.9964061096136568,
          0.9964061096136568,
          0.9982030548068284,
          0.9982030548068284,
          0.9982030548068284,
          0.9982030548068284,
          1.0,
          1.0,
          1.0,
          1.0
         ],
         "yaxis": "y",
         "type": "scatter"
        }
       ],
       "layout": {
        "template": {
         "data": {
          "histogram2dcontour": [
           {
            "type": "histogram2dcontour",
            "colorbar": {
             "outlinewidth": 0,
             "ticks": ""
            },
            "colorscale": [
             [
              0.0,
              "#0d0887"
             ],
             [
              0.1111111111111111,
              "#46039f"
             ],
             [
              0.2222222222222222,
              "#7201a8"
             ],
             [
              0.3333333333333333,
              "#9c179e"
             ],
             [
              0.4444444444444444,
              "#bd3786"
             ],
             [
              0.5555555555555556,
              "#d8576b"
             ],
             [
              0.6666666666666666,
              "#ed7953"
             ],
             [
              0.7777777777777778,
              "#fb9f3a"
             ],
             [
              0.8888888888888888,
              "#fdca26"
             ],
             [
              1.0,
              "#f0f921"
             ]
            ]
           }
          ],
          "choropleth": [
           {
            "type": "choropleth",
            "colorbar": {
             "outlinewidth": 0,
             "ticks": ""
            }
           }
          ],
          "histogram2d": [
           {
            "type": "histogram2d",
            "colorbar": {
             "outlinewidth": 0,
             "ticks": ""
            },
            "colorscale": [
             [
              0.0,
              "#0d0887"
             ],
             [
              0.1111111111111111,
              "#46039f"
             ],
             [
              0.2222222222222222,
              "#7201a8"
             ],
             [
              0.3333333333333333,
              "#9c179e"
             ],
             [
              0.4444444444444444,
              "#bd3786"
             ],
             [
              0.5555555555555556,
              "#d8576b"
             ],
             [
              0.6666666666666666,
              "#ed7953"
             ],
             [
              0.7777777777777778,
              "#fb9f3a"
             ],
             [
              0.8888888888888888,
              "#fdca26"
             ],
             [
              1.0,
              "#f0f921"
             ]
            ]
           }
          ],
          "heatmap": [
           {
            "type": "heatmap",
            "colorbar": {
             "outlinewidth": 0,
             "ticks": ""
            },
            "colorscale": [
             [
              0.0,
              "#0d0887"
             ],
             [
              0.1111111111111111,
              "#46039f"
             ],
             [
              0.2222222222222222,
              "#7201a8"
             ],
             [
              0.3333333333333333,
              "#9c179e"
             ],
             [
              0.4444444444444444,
              "#bd3786"
             ],
             [
              0.5555555555555556,
              "#d8576b"
             ],
             [
              0.6666666666666666,
              "#ed7953"
             ],
             [
              0.7777777777777778,
              "#fb9f3a"
             ],
             [
              0.8888888888888888,
              "#fdca26"
             ],
             [
              1.0,
              "#f0f921"
             ]
            ]
           }
          ],
          "heatmapgl": [
           {
            "type": "heatmapgl",
            "colorbar": {
             "outlinewidth": 0,
             "ticks": ""
            },
            "colorscale": [
             [
              0.0,
              "#0d0887"
             ],
             [
              0.1111111111111111,
              "#46039f"
             ],
             [
              0.2222222222222222,
              "#7201a8"
             ],
             [
              0.3333333333333333,
              "#9c179e"
             ],
             [
              0.4444444444444444,
              "#bd3786"
             ],
             [
              0.5555555555555556,
              "#d8576b"
             ],
             [
              0.6666666666666666,
              "#ed7953"
             ],
             [
              0.7777777777777778,
              "#fb9f3a"
             ],
             [
              0.8888888888888888,
              "#fdca26"
             ],
             [
              1.0,
              "#f0f921"
             ]
            ]
           }
          ],
          "contourcarpet": [
           {
            "type": "contourcarpet",
            "colorbar": {
             "outlinewidth": 0,
             "ticks": ""
            }
           }
          ],
          "contour": [
           {
            "type": "contour",
            "colorbar": {
             "outlinewidth": 0,
             "ticks": ""
            },
            "colorscale": [
             [
              0.0,
              "#0d0887"
             ],
             [
              0.1111111111111111,
              "#46039f"
             ],
             [
              0.2222222222222222,
              "#7201a8"
             ],
             [
              0.3333333333333333,
              "#9c179e"
             ],
             [
              0.4444444444444444,
              "#bd3786"
             ],
             [
              0.5555555555555556,
              "#d8576b"
             ],
             [
              0.6666666666666666,
              "#ed7953"
             ],
             [
              0.7777777777777778,
              "#fb9f3a"
             ],
             [
              0.8888888888888888,
              "#fdca26"
             ],
             [
              1.0,
              "#f0f921"
             ]
            ]
           }
          ],
          "surface": [
           {
            "type": "surface",
            "colorbar": {
             "outlinewidth": 0,
             "ticks": ""
            },
            "colorscale": [
             [
              0.0,
              "#0d0887"
             ],
             [
              0.1111111111111111,
              "#46039f"
             ],
             [
              0.2222222222222222,
              "#7201a8"
             ],
             [
              0.3333333333333333,
              "#9c179e"
             ],
             [
              0.4444444444444444,
              "#bd3786"
             ],
             [
              0.5555555555555556,
              "#d8576b"
             ],
             [
              0.6666666666666666,
              "#ed7953"
             ],
             [
              0.7777777777777778,
              "#fb9f3a"
             ],
             [
              0.8888888888888888,
              "#fdca26"
             ],
             [
              1.0,
              "#f0f921"
             ]
            ]
           }
          ],
          "mesh3d": [
           {
            "type": "mesh3d",
            "colorbar": {
             "outlinewidth": 0,
             "ticks": ""
            }
           }
          ],
          "scatter": [
           {
            "marker": {
             "line": {
              "color": "#283442"
             }
            },
            "type": "scatter"
           }
          ],
          "parcoords": [
           {
            "type": "parcoords",
            "line": {
             "colorbar": {
              "outlinewidth": 0,
              "ticks": ""
             }
            }
           }
          ],
          "scatterpolargl": [
           {
            "type": "scatterpolargl",
            "marker": {
             "colorbar": {
              "outlinewidth": 0,
              "ticks": ""
             }
            }
           }
          ],
          "bar": [
           {
            "error_x": {
             "color": "#f2f5fa"
            },
            "error_y": {
             "color": "#f2f5fa"
            },
            "marker": {
             "line": {
              "color": "rgb(17,17,17)",
              "width": 0.5
             },
             "pattern": {
              "fillmode": "overlay",
              "size": 10,
              "solidity": 0.2
             }
            },
            "type": "bar"
           }
          ],
          "scattergeo": [
           {
            "type": "scattergeo",
            "marker": {
             "colorbar": {
              "outlinewidth": 0,
              "ticks": ""
             }
            }
           }
          ],
          "scatterpolar": [
           {
            "type": "scatterpolar",
            "marker": {
             "colorbar": {
              "outlinewidth": 0,
              "ticks": ""
             }
            }
           }
          ],
          "histogram": [
           {
            "marker": {
             "pattern": {
              "fillmode": "overlay",
              "size": 10,
              "solidity": 0.2
             }
            },
            "type": "histogram"
           }
          ],
          "scattergl": [
           {
            "marker": {
             "line": {
              "color": "#283442"
             }
            },
            "type": "scattergl"
           }
          ],
          "scatter3d": [
           {
            "type": "scatter3d",
            "line": {
             "colorbar": {
              "outlinewidth": 0,
              "ticks": ""
             }
            },
            "marker": {
             "colorbar": {
              "outlinewidth": 0,
              "ticks": ""
             }
            }
           }
          ],
          "scattermapbox": [
           {
            "type": "scattermapbox",
            "marker": {
             "colorbar": {
              "outlinewidth": 0,
              "ticks": ""
             }
            }
           }
          ],
          "scatterternary": [
           {
            "type": "scatterternary",
            "marker": {
             "colorbar": {
              "outlinewidth": 0,
              "ticks": ""
             }
            }
           }
          ],
          "scattercarpet": [
           {
            "type": "scattercarpet",
            "marker": {
             "colorbar": {
              "outlinewidth": 0,
              "ticks": ""
             }
            }
           }
          ],
          "carpet": [
           {
            "aaxis": {
             "endlinecolor": "#A2B1C6",
             "gridcolor": "#506784",
             "linecolor": "#506784",
             "minorgridcolor": "#506784",
             "startlinecolor": "#A2B1C6"
            },
            "baxis": {
             "endlinecolor": "#A2B1C6",
             "gridcolor": "#506784",
             "linecolor": "#506784",
             "minorgridcolor": "#506784",
             "startlinecolor": "#A2B1C6"
            },
            "type": "carpet"
           }
          ],
          "table": [
           {
            "cells": {
             "fill": {
              "color": "#506784"
             },
             "line": {
              "color": "rgb(17,17,17)"
             }
            },
            "header": {
             "fill": {
              "color": "#2a3f5f"
             },
             "line": {
              "color": "rgb(17,17,17)"
             }
            },
            "type": "table"
           }
          ],
          "barpolar": [
           {
            "marker": {
             "line": {
              "color": "rgb(17,17,17)",
              "width": 0.5
             },
             "pattern": {
              "fillmode": "overlay",
              "size": 10,
              "solidity": 0.2
             }
            },
            "type": "barpolar"
           }
          ],
          "pie": [
           {
            "automargin": true,
            "type": "pie"
           }
          ]
         },
         "layout": {
          "autotypenumbers": "strict",
          "colorway": [
           "#636efa",
           "#EF553B",
           "#00cc96",
           "#ab63fa",
           "#FFA15A",
           "#19d3f3",
           "#FF6692",
           "#B6E880",
           "#FF97FF",
           "#FECB52"
          ],
          "font": {
           "color": "#f2f5fa"
          },
          "hovermode": "closest",
          "hoverlabel": {
           "align": "left"
          },
          "paper_bgcolor": "rgb(17,17,17)",
          "plot_bgcolor": "rgb(17,17,17)",
          "polar": {
           "bgcolor": "rgb(17,17,17)",
           "angularaxis": {
            "gridcolor": "#506784",
            "linecolor": "#506784",
            "ticks": ""
           },
           "radialaxis": {
            "gridcolor": "#506784",
            "linecolor": "#506784",
            "ticks": ""
           }
          },
          "ternary": {
           "bgcolor": "rgb(17,17,17)",
           "aaxis": {
            "gridcolor": "#506784",
            "linecolor": "#506784",
            "ticks": ""
           },
           "baxis": {
            "gridcolor": "#506784",
            "linecolor": "#506784",
            "ticks": ""
           },
           "caxis": {
            "gridcolor": "#506784",
            "linecolor": "#506784",
            "ticks": ""
           }
          },
          "coloraxis": {
           "colorbar": {
            "outlinewidth": 0,
            "ticks": ""
           }
          },
          "colorscale": {
           "sequential": [
            [
             0.0,
             "#0d0887"
            ],
            [
             0.1111111111111111,
             "#46039f"
            ],
            [
             0.2222222222222222,
             "#7201a8"
            ],
            [
             0.3333333333333333,
             "#9c179e"
            ],
            [
             0.4444444444444444,
             "#bd3786"
            ],
            [
             0.5555555555555556,
             "#d8576b"
            ],
            [
             0.6666666666666666,
             "#ed7953"
            ],
            [
             0.7777777777777778,
             "#fb9f3a"
            ],
            [
             0.8888888888888888,
             "#fdca26"
            ],
            [
             1.0,
             "#f0f921"
            ]
           ],
           "sequentialminus": [
            [
             0.0,
             "#0d0887"
            ],
            [
             0.1111111111111111,
             "#46039f"
            ],
            [
             0.2222222222222222,
             "#7201a8"
            ],
            [
             0.3333333333333333,
             "#9c179e"
            ],
            [
             0.4444444444444444,
             "#bd3786"
            ],
            [
             0.5555555555555556,
             "#d8576b"
            ],
            [
             0.6666666666666666,
             "#ed7953"
            ],
            [
             0.7777777777777778,
             "#fb9f3a"
            ],
            [
             0.8888888888888888,
             "#fdca26"
            ],
            [
             1.0,
             "#f0f921"
            ]
           ],
           "diverging": [
            [
             0,
             "#8e0152"
            ],
            [
             0.1,
             "#c51b7d"
            ],
            [
             0.2,
             "#de77ae"
            ],
            [
             0.3,
             "#f1b6da"
            ],
            [
             0.4,
             "#fde0ef"
            ],
            [
             0.5,
             "#f7f7f7"
            ],
            [
             0.6,
             "#e6f5d0"
            ],
            [
             0.7,
             "#b8e186"
            ],
            [
             0.8,
             "#7fbc41"
            ],
            [
             0.9,
             "#4d9221"
            ],
            [
             1,
             "#276419"
            ]
           ]
          },
          "xaxis": {
           "gridcolor": "#283442",
           "linecolor": "#506784",
           "ticks": "",
           "title": {
            "standoff": 15
           },
           "zerolinecolor": "#283442",
           "automargin": true,
           "zerolinewidth": 2
          },
          "yaxis": {
           "gridcolor": "#283442",
           "linecolor": "#506784",
           "ticks": "",
           "title": {
            "standoff": 15
           },
           "zerolinecolor": "#283442",
           "automargin": true,
           "zerolinewidth": 2
          },
          "scene": {
           "xaxis": {
            "backgroundcolor": "rgb(17,17,17)",
            "gridcolor": "#506784",
            "linecolor": "#506784",
            "showbackground": true,
            "ticks": "",
            "zerolinecolor": "#C8D4E3",
            "gridwidth": 2
           },
           "yaxis": {
            "backgroundcolor": "rgb(17,17,17)",
            "gridcolor": "#506784",
            "linecolor": "#506784",
            "showbackground": true,
            "ticks": "",
            "zerolinecolor": "#C8D4E3",
            "gridwidth": 2
           },
           "zaxis": {
            "backgroundcolor": "rgb(17,17,17)",
            "gridcolor": "#506784",
            "linecolor": "#506784",
            "showbackground": true,
            "ticks": "",
            "zerolinecolor": "#C8D4E3",
            "gridwidth": 2
           }
          },
          "shapedefaults": {
           "line": {
            "color": "#f2f5fa"
           }
          },
          "annotationdefaults": {
           "arrowcolor": "#f2f5fa",
           "arrowhead": 0,
           "arrowwidth": 1
          },
          "geo": {
           "bgcolor": "rgb(17,17,17)",
           "landcolor": "rgb(17,17,17)",
           "subunitcolor": "#506784",
           "showland": true,
           "showlakes": true,
           "lakecolor": "rgb(17,17,17)"
          },
          "title": {
           "x": 0.05
          },
          "updatemenudefaults": {
           "bgcolor": "#506784",
           "borderwidth": 0
          },
          "sliderdefaults": {
           "bgcolor": "#C8D4E3",
           "borderwidth": 1,
           "bordercolor": "rgb(17,17,17)",
           "tickwidth": 0
          },
          "mapbox": {
           "style": "dark"
          }
         }
        },
        "xaxis": {
         "anchor": "y",
         "domain": [
          0.0,
          1.0
         ],
         "title": {
          "text": "False Positive Rate"
         }
        },
        "yaxis": {
         "anchor": "x",
         "domain": [
          0.0,
          1.0
         ],
         "title": {
          "text": "True Positive Rate"
         }
        },
        "legend": {
         "tracegroupgap": 0
        },
        "title": {
         "text": "ROC Curve (AUC=0.8525)"
        },
        "height": 500,
        "width": 700,
        "shapes": [
         {
          "line": {
           "dash": "dash"
          },
          "type": "line",
          "x0": 0,
          "x1": 1,
          "y0": 0,
          "y1": 1
         }
        ]
       },
       "config": {
        "plotlyServerURL": "https://plot.ly"
       }
      },
      "text/html": "<div>                            <div id=\"2529ce43-9347-4889-be3e-7d559972a66d\" class=\"plotly-graph-div\" style=\"height:500px; width:700px;\"></div>            <script type=\"text/javascript\">                require([\"plotly\"], function(Plotly) {                    window.PLOTLYENV=window.PLOTLYENV || {};                                    if (document.getElementById(\"2529ce43-9347-4889-be3e-7d559972a66d\")) {                    Plotly.newPlot(                        \"2529ce43-9347-4889-be3e-7d559972a66d\",                        [{\"fillpattern\":{\"shape\":\"\"},\"hovertemplate\":\"False Positive Rate=%{x}<br>True Positive Rate=%{y}<extra></extra>\",\"legendgroup\":\"\",\"line\":{\"color\":\"#636efa\"},\"marker\":{\"symbol\":\"circle\"},\"mode\":\"lines\",\"name\":\"\",\"orientation\":\"v\",\"showlegend\":false,\"stackgroup\":\"1\",\"x\":[0.0,0.0,0.0,0.0,0.0,0.0009606147934678194,0.0009606147934678194,0.0009606147934678194,0.0009606147934678194,0.0009606147934678194,0.0009606147934678194,0.0009606147934678194,0.0009606147934678194,0.0009606147934678194,0.0009606147934678194,0.0009606147934678194,0.0009606147934678194,0.0009606147934678194,0.0009606147934678194,0.0009606147934678194,0.0009606147934678194,0.0009606147934678194,0.0009606147934678194,0.0009606147934678194,0.0009606147934678194,0.0019212295869356388,0.0019212295869356388,0.002881844380403458,0.0038424591738712775,0.0038424591738712775,0.004803073967339097,0.004803073967339097,0.005763688760806916,0.005763688760806916,0.005763688760806916,0.005763688760806916,0.005763688760806916,0.005763688760806916,0.005763688760806916,0.005763688760806916,0.005763688760806916,0.005763688760806916,0.005763688760806916,0.0067243035542747355,0.0067243035542747355,0.0067243035542747355,0.0067243035542747355,0.007684918347742555,0.007684918347742555,0.007684918347742555,0.007684918347742555,0.007684918347742555,0.007684918347742555,0.008645533141210375,0.009606147934678195,0.009606147934678195,0.009606147934678195,0.009606147934678195,0.009606147934678195,0.009606147934678195,0.009606147934678195,0.009606147934678195,0.009606147934678195,0.009606147934678195,0.009606147934678195,0.010566762728146013,0.010566762728146013,0.010566762728146013,0.010566762728146013,0.010566762728146013,0.011527377521613832,0.011527377521613832,0.011527377521613832,0.011527377521613832,0.011527377521613832,0.011527377521613832,0.011527377521613832,0.011527377521613832,0.011527377521613832,0.011527377521613832,0.011527377521613832,0.011527377521613832,0.012487992315081652,0.012487992315081652,0.013448607108549471,0.013448607108549471,0.013448607108549471,0.01440922190201729,0.01440922190201729,0.01440922190201729,0.01440922190201729,0.01440922190201729,0.01440922190201729,0.01536983669548511,0.01536983669548511,0.01536983669548511,0.01536983669548511,0.01825168107588857,0.01825168107588857,0.01921229586935639,0.01921229586935639,0.020172910662824207,0.020172910662824207,0.020172910662824207,0.021133525456292025,0.021133525456292025,0.021133525456292025,0.021133525456292025,0.022094140249759846,0.022094140249759846,0.023054755043227664,0.023054755043227664,0.023054755043227664,0.023054755043227664,0.023054755043227664,0.023054755043227664,0.023054755043227664,0.024015369836695485,0.024015369836695485,0.024015369836695485,0.024015369836695485,0.024015369836695485,0.024975984630163303,0.024975984630163303,0.024975984630163303,0.024975984630163303,0.024975984630163303,0.024975984630163303,0.025936599423631124,0.025936599423631124,0.025936599423631124,0.025936599423631124,0.025936599423631124,0.025936599423631124,0.026897214217098942,0.026897214217098942,0.026897214217098942,0.027857829010566763,0.027857829010566763,0.027857829010566763,0.027857829010566763,0.02881844380403458,0.02881844380403458,0.02881844380403458,0.02881844380403458,0.029779058597502402,0.029779058597502402,0.03073967339097022,0.03073967339097022,0.03170028818443804,0.03170028818443804,0.03170028818443804,0.03170028818443804,0.03266090297790586,0.03266090297790586,0.03362151777137368,0.03362151777137368,0.03554274735830932,0.03554274735830932,0.03554274735830932,0.03554274735830932,0.03554274735830932,0.03650336215177714,0.03650336215177714,0.03650336215177714,0.03650336215177714,0.037463976945244955,0.037463976945244955,0.040345821325648415,0.040345821325648415,0.040345821325648415,0.040345821325648415,0.043227665706051875,0.043227665706051875,0.04418828049951969,0.04418828049951969,0.04514889529298751,0.04514889529298751,0.04610951008645533,0.04610951008645533,0.04899135446685879,0.04899135446685879,0.049951969260326606,0.049951969260326606,0.05187319884726225,0.05187319884726225,0.05187319884726225,0.052833813640730067,0.052833813640730067,0.053794428434197884,0.053794428434197884,0.05475504322766571,0.05475504322766571,0.05475504322766571,0.056676272814601344,0.056676272814601344,0.056676272814601344,0.05763688760806916,0.05763688760806916,0.05859750240153699,0.05859750240153699,0.05859750240153699,0.05859750240153699,0.05859750240153699,0.05859750240153699,0.06051873198847262,0.06147934678194044,0.06147934678194044,0.06147934678194044,0.06243996157540826,0.06243996157540826,0.06243996157540826,0.06243996157540826,0.06340057636887608,0.06340057636887608,0.06340057636887608,0.06340057636887608,0.06532180595581172,0.06532180595581172,0.06628242074927954,0.06628242074927954,0.06628242074927954,0.06724303554274735,0.06724303554274735,0.06820365033621517,0.06820365033621517,0.06820365033621517,0.06820365033621517,0.06820365033621517,0.06820365033621517,0.069164265129683,0.069164265129683,0.069164265129683,0.069164265129683,0.069164265129683,0.07300672430355427,0.07300672430355427,0.07300672430355427,0.07300672430355427,0.07300672430355427,0.07300672430355427,0.07396733909702209,0.07396733909702209,0.07396733909702209,0.07396733909702209,0.07396733909702209,0.07396733909702209,0.07396733909702209,0.07492795389048991,0.07492795389048991,0.07588856868395773,0.07588856868395773,0.07780979827089338,0.07780979827089338,0.07973102785782901,0.07973102785782901,0.07973102785782901,0.08069164265129683,0.08069164265129683,0.08069164265129683,0.08069164265129683,0.08165225744476465,0.08165225744476465,0.08261287223823247,0.08261287223823247,0.08261287223823247,0.0845341018251681,0.0845341018251681,0.08645533141210375,0.08645533141210375,0.08645533141210375,0.08645533141210375,0.08645533141210375,0.08645533141210375,0.08645533141210375,0.08837656099903939,0.08837656099903939,0.08837656099903939,0.0893371757925072,0.0893371757925072,0.09029779058597502,0.09029779058597502,0.09125840537944284,0.09125840537944284,0.09317963496637849,0.09317963496637849,0.09317963496637849,0.09317963496637849,0.09317963496637849,0.0941402497598463,0.0941402497598463,0.09510086455331412,0.09510086455331412,0.09606147934678194,0.09606147934678194,0.09606147934678194,0.09606147934678194,0.09606147934678194,0.09606147934678194,0.09702209414024976,0.09702209414024976,0.09798270893371758,0.09798270893371758,0.09990393852065321,0.09990393852065321,0.10086455331412104,0.10086455331412104,0.10278578290105668,0.10278578290105668,0.1037463976945245,0.1037463976945245,0.1037463976945245,0.1037463976945245,0.10566762728146013,0.10566762728146013,0.10662824207492795,0.10662824207492795,0.10758885686839577,0.10758885686839577,0.10758885686839577,0.10854947166186359,0.10854947166186359,0.10854947166186359,0.10951008645533142,0.10951008645533142,0.11047070124879924,0.11047070124879924,0.11143131604226705,0.11143131604226705,0.11239193083573487,0.11239193083573487,0.11239193083573487,0.11239193083573487,0.11335254562920269,0.11335254562920269,0.11335254562920269,0.11335254562920269,0.11335254562920269,0.11335254562920269,0.1143131604226705,0.1143131604226705,0.1143131604226705,0.1143131604226705,0.1143131604226705,0.1143131604226705,0.11527377521613832,0.11527377521613832,0.11623439000960614,0.11623439000960614,0.11623439000960614,0.11815561959654179,0.11815561959654179,0.12199807877041306,0.12199807877041306,0.1239193083573487,0.1239193083573487,0.1239193083573487,0.12584053794428435,0.12584053794428435,0.12680115273775217,0.12680115273775217,0.12968299711815562,0.12968299711815562,0.12968299711815562,0.13064361191162344,0.13064361191162344,0.13064361191162344,0.13256484149855907,0.13256484149855907,0.1344860710854947,0.1344860710854947,0.13544668587896252,0.13544668587896252,0.13640730067243034,0.13640730067243034,0.13640730067243034,0.1373679154658982,0.1373679154658982,0.14121037463976946,0.14121037463976946,0.1431316042267051,0.14505283381364073,0.14505283381364073,0.14601344860710855,0.14601344860710855,0.14793467819404418,0.14793467819404418,0.148895292987512,0.148895292987512,0.14985590778097982,0.14985590778097982,0.15177713736791545,0.15177713736791545,0.15369836695485112,0.15369836695485112,0.15369836695485112,0.15465898174831894,0.15465898174831894,0.1585014409221902,0.1585014409221902,0.1585014409221902,0.15946205571565802,0.15946205571565802,0.15946205571565802,0.15946205571565802,0.16042267050912584,0.16042267050912584,0.16234390009606148,0.16234390009606148,0.16234390009606148,0.16234390009606148,0.16234390009606148,0.16234390009606148,0.16522574447646493,0.16522574447646493,0.16618635926993275,0.16618635926993275,0.16714697406340057,0.16714697406340057,0.16810758885686838,0.16810758885686838,0.1690682036503362,0.1690682036503362,0.17002881844380405,0.17002881844380405,0.17098943323727187,0.17098943323727187,0.17195004803073968,0.17195004803073968,0.17195004803073968,0.17195004803073968,0.1729106628242075,0.1729106628242075,0.1729106628242075,0.17387127761767532,0.17387127761767532,0.17483189241114314,0.17483189241114314,0.1777137367915466,0.1777137367915466,0.17963496637848222,0.18059558117195004,0.18059558117195004,0.1834774255523535,0.1834774255523535,0.1844380403458213,0.1844380403458213,0.1844380403458213,0.18539865513928913,0.18539865513928913,0.18924111431316043,0.18924111431316043,0.19020172910662825,0.19020172910662825,0.19212295869356388,0.19212295869356388,0.19212295869356388,0.19212295869356388,0.19212295869356388,0.19212295869356388,0.19404418828049952,0.19404418828049952,0.19500480307396734,0.19500480307396734,0.19596541786743515,0.19596541786743515,0.19692603266090297,0.19692603266090297,0.1978866474543708,0.1978866474543708,0.20076849183477424,0.20076849183477424,0.2017291066282421,0.2017291066282421,0.2026897214217099,0.2026897214217099,0.20365033621517772,0.20365033621517772,0.20365033621517772,0.20461095100864554,0.20461095100864554,0.20653218059558118,0.20653218059558118,0.207492795389049,0.207492795389049,0.2084534101825168,0.2084534101825168,0.20941402497598463,0.20941402497598463,0.21229586935638808,0.21229586935638808,0.21229586935638808,0.21517771373679154,0.21517771373679154,0.21613832853025935,0.21613832853025935,0.21709894332372717,0.21709894332372717,0.21709894332372717,0.22574447646493756,0.22574447646493756,0.22670509125840538,0.22670509125840538,0.228626320845341,0.228626320845341,0.22958693563880883,0.22958693563880883,0.23150816522574447,0.23150816522574447,0.23150816522574447,0.23439000960614795,0.23439000960614795,0.23631123919308358,0.23631123919308358,0.2372718539865514,0.2372718539865514,0.23823246878001922,0.23823246878001922,0.23919308357348704,0.24015369836695485,0.24111431316042267,0.24111431316042267,0.2420749279538905,0.2420749279538905,0.2430355427473583,0.2430355427473583,0.2430355427473583,0.2430355427473583,0.2478386167146974,0.2478386167146974,0.2478386167146974,0.2478386167146974,0.2507204610951009,0.2507204610951009,0.2507204610951009,0.2507204610951009,0.2507204610951009,0.2507204610951009,0.2516810758885687,0.2526416906820365,0.2526416906820365,0.2526416906820365,0.25456292026897215,0.25456292026897215,0.25552353506243997,0.25552353506243997,0.2584053794428434,0.2584053794428434,0.2612872238232469,0.2612872238232469,0.2622478386167147,0.2622478386167147,0.2622478386167147,0.2632084534101825,0.2632084534101825,0.2632084534101825,0.26512968299711814,0.26512968299711814,0.2670509125840538,0.2670509125840538,0.2670509125840538,0.2670509125840538,0.2680115273775216,0.2680115273775216,0.2680115273775216,0.2689721421709894,0.2689721421709894,0.2689721421709894,0.2689721421709894,0.2689721421709894,0.27185398655139287,0.27185398655139287,0.2728146013448607,0.2728146013448607,0.2728146013448607,0.2737752161383285,0.2737752161383285,0.2747358309317964,0.2747358309317964,0.276657060518732,0.276657060518732,0.27761767531219983,0.27761767531219983,0.27953890489913547,0.27953890489913547,0.2814601344860711,0.2824207492795389,0.28338136407300674,0.28338136407300674,0.28434197886647455,0.28434197886647455,0.2862632084534102,0.2862632084534102,0.2862632084534102,0.287223823246878,0.287223823246878,0.2881844380403458,0.2881844380403458,0.2910662824207493,0.2910662824207493,0.2910662824207493,0.29394812680115273,0.29394812680115273,0.29394812680115273,0.29490874159462055,0.29490874159462055,0.29586935638808837,0.29586935638808837,0.2987512007684918,0.2987512007684918,0.29971181556195964,0.29971181556195964,0.30067243035542746,0.30067243035542746,0.3025936599423631,0.3025936599423631,0.30739673390970224,0.30739673390970224,0.30835734870317005,0.30835734870317005,0.3121998078770413,0.3121998078770413,0.31412103746397696,0.31412103746397696,0.31412103746397696,0.31412103746397696,0.31412103746397696,0.3150816522574448,0.3150816522574448,0.3170028818443804,0.3170028818443804,0.3208453410182517,0.3208453410182517,0.3208453410182517,0.3208453410182517,0.3208453410182517,0.3208453410182517,0.3227665706051873,0.3227665706051873,0.3227665706051873,0.32468780019212296,0.32468780019212296,0.3256484149855908,0.3256484149855908,0.3275696445725264,0.3275696445725264,0.3333333333333333,0.3333333333333333,0.33525456292026895,0.33525456292026895,0.33525456292026895,0.3371757925072046,0.3371757925072046,0.3400576368876081,0.3400576368876081,0.3410182516810759,0.3410182516810759,0.34197886647454373,0.34197886647454373,0.34390009606147937,0.34390009606147937,0.34390009606147937,0.34774255523535064,0.34774255523535064,0.34966378482228627,0.34966378482228627,0.3515850144092219,0.3515850144092219,0.35350624399615754,0.35350624399615754,0.3554274735830932,0.3554274735830932,0.356388088376561,0.356388088376561,0.3621517771373679,0.3621517771373679,0.3631123919308357,0.3631123919308357,0.3631123919308357,0.36407300672430354,0.36407300672430354,0.366954851104707,0.366954851104707,0.366954851104707,0.3679154658981748,0.3679154658981748,0.36983669548511044,0.36983669548511044,0.37175792507204614,0.37175792507204614,0.37367915465898177,0.37367915465898177,0.3765609990393852,0.3765609990393852,0.37752161383285304,0.37752161383285304,0.3804034582132565,0.3804034582132565,0.3813640730067243,0.3813640730067243,0.3813640730067243,0.38808837656099904,0.38808837656099904,0.38904899135446686,0.38904899135446686,0.39481268011527376,0.39481268011527376,0.39865513928914503,0.39865513928914503,0.4015369836695485,0.4015369836695485,0.4034582132564842,0.4034582132564842,0.404418828049952,0.404418828049952,0.4053794428434198,0.4053794428434198,0.4101825168107589,0.4101825168107589,0.41210374639769454,0.41210374639769454,0.4140249759846302,0.414985590778098,0.4217098943323727,0.4217098943323727,0.42459173871277617,0.42459173871277617,0.425552353506244,0.425552353506244,0.4313160422670509,0.4313160422670509,0.4322766570605187,0.4322766570605187,0.43515850144092216,0.43515850144092216,0.4409221902017291,0.44188280499519694,0.4438040345821326,0.4438040345821326,0.4495677233429395,0.4495677233429395,0.4553314121037464,0.4553314121037464,0.4562920268972142,0.4562920268972142,0.4601344860710855,0.4601344860710855,0.4668587896253602,0.4668587896253602,0.47070124879923153,0.47070124879923153,0.47646493756003844,0.47646493756003844,0.48318924111431316,0.48318924111431316,0.4851104707012488,0.4851104707012488,0.48703170028818443,0.48703170028818443,0.4908741594620557,0.4908741594620557,0.49279538904899134,0.49279538904899134,0.494716618635927,0.494716618635927,0.49855907780979825,0.49855907780979825,0.49855907780979825,0.5004803073967339,0.5004803073967339,0.5004803073967339,0.5014409221902018,0.5014409221902018,0.5043227665706052,0.5043227665706052,0.5120076849183477,0.5139289145052833,0.5177713736791547,0.5177713736791547,0.521613832853026,0.521613832853026,0.5350624399615754,0.5350624399615754,0.5600384245917387,0.5600384245917387,0.5648414985590778,0.5648414985590778,0.5773294908741594,0.5773294908741594,0.590778097982709,0.590778097982709,0.5917387127761767,0.5917387127761767,0.6051873198847262,0.6051873198847262,0.6493756003842459,0.6493756003842459,0.6532180595581172,0.6532180595581172,0.6705091258405379,0.6705091258405379,0.6887608069164265,0.6887608069164265,0.6983669548511047,0.6983669548511047,0.7098943323727186,0.7098943323727186,0.7425552353506244,0.7425552353506244,0.7588856868395774,0.760806916426513,0.7713736791546589,0.7732949087415946,0.7857829010566763,0.7886647454370798,0.803073967339097,0.8049951969260326,0.829971181556196,0.829971181556196,0.829971181556196,0.8318924111431316,0.834774255523535,0.8357348703170029,0.8357348703170029,0.8424591738712777,0.8443804034582133,0.8933717579250721,0.8933717579250721,0.8962536023054755,0.8981748318924111,0.9077809798270894,0.9077809798270894,0.9269932756964457,0.9289145052833814,1.0],\"xaxis\":\"x\",\"y\":[0.0,0.0008984725965858042,0.0017969451931716084,0.0035938903863432167,0.004492362982929021,0.004492362982929021,0.006289308176100629,0.008086253369272238,0.016172506738544475,0.017969451931716084,0.018867924528301886,0.022461814914645103,0.02336028751123091,0.026954177897574125,0.028751123090745734,0.030548068283917342,0.031446540880503145,0.03324348607367475,0.03593890386343217,0.039532794249775384,0.0431266846361186,0.044923629829290206,0.04851752021563342,0.053009883198562445,0.05390835579514825,0.05480682839173405,0.055705300988319856,0.055705300988319856,0.05750224618149147,0.05840071877807727,0.05929919137466307,0.06019766397124888,0.06019766397124888,0.061096136567834684,0.0637915543575921,0.06558849955076371,0.0673854447439353,0.07187780772686433,0.07367475292003593,0.07547169811320754,0.07726864330637916,0.08355795148247978,0.08715184186882301,0.08715184186882301,0.0880503144654088,0.08984725965858041,0.09074573225516622,0.09074573225516622,0.09344115004492363,0.09433962264150944,0.09793351302785265,0.09883198562443846,0.10512129380053908,0.1096136567834681,0.1096136567834681,0.11141060197663971,0.11500449236298294,0.11680143755615453,0.11769991015274034,0.11949685534591195,0.12219227313566937,0.1275831087151842,0.1293800539083558,0.13117699910152741,0.1320754716981132,0.1320754716981132,0.13566936208445643,0.13746630727762804,0.14016172506738545,0.14195867026055706,0.14195867026055706,0.14285714285714285,0.14645103324348607,0.14734950584007186,0.14914645103324348,0.1527403414195867,0.1545372866127583,0.15633423180592992,0.15813117699910154,0.15992812219227315,0.16172506738544473,0.16711590296495957,0.16711590296495957,0.1725067385444744,0.1725067385444744,0.17430368373764601,0.1761006289308176,0.1761006289308176,0.17699910152740342,0.17969451931716082,0.18418688230008984,0.18688230008984727,0.18867924528301888,0.18957771787960467,0.19047619047619047,0.1940700808625337,0.20125786163522014,0.20125786163522014,0.20485175202156333,0.20575022461814915,0.21293800539083557,0.21293800539083557,0.2138364779874214,0.215633423180593,0.215633423180593,0.2174303683737646,0.2183288409703504,0.22192273135669363,0.22282120395327942,0.22641509433962265,0.22641509433962265,0.22821203953279426,0.23000898472596587,0.23180592991913745,0.23270440251572327,0.23450134770889489,0.2362982929020665,0.2362982929020665,0.23809523809523808,0.2398921832884097,0.2416891284815813,0.24348607367475292,0.24348607367475292,0.24438454627133874,0.24797843665768193,0.24887690925426775,0.25067385444743934,0.2551662174303684,0.2551662174303684,0.2560646900269542,0.25965858041329737,0.2605570530098832,0.26235399820305483,0.26504941599281223,0.26504941599281223,0.2668463611859838,0.26864330637915546,0.26864330637915546,0.27044025157232704,0.2722371967654987,0.27313566936208444,0.27313566936208444,0.2749326145552561,0.27672955974842767,0.2785265049415993,0.2785265049415993,0.27942497753818507,0.27942497753818507,0.2812219227313567,0.2812219227313567,0.2830188679245283,0.28481581311769993,0.2857142857142857,0.2857142857142857,0.28751123090745734,0.28751123090745734,0.2920035938903863,0.2920035938903863,0.29469901168014373,0.29649595687331537,0.2973944294699012,0.2991913746630728,0.2991913746630728,0.30098831985624436,0.302785265049416,0.3036837376460018,0.3036837376460018,0.3045822102425876,0.3045822102425876,0.3063791554357592,0.3090745732255166,0.3108715184186882,0.3108715184186882,0.31176999101527403,0.31176999101527403,0.31266846361185985,0.31266846361185985,0.31626235399820307,0.31626235399820307,0.31805929919137466,0.31805929919137466,0.3198562443845463,0.3198562443845463,0.32075471698113206,0.32075471698113206,0.3225516621743037,0.32345013477088946,0.32345013477088946,0.3252470799640611,0.3252470799640611,0.3270440251572327,0.3270440251572327,0.33243486073674755,0.3360287511230907,0.3360287511230907,0.34591194968553457,0.3477088948787062,0.3477088948787062,0.34860736747529203,0.34860736747529203,0.35399820305480684,0.3557951482479784,0.35759209344115006,0.35938903863432164,0.36208445642407905,0.36208445642407905,0.36208445642407905,0.36298292902066487,0.3656783468104223,0.3656783468104223,0.3692722371967655,0.3710691823899371,0.3719676549865229,0.3719676549865229,0.3728661275831087,0.3746630727762803,0.37735849056603776,0.37735849056603776,0.38005390835579517,0.38005390835579517,0.38185085354896675,0.3836477987421384,0.3836477987421384,0.38544474393531,0.38544474393531,0.3890386343216532,0.3908355795148248,0.3917340521114106,0.3953279424977538,0.39622641509433965,0.39802336028751123,0.40341419586702604,0.4052111410601977,0.40610961365678344,0.4079065588499551,0.4079065588499551,0.4132973944294699,0.41509433962264153,0.4168912848158131,0.41868823000898475,0.4195867026055705,0.42138364779874216,0.42318059299191374,0.42857142857142855,0.4303683737646002,0.4330637915543576,0.4348607367475292,0.4393530997304582,0.4393530997304582,0.44025157232704404,0.44025157232704404,0.4411500449236298,0.4411500449236298,0.444743935309973,0.444743935309973,0.4474393530997305,0.44923629829290207,0.44923629829290207,0.45103324348607365,0.4528301886792453,0.4546271338724169,0.4546271338724169,0.4564240790655885,0.4564240790655885,0.4582210242587601,0.4591194968553459,0.4591194968553459,0.4609164420485175,0.4609164420485175,0.46451033243486073,0.46630727762803237,0.46810422282120395,0.46990116801437554,0.47349505840071876,0.4752920035938904,0.4752920035938904,0.477088948787062,0.4779874213836478,0.4779874213836478,0.4788858939802336,0.4788858939802336,0.48247978436657685,0.48247978436657685,0.48427672955974843,0.48427672955974843,0.48607367475292,0.49326145552560646,0.4968553459119497,0.4977538185085355,0.4977538185085355,0.49865229110512127,0.49865229110512127,0.5004492362982929,0.5004492362982929,0.5040431266846361,0.5058400718778078,0.5085354896675651,0.5094339622641509,0.5112309074573226,0.5112309074573226,0.5139263252470799,0.5139263252470799,0.5157232704402516,0.5157232704402516,0.5166217430368374,0.5166217430368374,0.5175202156334232,0.5175202156334232,0.518418688230009,0.518418688230009,0.5193171608265947,0.5211141060197664,0.5220125786163522,0.5220125786163522,0.522911051212938,0.522911051212938,0.5256064690026954,0.5265049415992812,0.5283018867924528,0.5300988319856245,0.5300988319856245,0.5336927223719676,0.5372866127583109,0.5372866127583109,0.5381850853548967,0.5381850853548967,0.5408805031446541,0.5408805031446541,0.5453728661275831,0.5453728661275831,0.5462713387241689,0.5480682839173405,0.5489667565139263,0.5489667565139263,0.5525606469002695,0.555256064690027,0.5570530098831986,0.5606469002695418,0.5633423180592992,0.5633423180592992,0.5669362084456424,0.5696316262353999,0.5714285714285714,0.5723270440251572,0.5741239892183289,0.5741239892183289,0.5759209344115005,0.5759209344115005,0.577717879604672,0.5813117699910153,0.5813117699910153,0.5831087151841868,0.5831087151841868,0.5840071877807727,0.5840071877807727,0.5867026055705301,0.5884995507637018,0.5884995507637018,0.5920934411500449,0.5920934411500449,0.5947888589398024,0.5947888589398024,0.5965858041329739,0.5974842767295597,0.5974842767295597,0.6001796945193172,0.6019766397124887,0.6019766397124887,0.6028751123090745,0.6028751123090745,0.6046720575022462,0.6046720575022462,0.605570530098832,0.605570530098832,0.6109613656783468,0.6118598382749326,0.6118598382749326,0.6136567834681043,0.6136567834681043,0.6145552560646901,0.6154537286612758,0.6154537286612758,0.6172506738544474,0.6172506738544474,0.6181491464510332,0.6181491464510332,0.6190476190476191,0.6190476190476191,0.6199460916442049,0.6199460916442049,0.6217430368373764,0.6217430368373764,0.6244384546271339,0.6244384546271339,0.6262353998203055,0.628032345013477,0.628032345013477,0.6298292902066487,0.6298292902066487,0.633423180592992,0.6343216531895777,0.6343216531895777,0.6352201257861635,0.6388140161725068,0.6415094339622641,0.6415094339622641,0.6424079065588499,0.6424079065588499,0.6442048517520216,0.6451033243486074,0.6522911051212938,0.6531895777178796,0.6549865229110512,0.6549865229110512,0.6567834681042228,0.6567834681042228,0.6585804132973945,0.6585804132973945,0.6621743036837376,0.6621743036837376,0.6639712488769093,0.6639712488769093,0.6666666666666666,0.6666666666666666,0.6693620844564241,0.6693620844564241,0.6702605570530099,0.6702605570530099,0.6720575022461814,0.6738544474393531,0.6747529200359389,0.6747529200359389,0.6765498652291105,0.6774483378256964,0.6774483378256964,0.6801437556154537,0.6801437556154537,0.6819407008086253,0.6819407008086253,0.6855345911949685,0.6855345911949685,0.6855345911949685,0.6864330637915543,0.6864330637915543,0.688230008984726,0.688230008984726,0.6909254267744834,0.692722371967655,0.692722371967655,0.6945193171608266,0.6945193171608266,0.6954177897574124,0.6954177897574124,0.6963162623539982,0.6972147349505841,0.7008086253369272,0.7035040431266847,0.7044025157232704,0.7088948787061995,0.7097933513027853,0.7097933513027853,0.710691823899371,0.710691823899371,0.7124887690925427,0.7124887690925427,0.7151841868823001,0.7151841868823001,0.7169811320754716,0.7169811320754716,0.7178796046720575,0.7178796046720575,0.7187780772686433,0.7187780772686433,0.7196765498652291,0.7196765498652291,0.7205750224618149,0.7205750224618149,0.7241689128481581,0.7259658580413297,0.7259658580413297,0.7268643306379156,0.7268643306379156,0.7295597484276729,0.7295597484276729,0.7304582210242587,0.7304582210242587,0.7313566936208445,0.7313566936208445,0.7322551662174304,0.7322551662174304,0.7349505840071878,0.7367475292003594,0.7367475292003594,0.7376460017969452,0.7376460017969452,0.738544474393531,0.738544474393531,0.7394429469901168,0.7412398921832885,0.7412398921832885,0.7439353099730458,0.7439353099730458,0.7457322551662174,0.7457322551662174,0.7466307277628033,0.7466307277628033,0.7475292003593891,0.7475292003593891,0.7493261455525606,0.7502246181491464,0.7502246181491464,0.7529200359389039,0.7529200359389039,0.7538185085354897,0.7538185085354897,0.7547169811320755,0.7547169811320755,0.756513926325247,0.756513926325247,0.7583108715184187,0.7583108715184187,0.7601078167115903,0.7601078167115903,0.7619047619047619,0.7619047619047619,0.7654986522911051,0.7681940700808625,0.7690925426774483,0.7690925426774483,0.77088948787062,0.7735849056603774,0.7753818508535489,0.7753818508535489,0.7771787960467206,0.7789757412398922,0.784366576819407,0.7861635220125787,0.7870619946091644,0.788858939802336,0.788858939802336,0.7915543575920935,0.793351302785265,0.793351302785265,0.7960467205750225,0.7960467205750225,0.7969451931716083,0.7969451931716083,0.7978436657681941,0.7978436657681941,0.7996406109613656,0.7996406109613656,0.8005390835579514,0.8023360287511231,0.8023360287511231,0.8041329739442947,0.8086253369272237,0.8086253369272237,0.8104222821203954,0.8104222821203954,0.8122192273135669,0.8149146451033243,0.816711590296496,0.816711590296496,0.8176100628930818,0.8194070080862533,0.8194070080862533,0.8203054806828391,0.8221024258760108,0.8238993710691824,0.825696316262354,0.825696316262354,0.8265947888589398,0.8265947888589398,0.8301886792452831,0.8310871518418689,0.8310871518418689,0.8319856244384546,0.8319856244384546,0.8328840970350404,0.8328840970350404,0.8337825696316262,0.8337825696316262,0.834681042228212,0.834681042228212,0.8355795148247979,0.8355795148247979,0.8373764600179695,0.8373764600179695,0.8382749326145552,0.8382749326145552,0.839173405211141,0.839173405211141,0.8409703504043127,0.8418688230008985,0.8418688230008985,0.8427672955974843,0.8427672955974843,0.8436657681940701,0.8436657681940701,0.8445642407906558,0.8463611859838275,0.8463611859838275,0.8499550763701708,0.8517520215633423,0.8517520215633423,0.8535489667565139,0.8535489667565139,0.8544474393530997,0.8544474393530997,0.8553459119496856,0.8553459119496856,0.8562443845462714,0.8562443845462714,0.8571428571428571,0.8571428571428571,0.8580413297394429,0.8580413297394429,0.8589398023360287,0.8589398023360287,0.8598382749326146,0.8598382749326146,0.8607367475292004,0.8607367475292004,0.8616352201257862,0.8634321653189577,0.8652291105121294,0.867026055705301,0.867026055705301,0.8679245283018868,0.8679245283018868,0.8688230008984726,0.8688230008984726,0.8706199460916442,0.8733153638814016,0.8787061994609164,0.8805031446540881,0.8814016172506739,0.8814016172506739,0.8823000898472596,0.8840970350404312,0.8840970350404312,0.8849955076370171,0.8849955076370171,0.8867924528301887,0.8867924528301887,0.8876909254267745,0.8876909254267745,0.8885893980233602,0.8885893980233602,0.889487870619946,0.8912848158131177,0.8912848158131177,0.8921832884097035,0.8921832884097035,0.8930817610062893,0.8930817610062893,0.8939802336028752,0.8939802336028752,0.894878706199461,0.894878706199461,0.8966756513926325,0.89937106918239,0.89937106918239,0.9002695417789758,0.9002695417789758,0.9011680143755616,0.9011680143755616,0.9020664869721473,0.9020664869721473,0.9029649595687331,0.9029649595687331,0.903863432165319,0.903863432165319,0.9056603773584906,0.9056603773584906,0.9065588499550764,0.9065588499550764,0.9074573225516622,0.9092542677448338,0.9092542677448338,0.9110512129380054,0.9110512129380054,0.912848158131177,0.9146451033243486,0.9146451033243486,0.9155435759209344,0.9155435759209344,0.917340521114106,0.917340521114106,0.9191374663072777,0.9191374663072777,0.9200359389038635,0.9200359389038635,0.9209344115004492,0.9209344115004492,0.921832884097035,0.921832884097035,0.9227313566936208,0.9227313566936208,0.9236298292902066,0.9254267744833783,0.9254267744833783,0.9272237196765498,0.9272237196765498,0.9290206648697215,0.9290206648697215,0.9299191374663073,0.9299191374663073,0.9308176100628931,0.9308176100628931,0.9317160826594789,0.9317160826594789,0.9335130278526504,0.9335130278526504,0.9344115004492363,0.9344115004492363,0.9353099730458221,0.9353099730458221,0.9362084456424079,0.9362084456424079,0.9380053908355795,0.9380053908355795,0.9398023360287511,0.9398023360287511,0.9407008086253369,0.9407008086253369,0.9415992812219227,0.9415992812219227,0.9424977538185085,0.9424977538185085,0.9442946990116802,0.9442946990116802,0.945193171608266,0.945193171608266,0.9469901168014375,0.9469901168014375,0.9478885893980233,0.9478885893980233,0.9487870619946092,0.9487870619946092,0.9505840071877808,0.9505840071877808,0.9514824797843666,0.9514824797843666,0.9523809523809523,0.9523809523809523,0.9532794249775381,0.9532794249775381,0.954177897574124,0.954177897574124,0.9550763701707098,0.9550763701707098,0.9559748427672956,0.9559748427672956,0.9577717879604672,0.9577717879604672,0.958670260557053,0.958670260557053,0.9595687331536388,0.9595687331536388,0.9604672057502246,0.9604672057502246,0.9613656783468104,0.9613656783468104,0.9622641509433962,0.9622641509433962,0.9640610961365679,0.9658580413297394,0.9658580413297394,0.9667565139263252,0.9685534591194969,0.9685534591194969,0.9694519317160827,0.9694519317160827,0.9703504043126685,0.9703504043126685,0.9703504043126685,0.9703504043126685,0.97214734950584,0.97214734950584,0.9739442946990117,0.9739442946990117,0.9748427672955975,0.9748427672955975,0.9757412398921833,0.9757412398921833,0.9766397124887691,0.9766397124887691,0.977538185085355,0.977538185085355,0.9793351302785265,0.9793351302785265,0.9802336028751123,0.9802336028751123,0.9820305480682839,0.9820305480682839,0.9829290206648698,0.9829290206648698,0.9865229110512129,0.9865229110512129,0.9874213836477987,0.9874213836477987,0.9883198562443846,0.9883198562443846,0.9892183288409704,0.9892183288409704,0.9901168014375562,0.9901168014375562,0.9910152740341419,0.9910152740341419,0.9910152740341419,0.9910152740341419,0.9910152740341419,0.9910152740341419,0.9910152740341419,0.9910152740341419,0.9910152740341419,0.9910152740341419,0.9937106918238994,0.9946091644204852,0.9946091644204852,0.9946091644204852,0.9946091644204852,0.9964061096136568,0.9964061096136568,0.9964061096136568,0.9964061096136568,0.9982030548068284,0.9982030548068284,0.9982030548068284,0.9982030548068284,1.0,1.0,1.0,1.0],\"yaxis\":\"y\",\"type\":\"scatter\"}],                        {\"template\":{\"data\":{\"histogram2dcontour\":[{\"type\":\"histogram2dcontour\",\"colorbar\":{\"outlinewidth\":0,\"ticks\":\"\"},\"colorscale\":[[0.0,\"#0d0887\"],[0.1111111111111111,\"#46039f\"],[0.2222222222222222,\"#7201a8\"],[0.3333333333333333,\"#9c179e\"],[0.4444444444444444,\"#bd3786\"],[0.5555555555555556,\"#d8576b\"],[0.6666666666666666,\"#ed7953\"],[0.7777777777777778,\"#fb9f3a\"],[0.8888888888888888,\"#fdca26\"],[1.0,\"#f0f921\"]]}],\"choropleth\":[{\"type\":\"choropleth\",\"colorbar\":{\"outlinewidth\":0,\"ticks\":\"\"}}],\"histogram2d\":[{\"type\":\"histogram2d\",\"colorbar\":{\"outlinewidth\":0,\"ticks\":\"\"},\"colorscale\":[[0.0,\"#0d0887\"],[0.1111111111111111,\"#46039f\"],[0.2222222222222222,\"#7201a8\"],[0.3333333333333333,\"#9c179e\"],[0.4444444444444444,\"#bd3786\"],[0.5555555555555556,\"#d8576b\"],[0.6666666666666666,\"#ed7953\"],[0.7777777777777778,\"#fb9f3a\"],[0.8888888888888888,\"#fdca26\"],[1.0,\"#f0f921\"]]}],\"heatmap\":[{\"type\":\"heatmap\",\"colorbar\":{\"outlinewidth\":0,\"ticks\":\"\"},\"colorscale\":[[0.0,\"#0d0887\"],[0.1111111111111111,\"#46039f\"],[0.2222222222222222,\"#7201a8\"],[0.3333333333333333,\"#9c179e\"],[0.4444444444444444,\"#bd3786\"],[0.5555555555555556,\"#d8576b\"],[0.6666666666666666,\"#ed7953\"],[0.7777777777777778,\"#fb9f3a\"],[0.8888888888888888,\"#fdca26\"],[1.0,\"#f0f921\"]]}],\"heatmapgl\":[{\"type\":\"heatmapgl\",\"colorbar\":{\"outlinewidth\":0,\"ticks\":\"\"},\"colorscale\":[[0.0,\"#0d0887\"],[0.1111111111111111,\"#46039f\"],[0.2222222222222222,\"#7201a8\"],[0.3333333333333333,\"#9c179e\"],[0.4444444444444444,\"#bd3786\"],[0.5555555555555556,\"#d8576b\"],[0.6666666666666666,\"#ed7953\"],[0.7777777777777778,\"#fb9f3a\"],[0.8888888888888888,\"#fdca26\"],[1.0,\"#f0f921\"]]}],\"contourcarpet\":[{\"type\":\"contourcarpet\",\"colorbar\":{\"outlinewidth\":0,\"ticks\":\"\"}}],\"contour\":[{\"type\":\"contour\",\"colorbar\":{\"outlinewidth\":0,\"ticks\":\"\"},\"colorscale\":[[0.0,\"#0d0887\"],[0.1111111111111111,\"#46039f\"],[0.2222222222222222,\"#7201a8\"],[0.3333333333333333,\"#9c179e\"],[0.4444444444444444,\"#bd3786\"],[0.5555555555555556,\"#d8576b\"],[0.6666666666666666,\"#ed7953\"],[0.7777777777777778,\"#fb9f3a\"],[0.8888888888888888,\"#fdca26\"],[1.0,\"#f0f921\"]]}],\"surface\":[{\"type\":\"surface\",\"colorbar\":{\"outlinewidth\":0,\"ticks\":\"\"},\"colorscale\":[[0.0,\"#0d0887\"],[0.1111111111111111,\"#46039f\"],[0.2222222222222222,\"#7201a8\"],[0.3333333333333333,\"#9c179e\"],[0.4444444444444444,\"#bd3786\"],[0.5555555555555556,\"#d8576b\"],[0.6666666666666666,\"#ed7953\"],[0.7777777777777778,\"#fb9f3a\"],[0.8888888888888888,\"#fdca26\"],[1.0,\"#f0f921\"]]}],\"mesh3d\":[{\"type\":\"mesh3d\",\"colorbar\":{\"outlinewidth\":0,\"ticks\":\"\"}}],\"scatter\":[{\"marker\":{\"line\":{\"color\":\"#283442\"}},\"type\":\"scatter\"}],\"parcoords\":[{\"type\":\"parcoords\",\"line\":{\"colorbar\":{\"outlinewidth\":0,\"ticks\":\"\"}}}],\"scatterpolargl\":[{\"type\":\"scatterpolargl\",\"marker\":{\"colorbar\":{\"outlinewidth\":0,\"ticks\":\"\"}}}],\"bar\":[{\"error_x\":{\"color\":\"#f2f5fa\"},\"error_y\":{\"color\":\"#f2f5fa\"},\"marker\":{\"line\":{\"color\":\"rgb(17,17,17)\",\"width\":0.5},\"pattern\":{\"fillmode\":\"overlay\",\"size\":10,\"solidity\":0.2}},\"type\":\"bar\"}],\"scattergeo\":[{\"type\":\"scattergeo\",\"marker\":{\"colorbar\":{\"outlinewidth\":0,\"ticks\":\"\"}}}],\"scatterpolar\":[{\"type\":\"scatterpolar\",\"marker\":{\"colorbar\":{\"outlinewidth\":0,\"ticks\":\"\"}}}],\"histogram\":[{\"marker\":{\"pattern\":{\"fillmode\":\"overlay\",\"size\":10,\"solidity\":0.2}},\"type\":\"histogram\"}],\"scattergl\":[{\"marker\":{\"line\":{\"color\":\"#283442\"}},\"type\":\"scattergl\"}],\"scatter3d\":[{\"type\":\"scatter3d\",\"line\":{\"colorbar\":{\"outlinewidth\":0,\"ticks\":\"\"}},\"marker\":{\"colorbar\":{\"outlinewidth\":0,\"ticks\":\"\"}}}],\"scattermapbox\":[{\"type\":\"scattermapbox\",\"marker\":{\"colorbar\":{\"outlinewidth\":0,\"ticks\":\"\"}}}],\"scatterternary\":[{\"type\":\"scatterternary\",\"marker\":{\"colorbar\":{\"outlinewidth\":0,\"ticks\":\"\"}}}],\"scattercarpet\":[{\"type\":\"scattercarpet\",\"marker\":{\"colorbar\":{\"outlinewidth\":0,\"ticks\":\"\"}}}],\"carpet\":[{\"aaxis\":{\"endlinecolor\":\"#A2B1C6\",\"gridcolor\":\"#506784\",\"linecolor\":\"#506784\",\"minorgridcolor\":\"#506784\",\"startlinecolor\":\"#A2B1C6\"},\"baxis\":{\"endlinecolor\":\"#A2B1C6\",\"gridcolor\":\"#506784\",\"linecolor\":\"#506784\",\"minorgridcolor\":\"#506784\",\"startlinecolor\":\"#A2B1C6\"},\"type\":\"carpet\"}],\"table\":[{\"cells\":{\"fill\":{\"color\":\"#506784\"},\"line\":{\"color\":\"rgb(17,17,17)\"}},\"header\":{\"fill\":{\"color\":\"#2a3f5f\"},\"line\":{\"color\":\"rgb(17,17,17)\"}},\"type\":\"table\"}],\"barpolar\":[{\"marker\":{\"line\":{\"color\":\"rgb(17,17,17)\",\"width\":0.5},\"pattern\":{\"fillmode\":\"overlay\",\"size\":10,\"solidity\":0.2}},\"type\":\"barpolar\"}],\"pie\":[{\"automargin\":true,\"type\":\"pie\"}]},\"layout\":{\"autotypenumbers\":\"strict\",\"colorway\":[\"#636efa\",\"#EF553B\",\"#00cc96\",\"#ab63fa\",\"#FFA15A\",\"#19d3f3\",\"#FF6692\",\"#B6E880\",\"#FF97FF\",\"#FECB52\"],\"font\":{\"color\":\"#f2f5fa\"},\"hovermode\":\"closest\",\"hoverlabel\":{\"align\":\"left\"},\"paper_bgcolor\":\"rgb(17,17,17)\",\"plot_bgcolor\":\"rgb(17,17,17)\",\"polar\":{\"bgcolor\":\"rgb(17,17,17)\",\"angularaxis\":{\"gridcolor\":\"#506784\",\"linecolor\":\"#506784\",\"ticks\":\"\"},\"radialaxis\":{\"gridcolor\":\"#506784\",\"linecolor\":\"#506784\",\"ticks\":\"\"}},\"ternary\":{\"bgcolor\":\"rgb(17,17,17)\",\"aaxis\":{\"gridcolor\":\"#506784\",\"linecolor\":\"#506784\",\"ticks\":\"\"},\"baxis\":{\"gridcolor\":\"#506784\",\"linecolor\":\"#506784\",\"ticks\":\"\"},\"caxis\":{\"gridcolor\":\"#506784\",\"linecolor\":\"#506784\",\"ticks\":\"\"}},\"coloraxis\":{\"colorbar\":{\"outlinewidth\":0,\"ticks\":\"\"}},\"colorscale\":{\"sequential\":[[0.0,\"#0d0887\"],[0.1111111111111111,\"#46039f\"],[0.2222222222222222,\"#7201a8\"],[0.3333333333333333,\"#9c179e\"],[0.4444444444444444,\"#bd3786\"],[0.5555555555555556,\"#d8576b\"],[0.6666666666666666,\"#ed7953\"],[0.7777777777777778,\"#fb9f3a\"],[0.8888888888888888,\"#fdca26\"],[1.0,\"#f0f921\"]],\"sequentialminus\":[[0.0,\"#0d0887\"],[0.1111111111111111,\"#46039f\"],[0.2222222222222222,\"#7201a8\"],[0.3333333333333333,\"#9c179e\"],[0.4444444444444444,\"#bd3786\"],[0.5555555555555556,\"#d8576b\"],[0.6666666666666666,\"#ed7953\"],[0.7777777777777778,\"#fb9f3a\"],[0.8888888888888888,\"#fdca26\"],[1.0,\"#f0f921\"]],\"diverging\":[[0,\"#8e0152\"],[0.1,\"#c51b7d\"],[0.2,\"#de77ae\"],[0.3,\"#f1b6da\"],[0.4,\"#fde0ef\"],[0.5,\"#f7f7f7\"],[0.6,\"#e6f5d0\"],[0.7,\"#b8e186\"],[0.8,\"#7fbc41\"],[0.9,\"#4d9221\"],[1,\"#276419\"]]},\"xaxis\":{\"gridcolor\":\"#283442\",\"linecolor\":\"#506784\",\"ticks\":\"\",\"title\":{\"standoff\":15},\"zerolinecolor\":\"#283442\",\"automargin\":true,\"zerolinewidth\":2},\"yaxis\":{\"gridcolor\":\"#283442\",\"linecolor\":\"#506784\",\"ticks\":\"\",\"title\":{\"standoff\":15},\"zerolinecolor\":\"#283442\",\"automargin\":true,\"zerolinewidth\":2},\"scene\":{\"xaxis\":{\"backgroundcolor\":\"rgb(17,17,17)\",\"gridcolor\":\"#506784\",\"linecolor\":\"#506784\",\"showbackground\":true,\"ticks\":\"\",\"zerolinecolor\":\"#C8D4E3\",\"gridwidth\":2},\"yaxis\":{\"backgroundcolor\":\"rgb(17,17,17)\",\"gridcolor\":\"#506784\",\"linecolor\":\"#506784\",\"showbackground\":true,\"ticks\":\"\",\"zerolinecolor\":\"#C8D4E3\",\"gridwidth\":2},\"zaxis\":{\"backgroundcolor\":\"rgb(17,17,17)\",\"gridcolor\":\"#506784\",\"linecolor\":\"#506784\",\"showbackground\":true,\"ticks\":\"\",\"zerolinecolor\":\"#C8D4E3\",\"gridwidth\":2}},\"shapedefaults\":{\"line\":{\"color\":\"#f2f5fa\"}},\"annotationdefaults\":{\"arrowcolor\":\"#f2f5fa\",\"arrowhead\":0,\"arrowwidth\":1},\"geo\":{\"bgcolor\":\"rgb(17,17,17)\",\"landcolor\":\"rgb(17,17,17)\",\"subunitcolor\":\"#506784\",\"showland\":true,\"showlakes\":true,\"lakecolor\":\"rgb(17,17,17)\"},\"title\":{\"x\":0.05},\"updatemenudefaults\":{\"bgcolor\":\"#506784\",\"borderwidth\":0},\"sliderdefaults\":{\"bgcolor\":\"#C8D4E3\",\"borderwidth\":1,\"bordercolor\":\"rgb(17,17,17)\",\"tickwidth\":0},\"mapbox\":{\"style\":\"dark\"}}},\"xaxis\":{\"anchor\":\"y\",\"domain\":[0.0,1.0],\"title\":{\"text\":\"False Positive Rate\"}},\"yaxis\":{\"anchor\":\"x\",\"domain\":[0.0,1.0],\"title\":{\"text\":\"True Positive Rate\"}},\"legend\":{\"tracegroupgap\":0},\"title\":{\"text\":\"ROC Curve (AUC=0.8525)\"},\"height\":500,\"width\":700,\"shapes\":[{\"line\":{\"dash\":\"dash\"},\"type\":\"line\",\"x0\":0,\"x1\":1,\"y0\":0,\"y1\":1}]},                        {\"responsive\": true}                    ).then(function(){\n                            \nvar gd = document.getElementById('2529ce43-9347-4889-be3e-7d559972a66d');\nvar x = new MutationObserver(function (mutations, observer) {{\n        var display = window.getComputedStyle(gd).display;\n        if (!display || display === 'none') {{\n            console.log([gd, 'removed!']);\n            Plotly.purge(gd);\n            observer.disconnect();\n        }}\n}});\n\n// Listen for the removal of the full notebook cells\nvar notebookContainer = gd.closest('#notebook-container');\nif (notebookContainer) {{\n    x.observe(notebookContainer, {childList: true});\n}}\n\n// Listen for the clearing of the current output cell\nvar outputEl = gd.closest('.output');\nif (outputEl) {{\n    x.observe(outputEl, {childList: true});\n}}\n\n                        })                };                });            </script>        </div>"
     },
     "metadata": {},
     "output_type": "display_data"
    }
   ],
   "source": [
    "probabilities_valid = cbc.predict_proba(features_test.drop(['Partner', 'Dependents', 'gender'], axis=1))\n",
    "probabilities_one_valid = probabilities_valid[:, 1]\n",
    "\n",
    "plot_roc_auc_curve(target_test, probabilities_one_valid)"
   ],
   "metadata": {
    "collapsed": false,
    "pycharm": {
     "name": "#%%\n"
    }
   }
  },
  {
   "cell_type": "markdown",
   "source": [
    "Удаление признаков чуть ухудшило метрику."
   ],
   "metadata": {
    "collapsed": false,
    "pycharm": {
     "name": "#%% md\n"
    }
   }
  },
  {
   "cell_type": "code",
   "execution_count": 197,
   "outputs": [
    {
     "data": {
      "text/plain": "array([[721, 320],\n       [158, 955]], dtype=int64)"
     },
     "execution_count": 197,
     "metadata": {},
     "output_type": "execute_result"
    }
   ],
   "source": [
    "confusion_matrix(target_test, cbc.predict(features_test.drop(['Partner', 'Dependents', 'gender'], axis=1)))"
   ],
   "metadata": {
    "collapsed": false,
    "pycharm": {
     "name": "#%%\n"
    }
   }
  },
  {
   "cell_type": "markdown",
   "source": [
    "## Шаг 3.2 Попробуем решить задачу с помощью RandomFeorest\n",
    "\n",
    "Подберем гиперпараметры для модели"
   ],
   "metadata": {
    "collapsed": false,
    "pycharm": {
     "name": "#%% md\n"
    }
   }
  },
  {
   "cell_type": "code",
   "execution_count": 213,
   "outputs": [
    {
     "data": {
      "text/plain": "RandomizedSearchCV(cv=3,\n                   estimator=RandomForestClassifier(n_jobs=-1,\n                                                    random_state=250722),\n                   n_jobs=-1,\n                   param_distributions={'max_depth': [3, 5, 7, 10, 12, 13, 14,\n                                                      16],\n                                        'min_samples_leaf': [1, 2, 3, 4, 5, 6],\n                                        'min_samples_split': [2, 3, 4, 5, 6],\n                                        'n_estimators': [30, 50, 70, 100]},\n                   random_state=250722, scoring='roc_auc')"
     },
     "execution_count": 213,
     "metadata": {},
     "output_type": "execute_result"
    }
   ],
   "source": [
    "params = {\n",
    "\t'n_estimators': [30, 50, 70, 100],\n",
    "\t'max_depth': [3, 5, 7, 10, 12, 13, 14, 16],\n",
    "\t'min_samples_split': [2, 3, 4, 5, 6],\n",
    "\t'min_samples_leaf': [1, 2, 3, 4, 5, 6]\n",
    "\n",
    "}\n",
    "\n",
    "rfc = RandomForestClassifier(random_state=rs, n_jobs=-1)\n",
    "\n",
    "search_cv = RandomizedSearchCV(rfc, params, cv=3, n_jobs=-1, random_state=rs, scoring='roc_auc')\n",
    "search_cv.fit(features_train, target_train)"
   ],
   "metadata": {
    "collapsed": false,
    "pycharm": {
     "name": "#%%\n"
    }
   }
  },
  {
   "cell_type": "code",
   "execution_count": 214,
   "outputs": [
    {
     "data": {
      "text/plain": "{'n_estimators': 70,\n 'min_samples_split': 2,\n 'min_samples_leaf': 1,\n 'max_depth': 13}"
     },
     "execution_count": 214,
     "metadata": {},
     "output_type": "execute_result"
    }
   ],
   "source": [
    "search_cv.best_params_"
   ],
   "metadata": {
    "collapsed": false,
    "pycharm": {
     "name": "#%%\n"
    }
   }
  },
  {
   "cell_type": "markdown",
   "source": [
    "Получили неплохой ROC-AUC на кроссвалидации случайного леса"
   ],
   "metadata": {
    "collapsed": false,
    "pycharm": {
     "name": "#%% md\n"
    }
   }
  },
  {
   "cell_type": "code",
   "execution_count": 215,
   "outputs": [
    {
     "data": {
      "text/plain": "0.9286209851854874"
     },
     "execution_count": 215,
     "metadata": {},
     "output_type": "execute_result"
    }
   ],
   "source": [
    "search_cv.best_score_"
   ],
   "metadata": {
    "collapsed": false,
    "pycharm": {
     "name": "#%%\n"
    }
   }
  },
  {
   "cell_type": "markdown",
   "source": [
    "Обучим модель с полученными гиперпараметрами"
   ],
   "metadata": {
    "collapsed": false,
    "pycharm": {
     "name": "#%% md\n"
    }
   }
  },
  {
   "cell_type": "code",
   "execution_count": 216,
   "outputs": [
    {
     "data": {
      "text/plain": "RandomForestClassifier(max_depth=13, n_estimators=70, n_jobs=-1,\n                       random_state=250722)"
     },
     "execution_count": 216,
     "metadata": {},
     "output_type": "execute_result"
    }
   ],
   "source": [
    "rfc = RandomForestClassifier(**search_cv.best_params_, random_state=rs, n_jobs=-1)\n",
    "rfc.fit(features_train, target_train)"
   ],
   "metadata": {
    "collapsed": false,
    "pycharm": {
     "name": "#%%\n"
    }
   }
  },
  {
   "cell_type": "markdown",
   "source": [
    "Оценим модель"
   ],
   "metadata": {
    "collapsed": false,
    "pycharm": {
     "name": "#%% md\n"
    }
   }
  },
  {
   "cell_type": "code",
   "execution_count": 217,
   "outputs": [
    {
     "data": {
      "application/vnd.plotly.v1+json": {
       "data": [
        {
         "fillpattern": {
          "shape": ""
         },
         "hovertemplate": "False Positive Rate=%{x}<br>True Positive Rate=%{y}<extra></extra>",
         "legendgroup": "",
         "line": {
          "color": "#636efa"
         },
         "marker": {
          "symbol": "circle"
         },
         "mode": "lines",
         "name": "",
         "orientation": "v",
         "showlegend": false,
         "stackgroup": "1",
         "x": [
          0.0,
          0.0,
          0.0,
          0.0,
          0.0,
          9.606147934678194E-4,
          9.606147934678194E-4,
          9.606147934678194E-4,
          9.606147934678194E-4,
          9.606147934678194E-4,
          9.606147934678194E-4,
          9.606147934678194E-4,
          9.606147934678194E-4,
          9.606147934678194E-4,
          9.606147934678194E-4,
          9.606147934678194E-4,
          0.0019212295869356388,
          0.0019212295869356388,
          0.0019212295869356388,
          0.0019212295869356388,
          0.002881844380403458,
          0.002881844380403458,
          0.002881844380403458,
          0.0038424591738712775,
          0.004803073967339097,
          0.004803073967339097,
          0.004803073967339097,
          0.004803073967339097,
          0.004803073967339097,
          0.005763688760806916,
          0.005763688760806916,
          0.005763688760806916,
          0.005763688760806916,
          0.005763688760806916,
          0.005763688760806916,
          0.005763688760806916,
          0.005763688760806916,
          0.005763688760806916,
          0.005763688760806916,
          0.005763688760806916,
          0.005763688760806916,
          0.005763688760806916,
          0.0067243035542747355,
          0.0067243035542747355,
          0.0067243035542747355,
          0.007684918347742555,
          0.007684918347742555,
          0.007684918347742555,
          0.007684918347742555,
          0.008645533141210375,
          0.008645533141210375,
          0.008645533141210375,
          0.008645533141210375,
          0.008645533141210375,
          0.008645533141210375,
          0.008645533141210375,
          0.008645533141210375,
          0.009606147934678195,
          0.009606147934678195,
          0.009606147934678195,
          0.010566762728146013,
          0.010566762728146013,
          0.010566762728146013,
          0.010566762728146013,
          0.010566762728146013,
          0.010566762728146013,
          0.011527377521613832,
          0.011527377521613832,
          0.011527377521613832,
          0.011527377521613832,
          0.013448607108549471,
          0.013448607108549471,
          0.013448607108549471,
          0.013448607108549471,
          0.013448607108549471,
          0.013448607108549471,
          0.013448607108549471,
          0.013448607108549471,
          0.013448607108549471,
          0.013448607108549471,
          0.01440922190201729,
          0.01440922190201729,
          0.01440922190201729,
          0.01440922190201729,
          0.01440922190201729,
          0.01440922190201729,
          0.01536983669548511,
          0.01536983669548511,
          0.01536983669548511,
          0.01536983669548511,
          0.01536983669548511,
          0.01536983669548511,
          0.01536983669548511,
          0.01536983669548511,
          0.01536983669548511,
          0.01536983669548511,
          0.01633045148895293,
          0.01633045148895293,
          0.01633045148895293,
          0.01633045148895293,
          0.01633045148895293,
          0.01633045148895293,
          0.01729106628242075,
          0.01729106628242075,
          0.01729106628242075,
          0.01729106628242075,
          0.01921229586935639,
          0.01921229586935639,
          0.01921229586935639,
          0.020172910662824207,
          0.020172910662824207,
          0.021133525456292025,
          0.021133525456292025,
          0.021133525456292025,
          0.021133525456292025,
          0.021133525456292025,
          0.021133525456292025,
          0.021133525456292025,
          0.021133525456292025,
          0.023054755043227664,
          0.023054755043227664,
          0.023054755043227664,
          0.024015369836695485,
          0.024015369836695485,
          0.024015369836695485,
          0.024015369836695485,
          0.024015369836695485,
          0.024015369836695485,
          0.024015369836695485,
          0.024015369836695485,
          0.024015369836695485,
          0.024975984630163303,
          0.024975984630163303,
          0.025936599423631124,
          0.025936599423631124,
          0.025936599423631124,
          0.025936599423631124,
          0.026897214217098942,
          0.026897214217098942,
          0.026897214217098942,
          0.026897214217098942,
          0.02881844380403458,
          0.02881844380403458,
          0.02881844380403458,
          0.02881844380403458,
          0.02881844380403458,
          0.02881844380403458,
          0.02881844380403458,
          0.02881844380403458,
          0.02881844380403458,
          0.02881844380403458,
          0.02881844380403458,
          0.02881844380403458,
          0.02881844380403458,
          0.02881844380403458,
          0.02881844380403458,
          0.02881844380403458,
          0.02881844380403458,
          0.02881844380403458,
          0.02881844380403458,
          0.029779058597502402,
          0.029779058597502402,
          0.029779058597502402,
          0.029779058597502402,
          0.029779058597502402,
          0.029779058597502402,
          0.029779058597502402,
          0.029779058597502402,
          0.03073967339097022,
          0.03073967339097022,
          0.03073967339097022,
          0.03073967339097022,
          0.03073967339097022,
          0.03073967339097022,
          0.03170028818443804,
          0.03170028818443804,
          0.03170028818443804,
          0.03170028818443804,
          0.03170028818443804,
          0.03170028818443804,
          0.03266090297790586,
          0.03266090297790586,
          0.03362151777137368,
          0.03362151777137368,
          0.0345821325648415,
          0.0345821325648415,
          0.0345821325648415,
          0.0345821325648415,
          0.0345821325648415,
          0.0345821325648415,
          0.0345821325648415,
          0.0345821325648415,
          0.0345821325648415,
          0.0345821325648415,
          0.0345821325648415,
          0.0345821325648415,
          0.0345821325648415,
          0.0345821325648415,
          0.03650336215177714,
          0.03650336215177714,
          0.03650336215177714,
          0.037463976945244955,
          0.037463976945244955,
          0.037463976945244955,
          0.037463976945244955,
          0.037463976945244955,
          0.03842459173871278,
          0.03842459173871278,
          0.04130643611911623,
          0.04130643611911623,
          0.04130643611911623,
          0.04226705091258405,
          0.04226705091258405,
          0.043227665706051875,
          0.043227665706051875,
          0.043227665706051875,
          0.043227665706051875,
          0.04418828049951969,
          0.04418828049951969,
          0.04418828049951969,
          0.04418828049951969,
          0.04514889529298751,
          0.04514889529298751,
          0.04514889529298751,
          0.04610951008645533,
          0.04610951008645533,
          0.04707012487992315,
          0.04707012487992315,
          0.04707012487992315,
          0.04707012487992315,
          0.04707012487992315,
          0.04707012487992315,
          0.04803073967339097,
          0.04803073967339097,
          0.04803073967339097,
          0.04899135446685879,
          0.04899135446685879,
          0.04899135446685879,
          0.04899135446685879,
          0.049951969260326606,
          0.049951969260326606,
          0.049951969260326606,
          0.049951969260326606,
          0.049951969260326606,
          0.049951969260326606,
          0.05091258405379443,
          0.05091258405379443,
          0.05091258405379443,
          0.05091258405379443,
          0.05187319884726225,
          0.05187319884726225,
          0.052833813640730067,
          0.052833813640730067,
          0.053794428434197884,
          0.053794428434197884,
          0.053794428434197884,
          0.05475504322766571,
          0.05475504322766571,
          0.05475504322766571,
          0.05475504322766571,
          0.05475504322766571,
          0.05475504322766571,
          0.056676272814601344,
          0.056676272814601344,
          0.056676272814601344,
          0.056676272814601344,
          0.05763688760806916,
          0.05763688760806916,
          0.05763688760806916,
          0.05859750240153699,
          0.05859750240153699,
          0.05859750240153699,
          0.05859750240153699,
          0.06051873198847262,
          0.06051873198847262,
          0.06340057636887608,
          0.06340057636887608,
          0.0643611911623439,
          0.0643611911623439,
          0.0643611911623439,
          0.06532180595581172,
          0.06532180595581172,
          0.06532180595581172,
          0.06532180595581172,
          0.06532180595581172,
          0.06628242074927954,
          0.06628242074927954,
          0.06724303554274735,
          0.06724303554274735,
          0.06820365033621517,
          0.06820365033621517,
          0.06820365033621517,
          0.069164265129683,
          0.069164265129683,
          0.069164265129683,
          0.07012487992315082,
          0.07012487992315082,
          0.07012487992315082,
          0.07204610951008646,
          0.07204610951008646,
          0.07204610951008646,
          0.07300672430355427,
          0.07300672430355427,
          0.07396733909702209,
          0.07396733909702209,
          0.07492795389048991,
          0.07492795389048991,
          0.07492795389048991,
          0.07492795389048991,
          0.07684918347742556,
          0.07684918347742556,
          0.07684918347742556,
          0.07780979827089338,
          0.07780979827089338,
          0.0787704130643612,
          0.0787704130643612,
          0.07973102785782901,
          0.07973102785782901,
          0.07973102785782901,
          0.07973102785782901,
          0.07973102785782901,
          0.07973102785782901,
          0.08069164265129683,
          0.08069164265129683,
          0.08165225744476465,
          0.08165225744476465,
          0.08165225744476465,
          0.08165225744476465,
          0.08165225744476465,
          0.08261287223823247,
          0.08261287223823247,
          0.08261287223823247,
          0.08261287223823247,
          0.08261287223823247,
          0.0845341018251681,
          0.0845341018251681,
          0.0845341018251681,
          0.08549471661863593,
          0.08549471661863593,
          0.08645533141210375,
          0.08645533141210375,
          0.08741594620557157,
          0.08741594620557157,
          0.08741594620557157,
          0.08837656099903939,
          0.08837656099903939,
          0.0893371757925072,
          0.0893371757925072,
          0.0893371757925072,
          0.0893371757925072,
          0.0893371757925072,
          0.0893371757925072,
          0.09029779058597502,
          0.09029779058597502,
          0.09125840537944284,
          0.09125840537944284,
          0.09125840537944284,
          0.09125840537944284,
          0.09221902017291066,
          0.09221902017291066,
          0.09221902017291066,
          0.09317963496637849,
          0.09317963496637849,
          0.09317963496637849,
          0.09317963496637849,
          0.09317963496637849,
          0.0941402497598463,
          0.0941402497598463,
          0.09606147934678194,
          0.09606147934678194,
          0.09702209414024976,
          0.09702209414024976,
          0.09798270893371758,
          0.09798270893371758,
          0.09990393852065321,
          0.09990393852065321,
          0.09990393852065321,
          0.09990393852065321,
          0.10182516810758886,
          0.10182516810758886,
          0.1037463976945245,
          0.1037463976945245,
          0.10470701248799232,
          0.10470701248799232,
          0.10951008645533142,
          0.10951008645533142,
          0.11047070124879924,
          0.11047070124879924,
          0.11143131604226705,
          0.11143131604226705,
          0.11239193083573487,
          0.11239193083573487,
          0.11335254562920269,
          0.11335254562920269,
          0.11527377521613832,
          0.11527377521613832,
          0.11527377521613832,
          0.11623439000960614,
          0.11623439000960614,
          0.11815561959654179,
          0.11815561959654179,
          0.11815561959654179,
          0.11815561959654179,
          0.11911623439000961,
          0.11911623439000961,
          0.12007684918347743,
          0.12007684918347743,
          0.12295869356388088,
          0.12295869356388088,
          0.12295869356388088,
          0.1239193083573487,
          0.1239193083573487,
          0.1239193083573487,
          0.1239193083573487,
          0.1239193083573487,
          0.12487992315081652,
          0.12487992315081652,
          0.12584053794428435,
          0.12584053794428435,
          0.12776176753121998,
          0.12776176753121998,
          0.12776176753121998,
          0.1287223823246878,
          0.1287223823246878,
          0.13064361191162344,
          0.13064361191162344,
          0.13160422670509125,
          0.13160422670509125,
          0.1335254562920269,
          0.1335254562920269,
          0.1344860710854947,
          0.1344860710854947,
          0.13544668587896252,
          0.13544668587896252,
          0.13640730067243034,
          0.13640730067243034,
          0.1373679154658982,
          0.1373679154658982,
          0.1373679154658982,
          0.138328530259366,
          0.138328530259366,
          0.13928914505283382,
          0.13928914505283382,
          0.14217098943323728,
          0.14217098943323728,
          0.1431316042267051,
          0.1431316042267051,
          0.14505283381364073,
          0.14505283381364073,
          0.14505283381364073,
          0.14697406340057637,
          0.14697406340057637,
          0.14697406340057637,
          0.14697406340057637,
          0.14697406340057637,
          0.14697406340057637,
          0.14697406340057637,
          0.14697406340057637,
          0.14985590778097982,
          0.14985590778097982,
          0.14985590778097982,
          0.14985590778097982,
          0.15081652257444764,
          0.15081652257444764,
          0.15081652257444764,
          0.15273775216138327,
          0.15273775216138327,
          0.15465898174831894,
          0.15465898174831894,
          0.15561959654178675,
          0.15561959654178675,
          0.1585014409221902,
          0.1585014409221902,
          0.15946205571565802,
          0.15946205571565802,
          0.1642651296829971,
          0.1642651296829971,
          0.16522574447646493,
          0.16522574447646493,
          0.16618635926993275,
          0.16618635926993275,
          0.16714697406340057,
          0.16714697406340057,
          0.16810758885686838,
          0.16810758885686838,
          0.17387127761767532,
          0.17387127761767532,
          0.17579250720461095,
          0.17579250720461095,
          0.17675312199807877,
          0.17675312199807877,
          0.1777137367915466,
          0.1777137367915466,
          0.1786743515850144,
          0.1786743515850144,
          0.18059558117195004,
          0.18059558117195004,
          0.18155619596541786,
          0.18155619596541786,
          0.18155619596541786,
          0.18251681075888568,
          0.18251681075888568,
          0.1873198847262248,
          0.1873198847262248,
          0.1882804995196926,
          0.1882804995196926,
          0.19116234390009607,
          0.19116234390009607,
          0.1930835734870317,
          0.1930835734870317,
          0.1978866474543708,
          0.1978866474543708,
          0.20076849183477424,
          0.20076849183477424,
          0.2017291066282421,
          0.2017291066282421,
          0.20365033621517772,
          0.20365033621517772,
          0.21037463976945245,
          0.21037463976945245,
          0.21037463976945245,
          0.21998078770413065,
          0.21998078770413065,
          0.2228626320845341,
          0.2228626320845341,
          0.22382324687800192,
          0.22382324687800192,
          0.22382324687800192,
          0.22478386167146974,
          0.22478386167146974,
          0.22478386167146974,
          0.24111431316042267,
          0.24111431316042267,
          0.2430355427473583,
          0.2430355427473583,
          0.2430355427473583,
          0.24495677233429394,
          0.24495677233429394,
          0.24975984630163303,
          0.24975984630163303,
          0.2680115273775216,
          0.2680115273775216,
          0.27761767531219983,
          0.27761767531219983,
          0.28338136407300674,
          0.28338136407300674,
          0.28914505283381364,
          0.28914505283381364,
          0.2968299711815562,
          0.2968299711815562,
          0.30067243035542746,
          0.30067243035542746,
          0.3102785782901057,
          0.3102785782901057,
          0.32372718539865514,
          0.32372718539865514,
          0.34390009606147937,
          0.34390009606147937,
          0.6071085494716618,
          0.6090297790585975,
          0.6484149855907781,
          0.6512968299711815,
          0.659942363112392,
          0.6618635926993276,
          0.6676272814601345,
          0.6695485110470701,
          0.6791546589817483,
          0.6820365033621518,
          0.7089337175792507,
          0.7118155619596542,
          0.7300672430355427,
          0.7358309317963496,
          0.7732949087415946,
          0.7752161383285303,
          0.8049951969260326,
          0.8146013448607109,
          0.8174831892411143,
          0.8194044188280499,
          0.840537944284342,
          0.8443804034582133,
          0.851104707012488,
          0.8530259365994236,
          0.8559077809798271,
          0.8578290105667628,
          0.878001921229587,
          0.8856868395773295,
          0.8876080691642652,
          0.8933717579250721,
          0.8952929875120077,
          0.899135446685879,
          0.9029779058597502,
          0.9077809798270894,
          0.909702209414025,
          0.9106628242074928,
          0.9125840537944284,
          0.9173871277617676,
          0.9183477425552353,
          0.9269932756964457,
          0.9289145052833814,
          1.0
         ],
         "xaxis": "x",
         "y": [
          0.0,
          8.984725965858042E-4,
          0.006289308176100629,
          0.008086253369272238,
          0.008984725965858042,
          0.009883198562443846,
          0.015274034141958671,
          0.017969451931716084,
          0.019766397124887692,
          0.02605570530098832,
          0.027852650494159928,
          0.03234501347708895,
          0.034141958670260555,
          0.03504043126684636,
          0.03773584905660377,
          0.039532794249775384,
          0.04043126684636118,
          0.042228212039532795,
          0.04582210242587601,
          0.04672057502246182,
          0.05121293800539083,
          0.05390835579514825,
          0.05750224618149147,
          0.05929919137466307,
          0.05929919137466307,
          0.0646900269541779,
          0.0664869721473495,
          0.07726864330637916,
          0.08086253369272237,
          0.08086253369272237,
          0.08355795148247978,
          0.0853548966756514,
          0.0862533692722372,
          0.0880503144654088,
          0.09074573225516622,
          0.09254267744833783,
          0.09344115004492363,
          0.09523809523809523,
          0.09613656783468104,
          0.09793351302785265,
          0.10242587601078167,
          0.10601976639712489,
          0.10601976639712489,
          0.1078167115902965,
          0.1087151841868823,
          0.1087151841868823,
          0.1096136567834681,
          0.11141060197663971,
          0.11859838274932614,
          0.11859838274932614,
          0.11949685534591195,
          0.12129380053908356,
          0.132973944294699,
          0.1347708894878706,
          0.13566936208445643,
          0.13746630727762804,
          0.14555256064690028,
          0.14555256064690028,
          0.14734950584007186,
          0.14824797843665768,
          0.14914645103324348,
          0.1518418688230009,
          0.15363881401617252,
          0.16082659478885894,
          0.16262353998203055,
          0.16891284815813118,
          0.16981132075471697,
          0.17160826594788858,
          0.1752021563342318,
          0.1778975741239892,
          0.1778975741239892,
          0.17879604672057503,
          0.18059299191374664,
          0.18508535489667566,
          0.18867924528301888,
          0.19137466307277629,
          0.1931716082659479,
          0.1949685534591195,
          0.1967654986522911,
          0.20305480682839172,
          0.20305480682839172,
          0.20395327942497754,
          0.20575022461814915,
          0.20844564240790656,
          0.21024258760107817,
          0.21114106019766396,
          0.21114106019766396,
          0.21473495058400718,
          0.2183288409703504,
          0.22371967654986524,
          0.22551662174303683,
          0.22641509433962265,
          0.23000898472596587,
          0.23270440251572327,
          0.23450134770889489,
          0.2389937106918239,
          0.2389937106918239,
          0.24258760107816713,
          0.24797843665768193,
          0.25426774483378256,
          0.2578616352201258,
          0.25965858041329737,
          0.25965858041329737,
          0.261455525606469,
          0.2632524707996406,
          0.265947888589398,
          0.265947888589398,
          0.2821203953279425,
          0.2839173405211141,
          0.2839173405211141,
          0.2973944294699012,
          0.2973944294699012,
          0.3000898472596586,
          0.3018867924528302,
          0.3054806828391734,
          0.3090745732255166,
          0.3216531895777179,
          0.32345013477088946,
          0.3252470799640611,
          0.3252470799640611,
          0.3288409703504043,
          0.3297394429469901,
          0.3297394429469901,
          0.33782569631626236,
          0.33962264150943394,
          0.34591194968553457,
          0.3477088948787062,
          0.3495058400718778,
          0.353099730458221,
          0.3557951482479784,
          0.35759209344115006,
          0.3584905660377358,
          0.35938903863432164,
          0.35938903863432164,
          0.3611859838274933,
          0.36298292902066487,
          0.3656783468104223,
          0.3656783468104223,
          0.3692722371967655,
          0.3710691823899371,
          0.3746630727762803,
          0.3746630727762803,
          0.37646001796945194,
          0.37735849056603776,
          0.37915543575920935,
          0.38005390835579517,
          0.38185085354896675,
          0.38724168912848156,
          0.3890386343216532,
          0.3908355795148248,
          0.3926325247079964,
          0.394429469901168,
          0.39622641509433965,
          0.40341419586702604,
          0.4052111410601977,
          0.40700808625336926,
          0.4088050314465409,
          0.41509433962264153,
          0.41778975741239893,
          0.4195867026055705,
          0.4195867026055705,
          0.4222821203953279,
          0.42407906558849956,
          0.4276729559748428,
          0.42946990116801437,
          0.431266846361186,
          0.4330637915543576,
          0.4339622641509434,
          0.4339622641509434,
          0.44923629829290207,
          0.45103324348607365,
          0.4519317160826595,
          0.4537286612758311,
          0.4546271338724169,
          0.4546271338724169,
          0.46001796945193174,
          0.4618149146451033,
          0.46451033243486073,
          0.46630727762803237,
          0.46900269541778977,
          0.46900269541778977,
          0.4752920035938904,
          0.4752920035938904,
          0.47619047619047616,
          0.47619047619047616,
          0.4788858939802336,
          0.4806828391734052,
          0.48247978436657685,
          0.48427672955974843,
          0.48607367475292,
          0.48787061994609165,
          0.48966756513926324,
          0.4950584007187781,
          0.4968553459119497,
          0.49865229110512127,
          0.5004492362982929,
          0.5022461814914645,
          0.5058400718778078,
          0.5058400718778078,
          0.5076370170709793,
          0.5094339622641509,
          0.5094339622641509,
          0.5112309074573226,
          0.5166217430368374,
          0.518418688230009,
          0.5247079964061097,
          0.5247079964061097,
          0.5292003593890386,
          0.5292003593890386,
          0.5309973045822103,
          0.5327942497753818,
          0.5327942497753818,
          0.5354896675651393,
          0.5354896675651393,
          0.5381850853548967,
          0.5408805031446541,
          0.5444743935309974,
          0.5444743935309974,
          0.5453728661275831,
          0.5489667565139263,
          0.5561545372866128,
          0.5561545372866128,
          0.5579514824797843,
          0.5615453728661276,
          0.5615453728661276,
          0.5633423180592992,
          0.5633423180592992,
          0.568733153638814,
          0.5741239892183289,
          0.5750224618149147,
          0.5786163522012578,
          0.5795148247978437,
          0.5795148247978437,
          0.5804132973944295,
          0.5822102425876011,
          0.5822102425876011,
          0.5858041329739443,
          0.5876010781671159,
          0.5884995507637018,
          0.5884995507637018,
          0.5902964959568733,
          0.5956873315363881,
          0.5983827493261455,
          0.6001796945193172,
          0.601078167115903,
          0.601078167115903,
          0.605570530098832,
          0.6073674752920036,
          0.6091644204851752,
          0.6091644204851752,
          0.6118598382749326,
          0.6118598382749326,
          0.6190476190476191,
          0.6190476190476191,
          0.6208445642407907,
          0.6226415094339622,
          0.6226415094339622,
          0.6253369272237197,
          0.6271338724168913,
          0.6316262353998203,
          0.633423180592992,
          0.6370170709793351,
          0.6370170709793351,
          0.637915543575921,
          0.6397124887690926,
          0.6406109613656783,
          0.6406109613656783,
          0.6415094339622641,
          0.6433063791554358,
          0.6433063791554358,
          0.6442048517520216,
          0.6477987421383647,
          0.6486972147349506,
          0.6486972147349506,
          0.6504941599281222,
          0.6504941599281222,
          0.651392632524708,
          0.651392632524708,
          0.6531895777178796,
          0.6549865229110512,
          0.6549865229110512,
          0.655884995507637,
          0.6576819407008087,
          0.6585804132973945,
          0.660377358490566,
          0.660377358490566,
          0.6621743036837376,
          0.6621743036837376,
          0.6630727762803235,
          0.6630727762803235,
          0.6657681940700808,
          0.6675651392632524,
          0.6675651392632524,
          0.6693620844564241,
          0.6702605570530099,
          0.6702605570530099,
          0.6738544474393531,
          0.6756513926325247,
          0.6756513926325247,
          0.6783468104222821,
          0.6801437556154537,
          0.6801437556154537,
          0.6819407008086253,
          0.6819407008086253,
          0.683737646001797,
          0.683737646001797,
          0.6864330637915543,
          0.688230008984726,
          0.6891284815813118,
          0.6891284815813118,
          0.6918238993710691,
          0.6936208445642408,
          0.6936208445642408,
          0.6999101527403414,
          0.6999101527403414,
          0.7008086253369272,
          0.7008086253369272,
          0.7044025157232704,
          0.7079964061096137,
          0.7115902964959568,
          0.7151841868823001,
          0.7169811320754716,
          0.7169811320754716,
          0.7196765498652291,
          0.7196765498652291,
          0.7214734950584007,
          0.7232704402515723,
          0.7250673854447439,
          0.7268643306379156,
          0.7268643306379156,
          0.7286612758310872,
          0.7295597484276729,
          0.7313566936208445,
          0.7322551662174304,
          0.7322551662174304,
          0.734052111410602,
          0.7367475292003594,
          0.7367475292003594,
          0.7421383647798742,
          0.7421383647798742,
          0.7448337825696316,
          0.7448337825696316,
          0.7502246181491464,
          0.7529200359389039,
          0.7529200359389039,
          0.7538185085354897,
          0.7538185085354897,
          0.7556154537286612,
          0.756513926325247,
          0.7583108715184187,
          0.7592093441150045,
          0.7610062893081762,
          0.7610062893081762,
          0.7637017070979335,
          0.7637017070979335,
          0.7646001796945193,
          0.766397124887691,
          0.7744833782569631,
          0.7744833782569631,
          0.7762803234501348,
          0.7780772686433064,
          0.7780772686433064,
          0.7816711590296496,
          0.7834681042228212,
          0.7861635220125787,
          0.7879604672057502,
          0.7879604672057502,
          0.788858939802336,
          0.788858939802336,
          0.793351302785265,
          0.793351302785265,
          0.7942497753818508,
          0.7942497753818508,
          0.7951482479784366,
          0.7951482479784366,
          0.7960467205750225,
          0.7978436657681941,
          0.7987421383647799,
          0.7987421383647799,
          0.8005390835579514,
          0.8005390835579514,
          0.8014375561545373,
          0.8014375561545373,
          0.8023360287511231,
          0.8023360287511231,
          0.8041329739442947,
          0.8041329739442947,
          0.8086253369272237,
          0.8086253369272237,
          0.8095238095238095,
          0.8095238095238095,
          0.8113207547169812,
          0.8113207547169812,
          0.8122192273135669,
          0.8122192273135669,
          0.8131176999101527,
          0.8158131176999102,
          0.8158131176999102,
          0.816711590296496,
          0.816711590296496,
          0.8203054806828391,
          0.8221024258760108,
          0.8230008984725966,
          0.8230008984725966,
          0.8238993710691824,
          0.8238993710691824,
          0.8292902066486972,
          0.8292902066486972,
          0.8301886792452831,
          0.8355795148247979,
          0.8355795148247979,
          0.839173405211141,
          0.8436657681940701,
          0.8490566037735849,
          0.8508535489667565,
          0.8508535489667565,
          0.8526504941599281,
          0.8526504941599281,
          0.8544474393530997,
          0.8553459119496856,
          0.8598382749326146,
          0.8634321653189577,
          0.8634321653189577,
          0.8661275831087152,
          0.8661275831087152,
          0.8679245283018868,
          0.8679245283018868,
          0.8697214734950584,
          0.8697214734950584,
          0.87151841868823,
          0.87151841868823,
          0.8733153638814016,
          0.8733153638814016,
          0.8751123090745733,
          0.8751123090745733,
          0.8778077268643306,
          0.8778077268643306,
          0.8787061994609164,
          0.8823000898472596,
          0.8823000898472596,
          0.8831985624438454,
          0.8831985624438454,
          0.8849955076370171,
          0.8849955076370171,
          0.8876909254267745,
          0.8876909254267745,
          0.889487870619946,
          0.889487870619946,
          0.8921832884097035,
          0.8939802336028752,
          0.8939802336028752,
          0.8957771787960467,
          0.8966756513926325,
          0.8984725965858041,
          0.89937106918239,
          0.9011680143755616,
          0.9020664869721473,
          0.903863432165319,
          0.903863432165319,
          0.9047619047619048,
          0.9065588499550764,
          0.9074573225516622,
          0.9074573225516622,
          0.9083557951482479,
          0.9101527403414196,
          0.9101527403414196,
          0.9110512129380054,
          0.9110512129380054,
          0.912848158131177,
          0.912848158131177,
          0.9146451033243486,
          0.9146451033243486,
          0.9164420485175202,
          0.9164420485175202,
          0.9182389937106918,
          0.9182389937106918,
          0.9200359389038635,
          0.9200359389038635,
          0.921832884097035,
          0.921832884097035,
          0.9272237196765498,
          0.9272237196765498,
          0.9281221922731356,
          0.9281221922731356,
          0.9290206648697215,
          0.9290206648697215,
          0.9299191374663073,
          0.9299191374663073,
          0.9308176100628931,
          0.9308176100628931,
          0.9326145552560647,
          0.9326145552560647,
          0.9344115004492363,
          0.9344115004492363,
          0.9353099730458221,
          0.9353099730458221,
          0.9362084456424079,
          0.9362084456424079,
          0.9380053908355795,
          0.9398023360287511,
          0.9398023360287511,
          0.9415992812219227,
          0.9415992812219227,
          0.9433962264150944,
          0.9433962264150944,
          0.945193171608266,
          0.945193171608266,
          0.9460916442048517,
          0.9460916442048517,
          0.9478885893980233,
          0.9478885893980233,
          0.949685534591195,
          0.949685534591195,
          0.9514824797843666,
          0.9514824797843666,
          0.9532794249775381,
          0.9532794249775381,
          0.9550763701707098,
          0.9550763701707098,
          0.9568733153638814,
          0.9577717879604672,
          0.9577717879604672,
          0.958670260557053,
          0.958670260557053,
          0.9595687331536388,
          0.9595687331536388,
          0.9613656783468104,
          0.9622641509433962,
          0.9622641509433962,
          0.9649595687331537,
          0.9667565139263252,
          0.9667565139263252,
          0.9685534591194969,
          0.9685534591194969,
          0.97214734950584,
          0.9748427672955975,
          0.9748427672955975,
          0.9766397124887691,
          0.9766397124887691,
          0.9784366576819407,
          0.9784366576819407,
          0.9811320754716981,
          0.9811320754716981,
          0.9820305480682839,
          0.9820305480682839,
          0.9847259658580413,
          0.9847259658580413,
          0.9865229110512129,
          0.9865229110512129,
          0.9883198562443846,
          0.9883198562443846,
          0.9910152740341419,
          0.9910152740341419,
          0.9937106918238994,
          0.9937106918238994,
          0.995507637017071,
          0.995507637017071,
          0.9973045822102425,
          0.9973045822102425,
          0.9973045822102425,
          0.9973045822102425,
          0.9973045822102425,
          0.9973045822102425,
          0.9973045822102425,
          0.9973045822102425,
          0.9973045822102425,
          0.9973045822102425,
          0.9973045822102425,
          0.9973045822102425,
          0.9973045822102425,
          0.9973045822102425,
          0.9973045822102425,
          0.9973045822102425,
          0.9973045822102425,
          0.9973045822102425,
          0.9973045822102425,
          0.9973045822102425,
          0.9973045822102425,
          0.9973045822102425,
          0.9973045822102425,
          0.9973045822102425,
          0.9973045822102425,
          0.9973045822102425,
          0.9973045822102425,
          1.0,
          1.0,
          1.0,
          1.0,
          1.0,
          1.0,
          1.0,
          1.0,
          1.0,
          1.0,
          1.0,
          1.0,
          1.0,
          1.0,
          1.0,
          1.0
         ],
         "yaxis": "y",
         "type": "scatter"
        }
       ],
       "layout": {
        "template": {
         "data": {
          "histogram2dcontour": [
           {
            "type": "histogram2dcontour",
            "colorbar": {
             "outlinewidth": 0,
             "ticks": ""
            },
            "colorscale": [
             [
              0.0,
              "#0d0887"
             ],
             [
              0.1111111111111111,
              "#46039f"
             ],
             [
              0.2222222222222222,
              "#7201a8"
             ],
             [
              0.3333333333333333,
              "#9c179e"
             ],
             [
              0.4444444444444444,
              "#bd3786"
             ],
             [
              0.5555555555555556,
              "#d8576b"
             ],
             [
              0.6666666666666666,
              "#ed7953"
             ],
             [
              0.7777777777777778,
              "#fb9f3a"
             ],
             [
              0.8888888888888888,
              "#fdca26"
             ],
             [
              1.0,
              "#f0f921"
             ]
            ]
           }
          ],
          "choropleth": [
           {
            "type": "choropleth",
            "colorbar": {
             "outlinewidth": 0,
             "ticks": ""
            }
           }
          ],
          "histogram2d": [
           {
            "type": "histogram2d",
            "colorbar": {
             "outlinewidth": 0,
             "ticks": ""
            },
            "colorscale": [
             [
              0.0,
              "#0d0887"
             ],
             [
              0.1111111111111111,
              "#46039f"
             ],
             [
              0.2222222222222222,
              "#7201a8"
             ],
             [
              0.3333333333333333,
              "#9c179e"
             ],
             [
              0.4444444444444444,
              "#bd3786"
             ],
             [
              0.5555555555555556,
              "#d8576b"
             ],
             [
              0.6666666666666666,
              "#ed7953"
             ],
             [
              0.7777777777777778,
              "#fb9f3a"
             ],
             [
              0.8888888888888888,
              "#fdca26"
             ],
             [
              1.0,
              "#f0f921"
             ]
            ]
           }
          ],
          "heatmap": [
           {
            "type": "heatmap",
            "colorbar": {
             "outlinewidth": 0,
             "ticks": ""
            },
            "colorscale": [
             [
              0.0,
              "#0d0887"
             ],
             [
              0.1111111111111111,
              "#46039f"
             ],
             [
              0.2222222222222222,
              "#7201a8"
             ],
             [
              0.3333333333333333,
              "#9c179e"
             ],
             [
              0.4444444444444444,
              "#bd3786"
             ],
             [
              0.5555555555555556,
              "#d8576b"
             ],
             [
              0.6666666666666666,
              "#ed7953"
             ],
             [
              0.7777777777777778,
              "#fb9f3a"
             ],
             [
              0.8888888888888888,
              "#fdca26"
             ],
             [
              1.0,
              "#f0f921"
             ]
            ]
           }
          ],
          "heatmapgl": [
           {
            "type": "heatmapgl",
            "colorbar": {
             "outlinewidth": 0,
             "ticks": ""
            },
            "colorscale": [
             [
              0.0,
              "#0d0887"
             ],
             [
              0.1111111111111111,
              "#46039f"
             ],
             [
              0.2222222222222222,
              "#7201a8"
             ],
             [
              0.3333333333333333,
              "#9c179e"
             ],
             [
              0.4444444444444444,
              "#bd3786"
             ],
             [
              0.5555555555555556,
              "#d8576b"
             ],
             [
              0.6666666666666666,
              "#ed7953"
             ],
             [
              0.7777777777777778,
              "#fb9f3a"
             ],
             [
              0.8888888888888888,
              "#fdca26"
             ],
             [
              1.0,
              "#f0f921"
             ]
            ]
           }
          ],
          "contourcarpet": [
           {
            "type": "contourcarpet",
            "colorbar": {
             "outlinewidth": 0,
             "ticks": ""
            }
           }
          ],
          "contour": [
           {
            "type": "contour",
            "colorbar": {
             "outlinewidth": 0,
             "ticks": ""
            },
            "colorscale": [
             [
              0.0,
              "#0d0887"
             ],
             [
              0.1111111111111111,
              "#46039f"
             ],
             [
              0.2222222222222222,
              "#7201a8"
             ],
             [
              0.3333333333333333,
              "#9c179e"
             ],
             [
              0.4444444444444444,
              "#bd3786"
             ],
             [
              0.5555555555555556,
              "#d8576b"
             ],
             [
              0.6666666666666666,
              "#ed7953"
             ],
             [
              0.7777777777777778,
              "#fb9f3a"
             ],
             [
              0.8888888888888888,
              "#fdca26"
             ],
             [
              1.0,
              "#f0f921"
             ]
            ]
           }
          ],
          "surface": [
           {
            "type": "surface",
            "colorbar": {
             "outlinewidth": 0,
             "ticks": ""
            },
            "colorscale": [
             [
              0.0,
              "#0d0887"
             ],
             [
              0.1111111111111111,
              "#46039f"
             ],
             [
              0.2222222222222222,
              "#7201a8"
             ],
             [
              0.3333333333333333,
              "#9c179e"
             ],
             [
              0.4444444444444444,
              "#bd3786"
             ],
             [
              0.5555555555555556,
              "#d8576b"
             ],
             [
              0.6666666666666666,
              "#ed7953"
             ],
             [
              0.7777777777777778,
              "#fb9f3a"
             ],
             [
              0.8888888888888888,
              "#fdca26"
             ],
             [
              1.0,
              "#f0f921"
             ]
            ]
           }
          ],
          "mesh3d": [
           {
            "type": "mesh3d",
            "colorbar": {
             "outlinewidth": 0,
             "ticks": ""
            }
           }
          ],
          "scatter": [
           {
            "marker": {
             "line": {
              "color": "#283442"
             }
            },
            "type": "scatter"
           }
          ],
          "parcoords": [
           {
            "type": "parcoords",
            "line": {
             "colorbar": {
              "outlinewidth": 0,
              "ticks": ""
             }
            }
           }
          ],
          "scatterpolargl": [
           {
            "type": "scatterpolargl",
            "marker": {
             "colorbar": {
              "outlinewidth": 0,
              "ticks": ""
             }
            }
           }
          ],
          "bar": [
           {
            "error_x": {
             "color": "#f2f5fa"
            },
            "error_y": {
             "color": "#f2f5fa"
            },
            "marker": {
             "line": {
              "color": "rgb(17,17,17)",
              "width": 0.5
             },
             "pattern": {
              "fillmode": "overlay",
              "size": 10,
              "solidity": 0.2
             }
            },
            "type": "bar"
           }
          ],
          "scattergeo": [
           {
            "type": "scattergeo",
            "marker": {
             "colorbar": {
              "outlinewidth": 0,
              "ticks": ""
             }
            }
           }
          ],
          "scatterpolar": [
           {
            "type": "scatterpolar",
            "marker": {
             "colorbar": {
              "outlinewidth": 0,
              "ticks": ""
             }
            }
           }
          ],
          "histogram": [
           {
            "marker": {
             "pattern": {
              "fillmode": "overlay",
              "size": 10,
              "solidity": 0.2
             }
            },
            "type": "histogram"
           }
          ],
          "scattergl": [
           {
            "marker": {
             "line": {
              "color": "#283442"
             }
            },
            "type": "scattergl"
           }
          ],
          "scatter3d": [
           {
            "type": "scatter3d",
            "line": {
             "colorbar": {
              "outlinewidth": 0,
              "ticks": ""
             }
            },
            "marker": {
             "colorbar": {
              "outlinewidth": 0,
              "ticks": ""
             }
            }
           }
          ],
          "scattermapbox": [
           {
            "type": "scattermapbox",
            "marker": {
             "colorbar": {
              "outlinewidth": 0,
              "ticks": ""
             }
            }
           }
          ],
          "scatterternary": [
           {
            "type": "scatterternary",
            "marker": {
             "colorbar": {
              "outlinewidth": 0,
              "ticks": ""
             }
            }
           }
          ],
          "scattercarpet": [
           {
            "type": "scattercarpet",
            "marker": {
             "colorbar": {
              "outlinewidth": 0,
              "ticks": ""
             }
            }
           }
          ],
          "carpet": [
           {
            "aaxis": {
             "endlinecolor": "#A2B1C6",
             "gridcolor": "#506784",
             "linecolor": "#506784",
             "minorgridcolor": "#506784",
             "startlinecolor": "#A2B1C6"
            },
            "baxis": {
             "endlinecolor": "#A2B1C6",
             "gridcolor": "#506784",
             "linecolor": "#506784",
             "minorgridcolor": "#506784",
             "startlinecolor": "#A2B1C6"
            },
            "type": "carpet"
           }
          ],
          "table": [
           {
            "cells": {
             "fill": {
              "color": "#506784"
             },
             "line": {
              "color": "rgb(17,17,17)"
             }
            },
            "header": {
             "fill": {
              "color": "#2a3f5f"
             },
             "line": {
              "color": "rgb(17,17,17)"
             }
            },
            "type": "table"
           }
          ],
          "barpolar": [
           {
            "marker": {
             "line": {
              "color": "rgb(17,17,17)",
              "width": 0.5
             },
             "pattern": {
              "fillmode": "overlay",
              "size": 10,
              "solidity": 0.2
             }
            },
            "type": "barpolar"
           }
          ],
          "pie": [
           {
            "automargin": true,
            "type": "pie"
           }
          ]
         },
         "layout": {
          "autotypenumbers": "strict",
          "colorway": [
           "#636efa",
           "#EF553B",
           "#00cc96",
           "#ab63fa",
           "#FFA15A",
           "#19d3f3",
           "#FF6692",
           "#B6E880",
           "#FF97FF",
           "#FECB52"
          ],
          "font": {
           "color": "#f2f5fa"
          },
          "hovermode": "closest",
          "hoverlabel": {
           "align": "left"
          },
          "paper_bgcolor": "rgb(17,17,17)",
          "plot_bgcolor": "rgb(17,17,17)",
          "polar": {
           "bgcolor": "rgb(17,17,17)",
           "angularaxis": {
            "gridcolor": "#506784",
            "linecolor": "#506784",
            "ticks": ""
           },
           "radialaxis": {
            "gridcolor": "#506784",
            "linecolor": "#506784",
            "ticks": ""
           }
          },
          "ternary": {
           "bgcolor": "rgb(17,17,17)",
           "aaxis": {
            "gridcolor": "#506784",
            "linecolor": "#506784",
            "ticks": ""
           },
           "baxis": {
            "gridcolor": "#506784",
            "linecolor": "#506784",
            "ticks": ""
           },
           "caxis": {
            "gridcolor": "#506784",
            "linecolor": "#506784",
            "ticks": ""
           }
          },
          "coloraxis": {
           "colorbar": {
            "outlinewidth": 0,
            "ticks": ""
           }
          },
          "colorscale": {
           "sequential": [
            [
             0.0,
             "#0d0887"
            ],
            [
             0.1111111111111111,
             "#46039f"
            ],
            [
             0.2222222222222222,
             "#7201a8"
            ],
            [
             0.3333333333333333,
             "#9c179e"
            ],
            [
             0.4444444444444444,
             "#bd3786"
            ],
            [
             0.5555555555555556,
             "#d8576b"
            ],
            [
             0.6666666666666666,
             "#ed7953"
            ],
            [
             0.7777777777777778,
             "#fb9f3a"
            ],
            [
             0.8888888888888888,
             "#fdca26"
            ],
            [
             1.0,
             "#f0f921"
            ]
           ],
           "sequentialminus": [
            [
             0.0,
             "#0d0887"
            ],
            [
             0.1111111111111111,
             "#46039f"
            ],
            [
             0.2222222222222222,
             "#7201a8"
            ],
            [
             0.3333333333333333,
             "#9c179e"
            ],
            [
             0.4444444444444444,
             "#bd3786"
            ],
            [
             0.5555555555555556,
             "#d8576b"
            ],
            [
             0.6666666666666666,
             "#ed7953"
            ],
            [
             0.7777777777777778,
             "#fb9f3a"
            ],
            [
             0.8888888888888888,
             "#fdca26"
            ],
            [
             1.0,
             "#f0f921"
            ]
           ],
           "diverging": [
            [
             0,
             "#8e0152"
            ],
            [
             0.1,
             "#c51b7d"
            ],
            [
             0.2,
             "#de77ae"
            ],
            [
             0.3,
             "#f1b6da"
            ],
            [
             0.4,
             "#fde0ef"
            ],
            [
             0.5,
             "#f7f7f7"
            ],
            [
             0.6,
             "#e6f5d0"
            ],
            [
             0.7,
             "#b8e186"
            ],
            [
             0.8,
             "#7fbc41"
            ],
            [
             0.9,
             "#4d9221"
            ],
            [
             1,
             "#276419"
            ]
           ]
          },
          "xaxis": {
           "gridcolor": "#283442",
           "linecolor": "#506784",
           "ticks": "",
           "title": {
            "standoff": 15
           },
           "zerolinecolor": "#283442",
           "automargin": true,
           "zerolinewidth": 2
          },
          "yaxis": {
           "gridcolor": "#283442",
           "linecolor": "#506784",
           "ticks": "",
           "title": {
            "standoff": 15
           },
           "zerolinecolor": "#283442",
           "automargin": true,
           "zerolinewidth": 2
          },
          "scene": {
           "xaxis": {
            "backgroundcolor": "rgb(17,17,17)",
            "gridcolor": "#506784",
            "linecolor": "#506784",
            "showbackground": true,
            "ticks": "",
            "zerolinecolor": "#C8D4E3",
            "gridwidth": 2
           },
           "yaxis": {
            "backgroundcolor": "rgb(17,17,17)",
            "gridcolor": "#506784",
            "linecolor": "#506784",
            "showbackground": true,
            "ticks": "",
            "zerolinecolor": "#C8D4E3",
            "gridwidth": 2
           },
           "zaxis": {
            "backgroundcolor": "rgb(17,17,17)",
            "gridcolor": "#506784",
            "linecolor": "#506784",
            "showbackground": true,
            "ticks": "",
            "zerolinecolor": "#C8D4E3",
            "gridwidth": 2
           }
          },
          "shapedefaults": {
           "line": {
            "color": "#f2f5fa"
           }
          },
          "annotationdefaults": {
           "arrowcolor": "#f2f5fa",
           "arrowhead": 0,
           "arrowwidth": 1
          },
          "geo": {
           "bgcolor": "rgb(17,17,17)",
           "landcolor": "rgb(17,17,17)",
           "subunitcolor": "#506784",
           "showland": true,
           "showlakes": true,
           "lakecolor": "rgb(17,17,17)"
          },
          "title": {
           "x": 0.05
          },
          "updatemenudefaults": {
           "bgcolor": "#506784",
           "borderwidth": 0
          },
          "sliderdefaults": {
           "bgcolor": "#C8D4E3",
           "borderwidth": 1,
           "bordercolor": "rgb(17,17,17)",
           "tickwidth": 0
          },
          "mapbox": {
           "style": "dark"
          }
         }
        },
        "xaxis": {
         "anchor": "y",
         "domain": [
          0.0,
          1.0
         ],
         "title": {
          "text": "False Positive Rate"
         }
        },
        "yaxis": {
         "anchor": "x",
         "domain": [
          0.0,
          1.0
         ],
         "title": {
          "text": "True Positive Rate"
         }
        },
        "legend": {
         "tracegroupgap": 0
        },
        "title": {
         "text": "ROC Curve (AUC=0.9364)"
        },
        "height": 500,
        "width": 700,
        "shapes": [
         {
          "line": {
           "dash": "dash"
          },
          "type": "line",
          "x0": 0,
          "x1": 1,
          "y0": 0,
          "y1": 1
         }
        ]
       },
       "config": {
        "plotlyServerURL": "https://plot.ly"
       }
      },
      "text/html": "<div>                            <div id=\"3c8975f1-e722-4347-b7e6-26e20a5e4682\" class=\"plotly-graph-div\" style=\"height:500px; width:700px;\"></div>            <script type=\"text/javascript\">                require([\"plotly\"], function(Plotly) {                    window.PLOTLYENV=window.PLOTLYENV || {};                                    if (document.getElementById(\"3c8975f1-e722-4347-b7e6-26e20a5e4682\")) {                    Plotly.newPlot(                        \"3c8975f1-e722-4347-b7e6-26e20a5e4682\",                        [{\"fillpattern\":{\"shape\":\"\"},\"hovertemplate\":\"False Positive Rate=%{x}<br>True Positive Rate=%{y}<extra></extra>\",\"legendgroup\":\"\",\"line\":{\"color\":\"#636efa\"},\"marker\":{\"symbol\":\"circle\"},\"mode\":\"lines\",\"name\":\"\",\"orientation\":\"v\",\"showlegend\":false,\"stackgroup\":\"1\",\"x\":[0.0,0.0,0.0,0.0,0.0,0.0009606147934678194,0.0009606147934678194,0.0009606147934678194,0.0009606147934678194,0.0009606147934678194,0.0009606147934678194,0.0009606147934678194,0.0009606147934678194,0.0009606147934678194,0.0009606147934678194,0.0009606147934678194,0.0019212295869356388,0.0019212295869356388,0.0019212295869356388,0.0019212295869356388,0.002881844380403458,0.002881844380403458,0.002881844380403458,0.0038424591738712775,0.004803073967339097,0.004803073967339097,0.004803073967339097,0.004803073967339097,0.004803073967339097,0.005763688760806916,0.005763688760806916,0.005763688760806916,0.005763688760806916,0.005763688760806916,0.005763688760806916,0.005763688760806916,0.005763688760806916,0.005763688760806916,0.005763688760806916,0.005763688760806916,0.005763688760806916,0.005763688760806916,0.0067243035542747355,0.0067243035542747355,0.0067243035542747355,0.007684918347742555,0.007684918347742555,0.007684918347742555,0.007684918347742555,0.008645533141210375,0.008645533141210375,0.008645533141210375,0.008645533141210375,0.008645533141210375,0.008645533141210375,0.008645533141210375,0.008645533141210375,0.009606147934678195,0.009606147934678195,0.009606147934678195,0.010566762728146013,0.010566762728146013,0.010566762728146013,0.010566762728146013,0.010566762728146013,0.010566762728146013,0.011527377521613832,0.011527377521613832,0.011527377521613832,0.011527377521613832,0.013448607108549471,0.013448607108549471,0.013448607108549471,0.013448607108549471,0.013448607108549471,0.013448607108549471,0.013448607108549471,0.013448607108549471,0.013448607108549471,0.013448607108549471,0.01440922190201729,0.01440922190201729,0.01440922190201729,0.01440922190201729,0.01440922190201729,0.01440922190201729,0.01536983669548511,0.01536983669548511,0.01536983669548511,0.01536983669548511,0.01536983669548511,0.01536983669548511,0.01536983669548511,0.01536983669548511,0.01536983669548511,0.01536983669548511,0.01633045148895293,0.01633045148895293,0.01633045148895293,0.01633045148895293,0.01633045148895293,0.01633045148895293,0.01729106628242075,0.01729106628242075,0.01729106628242075,0.01729106628242075,0.01921229586935639,0.01921229586935639,0.01921229586935639,0.020172910662824207,0.020172910662824207,0.021133525456292025,0.021133525456292025,0.021133525456292025,0.021133525456292025,0.021133525456292025,0.021133525456292025,0.021133525456292025,0.021133525456292025,0.023054755043227664,0.023054755043227664,0.023054755043227664,0.024015369836695485,0.024015369836695485,0.024015369836695485,0.024015369836695485,0.024015369836695485,0.024015369836695485,0.024015369836695485,0.024015369836695485,0.024015369836695485,0.024975984630163303,0.024975984630163303,0.025936599423631124,0.025936599423631124,0.025936599423631124,0.025936599423631124,0.026897214217098942,0.026897214217098942,0.026897214217098942,0.026897214217098942,0.02881844380403458,0.02881844380403458,0.02881844380403458,0.02881844380403458,0.02881844380403458,0.02881844380403458,0.02881844380403458,0.02881844380403458,0.02881844380403458,0.02881844380403458,0.02881844380403458,0.02881844380403458,0.02881844380403458,0.02881844380403458,0.02881844380403458,0.02881844380403458,0.02881844380403458,0.02881844380403458,0.02881844380403458,0.029779058597502402,0.029779058597502402,0.029779058597502402,0.029779058597502402,0.029779058597502402,0.029779058597502402,0.029779058597502402,0.029779058597502402,0.03073967339097022,0.03073967339097022,0.03073967339097022,0.03073967339097022,0.03073967339097022,0.03073967339097022,0.03170028818443804,0.03170028818443804,0.03170028818443804,0.03170028818443804,0.03170028818443804,0.03170028818443804,0.03266090297790586,0.03266090297790586,0.03362151777137368,0.03362151777137368,0.0345821325648415,0.0345821325648415,0.0345821325648415,0.0345821325648415,0.0345821325648415,0.0345821325648415,0.0345821325648415,0.0345821325648415,0.0345821325648415,0.0345821325648415,0.0345821325648415,0.0345821325648415,0.0345821325648415,0.0345821325648415,0.03650336215177714,0.03650336215177714,0.03650336215177714,0.037463976945244955,0.037463976945244955,0.037463976945244955,0.037463976945244955,0.037463976945244955,0.03842459173871278,0.03842459173871278,0.04130643611911623,0.04130643611911623,0.04130643611911623,0.04226705091258405,0.04226705091258405,0.043227665706051875,0.043227665706051875,0.043227665706051875,0.043227665706051875,0.04418828049951969,0.04418828049951969,0.04418828049951969,0.04418828049951969,0.04514889529298751,0.04514889529298751,0.04514889529298751,0.04610951008645533,0.04610951008645533,0.04707012487992315,0.04707012487992315,0.04707012487992315,0.04707012487992315,0.04707012487992315,0.04707012487992315,0.04803073967339097,0.04803073967339097,0.04803073967339097,0.04899135446685879,0.04899135446685879,0.04899135446685879,0.04899135446685879,0.049951969260326606,0.049951969260326606,0.049951969260326606,0.049951969260326606,0.049951969260326606,0.049951969260326606,0.05091258405379443,0.05091258405379443,0.05091258405379443,0.05091258405379443,0.05187319884726225,0.05187319884726225,0.052833813640730067,0.052833813640730067,0.053794428434197884,0.053794428434197884,0.053794428434197884,0.05475504322766571,0.05475504322766571,0.05475504322766571,0.05475504322766571,0.05475504322766571,0.05475504322766571,0.056676272814601344,0.056676272814601344,0.056676272814601344,0.056676272814601344,0.05763688760806916,0.05763688760806916,0.05763688760806916,0.05859750240153699,0.05859750240153699,0.05859750240153699,0.05859750240153699,0.06051873198847262,0.06051873198847262,0.06340057636887608,0.06340057636887608,0.0643611911623439,0.0643611911623439,0.0643611911623439,0.06532180595581172,0.06532180595581172,0.06532180595581172,0.06532180595581172,0.06532180595581172,0.06628242074927954,0.06628242074927954,0.06724303554274735,0.06724303554274735,0.06820365033621517,0.06820365033621517,0.06820365033621517,0.069164265129683,0.069164265129683,0.069164265129683,0.07012487992315082,0.07012487992315082,0.07012487992315082,0.07204610951008646,0.07204610951008646,0.07204610951008646,0.07300672430355427,0.07300672430355427,0.07396733909702209,0.07396733909702209,0.07492795389048991,0.07492795389048991,0.07492795389048991,0.07492795389048991,0.07684918347742556,0.07684918347742556,0.07684918347742556,0.07780979827089338,0.07780979827089338,0.0787704130643612,0.0787704130643612,0.07973102785782901,0.07973102785782901,0.07973102785782901,0.07973102785782901,0.07973102785782901,0.07973102785782901,0.08069164265129683,0.08069164265129683,0.08165225744476465,0.08165225744476465,0.08165225744476465,0.08165225744476465,0.08165225744476465,0.08261287223823247,0.08261287223823247,0.08261287223823247,0.08261287223823247,0.08261287223823247,0.0845341018251681,0.0845341018251681,0.0845341018251681,0.08549471661863593,0.08549471661863593,0.08645533141210375,0.08645533141210375,0.08741594620557157,0.08741594620557157,0.08741594620557157,0.08837656099903939,0.08837656099903939,0.0893371757925072,0.0893371757925072,0.0893371757925072,0.0893371757925072,0.0893371757925072,0.0893371757925072,0.09029779058597502,0.09029779058597502,0.09125840537944284,0.09125840537944284,0.09125840537944284,0.09125840537944284,0.09221902017291066,0.09221902017291066,0.09221902017291066,0.09317963496637849,0.09317963496637849,0.09317963496637849,0.09317963496637849,0.09317963496637849,0.0941402497598463,0.0941402497598463,0.09606147934678194,0.09606147934678194,0.09702209414024976,0.09702209414024976,0.09798270893371758,0.09798270893371758,0.09990393852065321,0.09990393852065321,0.09990393852065321,0.09990393852065321,0.10182516810758886,0.10182516810758886,0.1037463976945245,0.1037463976945245,0.10470701248799232,0.10470701248799232,0.10951008645533142,0.10951008645533142,0.11047070124879924,0.11047070124879924,0.11143131604226705,0.11143131604226705,0.11239193083573487,0.11239193083573487,0.11335254562920269,0.11335254562920269,0.11527377521613832,0.11527377521613832,0.11527377521613832,0.11623439000960614,0.11623439000960614,0.11815561959654179,0.11815561959654179,0.11815561959654179,0.11815561959654179,0.11911623439000961,0.11911623439000961,0.12007684918347743,0.12007684918347743,0.12295869356388088,0.12295869356388088,0.12295869356388088,0.1239193083573487,0.1239193083573487,0.1239193083573487,0.1239193083573487,0.1239193083573487,0.12487992315081652,0.12487992315081652,0.12584053794428435,0.12584053794428435,0.12776176753121998,0.12776176753121998,0.12776176753121998,0.1287223823246878,0.1287223823246878,0.13064361191162344,0.13064361191162344,0.13160422670509125,0.13160422670509125,0.1335254562920269,0.1335254562920269,0.1344860710854947,0.1344860710854947,0.13544668587896252,0.13544668587896252,0.13640730067243034,0.13640730067243034,0.1373679154658982,0.1373679154658982,0.1373679154658982,0.138328530259366,0.138328530259366,0.13928914505283382,0.13928914505283382,0.14217098943323728,0.14217098943323728,0.1431316042267051,0.1431316042267051,0.14505283381364073,0.14505283381364073,0.14505283381364073,0.14697406340057637,0.14697406340057637,0.14697406340057637,0.14697406340057637,0.14697406340057637,0.14697406340057637,0.14697406340057637,0.14697406340057637,0.14985590778097982,0.14985590778097982,0.14985590778097982,0.14985590778097982,0.15081652257444764,0.15081652257444764,0.15081652257444764,0.15273775216138327,0.15273775216138327,0.15465898174831894,0.15465898174831894,0.15561959654178675,0.15561959654178675,0.1585014409221902,0.1585014409221902,0.15946205571565802,0.15946205571565802,0.1642651296829971,0.1642651296829971,0.16522574447646493,0.16522574447646493,0.16618635926993275,0.16618635926993275,0.16714697406340057,0.16714697406340057,0.16810758885686838,0.16810758885686838,0.17387127761767532,0.17387127761767532,0.17579250720461095,0.17579250720461095,0.17675312199807877,0.17675312199807877,0.1777137367915466,0.1777137367915466,0.1786743515850144,0.1786743515850144,0.18059558117195004,0.18059558117195004,0.18155619596541786,0.18155619596541786,0.18155619596541786,0.18251681075888568,0.18251681075888568,0.1873198847262248,0.1873198847262248,0.1882804995196926,0.1882804995196926,0.19116234390009607,0.19116234390009607,0.1930835734870317,0.1930835734870317,0.1978866474543708,0.1978866474543708,0.20076849183477424,0.20076849183477424,0.2017291066282421,0.2017291066282421,0.20365033621517772,0.20365033621517772,0.21037463976945245,0.21037463976945245,0.21037463976945245,0.21998078770413065,0.21998078770413065,0.2228626320845341,0.2228626320845341,0.22382324687800192,0.22382324687800192,0.22382324687800192,0.22478386167146974,0.22478386167146974,0.22478386167146974,0.24111431316042267,0.24111431316042267,0.2430355427473583,0.2430355427473583,0.2430355427473583,0.24495677233429394,0.24495677233429394,0.24975984630163303,0.24975984630163303,0.2680115273775216,0.2680115273775216,0.27761767531219983,0.27761767531219983,0.28338136407300674,0.28338136407300674,0.28914505283381364,0.28914505283381364,0.2968299711815562,0.2968299711815562,0.30067243035542746,0.30067243035542746,0.3102785782901057,0.3102785782901057,0.32372718539865514,0.32372718539865514,0.34390009606147937,0.34390009606147937,0.6071085494716618,0.6090297790585975,0.6484149855907781,0.6512968299711815,0.659942363112392,0.6618635926993276,0.6676272814601345,0.6695485110470701,0.6791546589817483,0.6820365033621518,0.7089337175792507,0.7118155619596542,0.7300672430355427,0.7358309317963496,0.7732949087415946,0.7752161383285303,0.8049951969260326,0.8146013448607109,0.8174831892411143,0.8194044188280499,0.840537944284342,0.8443804034582133,0.851104707012488,0.8530259365994236,0.8559077809798271,0.8578290105667628,0.878001921229587,0.8856868395773295,0.8876080691642652,0.8933717579250721,0.8952929875120077,0.899135446685879,0.9029779058597502,0.9077809798270894,0.909702209414025,0.9106628242074928,0.9125840537944284,0.9173871277617676,0.9183477425552353,0.9269932756964457,0.9289145052833814,1.0],\"xaxis\":\"x\",\"y\":[0.0,0.0008984725965858042,0.006289308176100629,0.008086253369272238,0.008984725965858042,0.009883198562443846,0.015274034141958671,0.017969451931716084,0.019766397124887692,0.02605570530098832,0.027852650494159928,0.03234501347708895,0.034141958670260555,0.03504043126684636,0.03773584905660377,0.039532794249775384,0.04043126684636118,0.042228212039532795,0.04582210242587601,0.04672057502246182,0.05121293800539083,0.05390835579514825,0.05750224618149147,0.05929919137466307,0.05929919137466307,0.0646900269541779,0.0664869721473495,0.07726864330637916,0.08086253369272237,0.08086253369272237,0.08355795148247978,0.0853548966756514,0.0862533692722372,0.0880503144654088,0.09074573225516622,0.09254267744833783,0.09344115004492363,0.09523809523809523,0.09613656783468104,0.09793351302785265,0.10242587601078167,0.10601976639712489,0.10601976639712489,0.1078167115902965,0.1087151841868823,0.1087151841868823,0.1096136567834681,0.11141060197663971,0.11859838274932614,0.11859838274932614,0.11949685534591195,0.12129380053908356,0.132973944294699,0.1347708894878706,0.13566936208445643,0.13746630727762804,0.14555256064690028,0.14555256064690028,0.14734950584007186,0.14824797843665768,0.14914645103324348,0.1518418688230009,0.15363881401617252,0.16082659478885894,0.16262353998203055,0.16891284815813118,0.16981132075471697,0.17160826594788858,0.1752021563342318,0.1778975741239892,0.1778975741239892,0.17879604672057503,0.18059299191374664,0.18508535489667566,0.18867924528301888,0.19137466307277629,0.1931716082659479,0.1949685534591195,0.1967654986522911,0.20305480682839172,0.20305480682839172,0.20395327942497754,0.20575022461814915,0.20844564240790656,0.21024258760107817,0.21114106019766396,0.21114106019766396,0.21473495058400718,0.2183288409703504,0.22371967654986524,0.22551662174303683,0.22641509433962265,0.23000898472596587,0.23270440251572327,0.23450134770889489,0.2389937106918239,0.2389937106918239,0.24258760107816713,0.24797843665768193,0.25426774483378256,0.2578616352201258,0.25965858041329737,0.25965858041329737,0.261455525606469,0.2632524707996406,0.265947888589398,0.265947888589398,0.2821203953279425,0.2839173405211141,0.2839173405211141,0.2973944294699012,0.2973944294699012,0.3000898472596586,0.3018867924528302,0.3054806828391734,0.3090745732255166,0.3216531895777179,0.32345013477088946,0.3252470799640611,0.3252470799640611,0.3288409703504043,0.3297394429469901,0.3297394429469901,0.33782569631626236,0.33962264150943394,0.34591194968553457,0.3477088948787062,0.3495058400718778,0.353099730458221,0.3557951482479784,0.35759209344115006,0.3584905660377358,0.35938903863432164,0.35938903863432164,0.3611859838274933,0.36298292902066487,0.3656783468104223,0.3656783468104223,0.3692722371967655,0.3710691823899371,0.3746630727762803,0.3746630727762803,0.37646001796945194,0.37735849056603776,0.37915543575920935,0.38005390835579517,0.38185085354896675,0.38724168912848156,0.3890386343216532,0.3908355795148248,0.3926325247079964,0.394429469901168,0.39622641509433965,0.40341419586702604,0.4052111410601977,0.40700808625336926,0.4088050314465409,0.41509433962264153,0.41778975741239893,0.4195867026055705,0.4195867026055705,0.4222821203953279,0.42407906558849956,0.4276729559748428,0.42946990116801437,0.431266846361186,0.4330637915543576,0.4339622641509434,0.4339622641509434,0.44923629829290207,0.45103324348607365,0.4519317160826595,0.4537286612758311,0.4546271338724169,0.4546271338724169,0.46001796945193174,0.4618149146451033,0.46451033243486073,0.46630727762803237,0.46900269541778977,0.46900269541778977,0.4752920035938904,0.4752920035938904,0.47619047619047616,0.47619047619047616,0.4788858939802336,0.4806828391734052,0.48247978436657685,0.48427672955974843,0.48607367475292,0.48787061994609165,0.48966756513926324,0.4950584007187781,0.4968553459119497,0.49865229110512127,0.5004492362982929,0.5022461814914645,0.5058400718778078,0.5058400718778078,0.5076370170709793,0.5094339622641509,0.5094339622641509,0.5112309074573226,0.5166217430368374,0.518418688230009,0.5247079964061097,0.5247079964061097,0.5292003593890386,0.5292003593890386,0.5309973045822103,0.5327942497753818,0.5327942497753818,0.5354896675651393,0.5354896675651393,0.5381850853548967,0.5408805031446541,0.5444743935309974,0.5444743935309974,0.5453728661275831,0.5489667565139263,0.5561545372866128,0.5561545372866128,0.5579514824797843,0.5615453728661276,0.5615453728661276,0.5633423180592992,0.5633423180592992,0.568733153638814,0.5741239892183289,0.5750224618149147,0.5786163522012578,0.5795148247978437,0.5795148247978437,0.5804132973944295,0.5822102425876011,0.5822102425876011,0.5858041329739443,0.5876010781671159,0.5884995507637018,0.5884995507637018,0.5902964959568733,0.5956873315363881,0.5983827493261455,0.6001796945193172,0.601078167115903,0.601078167115903,0.605570530098832,0.6073674752920036,0.6091644204851752,0.6091644204851752,0.6118598382749326,0.6118598382749326,0.6190476190476191,0.6190476190476191,0.6208445642407907,0.6226415094339622,0.6226415094339622,0.6253369272237197,0.6271338724168913,0.6316262353998203,0.633423180592992,0.6370170709793351,0.6370170709793351,0.637915543575921,0.6397124887690926,0.6406109613656783,0.6406109613656783,0.6415094339622641,0.6433063791554358,0.6433063791554358,0.6442048517520216,0.6477987421383647,0.6486972147349506,0.6486972147349506,0.6504941599281222,0.6504941599281222,0.651392632524708,0.651392632524708,0.6531895777178796,0.6549865229110512,0.6549865229110512,0.655884995507637,0.6576819407008087,0.6585804132973945,0.660377358490566,0.660377358490566,0.6621743036837376,0.6621743036837376,0.6630727762803235,0.6630727762803235,0.6657681940700808,0.6675651392632524,0.6675651392632524,0.6693620844564241,0.6702605570530099,0.6702605570530099,0.6738544474393531,0.6756513926325247,0.6756513926325247,0.6783468104222821,0.6801437556154537,0.6801437556154537,0.6819407008086253,0.6819407008086253,0.683737646001797,0.683737646001797,0.6864330637915543,0.688230008984726,0.6891284815813118,0.6891284815813118,0.6918238993710691,0.6936208445642408,0.6936208445642408,0.6999101527403414,0.6999101527403414,0.7008086253369272,0.7008086253369272,0.7044025157232704,0.7079964061096137,0.7115902964959568,0.7151841868823001,0.7169811320754716,0.7169811320754716,0.7196765498652291,0.7196765498652291,0.7214734950584007,0.7232704402515723,0.7250673854447439,0.7268643306379156,0.7268643306379156,0.7286612758310872,0.7295597484276729,0.7313566936208445,0.7322551662174304,0.7322551662174304,0.734052111410602,0.7367475292003594,0.7367475292003594,0.7421383647798742,0.7421383647798742,0.7448337825696316,0.7448337825696316,0.7502246181491464,0.7529200359389039,0.7529200359389039,0.7538185085354897,0.7538185085354897,0.7556154537286612,0.756513926325247,0.7583108715184187,0.7592093441150045,0.7610062893081762,0.7610062893081762,0.7637017070979335,0.7637017070979335,0.7646001796945193,0.766397124887691,0.7744833782569631,0.7744833782569631,0.7762803234501348,0.7780772686433064,0.7780772686433064,0.7816711590296496,0.7834681042228212,0.7861635220125787,0.7879604672057502,0.7879604672057502,0.788858939802336,0.788858939802336,0.793351302785265,0.793351302785265,0.7942497753818508,0.7942497753818508,0.7951482479784366,0.7951482479784366,0.7960467205750225,0.7978436657681941,0.7987421383647799,0.7987421383647799,0.8005390835579514,0.8005390835579514,0.8014375561545373,0.8014375561545373,0.8023360287511231,0.8023360287511231,0.8041329739442947,0.8041329739442947,0.8086253369272237,0.8086253369272237,0.8095238095238095,0.8095238095238095,0.8113207547169812,0.8113207547169812,0.8122192273135669,0.8122192273135669,0.8131176999101527,0.8158131176999102,0.8158131176999102,0.816711590296496,0.816711590296496,0.8203054806828391,0.8221024258760108,0.8230008984725966,0.8230008984725966,0.8238993710691824,0.8238993710691824,0.8292902066486972,0.8292902066486972,0.8301886792452831,0.8355795148247979,0.8355795148247979,0.839173405211141,0.8436657681940701,0.8490566037735849,0.8508535489667565,0.8508535489667565,0.8526504941599281,0.8526504941599281,0.8544474393530997,0.8553459119496856,0.8598382749326146,0.8634321653189577,0.8634321653189577,0.8661275831087152,0.8661275831087152,0.8679245283018868,0.8679245283018868,0.8697214734950584,0.8697214734950584,0.87151841868823,0.87151841868823,0.8733153638814016,0.8733153638814016,0.8751123090745733,0.8751123090745733,0.8778077268643306,0.8778077268643306,0.8787061994609164,0.8823000898472596,0.8823000898472596,0.8831985624438454,0.8831985624438454,0.8849955076370171,0.8849955076370171,0.8876909254267745,0.8876909254267745,0.889487870619946,0.889487870619946,0.8921832884097035,0.8939802336028752,0.8939802336028752,0.8957771787960467,0.8966756513926325,0.8984725965858041,0.89937106918239,0.9011680143755616,0.9020664869721473,0.903863432165319,0.903863432165319,0.9047619047619048,0.9065588499550764,0.9074573225516622,0.9074573225516622,0.9083557951482479,0.9101527403414196,0.9101527403414196,0.9110512129380054,0.9110512129380054,0.912848158131177,0.912848158131177,0.9146451033243486,0.9146451033243486,0.9164420485175202,0.9164420485175202,0.9182389937106918,0.9182389937106918,0.9200359389038635,0.9200359389038635,0.921832884097035,0.921832884097035,0.9272237196765498,0.9272237196765498,0.9281221922731356,0.9281221922731356,0.9290206648697215,0.9290206648697215,0.9299191374663073,0.9299191374663073,0.9308176100628931,0.9308176100628931,0.9326145552560647,0.9326145552560647,0.9344115004492363,0.9344115004492363,0.9353099730458221,0.9353099730458221,0.9362084456424079,0.9362084456424079,0.9380053908355795,0.9398023360287511,0.9398023360287511,0.9415992812219227,0.9415992812219227,0.9433962264150944,0.9433962264150944,0.945193171608266,0.945193171608266,0.9460916442048517,0.9460916442048517,0.9478885893980233,0.9478885893980233,0.949685534591195,0.949685534591195,0.9514824797843666,0.9514824797843666,0.9532794249775381,0.9532794249775381,0.9550763701707098,0.9550763701707098,0.9568733153638814,0.9577717879604672,0.9577717879604672,0.958670260557053,0.958670260557053,0.9595687331536388,0.9595687331536388,0.9613656783468104,0.9622641509433962,0.9622641509433962,0.9649595687331537,0.9667565139263252,0.9667565139263252,0.9685534591194969,0.9685534591194969,0.97214734950584,0.9748427672955975,0.9748427672955975,0.9766397124887691,0.9766397124887691,0.9784366576819407,0.9784366576819407,0.9811320754716981,0.9811320754716981,0.9820305480682839,0.9820305480682839,0.9847259658580413,0.9847259658580413,0.9865229110512129,0.9865229110512129,0.9883198562443846,0.9883198562443846,0.9910152740341419,0.9910152740341419,0.9937106918238994,0.9937106918238994,0.995507637017071,0.995507637017071,0.9973045822102425,0.9973045822102425,0.9973045822102425,0.9973045822102425,0.9973045822102425,0.9973045822102425,0.9973045822102425,0.9973045822102425,0.9973045822102425,0.9973045822102425,0.9973045822102425,0.9973045822102425,0.9973045822102425,0.9973045822102425,0.9973045822102425,0.9973045822102425,0.9973045822102425,0.9973045822102425,0.9973045822102425,0.9973045822102425,0.9973045822102425,0.9973045822102425,0.9973045822102425,0.9973045822102425,0.9973045822102425,0.9973045822102425,0.9973045822102425,1.0,1.0,1.0,1.0,1.0,1.0,1.0,1.0,1.0,1.0,1.0,1.0,1.0,1.0,1.0,1.0],\"yaxis\":\"y\",\"type\":\"scatter\"}],                        {\"template\":{\"data\":{\"histogram2dcontour\":[{\"type\":\"histogram2dcontour\",\"colorbar\":{\"outlinewidth\":0,\"ticks\":\"\"},\"colorscale\":[[0.0,\"#0d0887\"],[0.1111111111111111,\"#46039f\"],[0.2222222222222222,\"#7201a8\"],[0.3333333333333333,\"#9c179e\"],[0.4444444444444444,\"#bd3786\"],[0.5555555555555556,\"#d8576b\"],[0.6666666666666666,\"#ed7953\"],[0.7777777777777778,\"#fb9f3a\"],[0.8888888888888888,\"#fdca26\"],[1.0,\"#f0f921\"]]}],\"choropleth\":[{\"type\":\"choropleth\",\"colorbar\":{\"outlinewidth\":0,\"ticks\":\"\"}}],\"histogram2d\":[{\"type\":\"histogram2d\",\"colorbar\":{\"outlinewidth\":0,\"ticks\":\"\"},\"colorscale\":[[0.0,\"#0d0887\"],[0.1111111111111111,\"#46039f\"],[0.2222222222222222,\"#7201a8\"],[0.3333333333333333,\"#9c179e\"],[0.4444444444444444,\"#bd3786\"],[0.5555555555555556,\"#d8576b\"],[0.6666666666666666,\"#ed7953\"],[0.7777777777777778,\"#fb9f3a\"],[0.8888888888888888,\"#fdca26\"],[1.0,\"#f0f921\"]]}],\"heatmap\":[{\"type\":\"heatmap\",\"colorbar\":{\"outlinewidth\":0,\"ticks\":\"\"},\"colorscale\":[[0.0,\"#0d0887\"],[0.1111111111111111,\"#46039f\"],[0.2222222222222222,\"#7201a8\"],[0.3333333333333333,\"#9c179e\"],[0.4444444444444444,\"#bd3786\"],[0.5555555555555556,\"#d8576b\"],[0.6666666666666666,\"#ed7953\"],[0.7777777777777778,\"#fb9f3a\"],[0.8888888888888888,\"#fdca26\"],[1.0,\"#f0f921\"]]}],\"heatmapgl\":[{\"type\":\"heatmapgl\",\"colorbar\":{\"outlinewidth\":0,\"ticks\":\"\"},\"colorscale\":[[0.0,\"#0d0887\"],[0.1111111111111111,\"#46039f\"],[0.2222222222222222,\"#7201a8\"],[0.3333333333333333,\"#9c179e\"],[0.4444444444444444,\"#bd3786\"],[0.5555555555555556,\"#d8576b\"],[0.6666666666666666,\"#ed7953\"],[0.7777777777777778,\"#fb9f3a\"],[0.8888888888888888,\"#fdca26\"],[1.0,\"#f0f921\"]]}],\"contourcarpet\":[{\"type\":\"contourcarpet\",\"colorbar\":{\"outlinewidth\":0,\"ticks\":\"\"}}],\"contour\":[{\"type\":\"contour\",\"colorbar\":{\"outlinewidth\":0,\"ticks\":\"\"},\"colorscale\":[[0.0,\"#0d0887\"],[0.1111111111111111,\"#46039f\"],[0.2222222222222222,\"#7201a8\"],[0.3333333333333333,\"#9c179e\"],[0.4444444444444444,\"#bd3786\"],[0.5555555555555556,\"#d8576b\"],[0.6666666666666666,\"#ed7953\"],[0.7777777777777778,\"#fb9f3a\"],[0.8888888888888888,\"#fdca26\"],[1.0,\"#f0f921\"]]}],\"surface\":[{\"type\":\"surface\",\"colorbar\":{\"outlinewidth\":0,\"ticks\":\"\"},\"colorscale\":[[0.0,\"#0d0887\"],[0.1111111111111111,\"#46039f\"],[0.2222222222222222,\"#7201a8\"],[0.3333333333333333,\"#9c179e\"],[0.4444444444444444,\"#bd3786\"],[0.5555555555555556,\"#d8576b\"],[0.6666666666666666,\"#ed7953\"],[0.7777777777777778,\"#fb9f3a\"],[0.8888888888888888,\"#fdca26\"],[1.0,\"#f0f921\"]]}],\"mesh3d\":[{\"type\":\"mesh3d\",\"colorbar\":{\"outlinewidth\":0,\"ticks\":\"\"}}],\"scatter\":[{\"marker\":{\"line\":{\"color\":\"#283442\"}},\"type\":\"scatter\"}],\"parcoords\":[{\"type\":\"parcoords\",\"line\":{\"colorbar\":{\"outlinewidth\":0,\"ticks\":\"\"}}}],\"scatterpolargl\":[{\"type\":\"scatterpolargl\",\"marker\":{\"colorbar\":{\"outlinewidth\":0,\"ticks\":\"\"}}}],\"bar\":[{\"error_x\":{\"color\":\"#f2f5fa\"},\"error_y\":{\"color\":\"#f2f5fa\"},\"marker\":{\"line\":{\"color\":\"rgb(17,17,17)\",\"width\":0.5},\"pattern\":{\"fillmode\":\"overlay\",\"size\":10,\"solidity\":0.2}},\"type\":\"bar\"}],\"scattergeo\":[{\"type\":\"scattergeo\",\"marker\":{\"colorbar\":{\"outlinewidth\":0,\"ticks\":\"\"}}}],\"scatterpolar\":[{\"type\":\"scatterpolar\",\"marker\":{\"colorbar\":{\"outlinewidth\":0,\"ticks\":\"\"}}}],\"histogram\":[{\"marker\":{\"pattern\":{\"fillmode\":\"overlay\",\"size\":10,\"solidity\":0.2}},\"type\":\"histogram\"}],\"scattergl\":[{\"marker\":{\"line\":{\"color\":\"#283442\"}},\"type\":\"scattergl\"}],\"scatter3d\":[{\"type\":\"scatter3d\",\"line\":{\"colorbar\":{\"outlinewidth\":0,\"ticks\":\"\"}},\"marker\":{\"colorbar\":{\"outlinewidth\":0,\"ticks\":\"\"}}}],\"scattermapbox\":[{\"type\":\"scattermapbox\",\"marker\":{\"colorbar\":{\"outlinewidth\":0,\"ticks\":\"\"}}}],\"scatterternary\":[{\"type\":\"scatterternary\",\"marker\":{\"colorbar\":{\"outlinewidth\":0,\"ticks\":\"\"}}}],\"scattercarpet\":[{\"type\":\"scattercarpet\",\"marker\":{\"colorbar\":{\"outlinewidth\":0,\"ticks\":\"\"}}}],\"carpet\":[{\"aaxis\":{\"endlinecolor\":\"#A2B1C6\",\"gridcolor\":\"#506784\",\"linecolor\":\"#506784\",\"minorgridcolor\":\"#506784\",\"startlinecolor\":\"#A2B1C6\"},\"baxis\":{\"endlinecolor\":\"#A2B1C6\",\"gridcolor\":\"#506784\",\"linecolor\":\"#506784\",\"minorgridcolor\":\"#506784\",\"startlinecolor\":\"#A2B1C6\"},\"type\":\"carpet\"}],\"table\":[{\"cells\":{\"fill\":{\"color\":\"#506784\"},\"line\":{\"color\":\"rgb(17,17,17)\"}},\"header\":{\"fill\":{\"color\":\"#2a3f5f\"},\"line\":{\"color\":\"rgb(17,17,17)\"}},\"type\":\"table\"}],\"barpolar\":[{\"marker\":{\"line\":{\"color\":\"rgb(17,17,17)\",\"width\":0.5},\"pattern\":{\"fillmode\":\"overlay\",\"size\":10,\"solidity\":0.2}},\"type\":\"barpolar\"}],\"pie\":[{\"automargin\":true,\"type\":\"pie\"}]},\"layout\":{\"autotypenumbers\":\"strict\",\"colorway\":[\"#636efa\",\"#EF553B\",\"#00cc96\",\"#ab63fa\",\"#FFA15A\",\"#19d3f3\",\"#FF6692\",\"#B6E880\",\"#FF97FF\",\"#FECB52\"],\"font\":{\"color\":\"#f2f5fa\"},\"hovermode\":\"closest\",\"hoverlabel\":{\"align\":\"left\"},\"paper_bgcolor\":\"rgb(17,17,17)\",\"plot_bgcolor\":\"rgb(17,17,17)\",\"polar\":{\"bgcolor\":\"rgb(17,17,17)\",\"angularaxis\":{\"gridcolor\":\"#506784\",\"linecolor\":\"#506784\",\"ticks\":\"\"},\"radialaxis\":{\"gridcolor\":\"#506784\",\"linecolor\":\"#506784\",\"ticks\":\"\"}},\"ternary\":{\"bgcolor\":\"rgb(17,17,17)\",\"aaxis\":{\"gridcolor\":\"#506784\",\"linecolor\":\"#506784\",\"ticks\":\"\"},\"baxis\":{\"gridcolor\":\"#506784\",\"linecolor\":\"#506784\",\"ticks\":\"\"},\"caxis\":{\"gridcolor\":\"#506784\",\"linecolor\":\"#506784\",\"ticks\":\"\"}},\"coloraxis\":{\"colorbar\":{\"outlinewidth\":0,\"ticks\":\"\"}},\"colorscale\":{\"sequential\":[[0.0,\"#0d0887\"],[0.1111111111111111,\"#46039f\"],[0.2222222222222222,\"#7201a8\"],[0.3333333333333333,\"#9c179e\"],[0.4444444444444444,\"#bd3786\"],[0.5555555555555556,\"#d8576b\"],[0.6666666666666666,\"#ed7953\"],[0.7777777777777778,\"#fb9f3a\"],[0.8888888888888888,\"#fdca26\"],[1.0,\"#f0f921\"]],\"sequentialminus\":[[0.0,\"#0d0887\"],[0.1111111111111111,\"#46039f\"],[0.2222222222222222,\"#7201a8\"],[0.3333333333333333,\"#9c179e\"],[0.4444444444444444,\"#bd3786\"],[0.5555555555555556,\"#d8576b\"],[0.6666666666666666,\"#ed7953\"],[0.7777777777777778,\"#fb9f3a\"],[0.8888888888888888,\"#fdca26\"],[1.0,\"#f0f921\"]],\"diverging\":[[0,\"#8e0152\"],[0.1,\"#c51b7d\"],[0.2,\"#de77ae\"],[0.3,\"#f1b6da\"],[0.4,\"#fde0ef\"],[0.5,\"#f7f7f7\"],[0.6,\"#e6f5d0\"],[0.7,\"#b8e186\"],[0.8,\"#7fbc41\"],[0.9,\"#4d9221\"],[1,\"#276419\"]]},\"xaxis\":{\"gridcolor\":\"#283442\",\"linecolor\":\"#506784\",\"ticks\":\"\",\"title\":{\"standoff\":15},\"zerolinecolor\":\"#283442\",\"automargin\":true,\"zerolinewidth\":2},\"yaxis\":{\"gridcolor\":\"#283442\",\"linecolor\":\"#506784\",\"ticks\":\"\",\"title\":{\"standoff\":15},\"zerolinecolor\":\"#283442\",\"automargin\":true,\"zerolinewidth\":2},\"scene\":{\"xaxis\":{\"backgroundcolor\":\"rgb(17,17,17)\",\"gridcolor\":\"#506784\",\"linecolor\":\"#506784\",\"showbackground\":true,\"ticks\":\"\",\"zerolinecolor\":\"#C8D4E3\",\"gridwidth\":2},\"yaxis\":{\"backgroundcolor\":\"rgb(17,17,17)\",\"gridcolor\":\"#506784\",\"linecolor\":\"#506784\",\"showbackground\":true,\"ticks\":\"\",\"zerolinecolor\":\"#C8D4E3\",\"gridwidth\":2},\"zaxis\":{\"backgroundcolor\":\"rgb(17,17,17)\",\"gridcolor\":\"#506784\",\"linecolor\":\"#506784\",\"showbackground\":true,\"ticks\":\"\",\"zerolinecolor\":\"#C8D4E3\",\"gridwidth\":2}},\"shapedefaults\":{\"line\":{\"color\":\"#f2f5fa\"}},\"annotationdefaults\":{\"arrowcolor\":\"#f2f5fa\",\"arrowhead\":0,\"arrowwidth\":1},\"geo\":{\"bgcolor\":\"rgb(17,17,17)\",\"landcolor\":\"rgb(17,17,17)\",\"subunitcolor\":\"#506784\",\"showland\":true,\"showlakes\":true,\"lakecolor\":\"rgb(17,17,17)\"},\"title\":{\"x\":0.05},\"updatemenudefaults\":{\"bgcolor\":\"#506784\",\"borderwidth\":0},\"sliderdefaults\":{\"bgcolor\":\"#C8D4E3\",\"borderwidth\":1,\"bordercolor\":\"rgb(17,17,17)\",\"tickwidth\":0},\"mapbox\":{\"style\":\"dark\"}}},\"xaxis\":{\"anchor\":\"y\",\"domain\":[0.0,1.0],\"title\":{\"text\":\"False Positive Rate\"}},\"yaxis\":{\"anchor\":\"x\",\"domain\":[0.0,1.0],\"title\":{\"text\":\"True Positive Rate\"}},\"legend\":{\"tracegroupgap\":0},\"title\":{\"text\":\"ROC Curve (AUC=0.9364)\"},\"height\":500,\"width\":700,\"shapes\":[{\"line\":{\"dash\":\"dash\"},\"type\":\"line\",\"x0\":0,\"x1\":1,\"y0\":0,\"y1\":1}]},                        {\"responsive\": true}                    ).then(function(){\n                            \nvar gd = document.getElementById('3c8975f1-e722-4347-b7e6-26e20a5e4682');\nvar x = new MutationObserver(function (mutations, observer) {{\n        var display = window.getComputedStyle(gd).display;\n        if (!display || display === 'none') {{\n            console.log([gd, 'removed!']);\n            Plotly.purge(gd);\n            observer.disconnect();\n        }}\n}});\n\n// Listen for the removal of the full notebook cells\nvar notebookContainer = gd.closest('#notebook-container');\nif (notebookContainer) {{\n    x.observe(notebookContainer, {childList: true});\n}}\n\n// Listen for the clearing of the current output cell\nvar outputEl = gd.closest('.output');\nif (outputEl) {{\n    x.observe(outputEl, {childList: true});\n}}\n\n                        })                };                });            </script>        </div>"
     },
     "metadata": {},
     "output_type": "display_data"
    }
   ],
   "source": [
    "probabilities_valid = rfc.predict_proba(features_test)\n",
    "probabilities_one_valid = probabilities_valid[:, 1]\n",
    "\n",
    "plot_roc_auc_curve(target_test, probabilities_one_valid)"
   ],
   "metadata": {
    "collapsed": false,
    "pycharm": {
     "name": "#%%\n"
    }
   }
  },
  {
   "cell_type": "code",
   "execution_count": 218,
   "outputs": [
    {
     "data": {
      "text/plain": "array([[ 793,  248],\n       [  37, 1076]], dtype=int64)"
     },
     "execution_count": 218,
     "metadata": {},
     "output_type": "execute_result"
    }
   ],
   "source": [
    "confusion_matrix(target_test, rfc.predict(features_test))"
   ],
   "metadata": {
    "collapsed": false,
    "pycharm": {
     "name": "#%%\n"
    }
   }
  },
  {
   "cell_type": "markdown",
   "source": [
    "Ошибок второго рода гораздо больше, чем ошибок первого рода. Это значит, что заказчик будет чаще отправлять промо клиентам, которые и так не собирались уходить, но такой подход может повысить лояльность клиентов к компании."
   ],
   "metadata": {
    "collapsed": false,
    "pycharm": {
     "name": "#%% md\n"
    }
   }
  },
  {
   "cell_type": "markdown",
   "source": [
    "# Вывдоы\n",
    "\n",
    "В результате работы для телеком компании «Ниединогоразрыва.ком» было обучено две модели оттока клиентов CatboostClassifier и RandomForestClassifier.\n",
    "Наилучшим образом себя показал RandomForestClassifier со следующими гиперпараметрами:\n",
    "\n",
    " - n_estimators - 70\n",
    " - min_samples_split - 2\n",
    " - min_samples_leaf - 1\n",
    " - max_depth - 13\n",
    "\n",
    "Данная модель показала 0.9364 ROC-AUC.\n",
    "На тестовой выборке, размером 2154 клиента модель показала\n",
    " - 37 ошибок первого рода\n",
    " - 248 ошибок второго рода\n",
    "\n"
   ],
   "metadata": {
    "collapsed": false,
    "pycharm": {
     "name": "#%% md\n"
    }
   }
  }
 ],
 "metadata": {
  "kernelspec": {
   "display_name": "Python 3",
   "language": "python",
   "name": "python3"
  },
  "language_info": {
   "codemirror_mode": {
    "name": "ipython",
    "version": 2
   },
   "file_extension": ".py",
   "mimetype": "text/x-python",
   "name": "python",
   "nbconvert_exporter": "python",
   "pygments_lexer": "ipython2",
   "version": "2.7.6"
  }
 },
 "nbformat": 4,
 "nbformat_minor": 0
}