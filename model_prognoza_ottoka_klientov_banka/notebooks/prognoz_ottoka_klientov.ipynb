{
 "cells": [
  {
   "cell_type": "markdown",
   "source": [
    "## Описание проекта\n",
    "\n",
    "Из «Бета-Банка» стали уходить клиенты. Каждый месяц. Немного, но заметно. Банковские маркетологи посчитали: сохранять текущих клиентов дешевле, чем привлекать новых.\n",
    "Нужно спрогнозировать, уйдёт клиент из банка в ближайшее время или нет. Вам предоставлены исторические данные о поведении клиентов и расторжении договоров с банком.\n",
    "Постройте модель с предельно большим значением F1-меры. Чтобы сдать проект успешно, нужно довести метрику до 0.59. Проверьте F1-меру на тестовой выборке самостоятельно.\n",
    "Дополнительно измеряйте AUC-ROC, сравнивайте её значение с F1-мерой.\n",
    "\n",
    "## Описание данных\n",
    "\n",
    "Признаки\n",
    "\n",
    "    RowNumber — индекс строки в данных\n",
    "    CustomerId — уникальный идентификатор клиента\n",
    "    Surname — фамилия\n",
    "    CreditScore — кредитный рейтинг\n",
    "    Geography — страна проживания\n",
    "    Gender — пол\n",
    "    Age — возраст\n",
    "    Tenure — сколько лет человек является клиентом банка\n",
    "    Balance — баланс на счёте\n",
    "    NumOfProducts — количество продуктов банка, используемых клиентом\n",
    "    HasCrCard — наличие кредитной карты\n",
    "    IsActiveMember — активность клиента\n",
    "    EstimatedSalary — предполагаемая зарплата\n",
    "\n",
    "Целевой признак\n",
    "\n",
    "    Exited — факт ухода клиента"
   ],
   "metadata": {
    "collapsed": false
   }
  },
  {
   "cell_type": "code",
   "execution_count": 18,
   "metadata": {
    "collapsed": true
   },
   "outputs": [],
   "source": [
    "import pandas as pd\n",
    "import numpy as np\n",
    "from sklearn.utils import shuffle\n",
    "from sklearn.svm import SVC\n",
    "from sklearn.ensemble import RandomForestClassifier\n",
    "from sklearn.tree import DecisionTreeClassifier\n",
    "from sklearn.model_selection import train_test_split\n",
    "from sklearn.metrics import f1_score"
   ]
  },
  {
   "cell_type": "code",
   "execution_count": 9,
   "outputs": [
    {
     "data": {
      "text/plain": "   RowNumber  CustomerId   Surname  CreditScore Geography  Gender  Age  \\\n0          1    15634602  Hargrave          619    France  Female   42   \n1          2    15647311      Hill          608     Spain  Female   41   \n2          3    15619304      Onio          502    France  Female   42   \n3          4    15701354      Boni          699    France  Female   39   \n4          5    15737888  Mitchell          850     Spain  Female   43   \n\n   Tenure    Balance  NumOfProducts  HasCrCard  IsActiveMember  \\\n0     2.0       0.00              1          1               1   \n1     1.0   83807.86              1          0               1   \n2     8.0  159660.80              3          1               0   \n3     1.0       0.00              2          0               0   \n4     2.0  125510.82              1          1               1   \n\n   EstimatedSalary  Exited  \n0        101348.88       1  \n1        112542.58       0  \n2        113931.57       1  \n3         93826.63       0  \n4         79084.10       0  ",
      "text/html": "<div>\n<style scoped>\n    .dataframe tbody tr th:only-of-type {\n        vertical-align: middle;\n    }\n\n    .dataframe tbody tr th {\n        vertical-align: top;\n    }\n\n    .dataframe thead th {\n        text-align: right;\n    }\n</style>\n<table border=\"1\" class=\"dataframe\">\n  <thead>\n    <tr style=\"text-align: right;\">\n      <th></th>\n      <th>RowNumber</th>\n      <th>CustomerId</th>\n      <th>Surname</th>\n      <th>CreditScore</th>\n      <th>Geography</th>\n      <th>Gender</th>\n      <th>Age</th>\n      <th>Tenure</th>\n      <th>Balance</th>\n      <th>NumOfProducts</th>\n      <th>HasCrCard</th>\n      <th>IsActiveMember</th>\n      <th>EstimatedSalary</th>\n      <th>Exited</th>\n    </tr>\n  </thead>\n  <tbody>\n    <tr>\n      <th>0</th>\n      <td>1</td>\n      <td>15634602</td>\n      <td>Hargrave</td>\n      <td>619</td>\n      <td>France</td>\n      <td>Female</td>\n      <td>42</td>\n      <td>2.0</td>\n      <td>0.00</td>\n      <td>1</td>\n      <td>1</td>\n      <td>1</td>\n      <td>101348.88</td>\n      <td>1</td>\n    </tr>\n    <tr>\n      <th>1</th>\n      <td>2</td>\n      <td>15647311</td>\n      <td>Hill</td>\n      <td>608</td>\n      <td>Spain</td>\n      <td>Female</td>\n      <td>41</td>\n      <td>1.0</td>\n      <td>83807.86</td>\n      <td>1</td>\n      <td>0</td>\n      <td>1</td>\n      <td>112542.58</td>\n      <td>0</td>\n    </tr>\n    <tr>\n      <th>2</th>\n      <td>3</td>\n      <td>15619304</td>\n      <td>Onio</td>\n      <td>502</td>\n      <td>France</td>\n      <td>Female</td>\n      <td>42</td>\n      <td>8.0</td>\n      <td>159660.80</td>\n      <td>3</td>\n      <td>1</td>\n      <td>0</td>\n      <td>113931.57</td>\n      <td>1</td>\n    </tr>\n    <tr>\n      <th>3</th>\n      <td>4</td>\n      <td>15701354</td>\n      <td>Boni</td>\n      <td>699</td>\n      <td>France</td>\n      <td>Female</td>\n      <td>39</td>\n      <td>1.0</td>\n      <td>0.00</td>\n      <td>2</td>\n      <td>0</td>\n      <td>0</td>\n      <td>93826.63</td>\n      <td>0</td>\n    </tr>\n    <tr>\n      <th>4</th>\n      <td>5</td>\n      <td>15737888</td>\n      <td>Mitchell</td>\n      <td>850</td>\n      <td>Spain</td>\n      <td>Female</td>\n      <td>43</td>\n      <td>2.0</td>\n      <td>125510.82</td>\n      <td>1</td>\n      <td>1</td>\n      <td>1</td>\n      <td>79084.10</td>\n      <td>0</td>\n    </tr>\n  </tbody>\n</table>\n</div>"
     },
     "execution_count": 9,
     "metadata": {},
     "output_type": "execute_result"
    }
   ],
   "source": [
    "# загрузим и посмотрим на данные\n",
    "data = pd.read_csv('https://code.s3.yandex.net/datasets/Churn.csv')\n",
    "data.name = 'churn_clients'\n",
    "data.head()"
   ],
   "metadata": {
    "collapsed": false,
    "pycharm": {
     "name": "#%%\n"
    }
   }
  },
  {
   "cell_type": "code",
   "execution_count": 15,
   "outputs": [
    {
     "name": "stdout",
     "output_type": "stream",
     "text": [
      "<class 'pandas.core.frame.DataFrame'>\n",
      "RangeIndex: 10000 entries, 0 to 9999\n",
      "Data columns (total 14 columns):\n",
      " #   Column           Non-Null Count  Dtype  \n",
      "---  ------           --------------  -----  \n",
      " 0   RowNumber        10000 non-null  int64  \n",
      " 1   CustomerId       10000 non-null  int64  \n",
      " 2   Surname          10000 non-null  object \n",
      " 3   CreditScore      10000 non-null  int64  \n",
      " 4   Geography        10000 non-null  object \n",
      " 5   Gender           10000 non-null  object \n",
      " 6   Age              10000 non-null  int64  \n",
      " 7   Tenure           9091 non-null   float64\n",
      " 8   Balance          10000 non-null  float64\n",
      " 9   NumOfProducts    10000 non-null  int64  \n",
      " 10  HasCrCard        10000 non-null  int64  \n",
      " 11  IsActiveMember   10000 non-null  int64  \n",
      " 12  EstimatedSalary  10000 non-null  float64\n",
      " 13  Exited           10000 non-null  int64  \n",
      "dtypes: float64(3), int64(8), object(3)\n",
      "memory usage: 1.1+ MB\n"
     ]
    }
   ],
   "source": [
    "data.info()"
   ],
   "metadata": {
    "collapsed": false,
    "pycharm": {
     "name": "#%%\n"
    }
   }
  },
  {
   "cell_type": "code",
   "execution_count": 7,
   "outputs": [
    {
     "data": {
      "text/plain": "                   count          mean           std          min  \\\nRowNumber        10000.0  5.000500e+03   2886.895680         1.00   \nCustomerId       10000.0  1.569094e+07  71936.186123  15565701.00   \nCreditScore      10000.0  6.505288e+02     96.653299       350.00   \nAge              10000.0  3.892180e+01     10.487806        18.00   \nTenure            9091.0  4.997690e+00      2.894723         0.00   \nBalance          10000.0  7.648589e+04  62397.405202         0.00   \nNumOfProducts    10000.0  1.530200e+00      0.581654         1.00   \nHasCrCard        10000.0  7.055000e-01      0.455840         0.00   \nIsActiveMember   10000.0  5.151000e-01      0.499797         0.00   \nEstimatedSalary  10000.0  1.000902e+05  57510.492818        11.58   \nExited           10000.0  2.037000e-01      0.402769         0.00   \n\n                         25%           50%           75%          max  \nRowNumber            2500.75  5.000500e+03  7.500250e+03     10000.00  \nCustomerId       15628528.25  1.569074e+07  1.575323e+07  15815690.00  \nCreditScore           584.00  6.520000e+02  7.180000e+02       850.00  \nAge                    32.00  3.700000e+01  4.400000e+01        92.00  \nTenure                  2.00  5.000000e+00  7.000000e+00        10.00  \nBalance                 0.00  9.719854e+04  1.276442e+05    250898.09  \nNumOfProducts           1.00  1.000000e+00  2.000000e+00         4.00  \nHasCrCard               0.00  1.000000e+00  1.000000e+00         1.00  \nIsActiveMember          0.00  1.000000e+00  1.000000e+00         1.00  \nEstimatedSalary     51002.11  1.001939e+05  1.493882e+05    199992.48  \nExited                  0.00  0.000000e+00  0.000000e+00         1.00  ",
      "text/html": "<div>\n<style scoped>\n    .dataframe tbody tr th:only-of-type {\n        vertical-align: middle;\n    }\n\n    .dataframe tbody tr th {\n        vertical-align: top;\n    }\n\n    .dataframe thead th {\n        text-align: right;\n    }\n</style>\n<table border=\"1\" class=\"dataframe\">\n  <thead>\n    <tr style=\"text-align: right;\">\n      <th></th>\n      <th>count</th>\n      <th>mean</th>\n      <th>std</th>\n      <th>min</th>\n      <th>25%</th>\n      <th>50%</th>\n      <th>75%</th>\n      <th>max</th>\n    </tr>\n  </thead>\n  <tbody>\n    <tr>\n      <th>RowNumber</th>\n      <td>10000.0</td>\n      <td>5.000500e+03</td>\n      <td>2886.895680</td>\n      <td>1.00</td>\n      <td>2500.75</td>\n      <td>5.000500e+03</td>\n      <td>7.500250e+03</td>\n      <td>10000.00</td>\n    </tr>\n    <tr>\n      <th>CustomerId</th>\n      <td>10000.0</td>\n      <td>1.569094e+07</td>\n      <td>71936.186123</td>\n      <td>15565701.00</td>\n      <td>15628528.25</td>\n      <td>1.569074e+07</td>\n      <td>1.575323e+07</td>\n      <td>15815690.00</td>\n    </tr>\n    <tr>\n      <th>CreditScore</th>\n      <td>10000.0</td>\n      <td>6.505288e+02</td>\n      <td>96.653299</td>\n      <td>350.00</td>\n      <td>584.00</td>\n      <td>6.520000e+02</td>\n      <td>7.180000e+02</td>\n      <td>850.00</td>\n    </tr>\n    <tr>\n      <th>Age</th>\n      <td>10000.0</td>\n      <td>3.892180e+01</td>\n      <td>10.487806</td>\n      <td>18.00</td>\n      <td>32.00</td>\n      <td>3.700000e+01</td>\n      <td>4.400000e+01</td>\n      <td>92.00</td>\n    </tr>\n    <tr>\n      <th>Tenure</th>\n      <td>9091.0</td>\n      <td>4.997690e+00</td>\n      <td>2.894723</td>\n      <td>0.00</td>\n      <td>2.00</td>\n      <td>5.000000e+00</td>\n      <td>7.000000e+00</td>\n      <td>10.00</td>\n    </tr>\n    <tr>\n      <th>Balance</th>\n      <td>10000.0</td>\n      <td>7.648589e+04</td>\n      <td>62397.405202</td>\n      <td>0.00</td>\n      <td>0.00</td>\n      <td>9.719854e+04</td>\n      <td>1.276442e+05</td>\n      <td>250898.09</td>\n    </tr>\n    <tr>\n      <th>NumOfProducts</th>\n      <td>10000.0</td>\n      <td>1.530200e+00</td>\n      <td>0.581654</td>\n      <td>1.00</td>\n      <td>1.00</td>\n      <td>1.000000e+00</td>\n      <td>2.000000e+00</td>\n      <td>4.00</td>\n    </tr>\n    <tr>\n      <th>HasCrCard</th>\n      <td>10000.0</td>\n      <td>7.055000e-01</td>\n      <td>0.455840</td>\n      <td>0.00</td>\n      <td>0.00</td>\n      <td>1.000000e+00</td>\n      <td>1.000000e+00</td>\n      <td>1.00</td>\n    </tr>\n    <tr>\n      <th>IsActiveMember</th>\n      <td>10000.0</td>\n      <td>5.151000e-01</td>\n      <td>0.499797</td>\n      <td>0.00</td>\n      <td>0.00</td>\n      <td>1.000000e+00</td>\n      <td>1.000000e+00</td>\n      <td>1.00</td>\n    </tr>\n    <tr>\n      <th>EstimatedSalary</th>\n      <td>10000.0</td>\n      <td>1.000902e+05</td>\n      <td>57510.492818</td>\n      <td>11.58</td>\n      <td>51002.11</td>\n      <td>1.001939e+05</td>\n      <td>1.493882e+05</td>\n      <td>199992.48</td>\n    </tr>\n    <tr>\n      <th>Exited</th>\n      <td>10000.0</td>\n      <td>2.037000e-01</td>\n      <td>0.402769</td>\n      <td>0.00</td>\n      <td>0.00</td>\n      <td>0.000000e+00</td>\n      <td>0.000000e+00</td>\n      <td>1.00</td>\n    </tr>\n  </tbody>\n</table>\n</div>"
     },
     "execution_count": 7,
     "metadata": {},
     "output_type": "execute_result"
    }
   ],
   "source": [
    "data.describe().T"
   ],
   "metadata": {
    "collapsed": false,
    "pycharm": {
     "name": "#%%\n"
    }
   }
  },
  {
   "cell_type": "code",
   "execution_count": 13,
   "outputs": [
    {
     "name": "stdout",
     "output_type": "stream",
     "text": [
      "============================================================\n",
      "Количество записей в датафрейме churn_clients: 10000 \n",
      "\n",
      "В датафрейме churn_clients имеются следующие пропуски:\n",
      "  - в колонке Tenure: 909 пропусков, это 9.09% об общего объема данных\n"
     ]
    }
   ],
   "source": [
    "# проверим датасет на пропуски\n",
    "def get_missing_values(data: pd.DataFrame) -> None:\n",
    "    \"\"\"\n",
    "    Выводит данные о пропусках в колонках по датафрейму.\n",
    "    Не изменяет данные внутри датафрейма.\n",
    "\n",
    "    :param data: pd.DataFrame\n",
    "    :return: None\n",
    "    \"\"\"\n",
    "    # получаем имена колонок датафрейма\n",
    "    columns = data.columns.to_list()\n",
    "    data_len = len(data)\n",
    "    # объявляем счетчик\n",
    "    counter = -1\n",
    "    print('='*60)\n",
    "    # если есть пропуски в данных - выводим информацию о пропусках по колонкам\n",
    "    if sum(data.isnull().sum()) > 0:\n",
    "        print(f'Количество записей в датафрейме {data.name}: {data_len} \\n')\n",
    "        print(f'В датафрейме {data.name} имеются следующие пропуски:')\n",
    "        for i in data.isnull().sum():\n",
    "            counter += 1\n",
    "            if i > 0:\n",
    "                print(f'  - в колонке {columns[counter]}: {i} пропусков, это {i/data_len:0.2%} об общего объема данных')\n",
    "    else:\n",
    "        print(f'Отлично, в датафрейме {data.name} отсутствуют пропуски.')\n",
    "\n",
    "# посмотрим на пропуски в данных\n",
    "get_missing_values(data)"
   ],
   "metadata": {
    "collapsed": false,
    "pycharm": {
     "name": "#%%\n"
    }
   }
  },
  {
   "cell_type": "markdown",
   "source": [
    "Имеем 909 пропусков в колонке Tenure, в которой содержится информация о том, сколько лет человек является клиентом банка."
   ],
   "metadata": {
    "collapsed": false
   }
  },
  {
   "cell_type": "code",
   "execution_count": 32,
   "outputs": [
    {
     "data": {
      "text/plain": "    RowNumber  CustomerId     Surname  CreditScore Geography  Gender  Age  \\\n0           1    15634602    Hargrave          619    France  Female   42   \n1           2    15647311        Hill          608     Spain  Female   41   \n2           3    15619304        Onio          502    France  Female   42   \n3           4    15701354        Boni          699    France  Female   39   \n4           5    15737888    Mitchell          850     Spain  Female   43   \n5           6    15574012         Chu          645     Spain    Male   44   \n6           7    15592531    Bartlett          822    France    Male   50   \n7           8    15656148      Obinna          376   Germany  Female   29   \n8           9    15792365          He          501    France    Male   44   \n9          10    15592389          H?          684    France    Male   27   \n10         11    15767821      Bearce          528    France    Male   31   \n11         12    15737173     Andrews          497     Spain    Male   24   \n12         13    15632264         Kay          476    France  Female   34   \n13         14    15691483        Chin          549    France  Female   25   \n14         15    15600882       Scott          635     Spain  Female   35   \n15         16    15643966     Goforth          616   Germany    Male   45   \n16         17    15737452       Romeo          653   Germany    Male   58   \n17         18    15788218   Henderson          549     Spain  Female   24   \n18         19    15661507     Muldrow          587     Spain    Male   45   \n19         20    15568982         Hao          726    France  Female   24   \n20         21    15577657    McDonald          732    France    Male   41   \n21         22    15597945    Dellucci          636     Spain  Female   32   \n22         23    15699309   Gerasimov          510     Spain  Female   38   \n23         24    15725737      Mosman          669    France    Male   46   \n24         25    15625047         Yen          846    France  Female   38   \n25         26    15738191     Maclean          577    France    Male   25   \n26         27    15736816       Young          756   Germany    Male   36   \n27         28    15700772     Nebechi          571    France    Male   44   \n28         29    15728693  McWilliams          574   Germany  Female   43   \n29         30    15656300    Lucciano          411    France    Male   29   \n\n    Tenure    Balance  NumOfProducts  HasCrCard  IsActiveMember  \\\n0      2.0       0.00              1          1               1   \n1      1.0   83807.86              1          0               1   \n2      8.0  159660.80              3          1               0   \n3      1.0       0.00              2          0               0   \n4      2.0  125510.82              1          1               1   \n5      8.0  113755.78              2          1               0   \n6      7.0       0.00              2          1               1   \n7      4.0  115046.74              4          1               0   \n8      4.0  142051.07              2          0               1   \n9      2.0  134603.88              1          1               1   \n10     6.0  102016.72              2          0               0   \n11     3.0       0.00              2          1               0   \n12    10.0       0.00              2          1               0   \n13     5.0       0.00              2          0               0   \n14     7.0       0.00              2          1               1   \n15     3.0  143129.41              2          0               1   \n16     1.0  132602.88              1          1               0   \n17     9.0       0.00              2          1               1   \n18     6.0       0.00              1          0               0   \n19     6.0       0.00              2          1               1   \n20     8.0       0.00              2          1               1   \n21     8.0       0.00              2          1               0   \n22     4.0       0.00              1          1               0   \n23     3.0       0.00              2          0               1   \n24     5.0       0.00              1          1               1   \n25     3.0       0.00              2          0               1   \n26     2.0  136815.64              1          1               1   \n27     9.0       0.00              2          0               0   \n28     3.0  141349.43              1          1               1   \n29     0.0   59697.17              2          1               1   \n\n    EstimatedSalary  Exited  \n0         101348.88       1  \n1         112542.58       0  \n2         113931.57       1  \n3          93826.63       0  \n4          79084.10       0  \n5         149756.71       1  \n6          10062.80       0  \n7         119346.88       1  \n8          74940.50       0  \n9          71725.73       0  \n10         80181.12       0  \n11         76390.01       0  \n12         26260.98       0  \n13        190857.79       0  \n14         65951.65       0  \n15         64327.26       0  \n16          5097.67       1  \n17         14406.41       0  \n18        158684.81       0  \n19         54724.03       0  \n20        170886.17       0  \n21        138555.46       0  \n22        118913.53       1  \n23          8487.75       0  \n24        187616.16       0  \n25        124508.29       0  \n26        170041.95       0  \n27         38433.35       0  \n28        100187.43       0  \n29         53483.21       0  ",
      "text/html": "<div>\n<style scoped>\n    .dataframe tbody tr th:only-of-type {\n        vertical-align: middle;\n    }\n\n    .dataframe tbody tr th {\n        vertical-align: top;\n    }\n\n    .dataframe thead th {\n        text-align: right;\n    }\n</style>\n<table border=\"1\" class=\"dataframe\">\n  <thead>\n    <tr style=\"text-align: right;\">\n      <th></th>\n      <th>RowNumber</th>\n      <th>CustomerId</th>\n      <th>Surname</th>\n      <th>CreditScore</th>\n      <th>Geography</th>\n      <th>Gender</th>\n      <th>Age</th>\n      <th>Tenure</th>\n      <th>Balance</th>\n      <th>NumOfProducts</th>\n      <th>HasCrCard</th>\n      <th>IsActiveMember</th>\n      <th>EstimatedSalary</th>\n      <th>Exited</th>\n    </tr>\n  </thead>\n  <tbody>\n    <tr>\n      <th>0</th>\n      <td>1</td>\n      <td>15634602</td>\n      <td>Hargrave</td>\n      <td>619</td>\n      <td>France</td>\n      <td>Female</td>\n      <td>42</td>\n      <td>2.0</td>\n      <td>0.00</td>\n      <td>1</td>\n      <td>1</td>\n      <td>1</td>\n      <td>101348.88</td>\n      <td>1</td>\n    </tr>\n    <tr>\n      <th>1</th>\n      <td>2</td>\n      <td>15647311</td>\n      <td>Hill</td>\n      <td>608</td>\n      <td>Spain</td>\n      <td>Female</td>\n      <td>41</td>\n      <td>1.0</td>\n      <td>83807.86</td>\n      <td>1</td>\n      <td>0</td>\n      <td>1</td>\n      <td>112542.58</td>\n      <td>0</td>\n    </tr>\n    <tr>\n      <th>2</th>\n      <td>3</td>\n      <td>15619304</td>\n      <td>Onio</td>\n      <td>502</td>\n      <td>France</td>\n      <td>Female</td>\n      <td>42</td>\n      <td>8.0</td>\n      <td>159660.80</td>\n      <td>3</td>\n      <td>1</td>\n      <td>0</td>\n      <td>113931.57</td>\n      <td>1</td>\n    </tr>\n    <tr>\n      <th>3</th>\n      <td>4</td>\n      <td>15701354</td>\n      <td>Boni</td>\n      <td>699</td>\n      <td>France</td>\n      <td>Female</td>\n      <td>39</td>\n      <td>1.0</td>\n      <td>0.00</td>\n      <td>2</td>\n      <td>0</td>\n      <td>0</td>\n      <td>93826.63</td>\n      <td>0</td>\n    </tr>\n    <tr>\n      <th>4</th>\n      <td>5</td>\n      <td>15737888</td>\n      <td>Mitchell</td>\n      <td>850</td>\n      <td>Spain</td>\n      <td>Female</td>\n      <td>43</td>\n      <td>2.0</td>\n      <td>125510.82</td>\n      <td>1</td>\n      <td>1</td>\n      <td>1</td>\n      <td>79084.10</td>\n      <td>0</td>\n    </tr>\n    <tr>\n      <th>5</th>\n      <td>6</td>\n      <td>15574012</td>\n      <td>Chu</td>\n      <td>645</td>\n      <td>Spain</td>\n      <td>Male</td>\n      <td>44</td>\n      <td>8.0</td>\n      <td>113755.78</td>\n      <td>2</td>\n      <td>1</td>\n      <td>0</td>\n      <td>149756.71</td>\n      <td>1</td>\n    </tr>\n    <tr>\n      <th>6</th>\n      <td>7</td>\n      <td>15592531</td>\n      <td>Bartlett</td>\n      <td>822</td>\n      <td>France</td>\n      <td>Male</td>\n      <td>50</td>\n      <td>7.0</td>\n      <td>0.00</td>\n      <td>2</td>\n      <td>1</td>\n      <td>1</td>\n      <td>10062.80</td>\n      <td>0</td>\n    </tr>\n    <tr>\n      <th>7</th>\n      <td>8</td>\n      <td>15656148</td>\n      <td>Obinna</td>\n      <td>376</td>\n      <td>Germany</td>\n      <td>Female</td>\n      <td>29</td>\n      <td>4.0</td>\n      <td>115046.74</td>\n      <td>4</td>\n      <td>1</td>\n      <td>0</td>\n      <td>119346.88</td>\n      <td>1</td>\n    </tr>\n    <tr>\n      <th>8</th>\n      <td>9</td>\n      <td>15792365</td>\n      <td>He</td>\n      <td>501</td>\n      <td>France</td>\n      <td>Male</td>\n      <td>44</td>\n      <td>4.0</td>\n      <td>142051.07</td>\n      <td>2</td>\n      <td>0</td>\n      <td>1</td>\n      <td>74940.50</td>\n      <td>0</td>\n    </tr>\n    <tr>\n      <th>9</th>\n      <td>10</td>\n      <td>15592389</td>\n      <td>H?</td>\n      <td>684</td>\n      <td>France</td>\n      <td>Male</td>\n      <td>27</td>\n      <td>2.0</td>\n      <td>134603.88</td>\n      <td>1</td>\n      <td>1</td>\n      <td>1</td>\n      <td>71725.73</td>\n      <td>0</td>\n    </tr>\n    <tr>\n      <th>10</th>\n      <td>11</td>\n      <td>15767821</td>\n      <td>Bearce</td>\n      <td>528</td>\n      <td>France</td>\n      <td>Male</td>\n      <td>31</td>\n      <td>6.0</td>\n      <td>102016.72</td>\n      <td>2</td>\n      <td>0</td>\n      <td>0</td>\n      <td>80181.12</td>\n      <td>0</td>\n    </tr>\n    <tr>\n      <th>11</th>\n      <td>12</td>\n      <td>15737173</td>\n      <td>Andrews</td>\n      <td>497</td>\n      <td>Spain</td>\n      <td>Male</td>\n      <td>24</td>\n      <td>3.0</td>\n      <td>0.00</td>\n      <td>2</td>\n      <td>1</td>\n      <td>0</td>\n      <td>76390.01</td>\n      <td>0</td>\n    </tr>\n    <tr>\n      <th>12</th>\n      <td>13</td>\n      <td>15632264</td>\n      <td>Kay</td>\n      <td>476</td>\n      <td>France</td>\n      <td>Female</td>\n      <td>34</td>\n      <td>10.0</td>\n      <td>0.00</td>\n      <td>2</td>\n      <td>1</td>\n      <td>0</td>\n      <td>26260.98</td>\n      <td>0</td>\n    </tr>\n    <tr>\n      <th>13</th>\n      <td>14</td>\n      <td>15691483</td>\n      <td>Chin</td>\n      <td>549</td>\n      <td>France</td>\n      <td>Female</td>\n      <td>25</td>\n      <td>5.0</td>\n      <td>0.00</td>\n      <td>2</td>\n      <td>0</td>\n      <td>0</td>\n      <td>190857.79</td>\n      <td>0</td>\n    </tr>\n    <tr>\n      <th>14</th>\n      <td>15</td>\n      <td>15600882</td>\n      <td>Scott</td>\n      <td>635</td>\n      <td>Spain</td>\n      <td>Female</td>\n      <td>35</td>\n      <td>7.0</td>\n      <td>0.00</td>\n      <td>2</td>\n      <td>1</td>\n      <td>1</td>\n      <td>65951.65</td>\n      <td>0</td>\n    </tr>\n    <tr>\n      <th>15</th>\n      <td>16</td>\n      <td>15643966</td>\n      <td>Goforth</td>\n      <td>616</td>\n      <td>Germany</td>\n      <td>Male</td>\n      <td>45</td>\n      <td>3.0</td>\n      <td>143129.41</td>\n      <td>2</td>\n      <td>0</td>\n      <td>1</td>\n      <td>64327.26</td>\n      <td>0</td>\n    </tr>\n    <tr>\n      <th>16</th>\n      <td>17</td>\n      <td>15737452</td>\n      <td>Romeo</td>\n      <td>653</td>\n      <td>Germany</td>\n      <td>Male</td>\n      <td>58</td>\n      <td>1.0</td>\n      <td>132602.88</td>\n      <td>1</td>\n      <td>1</td>\n      <td>0</td>\n      <td>5097.67</td>\n      <td>1</td>\n    </tr>\n    <tr>\n      <th>17</th>\n      <td>18</td>\n      <td>15788218</td>\n      <td>Henderson</td>\n      <td>549</td>\n      <td>Spain</td>\n      <td>Female</td>\n      <td>24</td>\n      <td>9.0</td>\n      <td>0.00</td>\n      <td>2</td>\n      <td>1</td>\n      <td>1</td>\n      <td>14406.41</td>\n      <td>0</td>\n    </tr>\n    <tr>\n      <th>18</th>\n      <td>19</td>\n      <td>15661507</td>\n      <td>Muldrow</td>\n      <td>587</td>\n      <td>Spain</td>\n      <td>Male</td>\n      <td>45</td>\n      <td>6.0</td>\n      <td>0.00</td>\n      <td>1</td>\n      <td>0</td>\n      <td>0</td>\n      <td>158684.81</td>\n      <td>0</td>\n    </tr>\n    <tr>\n      <th>19</th>\n      <td>20</td>\n      <td>15568982</td>\n      <td>Hao</td>\n      <td>726</td>\n      <td>France</td>\n      <td>Female</td>\n      <td>24</td>\n      <td>6.0</td>\n      <td>0.00</td>\n      <td>2</td>\n      <td>1</td>\n      <td>1</td>\n      <td>54724.03</td>\n      <td>0</td>\n    </tr>\n    <tr>\n      <th>20</th>\n      <td>21</td>\n      <td>15577657</td>\n      <td>McDonald</td>\n      <td>732</td>\n      <td>France</td>\n      <td>Male</td>\n      <td>41</td>\n      <td>8.0</td>\n      <td>0.00</td>\n      <td>2</td>\n      <td>1</td>\n      <td>1</td>\n      <td>170886.17</td>\n      <td>0</td>\n    </tr>\n    <tr>\n      <th>21</th>\n      <td>22</td>\n      <td>15597945</td>\n      <td>Dellucci</td>\n      <td>636</td>\n      <td>Spain</td>\n      <td>Female</td>\n      <td>32</td>\n      <td>8.0</td>\n      <td>0.00</td>\n      <td>2</td>\n      <td>1</td>\n      <td>0</td>\n      <td>138555.46</td>\n      <td>0</td>\n    </tr>\n    <tr>\n      <th>22</th>\n      <td>23</td>\n      <td>15699309</td>\n      <td>Gerasimov</td>\n      <td>510</td>\n      <td>Spain</td>\n      <td>Female</td>\n      <td>38</td>\n      <td>4.0</td>\n      <td>0.00</td>\n      <td>1</td>\n      <td>1</td>\n      <td>0</td>\n      <td>118913.53</td>\n      <td>1</td>\n    </tr>\n    <tr>\n      <th>23</th>\n      <td>24</td>\n      <td>15725737</td>\n      <td>Mosman</td>\n      <td>669</td>\n      <td>France</td>\n      <td>Male</td>\n      <td>46</td>\n      <td>3.0</td>\n      <td>0.00</td>\n      <td>2</td>\n      <td>0</td>\n      <td>1</td>\n      <td>8487.75</td>\n      <td>0</td>\n    </tr>\n    <tr>\n      <th>24</th>\n      <td>25</td>\n      <td>15625047</td>\n      <td>Yen</td>\n      <td>846</td>\n      <td>France</td>\n      <td>Female</td>\n      <td>38</td>\n      <td>5.0</td>\n      <td>0.00</td>\n      <td>1</td>\n      <td>1</td>\n      <td>1</td>\n      <td>187616.16</td>\n      <td>0</td>\n    </tr>\n    <tr>\n      <th>25</th>\n      <td>26</td>\n      <td>15738191</td>\n      <td>Maclean</td>\n      <td>577</td>\n      <td>France</td>\n      <td>Male</td>\n      <td>25</td>\n      <td>3.0</td>\n      <td>0.00</td>\n      <td>2</td>\n      <td>0</td>\n      <td>1</td>\n      <td>124508.29</td>\n      <td>0</td>\n    </tr>\n    <tr>\n      <th>26</th>\n      <td>27</td>\n      <td>15736816</td>\n      <td>Young</td>\n      <td>756</td>\n      <td>Germany</td>\n      <td>Male</td>\n      <td>36</td>\n      <td>2.0</td>\n      <td>136815.64</td>\n      <td>1</td>\n      <td>1</td>\n      <td>1</td>\n      <td>170041.95</td>\n      <td>0</td>\n    </tr>\n    <tr>\n      <th>27</th>\n      <td>28</td>\n      <td>15700772</td>\n      <td>Nebechi</td>\n      <td>571</td>\n      <td>France</td>\n      <td>Male</td>\n      <td>44</td>\n      <td>9.0</td>\n      <td>0.00</td>\n      <td>2</td>\n      <td>0</td>\n      <td>0</td>\n      <td>38433.35</td>\n      <td>0</td>\n    </tr>\n    <tr>\n      <th>28</th>\n      <td>29</td>\n      <td>15728693</td>\n      <td>McWilliams</td>\n      <td>574</td>\n      <td>Germany</td>\n      <td>Female</td>\n      <td>43</td>\n      <td>3.0</td>\n      <td>141349.43</td>\n      <td>1</td>\n      <td>1</td>\n      <td>1</td>\n      <td>100187.43</td>\n      <td>0</td>\n    </tr>\n    <tr>\n      <th>29</th>\n      <td>30</td>\n      <td>15656300</td>\n      <td>Lucciano</td>\n      <td>411</td>\n      <td>France</td>\n      <td>Male</td>\n      <td>29</td>\n      <td>0.0</td>\n      <td>59697.17</td>\n      <td>2</td>\n      <td>1</td>\n      <td>1</td>\n      <td>53483.21</td>\n      <td>0</td>\n    </tr>\n  </tbody>\n</table>\n</div>"
     },
     "execution_count": 32,
     "metadata": {},
     "output_type": "execute_result"
    }
   ],
   "source": [
    "data.head(30)"
   ],
   "metadata": {
    "collapsed": false,
    "pycharm": {
     "name": "#%%\n"
    }
   }
  },
  {
   "cell_type": "code",
   "execution_count": 33,
   "outputs": [
    {
     "data": {
      "text/plain": "      RowNumber  CustomerId    Surname  CreditScore Geography  Gender  Age  \\\n30           31    15589475    Azikiwe          591     Spain  Female   39   \n48           49    15766205        Yin          550   Germany    Male   38   \n51           52    15768193  Trevisani          585   Germany    Male   36   \n53           54    15702298   Parkhill          655   Germany    Male   41   \n60           61    15651280     Hunter          742   Germany    Male   35   \n...         ...         ...        ...          ...       ...     ...  ...   \n9944       9945    15703923    Cameron          744   Germany    Male   41   \n9956       9957    15707861      Nucci          520    France  Female   46   \n9964       9965    15642785    Douglas          479    France    Male   34   \n9985       9986    15586914     Nepean          659    France    Male   36   \n9999      10000    15628319     Walker          792    France  Female   28   \n\n      Tenure    Balance  NumOfProducts  HasCrCard  IsActiveMember  \\\n30       NaN       0.00              3          1               0   \n48       NaN  103391.38              1          0               1   \n51       NaN  146050.97              2          0               0   \n53       NaN  125561.97              1          0               0   \n60       NaN  136857.00              1          0               0   \n...      ...        ...            ...        ...             ...   \n9944     NaN  190409.34              2          1               1   \n9956     NaN   85216.61              1          1               0   \n9964     NaN  117593.48              2          0               0   \n9985     NaN  123841.49              2          1               0   \n9999     NaN  130142.79              1          1               0   \n\n      EstimatedSalary  Exited  \n30          140469.38       1  \n48           90878.13       0  \n51           86424.57       0  \n53          164040.94       1  \n60           84509.57       0  \n...               ...     ...  \n9944        138361.48       0  \n9956        117369.52       1  \n9964        113308.29       0  \n9985         96833.00       0  \n9999         38190.78       0  \n\n[909 rows x 14 columns]",
      "text/html": "<div>\n<style scoped>\n    .dataframe tbody tr th:only-of-type {\n        vertical-align: middle;\n    }\n\n    .dataframe tbody tr th {\n        vertical-align: top;\n    }\n\n    .dataframe thead th {\n        text-align: right;\n    }\n</style>\n<table border=\"1\" class=\"dataframe\">\n  <thead>\n    <tr style=\"text-align: right;\">\n      <th></th>\n      <th>RowNumber</th>\n      <th>CustomerId</th>\n      <th>Surname</th>\n      <th>CreditScore</th>\n      <th>Geography</th>\n      <th>Gender</th>\n      <th>Age</th>\n      <th>Tenure</th>\n      <th>Balance</th>\n      <th>NumOfProducts</th>\n      <th>HasCrCard</th>\n      <th>IsActiveMember</th>\n      <th>EstimatedSalary</th>\n      <th>Exited</th>\n    </tr>\n  </thead>\n  <tbody>\n    <tr>\n      <th>30</th>\n      <td>31</td>\n      <td>15589475</td>\n      <td>Azikiwe</td>\n      <td>591</td>\n      <td>Spain</td>\n      <td>Female</td>\n      <td>39</td>\n      <td>NaN</td>\n      <td>0.00</td>\n      <td>3</td>\n      <td>1</td>\n      <td>0</td>\n      <td>140469.38</td>\n      <td>1</td>\n    </tr>\n    <tr>\n      <th>48</th>\n      <td>49</td>\n      <td>15766205</td>\n      <td>Yin</td>\n      <td>550</td>\n      <td>Germany</td>\n      <td>Male</td>\n      <td>38</td>\n      <td>NaN</td>\n      <td>103391.38</td>\n      <td>1</td>\n      <td>0</td>\n      <td>1</td>\n      <td>90878.13</td>\n      <td>0</td>\n    </tr>\n    <tr>\n      <th>51</th>\n      <td>52</td>\n      <td>15768193</td>\n      <td>Trevisani</td>\n      <td>585</td>\n      <td>Germany</td>\n      <td>Male</td>\n      <td>36</td>\n      <td>NaN</td>\n      <td>146050.97</td>\n      <td>2</td>\n      <td>0</td>\n      <td>0</td>\n      <td>86424.57</td>\n      <td>0</td>\n    </tr>\n    <tr>\n      <th>53</th>\n      <td>54</td>\n      <td>15702298</td>\n      <td>Parkhill</td>\n      <td>655</td>\n      <td>Germany</td>\n      <td>Male</td>\n      <td>41</td>\n      <td>NaN</td>\n      <td>125561.97</td>\n      <td>1</td>\n      <td>0</td>\n      <td>0</td>\n      <td>164040.94</td>\n      <td>1</td>\n    </tr>\n    <tr>\n      <th>60</th>\n      <td>61</td>\n      <td>15651280</td>\n      <td>Hunter</td>\n      <td>742</td>\n      <td>Germany</td>\n      <td>Male</td>\n      <td>35</td>\n      <td>NaN</td>\n      <td>136857.00</td>\n      <td>1</td>\n      <td>0</td>\n      <td>0</td>\n      <td>84509.57</td>\n      <td>0</td>\n    </tr>\n    <tr>\n      <th>...</th>\n      <td>...</td>\n      <td>...</td>\n      <td>...</td>\n      <td>...</td>\n      <td>...</td>\n      <td>...</td>\n      <td>...</td>\n      <td>...</td>\n      <td>...</td>\n      <td>...</td>\n      <td>...</td>\n      <td>...</td>\n      <td>...</td>\n      <td>...</td>\n    </tr>\n    <tr>\n      <th>9944</th>\n      <td>9945</td>\n      <td>15703923</td>\n      <td>Cameron</td>\n      <td>744</td>\n      <td>Germany</td>\n      <td>Male</td>\n      <td>41</td>\n      <td>NaN</td>\n      <td>190409.34</td>\n      <td>2</td>\n      <td>1</td>\n      <td>1</td>\n      <td>138361.48</td>\n      <td>0</td>\n    </tr>\n    <tr>\n      <th>9956</th>\n      <td>9957</td>\n      <td>15707861</td>\n      <td>Nucci</td>\n      <td>520</td>\n      <td>France</td>\n      <td>Female</td>\n      <td>46</td>\n      <td>NaN</td>\n      <td>85216.61</td>\n      <td>1</td>\n      <td>1</td>\n      <td>0</td>\n      <td>117369.52</td>\n      <td>1</td>\n    </tr>\n    <tr>\n      <th>9964</th>\n      <td>9965</td>\n      <td>15642785</td>\n      <td>Douglas</td>\n      <td>479</td>\n      <td>France</td>\n      <td>Male</td>\n      <td>34</td>\n      <td>NaN</td>\n      <td>117593.48</td>\n      <td>2</td>\n      <td>0</td>\n      <td>0</td>\n      <td>113308.29</td>\n      <td>0</td>\n    </tr>\n    <tr>\n      <th>9985</th>\n      <td>9986</td>\n      <td>15586914</td>\n      <td>Nepean</td>\n      <td>659</td>\n      <td>France</td>\n      <td>Male</td>\n      <td>36</td>\n      <td>NaN</td>\n      <td>123841.49</td>\n      <td>2</td>\n      <td>1</td>\n      <td>0</td>\n      <td>96833.00</td>\n      <td>0</td>\n    </tr>\n    <tr>\n      <th>9999</th>\n      <td>10000</td>\n      <td>15628319</td>\n      <td>Walker</td>\n      <td>792</td>\n      <td>France</td>\n      <td>Female</td>\n      <td>28</td>\n      <td>NaN</td>\n      <td>130142.79</td>\n      <td>1</td>\n      <td>1</td>\n      <td>0</td>\n      <td>38190.78</td>\n      <td>0</td>\n    </tr>\n  </tbody>\n</table>\n<p>909 rows × 14 columns</p>\n</div>"
     },
     "execution_count": 33,
     "metadata": {},
     "output_type": "execute_result"
    }
   ],
   "source": [
    "data[data['Tenure'].isna()]"
   ],
   "metadata": {
    "collapsed": false,
    "pycharm": {
     "name": "#%%\n"
    }
   }
  },
  {
   "cell_type": "code",
   "execution_count": 21,
   "outputs": [
    {
     "ename": "ValueError",
     "evalue": "Function did not transform",
     "output_type": "error",
     "traceback": [
      "\u001B[1;31m---------------------------------------------------------------------------\u001B[0m",
      "\u001B[1;31mValueError\u001B[0m                                Traceback (most recent call last)",
      "Input \u001B[1;32mIn [21]\u001B[0m, in \u001B[0;36m<cell line: 1>\u001B[1;34m()\u001B[0m\n\u001B[1;32m----> 1\u001B[0m np\u001B[38;5;241m.\u001B[39mceil(\u001B[43mpd\u001B[49m\u001B[38;5;241;43m.\u001B[39;49m\u001B[43mpivot_table\u001B[49m\u001B[43m(\u001B[49m\u001B[43mdata\u001B[49m\u001B[43m[\u001B[49m\u001B[43mdata\u001B[49m\u001B[43m[\u001B[49m\u001B[38;5;124;43m'\u001B[39;49m\u001B[38;5;124;43mTenure\u001B[39;49m\u001B[38;5;124;43m'\u001B[39;49m\u001B[43m]\u001B[49m\u001B[38;5;241;43m.\u001B[39;49m\u001B[43mnotna\u001B[49m\u001B[43m(\u001B[49m\u001B[43m)\u001B[49m\u001B[43m]\u001B[49m\u001B[43m,\u001B[49m\u001B[43m \u001B[49m\u001B[43mindex\u001B[49m\u001B[38;5;241;43m=\u001B[39;49m\u001B[43m[\u001B[49m\u001B[38;5;124;43m'\u001B[39;49m\u001B[38;5;124;43mGeography\u001B[39;49m\u001B[38;5;124;43m'\u001B[39;49m\u001B[43m,\u001B[49m\u001B[43m \u001B[49m\u001B[38;5;124;43m'\u001B[39;49m\u001B[38;5;124;43mAge\u001B[39;49m\u001B[38;5;124;43m'\u001B[39;49m\u001B[43m,\u001B[49m\u001B[43m \u001B[49m\u001B[38;5;124;43m'\u001B[39;49m\u001B[38;5;124;43mGender\u001B[39;49m\u001B[38;5;124;43m'\u001B[39;49m\u001B[43m]\u001B[49m\u001B[43m,\u001B[49m\u001B[43m \u001B[49m\u001B[43mvalues\u001B[49m\u001B[38;5;241;43m=\u001B[39;49m\u001B[38;5;124;43m'\u001B[39;49m\u001B[38;5;124;43mTenure\u001B[39;49m\u001B[38;5;124;43m'\u001B[39;49m\u001B[43m)\u001B[49m\u001B[38;5;241;43m.\u001B[39;49m\u001B[43mtransform\u001B[49m\u001B[43m(\u001B[49m\u001B[38;5;124;43m'\u001B[39;49m\u001B[38;5;124;43mmean\u001B[39;49m\u001B[38;5;124;43m'\u001B[39;49m\u001B[43m)\u001B[49m)\n",
      "File \u001B[1;32mg:\\practicum_ds\\venv\\lib\\site-packages\\pandas\\core\\frame.py:8672\u001B[0m, in \u001B[0;36mDataFrame.transform\u001B[1;34m(self, func, axis, *args, **kwargs)\u001B[0m\n\u001B[0;32m   8669\u001B[0m \u001B[38;5;28;01mfrom\u001B[39;00m \u001B[38;5;21;01mpandas\u001B[39;00m\u001B[38;5;21;01m.\u001B[39;00m\u001B[38;5;21;01mcore\u001B[39;00m\u001B[38;5;21;01m.\u001B[39;00m\u001B[38;5;21;01mapply\u001B[39;00m \u001B[38;5;28;01mimport\u001B[39;00m frame_apply\n\u001B[0;32m   8671\u001B[0m op \u001B[38;5;241m=\u001B[39m frame_apply(\u001B[38;5;28mself\u001B[39m, func\u001B[38;5;241m=\u001B[39mfunc, axis\u001B[38;5;241m=\u001B[39maxis, args\u001B[38;5;241m=\u001B[39margs, kwargs\u001B[38;5;241m=\u001B[39mkwargs)\n\u001B[1;32m-> 8672\u001B[0m result \u001B[38;5;241m=\u001B[39m \u001B[43mop\u001B[49m\u001B[38;5;241;43m.\u001B[39;49m\u001B[43mtransform\u001B[49m\u001B[43m(\u001B[49m\u001B[43m)\u001B[49m\n\u001B[0;32m   8673\u001B[0m \u001B[38;5;28;01massert\u001B[39;00m \u001B[38;5;28misinstance\u001B[39m(result, DataFrame)\n\u001B[0;32m   8674\u001B[0m \u001B[38;5;28;01mreturn\u001B[39;00m result\n",
      "File \u001B[1;32mg:\\practicum_ds\\venv\\lib\\site-packages\\pandas\\core\\apply.py:240\u001B[0m, in \u001B[0;36mApply.transform\u001B[1;34m(self)\u001B[0m\n\u001B[0;32m    236\u001B[0m     \u001B[38;5;28;01mraise\u001B[39;00m \u001B[38;5;167;01mValueError\u001B[39;00m(\u001B[38;5;124m\"\u001B[39m\u001B[38;5;124mTransform function failed\u001B[39m\u001B[38;5;124m\"\u001B[39m)\n\u001B[0;32m    237\u001B[0m \u001B[38;5;28;01mif\u001B[39;00m \u001B[38;5;129;01mnot\u001B[39;00m \u001B[38;5;28misinstance\u001B[39m(result, (ABCSeries, ABCDataFrame)) \u001B[38;5;129;01mor\u001B[39;00m \u001B[38;5;129;01mnot\u001B[39;00m result\u001B[38;5;241m.\u001B[39mindex\u001B[38;5;241m.\u001B[39mequals(\n\u001B[0;32m    238\u001B[0m     obj\u001B[38;5;241m.\u001B[39mindex\n\u001B[0;32m    239\u001B[0m ):\n\u001B[1;32m--> 240\u001B[0m     \u001B[38;5;28;01mraise\u001B[39;00m \u001B[38;5;167;01mValueError\u001B[39;00m(\u001B[38;5;124m\"\u001B[39m\u001B[38;5;124mFunction did not transform\u001B[39m\u001B[38;5;124m\"\u001B[39m)\n\u001B[0;32m    242\u001B[0m \u001B[38;5;28;01mreturn\u001B[39;00m result\n",
      "\u001B[1;31mValueError\u001B[0m: Function did not transform"
     ]
    }
   ],
   "source": [
    "np.ceil(pd.pivot_table(data[data['Tenure'].notna()], index=['Geography', 'Age', 'Gender'], values='Tenure').transform('mean'))"
   ],
   "metadata": {
    "collapsed": false,
    "pycharm": {
     "name": "#%%\n"
    }
   }
  },
  {
   "cell_type": "code",
   "execution_count": 34,
   "outputs": [],
   "source": [
    "data['Tenure'] = data['Tenure'].fillna(np.ceil(data.groupby(by=['Geography', 'Age', 'Gender'])['Tenure'].transform('mean')))"
   ],
   "metadata": {
    "collapsed": false,
    "pycharm": {
     "name": "#%%\n"
    }
   }
  },
  {
   "cell_type": "code",
   "execution_count": 37,
   "outputs": [
    {
     "data": {
      "text/plain": "    RowNumber  CustomerId        Surname  CreditScore Geography  Gender  Age  \\\n0           1    15634602       Hargrave          619    France  Female   42   \n1           2    15647311           Hill          608     Spain  Female   41   \n2           3    15619304           Onio          502    France  Female   42   \n3           4    15701354           Boni          699    France  Female   39   \n4           5    15737888       Mitchell          850     Spain  Female   43   \n5           6    15574012            Chu          645     Spain    Male   44   \n6           7    15592531       Bartlett          822    France    Male   50   \n7           8    15656148         Obinna          376   Germany  Female   29   \n8           9    15792365             He          501    France    Male   44   \n9          10    15592389             H?          684    France    Male   27   \n10         11    15767821         Bearce          528    France    Male   31   \n11         12    15737173        Andrews          497     Spain    Male   24   \n12         13    15632264            Kay          476    France  Female   34   \n13         14    15691483           Chin          549    France  Female   25   \n14         15    15600882          Scott          635     Spain  Female   35   \n15         16    15643966        Goforth          616   Germany    Male   45   \n16         17    15737452          Romeo          653   Germany    Male   58   \n17         18    15788218      Henderson          549     Spain  Female   24   \n18         19    15661507        Muldrow          587     Spain    Male   45   \n19         20    15568982            Hao          726    France  Female   24   \n20         21    15577657       McDonald          732    France    Male   41   \n21         22    15597945       Dellucci          636     Spain  Female   32   \n22         23    15699309      Gerasimov          510     Spain  Female   38   \n23         24    15725737         Mosman          669    France    Male   46   \n24         25    15625047            Yen          846    France  Female   38   \n25         26    15738191        Maclean          577    France    Male   25   \n26         27    15736816          Young          756   Germany    Male   36   \n27         28    15700772        Nebechi          571    France    Male   44   \n28         29    15728693     McWilliams          574   Germany  Female   43   \n29         30    15656300       Lucciano          411    France    Male   29   \n30         31    15589475        Azikiwe          591     Spain  Female   39   \n31         32    15706552  Odinakachukwu          533    France    Male   36   \n32         33    15750181      Sanderson          553   Germany    Male   41   \n33         34    15659428        Maggard          520     Spain  Female   42   \n34         35    15732963       Clements          722     Spain  Female   29   \n35         36    15794171       Lombardo          475    France  Female   45   \n36         37    15788448         Watson          490     Spain    Male   31   \n37         38    15729599        Lorenzo          804     Spain    Male   33   \n38         39    15717426      Armstrong          850    France    Male   36   \n39         40    15585768        Cameron          582   Germany    Male   41   \n\n       Tenure    Balance  NumOfProducts  HasCrCard  IsActiveMember  \\\n0    2.000000       0.00              1          1               1   \n1    1.000000   83807.86              1          0               1   \n2    8.000000  159660.80              3          1               0   \n3    1.000000       0.00              2          0               0   \n4    2.000000  125510.82              1          1               1   \n5    8.000000  113755.78              2          1               0   \n6    7.000000       0.00              2          1               1   \n7    4.000000  115046.74              4          1               0   \n8    4.000000  142051.07              2          0               1   \n9    2.000000  134603.88              1          1               1   \n10   6.000000  102016.72              2          0               0   \n11   3.000000       0.00              2          1               0   \n12  10.000000       0.00              2          1               0   \n13   5.000000       0.00              2          0               0   \n14   7.000000       0.00              2          1               1   \n15   3.000000  143129.41              2          0               1   \n16   1.000000  132602.88              1          1               0   \n17   9.000000       0.00              2          1               1   \n18   6.000000       0.00              1          0               0   \n19   6.000000       0.00              2          1               1   \n20   8.000000       0.00              2          1               1   \n21   8.000000       0.00              2          1               0   \n22   4.000000       0.00              1          1               0   \n23   3.000000       0.00              2          0               1   \n24   5.000000       0.00              1          1               1   \n25   3.000000       0.00              2          0               1   \n26   2.000000  136815.64              1          1               1   \n27   9.000000       0.00              2          0               0   \n28   3.000000  141349.43              1          1               1   \n29   0.000000   59697.17              2          1               1   \n30   5.115385       0.00              3          1               0   \n31   7.000000   85311.70              1          0               1   \n32   9.000000  110112.54              2          0               0   \n33   6.000000       0.00              2          1               1   \n34   9.000000       0.00              2          1               1   \n35   0.000000  134264.04              1          1               0   \n36   3.000000  145260.23              1          0               1   \n37   7.000000   76548.60              1          0               1   \n38   7.000000       0.00              1          1               1   \n39   6.000000   70349.48              2          0               1   \n\n    EstimatedSalary  Exited  \n0         101348.88       1  \n1         112542.58       0  \n2         113931.57       1  \n3          93826.63       0  \n4          79084.10       0  \n5         149756.71       1  \n6          10062.80       0  \n7         119346.88       1  \n8          74940.50       0  \n9          71725.73       0  \n10         80181.12       0  \n11         76390.01       0  \n12         26260.98       0  \n13        190857.79       0  \n14         65951.65       0  \n15         64327.26       0  \n16          5097.67       1  \n17         14406.41       0  \n18        158684.81       0  \n19         54724.03       0  \n20        170886.17       0  \n21        138555.46       0  \n22        118913.53       1  \n23          8487.75       0  \n24        187616.16       0  \n25        124508.29       0  \n26        170041.95       0  \n27         38433.35       0  \n28        100187.43       0  \n29         53483.21       0  \n30        140469.38       1  \n31        156731.91       0  \n32         81898.81       0  \n33         34410.55       0  \n34        142033.07       0  \n35         27822.99       1  \n36        114066.77       0  \n37         98453.45       0  \n38         40812.90       0  \n39        178074.04       0  ",
      "text/html": "<div>\n<style scoped>\n    .dataframe tbody tr th:only-of-type {\n        vertical-align: middle;\n    }\n\n    .dataframe tbody tr th {\n        vertical-align: top;\n    }\n\n    .dataframe thead th {\n        text-align: right;\n    }\n</style>\n<table border=\"1\" class=\"dataframe\">\n  <thead>\n    <tr style=\"text-align: right;\">\n      <th></th>\n      <th>RowNumber</th>\n      <th>CustomerId</th>\n      <th>Surname</th>\n      <th>CreditScore</th>\n      <th>Geography</th>\n      <th>Gender</th>\n      <th>Age</th>\n      <th>Tenure</th>\n      <th>Balance</th>\n      <th>NumOfProducts</th>\n      <th>HasCrCard</th>\n      <th>IsActiveMember</th>\n      <th>EstimatedSalary</th>\n      <th>Exited</th>\n    </tr>\n  </thead>\n  <tbody>\n    <tr>\n      <th>0</th>\n      <td>1</td>\n      <td>15634602</td>\n      <td>Hargrave</td>\n      <td>619</td>\n      <td>France</td>\n      <td>Female</td>\n      <td>42</td>\n      <td>2.000000</td>\n      <td>0.00</td>\n      <td>1</td>\n      <td>1</td>\n      <td>1</td>\n      <td>101348.88</td>\n      <td>1</td>\n    </tr>\n    <tr>\n      <th>1</th>\n      <td>2</td>\n      <td>15647311</td>\n      <td>Hill</td>\n      <td>608</td>\n      <td>Spain</td>\n      <td>Female</td>\n      <td>41</td>\n      <td>1.000000</td>\n      <td>83807.86</td>\n      <td>1</td>\n      <td>0</td>\n      <td>1</td>\n      <td>112542.58</td>\n      <td>0</td>\n    </tr>\n    <tr>\n      <th>2</th>\n      <td>3</td>\n      <td>15619304</td>\n      <td>Onio</td>\n      <td>502</td>\n      <td>France</td>\n      <td>Female</td>\n      <td>42</td>\n      <td>8.000000</td>\n      <td>159660.80</td>\n      <td>3</td>\n      <td>1</td>\n      <td>0</td>\n      <td>113931.57</td>\n      <td>1</td>\n    </tr>\n    <tr>\n      <th>3</th>\n      <td>4</td>\n      <td>15701354</td>\n      <td>Boni</td>\n      <td>699</td>\n      <td>France</td>\n      <td>Female</td>\n      <td>39</td>\n      <td>1.000000</td>\n      <td>0.00</td>\n      <td>2</td>\n      <td>0</td>\n      <td>0</td>\n      <td>93826.63</td>\n      <td>0</td>\n    </tr>\n    <tr>\n      <th>4</th>\n      <td>5</td>\n      <td>15737888</td>\n      <td>Mitchell</td>\n      <td>850</td>\n      <td>Spain</td>\n      <td>Female</td>\n      <td>43</td>\n      <td>2.000000</td>\n      <td>125510.82</td>\n      <td>1</td>\n      <td>1</td>\n      <td>1</td>\n      <td>79084.10</td>\n      <td>0</td>\n    </tr>\n    <tr>\n      <th>5</th>\n      <td>6</td>\n      <td>15574012</td>\n      <td>Chu</td>\n      <td>645</td>\n      <td>Spain</td>\n      <td>Male</td>\n      <td>44</td>\n      <td>8.000000</td>\n      <td>113755.78</td>\n      <td>2</td>\n      <td>1</td>\n      <td>0</td>\n      <td>149756.71</td>\n      <td>1</td>\n    </tr>\n    <tr>\n      <th>6</th>\n      <td>7</td>\n      <td>15592531</td>\n      <td>Bartlett</td>\n      <td>822</td>\n      <td>France</td>\n      <td>Male</td>\n      <td>50</td>\n      <td>7.000000</td>\n      <td>0.00</td>\n      <td>2</td>\n      <td>1</td>\n      <td>1</td>\n      <td>10062.80</td>\n      <td>0</td>\n    </tr>\n    <tr>\n      <th>7</th>\n      <td>8</td>\n      <td>15656148</td>\n      <td>Obinna</td>\n      <td>376</td>\n      <td>Germany</td>\n      <td>Female</td>\n      <td>29</td>\n      <td>4.000000</td>\n      <td>115046.74</td>\n      <td>4</td>\n      <td>1</td>\n      <td>0</td>\n      <td>119346.88</td>\n      <td>1</td>\n    </tr>\n    <tr>\n      <th>8</th>\n      <td>9</td>\n      <td>15792365</td>\n      <td>He</td>\n      <td>501</td>\n      <td>France</td>\n      <td>Male</td>\n      <td>44</td>\n      <td>4.000000</td>\n      <td>142051.07</td>\n      <td>2</td>\n      <td>0</td>\n      <td>1</td>\n      <td>74940.50</td>\n      <td>0</td>\n    </tr>\n    <tr>\n      <th>9</th>\n      <td>10</td>\n      <td>15592389</td>\n      <td>H?</td>\n      <td>684</td>\n      <td>France</td>\n      <td>Male</td>\n      <td>27</td>\n      <td>2.000000</td>\n      <td>134603.88</td>\n      <td>1</td>\n      <td>1</td>\n      <td>1</td>\n      <td>71725.73</td>\n      <td>0</td>\n    </tr>\n    <tr>\n      <th>10</th>\n      <td>11</td>\n      <td>15767821</td>\n      <td>Bearce</td>\n      <td>528</td>\n      <td>France</td>\n      <td>Male</td>\n      <td>31</td>\n      <td>6.000000</td>\n      <td>102016.72</td>\n      <td>2</td>\n      <td>0</td>\n      <td>0</td>\n      <td>80181.12</td>\n      <td>0</td>\n    </tr>\n    <tr>\n      <th>11</th>\n      <td>12</td>\n      <td>15737173</td>\n      <td>Andrews</td>\n      <td>497</td>\n      <td>Spain</td>\n      <td>Male</td>\n      <td>24</td>\n      <td>3.000000</td>\n      <td>0.00</td>\n      <td>2</td>\n      <td>1</td>\n      <td>0</td>\n      <td>76390.01</td>\n      <td>0</td>\n    </tr>\n    <tr>\n      <th>12</th>\n      <td>13</td>\n      <td>15632264</td>\n      <td>Kay</td>\n      <td>476</td>\n      <td>France</td>\n      <td>Female</td>\n      <td>34</td>\n      <td>10.000000</td>\n      <td>0.00</td>\n      <td>2</td>\n      <td>1</td>\n      <td>0</td>\n      <td>26260.98</td>\n      <td>0</td>\n    </tr>\n    <tr>\n      <th>13</th>\n      <td>14</td>\n      <td>15691483</td>\n      <td>Chin</td>\n      <td>549</td>\n      <td>France</td>\n      <td>Female</td>\n      <td>25</td>\n      <td>5.000000</td>\n      <td>0.00</td>\n      <td>2</td>\n      <td>0</td>\n      <td>0</td>\n      <td>190857.79</td>\n      <td>0</td>\n    </tr>\n    <tr>\n      <th>14</th>\n      <td>15</td>\n      <td>15600882</td>\n      <td>Scott</td>\n      <td>635</td>\n      <td>Spain</td>\n      <td>Female</td>\n      <td>35</td>\n      <td>7.000000</td>\n      <td>0.00</td>\n      <td>2</td>\n      <td>1</td>\n      <td>1</td>\n      <td>65951.65</td>\n      <td>0</td>\n    </tr>\n    <tr>\n      <th>15</th>\n      <td>16</td>\n      <td>15643966</td>\n      <td>Goforth</td>\n      <td>616</td>\n      <td>Germany</td>\n      <td>Male</td>\n      <td>45</td>\n      <td>3.000000</td>\n      <td>143129.41</td>\n      <td>2</td>\n      <td>0</td>\n      <td>1</td>\n      <td>64327.26</td>\n      <td>0</td>\n    </tr>\n    <tr>\n      <th>16</th>\n      <td>17</td>\n      <td>15737452</td>\n      <td>Romeo</td>\n      <td>653</td>\n      <td>Germany</td>\n      <td>Male</td>\n      <td>58</td>\n      <td>1.000000</td>\n      <td>132602.88</td>\n      <td>1</td>\n      <td>1</td>\n      <td>0</td>\n      <td>5097.67</td>\n      <td>1</td>\n    </tr>\n    <tr>\n      <th>17</th>\n      <td>18</td>\n      <td>15788218</td>\n      <td>Henderson</td>\n      <td>549</td>\n      <td>Spain</td>\n      <td>Female</td>\n      <td>24</td>\n      <td>9.000000</td>\n      <td>0.00</td>\n      <td>2</td>\n      <td>1</td>\n      <td>1</td>\n      <td>14406.41</td>\n      <td>0</td>\n    </tr>\n    <tr>\n      <th>18</th>\n      <td>19</td>\n      <td>15661507</td>\n      <td>Muldrow</td>\n      <td>587</td>\n      <td>Spain</td>\n      <td>Male</td>\n      <td>45</td>\n      <td>6.000000</td>\n      <td>0.00</td>\n      <td>1</td>\n      <td>0</td>\n      <td>0</td>\n      <td>158684.81</td>\n      <td>0</td>\n    </tr>\n    <tr>\n      <th>19</th>\n      <td>20</td>\n      <td>15568982</td>\n      <td>Hao</td>\n      <td>726</td>\n      <td>France</td>\n      <td>Female</td>\n      <td>24</td>\n      <td>6.000000</td>\n      <td>0.00</td>\n      <td>2</td>\n      <td>1</td>\n      <td>1</td>\n      <td>54724.03</td>\n      <td>0</td>\n    </tr>\n    <tr>\n      <th>20</th>\n      <td>21</td>\n      <td>15577657</td>\n      <td>McDonald</td>\n      <td>732</td>\n      <td>France</td>\n      <td>Male</td>\n      <td>41</td>\n      <td>8.000000</td>\n      <td>0.00</td>\n      <td>2</td>\n      <td>1</td>\n      <td>1</td>\n      <td>170886.17</td>\n      <td>0</td>\n    </tr>\n    <tr>\n      <th>21</th>\n      <td>22</td>\n      <td>15597945</td>\n      <td>Dellucci</td>\n      <td>636</td>\n      <td>Spain</td>\n      <td>Female</td>\n      <td>32</td>\n      <td>8.000000</td>\n      <td>0.00</td>\n      <td>2</td>\n      <td>1</td>\n      <td>0</td>\n      <td>138555.46</td>\n      <td>0</td>\n    </tr>\n    <tr>\n      <th>22</th>\n      <td>23</td>\n      <td>15699309</td>\n      <td>Gerasimov</td>\n      <td>510</td>\n      <td>Spain</td>\n      <td>Female</td>\n      <td>38</td>\n      <td>4.000000</td>\n      <td>0.00</td>\n      <td>1</td>\n      <td>1</td>\n      <td>0</td>\n      <td>118913.53</td>\n      <td>1</td>\n    </tr>\n    <tr>\n      <th>23</th>\n      <td>24</td>\n      <td>15725737</td>\n      <td>Mosman</td>\n      <td>669</td>\n      <td>France</td>\n      <td>Male</td>\n      <td>46</td>\n      <td>3.000000</td>\n      <td>0.00</td>\n      <td>2</td>\n      <td>0</td>\n      <td>1</td>\n      <td>8487.75</td>\n      <td>0</td>\n    </tr>\n    <tr>\n      <th>24</th>\n      <td>25</td>\n      <td>15625047</td>\n      <td>Yen</td>\n      <td>846</td>\n      <td>France</td>\n      <td>Female</td>\n      <td>38</td>\n      <td>5.000000</td>\n      <td>0.00</td>\n      <td>1</td>\n      <td>1</td>\n      <td>1</td>\n      <td>187616.16</td>\n      <td>0</td>\n    </tr>\n    <tr>\n      <th>25</th>\n      <td>26</td>\n      <td>15738191</td>\n      <td>Maclean</td>\n      <td>577</td>\n      <td>France</td>\n      <td>Male</td>\n      <td>25</td>\n      <td>3.000000</td>\n      <td>0.00</td>\n      <td>2</td>\n      <td>0</td>\n      <td>1</td>\n      <td>124508.29</td>\n      <td>0</td>\n    </tr>\n    <tr>\n      <th>26</th>\n      <td>27</td>\n      <td>15736816</td>\n      <td>Young</td>\n      <td>756</td>\n      <td>Germany</td>\n      <td>Male</td>\n      <td>36</td>\n      <td>2.000000</td>\n      <td>136815.64</td>\n      <td>1</td>\n      <td>1</td>\n      <td>1</td>\n      <td>170041.95</td>\n      <td>0</td>\n    </tr>\n    <tr>\n      <th>27</th>\n      <td>28</td>\n      <td>15700772</td>\n      <td>Nebechi</td>\n      <td>571</td>\n      <td>France</td>\n      <td>Male</td>\n      <td>44</td>\n      <td>9.000000</td>\n      <td>0.00</td>\n      <td>2</td>\n      <td>0</td>\n      <td>0</td>\n      <td>38433.35</td>\n      <td>0</td>\n    </tr>\n    <tr>\n      <th>28</th>\n      <td>29</td>\n      <td>15728693</td>\n      <td>McWilliams</td>\n      <td>574</td>\n      <td>Germany</td>\n      <td>Female</td>\n      <td>43</td>\n      <td>3.000000</td>\n      <td>141349.43</td>\n      <td>1</td>\n      <td>1</td>\n      <td>1</td>\n      <td>100187.43</td>\n      <td>0</td>\n    </tr>\n    <tr>\n      <th>29</th>\n      <td>30</td>\n      <td>15656300</td>\n      <td>Lucciano</td>\n      <td>411</td>\n      <td>France</td>\n      <td>Male</td>\n      <td>29</td>\n      <td>0.000000</td>\n      <td>59697.17</td>\n      <td>2</td>\n      <td>1</td>\n      <td>1</td>\n      <td>53483.21</td>\n      <td>0</td>\n    </tr>\n    <tr>\n      <th>30</th>\n      <td>31</td>\n      <td>15589475</td>\n      <td>Azikiwe</td>\n      <td>591</td>\n      <td>Spain</td>\n      <td>Female</td>\n      <td>39</td>\n      <td>5.115385</td>\n      <td>0.00</td>\n      <td>3</td>\n      <td>1</td>\n      <td>0</td>\n      <td>140469.38</td>\n      <td>1</td>\n    </tr>\n    <tr>\n      <th>31</th>\n      <td>32</td>\n      <td>15706552</td>\n      <td>Odinakachukwu</td>\n      <td>533</td>\n      <td>France</td>\n      <td>Male</td>\n      <td>36</td>\n      <td>7.000000</td>\n      <td>85311.70</td>\n      <td>1</td>\n      <td>0</td>\n      <td>1</td>\n      <td>156731.91</td>\n      <td>0</td>\n    </tr>\n    <tr>\n      <th>32</th>\n      <td>33</td>\n      <td>15750181</td>\n      <td>Sanderson</td>\n      <td>553</td>\n      <td>Germany</td>\n      <td>Male</td>\n      <td>41</td>\n      <td>9.000000</td>\n      <td>110112.54</td>\n      <td>2</td>\n      <td>0</td>\n      <td>0</td>\n      <td>81898.81</td>\n      <td>0</td>\n    </tr>\n    <tr>\n      <th>33</th>\n      <td>34</td>\n      <td>15659428</td>\n      <td>Maggard</td>\n      <td>520</td>\n      <td>Spain</td>\n      <td>Female</td>\n      <td>42</td>\n      <td>6.000000</td>\n      <td>0.00</td>\n      <td>2</td>\n      <td>1</td>\n      <td>1</td>\n      <td>34410.55</td>\n      <td>0</td>\n    </tr>\n    <tr>\n      <th>34</th>\n      <td>35</td>\n      <td>15732963</td>\n      <td>Clements</td>\n      <td>722</td>\n      <td>Spain</td>\n      <td>Female</td>\n      <td>29</td>\n      <td>9.000000</td>\n      <td>0.00</td>\n      <td>2</td>\n      <td>1</td>\n      <td>1</td>\n      <td>142033.07</td>\n      <td>0</td>\n    </tr>\n    <tr>\n      <th>35</th>\n      <td>36</td>\n      <td>15794171</td>\n      <td>Lombardo</td>\n      <td>475</td>\n      <td>France</td>\n      <td>Female</td>\n      <td>45</td>\n      <td>0.000000</td>\n      <td>134264.04</td>\n      <td>1</td>\n      <td>1</td>\n      <td>0</td>\n      <td>27822.99</td>\n      <td>1</td>\n    </tr>\n    <tr>\n      <th>36</th>\n      <td>37</td>\n      <td>15788448</td>\n      <td>Watson</td>\n      <td>490</td>\n      <td>Spain</td>\n      <td>Male</td>\n      <td>31</td>\n      <td>3.000000</td>\n      <td>145260.23</td>\n      <td>1</td>\n      <td>0</td>\n      <td>1</td>\n      <td>114066.77</td>\n      <td>0</td>\n    </tr>\n    <tr>\n      <th>37</th>\n      <td>38</td>\n      <td>15729599</td>\n      <td>Lorenzo</td>\n      <td>804</td>\n      <td>Spain</td>\n      <td>Male</td>\n      <td>33</td>\n      <td>7.000000</td>\n      <td>76548.60</td>\n      <td>1</td>\n      <td>0</td>\n      <td>1</td>\n      <td>98453.45</td>\n      <td>0</td>\n    </tr>\n    <tr>\n      <th>38</th>\n      <td>39</td>\n      <td>15717426</td>\n      <td>Armstrong</td>\n      <td>850</td>\n      <td>France</td>\n      <td>Male</td>\n      <td>36</td>\n      <td>7.000000</td>\n      <td>0.00</td>\n      <td>1</td>\n      <td>1</td>\n      <td>1</td>\n      <td>40812.90</td>\n      <td>0</td>\n    </tr>\n    <tr>\n      <th>39</th>\n      <td>40</td>\n      <td>15585768</td>\n      <td>Cameron</td>\n      <td>582</td>\n      <td>Germany</td>\n      <td>Male</td>\n      <td>41</td>\n      <td>6.000000</td>\n      <td>70349.48</td>\n      <td>2</td>\n      <td>0</td>\n      <td>1</td>\n      <td>178074.04</td>\n      <td>0</td>\n    </tr>\n  </tbody>\n</table>\n</div>"
     },
     "execution_count": 37,
     "metadata": {},
     "output_type": "execute_result"
    }
   ],
   "source": [
    "data.head(40)"
   ],
   "metadata": {
    "collapsed": false,
    "pycharm": {
     "name": "#%%\n"
    }
   }
  },
  {
   "cell_type": "code",
   "execution_count": null,
   "outputs": [],
   "source": [
    "def upsample(features, target, repeat):\n",
    "    features_zeros = features[target == 0]\n",
    "    features_ones = features[target == 1]\n",
    "    target_zeros = target[target == 0]\n",
    "    target_ones = target[target == 1]\n",
    "\n",
    "    features_upsampled = pd.concat([features_zeros] + [features_ones] * repeat)\n",
    "    target_upsampled = pd.concat([target_zeros] + [target_ones] * repeat)\n",
    "\n",
    "    features_upsampled, target_upsampled = shuffle(\n",
    "        features_upsampled, target_upsampled, random_state=12345)\n",
    "\n",
    "    return features_upsampled, target_upsampled"
   ],
   "metadata": {
    "collapsed": false,
    "pycharm": {
     "name": "#%%\n"
    }
   }
  }
 ],
 "metadata": {
  "kernelspec": {
   "display_name": "Python 3",
   "language": "python",
   "name": "python3"
  },
  "language_info": {
   "codemirror_mode": {
    "name": "ipython",
    "version": 2
   },
   "file_extension": ".py",
   "mimetype": "text/x-python",
   "name": "python",
   "nbconvert_exporter": "python",
   "pygments_lexer": "ipython2",
   "version": "2.7.6"
  }
 },
 "nbformat": 4,
 "nbformat_minor": 0
}