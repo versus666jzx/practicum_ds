{
 "cells": [
  {
   "cell_type": "markdown",
   "source": [
    "### Описание проекта\n",
    "\n",
    "Нужно защитить данные клиентов страховой компании «Хоть потоп».\n",
    "Разработать такой метод преобразования данных, чтобы по ним было сложно восстановить персональную информацию. Обосновать корректность его работы.\n",
    "\n",
    "\n",
    "Нужно защитить данные, чтобы при преобразовании качество моделей машинного обучения не ухудшилось. Подбирать наилучшую модель не требуется.\n",
    "\n",
    "### Описание данных\n",
    "\n",
    " - Набор данных находится в файле /datasets/insurance.csv.\n",
    " - Признаки: пол, возраст и зарплата застрахованного, количество членов его семьи.\n",
    " - Целевой признак: количество страховых выплат клиенту за последние 5 лет."
   ],
   "metadata": {
    "collapsed": false,
    "pycharm": {
     "name": "#%% md\n"
    }
   }
  },
  {
   "cell_type": "markdown",
   "source": [
    "Подключим необходимые библиотеки"
   ],
   "metadata": {
    "collapsed": false,
    "pycharm": {
     "name": "#%% md\n"
    }
   }
  },
  {
   "cell_type": "code",
   "execution_count": 2,
   "outputs": [],
   "source": [
    "import pandas as pd\n",
    "import numpy as np\n",
    "\n",
    "from sklearn.linear_model import LinearRegression\n",
    "from sklearn.metrics import r2_score\n",
    "from sklearn.model_selection import train_test_split\n",
    "from sklearn.decomposition import PCA\n",
    "\n",
    "import plotly.express as px"
   ],
   "metadata": {
    "collapsed": false,
    "pycharm": {
     "name": "#%%\n"
    }
   }
  },
  {
   "cell_type": "markdown",
   "source": [
    "## Шаг 1. Загрузим и посмотрим на данные"
   ],
   "metadata": {
    "collapsed": false,
    "pycharm": {
     "name": "#%% md\n"
    }
   }
  },
  {
   "cell_type": "code",
   "execution_count": 3,
   "outputs": [
    {
     "data": {
      "text/plain": "   Пол  Возраст  Зарплата  Члены семьи  Страховые выплаты\n0    1     41.0   49600.0            1                  0\n1    0     46.0   38000.0            1                  1\n2    0     29.0   21000.0            0                  0\n3    0     21.0   41700.0            2                  0\n4    1     28.0   26100.0            0                  0",
      "text/html": "<div>\n<style scoped>\n    .dataframe tbody tr th:only-of-type {\n        vertical-align: middle;\n    }\n\n    .dataframe tbody tr th {\n        vertical-align: top;\n    }\n\n    .dataframe thead th {\n        text-align: right;\n    }\n</style>\n<table border=\"1\" class=\"dataframe\">\n  <thead>\n    <tr style=\"text-align: right;\">\n      <th></th>\n      <th>Пол</th>\n      <th>Возраст</th>\n      <th>Зарплата</th>\n      <th>Члены семьи</th>\n      <th>Страховые выплаты</th>\n    </tr>\n  </thead>\n  <tbody>\n    <tr>\n      <th>0</th>\n      <td>1</td>\n      <td>41.0</td>\n      <td>49600.0</td>\n      <td>1</td>\n      <td>0</td>\n    </tr>\n    <tr>\n      <th>1</th>\n      <td>0</td>\n      <td>46.0</td>\n      <td>38000.0</td>\n      <td>1</td>\n      <td>1</td>\n    </tr>\n    <tr>\n      <th>2</th>\n      <td>0</td>\n      <td>29.0</td>\n      <td>21000.0</td>\n      <td>0</td>\n      <td>0</td>\n    </tr>\n    <tr>\n      <th>3</th>\n      <td>0</td>\n      <td>21.0</td>\n      <td>41700.0</td>\n      <td>2</td>\n      <td>0</td>\n    </tr>\n    <tr>\n      <th>4</th>\n      <td>1</td>\n      <td>28.0</td>\n      <td>26100.0</td>\n      <td>0</td>\n      <td>0</td>\n    </tr>\n  </tbody>\n</table>\n</div>"
     },
     "execution_count": 3,
     "metadata": {},
     "output_type": "execute_result"
    }
   ],
   "source": [
    "data = pd.read_csv('https://code.s3.yandex.net/datasets/insurance.csv')\n",
    "data.head()"
   ],
   "metadata": {
    "collapsed": false,
    "pycharm": {
     "name": "#%%\n"
    }
   }
  },
  {
   "cell_type": "code",
   "execution_count": 4,
   "outputs": [
    {
     "name": "stdout",
     "output_type": "stream",
     "text": [
      "<class 'pandas.core.frame.DataFrame'>\n",
      "RangeIndex: 5000 entries, 0 to 4999\n",
      "Data columns (total 5 columns):\n",
      " #   Column             Non-Null Count  Dtype  \n",
      "---  ------             --------------  -----  \n",
      " 0   Пол                5000 non-null   int64  \n",
      " 1   Возраст            5000 non-null   float64\n",
      " 2   Зарплата           5000 non-null   float64\n",
      " 3   Члены семьи        5000 non-null   int64  \n",
      " 4   Страховые выплаты  5000 non-null   int64  \n",
      "dtypes: float64(2), int64(3)\n",
      "memory usage: 195.4 KB\n"
     ]
    }
   ],
   "source": [
    "data.info()"
   ],
   "metadata": {
    "collapsed": false,
    "pycharm": {
     "name": "#%%\n"
    }
   }
  },
  {
   "cell_type": "markdown",
   "source": [
    "Датасет содержит 5000 наблюдений и 5 признаков. Данные имеют формат int64 и float64, также в датасете отсутствуют пропуски."
   ],
   "metadata": {
    "collapsed": false,
    "pycharm": {
     "name": "#%% md\n"
    }
   }
  },
  {
   "cell_type": "code",
   "execution_count": 5,
   "outputs": [
    {
     "data": {
      "text/plain": "               Пол      Возраст      Зарплата  Члены семьи  Страховые выплаты\ncount  5000.000000  5000.000000   5000.000000  5000.000000        5000.000000\nmean      0.499000    30.952800  39916.360000     1.194200           0.148000\nstd       0.500049     8.440807   9900.083569     1.091387           0.463183\nmin       0.000000    18.000000   5300.000000     0.000000           0.000000\n25%       0.000000    24.000000  33300.000000     0.000000           0.000000\n50%       0.000000    30.000000  40200.000000     1.000000           0.000000\n75%       1.000000    37.000000  46600.000000     2.000000           0.000000\nmax       1.000000    65.000000  79000.000000     6.000000           5.000000",
      "text/html": "<div>\n<style scoped>\n    .dataframe tbody tr th:only-of-type {\n        vertical-align: middle;\n    }\n\n    .dataframe tbody tr th {\n        vertical-align: top;\n    }\n\n    .dataframe thead th {\n        text-align: right;\n    }\n</style>\n<table border=\"1\" class=\"dataframe\">\n  <thead>\n    <tr style=\"text-align: right;\">\n      <th></th>\n      <th>Пол</th>\n      <th>Возраст</th>\n      <th>Зарплата</th>\n      <th>Члены семьи</th>\n      <th>Страховые выплаты</th>\n    </tr>\n  </thead>\n  <tbody>\n    <tr>\n      <th>count</th>\n      <td>5000.000000</td>\n      <td>5000.000000</td>\n      <td>5000.000000</td>\n      <td>5000.000000</td>\n      <td>5000.000000</td>\n    </tr>\n    <tr>\n      <th>mean</th>\n      <td>0.499000</td>\n      <td>30.952800</td>\n      <td>39916.360000</td>\n      <td>1.194200</td>\n      <td>0.148000</td>\n    </tr>\n    <tr>\n      <th>std</th>\n      <td>0.500049</td>\n      <td>8.440807</td>\n      <td>9900.083569</td>\n      <td>1.091387</td>\n      <td>0.463183</td>\n    </tr>\n    <tr>\n      <th>min</th>\n      <td>0.000000</td>\n      <td>18.000000</td>\n      <td>5300.000000</td>\n      <td>0.000000</td>\n      <td>0.000000</td>\n    </tr>\n    <tr>\n      <th>25%</th>\n      <td>0.000000</td>\n      <td>24.000000</td>\n      <td>33300.000000</td>\n      <td>0.000000</td>\n      <td>0.000000</td>\n    </tr>\n    <tr>\n      <th>50%</th>\n      <td>0.000000</td>\n      <td>30.000000</td>\n      <td>40200.000000</td>\n      <td>1.000000</td>\n      <td>0.000000</td>\n    </tr>\n    <tr>\n      <th>75%</th>\n      <td>1.000000</td>\n      <td>37.000000</td>\n      <td>46600.000000</td>\n      <td>2.000000</td>\n      <td>0.000000</td>\n    </tr>\n    <tr>\n      <th>max</th>\n      <td>1.000000</td>\n      <td>65.000000</td>\n      <td>79000.000000</td>\n      <td>6.000000</td>\n      <td>5.000000</td>\n    </tr>\n  </tbody>\n</table>\n</div>"
     },
     "execution_count": 5,
     "metadata": {},
     "output_type": "execute_result"
    }
   ],
   "source": [
    "data.describe()"
   ],
   "metadata": {
    "collapsed": false,
    "pycharm": {
     "name": "#%%\n"
    }
   }
  },
  {
   "cell_type": "markdown",
   "source": [
    "Судя по описательной статистике данные не имеют ярковыраженных выбросов (mean ~ median).\n",
    "Примерный портрет среднего клиента страховой компании:\n",
    "- возраст 31 год +-8 лет\n",
    "- зарплата 40к +- 10к\n",
    "- 1-2 члена семьи"
   ],
   "metadata": {
    "collapsed": false,
    "pycharm": {
     "name": "#%% md\n"
    }
   }
  },
  {
   "cell_type": "code",
   "execution_count": 6,
   "outputs": [
    {
     "data": {
      "text/plain": "array([[ 0.60412557, -1.2869503 ,  2.7632673 , -2.02030853,  0.21954331],\n       [ 2.12119305, -1.48272201, -8.85654707,  0.26489642,  6.19105318],\n       [ 0.36531461,  2.80229828, -1.38414823,  2.78586251, -3.1359106 ],\n       [-2.71811624, -0.43951651, 11.05337636, -1.04367583, -4.74293325],\n       [-1.07794365,  0.06999057,  3.73459158, -1.55894668, -0.36867899]])"
     },
     "execution_count": 6,
     "metadata": {},
     "output_type": "execute_result"
    }
   ],
   "source": [
    "np.linalg.inv(np.random.random_sample(size=(5,5)))"
   ],
   "metadata": {
    "collapsed": false,
    "pycharm": {
     "name": "#%%\n"
    }
   }
  },
  {
   "cell_type": "code",
   "execution_count": 10,
   "outputs": [],
   "source": [
    "def multiply_data_by_inv_matrix(data: pd.DataFrame) -> pd.DataFrame:\n",
    "    count_data, count_columns = data.shape\n",
    "    columns = data.columns\n",
    "    inv_data = pd.DataFrame()\n",
    "    inv_matrix = np.linalg.inv(np.random.random_sample(size=(count_columns, count_columns)))\n",
    "\n",
    "    for index in range(0, count_data, count_columns):\n",
    "        if index == 0:\n",
    "            old_index = index\n",
    "            continue\n",
    "        sample = data.loc[old_index:index, :] @ inv_matrix\n",
    "        inv_data = pd.concat(\n",
    "            [inv_data, sample],\n",
    "            axis=0\n",
    "        )\n",
    "        old_index = index\n",
    "\n",
    "    inv_data.columns = columns\n",
    "    return inv_data"
   ],
   "metadata": {
    "collapsed": false,
    "pycharm": {
     "name": "#%%\n"
    }
   }
  },
  {
   "cell_type": "code",
   "execution_count": 11,
   "outputs": [],
   "source": [
    "inv_data = multiply_data_by_inv_matrix(data)"
   ],
   "metadata": {
    "collapsed": false,
    "pycharm": {
     "name": "#%%\n"
    }
   }
  },
  {
   "cell_type": "code",
   "execution_count": 12,
   "outputs": [
    {
     "data": {
      "text/plain": "                Пол        Возраст       Зарплата    Члены семьи  \\\n0    -344694.971877  821850.819630 -245223.336841 -820093.068883   \n1    -264092.461574  629662.559402 -187875.636145 -628322.859404   \n2    -145975.921688  348032.879342 -103844.952133 -347292.022991   \n3    -289742.834137  690851.595250 -206138.175487 -689370.297999   \n4    -181407.199660  432515.403266 -129052.639514 -431591.921866   \n...             ...            ...            ...            ...   \n4991 -266134.365515  634557.064173 -189343.296238 -633193.242103   \n4992 -379383.993882  904574.416898 -269900.799012 -902649.376495   \n4993 -250195.434203  596532.463832 -177993.589645 -595255.616744   \n4994 -357132.754360  851531.311973 -254077.160453 -849711.079430   \n4995 -248093.641939  591529.849323 -176502.917495 -590261.961551   \n\n      Страховые выплаты  \n0          1.184720e+06  \n1          9.077017e+05  \n2          5.017222e+05  \n3          9.958521e+05  \n4          6.234960e+05  \n...                 ...  \n4991       9.147060e+05  \n4992       1.303967e+06  \n4993       8.599213e+05  \n4994       1.227474e+06  \n4995       8.527008e+05  \n\n[5994 rows x 5 columns]",
      "text/html": "<div>\n<style scoped>\n    .dataframe tbody tr th:only-of-type {\n        vertical-align: middle;\n    }\n\n    .dataframe tbody tr th {\n        vertical-align: top;\n    }\n\n    .dataframe thead th {\n        text-align: right;\n    }\n</style>\n<table border=\"1\" class=\"dataframe\">\n  <thead>\n    <tr style=\"text-align: right;\">\n      <th></th>\n      <th>Пол</th>\n      <th>Возраст</th>\n      <th>Зарплата</th>\n      <th>Члены семьи</th>\n      <th>Страховые выплаты</th>\n    </tr>\n  </thead>\n  <tbody>\n    <tr>\n      <th>0</th>\n      <td>-344694.971877</td>\n      <td>821850.819630</td>\n      <td>-245223.336841</td>\n      <td>-820093.068883</td>\n      <td>1.184720e+06</td>\n    </tr>\n    <tr>\n      <th>1</th>\n      <td>-264092.461574</td>\n      <td>629662.559402</td>\n      <td>-187875.636145</td>\n      <td>-628322.859404</td>\n      <td>9.077017e+05</td>\n    </tr>\n    <tr>\n      <th>2</th>\n      <td>-145975.921688</td>\n      <td>348032.879342</td>\n      <td>-103844.952133</td>\n      <td>-347292.022991</td>\n      <td>5.017222e+05</td>\n    </tr>\n    <tr>\n      <th>3</th>\n      <td>-289742.834137</td>\n      <td>690851.595250</td>\n      <td>-206138.175487</td>\n      <td>-689370.297999</td>\n      <td>9.958521e+05</td>\n    </tr>\n    <tr>\n      <th>4</th>\n      <td>-181407.199660</td>\n      <td>432515.403266</td>\n      <td>-129052.639514</td>\n      <td>-431591.921866</td>\n      <td>6.234960e+05</td>\n    </tr>\n    <tr>\n      <th>...</th>\n      <td>...</td>\n      <td>...</td>\n      <td>...</td>\n      <td>...</td>\n      <td>...</td>\n    </tr>\n    <tr>\n      <th>4991</th>\n      <td>-266134.365515</td>\n      <td>634557.064173</td>\n      <td>-189343.296238</td>\n      <td>-633193.242103</td>\n      <td>9.147060e+05</td>\n    </tr>\n    <tr>\n      <th>4992</th>\n      <td>-379383.993882</td>\n      <td>904574.416898</td>\n      <td>-269900.799012</td>\n      <td>-902649.376495</td>\n      <td>1.303967e+06</td>\n    </tr>\n    <tr>\n      <th>4993</th>\n      <td>-250195.434203</td>\n      <td>596532.463832</td>\n      <td>-177993.589645</td>\n      <td>-595255.616744</td>\n      <td>8.599213e+05</td>\n    </tr>\n    <tr>\n      <th>4994</th>\n      <td>-357132.754360</td>\n      <td>851531.311973</td>\n      <td>-254077.160453</td>\n      <td>-849711.079430</td>\n      <td>1.227474e+06</td>\n    </tr>\n    <tr>\n      <th>4995</th>\n      <td>-248093.641939</td>\n      <td>591529.849323</td>\n      <td>-176502.917495</td>\n      <td>-590261.961551</td>\n      <td>8.527008e+05</td>\n    </tr>\n  </tbody>\n</table>\n<p>5994 rows × 5 columns</p>\n</div>"
     },
     "execution_count": 12,
     "metadata": {},
     "output_type": "execute_result"
    }
   ],
   "source": [
    "inv_data"
   ],
   "metadata": {
    "collapsed": false,
    "pycharm": {
     "name": "#%%\n"
    }
   }
  },
  {
   "cell_type": "code",
   "execution_count": 13,
   "outputs": [],
   "source": [
    "features = data.drop('Страховые выплаты', axis=1)\n",
    "target = data['Страховые выплаты']\n",
    "\n",
    "features_inv = inv_data.drop('Страховые выплаты', axis=1)\n",
    "target_inv = inv_data['Страховые выплаты']\n",
    "\n",
    "X_train, X_test, y_train, y_test = train_test_split(features, target, test_size=.02, random_state=25)\n",
    "X_train_inv, X_test_inv, y_train_inv, y_test_inv = train_test_split(features_inv, target_inv, test_size=.02, random_state=25)"
   ],
   "metadata": {
    "collapsed": false,
    "pycharm": {
     "name": "#%%\n"
    }
   }
  },
  {
   "cell_type": "code",
   "execution_count": 14,
   "outputs": [
    {
     "name": "stdout",
     "output_type": "stream",
     "text": [
      "0.2964817324283996\n"
     ]
    }
   ],
   "source": [
    "model = LinearRegression()\n",
    "model.fit(X_train, y_train)\n",
    "pred = model.predict(X_test)\n",
    "print(r2_score(y_test, pred))"
   ],
   "metadata": {
    "collapsed": false,
    "pycharm": {
     "name": "#%%\n"
    }
   }
  },
  {
   "cell_type": "code",
   "execution_count": 16,
   "outputs": [
    {
     "name": "stdout",
     "output_type": "stream",
     "text": [
      "0.9999999999351529\n"
     ]
    }
   ],
   "source": [
    "model = LinearRegression()\n",
    "model.fit(X_train_inv, y_train_inv)\n",
    "pred = model.predict(X_test_inv)\n",
    "print(r2_score(y_test_inv, pred))"
   ],
   "metadata": {
    "collapsed": false,
    "pycharm": {
     "name": "#%%\n"
    }
   }
  },
  {
   "cell_type": "code",
   "execution_count": 36,
   "outputs": [
    {
     "name": "stdout",
     "output_type": "stream",
     "text": [
      "После стандартного скейлера: 0.25756910603033767\n",
      "После минмакс скейлера: -0.15590979525468085\n"
     ]
    }
   ],
   "source": [
    "from sklearn.preprocessing import StandardScaler, MinMaxScaler\n",
    "\n",
    "s_scaler = StandardScaler()\n",
    "minmax_scaler = MinMaxScaler()\n",
    "X_train_s_scaled = s_scaler.fit_transform(X_train)\n",
    "X_train_minmax_scaled = minmax_scaler.fit_transform(X_train)\n",
    "\n",
    "model.fit(X_train_s_scaled, y_train)\n",
    "pred = model.predict(s_scaler.fit_transform(X_test))\n",
    "print(f\"После стандартного скейлера: {r2_score(y_test, pred)}\")\n",
    "\n",
    "model.fit(X_train_minmax_scaled, y_train)\n",
    "pred = model.predict(minmax_scaler.fit_transform(X_test))\n",
    "\n",
    "print(f\"После минмакс скейлера: {r2_score(y_test, pred)}\")"
   ],
   "metadata": {
    "collapsed": false,
    "pycharm": {
     "name": "#%%\n"
    }
   }
  }
 ],
 "metadata": {
  "kernelspec": {
   "display_name": "Python 3",
   "language": "python",
   "name": "python3"
  },
  "language_info": {
   "codemirror_mode": {
    "name": "ipython",
    "version": 2
   },
   "file_extension": ".py",
   "mimetype": "text/x-python",
   "name": "python",
   "nbconvert_exporter": "python",
   "pygments_lexer": "ipython2",
   "version": "2.7.6"
  }
 },
 "nbformat": 4,
 "nbformat_minor": 0
}