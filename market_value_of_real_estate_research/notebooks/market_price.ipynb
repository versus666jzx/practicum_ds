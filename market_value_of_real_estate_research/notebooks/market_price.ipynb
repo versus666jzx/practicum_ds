{
 "cells": [
  {
   "cell_type": "markdown",
   "source": [
    "## Исследование объявлений о продаже квартир\n",
    "\n",
    "В нашем распоряжении данные сервиса Яндекс.Недвижимость — архив объявлений о продаже квартир в Санкт-Петербурге и соседних населённых пунктах за несколько лет.\n",
    "\n",
    "### Цель проекта\n",
    "\n",
    "Научиться определять рыночную стоимость объектов недвижимости. Наша задача — установить параметры.\n",
    "Это позволит построить автоматизированную систему: она отследит аномалии и мошенническую деятельность\n",
    "\n",
    "Провести следующие исследования:\n",
    "\n",
    "   -  Изучите следующие параметры: площадь, цена, число комнат, высота потолков. Постройте гистограммы для каждого параметра.\n",
    "   -  Изучите время продажи квартиры. Постройте гистограмму. Посчитайте среднее и медиану. Опишите, сколько обычно занимает продажа. Когда можно считать, что продажи прошли очень быстро, а когда необычно долго?\n",
    "   -  Уберите редкие и выбивающиеся значения. Опишите, какие особенности обнаружили.\n",
    "   -  Какие факторы больше всего влияют на стоимость квартиры? Изучите, зависит ли цена от площади, числа комнат, удалённости от центра. Изучите зависимость цены от того, на каком этаже расположена квартира: первом, последнем или другом. Также изучите зависимость от даты размещения: дня недели, месяца и года.\n",
    "   -  Выберите 10 населённых пунктов с наибольшим числом объявлений. Посчитайте среднюю цену квадратного метра в этих населённых пунктах. Выделите населённые пункты с самой высокой и низкой стоимостью жилья. Эти данные можно найти по имени в столбце locality_name.\n",
    "   -  Изучите предложения квартир: для каждой квартиры есть информация о расстоянии до центра. Выделите квартиры в Санкт-Петербурге (locality_name). Ваша задача — выяснить, какая область входит в центр. Создайте столбец с расстоянием до центра в километрах: округлите до целых значений. После этого посчитайте среднюю цену для каждого километра. Постройте график: он должен показывать, как цена зависит от удалённости от центра. Определите границу, где график сильно меняется, — это и будет центральная зона.\n",
    "   -  Выделите сегмент квартир в центре. Проанализируйте эту территорию и изучите следующие параметры: площадь, цена, число комнат, высота потолков. Также выделите факторы, которые влияют на стоимость квартиры (число комнат, этаж, удалённость от центра, дата размещения объявления). Сделайте выводы. Отличаются ли они от общих выводов по всему городу?\n",
    "\n",
    "### Описание данных\n",
    "\n",
    "| Название столбца     | Описание                                                         |\n",
    "|----------------------|------------------------------------------------------------------|\n",
    "| airports_nearest     | расстояние до ближайшего аэропорта в метрах (м)                  |\n",
    "| balcony              | число балконов                                                   |\n",
    "| ceiling_height       | высота потолков (м)                                              |\n",
    "| cityCenters_nearest  | расстояние до центра города (м)                                  |\n",
    "| days_exposition      | сколько дней было размещено объявление (от публикации до снятия) |\n",
    "| first_day_exposition | дата публикации                                                  |\n",
    "| floor                | этаж                                                             |\n",
    "| floors_total         | всего этажей в доме                                              |\n",
    "| is_apartment         | апартаменты (булев тип)                                          |\n",
    "| kitchen_area         | площадь кухни в квадратных метрах (м²)                           |\n",
    "| last_price           | цена на момент снятия с публикации                               |\n",
    "| living_area          | жилая площадь в квадратных метрах (м²)                           |\n",
    "| locality_name        | название населённого пункта                                      |\n",
    "| open_plan            | свободная планировка (булев тип)                                 |\n",
    "| parks_around3000     | число парков в радиусе 3 км                                      |\n",
    "| parks_nearest        | расстояние до ближайшего парка (м)                               |\n",
    "| ponds_around3000     | число водоёмов в радиусе 3 км                                    |\n",
    "| ponds_nearest        | расстояние до ближайшего водоёма (м)                             |\n",
    "| rooms                | число комнат                                                     |\n",
    "| studio               | квартира-студия (булев тип)                                      |\n",
    "| total_area           | площадь квартиры в квадратных метрах (м²)                        |\n",
    "| total_images         | число фотографий квартиры в объявлении                           |\n",
    "\n",
    "Пояснение: апартаменты — это нежилые помещения, которые не относятся к жилому фонду, но имеют необходимые условия для проживания."
   ],
   "metadata": {
    "collapsed": false
   }
  },
  {
   "cell_type": "code",
   "execution_count": 54,
   "metadata": {
    "collapsed": true
   },
   "outputs": [],
   "source": [
    "# импортируем необходимые библиотеки\n",
    "import pandas as pd\n",
    "import matplotlib.pyplot as plt\n",
    "import seaborn as sns\n",
    "from pymystem3 import Mystem\n",
    "lemm = Mystem().lemmatize # создаем объект лемматизатора\n",
    "\n",
    "from nltk import SnowballStemmer\n",
    "stemm = SnowballStemmer('russian').stem # создаем объект стеммера\n",
    "\n",
    "pd.options.display.max_columns = None"
   ]
  },
  {
   "cell_type": "code",
   "execution_count": 55,
   "outputs": [
    {
     "data": {
      "text/plain": "    total_images  last_price  total_area first_day_exposition  rooms  \\\n0             20  13000000.0      108.00  2019-03-07T00:00:00      3   \n1              7   3350000.0       40.40  2018-12-04T00:00:00      1   \n2             10   5196000.0       56.00  2015-08-20T00:00:00      2   \n3              0  64900000.0      159.00  2015-07-24T00:00:00      3   \n4              2  10000000.0      100.00  2018-06-19T00:00:00      2   \n5             10   2890000.0       30.40  2018-09-10T00:00:00      1   \n6              6   3700000.0       37.30  2017-11-02T00:00:00      1   \n7              5   7915000.0       71.60  2019-04-18T00:00:00      2   \n8             20   2900000.0       33.16  2018-05-23T00:00:00      1   \n9             18   5400000.0       61.00  2017-02-26T00:00:00      3   \n10             5   5050000.0       39.60  2017-11-16T00:00:00      1   \n11             9   3300000.0       44.00  2018-08-27T00:00:00      2   \n12            10   3890000.0       54.00  2016-06-30T00:00:00      2   \n13            20   3550000.0       42.80  2017-07-01T00:00:00      2   \n14             1   4400000.0       36.00  2016-06-23T00:00:00      1   \n15            16   4650000.0       39.00  2017-11-18T00:00:00      1   \n16            11   6700000.0       82.00  2017-11-23T00:00:00      3   \n17             6   4180000.0       36.00  2016-09-09T00:00:00      1   \n18             8   3250000.0       31.00  2017-01-27T00:00:00      1   \n19            16  14200000.0      121.00  2019-01-09T00:00:00      3   \n20            12   6120000.0       80.00  2017-09-28T00:00:00      3   \n21            13   3200000.0       31.60  2018-03-14T00:00:00      1   \n22            20   5000000.0       58.00  2017-04-24T00:00:00      2   \n23            11   2950000.0       32.00  2016-10-29T00:00:00      1   \n24             8   6500000.0       97.20  2015-10-31T00:00:00      2   \n25             3   6800000.0       76.00  2015-10-01T00:00:00      2   \n26             6   4050000.0       60.00  2017-04-28T00:00:00      4   \n27            20   7100000.0       70.00  2017-05-12T00:00:00      3   \n28             8   4170000.0       44.00  2017-12-13T00:00:00      1   \n29             9   8600000.0      100.00  2016-04-09T00:00:00      3   \n30            12   2200000.0       32.80  2018-02-19T00:00:00      1   \n31             8   7200000.0       67.90  2017-10-26T00:00:00      2   \n32             7   4990000.0       60.00  2016-05-22T00:00:00      3   \n33             8   4800000.0       73.00  2018-10-15T00:00:00      4   \n34             3   3290000.0       33.00  2018-02-04T00:00:00      1   \n35             6  15500000.0      149.00  2017-06-26T00:00:00      5   \n36            13   3790000.0       45.00  2017-01-25T00:00:00      2   \n37            10   1990000.0       45.80  2017-10-28T00:00:00      2   \n38            10   3150000.0       40.00  2018-03-29T00:00:00      1   \n39            15   5200000.0       54.40  2018-11-29T00:00:00      2   \n\n    ceiling_height  floors_total  living_area  floor is_apartment  studio  \\\n0             2.70          16.0        51.00      8          NaN   False   \n1              NaN          11.0        18.60      1          NaN   False   \n2              NaN           5.0        34.30      4          NaN   False   \n3              NaN          14.0          NaN      9          NaN   False   \n4             3.03          14.0        32.00     13          NaN   False   \n5              NaN          12.0        14.40      5          NaN   False   \n6              NaN          26.0        10.60      6          NaN   False   \n7              NaN          24.0          NaN     22          NaN   False   \n8              NaN          27.0        15.43     26          NaN   False   \n9             2.50           9.0        43.60      7          NaN   False   \n10            2.67          12.0        20.30      3          NaN   False   \n11             NaN           5.0        31.00      4        False   False   \n12             NaN           5.0        30.00      5          NaN   False   \n13            2.56           5.0        27.00      5          NaN   False   \n14             NaN           6.0        17.00      1          NaN   False   \n15             NaN          14.0        20.50      5          NaN   False   \n16            3.05           5.0        55.60      1          NaN   False   \n17             NaN          17.0        16.50      7          NaN   False   \n18            2.50           5.0        19.40      2          NaN   False   \n19            2.75          16.0        76.00      8          NaN   False   \n20            2.70          27.0        48.00     11          NaN   False   \n21             NaN           5.0        16.90      2          NaN   False   \n22            2.75          25.0        30.00     15          NaN   False   \n23            2.60           9.0        17.70      9          NaN   False   \n24             NaN           3.0        46.50      1          NaN   False   \n25            2.75          23.0        39.00     18        False   False   \n26             NaN           5.0        43.00      4          NaN   False   \n27            2.60          17.0        49.00     11          NaN   False   \n28            2.90           6.0        20.80      1          NaN   False   \n29             NaN          19.0        52.00     15        False   False   \n30             NaN           9.0          NaN      2          NaN   False   \n31            2.80          16.0        38.10      4          NaN   False   \n32             NaN           5.0        39.00      4          NaN   False   \n33             NaN           9.0        51.60      5          NaN   False   \n34            2.55          16.0        14.00      3          NaN   False   \n35             NaN           5.0       104.00      4          NaN   False   \n36             NaN           9.0        27.00      9        False   False   \n37            2.50           5.0          NaN      1          NaN   False   \n38            2.75          18.0        16.30      9          NaN   False   \n39            2.75           9.0        29.70      2          NaN   False   \n\n    open_plan  kitchen_area  balcony                        locality_name  \\\n0       False         25.00      NaN                      Санкт-Петербург   \n1       False         11.00      2.0                       посёлок Шушары   \n2       False          8.30      0.0                      Санкт-Петербург   \n3       False           NaN      0.0                      Санкт-Петербург   \n4       False         41.00      NaN                      Санкт-Петербург   \n5       False          9.10      NaN            городской посёлок Янино-1   \n6       False         14.40      1.0                    посёлок Парголово   \n7       False         18.90      2.0                      Санкт-Петербург   \n8       False          8.81      NaN                       посёлок Мурино   \n9       False          6.50      2.0                      Санкт-Петербург   \n10      False          8.50      NaN                      Санкт-Петербург   \n11      False          6.00      1.0                            Ломоносов   \n12      False          9.00      0.0                            Сертолово   \n13      False          5.20      1.0                             Петергоф   \n14      False          8.00      0.0                               Пушкин   \n15      False          7.60      1.0                      Санкт-Петербург   \n16      False          9.00      NaN                      Санкт-Петербург   \n17      False         11.00      1.0                      Санкт-Петербург   \n18      False          5.60      1.0                      Санкт-Петербург   \n19      False         12.00      NaN                      Санкт-Петербург   \n20      False         12.00      2.0                    посёлок Парголово   \n21      False          5.70      1.0                      Санкт-Петербург   \n22      False         11.00      2.0                      деревня Кудрово   \n23      False          6.10      NaN                      Санкт-Петербург   \n24      False         19.60      0.0                      Санкт-Петербург   \n25      False         15.00      2.0                      Санкт-Петербург   \n26      False          7.00      NaN                      Санкт-Петербург   \n27      False          9.20      0.0                      Санкт-Петербург   \n28      False         11.70      1.0                               Пушкин   \n29      False         11.00      0.0                      Санкт-Петербург   \n30      False           NaN      NaN                             Коммунар   \n31      False         13.40      2.0                      Санкт-Петербург   \n32      False          6.00      0.0                      Санкт-Петербург   \n33      False          6.50      NaN                              Колпино   \n34      False          8.00      NaN                      Санкт-Петербург   \n35      False         17.00      NaN                      Санкт-Петербург   \n36      False          6.30      2.0                      Санкт-Петербург   \n37      False           NaN      NaN  поселок городского типа Красный Бор   \n38      False         11.60      NaN                       посёлок Мурино   \n39      False          8.80      2.0                      Санкт-Петербург   \n\n    airports_nearest  cityCenters_nearest  parks_around3000  parks_nearest  \\\n0            18863.0              16028.0               1.0          482.0   \n1            12817.0              18603.0               0.0            NaN   \n2            21741.0              13933.0               1.0           90.0   \n3            28098.0               6800.0               2.0           84.0   \n4            31856.0               8098.0               2.0          112.0   \n5                NaN                  NaN               NaN            NaN   \n6            52996.0              19143.0               0.0            NaN   \n7            23982.0              11634.0               0.0            NaN   \n8                NaN                  NaN               NaN            NaN   \n9            50898.0              15008.0               0.0            NaN   \n10           38357.0              13878.0               1.0          310.0   \n11           48252.0              51677.0               0.0            NaN   \n12               NaN                  NaN               NaN            NaN   \n13           37868.0              33058.0               1.0          294.0   \n14           20782.0              30759.0               0.0            NaN   \n15           12900.0              14259.0               1.0          590.0   \n16           22108.0              10698.0               3.0          420.0   \n17           33564.0              14616.0               0.0            NaN   \n18           44060.0              10842.0               1.0          759.0   \n19           38900.0              12843.0               0.0            NaN   \n20           53134.0              19311.0               0.0            NaN   \n21           36064.0               9722.0               1.0          248.0   \n22               NaN                  NaN               NaN            NaN   \n23           15414.0              14211.0               2.0          517.0   \n24           20052.0               2336.0               3.0          411.0   \n25           34967.0              14640.0               0.0            NaN   \n26           11580.0              10510.0               0.0            NaN   \n27           29197.0              11456.0               2.0          452.0   \n28           18557.0              30710.0               0.0            NaN   \n29           30394.0              11526.0               1.0          532.0   \n30               NaN                  NaN               NaN            NaN   \n31           32888.0              12944.0               0.0            NaN   \n32           11349.0              12889.0               0.0            NaN   \n33           26535.0              32321.0               0.0            NaN   \n34           13943.0              12739.0               0.0            NaN   \n35           23670.0               3502.0               0.0            NaN   \n36           49574.0              16461.0               1.0          459.0   \n37               NaN                  NaN               NaN            NaN   \n38               NaN                  NaN               NaN            NaN   \n39           13413.0              12209.0               0.0            NaN   \n\n    ponds_around3000  ponds_nearest  days_exposition  \n0                2.0          755.0              NaN  \n1                0.0            NaN             81.0  \n2                2.0          574.0            558.0  \n3                3.0          234.0            424.0  \n4                1.0           48.0            121.0  \n5                NaN            NaN             55.0  \n6                0.0            NaN            155.0  \n7                0.0            NaN              NaN  \n8                NaN            NaN            189.0  \n9                0.0            NaN            289.0  \n10               2.0          553.0            137.0  \n11               0.0            NaN              7.0  \n12               NaN            NaN             90.0  \n13               3.0          298.0            366.0  \n14               1.0           96.0            203.0  \n15               1.0          296.0             19.0  \n16               0.0            NaN            397.0  \n17               1.0          859.0            571.0  \n18               0.0            NaN            168.0  \n19               0.0            NaN             97.0  \n20               0.0            NaN             74.0  \n21               0.0            NaN            310.0  \n22               NaN            NaN             60.0  \n23               1.0          190.0            615.0  \n24               3.0          124.0            265.0  \n25               1.0          564.0            300.0  \n26               1.0           95.0            265.0  \n27               1.0          779.0            151.0  \n28               1.0          118.0             74.0  \n29               1.0          896.0            125.0  \n30               NaN            NaN             63.0  \n31               0.0            NaN            112.0  \n32               1.0          426.0            224.0  \n33               0.0            NaN             92.0  \n34               0.0            NaN             15.0  \n35               1.0          779.0            644.0  \n36               0.0            NaN            139.0  \n37               NaN            NaN            196.0  \n38               NaN            NaN            103.0  \n39               1.0         1175.0             29.0  ",
      "text/html": "<div>\n<style scoped>\n    .dataframe tbody tr th:only-of-type {\n        vertical-align: middle;\n    }\n\n    .dataframe tbody tr th {\n        vertical-align: top;\n    }\n\n    .dataframe thead th {\n        text-align: right;\n    }\n</style>\n<table border=\"1\" class=\"dataframe\">\n  <thead>\n    <tr style=\"text-align: right;\">\n      <th></th>\n      <th>total_images</th>\n      <th>last_price</th>\n      <th>total_area</th>\n      <th>first_day_exposition</th>\n      <th>rooms</th>\n      <th>ceiling_height</th>\n      <th>floors_total</th>\n      <th>living_area</th>\n      <th>floor</th>\n      <th>is_apartment</th>\n      <th>studio</th>\n      <th>open_plan</th>\n      <th>kitchen_area</th>\n      <th>balcony</th>\n      <th>locality_name</th>\n      <th>airports_nearest</th>\n      <th>cityCenters_nearest</th>\n      <th>parks_around3000</th>\n      <th>parks_nearest</th>\n      <th>ponds_around3000</th>\n      <th>ponds_nearest</th>\n      <th>days_exposition</th>\n    </tr>\n  </thead>\n  <tbody>\n    <tr>\n      <th>0</th>\n      <td>20</td>\n      <td>13000000.0</td>\n      <td>108.00</td>\n      <td>2019-03-07T00:00:00</td>\n      <td>3</td>\n      <td>2.70</td>\n      <td>16.0</td>\n      <td>51.00</td>\n      <td>8</td>\n      <td>NaN</td>\n      <td>False</td>\n      <td>False</td>\n      <td>25.00</td>\n      <td>NaN</td>\n      <td>Санкт-Петербург</td>\n      <td>18863.0</td>\n      <td>16028.0</td>\n      <td>1.0</td>\n      <td>482.0</td>\n      <td>2.0</td>\n      <td>755.0</td>\n      <td>NaN</td>\n    </tr>\n    <tr>\n      <th>1</th>\n      <td>7</td>\n      <td>3350000.0</td>\n      <td>40.40</td>\n      <td>2018-12-04T00:00:00</td>\n      <td>1</td>\n      <td>NaN</td>\n      <td>11.0</td>\n      <td>18.60</td>\n      <td>1</td>\n      <td>NaN</td>\n      <td>False</td>\n      <td>False</td>\n      <td>11.00</td>\n      <td>2.0</td>\n      <td>посёлок Шушары</td>\n      <td>12817.0</td>\n      <td>18603.0</td>\n      <td>0.0</td>\n      <td>NaN</td>\n      <td>0.0</td>\n      <td>NaN</td>\n      <td>81.0</td>\n    </tr>\n    <tr>\n      <th>2</th>\n      <td>10</td>\n      <td>5196000.0</td>\n      <td>56.00</td>\n      <td>2015-08-20T00:00:00</td>\n      <td>2</td>\n      <td>NaN</td>\n      <td>5.0</td>\n      <td>34.30</td>\n      <td>4</td>\n      <td>NaN</td>\n      <td>False</td>\n      <td>False</td>\n      <td>8.30</td>\n      <td>0.0</td>\n      <td>Санкт-Петербург</td>\n      <td>21741.0</td>\n      <td>13933.0</td>\n      <td>1.0</td>\n      <td>90.0</td>\n      <td>2.0</td>\n      <td>574.0</td>\n      <td>558.0</td>\n    </tr>\n    <tr>\n      <th>3</th>\n      <td>0</td>\n      <td>64900000.0</td>\n      <td>159.00</td>\n      <td>2015-07-24T00:00:00</td>\n      <td>3</td>\n      <td>NaN</td>\n      <td>14.0</td>\n      <td>NaN</td>\n      <td>9</td>\n      <td>NaN</td>\n      <td>False</td>\n      <td>False</td>\n      <td>NaN</td>\n      <td>0.0</td>\n      <td>Санкт-Петербург</td>\n      <td>28098.0</td>\n      <td>6800.0</td>\n      <td>2.0</td>\n      <td>84.0</td>\n      <td>3.0</td>\n      <td>234.0</td>\n      <td>424.0</td>\n    </tr>\n    <tr>\n      <th>4</th>\n      <td>2</td>\n      <td>10000000.0</td>\n      <td>100.00</td>\n      <td>2018-06-19T00:00:00</td>\n      <td>2</td>\n      <td>3.03</td>\n      <td>14.0</td>\n      <td>32.00</td>\n      <td>13</td>\n      <td>NaN</td>\n      <td>False</td>\n      <td>False</td>\n      <td>41.00</td>\n      <td>NaN</td>\n      <td>Санкт-Петербург</td>\n      <td>31856.0</td>\n      <td>8098.0</td>\n      <td>2.0</td>\n      <td>112.0</td>\n      <td>1.0</td>\n      <td>48.0</td>\n      <td>121.0</td>\n    </tr>\n    <tr>\n      <th>5</th>\n      <td>10</td>\n      <td>2890000.0</td>\n      <td>30.40</td>\n      <td>2018-09-10T00:00:00</td>\n      <td>1</td>\n      <td>NaN</td>\n      <td>12.0</td>\n      <td>14.40</td>\n      <td>5</td>\n      <td>NaN</td>\n      <td>False</td>\n      <td>False</td>\n      <td>9.10</td>\n      <td>NaN</td>\n      <td>городской посёлок Янино-1</td>\n      <td>NaN</td>\n      <td>NaN</td>\n      <td>NaN</td>\n      <td>NaN</td>\n      <td>NaN</td>\n      <td>NaN</td>\n      <td>55.0</td>\n    </tr>\n    <tr>\n      <th>6</th>\n      <td>6</td>\n      <td>3700000.0</td>\n      <td>37.30</td>\n      <td>2017-11-02T00:00:00</td>\n      <td>1</td>\n      <td>NaN</td>\n      <td>26.0</td>\n      <td>10.60</td>\n      <td>6</td>\n      <td>NaN</td>\n      <td>False</td>\n      <td>False</td>\n      <td>14.40</td>\n      <td>1.0</td>\n      <td>посёлок Парголово</td>\n      <td>52996.0</td>\n      <td>19143.0</td>\n      <td>0.0</td>\n      <td>NaN</td>\n      <td>0.0</td>\n      <td>NaN</td>\n      <td>155.0</td>\n    </tr>\n    <tr>\n      <th>7</th>\n      <td>5</td>\n      <td>7915000.0</td>\n      <td>71.60</td>\n      <td>2019-04-18T00:00:00</td>\n      <td>2</td>\n      <td>NaN</td>\n      <td>24.0</td>\n      <td>NaN</td>\n      <td>22</td>\n      <td>NaN</td>\n      <td>False</td>\n      <td>False</td>\n      <td>18.90</td>\n      <td>2.0</td>\n      <td>Санкт-Петербург</td>\n      <td>23982.0</td>\n      <td>11634.0</td>\n      <td>0.0</td>\n      <td>NaN</td>\n      <td>0.0</td>\n      <td>NaN</td>\n      <td>NaN</td>\n    </tr>\n    <tr>\n      <th>8</th>\n      <td>20</td>\n      <td>2900000.0</td>\n      <td>33.16</td>\n      <td>2018-05-23T00:00:00</td>\n      <td>1</td>\n      <td>NaN</td>\n      <td>27.0</td>\n      <td>15.43</td>\n      <td>26</td>\n      <td>NaN</td>\n      <td>False</td>\n      <td>False</td>\n      <td>8.81</td>\n      <td>NaN</td>\n      <td>посёлок Мурино</td>\n      <td>NaN</td>\n      <td>NaN</td>\n      <td>NaN</td>\n      <td>NaN</td>\n      <td>NaN</td>\n      <td>NaN</td>\n      <td>189.0</td>\n    </tr>\n    <tr>\n      <th>9</th>\n      <td>18</td>\n      <td>5400000.0</td>\n      <td>61.00</td>\n      <td>2017-02-26T00:00:00</td>\n      <td>3</td>\n      <td>2.50</td>\n      <td>9.0</td>\n      <td>43.60</td>\n      <td>7</td>\n      <td>NaN</td>\n      <td>False</td>\n      <td>False</td>\n      <td>6.50</td>\n      <td>2.0</td>\n      <td>Санкт-Петербург</td>\n      <td>50898.0</td>\n      <td>15008.0</td>\n      <td>0.0</td>\n      <td>NaN</td>\n      <td>0.0</td>\n      <td>NaN</td>\n      <td>289.0</td>\n    </tr>\n    <tr>\n      <th>10</th>\n      <td>5</td>\n      <td>5050000.0</td>\n      <td>39.60</td>\n      <td>2017-11-16T00:00:00</td>\n      <td>1</td>\n      <td>2.67</td>\n      <td>12.0</td>\n      <td>20.30</td>\n      <td>3</td>\n      <td>NaN</td>\n      <td>False</td>\n      <td>False</td>\n      <td>8.50</td>\n      <td>NaN</td>\n      <td>Санкт-Петербург</td>\n      <td>38357.0</td>\n      <td>13878.0</td>\n      <td>1.0</td>\n      <td>310.0</td>\n      <td>2.0</td>\n      <td>553.0</td>\n      <td>137.0</td>\n    </tr>\n    <tr>\n      <th>11</th>\n      <td>9</td>\n      <td>3300000.0</td>\n      <td>44.00</td>\n      <td>2018-08-27T00:00:00</td>\n      <td>2</td>\n      <td>NaN</td>\n      <td>5.0</td>\n      <td>31.00</td>\n      <td>4</td>\n      <td>False</td>\n      <td>False</td>\n      <td>False</td>\n      <td>6.00</td>\n      <td>1.0</td>\n      <td>Ломоносов</td>\n      <td>48252.0</td>\n      <td>51677.0</td>\n      <td>0.0</td>\n      <td>NaN</td>\n      <td>0.0</td>\n      <td>NaN</td>\n      <td>7.0</td>\n    </tr>\n    <tr>\n      <th>12</th>\n      <td>10</td>\n      <td>3890000.0</td>\n      <td>54.00</td>\n      <td>2016-06-30T00:00:00</td>\n      <td>2</td>\n      <td>NaN</td>\n      <td>5.0</td>\n      <td>30.00</td>\n      <td>5</td>\n      <td>NaN</td>\n      <td>False</td>\n      <td>False</td>\n      <td>9.00</td>\n      <td>0.0</td>\n      <td>Сертолово</td>\n      <td>NaN</td>\n      <td>NaN</td>\n      <td>NaN</td>\n      <td>NaN</td>\n      <td>NaN</td>\n      <td>NaN</td>\n      <td>90.0</td>\n    </tr>\n    <tr>\n      <th>13</th>\n      <td>20</td>\n      <td>3550000.0</td>\n      <td>42.80</td>\n      <td>2017-07-01T00:00:00</td>\n      <td>2</td>\n      <td>2.56</td>\n      <td>5.0</td>\n      <td>27.00</td>\n      <td>5</td>\n      <td>NaN</td>\n      <td>False</td>\n      <td>False</td>\n      <td>5.20</td>\n      <td>1.0</td>\n      <td>Петергоф</td>\n      <td>37868.0</td>\n      <td>33058.0</td>\n      <td>1.0</td>\n      <td>294.0</td>\n      <td>3.0</td>\n      <td>298.0</td>\n      <td>366.0</td>\n    </tr>\n    <tr>\n      <th>14</th>\n      <td>1</td>\n      <td>4400000.0</td>\n      <td>36.00</td>\n      <td>2016-06-23T00:00:00</td>\n      <td>1</td>\n      <td>NaN</td>\n      <td>6.0</td>\n      <td>17.00</td>\n      <td>1</td>\n      <td>NaN</td>\n      <td>False</td>\n      <td>False</td>\n      <td>8.00</td>\n      <td>0.0</td>\n      <td>Пушкин</td>\n      <td>20782.0</td>\n      <td>30759.0</td>\n      <td>0.0</td>\n      <td>NaN</td>\n      <td>1.0</td>\n      <td>96.0</td>\n      <td>203.0</td>\n    </tr>\n    <tr>\n      <th>15</th>\n      <td>16</td>\n      <td>4650000.0</td>\n      <td>39.00</td>\n      <td>2017-11-18T00:00:00</td>\n      <td>1</td>\n      <td>NaN</td>\n      <td>14.0</td>\n      <td>20.50</td>\n      <td>5</td>\n      <td>NaN</td>\n      <td>False</td>\n      <td>False</td>\n      <td>7.60</td>\n      <td>1.0</td>\n      <td>Санкт-Петербург</td>\n      <td>12900.0</td>\n      <td>14259.0</td>\n      <td>1.0</td>\n      <td>590.0</td>\n      <td>1.0</td>\n      <td>296.0</td>\n      <td>19.0</td>\n    </tr>\n    <tr>\n      <th>16</th>\n      <td>11</td>\n      <td>6700000.0</td>\n      <td>82.00</td>\n      <td>2017-11-23T00:00:00</td>\n      <td>3</td>\n      <td>3.05</td>\n      <td>5.0</td>\n      <td>55.60</td>\n      <td>1</td>\n      <td>NaN</td>\n      <td>False</td>\n      <td>False</td>\n      <td>9.00</td>\n      <td>NaN</td>\n      <td>Санкт-Петербург</td>\n      <td>22108.0</td>\n      <td>10698.0</td>\n      <td>3.0</td>\n      <td>420.0</td>\n      <td>0.0</td>\n      <td>NaN</td>\n      <td>397.0</td>\n    </tr>\n    <tr>\n      <th>17</th>\n      <td>6</td>\n      <td>4180000.0</td>\n      <td>36.00</td>\n      <td>2016-09-09T00:00:00</td>\n      <td>1</td>\n      <td>NaN</td>\n      <td>17.0</td>\n      <td>16.50</td>\n      <td>7</td>\n      <td>NaN</td>\n      <td>False</td>\n      <td>False</td>\n      <td>11.00</td>\n      <td>1.0</td>\n      <td>Санкт-Петербург</td>\n      <td>33564.0</td>\n      <td>14616.0</td>\n      <td>0.0</td>\n      <td>NaN</td>\n      <td>1.0</td>\n      <td>859.0</td>\n      <td>571.0</td>\n    </tr>\n    <tr>\n      <th>18</th>\n      <td>8</td>\n      <td>3250000.0</td>\n      <td>31.00</td>\n      <td>2017-01-27T00:00:00</td>\n      <td>1</td>\n      <td>2.50</td>\n      <td>5.0</td>\n      <td>19.40</td>\n      <td>2</td>\n      <td>NaN</td>\n      <td>False</td>\n      <td>False</td>\n      <td>5.60</td>\n      <td>1.0</td>\n      <td>Санкт-Петербург</td>\n      <td>44060.0</td>\n      <td>10842.0</td>\n      <td>1.0</td>\n      <td>759.0</td>\n      <td>0.0</td>\n      <td>NaN</td>\n      <td>168.0</td>\n    </tr>\n    <tr>\n      <th>19</th>\n      <td>16</td>\n      <td>14200000.0</td>\n      <td>121.00</td>\n      <td>2019-01-09T00:00:00</td>\n      <td>3</td>\n      <td>2.75</td>\n      <td>16.0</td>\n      <td>76.00</td>\n      <td>8</td>\n      <td>NaN</td>\n      <td>False</td>\n      <td>False</td>\n      <td>12.00</td>\n      <td>NaN</td>\n      <td>Санкт-Петербург</td>\n      <td>38900.0</td>\n      <td>12843.0</td>\n      <td>0.0</td>\n      <td>NaN</td>\n      <td>0.0</td>\n      <td>NaN</td>\n      <td>97.0</td>\n    </tr>\n    <tr>\n      <th>20</th>\n      <td>12</td>\n      <td>6120000.0</td>\n      <td>80.00</td>\n      <td>2017-09-28T00:00:00</td>\n      <td>3</td>\n      <td>2.70</td>\n      <td>27.0</td>\n      <td>48.00</td>\n      <td>11</td>\n      <td>NaN</td>\n      <td>False</td>\n      <td>False</td>\n      <td>12.00</td>\n      <td>2.0</td>\n      <td>посёлок Парголово</td>\n      <td>53134.0</td>\n      <td>19311.0</td>\n      <td>0.0</td>\n      <td>NaN</td>\n      <td>0.0</td>\n      <td>NaN</td>\n      <td>74.0</td>\n    </tr>\n    <tr>\n      <th>21</th>\n      <td>13</td>\n      <td>3200000.0</td>\n      <td>31.60</td>\n      <td>2018-03-14T00:00:00</td>\n      <td>1</td>\n      <td>NaN</td>\n      <td>5.0</td>\n      <td>16.90</td>\n      <td>2</td>\n      <td>NaN</td>\n      <td>False</td>\n      <td>False</td>\n      <td>5.70</td>\n      <td>1.0</td>\n      <td>Санкт-Петербург</td>\n      <td>36064.0</td>\n      <td>9722.0</td>\n      <td>1.0</td>\n      <td>248.0</td>\n      <td>0.0</td>\n      <td>NaN</td>\n      <td>310.0</td>\n    </tr>\n    <tr>\n      <th>22</th>\n      <td>20</td>\n      <td>5000000.0</td>\n      <td>58.00</td>\n      <td>2017-04-24T00:00:00</td>\n      <td>2</td>\n      <td>2.75</td>\n      <td>25.0</td>\n      <td>30.00</td>\n      <td>15</td>\n      <td>NaN</td>\n      <td>False</td>\n      <td>False</td>\n      <td>11.00</td>\n      <td>2.0</td>\n      <td>деревня Кудрово</td>\n      <td>NaN</td>\n      <td>NaN</td>\n      <td>NaN</td>\n      <td>NaN</td>\n      <td>NaN</td>\n      <td>NaN</td>\n      <td>60.0</td>\n    </tr>\n    <tr>\n      <th>23</th>\n      <td>11</td>\n      <td>2950000.0</td>\n      <td>32.00</td>\n      <td>2016-10-29T00:00:00</td>\n      <td>1</td>\n      <td>2.60</td>\n      <td>9.0</td>\n      <td>17.70</td>\n      <td>9</td>\n      <td>NaN</td>\n      <td>False</td>\n      <td>False</td>\n      <td>6.10</td>\n      <td>NaN</td>\n      <td>Санкт-Петербург</td>\n      <td>15414.0</td>\n      <td>14211.0</td>\n      <td>2.0</td>\n      <td>517.0</td>\n      <td>1.0</td>\n      <td>190.0</td>\n      <td>615.0</td>\n    </tr>\n    <tr>\n      <th>24</th>\n      <td>8</td>\n      <td>6500000.0</td>\n      <td>97.20</td>\n      <td>2015-10-31T00:00:00</td>\n      <td>2</td>\n      <td>NaN</td>\n      <td>3.0</td>\n      <td>46.50</td>\n      <td>1</td>\n      <td>NaN</td>\n      <td>False</td>\n      <td>False</td>\n      <td>19.60</td>\n      <td>0.0</td>\n      <td>Санкт-Петербург</td>\n      <td>20052.0</td>\n      <td>2336.0</td>\n      <td>3.0</td>\n      <td>411.0</td>\n      <td>3.0</td>\n      <td>124.0</td>\n      <td>265.0</td>\n    </tr>\n    <tr>\n      <th>25</th>\n      <td>3</td>\n      <td>6800000.0</td>\n      <td>76.00</td>\n      <td>2015-10-01T00:00:00</td>\n      <td>2</td>\n      <td>2.75</td>\n      <td>23.0</td>\n      <td>39.00</td>\n      <td>18</td>\n      <td>False</td>\n      <td>False</td>\n      <td>False</td>\n      <td>15.00</td>\n      <td>2.0</td>\n      <td>Санкт-Петербург</td>\n      <td>34967.0</td>\n      <td>14640.0</td>\n      <td>0.0</td>\n      <td>NaN</td>\n      <td>1.0</td>\n      <td>564.0</td>\n      <td>300.0</td>\n    </tr>\n    <tr>\n      <th>26</th>\n      <td>6</td>\n      <td>4050000.0</td>\n      <td>60.00</td>\n      <td>2017-04-28T00:00:00</td>\n      <td>4</td>\n      <td>NaN</td>\n      <td>5.0</td>\n      <td>43.00</td>\n      <td>4</td>\n      <td>NaN</td>\n      <td>False</td>\n      <td>False</td>\n      <td>7.00</td>\n      <td>NaN</td>\n      <td>Санкт-Петербург</td>\n      <td>11580.0</td>\n      <td>10510.0</td>\n      <td>0.0</td>\n      <td>NaN</td>\n      <td>1.0</td>\n      <td>95.0</td>\n      <td>265.0</td>\n    </tr>\n    <tr>\n      <th>27</th>\n      <td>20</td>\n      <td>7100000.0</td>\n      <td>70.00</td>\n      <td>2017-05-12T00:00:00</td>\n      <td>3</td>\n      <td>2.60</td>\n      <td>17.0</td>\n      <td>49.00</td>\n      <td>11</td>\n      <td>NaN</td>\n      <td>False</td>\n      <td>False</td>\n      <td>9.20</td>\n      <td>0.0</td>\n      <td>Санкт-Петербург</td>\n      <td>29197.0</td>\n      <td>11456.0</td>\n      <td>2.0</td>\n      <td>452.0</td>\n      <td>1.0</td>\n      <td>779.0</td>\n      <td>151.0</td>\n    </tr>\n    <tr>\n      <th>28</th>\n      <td>8</td>\n      <td>4170000.0</td>\n      <td>44.00</td>\n      <td>2017-12-13T00:00:00</td>\n      <td>1</td>\n      <td>2.90</td>\n      <td>6.0</td>\n      <td>20.80</td>\n      <td>1</td>\n      <td>NaN</td>\n      <td>False</td>\n      <td>False</td>\n      <td>11.70</td>\n      <td>1.0</td>\n      <td>Пушкин</td>\n      <td>18557.0</td>\n      <td>30710.0</td>\n      <td>0.0</td>\n      <td>NaN</td>\n      <td>1.0</td>\n      <td>118.0</td>\n      <td>74.0</td>\n    </tr>\n    <tr>\n      <th>29</th>\n      <td>9</td>\n      <td>8600000.0</td>\n      <td>100.00</td>\n      <td>2016-04-09T00:00:00</td>\n      <td>3</td>\n      <td>NaN</td>\n      <td>19.0</td>\n      <td>52.00</td>\n      <td>15</td>\n      <td>False</td>\n      <td>False</td>\n      <td>False</td>\n      <td>11.00</td>\n      <td>0.0</td>\n      <td>Санкт-Петербург</td>\n      <td>30394.0</td>\n      <td>11526.0</td>\n      <td>1.0</td>\n      <td>532.0</td>\n      <td>1.0</td>\n      <td>896.0</td>\n      <td>125.0</td>\n    </tr>\n    <tr>\n      <th>30</th>\n      <td>12</td>\n      <td>2200000.0</td>\n      <td>32.80</td>\n      <td>2018-02-19T00:00:00</td>\n      <td>1</td>\n      <td>NaN</td>\n      <td>9.0</td>\n      <td>NaN</td>\n      <td>2</td>\n      <td>NaN</td>\n      <td>False</td>\n      <td>False</td>\n      <td>NaN</td>\n      <td>NaN</td>\n      <td>Коммунар</td>\n      <td>NaN</td>\n      <td>NaN</td>\n      <td>NaN</td>\n      <td>NaN</td>\n      <td>NaN</td>\n      <td>NaN</td>\n      <td>63.0</td>\n    </tr>\n    <tr>\n      <th>31</th>\n      <td>8</td>\n      <td>7200000.0</td>\n      <td>67.90</td>\n      <td>2017-10-26T00:00:00</td>\n      <td>2</td>\n      <td>2.80</td>\n      <td>16.0</td>\n      <td>38.10</td>\n      <td>4</td>\n      <td>NaN</td>\n      <td>False</td>\n      <td>False</td>\n      <td>13.40</td>\n      <td>2.0</td>\n      <td>Санкт-Петербург</td>\n      <td>32888.0</td>\n      <td>12944.0</td>\n      <td>0.0</td>\n      <td>NaN</td>\n      <td>0.0</td>\n      <td>NaN</td>\n      <td>112.0</td>\n    </tr>\n    <tr>\n      <th>32</th>\n      <td>7</td>\n      <td>4990000.0</td>\n      <td>60.00</td>\n      <td>2016-05-22T00:00:00</td>\n      <td>3</td>\n      <td>NaN</td>\n      <td>5.0</td>\n      <td>39.00</td>\n      <td>4</td>\n      <td>NaN</td>\n      <td>False</td>\n      <td>False</td>\n      <td>6.00</td>\n      <td>0.0</td>\n      <td>Санкт-Петербург</td>\n      <td>11349.0</td>\n      <td>12889.0</td>\n      <td>0.0</td>\n      <td>NaN</td>\n      <td>1.0</td>\n      <td>426.0</td>\n      <td>224.0</td>\n    </tr>\n    <tr>\n      <th>33</th>\n      <td>8</td>\n      <td>4800000.0</td>\n      <td>73.00</td>\n      <td>2018-10-15T00:00:00</td>\n      <td>4</td>\n      <td>NaN</td>\n      <td>9.0</td>\n      <td>51.60</td>\n      <td>5</td>\n      <td>NaN</td>\n      <td>False</td>\n      <td>False</td>\n      <td>6.50</td>\n      <td>NaN</td>\n      <td>Колпино</td>\n      <td>26535.0</td>\n      <td>32321.0</td>\n      <td>0.0</td>\n      <td>NaN</td>\n      <td>0.0</td>\n      <td>NaN</td>\n      <td>92.0</td>\n    </tr>\n    <tr>\n      <th>34</th>\n      <td>3</td>\n      <td>3290000.0</td>\n      <td>33.00</td>\n      <td>2018-02-04T00:00:00</td>\n      <td>1</td>\n      <td>2.55</td>\n      <td>16.0</td>\n      <td>14.00</td>\n      <td>3</td>\n      <td>NaN</td>\n      <td>False</td>\n      <td>False</td>\n      <td>8.00</td>\n      <td>NaN</td>\n      <td>Санкт-Петербург</td>\n      <td>13943.0</td>\n      <td>12739.0</td>\n      <td>0.0</td>\n      <td>NaN</td>\n      <td>0.0</td>\n      <td>NaN</td>\n      <td>15.0</td>\n    </tr>\n    <tr>\n      <th>35</th>\n      <td>6</td>\n      <td>15500000.0</td>\n      <td>149.00</td>\n      <td>2017-06-26T00:00:00</td>\n      <td>5</td>\n      <td>NaN</td>\n      <td>5.0</td>\n      <td>104.00</td>\n      <td>4</td>\n      <td>NaN</td>\n      <td>False</td>\n      <td>False</td>\n      <td>17.00</td>\n      <td>NaN</td>\n      <td>Санкт-Петербург</td>\n      <td>23670.0</td>\n      <td>3502.0</td>\n      <td>0.0</td>\n      <td>NaN</td>\n      <td>1.0</td>\n      <td>779.0</td>\n      <td>644.0</td>\n    </tr>\n    <tr>\n      <th>36</th>\n      <td>13</td>\n      <td>3790000.0</td>\n      <td>45.00</td>\n      <td>2017-01-25T00:00:00</td>\n      <td>2</td>\n      <td>NaN</td>\n      <td>9.0</td>\n      <td>27.00</td>\n      <td>9</td>\n      <td>False</td>\n      <td>False</td>\n      <td>False</td>\n      <td>6.30</td>\n      <td>2.0</td>\n      <td>Санкт-Петербург</td>\n      <td>49574.0</td>\n      <td>16461.0</td>\n      <td>1.0</td>\n      <td>459.0</td>\n      <td>0.0</td>\n      <td>NaN</td>\n      <td>139.0</td>\n    </tr>\n    <tr>\n      <th>37</th>\n      <td>10</td>\n      <td>1990000.0</td>\n      <td>45.80</td>\n      <td>2017-10-28T00:00:00</td>\n      <td>2</td>\n      <td>2.50</td>\n      <td>5.0</td>\n      <td>NaN</td>\n      <td>1</td>\n      <td>NaN</td>\n      <td>False</td>\n      <td>False</td>\n      <td>NaN</td>\n      <td>NaN</td>\n      <td>поселок городского типа Красный Бор</td>\n      <td>NaN</td>\n      <td>NaN</td>\n      <td>NaN</td>\n      <td>NaN</td>\n      <td>NaN</td>\n      <td>NaN</td>\n      <td>196.0</td>\n    </tr>\n    <tr>\n      <th>38</th>\n      <td>10</td>\n      <td>3150000.0</td>\n      <td>40.00</td>\n      <td>2018-03-29T00:00:00</td>\n      <td>1</td>\n      <td>2.75</td>\n      <td>18.0</td>\n      <td>16.30</td>\n      <td>9</td>\n      <td>NaN</td>\n      <td>False</td>\n      <td>False</td>\n      <td>11.60</td>\n      <td>NaN</td>\n      <td>посёлок Мурино</td>\n      <td>NaN</td>\n      <td>NaN</td>\n      <td>NaN</td>\n      <td>NaN</td>\n      <td>NaN</td>\n      <td>NaN</td>\n      <td>103.0</td>\n    </tr>\n    <tr>\n      <th>39</th>\n      <td>15</td>\n      <td>5200000.0</td>\n      <td>54.40</td>\n      <td>2018-11-29T00:00:00</td>\n      <td>2</td>\n      <td>2.75</td>\n      <td>9.0</td>\n      <td>29.70</td>\n      <td>2</td>\n      <td>NaN</td>\n      <td>False</td>\n      <td>False</td>\n      <td>8.80</td>\n      <td>2.0</td>\n      <td>Санкт-Петербург</td>\n      <td>13413.0</td>\n      <td>12209.0</td>\n      <td>0.0</td>\n      <td>NaN</td>\n      <td>1.0</td>\n      <td>1175.0</td>\n      <td>29.0</td>\n    </tr>\n  </tbody>\n</table>\n</div>"
     },
     "metadata": {},
     "output_type": "display_data"
    },
    {
     "name": "stdout",
     "output_type": "stream",
     "text": [
      "<class 'pandas.core.frame.DataFrame'>\n",
      "RangeIndex: 23699 entries, 0 to 23698\n",
      "Data columns (total 22 columns):\n",
      " #   Column                Non-Null Count  Dtype  \n",
      "---  ------                --------------  -----  \n",
      " 0   total_images          23699 non-null  int64  \n",
      " 1   last_price            23699 non-null  float64\n",
      " 2   total_area            23699 non-null  float64\n",
      " 3   first_day_exposition  23699 non-null  object \n",
      " 4   rooms                 23699 non-null  int64  \n",
      " 5   ceiling_height        14504 non-null  float64\n",
      " 6   floors_total          23613 non-null  float64\n",
      " 7   living_area           21796 non-null  float64\n",
      " 8   floor                 23699 non-null  int64  \n",
      " 9   is_apartment          2775 non-null   object \n",
      " 10  studio                23699 non-null  bool   \n",
      " 11  open_plan             23699 non-null  bool   \n",
      " 12  kitchen_area          21421 non-null  float64\n",
      " 13  balcony               12180 non-null  float64\n",
      " 14  locality_name         23650 non-null  object \n",
      " 15  airports_nearest      18157 non-null  float64\n",
      " 16  cityCenters_nearest   18180 non-null  float64\n",
      " 17  parks_around3000      18181 non-null  float64\n",
      " 18  parks_nearest         8079 non-null   float64\n",
      " 19  ponds_around3000      18181 non-null  float64\n",
      " 20  ponds_nearest         9110 non-null   float64\n",
      " 21  days_exposition       20518 non-null  float64\n",
      "dtypes: bool(2), float64(14), int64(3), object(3)\n",
      "memory usage: 3.7+ MB\n"
     ]
    },
    {
     "data": {
      "text/plain": "None"
     },
     "metadata": {},
     "output_type": "display_data"
    },
    {
     "data": {
      "text/plain": "       total_images    last_price    total_area         rooms  ceiling_height  \\\ncount  23699.000000  2.369900e+04  23699.000000  23699.000000    14504.000000   \nmean       9.858475  6.541549e+06     60.348651      2.070636        2.771499   \nstd        5.682529  1.088701e+07     35.654083      1.078405        1.261056   \nmin        0.000000  1.219000e+04     12.000000      0.000000        1.000000   \n25%        6.000000  3.400000e+06     40.000000      1.000000        2.520000   \n50%        9.000000  4.650000e+06     52.000000      2.000000        2.650000   \n75%       14.000000  6.800000e+06     69.900000      3.000000        2.800000   \nmax       50.000000  7.630000e+08    900.000000     19.000000      100.000000   \n\n       floors_total   living_area         floor  kitchen_area       balcony  \\\ncount  23613.000000  21796.000000  23699.000000  21421.000000  12180.000000   \nmean      10.673824     34.457852      5.892358     10.569807      1.150082   \nstd        6.597173     22.030445      4.885249      5.905438      1.071300   \nmin        1.000000      2.000000      1.000000      1.300000      0.000000   \n25%        5.000000     18.600000      2.000000      7.000000      0.000000   \n50%        9.000000     30.000000      4.000000      9.100000      1.000000   \n75%       16.000000     42.300000      8.000000     12.000000      2.000000   \nmax       60.000000    409.700000     33.000000    112.000000      5.000000   \n\n       airports_nearest  cityCenters_nearest  parks_around3000  parks_nearest  \\\ncount      18157.000000         18180.000000      18181.000000    8079.000000   \nmean       28793.672193         14191.277833          0.611408     490.804555   \nstd        12630.880622          8608.386210          0.802074     342.317995   \nmin            0.000000           181.000000          0.000000       1.000000   \n25%        18585.000000          9238.000000          0.000000     288.000000   \n50%        26726.000000         13098.500000          0.000000     455.000000   \n75%        37273.000000         16293.000000          1.000000     612.000000   \nmax        84869.000000         65968.000000          3.000000    3190.000000   \n\n       ponds_around3000  ponds_nearest  days_exposition  \ncount      18181.000000    9110.000000     20518.000000  \nmean           0.770255     517.980900       180.888634  \nstd            0.938346     277.720643       219.727988  \nmin            0.000000      13.000000         1.000000  \n25%            0.000000     294.000000        45.000000  \n50%            1.000000     502.000000        95.000000  \n75%            1.000000     729.000000       232.000000  \nmax            3.000000    1344.000000      1580.000000  ",
      "text/html": "<div>\n<style scoped>\n    .dataframe tbody tr th:only-of-type {\n        vertical-align: middle;\n    }\n\n    .dataframe tbody tr th {\n        vertical-align: top;\n    }\n\n    .dataframe thead th {\n        text-align: right;\n    }\n</style>\n<table border=\"1\" class=\"dataframe\">\n  <thead>\n    <tr style=\"text-align: right;\">\n      <th></th>\n      <th>total_images</th>\n      <th>last_price</th>\n      <th>total_area</th>\n      <th>rooms</th>\n      <th>ceiling_height</th>\n      <th>floors_total</th>\n      <th>living_area</th>\n      <th>floor</th>\n      <th>kitchen_area</th>\n      <th>balcony</th>\n      <th>airports_nearest</th>\n      <th>cityCenters_nearest</th>\n      <th>parks_around3000</th>\n      <th>parks_nearest</th>\n      <th>ponds_around3000</th>\n      <th>ponds_nearest</th>\n      <th>days_exposition</th>\n    </tr>\n  </thead>\n  <tbody>\n    <tr>\n      <th>count</th>\n      <td>23699.000000</td>\n      <td>2.369900e+04</td>\n      <td>23699.000000</td>\n      <td>23699.000000</td>\n      <td>14504.000000</td>\n      <td>23613.000000</td>\n      <td>21796.000000</td>\n      <td>23699.000000</td>\n      <td>21421.000000</td>\n      <td>12180.000000</td>\n      <td>18157.000000</td>\n      <td>18180.000000</td>\n      <td>18181.000000</td>\n      <td>8079.000000</td>\n      <td>18181.000000</td>\n      <td>9110.000000</td>\n      <td>20518.000000</td>\n    </tr>\n    <tr>\n      <th>mean</th>\n      <td>9.858475</td>\n      <td>6.541549e+06</td>\n      <td>60.348651</td>\n      <td>2.070636</td>\n      <td>2.771499</td>\n      <td>10.673824</td>\n      <td>34.457852</td>\n      <td>5.892358</td>\n      <td>10.569807</td>\n      <td>1.150082</td>\n      <td>28793.672193</td>\n      <td>14191.277833</td>\n      <td>0.611408</td>\n      <td>490.804555</td>\n      <td>0.770255</td>\n      <td>517.980900</td>\n      <td>180.888634</td>\n    </tr>\n    <tr>\n      <th>std</th>\n      <td>5.682529</td>\n      <td>1.088701e+07</td>\n      <td>35.654083</td>\n      <td>1.078405</td>\n      <td>1.261056</td>\n      <td>6.597173</td>\n      <td>22.030445</td>\n      <td>4.885249</td>\n      <td>5.905438</td>\n      <td>1.071300</td>\n      <td>12630.880622</td>\n      <td>8608.386210</td>\n      <td>0.802074</td>\n      <td>342.317995</td>\n      <td>0.938346</td>\n      <td>277.720643</td>\n      <td>219.727988</td>\n    </tr>\n    <tr>\n      <th>min</th>\n      <td>0.000000</td>\n      <td>1.219000e+04</td>\n      <td>12.000000</td>\n      <td>0.000000</td>\n      <td>1.000000</td>\n      <td>1.000000</td>\n      <td>2.000000</td>\n      <td>1.000000</td>\n      <td>1.300000</td>\n      <td>0.000000</td>\n      <td>0.000000</td>\n      <td>181.000000</td>\n      <td>0.000000</td>\n      <td>1.000000</td>\n      <td>0.000000</td>\n      <td>13.000000</td>\n      <td>1.000000</td>\n    </tr>\n    <tr>\n      <th>25%</th>\n      <td>6.000000</td>\n      <td>3.400000e+06</td>\n      <td>40.000000</td>\n      <td>1.000000</td>\n      <td>2.520000</td>\n      <td>5.000000</td>\n      <td>18.600000</td>\n      <td>2.000000</td>\n      <td>7.000000</td>\n      <td>0.000000</td>\n      <td>18585.000000</td>\n      <td>9238.000000</td>\n      <td>0.000000</td>\n      <td>288.000000</td>\n      <td>0.000000</td>\n      <td>294.000000</td>\n      <td>45.000000</td>\n    </tr>\n    <tr>\n      <th>50%</th>\n      <td>9.000000</td>\n      <td>4.650000e+06</td>\n      <td>52.000000</td>\n      <td>2.000000</td>\n      <td>2.650000</td>\n      <td>9.000000</td>\n      <td>30.000000</td>\n      <td>4.000000</td>\n      <td>9.100000</td>\n      <td>1.000000</td>\n      <td>26726.000000</td>\n      <td>13098.500000</td>\n      <td>0.000000</td>\n      <td>455.000000</td>\n      <td>1.000000</td>\n      <td>502.000000</td>\n      <td>95.000000</td>\n    </tr>\n    <tr>\n      <th>75%</th>\n      <td>14.000000</td>\n      <td>6.800000e+06</td>\n      <td>69.900000</td>\n      <td>3.000000</td>\n      <td>2.800000</td>\n      <td>16.000000</td>\n      <td>42.300000</td>\n      <td>8.000000</td>\n      <td>12.000000</td>\n      <td>2.000000</td>\n      <td>37273.000000</td>\n      <td>16293.000000</td>\n      <td>1.000000</td>\n      <td>612.000000</td>\n      <td>1.000000</td>\n      <td>729.000000</td>\n      <td>232.000000</td>\n    </tr>\n    <tr>\n      <th>max</th>\n      <td>50.000000</td>\n      <td>7.630000e+08</td>\n      <td>900.000000</td>\n      <td>19.000000</td>\n      <td>100.000000</td>\n      <td>60.000000</td>\n      <td>409.700000</td>\n      <td>33.000000</td>\n      <td>112.000000</td>\n      <td>5.000000</td>\n      <td>84869.000000</td>\n      <td>65968.000000</td>\n      <td>3.000000</td>\n      <td>3190.000000</td>\n      <td>3.000000</td>\n      <td>1344.000000</td>\n      <td>1580.000000</td>\n    </tr>\n  </tbody>\n</table>\n</div>"
     },
     "metadata": {},
     "output_type": "display_data"
    }
   ],
   "source": [
    "# загрузим наши данные\n",
    "data = pd.read_csv('../data/real_estate_data.csv', sep='\\t')\n",
    "\n",
    "# посмотрим информацию о колонках\n",
    "display(data.head(40))\n",
    "display(data.info())\n",
    "display(data.describe())"
   ],
   "metadata": {
    "collapsed": false,
    "pycharm": {
     "name": "#%%\n"
    }
   }
  },
  {
   "cell_type": "markdown",
   "source": [
    "Мы видим что у нас есть пропуски в следующих колонках:\n",
    "- ceiling_height\n",
    "- floors_total\n",
    "- living_area\n",
    "- is_apartment\n",
    "- kitchen_area\n",
    "- balcony\n",
    "- locality_name\n",
    "- airports_nearest\n",
    "\n",
    "В пропусках прослеживаются некоторые зависимости, такие как:\n",
    "1. В столбцах airports_nearest и cityCenters_nearest имеется прямая зависимость между пропусками данных\n",
    "2. В столбцах parks_around3000 и parks_nearest также имеется прямая зависимость между пропусками данных, также если в столбце parks_around3000 значение равное 0, то в parks_nearest присутствует пропуск\n",
    "3. Аналогичная зависимость как в п.2 между столбцами ponds_around3000 и ponds_nearest\n",
    "4. Пропуски в столбце balcony скорее всего указывают на его отсутствие, их можно заполнить нулями\n",
    "\n",
    "Займемся заполнением пропусков\n"
   ],
   "metadata": {
    "collapsed": false
   }
  },
  {
   "cell_type": "code",
   "execution_count": 59,
   "outputs": [
    {
     "data": {
      "text/plain": "'Пропусков в колонке airports_nearest: 5542'"
     },
     "metadata": {},
     "output_type": "display_data"
    },
    {
     "data": {
      "text/plain": "'Пропусков в колонке cityCenters_nearest: 5518'"
     },
     "metadata": {},
     "output_type": "display_data"
    }
   ],
   "source": [
    "# проверим, что если в airports_nearest пропуск, то и в cityCenters_nearest тоже\n",
    "display(f\"Пропусков в колонке airports_nearest: {len(data.query('airports_nearest.isna()'))}\")\n",
    "display(f\"Пропусков в колонке cityCenters_nearest: {len(data.query('airports_nearest.isna() and cityCenters_nearest.isna()'))}\")"
   ],
   "metadata": {
    "collapsed": false,
    "pycharm": {
     "name": "#%%\n"
    }
   }
  },
  {
   "cell_type": "markdown",
   "source": [
    "Пропуски почти совпадают. Только в 24 записях с пропуском в колонке airports_nearest присутствуют данные в колонке cityCenters_nearest. Зависимость определенно есть, в каких-то случаях пропуски все же заполняются. Стоит передать эту информацию коллегам, собравшим датасет.\n",
    "\n",
    "Пропуски в airports_nearest можно заполнить средним или медианным значением дальности от аэропорта по каждому городу, но в больших городах, таких как СпБ, удаленность квартиры от аэропорта может измеряться десятками километров, а это может влиять на стоимость квартиры, мы пока не знаем. Для маленьких же городов это было бы корректно, т.к. можем считать, что все квартиры в пределах маленького города примерно равноудалены от аэропортов.\n",
    "\n",
    "Посчитаем среднюю и медианную удаленность квартир в разных городах, исключив СпБ"
   ],
   "metadata": {
    "collapsed": false
   }
  },
  {
   "cell_type": "code",
   "execution_count": 93,
   "outputs": [
    {
     "data": {
      "text/plain": "                      mean  median\nlocality_name                     \nБокситогорск           NaN     NaN\nВолосово               NaN     NaN\nВолхов                 NaN     NaN\nВсеволожск             NaN     NaN\nВыборг                 NaN     NaN\n...                    ...     ...\nсело Путилово          NaN     NaN\nсело Рождествено       NaN     NaN\nсело Русско-Высоцкое   NaN     NaN\nсело Старая Ладога     NaN     NaN\nсело Шум               NaN     NaN\n\n[363 rows x 2 columns]",
      "text/html": "<div>\n<style scoped>\n    .dataframe tbody tr th:only-of-type {\n        vertical-align: middle;\n    }\n\n    .dataframe tbody tr th {\n        vertical-align: top;\n    }\n\n    .dataframe thead th {\n        text-align: right;\n    }\n</style>\n<table border=\"1\" class=\"dataframe\">\n  <thead>\n    <tr style=\"text-align: right;\">\n      <th></th>\n      <th>mean</th>\n      <th>median</th>\n    </tr>\n    <tr>\n      <th>locality_name</th>\n      <th></th>\n      <th></th>\n    </tr>\n  </thead>\n  <tbody>\n    <tr>\n      <th>Бокситогорск</th>\n      <td>NaN</td>\n      <td>NaN</td>\n    </tr>\n    <tr>\n      <th>Волосово</th>\n      <td>NaN</td>\n      <td>NaN</td>\n    </tr>\n    <tr>\n      <th>Волхов</th>\n      <td>NaN</td>\n      <td>NaN</td>\n    </tr>\n    <tr>\n      <th>Всеволожск</th>\n      <td>NaN</td>\n      <td>NaN</td>\n    </tr>\n    <tr>\n      <th>Выборг</th>\n      <td>NaN</td>\n      <td>NaN</td>\n    </tr>\n    <tr>\n      <th>...</th>\n      <td>...</td>\n      <td>...</td>\n    </tr>\n    <tr>\n      <th>село Путилово</th>\n      <td>NaN</td>\n      <td>NaN</td>\n    </tr>\n    <tr>\n      <th>село Рождествено</th>\n      <td>NaN</td>\n      <td>NaN</td>\n    </tr>\n    <tr>\n      <th>село Русско-Высоцкое</th>\n      <td>NaN</td>\n      <td>NaN</td>\n    </tr>\n    <tr>\n      <th>село Старая Ладога</th>\n      <td>NaN</td>\n      <td>NaN</td>\n    </tr>\n    <tr>\n      <th>село Шум</th>\n      <td>NaN</td>\n      <td>NaN</td>\n    </tr>\n  </tbody>\n</table>\n<p>363 rows × 2 columns</p>\n</div>"
     },
     "execution_count": 93,
     "metadata": {},
     "output_type": "execute_result"
    }
   ],
   "source": [
    "data.query('locality_name != \"Санкт-Петербург\"').groupby('locality_name')['airports_nearest'].agg(['mean', 'median'])"
   ],
   "metadata": {
    "collapsed": false,
    "pycharm": {
     "name": "#%%\n"
    }
   }
  },
  {
   "cell_type": "markdown",
   "source": [
    "Для большинства городов не хватает данных, чтобы посчитать удаленность от аэропорта, потому что по ним совсем нет данных.\n",
    "Медианная и средняя удаленность у остальных не сильно отличаются, предпочтем заполнить пропуски медианной удаленностью квартир от аэропорта."
   ],
   "metadata": {
    "collapsed": false
   }
  },
  {
   "cell_type": "code",
   "execution_count": 94,
   "outputs": [],
   "source": [
    "data['airports_nearest'] = data.query('locality_name != \"Санкт-Петербург\"').groupby('locality_name')['airports_nearest'].transform('median')"
   ],
   "metadata": {
    "collapsed": false,
    "pycharm": {
     "name": "#%%\n"
    }
   }
  },
  {
   "cell_type": "markdown",
   "source": [
    "Для удаленности квартир от центра городов, такой способ не подходит. Поэтому оставим пропуски в столбце cityCenters_nearest как есть.\n",
    "\n",
    "Займемся пропусками в столбцах parks_around3000 и parks_nearest.\n",
    "Ранее мы выдвинули предположение, что в столбцах имеется прямая зависимость между пропусками данных, также если в столбце parks_around3000 значение равное 0, то в parks_nearest присутствует пропуск.\n",
    "Проверим это."
   ],
   "metadata": {
    "collapsed": false
   }
  },
  {
   "cell_type": "code",
   "execution_count": 96,
   "outputs": [
    {
     "data": {
      "text/plain": "'Пропусков в колонке parks_around3000: 5518'"
     },
     "metadata": {},
     "output_type": "display_data"
    },
    {
     "data": {
      "text/plain": "'Пропусков в колонке parks_nearest: 5518'"
     },
     "metadata": {},
     "output_type": "display_data"
    }
   ],
   "source": [
    "display(f\"Пропусков в колонке parks_around3000: {len(data.query('parks_around3000.isna()'))}\")\n",
    "display(f\"Пропусков в колонке parks_nearest: {len(data.query('parks_around3000.isna() and parks_nearest.isna()'))}\")"
   ],
   "metadata": {
    "collapsed": false,
    "pycharm": {
     "name": "#%%\n"
    }
   }
  },
  {
   "cell_type": "markdown",
   "source": [
    "Действительно наблюдаем прямую зависимость между столбцами. Логично будет предположить, что пропуск в столбце parks_around3000 означает отсутствие парков в радиусе 3км, а значит и расстояние до ближайшего определить не удастся.\n",
    "\n",
    "Т.о. заполним пропуски в столбце parks_around3000 значением 0, а в колонке parks_nearest оставим пропуски как есть."
   ],
   "metadata": {
    "collapsed": false
   }
  },
  {
   "cell_type": "code",
   "execution_count": 100,
   "outputs": [
    {
     "data": {
      "text/plain": "'Количество пропусков в столбце parks_around3000: 0'"
     },
     "metadata": {},
     "output_type": "display_data"
    }
   ],
   "source": [
    "data['parks_around3000'].fillna(0, inplace=True)\n",
    "# проверим отсутствие пропусков в колонке parks_around3000\n",
    "display(f\"Количество пропусков в столбце parks_around3000: {len(data.query('parks_around3000.isna()'))}\")"
   ],
   "metadata": {
    "collapsed": false,
    "pycharm": {
     "name": "#%%\n"
    }
   }
  },
  {
   "cell_type": "markdown",
   "source": [
    "Займемся пропусками в колонке is_apartment\n",
    "Предположим, что пропуск в данной колонке, означает, что квартира не является апартаментами, т.о. заполним пропуски значением False"
   ],
   "metadata": {
    "collapsed": false
   }
  },
  {
   "cell_type": "code",
   "execution_count": 102,
   "outputs": [
    {
     "data": {
      "text/plain": "'Количество пропусков в столбце parks_around3000: 0'"
     },
     "metadata": {},
     "output_type": "display_data"
    }
   ],
   "source": [
    "data['is_apartment'].fillna(False, inplace=True)\n",
    "# проверим отсутствие пропусков в колонке is_apartment\n",
    "display(f\"Количество пропусков в столбце is_apartment: {len(data.query('is_apartment.isna()'))}\")"
   ],
   "metadata": {
    "collapsed": false,
    "pycharm": {
     "name": "#%%\n"
    }
   }
  },
  {
   "cell_type": "markdown",
   "source": [
    "Займемся пропусками в колонке ceiling_height\n",
    "Предположим, что высота потолков может зависеть от: is_apartment, open_plan или studio\n",
    "Проверим, есть ли явная зависимость высоты потолков от какого-либо из этих параметров"
   ],
   "metadata": {
    "collapsed": false
   }
  },
  {
   "cell_type": "code",
   "execution_count": 110,
   "outputs": [
    {
     "data": {
      "text/plain": "is_apartment  open_plan  studio\nFalse         False      False     2.65\n                         True      2.70\n              True       False     2.80\nTrue          False      False     3.00\nName: ceiling_height, dtype: float64"
     },
     "execution_count": 110,
     "metadata": {},
     "output_type": "execute_result"
    }
   ],
   "source": [
    "data.groupby(['is_apartment', 'open_plan', 'studio'])['ceiling_height'].agg('median')"
   ],
   "metadata": {
    "collapsed": false,
    "pycharm": {
     "name": "#%%\n"
    }
   }
  },
  {
   "cell_type": "markdown",
   "source": [
    "Действительно от всех трех параметров есть довольно-таки четкая зависимость высоты потолков\n",
    "Заполним пропуски полученной медианой"
   ],
   "metadata": {
    "collapsed": false
   }
  },
  {
   "cell_type": "code",
   "execution_count": 112,
   "outputs": [
    {
     "data": {
      "text/plain": "'Количество пропусков в столбце ceiling_height: 0'"
     },
     "metadata": {},
     "output_type": "display_data"
    }
   ],
   "source": [
    "data['ceiling_height'] = data.groupby(['is_apartment', 'open_plan', 'studio'])['ceiling_height'].transform('median')\n",
    "# проверим отсутствие пропусков в колонке ceiling_height\n",
    "display(f\"Количество пропусков в столбце ceiling_height: {len(data.query('ceiling_height.isna()'))}\")"
   ],
   "metadata": {
    "collapsed": false,
    "pycharm": {
     "name": "#%%\n"
    }
   }
  },
  {
   "cell_type": "markdown",
   "source": [
    "Предположим, что пропуск в колонке balcony означает, что в квартире нет балкона, т.о. заполним пропуски значением 0"
   ],
   "metadata": {
    "collapsed": false
   }
  },
  {
   "cell_type": "code",
   "execution_count": 116,
   "outputs": [
    {
     "data": {
      "text/plain": "'Количество пропусков в столбце balcony: 0'"
     },
     "metadata": {},
     "output_type": "display_data"
    }
   ],
   "source": [
    "data['balcony'].fillna(0, inplace=True)\n",
    "# проверим отсутствие пропусков в колонке ceiling_height\n",
    "display(f\"Количество пропусков в столбце balcony: {len(data.query('balcony.isna()'))}\")"
   ],
   "metadata": {
    "collapsed": false,
    "pycharm": {
     "name": "#%%\n"
    }
   }
  },
  {
   "cell_type": "code",
   "execution_count": 118,
   "outputs": [
    {
     "data": {
      "text/plain": "    total_images  last_price  total_area first_day_exposition  rooms  \\\n0             20  13000000.0  108.000000  2019-03-07T00:00:00      3   \n1              7   3350000.0   40.406250  2018-12-04T00:00:00      1   \n2             10   5196000.0   56.000000  2015-08-20T00:00:00      2   \n3              0  64900000.0  159.000000  2015-07-24T00:00:00      3   \n4              2  10000000.0  100.000000  2018-06-19T00:00:00      2   \n5             10   2890000.0   30.406250  2018-09-10T00:00:00      1   \n6              6   3700000.0   37.312500  2017-11-02T00:00:00      1   \n7              5   7915000.0   71.625000  2019-04-18T00:00:00      2   \n8             20   2900000.0   33.156250  2018-05-23T00:00:00      1   \n9             18   5400000.0   61.000000  2017-02-26T00:00:00      3   \n10             5   5050000.0   39.593750  2017-11-16T00:00:00      1   \n11             9   3300000.0   44.000000  2018-08-27T00:00:00      2   \n12            10   3890000.0   54.000000  2016-06-30T00:00:00      2   \n13            20   3550000.0   42.812500  2017-07-01T00:00:00      2   \n14             1   4400000.0   36.000000  2016-06-23T00:00:00      1   \n15            16   4650000.0   39.000000  2017-11-18T00:00:00      1   \n16            11   6700000.0   82.000000  2017-11-23T00:00:00      3   \n17             6   4180000.0   36.000000  2016-09-09T00:00:00      1   \n18             8   3250000.0   31.000000  2017-01-27T00:00:00      1   \n19            16  14200000.0  121.000000  2019-01-09T00:00:00      3   \n20            12   6120000.0   80.000000  2017-09-28T00:00:00      3   \n21            13   3200000.0   31.593750  2018-03-14T00:00:00      1   \n22            20   5000000.0   58.000000  2017-04-24T00:00:00      2   \n23            11   2950000.0   32.000000  2016-10-29T00:00:00      1   \n24             8   6500000.0   97.187500  2015-10-31T00:00:00      2   \n25             3   6800000.0   76.000000  2015-10-01T00:00:00      2   \n26             6   4050000.0   60.000000  2017-04-28T00:00:00      4   \n27            20   7100000.0   70.000000  2017-05-12T00:00:00      3   \n28             8   4170000.0   44.000000  2017-12-13T00:00:00      1   \n29             9   8600000.0  100.000000  2016-04-09T00:00:00      3   \n30            12   2200000.0   32.812500  2018-02-19T00:00:00      1   \n31             8   7200000.0   67.875000  2017-10-26T00:00:00      2   \n32             7   4990000.0   60.000000  2016-05-22T00:00:00      3   \n33             8   4800000.0   73.000000  2018-10-15T00:00:00      4   \n34             3   3290000.0   33.000000  2018-02-04T00:00:00      1   \n35             6  15500000.0  149.000000  2017-06-26T00:00:00      5   \n36            13   3790000.0   45.000000  2017-01-25T00:00:00      2   \n37            10   1990000.0   45.812500  2017-10-28T00:00:00      2   \n38            10   3150000.0   40.000000  2018-03-29T00:00:00      1   \n39            15   5200000.0   54.406250  2018-11-29T00:00:00      2   \n40             9   3590000.0   36.000000  2017-03-15T00:00:00      1   \n41            16   7900000.0   74.000000  2016-05-04T00:00:00      3   \n42            13  22000000.0  161.750000  2015-07-08T00:00:00      4   \n43            13   9330000.0   48.000000  2017-01-10T00:00:00      2   \n44            13   5350000.0   40.000000  2018-11-18T00:00:00      1   \n45            17   5200000.0   50.593750  2018-12-02T00:00:00      2   \n46            17   6600000.0   52.093750  2019-01-31T00:00:00      2   \n47            17   3600000.0   56.093750  2018-10-18T00:00:00      3   \n48            10   3600000.0   33.843750  2017-10-03T00:00:00      1   \n49             1   3050000.0   30.796875  2018-11-22T00:00:00      1   \n\n    ceiling_height  floors_total  living_area  floor  is_apartment  studio  \\\n0         2.650391          16.0    51.000000      8         False   False   \n1         2.650391          11.0    18.593750      1         False   False   \n2         2.650391           5.0    34.312500      4         False   False   \n3         2.650391          14.0          NaN      9         False   False   \n4         2.650391          14.0    32.000000     13         False   False   \n5         2.650391          12.0    14.398438      5         False   False   \n6         2.650391          26.0    10.601562      6         False   False   \n7         2.650391          24.0          NaN     22         False   False   \n8         2.650391          27.0    15.429688     26         False   False   \n9         2.650391           9.0    43.593750      7         False   False   \n10        2.650391          12.0    20.296875      3         False   False   \n11        2.650391           5.0    31.000000      4         False   False   \n12        2.650391           5.0    30.000000      5         False   False   \n13        2.650391           5.0    27.000000      5         False   False   \n14        2.650391           6.0    17.000000      1         False   False   \n15        2.650391          14.0    20.500000      5         False   False   \n16        2.650391           5.0    55.593750      1         False   False   \n17        2.650391          17.0    16.500000      7         False   False   \n18        2.650391           5.0    19.406250      2         False   False   \n19        2.650391          16.0    76.000000      8         False   False   \n20        2.650391          27.0    48.000000     11         False   False   \n21        2.650391           5.0    16.906250      2         False   False   \n22        2.650391          25.0    30.000000     15         False   False   \n23        2.650391           9.0    17.703125      9         False   False   \n24        2.650391           3.0    46.500000      1         False   False   \n25        2.650391          23.0    39.000000     18         False   False   \n26        2.650391           5.0    43.000000      4         False   False   \n27        2.650391          17.0    49.000000     11         False   False   \n28        2.650391           6.0    20.796875      1         False   False   \n29        2.650391          19.0    52.000000     15         False   False   \n30        2.650391           9.0          NaN      2         False   False   \n31        2.650391          16.0    38.093750      4         False   False   \n32        2.650391           5.0    39.000000      4         False   False   \n33        2.650391           9.0    51.593750      5         False   False   \n34        2.650391          16.0    14.000000      3         False   False   \n35        2.650391           5.0   104.000000      4         False   False   \n36        2.650391           9.0    27.000000      9         False   False   \n37        2.650391           5.0          NaN      1         False   False   \n38        2.650391          18.0    16.296875      9         False   False   \n39        2.650391           9.0    29.703125      2         False   False   \n40        2.650391          26.0    15.000000     22         False   False   \n41        2.650391          14.0    59.000000      8         False   False   \n42        2.650391           4.0    80.875000      2         False   False   \n43        2.650391           4.0    28.000000      4         False   False   \n44        2.650391          22.0          NaN      3         False   False   \n45        2.650391           9.0    30.296875      7         False   False   \n46        2.650391          24.0    29.703125      9         False   False   \n47        2.650391           4.0    42.500000      3         False   False   \n48        2.650391          24.0    15.351562      6         False   False   \n49        2.650391           9.0    18.000000      7         False   False   \n\n    open_plan  kitchen_area  balcony                        locality_name  \\\n0       False     25.000000        0                      Санкт-Петербург   \n1       False     11.000000        2                       посёлок Шушары   \n2       False      8.296875        0                      Санкт-Петербург   \n3       False           NaN        0                      Санкт-Петербург   \n4       False     41.000000        0                      Санкт-Петербург   \n5       False      9.101562        0            городской посёлок Янино-1   \n6       False     14.398438        1                    посёлок Парголово   \n7       False     18.906250        2                      Санкт-Петербург   \n8       False      8.812500        0                       посёлок Мурино   \n9       False      6.500000        2                      Санкт-Петербург   \n10      False      8.500000        0                      Санкт-Петербург   \n11      False      6.000000        1                            Ломоносов   \n12      False      9.000000        0                            Сертолово   \n13      False      5.199219        1                             Петергоф   \n14      False      8.000000        0                               Пушкин   \n15      False      7.601562        1                      Санкт-Петербург   \n16      False      9.000000        0                      Санкт-Петербург   \n17      False     11.000000        1                      Санкт-Петербург   \n18      False      5.601562        1                      Санкт-Петербург   \n19      False     12.000000        0                      Санкт-Петербург   \n20      False     12.000000        2                    посёлок Парголово   \n21      False      5.699219        1                      Санкт-Петербург   \n22      False     11.000000        2                      деревня Кудрово   \n23      False      6.101562        0                      Санкт-Петербург   \n24      False     19.593750        0                      Санкт-Петербург   \n25      False     15.000000        2                      Санкт-Петербург   \n26      False      7.000000        0                      Санкт-Петербург   \n27      False      9.203125        0                      Санкт-Петербург   \n28      False     11.703125        1                               Пушкин   \n29      False     11.000000        0                      Санкт-Петербург   \n30      False           NaN        0                             Коммунар   \n31      False     13.398438        2                      Санкт-Петербург   \n32      False      6.000000        0                      Санкт-Петербург   \n33      False      6.500000        0                              Колпино   \n34      False      8.000000        0                      Санкт-Петербург   \n35      False     17.000000        0                      Санкт-Петербург   \n36      False      6.300781        2                      Санкт-Петербург   \n37      False           NaN        0  поселок городского типа Красный Бор   \n38      False     11.601562        0                       посёлок Мурино   \n39      False      8.796875        2                      Санкт-Петербург   \n40      False     10.000000        2                    посёлок Парголово   \n41      False     12.000000        5                      Санкт-Петербург   \n42      False     17.593750        5                             Петергоф   \n43      False      7.500000        0                      Санкт-Петербург   \n44      False           NaN        1                      Санкт-Петербург   \n45      False      7.000000        0                      Санкт-Петербург   \n46      False      8.296875        2                      Санкт-Петербург   \n47      False      5.699219        1                              Гатчина   \n48      False      9.500000        0                      Санкт-Петербург   \n49      False      6.000000        0                      Санкт-Петербург   \n\n    airports_nearest  cityCenters_nearest  parks_around3000  parks_nearest  \\\n0                NaN              16028.0               1.0          482.0   \n1            17427.0              18603.0               0.0            NaN   \n2                NaN              13933.0               1.0           90.0   \n3                NaN               6800.0               2.0           84.0   \n4                NaN               8098.0               2.0          112.0   \n5                NaN                  NaN               0.0            NaN   \n6            53426.0              19143.0               0.0            NaN   \n7                NaN              11634.0               0.0            NaN   \n8                NaN                  NaN               0.0            NaN   \n9                NaN              15008.0               0.0            NaN   \n10               NaN              13878.0               1.0          310.0   \n11           48415.5              51677.0               0.0            NaN   \n12               NaN                  NaN               0.0            NaN   \n13           39231.0              33058.0               1.0          294.0   \n14           15766.0              30759.0               0.0            NaN   \n15               NaN              14259.0               1.0          590.0   \n16               NaN              10698.0               3.0          420.0   \n17               NaN              14616.0               0.0            NaN   \n18               NaN              10842.0               1.0          759.0   \n19               NaN              12843.0               0.0            NaN   \n20           53426.0              19311.0               0.0            NaN   \n21               NaN               9722.0               1.0          248.0   \n22               NaN                  NaN               0.0            NaN   \n23               NaN              14211.0               2.0          517.0   \n24               NaN               2336.0               3.0          411.0   \n25               NaN              14640.0               0.0            NaN   \n26               NaN              10510.0               0.0            NaN   \n27               NaN              11456.0               2.0          452.0   \n28           15766.0              30710.0               0.0            NaN   \n29               NaN              11526.0               1.0          532.0   \n30               NaN                  NaN               0.0            NaN   \n31               NaN              12944.0               0.0            NaN   \n32               NaN              12889.0               0.0            NaN   \n33           26232.0              32321.0               0.0            NaN   \n34               NaN              12739.0               0.0            NaN   \n35               NaN               3502.0               0.0            NaN   \n36               NaN              16461.0               1.0          459.0   \n37               NaN                  NaN               0.0            NaN   \n38               NaN                  NaN               0.0            NaN   \n39               NaN              12209.0               0.0            NaN   \n40           53426.0              19143.0               0.0            NaN   \n41               NaN              12612.0               1.0          725.0   \n42           39231.0              30605.0               2.0           47.0   \n43               NaN              10822.0               0.0            NaN   \n44               NaN              11603.0               1.0          620.0   \n45               NaN              12872.0               0.0            NaN   \n46               NaN              12702.0               0.0            NaN   \n47               NaN                  NaN               0.0            NaN   \n48               NaN              16788.0               0.0            NaN   \n49               NaN              16603.0               1.0          675.0   \n\n    ponds_around3000  ponds_nearest  days_exposition  \n0                2.0          755.0              NaN  \n1                0.0            NaN             81.0  \n2                2.0          574.0            558.0  \n3                3.0          234.0            424.0  \n4                1.0           48.0            121.0  \n5                NaN            NaN             55.0  \n6                0.0            NaN            155.0  \n7                0.0            NaN              NaN  \n8                NaN            NaN            189.0  \n9                0.0            NaN            289.0  \n10               2.0          553.0            137.0  \n11               0.0            NaN              7.0  \n12               NaN            NaN             90.0  \n13               3.0          298.0            366.0  \n14               1.0           96.0            203.0  \n15               1.0          296.0             19.0  \n16               0.0            NaN            397.0  \n17               1.0          859.0            571.0  \n18               0.0            NaN            168.0  \n19               0.0            NaN             97.0  \n20               0.0            NaN             74.0  \n21               0.0            NaN            310.0  \n22               NaN            NaN             60.0  \n23               1.0          190.0            615.0  \n24               3.0          124.0            265.0  \n25               1.0          564.0            300.0  \n26               1.0           95.0            265.0  \n27               1.0          779.0            151.0  \n28               1.0          118.0             74.0  \n29               1.0          896.0            125.0  \n30               NaN            NaN             63.0  \n31               0.0            NaN            112.0  \n32               1.0          426.0            224.0  \n33               0.0            NaN             92.0  \n34               0.0            NaN             15.0  \n35               1.0          779.0            644.0  \n36               0.0            NaN            139.0  \n37               NaN            NaN            196.0  \n38               NaN            NaN            103.0  \n39               1.0         1175.0             29.0  \n40               0.0            NaN            430.0  \n41               1.0          759.0            179.0  \n42               1.0          907.0            987.0  \n43               1.0          492.0            763.0  \n44               1.0         1152.0              NaN  \n45               0.0            NaN              NaN  \n46               0.0            NaN              NaN  \n47               NaN            NaN            179.0  \n48               1.0          170.0            322.0  \n49               0.0            NaN              NaN  ",
      "text/html": "<div>\n<style scoped>\n    .dataframe tbody tr th:only-of-type {\n        vertical-align: middle;\n    }\n\n    .dataframe tbody tr th {\n        vertical-align: top;\n    }\n\n    .dataframe thead th {\n        text-align: right;\n    }\n</style>\n<table border=\"1\" class=\"dataframe\">\n  <thead>\n    <tr style=\"text-align: right;\">\n      <th></th>\n      <th>total_images</th>\n      <th>last_price</th>\n      <th>total_area</th>\n      <th>first_day_exposition</th>\n      <th>rooms</th>\n      <th>ceiling_height</th>\n      <th>floors_total</th>\n      <th>living_area</th>\n      <th>floor</th>\n      <th>is_apartment</th>\n      <th>studio</th>\n      <th>open_plan</th>\n      <th>kitchen_area</th>\n      <th>balcony</th>\n      <th>locality_name</th>\n      <th>airports_nearest</th>\n      <th>cityCenters_nearest</th>\n      <th>parks_around3000</th>\n      <th>parks_nearest</th>\n      <th>ponds_around3000</th>\n      <th>ponds_nearest</th>\n      <th>days_exposition</th>\n    </tr>\n  </thead>\n  <tbody>\n    <tr>\n      <th>0</th>\n      <td>20</td>\n      <td>13000000.0</td>\n      <td>108.000000</td>\n      <td>2019-03-07T00:00:00</td>\n      <td>3</td>\n      <td>2.650391</td>\n      <td>16.0</td>\n      <td>51.000000</td>\n      <td>8</td>\n      <td>False</td>\n      <td>False</td>\n      <td>False</td>\n      <td>25.000000</td>\n      <td>0</td>\n      <td>Санкт-Петербург</td>\n      <td>NaN</td>\n      <td>16028.0</td>\n      <td>1.0</td>\n      <td>482.0</td>\n      <td>2.0</td>\n      <td>755.0</td>\n      <td>NaN</td>\n    </tr>\n    <tr>\n      <th>1</th>\n      <td>7</td>\n      <td>3350000.0</td>\n      <td>40.406250</td>\n      <td>2018-12-04T00:00:00</td>\n      <td>1</td>\n      <td>2.650391</td>\n      <td>11.0</td>\n      <td>18.593750</td>\n      <td>1</td>\n      <td>False</td>\n      <td>False</td>\n      <td>False</td>\n      <td>11.000000</td>\n      <td>2</td>\n      <td>посёлок Шушары</td>\n      <td>17427.0</td>\n      <td>18603.0</td>\n      <td>0.0</td>\n      <td>NaN</td>\n      <td>0.0</td>\n      <td>NaN</td>\n      <td>81.0</td>\n    </tr>\n    <tr>\n      <th>2</th>\n      <td>10</td>\n      <td>5196000.0</td>\n      <td>56.000000</td>\n      <td>2015-08-20T00:00:00</td>\n      <td>2</td>\n      <td>2.650391</td>\n      <td>5.0</td>\n      <td>34.312500</td>\n      <td>4</td>\n      <td>False</td>\n      <td>False</td>\n      <td>False</td>\n      <td>8.296875</td>\n      <td>0</td>\n      <td>Санкт-Петербург</td>\n      <td>NaN</td>\n      <td>13933.0</td>\n      <td>1.0</td>\n      <td>90.0</td>\n      <td>2.0</td>\n      <td>574.0</td>\n      <td>558.0</td>\n    </tr>\n    <tr>\n      <th>3</th>\n      <td>0</td>\n      <td>64900000.0</td>\n      <td>159.000000</td>\n      <td>2015-07-24T00:00:00</td>\n      <td>3</td>\n      <td>2.650391</td>\n      <td>14.0</td>\n      <td>NaN</td>\n      <td>9</td>\n      <td>False</td>\n      <td>False</td>\n      <td>False</td>\n      <td>NaN</td>\n      <td>0</td>\n      <td>Санкт-Петербург</td>\n      <td>NaN</td>\n      <td>6800.0</td>\n      <td>2.0</td>\n      <td>84.0</td>\n      <td>3.0</td>\n      <td>234.0</td>\n      <td>424.0</td>\n    </tr>\n    <tr>\n      <th>4</th>\n      <td>2</td>\n      <td>10000000.0</td>\n      <td>100.000000</td>\n      <td>2018-06-19T00:00:00</td>\n      <td>2</td>\n      <td>2.650391</td>\n      <td>14.0</td>\n      <td>32.000000</td>\n      <td>13</td>\n      <td>False</td>\n      <td>False</td>\n      <td>False</td>\n      <td>41.000000</td>\n      <td>0</td>\n      <td>Санкт-Петербург</td>\n      <td>NaN</td>\n      <td>8098.0</td>\n      <td>2.0</td>\n      <td>112.0</td>\n      <td>1.0</td>\n      <td>48.0</td>\n      <td>121.0</td>\n    </tr>\n    <tr>\n      <th>5</th>\n      <td>10</td>\n      <td>2890000.0</td>\n      <td>30.406250</td>\n      <td>2018-09-10T00:00:00</td>\n      <td>1</td>\n      <td>2.650391</td>\n      <td>12.0</td>\n      <td>14.398438</td>\n      <td>5</td>\n      <td>False</td>\n      <td>False</td>\n      <td>False</td>\n      <td>9.101562</td>\n      <td>0</td>\n      <td>городской посёлок Янино-1</td>\n      <td>NaN</td>\n      <td>NaN</td>\n      <td>0.0</td>\n      <td>NaN</td>\n      <td>NaN</td>\n      <td>NaN</td>\n      <td>55.0</td>\n    </tr>\n    <tr>\n      <th>6</th>\n      <td>6</td>\n      <td>3700000.0</td>\n      <td>37.312500</td>\n      <td>2017-11-02T00:00:00</td>\n      <td>1</td>\n      <td>2.650391</td>\n      <td>26.0</td>\n      <td>10.601562</td>\n      <td>6</td>\n      <td>False</td>\n      <td>False</td>\n      <td>False</td>\n      <td>14.398438</td>\n      <td>1</td>\n      <td>посёлок Парголово</td>\n      <td>53426.0</td>\n      <td>19143.0</td>\n      <td>0.0</td>\n      <td>NaN</td>\n      <td>0.0</td>\n      <td>NaN</td>\n      <td>155.0</td>\n    </tr>\n    <tr>\n      <th>7</th>\n      <td>5</td>\n      <td>7915000.0</td>\n      <td>71.625000</td>\n      <td>2019-04-18T00:00:00</td>\n      <td>2</td>\n      <td>2.650391</td>\n      <td>24.0</td>\n      <td>NaN</td>\n      <td>22</td>\n      <td>False</td>\n      <td>False</td>\n      <td>False</td>\n      <td>18.906250</td>\n      <td>2</td>\n      <td>Санкт-Петербург</td>\n      <td>NaN</td>\n      <td>11634.0</td>\n      <td>0.0</td>\n      <td>NaN</td>\n      <td>0.0</td>\n      <td>NaN</td>\n      <td>NaN</td>\n    </tr>\n    <tr>\n      <th>8</th>\n      <td>20</td>\n      <td>2900000.0</td>\n      <td>33.156250</td>\n      <td>2018-05-23T00:00:00</td>\n      <td>1</td>\n      <td>2.650391</td>\n      <td>27.0</td>\n      <td>15.429688</td>\n      <td>26</td>\n      <td>False</td>\n      <td>False</td>\n      <td>False</td>\n      <td>8.812500</td>\n      <td>0</td>\n      <td>посёлок Мурино</td>\n      <td>NaN</td>\n      <td>NaN</td>\n      <td>0.0</td>\n      <td>NaN</td>\n      <td>NaN</td>\n      <td>NaN</td>\n      <td>189.0</td>\n    </tr>\n    <tr>\n      <th>9</th>\n      <td>18</td>\n      <td>5400000.0</td>\n      <td>61.000000</td>\n      <td>2017-02-26T00:00:00</td>\n      <td>3</td>\n      <td>2.650391</td>\n      <td>9.0</td>\n      <td>43.593750</td>\n      <td>7</td>\n      <td>False</td>\n      <td>False</td>\n      <td>False</td>\n      <td>6.500000</td>\n      <td>2</td>\n      <td>Санкт-Петербург</td>\n      <td>NaN</td>\n      <td>15008.0</td>\n      <td>0.0</td>\n      <td>NaN</td>\n      <td>0.0</td>\n      <td>NaN</td>\n      <td>289.0</td>\n    </tr>\n    <tr>\n      <th>10</th>\n      <td>5</td>\n      <td>5050000.0</td>\n      <td>39.593750</td>\n      <td>2017-11-16T00:00:00</td>\n      <td>1</td>\n      <td>2.650391</td>\n      <td>12.0</td>\n      <td>20.296875</td>\n      <td>3</td>\n      <td>False</td>\n      <td>False</td>\n      <td>False</td>\n      <td>8.500000</td>\n      <td>0</td>\n      <td>Санкт-Петербург</td>\n      <td>NaN</td>\n      <td>13878.0</td>\n      <td>1.0</td>\n      <td>310.0</td>\n      <td>2.0</td>\n      <td>553.0</td>\n      <td>137.0</td>\n    </tr>\n    <tr>\n      <th>11</th>\n      <td>9</td>\n      <td>3300000.0</td>\n      <td>44.000000</td>\n      <td>2018-08-27T00:00:00</td>\n      <td>2</td>\n      <td>2.650391</td>\n      <td>5.0</td>\n      <td>31.000000</td>\n      <td>4</td>\n      <td>False</td>\n      <td>False</td>\n      <td>False</td>\n      <td>6.000000</td>\n      <td>1</td>\n      <td>Ломоносов</td>\n      <td>48415.5</td>\n      <td>51677.0</td>\n      <td>0.0</td>\n      <td>NaN</td>\n      <td>0.0</td>\n      <td>NaN</td>\n      <td>7.0</td>\n    </tr>\n    <tr>\n      <th>12</th>\n      <td>10</td>\n      <td>3890000.0</td>\n      <td>54.000000</td>\n      <td>2016-06-30T00:00:00</td>\n      <td>2</td>\n      <td>2.650391</td>\n      <td>5.0</td>\n      <td>30.000000</td>\n      <td>5</td>\n      <td>False</td>\n      <td>False</td>\n      <td>False</td>\n      <td>9.000000</td>\n      <td>0</td>\n      <td>Сертолово</td>\n      <td>NaN</td>\n      <td>NaN</td>\n      <td>0.0</td>\n      <td>NaN</td>\n      <td>NaN</td>\n      <td>NaN</td>\n      <td>90.0</td>\n    </tr>\n    <tr>\n      <th>13</th>\n      <td>20</td>\n      <td>3550000.0</td>\n      <td>42.812500</td>\n      <td>2017-07-01T00:00:00</td>\n      <td>2</td>\n      <td>2.650391</td>\n      <td>5.0</td>\n      <td>27.000000</td>\n      <td>5</td>\n      <td>False</td>\n      <td>False</td>\n      <td>False</td>\n      <td>5.199219</td>\n      <td>1</td>\n      <td>Петергоф</td>\n      <td>39231.0</td>\n      <td>33058.0</td>\n      <td>1.0</td>\n      <td>294.0</td>\n      <td>3.0</td>\n      <td>298.0</td>\n      <td>366.0</td>\n    </tr>\n    <tr>\n      <th>14</th>\n      <td>1</td>\n      <td>4400000.0</td>\n      <td>36.000000</td>\n      <td>2016-06-23T00:00:00</td>\n      <td>1</td>\n      <td>2.650391</td>\n      <td>6.0</td>\n      <td>17.000000</td>\n      <td>1</td>\n      <td>False</td>\n      <td>False</td>\n      <td>False</td>\n      <td>8.000000</td>\n      <td>0</td>\n      <td>Пушкин</td>\n      <td>15766.0</td>\n      <td>30759.0</td>\n      <td>0.0</td>\n      <td>NaN</td>\n      <td>1.0</td>\n      <td>96.0</td>\n      <td>203.0</td>\n    </tr>\n    <tr>\n      <th>15</th>\n      <td>16</td>\n      <td>4650000.0</td>\n      <td>39.000000</td>\n      <td>2017-11-18T00:00:00</td>\n      <td>1</td>\n      <td>2.650391</td>\n      <td>14.0</td>\n      <td>20.500000</td>\n      <td>5</td>\n      <td>False</td>\n      <td>False</td>\n      <td>False</td>\n      <td>7.601562</td>\n      <td>1</td>\n      <td>Санкт-Петербург</td>\n      <td>NaN</td>\n      <td>14259.0</td>\n      <td>1.0</td>\n      <td>590.0</td>\n      <td>1.0</td>\n      <td>296.0</td>\n      <td>19.0</td>\n    </tr>\n    <tr>\n      <th>16</th>\n      <td>11</td>\n      <td>6700000.0</td>\n      <td>82.000000</td>\n      <td>2017-11-23T00:00:00</td>\n      <td>3</td>\n      <td>2.650391</td>\n      <td>5.0</td>\n      <td>55.593750</td>\n      <td>1</td>\n      <td>False</td>\n      <td>False</td>\n      <td>False</td>\n      <td>9.000000</td>\n      <td>0</td>\n      <td>Санкт-Петербург</td>\n      <td>NaN</td>\n      <td>10698.0</td>\n      <td>3.0</td>\n      <td>420.0</td>\n      <td>0.0</td>\n      <td>NaN</td>\n      <td>397.0</td>\n    </tr>\n    <tr>\n      <th>17</th>\n      <td>6</td>\n      <td>4180000.0</td>\n      <td>36.000000</td>\n      <td>2016-09-09T00:00:00</td>\n      <td>1</td>\n      <td>2.650391</td>\n      <td>17.0</td>\n      <td>16.500000</td>\n      <td>7</td>\n      <td>False</td>\n      <td>False</td>\n      <td>False</td>\n      <td>11.000000</td>\n      <td>1</td>\n      <td>Санкт-Петербург</td>\n      <td>NaN</td>\n      <td>14616.0</td>\n      <td>0.0</td>\n      <td>NaN</td>\n      <td>1.0</td>\n      <td>859.0</td>\n      <td>571.0</td>\n    </tr>\n    <tr>\n      <th>18</th>\n      <td>8</td>\n      <td>3250000.0</td>\n      <td>31.000000</td>\n      <td>2017-01-27T00:00:00</td>\n      <td>1</td>\n      <td>2.650391</td>\n      <td>5.0</td>\n      <td>19.406250</td>\n      <td>2</td>\n      <td>False</td>\n      <td>False</td>\n      <td>False</td>\n      <td>5.601562</td>\n      <td>1</td>\n      <td>Санкт-Петербург</td>\n      <td>NaN</td>\n      <td>10842.0</td>\n      <td>1.0</td>\n      <td>759.0</td>\n      <td>0.0</td>\n      <td>NaN</td>\n      <td>168.0</td>\n    </tr>\n    <tr>\n      <th>19</th>\n      <td>16</td>\n      <td>14200000.0</td>\n      <td>121.000000</td>\n      <td>2019-01-09T00:00:00</td>\n      <td>3</td>\n      <td>2.650391</td>\n      <td>16.0</td>\n      <td>76.000000</td>\n      <td>8</td>\n      <td>False</td>\n      <td>False</td>\n      <td>False</td>\n      <td>12.000000</td>\n      <td>0</td>\n      <td>Санкт-Петербург</td>\n      <td>NaN</td>\n      <td>12843.0</td>\n      <td>0.0</td>\n      <td>NaN</td>\n      <td>0.0</td>\n      <td>NaN</td>\n      <td>97.0</td>\n    </tr>\n    <tr>\n      <th>20</th>\n      <td>12</td>\n      <td>6120000.0</td>\n      <td>80.000000</td>\n      <td>2017-09-28T00:00:00</td>\n      <td>3</td>\n      <td>2.650391</td>\n      <td>27.0</td>\n      <td>48.000000</td>\n      <td>11</td>\n      <td>False</td>\n      <td>False</td>\n      <td>False</td>\n      <td>12.000000</td>\n      <td>2</td>\n      <td>посёлок Парголово</td>\n      <td>53426.0</td>\n      <td>19311.0</td>\n      <td>0.0</td>\n      <td>NaN</td>\n      <td>0.0</td>\n      <td>NaN</td>\n      <td>74.0</td>\n    </tr>\n    <tr>\n      <th>21</th>\n      <td>13</td>\n      <td>3200000.0</td>\n      <td>31.593750</td>\n      <td>2018-03-14T00:00:00</td>\n      <td>1</td>\n      <td>2.650391</td>\n      <td>5.0</td>\n      <td>16.906250</td>\n      <td>2</td>\n      <td>False</td>\n      <td>False</td>\n      <td>False</td>\n      <td>5.699219</td>\n      <td>1</td>\n      <td>Санкт-Петербург</td>\n      <td>NaN</td>\n      <td>9722.0</td>\n      <td>1.0</td>\n      <td>248.0</td>\n      <td>0.0</td>\n      <td>NaN</td>\n      <td>310.0</td>\n    </tr>\n    <tr>\n      <th>22</th>\n      <td>20</td>\n      <td>5000000.0</td>\n      <td>58.000000</td>\n      <td>2017-04-24T00:00:00</td>\n      <td>2</td>\n      <td>2.650391</td>\n      <td>25.0</td>\n      <td>30.000000</td>\n      <td>15</td>\n      <td>False</td>\n      <td>False</td>\n      <td>False</td>\n      <td>11.000000</td>\n      <td>2</td>\n      <td>деревня Кудрово</td>\n      <td>NaN</td>\n      <td>NaN</td>\n      <td>0.0</td>\n      <td>NaN</td>\n      <td>NaN</td>\n      <td>NaN</td>\n      <td>60.0</td>\n    </tr>\n    <tr>\n      <th>23</th>\n      <td>11</td>\n      <td>2950000.0</td>\n      <td>32.000000</td>\n      <td>2016-10-29T00:00:00</td>\n      <td>1</td>\n      <td>2.650391</td>\n      <td>9.0</td>\n      <td>17.703125</td>\n      <td>9</td>\n      <td>False</td>\n      <td>False</td>\n      <td>False</td>\n      <td>6.101562</td>\n      <td>0</td>\n      <td>Санкт-Петербург</td>\n      <td>NaN</td>\n      <td>14211.0</td>\n      <td>2.0</td>\n      <td>517.0</td>\n      <td>1.0</td>\n      <td>190.0</td>\n      <td>615.0</td>\n    </tr>\n    <tr>\n      <th>24</th>\n      <td>8</td>\n      <td>6500000.0</td>\n      <td>97.187500</td>\n      <td>2015-10-31T00:00:00</td>\n      <td>2</td>\n      <td>2.650391</td>\n      <td>3.0</td>\n      <td>46.500000</td>\n      <td>1</td>\n      <td>False</td>\n      <td>False</td>\n      <td>False</td>\n      <td>19.593750</td>\n      <td>0</td>\n      <td>Санкт-Петербург</td>\n      <td>NaN</td>\n      <td>2336.0</td>\n      <td>3.0</td>\n      <td>411.0</td>\n      <td>3.0</td>\n      <td>124.0</td>\n      <td>265.0</td>\n    </tr>\n    <tr>\n      <th>25</th>\n      <td>3</td>\n      <td>6800000.0</td>\n      <td>76.000000</td>\n      <td>2015-10-01T00:00:00</td>\n      <td>2</td>\n      <td>2.650391</td>\n      <td>23.0</td>\n      <td>39.000000</td>\n      <td>18</td>\n      <td>False</td>\n      <td>False</td>\n      <td>False</td>\n      <td>15.000000</td>\n      <td>2</td>\n      <td>Санкт-Петербург</td>\n      <td>NaN</td>\n      <td>14640.0</td>\n      <td>0.0</td>\n      <td>NaN</td>\n      <td>1.0</td>\n      <td>564.0</td>\n      <td>300.0</td>\n    </tr>\n    <tr>\n      <th>26</th>\n      <td>6</td>\n      <td>4050000.0</td>\n      <td>60.000000</td>\n      <td>2017-04-28T00:00:00</td>\n      <td>4</td>\n      <td>2.650391</td>\n      <td>5.0</td>\n      <td>43.000000</td>\n      <td>4</td>\n      <td>False</td>\n      <td>False</td>\n      <td>False</td>\n      <td>7.000000</td>\n      <td>0</td>\n      <td>Санкт-Петербург</td>\n      <td>NaN</td>\n      <td>10510.0</td>\n      <td>0.0</td>\n      <td>NaN</td>\n      <td>1.0</td>\n      <td>95.0</td>\n      <td>265.0</td>\n    </tr>\n    <tr>\n      <th>27</th>\n      <td>20</td>\n      <td>7100000.0</td>\n      <td>70.000000</td>\n      <td>2017-05-12T00:00:00</td>\n      <td>3</td>\n      <td>2.650391</td>\n      <td>17.0</td>\n      <td>49.000000</td>\n      <td>11</td>\n      <td>False</td>\n      <td>False</td>\n      <td>False</td>\n      <td>9.203125</td>\n      <td>0</td>\n      <td>Санкт-Петербург</td>\n      <td>NaN</td>\n      <td>11456.0</td>\n      <td>2.0</td>\n      <td>452.0</td>\n      <td>1.0</td>\n      <td>779.0</td>\n      <td>151.0</td>\n    </tr>\n    <tr>\n      <th>28</th>\n      <td>8</td>\n      <td>4170000.0</td>\n      <td>44.000000</td>\n      <td>2017-12-13T00:00:00</td>\n      <td>1</td>\n      <td>2.650391</td>\n      <td>6.0</td>\n      <td>20.796875</td>\n      <td>1</td>\n      <td>False</td>\n      <td>False</td>\n      <td>False</td>\n      <td>11.703125</td>\n      <td>1</td>\n      <td>Пушкин</td>\n      <td>15766.0</td>\n      <td>30710.0</td>\n      <td>0.0</td>\n      <td>NaN</td>\n      <td>1.0</td>\n      <td>118.0</td>\n      <td>74.0</td>\n    </tr>\n    <tr>\n      <th>29</th>\n      <td>9</td>\n      <td>8600000.0</td>\n      <td>100.000000</td>\n      <td>2016-04-09T00:00:00</td>\n      <td>3</td>\n      <td>2.650391</td>\n      <td>19.0</td>\n      <td>52.000000</td>\n      <td>15</td>\n      <td>False</td>\n      <td>False</td>\n      <td>False</td>\n      <td>11.000000</td>\n      <td>0</td>\n      <td>Санкт-Петербург</td>\n      <td>NaN</td>\n      <td>11526.0</td>\n      <td>1.0</td>\n      <td>532.0</td>\n      <td>1.0</td>\n      <td>896.0</td>\n      <td>125.0</td>\n    </tr>\n    <tr>\n      <th>30</th>\n      <td>12</td>\n      <td>2200000.0</td>\n      <td>32.812500</td>\n      <td>2018-02-19T00:00:00</td>\n      <td>1</td>\n      <td>2.650391</td>\n      <td>9.0</td>\n      <td>NaN</td>\n      <td>2</td>\n      <td>False</td>\n      <td>False</td>\n      <td>False</td>\n      <td>NaN</td>\n      <td>0</td>\n      <td>Коммунар</td>\n      <td>NaN</td>\n      <td>NaN</td>\n      <td>0.0</td>\n      <td>NaN</td>\n      <td>NaN</td>\n      <td>NaN</td>\n      <td>63.0</td>\n    </tr>\n    <tr>\n      <th>31</th>\n      <td>8</td>\n      <td>7200000.0</td>\n      <td>67.875000</td>\n      <td>2017-10-26T00:00:00</td>\n      <td>2</td>\n      <td>2.650391</td>\n      <td>16.0</td>\n      <td>38.093750</td>\n      <td>4</td>\n      <td>False</td>\n      <td>False</td>\n      <td>False</td>\n      <td>13.398438</td>\n      <td>2</td>\n      <td>Санкт-Петербург</td>\n      <td>NaN</td>\n      <td>12944.0</td>\n      <td>0.0</td>\n      <td>NaN</td>\n      <td>0.0</td>\n      <td>NaN</td>\n      <td>112.0</td>\n    </tr>\n    <tr>\n      <th>32</th>\n      <td>7</td>\n      <td>4990000.0</td>\n      <td>60.000000</td>\n      <td>2016-05-22T00:00:00</td>\n      <td>3</td>\n      <td>2.650391</td>\n      <td>5.0</td>\n      <td>39.000000</td>\n      <td>4</td>\n      <td>False</td>\n      <td>False</td>\n      <td>False</td>\n      <td>6.000000</td>\n      <td>0</td>\n      <td>Санкт-Петербург</td>\n      <td>NaN</td>\n      <td>12889.0</td>\n      <td>0.0</td>\n      <td>NaN</td>\n      <td>1.0</td>\n      <td>426.0</td>\n      <td>224.0</td>\n    </tr>\n    <tr>\n      <th>33</th>\n      <td>8</td>\n      <td>4800000.0</td>\n      <td>73.000000</td>\n      <td>2018-10-15T00:00:00</td>\n      <td>4</td>\n      <td>2.650391</td>\n      <td>9.0</td>\n      <td>51.593750</td>\n      <td>5</td>\n      <td>False</td>\n      <td>False</td>\n      <td>False</td>\n      <td>6.500000</td>\n      <td>0</td>\n      <td>Колпино</td>\n      <td>26232.0</td>\n      <td>32321.0</td>\n      <td>0.0</td>\n      <td>NaN</td>\n      <td>0.0</td>\n      <td>NaN</td>\n      <td>92.0</td>\n    </tr>\n    <tr>\n      <th>34</th>\n      <td>3</td>\n      <td>3290000.0</td>\n      <td>33.000000</td>\n      <td>2018-02-04T00:00:00</td>\n      <td>1</td>\n      <td>2.650391</td>\n      <td>16.0</td>\n      <td>14.000000</td>\n      <td>3</td>\n      <td>False</td>\n      <td>False</td>\n      <td>False</td>\n      <td>8.000000</td>\n      <td>0</td>\n      <td>Санкт-Петербург</td>\n      <td>NaN</td>\n      <td>12739.0</td>\n      <td>0.0</td>\n      <td>NaN</td>\n      <td>0.0</td>\n      <td>NaN</td>\n      <td>15.0</td>\n    </tr>\n    <tr>\n      <th>35</th>\n      <td>6</td>\n      <td>15500000.0</td>\n      <td>149.000000</td>\n      <td>2017-06-26T00:00:00</td>\n      <td>5</td>\n      <td>2.650391</td>\n      <td>5.0</td>\n      <td>104.000000</td>\n      <td>4</td>\n      <td>False</td>\n      <td>False</td>\n      <td>False</td>\n      <td>17.000000</td>\n      <td>0</td>\n      <td>Санкт-Петербург</td>\n      <td>NaN</td>\n      <td>3502.0</td>\n      <td>0.0</td>\n      <td>NaN</td>\n      <td>1.0</td>\n      <td>779.0</td>\n      <td>644.0</td>\n    </tr>\n    <tr>\n      <th>36</th>\n      <td>13</td>\n      <td>3790000.0</td>\n      <td>45.000000</td>\n      <td>2017-01-25T00:00:00</td>\n      <td>2</td>\n      <td>2.650391</td>\n      <td>9.0</td>\n      <td>27.000000</td>\n      <td>9</td>\n      <td>False</td>\n      <td>False</td>\n      <td>False</td>\n      <td>6.300781</td>\n      <td>2</td>\n      <td>Санкт-Петербург</td>\n      <td>NaN</td>\n      <td>16461.0</td>\n      <td>1.0</td>\n      <td>459.0</td>\n      <td>0.0</td>\n      <td>NaN</td>\n      <td>139.0</td>\n    </tr>\n    <tr>\n      <th>37</th>\n      <td>10</td>\n      <td>1990000.0</td>\n      <td>45.812500</td>\n      <td>2017-10-28T00:00:00</td>\n      <td>2</td>\n      <td>2.650391</td>\n      <td>5.0</td>\n      <td>NaN</td>\n      <td>1</td>\n      <td>False</td>\n      <td>False</td>\n      <td>False</td>\n      <td>NaN</td>\n      <td>0</td>\n      <td>поселок городского типа Красный Бор</td>\n      <td>NaN</td>\n      <td>NaN</td>\n      <td>0.0</td>\n      <td>NaN</td>\n      <td>NaN</td>\n      <td>NaN</td>\n      <td>196.0</td>\n    </tr>\n    <tr>\n      <th>38</th>\n      <td>10</td>\n      <td>3150000.0</td>\n      <td>40.000000</td>\n      <td>2018-03-29T00:00:00</td>\n      <td>1</td>\n      <td>2.650391</td>\n      <td>18.0</td>\n      <td>16.296875</td>\n      <td>9</td>\n      <td>False</td>\n      <td>False</td>\n      <td>False</td>\n      <td>11.601562</td>\n      <td>0</td>\n      <td>посёлок Мурино</td>\n      <td>NaN</td>\n      <td>NaN</td>\n      <td>0.0</td>\n      <td>NaN</td>\n      <td>NaN</td>\n      <td>NaN</td>\n      <td>103.0</td>\n    </tr>\n    <tr>\n      <th>39</th>\n      <td>15</td>\n      <td>5200000.0</td>\n      <td>54.406250</td>\n      <td>2018-11-29T00:00:00</td>\n      <td>2</td>\n      <td>2.650391</td>\n      <td>9.0</td>\n      <td>29.703125</td>\n      <td>2</td>\n      <td>False</td>\n      <td>False</td>\n      <td>False</td>\n      <td>8.796875</td>\n      <td>2</td>\n      <td>Санкт-Петербург</td>\n      <td>NaN</td>\n      <td>12209.0</td>\n      <td>0.0</td>\n      <td>NaN</td>\n      <td>1.0</td>\n      <td>1175.0</td>\n      <td>29.0</td>\n    </tr>\n    <tr>\n      <th>40</th>\n      <td>9</td>\n      <td>3590000.0</td>\n      <td>36.000000</td>\n      <td>2017-03-15T00:00:00</td>\n      <td>1</td>\n      <td>2.650391</td>\n      <td>26.0</td>\n      <td>15.000000</td>\n      <td>22</td>\n      <td>False</td>\n      <td>False</td>\n      <td>False</td>\n      <td>10.000000</td>\n      <td>2</td>\n      <td>посёлок Парголово</td>\n      <td>53426.0</td>\n      <td>19143.0</td>\n      <td>0.0</td>\n      <td>NaN</td>\n      <td>0.0</td>\n      <td>NaN</td>\n      <td>430.0</td>\n    </tr>\n    <tr>\n      <th>41</th>\n      <td>16</td>\n      <td>7900000.0</td>\n      <td>74.000000</td>\n      <td>2016-05-04T00:00:00</td>\n      <td>3</td>\n      <td>2.650391</td>\n      <td>14.0</td>\n      <td>59.000000</td>\n      <td>8</td>\n      <td>False</td>\n      <td>False</td>\n      <td>False</td>\n      <td>12.000000</td>\n      <td>5</td>\n      <td>Санкт-Петербург</td>\n      <td>NaN</td>\n      <td>12612.0</td>\n      <td>1.0</td>\n      <td>725.0</td>\n      <td>1.0</td>\n      <td>759.0</td>\n      <td>179.0</td>\n    </tr>\n    <tr>\n      <th>42</th>\n      <td>13</td>\n      <td>22000000.0</td>\n      <td>161.750000</td>\n      <td>2015-07-08T00:00:00</td>\n      <td>4</td>\n      <td>2.650391</td>\n      <td>4.0</td>\n      <td>80.875000</td>\n      <td>2</td>\n      <td>False</td>\n      <td>False</td>\n      <td>False</td>\n      <td>17.593750</td>\n      <td>5</td>\n      <td>Петергоф</td>\n      <td>39231.0</td>\n      <td>30605.0</td>\n      <td>2.0</td>\n      <td>47.0</td>\n      <td>1.0</td>\n      <td>907.0</td>\n      <td>987.0</td>\n    </tr>\n    <tr>\n      <th>43</th>\n      <td>13</td>\n      <td>9330000.0</td>\n      <td>48.000000</td>\n      <td>2017-01-10T00:00:00</td>\n      <td>2</td>\n      <td>2.650391</td>\n      <td>4.0</td>\n      <td>28.000000</td>\n      <td>4</td>\n      <td>False</td>\n      <td>False</td>\n      <td>False</td>\n      <td>7.500000</td>\n      <td>0</td>\n      <td>Санкт-Петербург</td>\n      <td>NaN</td>\n      <td>10822.0</td>\n      <td>0.0</td>\n      <td>NaN</td>\n      <td>1.0</td>\n      <td>492.0</td>\n      <td>763.0</td>\n    </tr>\n    <tr>\n      <th>44</th>\n      <td>13</td>\n      <td>5350000.0</td>\n      <td>40.000000</td>\n      <td>2018-11-18T00:00:00</td>\n      <td>1</td>\n      <td>2.650391</td>\n      <td>22.0</td>\n      <td>NaN</td>\n      <td>3</td>\n      <td>False</td>\n      <td>False</td>\n      <td>False</td>\n      <td>NaN</td>\n      <td>1</td>\n      <td>Санкт-Петербург</td>\n      <td>NaN</td>\n      <td>11603.0</td>\n      <td>1.0</td>\n      <td>620.0</td>\n      <td>1.0</td>\n      <td>1152.0</td>\n      <td>NaN</td>\n    </tr>\n    <tr>\n      <th>45</th>\n      <td>17</td>\n      <td>5200000.0</td>\n      <td>50.593750</td>\n      <td>2018-12-02T00:00:00</td>\n      <td>2</td>\n      <td>2.650391</td>\n      <td>9.0</td>\n      <td>30.296875</td>\n      <td>7</td>\n      <td>False</td>\n      <td>False</td>\n      <td>False</td>\n      <td>7.000000</td>\n      <td>0</td>\n      <td>Санкт-Петербург</td>\n      <td>NaN</td>\n      <td>12872.0</td>\n      <td>0.0</td>\n      <td>NaN</td>\n      <td>0.0</td>\n      <td>NaN</td>\n      <td>NaN</td>\n    </tr>\n    <tr>\n      <th>46</th>\n      <td>17</td>\n      <td>6600000.0</td>\n      <td>52.093750</td>\n      <td>2019-01-31T00:00:00</td>\n      <td>2</td>\n      <td>2.650391</td>\n      <td>24.0</td>\n      <td>29.703125</td>\n      <td>9</td>\n      <td>False</td>\n      <td>False</td>\n      <td>False</td>\n      <td>8.296875</td>\n      <td>2</td>\n      <td>Санкт-Петербург</td>\n      <td>NaN</td>\n      <td>12702.0</td>\n      <td>0.0</td>\n      <td>NaN</td>\n      <td>0.0</td>\n      <td>NaN</td>\n      <td>NaN</td>\n    </tr>\n    <tr>\n      <th>47</th>\n      <td>17</td>\n      <td>3600000.0</td>\n      <td>56.093750</td>\n      <td>2018-10-18T00:00:00</td>\n      <td>3</td>\n      <td>2.650391</td>\n      <td>4.0</td>\n      <td>42.500000</td>\n      <td>3</td>\n      <td>False</td>\n      <td>False</td>\n      <td>False</td>\n      <td>5.699219</td>\n      <td>1</td>\n      <td>Гатчина</td>\n      <td>NaN</td>\n      <td>NaN</td>\n      <td>0.0</td>\n      <td>NaN</td>\n      <td>NaN</td>\n      <td>NaN</td>\n      <td>179.0</td>\n    </tr>\n    <tr>\n      <th>48</th>\n      <td>10</td>\n      <td>3600000.0</td>\n      <td>33.843750</td>\n      <td>2017-10-03T00:00:00</td>\n      <td>1</td>\n      <td>2.650391</td>\n      <td>24.0</td>\n      <td>15.351562</td>\n      <td>6</td>\n      <td>False</td>\n      <td>False</td>\n      <td>False</td>\n      <td>9.500000</td>\n      <td>0</td>\n      <td>Санкт-Петербург</td>\n      <td>NaN</td>\n      <td>16788.0</td>\n      <td>0.0</td>\n      <td>NaN</td>\n      <td>1.0</td>\n      <td>170.0</td>\n      <td>322.0</td>\n    </tr>\n    <tr>\n      <th>49</th>\n      <td>1</td>\n      <td>3050000.0</td>\n      <td>30.796875</td>\n      <td>2018-11-22T00:00:00</td>\n      <td>1</td>\n      <td>2.650391</td>\n      <td>9.0</td>\n      <td>18.000000</td>\n      <td>7</td>\n      <td>False</td>\n      <td>False</td>\n      <td>False</td>\n      <td>6.000000</td>\n      <td>0</td>\n      <td>Санкт-Петербург</td>\n      <td>NaN</td>\n      <td>16603.0</td>\n      <td>1.0</td>\n      <td>675.0</td>\n      <td>0.0</td>\n      <td>NaN</td>\n      <td>NaN</td>\n    </tr>\n  </tbody>\n</table>\n</div>"
     },
     "execution_count": 118,
     "metadata": {},
     "output_type": "execute_result"
    }
   ],
   "source": [
    "data.head(50)"
   ],
   "metadata": {
    "collapsed": false,
    "pycharm": {
     "name": "#%%\n"
    }
   }
  },
  {
   "cell_type": "markdown",
   "source": [
    "Также из информации о колонках можно сделать следующие выводы:\n",
    "1. в колонке total_images тип int64, хотя диапазон чисел в этой колонке от 0 до 50 - можем изменить тип на int8\n",
    "2. в колонке total_area тип float64, хотя диапазон чисел в этой колонке от 12 до 900 - можем изменить тип на float16\n",
    "3. в колонке first_day_exposition необходимо преобразовать данные в datatype\n",
    "4. в колонке rooms тип int64, хотя диапазон чисел в этой колонке от 0 до 19 - можем изменить тип на int8, также подозрительным выглядит значение 0 в данной колонке\n",
    "5. в колонке ceiling_height тип float64, хотя диапазон чисел в этой колонке от 1 до 100 - можем изменить тип на float8, также подозрительным выглядит значение 1 в данной колонке\n",
    "6. в колонке floors_total тип float64, хотя диапазон чисел в этой колонке от 1 до 60 и хранятся по факту целочисленные значения - можем изменить тип на int8\n",
    "7. в колонке living_area тип float64, хотя диапазон чисел в этой колонке от 2 до 409.7 - можем изменить тип на float16\n",
    "8. в колонке floor тип int64, хотя диапазон чисел в этой колонке от 1 до 33 - можем изменить тип на int8\n",
    "9. в колонке is_apartment тип object, хотя в колонке хранятся булевы значения - можем изменить тип на bool\n",
    "10. в колонке kitchen_area тип float64, хотя диапазон чисел в этой колонке от 1.3 до 112 - можем изменить тип на float8\n",
    "11. в колонке balcony тип float64, хотя диапазон чисел в этой колонке от 0 до 5 и хранятся по факту целочисленные значения - можем изменить тип на int8\n",
    "12. в колонке locality_name данные необходимо привести к нижнему регистру\n",
    "13. в колонке airports_nearest тип float64, хотя диапазон чисел в этой колонке от 0 до 84869 - можем изменить тип на float32, также подозрительным выглядит значение 0 в данной колонке\n",
    "14. в колонке cityCenters_nearest тип float64, хотя диапазон чисел в этой колонке от 181 до 65968 - можем изменить тип на float32, а также изменим название колонки на city_centers_nearest\n",
    "15. в колонке parks_around3000 тип float64, хотя диапазон чисел в этой колонке от 0 до 3 и хранятся по факту целочисленные значения - можем изменить тип на int8, а также изменим название колонки на parks_around_3000\n",
    "16. в колонке parks_nearest тип float64, хотя диапазон чисел в этой колонке от 1 до 31900 и хранятся по факту целочисленные значения - можем изменить тип на int8\n",
    "17. в колонке ponds_around3000 тип float64, хотя диапазон чисел в этой колонке от 0 до 3 и хранятся по факту целочисленные значения - можем изменить тип на int8, а также изменим название колонки на ponds_around_3000\n",
    "18. в колонке ponds_nearest тип float64, хотя диапазон чисел в этой колонке от 13 до 1344 - можем изменить тип на float16\n",
    "19. в колонке days_exposition тип float64, хотя диапазон чисел в этой колонке от 1 до 15800 и хранятся по факту целочисленные значения - можем изменить тип на int16\n"
   ],
   "metadata": {
    "collapsed": false
   }
  },
  {
   "cell_type": "code",
   "execution_count": 117,
   "outputs": [
    {
     "name": "stdout",
     "output_type": "stream",
     "text": [
      "<class 'pandas.core.frame.DataFrame'>\n",
      "RangeIndex: 23699 entries, 0 to 23698\n",
      "Data columns (total 22 columns):\n",
      " #   Column                Non-Null Count  Dtype  \n",
      "---  ------                --------------  -----  \n",
      " 0   total_images          23699 non-null  int8   \n",
      " 1   last_price            23699 non-null  float64\n",
      " 2   total_area            23699 non-null  float16\n",
      " 3   first_day_exposition  23699 non-null  object \n",
      " 4   rooms                 23699 non-null  int8   \n",
      " 5   ceiling_height        23699 non-null  float16\n",
      " 6   floors_total          23613 non-null  float16\n",
      " 7   living_area           21796 non-null  float16\n",
      " 8   floor                 23699 non-null  int8   \n",
      " 9   is_apartment          23699 non-null  bool   \n",
      " 10  studio                23699 non-null  bool   \n",
      " 11  open_plan             23699 non-null  bool   \n",
      " 12  kitchen_area          21421 non-null  float16\n",
      " 13  balcony               23699 non-null  int8   \n",
      " 14  locality_name         23650 non-null  object \n",
      " 15  airports_nearest      2543 non-null   float32\n",
      " 16  cityCenters_nearest   18180 non-null  float32\n",
      " 17  parks_around3000      23699 non-null  float16\n",
      " 18  parks_nearest         8079 non-null   float16\n",
      " 19  ponds_around3000      18181 non-null  float16\n",
      " 20  ponds_nearest         9110 non-null   float16\n",
      " 21  days_exposition       20518 non-null  float16\n",
      "dtypes: bool(3), float16(10), float32(2), float64(1), int8(4), object(2)\n",
      "memory usage: 1.3+ MB\n"
     ]
    }
   ],
   "source": [
    "# преобразуем типы колонок\n",
    "data = data.astype(\n",
    "    {\n",
    "        'total_images': 'int8',\n",
    "        'total_area': 'float16',\n",
    "        'rooms': 'int8',\n",
    "        'ceiling_height': 'float16',\n",
    "        'floors_total': 'float16',\n",
    "        'living_area': 'float16',\n",
    "        'floor': 'int8',\n",
    "        'is_apartment': 'bool',\n",
    "        'kitchen_area': 'float16',\n",
    "        'balcony': 'int8',\n",
    "        'airports_nearest': 'float32',\n",
    "        'cityCenters_nearest': 'float32',\n",
    "        'parks_around3000': 'float16',\n",
    "        'parks_nearest': 'float16',\n",
    "        'ponds_around3000': 'float16',\n",
    "        'ponds_nearest': 'float16',\n",
    "        'days_exposition': 'float16'\n",
    "    }\n",
    ")\n",
    "data.info()"
   ],
   "metadata": {
    "collapsed": false,
    "pycharm": {
     "name": "#%%\n"
    }
   }
  },
  {
   "cell_type": "code",
   "execution_count": 17,
   "outputs": [
    {
     "data": {
      "text/plain": "15624"
     },
     "execution_count": 17,
     "metadata": {},
     "output_type": "execute_result"
    }
   ],
   "source": [
    "len(data.query(\"parks_around3000.isna() or parks_around3000 == 0\"))"
   ],
   "metadata": {
    "collapsed": false,
    "pycharm": {
     "name": "#%%\n"
    }
   }
  },
  {
   "cell_type": "code",
   "execution_count": 9,
   "outputs": [
    {
     "data": {
      "text/plain": "total_images            86\nlast_price              86\ntotal_area              86\nfirst_day_exposition    86\nrooms                   86\nceiling_height           9\nfloors_total             0\nliving_area             53\nfloor                   86\nis_apartment             0\nstudio                  86\nopen_plan               86\nkitchen_area            39\nbalcony                 47\nlocality_name           85\nairports_nearest        76\ncityCenters_nearest     76\nparks_around3000        76\nparks_nearest           34\nponds_around3000        76\nponds_nearest           49\ndays_exposition         77\ndtype: int64"
     },
     "execution_count": 9,
     "metadata": {},
     "output_type": "execute_result"
    }
   ],
   "source": [
    "data.query(\"floors_total.isna()\").count()"
   ],
   "metadata": {
    "collapsed": false,
    "pycharm": {
     "name": "#%%\n"
    }
   }
  },
  {
   "cell_type": "code",
   "execution_count": 18,
   "outputs": [
    {
     "data": {
      "text/plain": "15620"
     },
     "execution_count": 18,
     "metadata": {},
     "output_type": "execute_result"
    }
   ],
   "source": [
    "len(data.query(\"parks_nearest.isna()\"))"
   ],
   "metadata": {
    "collapsed": false,
    "pycharm": {
     "name": "#%%\n"
    }
   }
  },
  {
   "cell_type": "code",
   "execution_count": 32,
   "outputs": [
    {
     "name": "stdout",
     "output_type": "stream",
     "text": [
      "int8: 256; int16: 65536, int32: 4294967296, int64: 18446744073709551616\n"
     ]
    }
   ],
   "source": [
    "print(f'int8: {2**8}; int16: {2**16}, int32: {2**32}, int64: {2**64}')"
   ],
   "metadata": {
    "collapsed": false,
    "pycharm": {
     "name": "#%%\n"
    }
   }
  }
 ],
 "metadata": {
  "kernelspec": {
   "display_name": "Python 3",
   "language": "python",
   "name": "python3"
  },
  "language_info": {
   "codemirror_mode": {
    "name": "ipython",
    "version": 2
   },
   "file_extension": ".py",
   "mimetype": "text/x-python",
   "name": "python",
   "nbconvert_exporter": "python",
   "pygments_lexer": "ipython2",
   "version": "2.7.6"
  }
 },
 "nbformat": 4,
 "nbformat_minor": 0
}