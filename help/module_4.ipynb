{
 "cells": [
  {
   "cell_type": "markdown",
   "source": [
    "## Полезные материалы и ссылки\n",
    "\n",
    "### Про корреляцию\n",
    "Объяснение корреляции: https://tocodata.com/marketing/korrelyaciya.html\n",
    "Методы корреляции чувствительны к выбросам, так что перед их использованием надо очистить данные от выбросов\n",
    "\n",
    "\n",
    "## Про выбор оценщиков моделей\n",
    "\n",
    "`from sklearn.model_selection import KFold, StratifiedKFold, ShuffleSplit`\n",
    "Стратифицированная оценка используется:\n",
    " - в задачах классификации\n",
    " - когда маленькое количество таргетов в датасете (например датасет оттока клиентов из 5млн строк, из них 5к клиентов ушли, 5к строк с таргетом 1 и 4 995 000 с таргетом 0)\n",
    "\n",
    "`from sklearn.model_selection import cross_val_score`\n",
    "Для задач регрессии вызывается cross_val_score без доп. параметров\n",
    "\n",
    "\n",
    "### Про merje() и join()\n",
    "Методы merge() и join() нельзя назвать взаимозаменяемыми. Объединить датафреймы по столбцу с общим названием можно методом merge(), а join() для такой задачи не подойдёт. Методу join() понадобятся общие индексы, которых в датафрейме df1 и df2 нет. Важно не забыть правильный тип объединения — если в общем столбце не все данные совпадают, лучше использовать «внешний» тип слияния outer."
   ],
   "metadata": {
    "collapsed": false
   }
  },
  {
   "cell_type": "code",
   "execution_count": 9,
   "outputs": [
    {
     "name": "stdout",
     "output_type": "stream",
     "text": [
      "1145.9155902616465\n",
      "0.0027401669256310974\n",
      "0.157\n",
      "52.307909793205816\n"
     ]
    }
   ],
   "source": [
    "import math\n",
    "import numpy as np\n",
    "def sin(x):\n",
    "    return 3.14 / x\n",
    "\n",
    "print(np.rad2deg(20))\n",
    "print(sin(np.rad2deg(20)))\n",
    "print(sin(20))\n",
    "print(np.rad2deg(math.sin(20)))"
   ],
   "metadata": {
    "collapsed": false,
    "pycharm": {
     "name": "#%%\n"
    }
   }
  },
  {
   "cell_type": "code",
   "execution_count": 1,
   "outputs": [],
   "source": [
    "def mse(fit, real):\n",
    "    all_err = 0\n",
    "    obj_count = len(fit)\n",
    "    for x, y in zip(fit, real):\n",
    "        all_err += (x - y) ** 2\n",
    "    return all_err / obj_count"
   ],
   "metadata": {
    "collapsed": false,
    "pycharm": {
     "name": "#%%\n"
    }
   }
  },
  {
   "cell_type": "code",
   "execution_count": 13,
   "outputs": [
    {
     "data": {
      "text/plain": "14249.25"
     },
     "execution_count": 13,
     "metadata": {},
     "output_type": "execute_result"
    }
   ],
   "source": [
    "mse(real, fit)"
   ],
   "metadata": {
    "collapsed": false,
    "pycharm": {
     "name": "#%%\n"
    }
   }
  },
  {
   "cell_type": "code",
   "execution_count": 8,
   "outputs": [
    {
     "name": "stdout",
     "output_type": "stream",
     "text": [
      "119.37022241748568\n"
     ]
    }
   ],
   "source": [
    "import math\n",
    "\n",
    "print(math.sqrt(14249.25))"
   ],
   "metadata": {
    "collapsed": false,
    "pycharm": {
     "name": "#%%\n"
    }
   }
  },
  {
   "cell_type": "code",
   "execution_count": 57,
   "outputs": [
    {
     "name": "stdout",
     "output_type": "stream",
     "text": [
      "0 0\n",
      "4 6\n",
      "6 2\n",
      "7 8\n",
      "[6, 6, 6, 6] 11\n"
     ]
    }
   ],
   "source": [
    "ground = [6, 2, 8, 1]\n",
    "\n",
    "mid_value = 0\n",
    "value = 0\n",
    "for i in range(0, len(ground)):\n",
    "    print(mid_value, value)\n",
    "    try:\n",
    "        if abs((ground[i] - ground[i + 1])) > mid_value:\n",
    "            mid_value = abs(ground[i] - ground[i + 1])\n",
    "            value = ground[i]\n",
    "    except IndexError:\n",
    "        if (abs(ground[i] - mid_value)) > mid_value:\n",
    "            mid_value = abs(ground[i] - mid_value)\n",
    "            value = ground[i]\n",
    "counter = 0\n",
    "value = 6\n",
    "for i in range(0, len(ground)):\n",
    "    while ground[i] != value:\n",
    "        if ground[i] > value:\n",
    "            ground[i] -= 1\n",
    "            counter += 1\n",
    "        elif ground[i] < value:\n",
    "            ground[i] += 1\n",
    "            counter += 1\n",
    "        elif ground[i] == value:\n",
    "            break\n",
    "print(ground, counter)"
   ],
   "metadata": {
    "collapsed": false,
    "pycharm": {
     "name": "#%%\n"
    }
   }
  },
  {
   "cell_type": "code",
   "execution_count": null,
   "outputs": [],
   "source": [
    "ground = [6, 2, 8, 1]\n",
    "mid_value = 0\n",
    "value = 0\n",
    "\n",
    "for i in range(0, len(ground)):\n",
    "    for j in range(0, len(ground)):\n",
    "        if ground[i] == ground[j]:\n",
    "            continue\n",
    "        try:\n",
    "            if abs((ground[i] - ground[j])) > mid_value:\n",
    "                mid_value = abs(ground[i] - ground[i + 1])\n",
    "                value = ground[i]\n",
    "        except IndexError:\n",
    "            if (abs(ground[i] - mid_value)) > mid_value:\n",
    "                mid_value = abs(ground[i] - mid_value)\n",
    "                value = ground[i]"
   ],
   "metadata": {
    "collapsed": false,
    "pycharm": {
     "name": "#%%\n"
    }
   }
  },
  {
   "cell_type": "code",
   "execution_count": 66,
   "outputs": [
    {
     "name": "stdout",
     "output_type": "stream",
     "text": [
      "11\n"
     ]
    }
   ],
   "source": [
    "ground = [6, 2, 8, 1]\n",
    "# (6-2) + (6-8) + (6-1)\n",
    "t = []\n",
    "for i in range(0 , len(ground)):\n",
    "    s = []\n",
    "    try:\n",
    "        for j in ground:\n",
    "            s.append(abs(ground[i] - j))\n",
    "    except IndexError:\n",
    "        for j in ground[::-1]:\n",
    "            s.append(abs(ground[i] - j))\n",
    "    t.append(sum(s))\n",
    "print(min(t))"
   ],
   "metadata": {
    "collapsed": false,
    "pycharm": {
     "name": "#%%\n"
    }
   }
  }
 ],
 "metadata": {
  "kernelspec": {
   "display_name": "Python 3",
   "language": "python",
   "name": "python3"
  },
  "language_info": {
   "codemirror_mode": {
    "name": "ipython",
    "version": 2
   },
   "file_extension": ".py",
   "mimetype": "text/x-python",
   "name": "python",
   "nbconvert_exporter": "python",
   "pygments_lexer": "ipython2",
   "version": "2.7.6"
  }
 },
 "nbformat": 4,
 "nbformat_minor": 0
}