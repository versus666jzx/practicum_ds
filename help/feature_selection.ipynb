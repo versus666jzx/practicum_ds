{
 "cells": [
  {
   "cell_type": "markdown",
   "source": [
    "# Отбор признаков (feature selection)"
   ],
   "metadata": {
    "id": "T-O5ILwmKsXe"
   },
   "id": "T-O5ILwmKsXe"
  },
  {
   "cell_type": "code",
   "execution_count": 1,
   "id": "e8e2f415",
   "metadata": {
    "id": "e8e2f415"
   },
   "outputs": [],
   "source": [
    "# preload dataset automatically, if not already in place.\n",
    "import numpy as np\n",
    "import pandas as pd"
   ]
  },
  {
   "cell_type": "markdown",
   "id": "a2961531",
   "metadata": {
    "id": "a2961531"
   },
   "source": [
    "## Преобразования признаков (Feature transformations)\n",
    "\n",
    "Примеры, когда преобразования признаков важны:\n",
    "\n",
    "1) Линейная и логистическая регресии любят работать с нормально распределенными признаками\n",
    "\n",
    "2) KNN требует признаки в одном масштабе, иначе попарные расстояния между точками будут иметь мало смысла. (Аналогично для всех алгоритмов, использующих расстояния между объектами выборки).\n",
    "\n",
    "Самая простая трансформация – это Standart Scaling (она же Z-score normalization).\n",
    "\n",
    "$$ \\large z= \\frac{x-\\mu}{\\sigma} $$\n",
    "\n",
    "StandartScaling хоть и не делает распределение нормальным в строгом смысле слова..."
   ]
  },
  {
   "cell_type": "code",
   "execution_count": 2,
   "id": "049ab201",
   "metadata": {
    "colab": {
     "base_uri": "https://localhost:8080/"
    },
    "id": "049ab201",
    "outputId": "f883c6da-4f85-4e84-a7d2-20024a73efc4"
   },
   "outputs": [
    {
     "data": {
      "text/plain": "ShapiroResult(statistic=0.8505972623825073, pvalue=1.0688128029992867e-29)"
     },
     "execution_count": 2,
     "metadata": {},
     "output_type": "execute_result"
    }
   ],
   "source": [
    "import numpy as np\n",
    "from scipy.stats import beta, shapiro\n",
    "from sklearn.preprocessing import StandardScaler\n",
    "import matplotlib.pyplot as plt\n",
    "\n",
    "data = beta(1, 10).rvs(1000).reshape(-1, 1)\n",
    "\n",
    "#The Shapiro-Wilk test tests the null hypothesis that the data was drawn from a normal distribution.\n",
    "shapiro(data)"
   ]
  },
  {
   "cell_type": "code",
   "source": [
    "fig = plt.hist(data)"
   ],
   "metadata": {
    "colab": {
     "base_uri": "https://localhost:8080/",
     "height": 265
    },
    "id": "dHu0lLzFlgpa",
    "outputId": "fb3f2749-f5b6-4e00-9151-3fdf1e145808"
   },
   "id": "dHu0lLzFlgpa",
   "execution_count": 3,
   "outputs": [
    {
     "data": {
      "text/plain": "<Figure size 432x288 with 1 Axes>",
      "image/png": "[encoded data removed]"
     },
     "metadata": {
      "needs_background": "light"
     },
     "output_type": "display_data"
    }
   ]
  },
  {
   "cell_type": "code",
   "execution_count": 4,
   "id": "729f87f0",
   "metadata": {
    "colab": {
     "base_uri": "https://localhost:8080/"
    },
    "id": "729f87f0",
    "outputId": "1fc102b3-7475-402f-ee23-76aecf07a490"
   },
   "outputs": [
    {
     "data": {
      "text/plain": "ShapiroResult(statistic=0.8505974411964417, pvalue=1.0688590704569351e-29)"
     },
     "execution_count": 4,
     "metadata": {},
     "output_type": "execute_result"
    }
   ],
   "source": [
    "# Value of the statistic, p-value\n",
    "data_scaled = StandardScaler().fit_transform(data)\n",
    "shapiro(data_scaled)\n",
    "\n",
    "# с таким p-value придется отклонять нулевую гипотезу о нормальности данных"
   ]
  },
  {
   "cell_type": "code",
   "source": [
    "fig = plt.hist(data_scaled)\n",
    "plt.title('Преобразованные данные')"
   ],
   "metadata": {
    "colab": {
     "base_uri": "https://localhost:8080/",
     "height": 298
    },
    "id": "hEciCT9OmIoA",
    "outputId": "238bb4ed-00d0-41ae-d3e3-1b22d22b285a"
   },
   "id": "hEciCT9OmIoA",
   "execution_count": 5,
   "outputs": [
    {
     "data": {
      "text/plain": "Text(0.5, 1.0, 'Преобразованные данные')"
     },
     "execution_count": 5,
     "metadata": {},
     "output_type": "execute_result"
    },
    {
     "data": {
      "text/plain": "<Figure size 432x288 with 1 Axes>",
      "image/png": "[encoded data removed]"
     },
     "metadata": {
      "needs_background": "light"
     },
     "output_type": "display_data"
    }
   ]
  },
  {
   "cell_type": "markdown",
   "id": "01adffb2",
   "metadata": {
    "id": "01adffb2"
   },
   "source": [
    "… но в какой-то мере защищает от выбросов"
   ]
  },
  {
   "cell_type": "code",
   "execution_count": 15,
   "id": "219eea4e",
   "metadata": {
    "colab": {
     "base_uri": "https://localhost:8080/"
    },
    "id": "219eea4e",
    "outputId": "172cefdd-b04b-4c8f-bbb2-4049a315b76a"
   },
   "outputs": [
    {
     "output_type": "execute_result",
     "data": {
      "text/plain": [
       "array([[-0.31922662],\n",
       "       [-0.31922662],\n",
       "       [-0.35434155],\n",
       "       [-0.38945648],\n",
       "       [-0.28411169],\n",
       "       [-0.31922662],\n",
       "       [-0.28411169],\n",
       "       [-0.24899676],\n",
       "       [-0.42457141],\n",
       "       [-0.21388184],\n",
       "       [ 3.15715128]])"
      ]
     },
     "metadata": {},
     "execution_count": 15
    }
   ],
   "source": [
    "data = np.array([1, 1, 0, -1, 2, 1, 2, 3, -2, 4, 100]).reshape(-1, 1).astype(np.float64)\n",
    "StandardScaler().fit_transform(data)"
   ]
  },
  {
   "cell_type": "code",
   "execution_count": 16,
   "id": "ee7a6f68",
   "metadata": {
    "colab": {
     "base_uri": "https://localhost:8080/"
    },
    "id": "ee7a6f68",
    "outputId": "f72302c2-4c21-4890-c34d-6b359151ee0f"
   },
   "outputs": [
    {
     "output_type": "execute_result",
     "data": {
      "text/plain": [
       "array([[-0.31922662],\n",
       "       [-0.31922662],\n",
       "       [-0.35434155],\n",
       "       [-0.38945648],\n",
       "       [-0.28411169],\n",
       "       [-0.31922662],\n",
       "       [-0.28411169],\n",
       "       [-0.24899676],\n",
       "       [-0.42457141],\n",
       "       [-0.21388184],\n",
       "       [ 3.15715128]])"
      ]
     },
     "metadata": {},
     "execution_count": 16
    }
   ],
   "source": [
    "(data - data.mean()) / data.std()"
   ]
  },
  {
   "cell_type": "markdown",
   "id": "7cc30b26",
   "metadata": {
    "id": "7cc30b26"
   },
   "source": [
    "Другой достаточно популярный вариант – MinMax Scaling, который переносит все точки на заданный отрезок (обычно (0, 1)).\n",
    "\n",
    "$$ \\large X_{norm}=\\frac{X-X_{min}}{X_{max}-X_{min}} $$"
   ]
  },
  {
   "cell_type": "code",
   "execution_count": 19,
   "id": "3e2d9850",
   "metadata": {
    "colab": {
     "base_uri": "https://localhost:8080/"
    },
    "id": "3e2d9850",
    "outputId": "4f9e4722-5c4e-407d-fac5-5206bcc971f2"
   },
   "outputs": [
    {
     "output_type": "execute_result",
     "data": {
      "text/plain": [
       "array([[0.02941176],\n",
       "       [0.02941176],\n",
       "       [0.01960784],\n",
       "       [0.00980392],\n",
       "       [0.03921569],\n",
       "       [0.02941176],\n",
       "       [0.03921569],\n",
       "       [0.04901961],\n",
       "       [0.        ],\n",
       "       [0.05882353],\n",
       "       [1.        ]])"
      ]
     },
     "metadata": {},
     "execution_count": 19
    }
   ],
   "source": [
    "from sklearn.preprocessing import MinMaxScaler\n",
    "\n",
    "MinMaxScaler().fit_transform(data)"
   ]
  },
  {
   "cell_type": "code",
   "execution_count": 20,
   "id": "110e3168",
   "metadata": {
    "colab": {
     "base_uri": "https://localhost:8080/"
    },
    "id": "110e3168",
    "outputId": "735c6674-b055-44a4-ee7d-27ba568d035e"
   },
   "outputs": [
    {
     "output_type": "execute_result",
     "data": {
      "text/plain": [
       "array([[0.02941176],\n",
       "       [0.02941176],\n",
       "       [0.01960784],\n",
       "       [0.00980392],\n",
       "       [0.03921569],\n",
       "       [0.02941176],\n",
       "       [0.03921569],\n",
       "       [0.04901961],\n",
       "       [0.        ],\n",
       "       [0.05882353],\n",
       "       [1.        ]])"
      ]
     },
     "metadata": {},
     "execution_count": 20
    }
   ],
   "source": [
    "(data - data.min()) / (data.max() - data.min())"
   ]
  },
  {
   "cell_type": "markdown",
   "id": "7c5cde5e",
   "metadata": {
    "id": "7c5cde5e"
   },
   "source": [
    "Если мы предполагаем, что некоторые данные не распределены нормально, зато описываются логнормальным распределением, их можно легко привести к честному нормальному распределению:"
   ]
  },
  {
   "cell_type": "code",
   "execution_count": 21,
   "id": "7d74cfc6",
   "metadata": {
    "colab": {
     "base_uri": "https://localhost:8080/"
    },
    "id": "7d74cfc6",
    "outputId": "83711c9f-331a-4719-8b1d-89dd23a658e5"
   },
   "outputs": [
    {
     "output_type": "execute_result",
     "data": {
      "text/plain": [
       "(0.642488420009613, 2.3782837536520795e-41)"
      ]
     },
     "metadata": {},
     "execution_count": 21
    }
   ],
   "source": [
    "from scipy.stats import lognorm\n",
    "\n",
    "data = lognorm(s=1).rvs(1000)\n",
    "shapiro(data)"
   ]
  },
  {
   "cell_type": "code",
   "source": [
    "fig = plt.hist(data)"
   ],
   "metadata": {
    "colab": {
     "base_uri": "https://localhost:8080/",
     "height": 265
    },
    "id": "a1GUAnwHv_f7",
    "outputId": "1ccfbb60-1d83-4f31-d8d5-84b93940053e"
   },
   "id": "a1GUAnwHv_f7",
   "execution_count": 24,
   "outputs": [
    {
     "output_type": "display_data",
     "data": {
      "text/plain": [
       "<Figure size 432x288 with 1 Axes>"
      ],
      "image/png": "[encoded data removed]"
     },
     "metadata": {
      "needs_background": "light"
     }
    }
   ]
  },
  {
   "cell_type": "code",
   "execution_count": 22,
   "id": "3430b81c",
   "metadata": {
    "colab": {
     "base_uri": "https://localhost:8080/"
    },
    "id": "3430b81c",
    "outputId": "64a96d52-feea-497f-975c-ead3b200239d"
   },
   "outputs": [
    {
     "output_type": "execute_result",
     "data": {
      "text/plain": [
       "(0.9990833401679993, 0.9126176834106445)"
      ]
     },
     "metadata": {},
     "execution_count": 22
    }
   ],
   "source": [
    "shapiro(np.log(data))"
   ]
  },
  {
   "cell_type": "markdown",
   "source": [
    "Более универсальным методом является преобразование Бокса-Кокса\n",
    "$$\n",
    "y = \\frac{(x^\\lambda - 1)}{ \\lambda},  \\text{ for }  \\lambda \\neq 0 \\\\\n",
    "    \\log(x),                  \\text{ for } \\lambda = 0\n",
    "$$"
   ],
   "metadata": {
    "id": "AicG9FmhL-yz"
   },
   "id": "AicG9FmhL-yz"
  },
  {
   "cell_type": "code",
   "source": [
    "from scipy.stats import boxcox\n",
    "\n",
    "shapiro(boxcox(data)[0])"
   ],
   "metadata": {
    "colab": {
     "base_uri": "https://localhost:8080/"
    },
    "id": "ZVqDl26nL-d4",
    "outputId": "115729cb-b7ba-4e9a-c2b6-3b47cd895210"
   },
   "id": "ZVqDl26nL-d4",
   "execution_count": 55,
   "outputs": [
    {
     "output_type": "execute_result",
     "data": {
      "text/plain": [
       "(0.9991226196289062, 0.9286088347434998)"
      ]
     },
     "metadata": {},
     "execution_count": 55
    }
   ]
  },
  {
   "cell_type": "markdown",
   "id": "9eaa1530",
   "metadata": {
    "id": "9eaa1530"
   },
   "source": [
    "Давайте попробуем посмотреть на реальные данные, а для проверки на нормальность будем использовать менее формальный метод – Q-Q график. Для нормального распределения он будет выглядеть как ровная диагональная линия, и визуальные отклонения интуитивно понятны."
   ]
  },
  {
   "cell_type": "code",
   "source": [
    "df = pd.read_csv('data/Churn_Modelling.csv')\n",
    "df.head()"
   ],
   "metadata": {
    "colab": {
     "base_uri": "https://localhost:8080/",
     "height": 270
    },
    "id": "ScSL35-h_gYx",
    "outputId": "57d8c016-00f8-4fe0-aa41-f6ea27aa1f87"
   },
   "id": "ScSL35-h_gYx",
   "execution_count": 2,
   "outputs": [
    {
     "data": {
      "text/plain": "   RowNumber  CustomerId   Surname  CreditScore Geography  Gender  Age  \\\n0          1    15634602  Hargrave          619    France  Female   42   \n1          2    15647311      Hill          608     Spain  Female   41   \n2          3    15619304      Onio          502    France  Female   42   \n3          4    15701354      Boni          699    France  Female   39   \n4          5    15737888  Mitchell          850     Spain  Female   43   \n\n   Tenure    Balance  NumOfProducts  HasCrCard  IsActiveMember  \\\n0       2       0.00              1          1               1   \n1       1   83807.86              1          0               1   \n2       8  159660.80              3          1               0   \n3       1       0.00              2          0               0   \n4       2  125510.82              1          1               1   \n\n   EstimatedSalary  Exited  \n0        101348.88       1  \n1        112542.58       0  \n2        113931.57       1  \n3         93826.63       0  \n4         79084.10       0  ",
      "text/html": "<div>\n<style scoped>\n    .dataframe tbody tr th:only-of-type {\n        vertical-align: middle;\n    }\n\n    .dataframe tbody tr th {\n        vertical-align: top;\n    }\n\n    .dataframe thead th {\n        text-align: right;\n    }\n</style>\n<table border=\"1\" class=\"dataframe\">\n  <thead>\n    <tr style=\"text-align: right;\">\n      <th></th>\n      <th>RowNumber</th>\n      <th>CustomerId</th>\n      <th>Surname</th>\n      <th>CreditScore</th>\n      <th>Geography</th>\n      <th>Gender</th>\n      <th>Age</th>\n      <th>Tenure</th>\n      <th>Balance</th>\n      <th>NumOfProducts</th>\n      <th>HasCrCard</th>\n      <th>IsActiveMember</th>\n      <th>EstimatedSalary</th>\n      <th>Exited</th>\n    </tr>\n  </thead>\n  <tbody>\n    <tr>\n      <th>0</th>\n      <td>1</td>\n      <td>15634602</td>\n      <td>Hargrave</td>\n      <td>619</td>\n      <td>France</td>\n      <td>Female</td>\n      <td>42</td>\n      <td>2</td>\n      <td>0.00</td>\n      <td>1</td>\n      <td>1</td>\n      <td>1</td>\n      <td>101348.88</td>\n      <td>1</td>\n    </tr>\n    <tr>\n      <th>1</th>\n      <td>2</td>\n      <td>15647311</td>\n      <td>Hill</td>\n      <td>608</td>\n      <td>Spain</td>\n      <td>Female</td>\n      <td>41</td>\n      <td>1</td>\n      <td>83807.86</td>\n      <td>1</td>\n      <td>0</td>\n      <td>1</td>\n      <td>112542.58</td>\n      <td>0</td>\n    </tr>\n    <tr>\n      <th>2</th>\n      <td>3</td>\n      <td>15619304</td>\n      <td>Onio</td>\n      <td>502</td>\n      <td>France</td>\n      <td>Female</td>\n      <td>42</td>\n      <td>8</td>\n      <td>159660.80</td>\n      <td>3</td>\n      <td>1</td>\n      <td>0</td>\n      <td>113931.57</td>\n      <td>1</td>\n    </tr>\n    <tr>\n      <th>3</th>\n      <td>4</td>\n      <td>15701354</td>\n      <td>Boni</td>\n      <td>699</td>\n      <td>France</td>\n      <td>Female</td>\n      <td>39</td>\n      <td>1</td>\n      <td>0.00</td>\n      <td>2</td>\n      <td>0</td>\n      <td>0</td>\n      <td>93826.63</td>\n      <td>0</td>\n    </tr>\n    <tr>\n      <th>4</th>\n      <td>5</td>\n      <td>15737888</td>\n      <td>Mitchell</td>\n      <td>850</td>\n      <td>Spain</td>\n      <td>Female</td>\n      <td>43</td>\n      <td>2</td>\n      <td>125510.82</td>\n      <td>1</td>\n      <td>1</td>\n      <td>1</td>\n      <td>79084.10</td>\n      <td>0</td>\n    </tr>\n  </tbody>\n</table>\n</div>"
     },
     "execution_count": 2,
     "metadata": {},
     "output_type": "execute_result"
    }
   ]
  },
  {
   "cell_type": "code",
   "source": [
    "import seaborn as sns\n",
    "from matplotlib.gridspec import GridSpec\n",
    "\n",
    "colors = ['lightcoral','deepskyblue',\n",
    "          'orchid',    'tomato',\n",
    "          'teal',      'darkcyan',\n",
    "          'limegreen', 'darkorange']\n",
    "\n",
    "def distribution_plot(column, title):\n",
    "\n",
    "    fig = plt.figure(figsize=(17, 7))\n",
    "    grid = GridSpec(nrows=2, ncols=1, figure=fig)\n",
    "    color = np.random.choice(colors, 1)[0]\n",
    "\n",
    "    ax0 = fig.add_subplot(grid[0, :])\n",
    "    ax0.set_title(f'Histogram and BoxPlot of {title}')\n",
    "    sns.histplot(column, ax=ax0, color=color)\n",
    "\n",
    "    ax1 = fig.add_subplot(grid[1, :])\n",
    "    plt.axis('off')\n",
    "    sns.boxplot(x=column, ax=ax1, color=color)\n",
    "    print(f'Skewness for {title} =======>>> {column.skew():.3f}')"
   ],
   "metadata": {
    "id": "JuohwJakAeAS"
   },
   "id": "JuohwJakAeAS",
   "execution_count": 34,
   "outputs": []
  },
  {
   "cell_type": "code",
   "source": [
    "distribution_plot(df.Age, 'Age')"
   ],
   "metadata": {
    "colab": {
     "base_uri": "https://localhost:8080/",
     "height": 444
    },
    "id": "UPoscEc-ASNh",
    "outputId": "fefeb412-f308-4f8e-c100-4ca032de7060"
   },
   "id": "UPoscEc-ASNh",
   "execution_count": 37,
   "outputs": [
    {
     "output_type": "stream",
     "name": "stdout",
     "text": [
      "Skewness for Age =======>>> 1.011\n"
     ]
    },
    {
     "output_type": "display_data",
     "data": {
      "text/plain": [
       "<Figure size 1224x504 with 2 Axes>"
      ],
      "image/png": "[encoded data removed]"
     },
     "metadata": {
      "needs_background": "light"
     }
    }
   ]
  },
  {
   "cell_type": "code",
   "execution_count": 51,
   "id": "fa7e1374",
   "metadata": {
    "id": "fa7e1374"
   },
   "outputs": [],
   "source": [
    "# Let's draw plots!\n",
    "import statsmodels.api as sm\n",
    "import scipy\n",
    "\n",
    "# Let's take the price feature from Renthop dataset and filter by hands the most extreme values for clarity\n",
    "\n",
    "age = df['Age']\n",
    "age_log = np.log(df['Age'])\n",
    "\n",
    "# A lot of gestures so that sklearn didn't shower us with warnings\n",
    "age_mm = (\n",
    "    MinMaxScaler()\n",
    "    .fit_transform(age.values.reshape(-1, 1).astype(np.float64))\n",
    "    .flatten()\n",
    ")\n",
    "age_z = (\n",
    "    StandardScaler()\n",
    "    .fit_transform(age.values.reshape(-1, 1).astype(np.float64))\n",
    "    .flatten()\n",
    ")\n",
    "\n",
    "age_bc = scipy.stats.boxcox(age)[0]"
   ]
  },
  {
   "cell_type": "markdown",
   "id": "3df21120",
   "metadata": {
    "id": "3df21120"
   },
   "source": [
    "Q-Q plot of the initial feature"
   ]
  },
  {
   "cell_type": "code",
   "execution_count": 42,
   "id": "1b37c51a",
   "metadata": {
    "colab": {
     "base_uri": "https://localhost:8080/",
     "height": 279
    },
    "id": "1b37c51a",
    "outputId": "cfaf347a-42a6-4cc3-9eb6-0b6fe3765c3d"
   },
   "outputs": [
    {
     "output_type": "display_data",
     "data": {
      "text/plain": [
       "<Figure size 432x288 with 1 Axes>"
      ],
      "image/png": "[encoded data removed]"
     },
     "metadata": {
      "needs_background": "light"
     }
    }
   ],
   "source": [
    "fig = sm.qqplot(age, loc=age.mean(), scale=age.std(), line ='45')"
   ]
  },
  {
   "cell_type": "markdown",
   "id": "5733c709",
   "metadata": {
    "id": "5733c709"
   },
   "source": [
    "Q-Q график признака после StandartScaler. Форма не меняется"
   ]
  },
  {
   "cell_type": "code",
   "execution_count": 43,
   "id": "4a872d8a",
   "metadata": {
    "colab": {
     "base_uri": "https://localhost:8080/",
     "height": 279
    },
    "id": "4a872d8a",
    "outputId": "62be14c2-3568-499c-e51f-49f61c5c3bc2"
   },
   "outputs": [
    {
     "output_type": "display_data",
     "data": {
      "text/plain": [
       "<Figure size 432x288 with 1 Axes>"
      ],
      "image/png": "[encoded data removed]"
     },
     "metadata": {
      "needs_background": "light"
     }
    }
   ],
   "source": [
    "fig = sm.qqplot(age_z, loc=age_z.mean(), scale=age_z.std(), line ='45')"
   ]
  },
  {
   "cell_type": "markdown",
   "id": "9026328e",
   "metadata": {
    "id": "9026328e"
   },
   "source": [
    "Q-Q график признака после MinMaxScaler. Форма не меняется"
   ]
  },
  {
   "cell_type": "code",
   "execution_count": 46,
   "id": "00b1b100",
   "metadata": {
    "colab": {
     "base_uri": "https://localhost:8080/",
     "height": 279
    },
    "id": "00b1b100",
    "outputId": "956c25c5-e94f-4d7c-97a2-ead49833f0c6"
   },
   "outputs": [
    {
     "output_type": "display_data",
     "data": {
      "text/plain": [
       "<Figure size 432x288 with 1 Axes>"
      ],
      "image/png": "[encoded data removed]"
     },
     "metadata": {
      "needs_background": "light"
     }
    }
   ],
   "source": [
    "fig = sm.qqplot(age_mm, loc=age_mm.mean(), scale=age_mm.std(), line ='45')"
   ]
  },
  {
   "cell_type": "markdown",
   "id": "15a99a3a",
   "metadata": {
    "id": "15a99a3a"
   },
   "source": [
    "Q-Q график признака после логарифмирования. Дела пошли на поправку!"
   ]
  },
  {
   "cell_type": "code",
   "execution_count": 47,
   "id": "735be820",
   "metadata": {
    "colab": {
     "base_uri": "https://localhost:8080/",
     "height": 279
    },
    "id": "735be820",
    "outputId": "e1014db8-cbdd-4101-ac97-28f20693971f"
   },
   "outputs": [
    {
     "output_type": "display_data",
     "data": {
      "text/plain": [
       "<Figure size 432x288 with 1 Axes>"
      ],
      "image/png": "[encoded data removed]"
     },
     "metadata": {
      "needs_background": "light"
     }
    }
   ],
   "source": [
    "fig = sm.qqplot(age_log, loc=age_log.mean(), scale=age_log.std(), line ='45')"
   ]
  },
  {
   "cell_type": "markdown",
   "source": [
    "Q-Q график признака после преобразования Бокса-Кокса."
   ],
   "metadata": {
    "id": "Vd9cGTBWLydS"
   },
   "id": "Vd9cGTBWLydS"
  },
  {
   "cell_type": "code",
   "source": [
    "fig = sm.qqplot(age_bc, loc=age_bc.mean(), scale=age_bc.std(), line ='45')"
   ],
   "metadata": {
    "colab": {
     "base_uri": "https://localhost:8080/",
     "height": 279
    },
    "id": "9JypOMduLvt5",
    "outputId": "b736b562-6e2f-42db-d331-ae85b938d6d6"
   },
   "id": "9JypOMduLvt5",
   "execution_count": 54,
   "outputs": [
    {
     "output_type": "display_data",
     "data": {
      "text/plain": [
       "<Figure size 432x288 with 1 Axes>"
      ],
      "image/png": "[encoded data removed]"
     },
     "metadata": {
      "needs_background": "light"
     }
    }
   ]
  },
  {
   "cell_type": "markdown",
   "id": "523b958c",
   "metadata": {
    "id": "523b958c"
   },
   "source": [
    "![image](https://cdn-images-1.medium.com/max/800/0*Ps-v8F0fBgmnG36S.)\n",
    "\n",
    "\n",
    "# Отбор признаков (Feature selection)\n",
    "\n",
    "Зачем отбирать признаки? Можно выделить несколько причин:\n",
    "\n",
    "1) для уменьшения вычислительной сложности расчетов (в реальной задаче признаков может быть сотни и даже тысячи)\n",
    "\n",
    "2) меньше признаков - меньше вероятность, что что-то сломается\n",
    "\n",
    "3) меньше признаков - проще интерпретировать результаты модели\n",
    "\n",
    "4) некоторые алгоритмы склонны переобучаться на неинформативных признаках\n"
   ]
  },
  {
   "cell_type": "markdown",
   "source": [
    "### Статистические подходы\n",
    "\n",
    "Самый простой подход - это убирать признаки низкой вариативности (дисперсии)."
   ],
   "metadata": {
    "id": "0x55krKxWhrV"
   },
   "id": "0x55krKxWhrV"
  },
  {
   "cell_type": "code",
   "execution_count": 5,
   "id": "9f44f659",
   "metadata": {
    "colab": {
     "base_uri": "https://localhost:8080/"
    },
    "id": "9f44f659",
    "outputId": "b7aa8bcf-0342-4625-da8a-f51ba4b7bd16"
   },
   "outputs": [
    {
     "output_type": "execute_result",
     "data": {
      "text/plain": [
       "(100, 20)"
      ]
     },
     "metadata": {},
     "execution_count": 5
    }
   ],
   "source": [
    "from sklearn.datasets import make_classification\n",
    "from sklearn.feature_selection import VarianceThreshold\n",
    "\n",
    "x_data_generated, y_data_generated = make_classification()\n",
    "x_data_generated.shape"
   ]
  },
  {
   "cell_type": "code",
   "execution_count": 58,
   "id": "d1fe692d",
   "metadata": {
    "colab": {
     "base_uri": "https://localhost:8080/"
    },
    "id": "d1fe692d",
    "outputId": "7073b992-6dc4-49f8-ac0b-620699de37df"
   },
   "outputs": [
    {
     "output_type": "execute_result",
     "data": {
      "text/plain": [
       "(100, 20)"
      ]
     },
     "metadata": {},
     "execution_count": 58
    }
   ],
   "source": [
    "VarianceThreshold(0.7).fit_transform(x_data_generated).shape"
   ]
  },
  {
   "cell_type": "code",
   "execution_count": 59,
   "id": "245283b4",
   "metadata": {
    "colab": {
     "base_uri": "https://localhost:8080/"
    },
    "id": "245283b4",
    "outputId": "f39aad36-fd1f-452c-d4f1-045f1a3e4d25"
   },
   "outputs": [
    {
     "output_type": "execute_result",
     "data": {
      "text/plain": [
       "(100, 17)"
      ]
     },
     "metadata": {},
     "execution_count": 59
    }
   ],
   "source": [
    "VarianceThreshold(0.8).fit_transform(x_data_generated).shape"
   ]
  },
  {
   "cell_type": "code",
   "execution_count": 60,
   "id": "83ccfd3f",
   "metadata": {
    "colab": {
     "base_uri": "https://localhost:8080/"
    },
    "id": "83ccfd3f",
    "outputId": "542ba916-30a9-4be0-81a8-3378657a67dc"
   },
   "outputs": [
    {
     "output_type": "execute_result",
     "data": {
      "text/plain": [
       "(100, 15)"
      ]
     },
     "metadata": {},
     "execution_count": 60
    }
   ],
   "source": [
    "VarianceThreshold(0.9).fit_transform(x_data_generated).shape"
   ]
  },
  {
   "cell_type": "markdown",
   "id": "49c91f70",
   "metadata": {
    "id": "49c91f70"
   },
   "source": [
    "Есть и другие способы"
   ]
  },
  {
   "cell_type": "code",
   "execution_count": 6,
   "id": "bf44569f",
   "metadata": {
    "id": "bf44569f"
   },
   "outputs": [],
   "source": [
    "from sklearn.feature_selection import SelectKBest, f_classif\n",
    "from sklearn.linear_model import LogisticRegression\n",
    "from sklearn.model_selection import cross_val_score\n",
    "\n",
    "x_data_kbest = SelectKBest(f_classif, k=10).fit_transform(\n",
    "    x_data_generated, y_data_generated\n",
    ")\n",
    "x_data_varth = VarianceThreshold(0.9).fit_transform(x_data_generated)"
   ]
  },
  {
   "cell_type": "code",
   "execution_count": 15,
   "id": "114cceed",
   "metadata": {
    "id": "114cceed"
   },
   "outputs": [],
   "source": [
    "logit = LogisticRegression(solver=\"lbfgs\", random_state=17)"
   ]
  },
  {
   "cell_type": "code",
   "execution_count": 74,
   "id": "6398ed2b",
   "metadata": {
    "colab": {
     "base_uri": "https://localhost:8080/"
    },
    "id": "6398ed2b",
    "outputId": "951a4836-10ed-4bfe-9af0-1e1f48942661"
   },
   "outputs": [
    {
     "output_type": "execute_result",
     "data": {
      "text/plain": [
       "-0.49195067212349547"
      ]
     },
     "metadata": {},
     "execution_count": 74
    }
   ],
   "source": [
    "cross_val_score(\n",
    "    logit, x_data_generated, y_data_generated, scoring=\"neg_log_loss\", cv=5\n",
    ").mean()"
   ]
  },
  {
   "cell_type": "code",
   "execution_count": 75,
   "id": "59f53ab7",
   "metadata": {
    "colab": {
     "base_uri": "https://localhost:8080/"
    },
    "id": "59f53ab7",
    "outputId": "e72d4e61-0a17-404c-c198-114c5a586b4f"
   },
   "outputs": [
    {
     "output_type": "execute_result",
     "data": {
      "text/plain": [
       "-0.4209839800070741"
      ]
     },
     "metadata": {},
     "execution_count": 75
    }
   ],
   "source": [
    "cross_val_score(\n",
    "    logit, x_data_kbest, y_data_generated, scoring=\"neg_log_loss\", cv=5\n",
    ").mean()"
   ]
  },
  {
   "cell_type": "code",
   "execution_count": 76,
   "id": "417055a8",
   "metadata": {
    "colab": {
     "base_uri": "https://localhost:8080/"
    },
    "id": "417055a8",
    "outputId": "0b459cc9-3950-4d85-edd7-28bfc2bc75f1"
   },
   "outputs": [
    {
     "output_type": "execute_result",
     "data": {
      "text/plain": [
       "-0.4542963589116155"
      ]
     },
     "metadata": {},
     "execution_count": 76
    }
   ],
   "source": [
    "cross_val_score(\n",
    "    logit, x_data_varth, y_data_generated, scoring=\"neg_log_loss\", cv=5\n",
    ").mean()"
   ]
  },
  {
   "cell_type": "markdown",
   "id": "6530c548",
   "metadata": {
    "id": "6530c548"
   },
   "source": [
    "### Отбор с использованием моделей\n",
    "\n",
    "Другой подход: использовать какую-то baseline модель для оценки признаков, при этом модель должна явно показывать важность использованных признаков. Обычно используются два типа моделей: какая-нибудь \"деревянная\" композиция (например, Random Forest) или линейная модель с Lasso регуляризацией, склонной обнулять веса слабых признаков. Логика интутивно понятна: если признаки явно бесполезны в простой модели, то не надо тянуть их и в более сложную."
   ]
  },
  {
   "cell_type": "code",
   "execution_count": 27,
   "id": "900ba220",
   "metadata": {
    "colab": {
     "base_uri": "https://localhost:8080/"
    },
    "id": "900ba220",
    "outputId": "dc613efd-4b90-4ec9-c2a1-6b97f388fa87"
   },
   "outputs": [
    {
     "output_type": "stream",
     "name": "stdout",
     "text": [
      "-0.3105803669432121\n",
      "-0.8144986485849571\n",
      "-0.30143437855620325\n"
     ]
    }
   ],
   "source": [
    "# Synthetic example\n",
    "\n",
    "from sklearn.datasets import make_classification\n",
    "from sklearn.ensemble import RandomForestClassifier\n",
    "from sklearn.feature_selection import SelectFromModel\n",
    "from sklearn.model_selection import cross_val_score\n",
    "from sklearn.pipeline import make_pipeline\n",
    "\n",
    "x_data_generated, y_data_generated = make_classification(1000)\n",
    "\n",
    "rf = RandomForestClassifier(n_estimators=10, random_state=17)\n",
    "pipe = make_pipeline(SelectFromModel(estimator=rf), logit)\n",
    "\n",
    "print(\n",
    "    cross_val_score(\n",
    "        logit, x_data_generated, y_data_generated, scoring=\"neg_log_loss\", cv=5\n",
    "    ).mean()\n",
    ")\n",
    "print(\n",
    "    cross_val_score(\n",
    "        rf, x_data_generated, y_data_generated, scoring=\"neg_log_loss\", cv=5\n",
    "    ).mean()\n",
    ")\n",
    "print(\n",
    "    cross_val_score(\n",
    "        pipe, x_data_generated, y_data_generated, scoring=\"neg_log_loss\", cv=5\n",
    "    ).mean()\n",
    ")"
   ]
  },
  {
   "cell_type": "markdown",
   "id": "ddf74b16",
   "metadata": {
    "id": "ddf74b16"
   },
   "source": [
    "Нельзя забывать, что это тоже не серебряная пуля — может получиться даже хуже."
   ]
  },
  {
   "cell_type": "code",
   "source": [
    "from sklearn.preprocessing import LabelEncoder\n",
    "\n",
    "df['Geography'] = LabelEncoder().fit_transform(df['Geography'], )\n",
    "df['Gender'] = LabelEncoder().fit_transform(df['Gender'])\n",
    "df['Surname'] = LabelEncoder().fit_transform(df['Surname'])"
   ],
   "metadata": {
    "id": "Jmn6hKxHaGiu"
   },
   "id": "Jmn6hKxHaGiu",
   "execution_count": 8,
   "outputs": []
  },
  {
   "cell_type": "code",
   "source": [
    "df.head()"
   ],
   "metadata": {
    "colab": {
     "base_uri": "https://localhost:8080/",
     "height": 270
    },
    "id": "DWzGPfksZxGg",
    "outputId": "de6e4485-edf3-42ea-ddd6-203179405317"
   },
   "id": "DWzGPfksZxGg",
   "execution_count": 88,
   "outputs": [
    {
     "output_type": "execute_result",
     "data": {
      "text/plain": [
       "   RowNumber  CustomerId  Surname  CreditScore  Geography  Gender  Age  \\\n",
       "0          1    15634602     1115          619          0       0   42   \n",
       "1          2    15647311     1177          608          2       0   41   \n",
       "2          3    15619304     2040          502          0       0   42   \n",
       "3          4    15701354      289          699          0       0   39   \n",
       "4          5    15737888     1822          850          2       0   43   \n",
       "\n",
       "   Tenure    Balance  NumOfProducts  HasCrCard  IsActiveMember  \\\n",
       "0       2       0.00              1          1               1   \n",
       "1       1   83807.86              1          0               1   \n",
       "2       8  159660.80              3          1               0   \n",
       "3       1       0.00              2          0               0   \n",
       "4       2  125510.82              1          1               1   \n",
       "\n",
       "   EstimatedSalary  Exited  \n",
       "0        101348.88       1  \n",
       "1        112542.58       0  \n",
       "2        113931.57       1  \n",
       "3         93826.63       0  \n",
       "4         79084.10       0  "
      ],
      "text/html": [
       "\n",
       "  <div id=\"df-e55114bc-4bcb-46b8-ad3c-bce5752f2967\">\n",
       "    <div class=\"colab-df-container\">\n",
       "      <div>\n",
       "<style scoped>\n",
       "    .dataframe tbody tr th:only-of-type {\n",
       "        vertical-align: middle;\n",
       "    }\n",
       "\n",
       "    .dataframe tbody tr th {\n",
       "        vertical-align: top;\n",
       "    }\n",
       "\n",
       "    .dataframe thead th {\n",
       "        text-align: right;\n",
       "    }\n",
       "</style>\n",
       "<table border=\"1\" class=\"dataframe\">\n",
       "  <thead>\n",
       "    <tr style=\"text-align: right;\">\n",
       "      <th></th>\n",
       "      <th>RowNumber</th>\n",
       "      <th>CustomerId</th>\n",
       "      <th>Surname</th>\n",
       "      <th>CreditScore</th>\n",
       "      <th>Geography</th>\n",
       "      <th>Gender</th>\n",
       "      <th>Age</th>\n",
       "      <th>Tenure</th>\n",
       "      <th>Balance</th>\n",
       "      <th>NumOfProducts</th>\n",
       "      <th>HasCrCard</th>\n",
       "      <th>IsActiveMember</th>\n",
       "      <th>EstimatedSalary</th>\n",
       "      <th>Exited</th>\n",
       "    </tr>\n",
       "  </thead>\n",
       "  <tbody>\n",
       "    <tr>\n",
       "      <th>0</th>\n",
       "      <td>1</td>\n",
       "      <td>15634602</td>\n",
       "      <td>1115</td>\n",
       "      <td>619</td>\n",
       "      <td>0</td>\n",
       "      <td>0</td>\n",
       "      <td>42</td>\n",
       "      <td>2</td>\n",
       "      <td>0.00</td>\n",
       "      <td>1</td>\n",
       "      <td>1</td>\n",
       "      <td>1</td>\n",
       "      <td>101348.88</td>\n",
       "      <td>1</td>\n",
       "    </tr>\n",
       "    <tr>\n",
       "      <th>1</th>\n",
       "      <td>2</td>\n",
       "      <td>15647311</td>\n",
       "      <td>1177</td>\n",
       "      <td>608</td>\n",
       "      <td>2</td>\n",
       "      <td>0</td>\n",
       "      <td>41</td>\n",
       "      <td>1</td>\n",
       "      <td>83807.86</td>\n",
       "      <td>1</td>\n",
       "      <td>0</td>\n",
       "      <td>1</td>\n",
       "      <td>112542.58</td>\n",
       "      <td>0</td>\n",
       "    </tr>\n",
       "    <tr>\n",
       "      <th>2</th>\n",
       "      <td>3</td>\n",
       "      <td>15619304</td>\n",
       "      <td>2040</td>\n",
       "      <td>502</td>\n",
       "      <td>0</td>\n",
       "      <td>0</td>\n",
       "      <td>42</td>\n",
       "      <td>8</td>\n",
       "      <td>159660.80</td>\n",
       "      <td>3</td>\n",
       "      <td>1</td>\n",
       "      <td>0</td>\n",
       "      <td>113931.57</td>\n",
       "      <td>1</td>\n",
       "    </tr>\n",
       "    <tr>\n",
       "      <th>3</th>\n",
       "      <td>4</td>\n",
       "      <td>15701354</td>\n",
       "      <td>289</td>\n",
       "      <td>699</td>\n",
       "      <td>0</td>\n",
       "      <td>0</td>\n",
       "      <td>39</td>\n",
       "      <td>1</td>\n",
       "      <td>0.00</td>\n",
       "      <td>2</td>\n",
       "      <td>0</td>\n",
       "      <td>0</td>\n",
       "      <td>93826.63</td>\n",
       "      <td>0</td>\n",
       "    </tr>\n",
       "    <tr>\n",
       "      <th>4</th>\n",
       "      <td>5</td>\n",
       "      <td>15737888</td>\n",
       "      <td>1822</td>\n",
       "      <td>850</td>\n",
       "      <td>2</td>\n",
       "      <td>0</td>\n",
       "      <td>43</td>\n",
       "      <td>2</td>\n",
       "      <td>125510.82</td>\n",
       "      <td>1</td>\n",
       "      <td>1</td>\n",
       "      <td>1</td>\n",
       "      <td>79084.10</td>\n",
       "      <td>0</td>\n",
       "    </tr>\n",
       "  </tbody>\n",
       "</table>\n",
       "</div>\n",
       "      <button class=\"colab-df-convert\" onclick=\"convertToInteractive('df-e55114bc-4bcb-46b8-ad3c-bce5752f2967')\"\n",
       "              title=\"Convert this dataframe to an interactive table.\"\n",
       "              style=\"display:none;\">\n",
       "        \n",
       "  <svg xmlns=\"http://www.w3.org/2000/svg\" height=\"24px\"viewBox=\"0 0 24 24\"\n",
       "       width=\"24px\">\n",
       "    <path d=\"M0 0h24v24H0V0z\" fill=\"none\"/>\n",
       "    <path d=\"M18.56 5.44l.94 2.06.94-2.06 2.06-.94-2.06-.94-.94-2.06-.94 2.06-2.06.94zm-11 1L8.5 8.5l.94-2.06 2.06-.94-2.06-.94L8.5 2.5l-.94 2.06-2.06.94zm10 10l.94 2.06.94-2.06 2.06-.94-2.06-.94-.94-2.06-.94 2.06-2.06.94z\"/><path d=\"M17.41 7.96l-1.37-1.37c-.4-.4-.92-.59-1.43-.59-.52 0-1.04.2-1.43.59L10.3 9.45l-7.72 7.72c-.78.78-.78 2.05 0 2.83L4 21.41c.39.39.9.59 1.41.59.51 0 1.02-.2 1.41-.59l7.78-7.78 2.81-2.81c.8-.78.8-2.07 0-2.86zM5.41 20L4 18.59l7.72-7.72 1.47 1.35L5.41 20z\"/>\n",
       "  </svg>\n",
       "      </button>\n",
       "      \n",
       "  <style>\n",
       "    .colab-df-container {\n",
       "      display:flex;\n",
       "      flex-wrap:wrap;\n",
       "      gap: 12px;\n",
       "    }\n",
       "\n",
       "    .colab-df-convert {\n",
       "      background-color: #E8F0FE;\n",
       "      border: none;\n",
       "      border-radius: 50%;\n",
       "      cursor: pointer;\n",
       "      display: none;\n",
       "      fill: #1967D2;\n",
       "      height: 32px;\n",
       "      padding: 0 0 0 0;\n",
       "      width: 32px;\n",
       "    }\n",
       "\n",
       "    .colab-df-convert:hover {\n",
       "      background-color: #E2EBFA;\n",
       "      box-shadow: 0px 1px 2px rgba(60, 64, 67, 0.3), 0px 1px 3px 1px rgba(60, 64, 67, 0.15);\n",
       "      fill: #174EA6;\n",
       "    }\n",
       "\n",
       "    [theme=dark] .colab-df-convert {\n",
       "      background-color: #3B4455;\n",
       "      fill: #D2E3FC;\n",
       "    }\n",
       "\n",
       "    [theme=dark] .colab-df-convert:hover {\n",
       "      background-color: #434B5C;\n",
       "      box-shadow: 0px 1px 3px 1px rgba(0, 0, 0, 0.15);\n",
       "      filter: drop-shadow(0px 1px 2px rgba(0, 0, 0, 0.3));\n",
       "      fill: #FFFFFF;\n",
       "    }\n",
       "  </style>\n",
       "\n",
       "      <script>\n",
       "        const buttonEl =\n",
       "          document.querySelector('#df-e55114bc-4bcb-46b8-ad3c-bce5752f2967 button.colab-df-convert');\n",
       "        buttonEl.style.display =\n",
       "          google.colab.kernel.accessAllowed ? 'block' : 'none';\n",
       "\n",
       "        async function convertToInteractive(key) {\n",
       "          const element = document.querySelector('#df-e55114bc-4bcb-46b8-ad3c-bce5752f2967');\n",
       "          const dataTable =\n",
       "            await google.colab.kernel.invokeFunction('convertToInteractive',\n",
       "                                                     [key], {});\n",
       "          if (!dataTable) return;\n",
       "\n",
       "          const docLinkHtml = 'Like what you see? Visit the ' +\n",
       "            '<a target=\"_blank\" href=https://colab.research.google.com/notebooks/data_table.ipynb>data table notebook</a>'\n",
       "            + ' to learn more about interactive tables.';\n",
       "          element.innerHTML = '';\n",
       "          dataTable['output_type'] = 'display_data';\n",
       "          await google.colab.output.renderOutput(dataTable, element);\n",
       "          const docLink = document.createElement('div');\n",
       "          docLink.innerHTML = docLinkHtml;\n",
       "          element.appendChild(docLink);\n",
       "        }\n",
       "      </script>\n",
       "    </div>\n",
       "  </div>\n",
       "  "
      ]
     },
     "metadata": {},
     "execution_count": 88
    }
   ]
  },
  {
   "cell_type": "code",
   "execution_count": 17,
   "id": "a3c16c9c",
   "metadata": {
    "colab": {
     "base_uri": "https://localhost:8080/"
    },
    "id": "a3c16c9c",
    "outputId": "c01b483f-f2ab-4a84-eb05-8e4991abd4b9"
   },
   "outputs": [
    {
     "output_type": "stream",
     "name": "stdout",
     "text": [
      "LR + selection:  -0.46040297392476204\n",
      "LR:  -0.43619518809770225\n",
      "RF + selection:  -1.1396321343787972\n",
      "RF:  -0.9346590244226934\n"
     ]
    }
   ],
   "source": [
    "features = ['CreditScore', 'Age', 'Tenure', 'Balance', 'NumOfProducts', \n",
    "            'HasCrCard', 'IsActiveMember', 'EstimatedSalary', 'Surname',\n",
    "            'Geography', 'Gender']\n",
    "\n",
    "x_data = df[features]\n",
    "y_data = df['Exited']\n",
    "\n",
    "pipe1 = make_pipeline(StandardScaler(), SelectFromModel(estimator=rf), logit)\n",
    "\n",
    "pipe2 = make_pipeline(StandardScaler(), logit)\n",
    "\n",
    "pipe3 = make_pipeline(SelectFromModel(estimator=rf), rf)\n",
    "\n",
    "print(\n",
    "    \"LR + selection: \",\n",
    "    cross_val_score(pipe1, x_data, y_data, scoring=\"neg_log_loss\", cv=5).mean(),\n",
    ")\n",
    "print(\n",
    "    \"LR: \", cross_val_score(pipe2, x_data, y_data, scoring=\"neg_log_loss\", cv=5).mean()\n",
    ")\n",
    "print(\n",
    "    \"RF + selection: \", cross_val_score(pipe3, x_data, y_data, scoring=\"neg_log_loss\", cv=5).mean()\n",
    "    )\n",
    "print(\n",
    "    \"RF: \", cross_val_score(rf, x_data, y_data, scoring=\"neg_log_loss\", cv=5).mean()\n",
    "    )\n"
   ]
  },
  {
   "cell_type": "markdown",
   "source": [
    "Так же можно использовать permutation feature importance для отбора признаков, но в этой случае модель должна быть близка к той, которую вы планируете использовать."
   ],
   "metadata": {
    "id": "kR5LPrqLlVOj"
   },
   "id": "kR5LPrqLlVOj"
  },
  {
   "cell_type": "code",
   "source": [
    "from sklearn.inspection import permutation_importance\n",
    "x_data_scaled = StandardScaler().fit_transform(df[features])\n",
    "\n",
    "logit.fit(x_data_scaled, y_data)\n",
    "\n",
    "scoring  = ['neg_log_loss']\n",
    "r = permutation_importance(logit, x_data_scaled, y_data,\n",
    "                           n_repeats=5,\n",
    "                           scoring =scoring,\n",
    "                           random_state=0)\n",
    "r = r['neg_log_loss']\n",
    "for i in r.importances_mean.argsort()[::-1]:\n",
    "    if r.importances_mean[i] - 2 * r.importances_std[i] > 0:\n",
    "        print(f\"{features[i]:<8} \"\n",
    "              f\"{r.importances_mean[i]:.3f} \"\n",
    "              f\" +/- {r.importances_std[i]:.3f}\")\n"
   ],
   "metadata": {
    "colab": {
     "base_uri": "https://localhost:8080/"
    },
    "id": "H57gWeziliJu",
    "outputId": "b1ec600a-120e-4d75-fbba-655ceb37cd56"
   },
   "id": "H57gWeziliJu",
   "execution_count": 33,
   "outputs": [
    {
     "output_type": "stream",
     "name": "stdout",
     "text": [
      "Age      0.092  +/- 0.002\n",
      "IsActiveMember 0.040  +/- 0.001\n",
      "Balance  0.014  +/- 0.001\n",
      "Gender   0.010  +/- 0.001\n",
      "Geography 0.001  +/- 0.000\n",
      "CreditScore 0.000  +/- 0.000\n",
      "EstimatedSalary 0.000  +/- 0.000\n"
     ]
    }
   ]
  },
  {
   "cell_type": "markdown",
   "id": "1a0b3f0c",
   "metadata": {
    "id": "1a0b3f0c"
   },
   "source": [
    "### Перебор\n",
    "Наконец, самый надежный, но и самый вычислительно сложный способ основан на банальном переборе: обучаем модель на подмножестве \"фичей\", запоминаем результат, повторяем для разных подмножеств, сравниваем качество моделей. Такой подход называется [Exhaustive Feature Selection](http://rasbt.github.io/mlxtend/user_guide/feature_selection/ExhaustiveFeatureSelector/).\n",
    "\n",
    "Перебирать все комбинации – обычно слишком долго, так что можно пробовать уменьшить пространство перебора. Фиксируем небольшое число N, перебираем все комбинации по N признаков, выбираем лучшую комбинацию, потом перебираем комбинации из N+1 признаков так, что предыдущая лучшая комбинация признаков зафиксирована, а перебирается только новый признак. Таким образом можно перебирать, пока не упремся в максимально допустимое число признаков или пока качество модели не перестанет значимо расти. Этот алгоритм называется [Sequential Feature Selection](http://rasbt.github.io/mlxtend/user_guide/feature_selection/SequentialFeatureSelector/).\n",
    "\n",
    "Этот же алгоритм можно развернуть: начинать с полного пространства признаков и выкидывать признаки по одному, пока это не портит качество модели или пока не достигнуто желаемое число признаков."
   ]
  },
  {
   "cell_type": "code",
   "source": [
    "from sklearn.feature_selection import SequentialFeatureSelector\n",
    "\n",
    "selector = SequentialFeatureSelector(LogisticRegression(), scoring='neg_log_loss', \n",
    "                                     n_features_to_select=3, direction='forward', \n",
    "                                     n_jobs=-1)\n",
    "\n",
    "x_data_scaled = StandardScaler().fit_transform(df[features])\n",
    "selector.fit(x_data_scaled, y_data)"
   ],
   "metadata": {
    "colab": {
     "base_uri": "https://localhost:8080/"
    },
    "id": "_vEP5jxJgyVr",
    "outputId": "9e98aa58-7f57-4c00-87f9-d44b3ebaba90"
   },
   "id": "_vEP5jxJgyVr",
   "execution_count": 22,
   "outputs": [
    {
     "output_type": "execute_result",
     "data": {
      "text/plain": [
       "SequentialFeatureSelector(estimator=LogisticRegression(),\n",
       "                          n_features_to_select=3, n_jobs=-1,\n",
       "                          scoring='neg_log_loss')"
      ]
     },
     "metadata": {},
     "execution_count": 22
    }
   ]
  },
  {
   "cell_type": "code",
   "source": [
    "np.array(features)[selector.get_support()]"
   ],
   "metadata": {
    "colab": {
     "base_uri": "https://localhost:8080/"
    },
    "id": "IT53DAmAhU_9",
    "outputId": "c5086468-f875-4352-b5ef-9a7731859bec"
   },
   "id": "IT53DAmAhU_9",
   "execution_count": 26,
   "outputs": [
    {
     "output_type": "execute_result",
     "data": {
      "text/plain": [
       "array(['Age', 'Balance', 'IsActiveMember'], dtype='<U15')"
      ]
     },
     "metadata": {},
     "execution_count": 26
    }
   ]
  },
  {
   "cell_type": "code",
   "source": [
    ""
   ],
   "metadata": {
    "id": "pwudTFMuhwpu"
   },
   "id": "pwudTFMuhwpu",
   "execution_count": null,
   "outputs": []
  },
  {
   "cell_type": "markdown",
   "source": [
    "Ссылки:\n",
    "\n",
    "\n",
    "*   https://habr.com/ru/company/ods/blog/325422/\n",
    "*   https://scikit-learn.org/stable/modules/feature_selection.html#univariate-feature-selection\n",
    "\n"
   ],
   "metadata": {
    "id": "MjuO0i7Fkjjz"
   },
   "id": "MjuO0i7Fkjjz"
  },
  {
   "cell_type": "code",
   "source": [
    ""
   ],
   "metadata": {
    "id": "lg-qJVIrktvJ"
   },
   "id": "lg-qJVIrktvJ",
   "execution_count": null,
   "outputs": []
  }
 ],
 "metadata": {
  "jupytext": {
   "formats": "md:myst",
   "text_representation": {
    "extension": ".md",
    "format_name": "myst"
   }
  },
  "kernelspec": {
   "display_name": "Python 3",
   "language": "python",
   "name": "python3"
  },
  "language_info": {
   "codemirror_mode": {
    "name": "ipython",
    "version": 3
   },
   "file_extension": ".py",
   "mimetype": "text/x-python",
   "name": "python",
   "nbconvert_exporter": "python",
   "pygments_lexer": "ipython3",
   "version": "3.8.8"
  },
  "source_map": [
   11,
   34,
   56,
   65,
   101,
   125,
   136,
   144,
   149,
   155,
   157,
   162,
   173,
   206,
   222,
   234,
   244,
   257,
   265,
   271,
   285,
   289,
   305,
   308,
   321,
   325,
   330,
   337,
   342,
   344,
   355,
   369,
   398,
   408,
   413,
   418,
   424,
   426,
   433,
   440,
   442,
   449,
   457,
   459,
   477,
   497,
   502,
   504,
   509,
   511,
   516,
   518,
   523,
   525,
   536,
   540,
   568,
   577,
   582,
   587,
   589,
   594,
   606,
   611,
   618,
   625,
   629,
   638,
   667,
   672,
   689,
   699,
   708
  ],
  "colab": {
   "name": "feature_selection.ipynb",
   "provenance": [],
   "toc_visible": true
  }
 },
 "nbformat": 4,
 "nbformat_minor": 5
}